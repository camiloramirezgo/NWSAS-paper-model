{
 "cells": [
  {
   "cell_type": "code",
   "execution_count": 21,
   "metadata": {},
   "outputs": [],
   "source": [
    "import geopandas as gpd\n",
    "import numpy as np\n",
    "import pandas as pd\n",
    "import shapely\n",
    "import rasterio\n",
    "from rasterio.plot import show\n",
    "from rasterio.fill import fillnodata\n",
    "from rasterio.vrt import WarpedVRT\n",
    "import os"
   ]
  },
  {
   "cell_type": "code",
   "execution_count": 22,
   "metadata": {},
   "outputs": [],
   "source": [
    "path = r'QGIS/Data/Elevation/Elevation  - NWSAS.sdat'\n",
    "outpul_file = r'QGIS/Data/Elevation/Elevation  - NWSAS.tif'\n",
    "with rasterio.open(path) as src:\n",
    "    raster = src.read(1)\n",
    "    out_meta = src.profile.copy()\n",
    "    out_meta.update(driver= \"GTiff\",count=1,compress='lzw')\n",
    "    with rasterio.open(outpul_file, \"w\", **out_meta) as dest:\n",
    "        dest.write(raster, 1)"
   ]
  },
  {
   "cell_type": "code",
   "execution_count": 17,
   "metadata": {},
   "outputs": [
    {
     "data": {
      "image/png": "[encoded data removed]",
      "text/plain": [
       "<Figure size 432x288 with 1 Axes>"
      ]
     },
     "metadata": {
      "needs_background": "light"
     },
     "output_type": "display_data"
    }
   ],
   "source": [
    "path = r'QGIS/Data/Elevation/Elevation  - NWSAS.tif'\n",
    "with rasterio.open(path) as src:\n",
    "    show(src, cmap='terrain')"
   ]
  },
  {
   "cell_type": "code",
   "execution_count": 39,
   "metadata": {},
   "outputs": [],
   "source": [
    "def sample_raster(path, gdf):\n",
    "    with rasterio.open(path) as src:\n",
    "#         out_image = src.read(1)\n",
    "#         mask = (out_image>=src.nodata)\n",
    "#         out_image[out_image==src.nodata] = np.nan\n",
    "#         out_image = fillnodata(out_image, mask)\n",
    "#         with rasterio.open(path, \"w\", **src.meta) as dest:\n",
    "#             dest.write(out_image, 1)\n",
    "#     with rasterio.open(path) as src:\n",
    "        return [float(val) for val in src.sample([(x.coords.xy[0][0], \n",
    "                                                   x.coords.xy[1][0]) for x in \n",
    "                                                   gdf['geometry']])]"
   ]
  },
  {
   "cell_type": "code",
   "execution_count": 31,
   "metadata": {},
   "outputs": [],
   "source": [
    "df = pd.read_csv('nwsas_10km_data.csv')"
   ]
  },
  {
   "cell_type": "code",
   "execution_count": 32,
   "metadata": {},
   "outputs": [],
   "source": [
    "gdf = gpd.GeoDataFrame(df, geometry=gpd.points_from_xy(df.X, df.Y))"
   ]
  },
  {
   "cell_type": "code",
   "execution_count": 33,
   "metadata": {},
   "outputs": [],
   "source": [
    "gdf.crs = \"ESRI:102592\""
   ]
  },
  {
   "cell_type": "code",
   "execution_count": 40,
   "metadata": {},
   "outputs": [],
   "source": [
    "vec = (gdf.CI==1)&((gdf.IrrigatedArea>3)|(gdf.Population>30)) \n",
    "for layer in ['srad','tmin','tmax','tavg']:\n",
    "    for month in range(1,13):\n",
    "        path = f'QGIS/Data/{layer}/nwsas_{layer}{month}.tif'\n",
    "        gdf.loc[vec,f'{layer}_{month}'] = sample_raster(path, gdf.loc[vec].to_crs('EPSG:4326'))"
   ]
  },
  {
   "cell_type": "code",
   "execution_count": 41,
   "metadata": {},
   "outputs": [],
   "source": [
    "path = r'QGIS/Data/Elevation/Elevation  - NWSAS.tif'\n",
    "gdf.loc[vec,f'elevation'] = sample_raster(path, gdf.loc[vec].to_crs('EPSG:4326'))"
   ]
  },
  {
   "cell_type": "code",
   "execution_count": 42,
   "metadata": {},
   "outputs": [],
   "source": [
    "gdf['lat'] = gdf.to_crs('EPSG:4326').geometry.y\n",
    "gdf['long'] = gdf.to_crs('EPSG:4326').geometry.x"
   ]
  },
  {
   "cell_type": "code",
   "execution_count": 46,
   "metadata": {},
   "outputs": [],
   "source": [
    "gdf.to_csv('nwsas_10km_full.gz', index=False)"
   ]
  }
 ],
 "metadata": {
  "kernelspec": {
   "display_name": "Python 3",
   "language": "python",
   "name": "python3"
  },
  "language_info": {
   "codemirror_mode": {
    "name": "ipython",
    "version": 3
   },
   "file_extension": ".py",
   "mimetype": "text/x-python",
   "name": "python",
   "nbconvert_exporter": "python",
   "pygments_lexer": "ipython3",
   "version": "3.8.1"
  }
 },
 "nbformat": 4,
 "nbformat_minor": 4
}
