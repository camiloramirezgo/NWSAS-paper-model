{
 "cells": [
  {
   "cell_type": "markdown",
   "metadata": {},
   "source": [
    "# NEXUS tool: case study for the NWSAS basin - irrigation water demand\n",
    "In this notebook a case study for the NWSAS basin is covered, using the `nexus_tool` package. The water requirements for agricultural irrigation are calculated, then the energy requirements for pumping and desalination of brackish water are estimated and then least-cost options to supply such energy are identified between selected technologies.\n",
    "\n",
    "First import the package by running the following block:"
   ]
  },
  {
   "cell_type": "code",
   "execution_count": 1,
   "metadata": {},
   "outputs": [],
   "source": [
    "%load_ext autoreload"
   ]
  },
  {
   "cell_type": "code",
   "execution_count": 2,
   "metadata": {},
   "outputs": [],
   "source": [
    "%autoreload\n",
    "import nexus_tool"
   ]
  },
  {
   "cell_type": "markdown",
   "metadata": {},
   "source": [
    "After importing all required packages, the input GIS data is loaded into the variable `df`. Change the `file_path` variable to reflect the name and relative location of your data file."
   ]
  },
  {
   "cell_type": "code",
   "execution_count": 3,
   "metadata": {},
   "outputs": [],
   "source": [
    "file_path = r'../nwsas_1km_pre_water_model.gz'\n",
    "df = nexus_tool.read_csv(file_path)"
   ]
  },
  {
   "cell_type": "markdown",
   "metadata": {},
   "source": [
    "## 1. Calculating irrigation water demand\n",
    "To be able to calculate the water demand for agricultural irrigation, it is required to define crop irrigation calendars for each crop type to be assessed. Then an excel file containing the information of the crop calendars is needed. Such file should look something like this:\n",
    "\n",
    "|crop|init_start|init_end|dev_start|dev_end|mid_start|mid_end|late_start|late_end|\n",
    "|:---|:---:|:---:|:---:|:---:|:---:|:---:|:---:|:---:|\n",
    "|dates|01/11|30/03|31/03|04/05|05/05|30/09|01/10|31/10|\n",
    "|vegetables|01/11|25/11|26/11|31/12|01/01|07/02|08/02|28/02|\n",
    "|olives|01/03|30/03|31/06|30/06|01/07|31/08|01/09|30/11|\n",
    "\n",
    "Change the `file_path` variable to reflect the name and relative location of your data file.\n"
   ]
  },
  {
   "cell_type": "code",
   "execution_count": 4,
   "metadata": {},
   "outputs": [],
   "source": [
    "file_path = r'NWSAS_crop_calendar.xlsx'\n",
    "crop_calendar = nexus_tool.read_excel(file_path)"
   ]
  },
  {
   "cell_type": "markdown",
   "metadata": {},
   "source": [
    "### 1.1. Creating the model\n",
    "Once all input data is loaded. To create a model simply create an instance of the `nexus_tool.Model()` class and store it in a variable name. The `nexus_tool.Model()` class requires a dataframe as input data and another dataframe as crop calendar data. Several other properties and parameter values can be defined by explicitly passing values to them. To see a full list of parameters and their explaination refer to the documentation of the package."
   ]
  },
  {
   "cell_type": "code",
   "execution_count": 5,
   "metadata": {},
   "outputs": [],
   "source": [
    "nwsas = nexus_tool.Model(df, crop_calendar = crop_calendar,\n",
    "                         pumping_hours_per_day=10, deff= 1, aeff= 1)"
   ]
  },
  {
   "cell_type": "markdown",
   "metadata": {},
   "source": [
    "After creating the model you can see the default values of the properties by running `nwsas.print_properties()`. Moreover, to define values or property names after creating the model, each property can be called individually and its value can be overwrited as:\n",
    "```python\n",
    "nwsas.eto = \"ETo_\"\n",
    "nwsas.pumping_hours_per_day = 10\n",
    "```\n"
   ]
  },
  {
   "cell_type": "code",
   "execution_count": 6,
   "metadata": {},
   "outputs": [
    {
     "name": "stdout",
     "output_type": "stream",
     "text": [
      "Properties names:\n",
      "    - Reference evapotranspiration (.eto): ETo_\n",
      "    - Latitude (.lat): lat\n",
      "    - Elevation (.elevation): elevation\n",
      "    - Wind speed (.wind): wind\n",
      "    - Solar radiation (.srad): srad\n",
      "    - Min temperature (.tmin): tmin\n",
      "    - Max temperature (.tmax): tmax\n",
      "    - Avegarage temperature (.tavg): tavg\n",
      "    - Cropland share column (.crop_share): crop_share\n",
      "    - Cropland area column (.crop_area): crop_area\n",
      "    - Harvest seasons names (.seasons): ['init', 'dev', 'mid', 'late']\n",
      "    - Seasson start suffix (.start): _start\n",
      "    - Seasson end suffix (.end): _end\n",
      "    - Cropland column (.crop_column): crop\n",
      "    - Groundwater table depth (.gw_depth): gw_depth\n",
      "    - Total dynamic head ground water (.tdh_gw): tdh_gw\n",
      "    - Total dynamic head surface water (.tdh_sw): tdh_sw\n"
     ]
    }
   ],
   "source": [
    "nwsas.print_properties()"
   ]
  },
  {
   "cell_type": "code",
   "execution_count": 7,
   "metadata": {},
   "outputs": [],
   "source": [
    "nwsas.prec = 'prec_'\n",
    "nwsas.wind = 'wind_'\n",
    "nwsas.srad = 'srad_'\n",
    "nwsas.tmin = 'tmin_'\n",
    "nwsas.tmax = 'tmax_'\n",
    "nwsas.tavg = 'tavg_'\n",
    "nwsas.gw_depth = 'GroundwaterDepth'\n",
    "nwsas.crop_area = 'IrrigatedArea'"
   ]
  },
  {
   "cell_type": "markdown",
   "metadata": {},
   "source": [
    "### 1.2. Setting required model parameters\n",
    "To compute the irrigation water requierements, the share of cropland needs to be defined for each data point. That is, to specify the share each croptype has within each data point. To achieve this, first create a dictionary containing all the croplands of the region and assign a share for each. This share should be the default value that most of the data points should have. Specific values for different regions can also be defined, as explined later:\n",
    "```python\n",
    "crop_dic = {'crop1':0.5,'crop2':0.5,'crop3':0,...}\n",
    "```\n",
    "Then, use the `.set_cropland_share()` method to pass this dictionary to the model like:\n",
    "```python\n",
    "nwsas.set_cropland_share(crop_dic, inplace = True)\n",
    "```\n",
    "The option `inplace = True` is used to tell the model to store the dictionary in it.\n",
    "Moreover, to define different cropland share values from the default one, a new dictionary can be passed to specific provinces, cities or regions, by passing a `geo_boundary` and a `boundary_name` for the region in question:\n",
    "```python\n",
    "nwsas.set_cropland_share({'crop1':0.7,'crop2':0.3,'crop3':0,...}, \n",
    "                          geo_boundary = 'province', \n",
    "                          boundary_name = ['province name'], inplace = True)\n",
    "```\n",
    "The `geo_boundary` value needs to match an existent variable in the input dataframe and the `boundary_name` value should exist within the `geo_boundary` column."
   ]
  },
  {
   "cell_type": "code",
   "execution_count": 8,
   "metadata": {},
   "outputs": [],
   "source": [
    "crop_dic = {'dates': 0.5, 'vegetables': 0.50}\n",
    "nwsas.set_cropland_share(crop_dic, inplace=True)\n",
    "# nwsas.set_cropland_share({'dates': 0.65, 'vegetables': 0.35, 'herbaceous': 0.0},\n",
    "#                          geo_boundary='Province',\n",
    "#                          boundary_name=['El Oued'],\n",
    "#                          inplace = True)\n",
    "# nwsas.set_cropland_share({'dates': 0.54, 'vegetables': 0.02, 'herbaceous': 0.44},\n",
    "#                          geo_boundary='Province',\n",
    "#                          boundary_name=['Ouargla'],\n",
    "#                          inplace = True)"
   ]
  },
  {
   "cell_type": "markdown",
   "metadata": {},
   "source": [
    "### 1.3. Setting the ky and kc values\n",
    "The yield responese factor (*ky*), is a coefficient that relates the water uses by a crop throughout the different growing seassons. A definition by the [FAO Irrigation and Drainage Paper](http://www.fao.org/3/i2800e/i2800e.pdf) is a follows:\n",
    ">The yield response factor (Ky) captures the essence of the complex linkages\n",
    "between production and water use by a crop, where many biological,\n",
    "physical and chemical processes are involved. \n",
    "\n",
    "The Ky values are crop specific as:\n",
    "\n",
    ">**Ky > 1**: crop response is very sensitive to water deficit with proportional larger yield reductions\n",
    "when water use is reduced because of stress.  \n",
    "**Ky < 1**: crop is more tolerant to water deficit, and recovers partially from stress, exhibiting less than proportional reductions in yield with reduced water use.  \n",
    "**Ky = 1**: yield reduction is directly proportional to reduced water use.\n",
    "\n",
    "The crop coefficient (*kc*) is a factor that relates the water requirements of a cropland during a specific growing seasson. A definition by the [FAO Irrigation and drainage paper 56](http://www.fao.org/3/x0490e/x0490e0a.htm) goes as follows:\n",
    "\n",
    ">The coefficient integrates differences in the soil evaporation and crop transpiration rate between the crop and the grass reference surface. As soil evaporation may fluctuate daily as a result of rainfall or irrigation, the single crop coefficient expresses only the time-averaged (multi-day) effects of crop evapotranspiration.\n",
    "\n",
    "To define the *ky* values, a dictionary containing the values for each crop type evaluated in the region needs to be passed to the `.ky_dict` parameter of the model. Similarly the *kc* values are passed to the `.kc_dict` parameter as a dictionary containing a list of values for each croptype (i.e. one for each season in order, i.e initial, development, mid and late season)."
   ]
  },
  {
   "cell_type": "code",
   "execution_count": 9,
   "metadata": {},
   "outputs": [],
   "source": [
    "nwsas.ky_dict = {'dates':0.5,\n",
    "                 'vegetables':1.1,\n",
    "#                  'herbaceous':1.1\n",
    "                }\n",
    "nwsas.kc_dict = {'dates': [0.8,0.9,1,0.8], \n",
    "                 'vegetables':[0.5,1,1,0.8],\n",
    "#                  'herbaceous':[0.3,1.15,1.15,0.4]\n",
    "                }"
   ]
  },
  {
   "cell_type": "markdown",
   "metadata": {},
   "source": [
    "### 1.4. Calculating the reference evapotranspiration\n",
    "To calculate the reference evapotranspiration, make sure you have the correct definitions por all the properties in the model (check them with `nwsas.print_properties()`) and the correct input values check them with  (check them with `nwsas.print_inputs()`). Then, run the `nwsas.get_eto(inplace = True)` method."
   ]
  },
  {
   "cell_type": "code",
   "execution_count": 10,
   "metadata": {},
   "outputs": [],
   "source": [
    "nwsas.get_eto(inplace = True)"
   ]
  },
  {
   "cell_type": "markdown",
   "metadata": {},
   "source": [
    "### 1.5. Calculating the effective rainfall\n",
    "The effective rainfall stands for the actuall usable water that is stored in the root zone of the plant. Then, it substract all runoff, evapotranspiration and water that is percolated deeper in the soil and can not be reached by the plant. There are several methods available to compute the effective rainfall, depending on the soil type, climatic region, among other parameters. The one used by the `nexus_tool` package is the **(reference here)**.\n",
    "\n",
    "Get the effective rainfall for al the region by running the method `nwsas.get_effective_rainfall(inplace = True)`."
   ]
  },
  {
   "cell_type": "code",
   "execution_count": 11,
   "metadata": {},
   "outputs": [],
   "source": [
    "nwsas.get_effective_rainfall(inplace=True)"
   ]
  },
  {
   "cell_type": "markdown",
   "metadata": {},
   "source": [
    "### 1.6. Calculating the kc values and standard evapotranspiration\n",
    "To calculate the kc values and get the standar evapotranspiration, run the methods `nwsas.get_calendar_days(inplace = True)` and `nwsas.get_kc_values(inplace = True)` in that order. The former, will map the crop calendars of the crops to every region, and compute the duration of each seasson in days. Then, the *kc* values are calculated according to the days transcurred in each seassons and the values passed in the `kc_dict` input."
   ]
  },
  {
   "cell_type": "code",
   "execution_count": 12,
   "metadata": {},
   "outputs": [],
   "source": [
    "nwsas.get_calendar_days(inplace=True)\n",
    "nwsas.get_kc_values(inplace=True)"
   ]
  },
  {
   "cell_type": "markdown",
   "metadata": {},
   "source": [
    "### 1.7. Geting the irrigation water demand\n",
    "Then everything should be setup to compute the irrigation water demand. For that run the `nwsas.get_water_demand(inplace = True)` method."
   ]
  },
  {
   "cell_type": "code",
   "execution_count": 13,
   "metadata": {},
   "outputs": [],
   "source": [
    "nwsas.get_water_demand(inplace=True)"
   ]
  },
  {
   "cell_type": "markdown",
   "metadata": {},
   "source": [
    "## 2. Displaying and saving the results\n",
    "After the calculations are completed, display a summary of results by running the `nwsas.print_summary()` method. If you run the method without any argument, then the summary values will be dispayed for the entire region, under the label of \"Glogal\". However, if you like to summarize by regions, then pass the argument `geo_boundary` to the function, specifing the variable that you want the results to be grouped by. "
   ]
  },
  {
   "cell_type": "code",
   "execution_count": 14,
   "metadata": {},
   "outputs": [
    {
     "data": {
      "text/html": [
       "<div>\n",
       "<style scoped>\n",
       "    .dataframe tbody tr th:only-of-type {\n",
       "        vertical-align: middle;\n",
       "    }\n",
       "\n",
       "    .dataframe tbody tr th {\n",
       "        vertical-align: top;\n",
       "    }\n",
       "\n",
       "    .dataframe thead th {\n",
       "        text-align: right;\n",
       "    }\n",
       "</style>\n",
       "<table border=\"1\" class=\"dataframe\">\n",
       "  <thead>\n",
       "    <tr style=\"text-align: right;\">\n",
       "      <th></th>\n",
       "      <th>Irrigated area (ha)</th>\n",
       "      <th>Water demand (Mm3)</th>\n",
       "      <th>Water intensity (m3/ha)</th>\n",
       "    </tr>\n",
       "    <tr>\n",
       "      <th>Region</th>\n",
       "      <th></th>\n",
       "      <th></th>\n",
       "      <th></th>\n",
       "    </tr>\n",
       "  </thead>\n",
       "  <tbody>\n",
       "    <tr>\n",
       "      <th>Algeria</th>\n",
       "      <td>287390.6906</td>\n",
       "      <td>1359.669290</td>\n",
       "      <td>4731.083275</td>\n",
       "    </tr>\n",
       "    <tr>\n",
       "      <th>Libya</th>\n",
       "      <td>176116.7195</td>\n",
       "      <td>707.144051</td>\n",
       "      <td>4015.201127</td>\n",
       "    </tr>\n",
       "    <tr>\n",
       "      <th>Tunisia</th>\n",
       "      <td>37066.3271</td>\n",
       "      <td>173.430184</td>\n",
       "      <td>4678.914724</td>\n",
       "    </tr>\n",
       "  </tbody>\n",
       "</table>\n",
       "</div>"
      ],
      "text/plain": [
       "         Irrigated area (ha)  Water demand (Mm3)  Water intensity (m3/ha)\n",
       "Region                                                                   \n",
       "Algeria          287390.6906         1359.669290              4731.083275\n",
       "Libya            176116.7195          707.144051              4015.201127\n",
       "Tunisia           37066.3271          173.430184              4678.914724"
      ]
     },
     "execution_count": 14,
     "metadata": {},
     "output_type": "execute_result"
    }
   ],
   "source": [
    "nwsas.print_summary(geo_boundary = ['Region'])"
   ]
  },
  {
   "cell_type": "code",
   "execution_count": 15,
   "metadata": {},
   "outputs": [],
   "source": [
    "nwsas.df['AgWaterReq'] = nwsas.df.filter(like='SSWD').sum(axis=1) / nwsas.df['IrrigatedArea']"
   ]
  },
  {
   "cell_type": "markdown",
   "metadata": {},
   "source": [
    "Finally, save the results in .csv format, by specifing an output file name and location (`output_file`) and running the `nwsas.df.to_csv(output_file, index = False)` method."
   ]
  },
  {
   "cell_type": "code",
   "execution_count": 16,
   "metadata": {},
   "outputs": [],
   "source": [
    "output_file = r'../nwsas_1km_input_data.gz'\n",
    "nwsas.df.to_csv(output_file, index = False)"
   ]
  },
  {
   "cell_type": "code",
   "execution_count": 18,
   "metadata": {},
   "outputs": [
    {
     "data": {
      "text/html": [
       "<div>\n",
       "<style scoped>\n",
       "    .dataframe tbody tr th:only-of-type {\n",
       "        vertical-align: middle;\n",
       "    }\n",
       "\n",
       "    .dataframe tbody tr th {\n",
       "        vertical-align: top;\n",
       "    }\n",
       "\n",
       "    .dataframe thead th {\n",
       "        text-align: right;\n",
       "    }\n",
       "</style>\n",
       "<table border=\"1\" class=\"dataframe\">\n",
       "  <thead>\n",
       "    <tr style=\"text-align: right;\">\n",
       "      <th></th>\n",
       "      <th>AgWaterReq</th>\n",
       "    </tr>\n",
       "    <tr>\n",
       "      <th>Province</th>\n",
       "      <th></th>\n",
       "    </tr>\n",
       "  </thead>\n",
       "  <tbody>\n",
       "    <tr>\n",
       "      <th>M'Sila</th>\n",
       "      <td>3637.442547</td>\n",
       "    </tr>\n",
       "    <tr>\n",
       "      <th>Al Marqab</th>\n",
       "      <td>3813.101157</td>\n",
       "    </tr>\n",
       "    <tr>\n",
       "      <th>Batna</th>\n",
       "      <td>3816.731638</td>\n",
       "    </tr>\n",
       "    <tr>\n",
       "      <th>Az Zawiyah</th>\n",
       "      <td>3848.064168</td>\n",
       "    </tr>\n",
       "    <tr>\n",
       "      <th>Médenine</th>\n",
       "      <td>4003.538035</td>\n",
       "    </tr>\n",
       "    <tr>\n",
       "      <th>Al Jifarah</th>\n",
       "      <td>4073.049499</td>\n",
       "    </tr>\n",
       "    <tr>\n",
       "      <th>Misratah</th>\n",
       "      <td>4090.052515</td>\n",
       "    </tr>\n",
       "    <tr>\n",
       "      <th>Tripoli</th>\n",
       "      <td>4095.227916</td>\n",
       "    </tr>\n",
       "    <tr>\n",
       "      <th>Surt</th>\n",
       "      <td>4177.774187</td>\n",
       "    </tr>\n",
       "    <tr>\n",
       "      <th>Sfax</th>\n",
       "      <td>4215.917040</td>\n",
       "    </tr>\n",
       "    <tr>\n",
       "      <th>Djelfa</th>\n",
       "      <td>4262.518123</td>\n",
       "    </tr>\n",
       "    <tr>\n",
       "      <th>Gabès</th>\n",
       "      <td>4361.258477</td>\n",
       "    </tr>\n",
       "    <tr>\n",
       "      <th>Gafsa</th>\n",
       "      <td>4426.477645</td>\n",
       "    </tr>\n",
       "    <tr>\n",
       "      <th>Al Jabal al Gharbi</th>\n",
       "      <td>4432.598960</td>\n",
       "    </tr>\n",
       "    <tr>\n",
       "      <th>Laghouat</th>\n",
       "      <td>4450.903616</td>\n",
       "    </tr>\n",
       "    <tr>\n",
       "      <th>Biskra</th>\n",
       "      <td>4498.624968</td>\n",
       "    </tr>\n",
       "    <tr>\n",
       "      <th>Tataouine</th>\n",
       "      <td>4522.536607</td>\n",
       "    </tr>\n",
       "    <tr>\n",
       "      <th>Khenchela</th>\n",
       "      <td>4562.610863</td>\n",
       "    </tr>\n",
       "    <tr>\n",
       "      <th>Tébessa</th>\n",
       "      <td>4644.975850</td>\n",
       "    </tr>\n",
       "    <tr>\n",
       "      <th>Tozeur</th>\n",
       "      <td>4669.596193</td>\n",
       "    </tr>\n",
       "    <tr>\n",
       "      <th>Naâma</th>\n",
       "      <td>4677.940354</td>\n",
       "    </tr>\n",
       "    <tr>\n",
       "      <th>El Bayadh</th>\n",
       "      <td>4682.518286</td>\n",
       "    </tr>\n",
       "    <tr>\n",
       "      <th>Nalut</th>\n",
       "      <td>4731.982764</td>\n",
       "    </tr>\n",
       "    <tr>\n",
       "      <th>Kebili</th>\n",
       "      <td>4845.614179</td>\n",
       "    </tr>\n",
       "    <tr>\n",
       "      <th>El Oued</th>\n",
       "      <td>4949.396104</td>\n",
       "    </tr>\n",
       "    <tr>\n",
       "      <th>Béchar</th>\n",
       "      <td>5312.676139</td>\n",
       "    </tr>\n",
       "    <tr>\n",
       "      <th>Ouargla</th>\n",
       "      <td>5330.559464</td>\n",
       "    </tr>\n",
       "    <tr>\n",
       "      <th>Ghardaïa</th>\n",
       "      <td>5518.966800</td>\n",
       "    </tr>\n",
       "    <tr>\n",
       "      <th>Al Jufrah</th>\n",
       "      <td>5653.326243</td>\n",
       "    </tr>\n",
       "    <tr>\n",
       "      <th>Illizi</th>\n",
       "      <td>6310.098195</td>\n",
       "    </tr>\n",
       "    <tr>\n",
       "      <th>Adrar</th>\n",
       "      <td>6754.523105</td>\n",
       "    </tr>\n",
       "    <tr>\n",
       "      <th>Tamanghasset</th>\n",
       "      <td>6770.780966</td>\n",
       "    </tr>\n",
       "    <tr>\n",
       "      <th>An Nuqat al Khams</th>\n",
       "      <td>NaN</td>\n",
       "    </tr>\n",
       "    <tr>\n",
       "      <th>Ghat</th>\n",
       "      <td>NaN</td>\n",
       "    </tr>\n",
       "    <tr>\n",
       "      <th>Kassérine</th>\n",
       "      <td>NaN</td>\n",
       "    </tr>\n",
       "    <tr>\n",
       "      <th>Mascara</th>\n",
       "      <td>NaN</td>\n",
       "    </tr>\n",
       "    <tr>\n",
       "      <th>Murzuq</th>\n",
       "      <td>NaN</td>\n",
       "    </tr>\n",
       "    <tr>\n",
       "      <th>Sabha</th>\n",
       "      <td>NaN</td>\n",
       "    </tr>\n",
       "    <tr>\n",
       "      <th>Saïda</th>\n",
       "      <td>NaN</td>\n",
       "    </tr>\n",
       "    <tr>\n",
       "      <th>Sidi Bel Abbès</th>\n",
       "      <td>NaN</td>\n",
       "    </tr>\n",
       "    <tr>\n",
       "      <th>Sidi Bou Zid</th>\n",
       "      <td>NaN</td>\n",
       "    </tr>\n",
       "    <tr>\n",
       "      <th>Tiaret</th>\n",
       "      <td>NaN</td>\n",
       "    </tr>\n",
       "    <tr>\n",
       "      <th>Tlemcen</th>\n",
       "      <td>NaN</td>\n",
       "    </tr>\n",
       "    <tr>\n",
       "      <th>Wadi al Hayat</th>\n",
       "      <td>NaN</td>\n",
       "    </tr>\n",
       "    <tr>\n",
       "      <th>Wadi ash Shati'</th>\n",
       "      <td>NaN</td>\n",
       "    </tr>\n",
       "  </tbody>\n",
       "</table>\n",
       "</div>"
      ],
      "text/plain": [
       "                     AgWaterReq\n",
       "Province                       \n",
       "M'Sila              3637.442547\n",
       "Al Marqab           3813.101157\n",
       "Batna               3816.731638\n",
       "Az Zawiyah          3848.064168\n",
       "Médenine            4003.538035\n",
       "Al Jifarah          4073.049499\n",
       "Misratah            4090.052515\n",
       "Tripoli             4095.227916\n",
       "Surt                4177.774187\n",
       "Sfax                4215.917040\n",
       "Djelfa              4262.518123\n",
       "Gabès               4361.258477\n",
       "Gafsa               4426.477645\n",
       "Al Jabal al Gharbi  4432.598960\n",
       "Laghouat            4450.903616\n",
       "Biskra              4498.624968\n",
       "Tataouine           4522.536607\n",
       "Khenchela           4562.610863\n",
       "Tébessa             4644.975850\n",
       "Tozeur              4669.596193\n",
       "Naâma               4677.940354\n",
       "El Bayadh           4682.518286\n",
       "Nalut               4731.982764\n",
       "Kebili              4845.614179\n",
       "El Oued             4949.396104\n",
       "Béchar              5312.676139\n",
       "Ouargla             5330.559464\n",
       "Ghardaïa            5518.966800\n",
       "Al Jufrah           5653.326243\n",
       "Illizi              6310.098195\n",
       "Adrar               6754.523105\n",
       "Tamanghasset        6770.780966\n",
       "An Nuqat al Khams           NaN\n",
       "Ghat                        NaN\n",
       "Kassérine                   NaN\n",
       "Mascara                     NaN\n",
       "Murzuq                      NaN\n",
       "Sabha                       NaN\n",
       "Saïda                       NaN\n",
       "Sidi Bel Abbès              NaN\n",
       "Sidi Bou Zid                NaN\n",
       "Tiaret                      NaN\n",
       "Tlemcen                     NaN\n",
       "Wadi al Hayat               NaN\n",
       "Wadi ash Shati'             NaN"
      ]
     },
     "execution_count": 18,
     "metadata": {},
     "output_type": "execute_result"
    }
   ],
   "source": [
    "nwsas.df.groupby('Province')[['AgWaterReq']].mean().sort_values('AgWaterReq')"
   ]
  }
 ],
 "metadata": {
  "kernelspec": {
   "display_name": "Python 3",
   "language": "python",
   "name": "python3"
  },
  "language_info": {
   "codemirror_mode": {
    "name": "ipython",
    "version": 3
   },
   "file_extension": ".py",
   "mimetype": "text/x-python",
   "name": "python",
   "nbconvert_exporter": "python",
   "pygments_lexer": "ipython3",
   "version": "3.8.5"
  }
 },
 "nbformat": 4,
 "nbformat_minor": 2
}
