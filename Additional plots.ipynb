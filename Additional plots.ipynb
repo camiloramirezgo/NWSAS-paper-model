{
 "cells": [
  {
   "cell_type": "code",
   "execution_count": 57,
   "metadata": {},
   "outputs": [],
   "source": [
    "import pandas as pd\n",
    "import os\n",
    "import numpy as np\n",
    "import plotly.graph_objects as go\n",
    "import plotly.express as px\n",
    "import re"
   ]
  },
  {
   "cell_type": "code",
   "execution_count": 75,
   "metadata": {},
   "outputs": [],
   "source": [
    "data = pd.read_csv('nwsas_1km_full.gz')\n",
    "provinces = pd.read_csv('admin1 names.csv')"
   ]
  },
  {
   "cell_type": "code",
   "execution_count": 77,
   "metadata": {},
   "outputs": [],
   "source": [
    "new_data = pd.merge(data, provinces, left_on='Cluster', right_on='Province')"
   ]
  },
  {
   "cell_type": "code",
   "execution_count": 82,
   "metadata": {},
   "outputs": [],
   "source": [
    "new_data.drop(columns=['Province', 'NAME_0'], inplace=True)\n",
    "new_data.rename(columns={'NAME_1': 'Province'}, inplace=True)"
   ]
  },
  {
   "cell_type": "code",
   "execution_count": 112,
   "metadata": {},
   "outputs": [],
   "source": [
    "new_data.loc[new_data['IrrigatedArea']<10, 'IrrigatedArea'] = 0"
   ]
  },
  {
   "cell_type": "code",
   "execution_count": 115,
   "metadata": {},
   "outputs": [],
   "source": [
    "new_data.to_csv('nwsas_1km_pre_water_model.gz', index=False)"
   ]
  },
  {
   "cell_type": "code",
   "execution_count": 113,
   "metadata": {},
   "outputs": [],
   "source": [
    "summary = new_data.dropna().groupby('Province').agg({'Region': 'first', 'Population': 'sum', 'IrrigatedArea': 'sum'}).reset_index()"
   ]
  },
  {
   "cell_type": "code",
   "execution_count": 114,
   "metadata": {},
   "outputs": [
    {
     "data": {
      "text/html": [
       "<div>\n",
       "<style scoped>\n",
       "    .dataframe tbody tr th:only-of-type {\n",
       "        vertical-align: middle;\n",
       "    }\n",
       "\n",
       "    .dataframe tbody tr th {\n",
       "        vertical-align: top;\n",
       "    }\n",
       "\n",
       "    .dataframe thead th {\n",
       "        text-align: right;\n",
       "    }\n",
       "</style>\n",
       "<table border=\"1\" class=\"dataframe\">\n",
       "  <thead>\n",
       "    <tr style=\"text-align: right;\">\n",
       "      <th></th>\n",
       "      <th>Province</th>\n",
       "      <th>Region</th>\n",
       "      <th>Population</th>\n",
       "      <th>IrrigatedArea</th>\n",
       "    </tr>\n",
       "  </thead>\n",
       "  <tbody>\n",
       "    <tr>\n",
       "      <th>0</th>\n",
       "      <td>Adrar</td>\n",
       "      <td>Algeria</td>\n",
       "      <td>307236.949194</td>\n",
       "      <td>14897.2577</td>\n",
       "    </tr>\n",
       "    <tr>\n",
       "      <th>17</th>\n",
       "      <td>Khenchela</td>\n",
       "      <td>Algeria</td>\n",
       "      <td>5786.907740</td>\n",
       "      <td>29265.1671</td>\n",
       "    </tr>\n",
       "    <tr>\n",
       "      <th>31</th>\n",
       "      <td>Tébessa</td>\n",
       "      <td>Algeria</td>\n",
       "      <td>4127.011020</td>\n",
       "      <td>5990.5572</td>\n",
       "    </tr>\n",
       "    <tr>\n",
       "      <th>15</th>\n",
       "      <td>Illizi</td>\n",
       "      <td>Algeria</td>\n",
       "      <td>15635.142358</td>\n",
       "      <td>170.3890</td>\n",
       "    </tr>\n",
       "    <tr>\n",
       "      <th>14</th>\n",
       "      <td>Ghardaïa</td>\n",
       "      <td>Algeria</td>\n",
       "      <td>365748.341028</td>\n",
       "      <td>13300.4495</td>\n",
       "    </tr>\n",
       "    <tr>\n",
       "      <th>11</th>\n",
       "      <td>El Oued</td>\n",
       "      <td>Algeria</td>\n",
       "      <td>752704.769040</td>\n",
       "      <td>51002.9052</td>\n",
       "    </tr>\n",
       "    <tr>\n",
       "      <th>10</th>\n",
       "      <td>El Bayadh</td>\n",
       "      <td>Algeria</td>\n",
       "      <td>25062.441749</td>\n",
       "      <td>3108.7590</td>\n",
       "    </tr>\n",
       "    <tr>\n",
       "      <th>18</th>\n",
       "      <td>Laghouat</td>\n",
       "      <td>Algeria</td>\n",
       "      <td>387435.192146</td>\n",
       "      <td>24332.2907</td>\n",
       "    </tr>\n",
       "    <tr>\n",
       "      <th>9</th>\n",
       "      <td>Djelfa</td>\n",
       "      <td>Algeria</td>\n",
       "      <td>221255.869260</td>\n",
       "      <td>26197.8120</td>\n",
       "    </tr>\n",
       "    <tr>\n",
       "      <th>7</th>\n",
       "      <td>Biskra</td>\n",
       "      <td>Algeria</td>\n",
       "      <td>752534.203590</td>\n",
       "      <td>91809.6676</td>\n",
       "    </tr>\n",
       "    <tr>\n",
       "      <th>6</th>\n",
       "      <td>Batna</td>\n",
       "      <td>Algeria</td>\n",
       "      <td>235.270000</td>\n",
       "      <td>356.2680</td>\n",
       "    </tr>\n",
       "    <tr>\n",
       "      <th>23</th>\n",
       "      <td>Naâma</td>\n",
       "      <td>Algeria</td>\n",
       "      <td>23.461617</td>\n",
       "      <td>82.8374</td>\n",
       "    </tr>\n",
       "    <tr>\n",
       "      <th>24</th>\n",
       "      <td>Ouargla</td>\n",
       "      <td>Algeria</td>\n",
       "      <td>566222.174953</td>\n",
       "      <td>10329.7543</td>\n",
       "    </tr>\n",
       "    <tr>\n",
       "      <th>27</th>\n",
       "      <td>Tamanghasset</td>\n",
       "      <td>Algeria</td>\n",
       "      <td>50700.035690</td>\n",
       "      <td>1118.6414</td>\n",
       "    </tr>\n",
       "    <tr>\n",
       "      <th>8</th>\n",
       "      <td>Béchar</td>\n",
       "      <td>Algeria</td>\n",
       "      <td>41813.704937</td>\n",
       "      <td>1774.6055</td>\n",
       "    </tr>\n",
       "    <tr>\n",
       "      <th>19</th>\n",
       "      <td>M'Sila</td>\n",
       "      <td>Algeria</td>\n",
       "      <td>9300.578150</td>\n",
       "      <td>13295.0404</td>\n",
       "    </tr>\n",
       "    <tr>\n",
       "      <th>22</th>\n",
       "      <td>Nalut</td>\n",
       "      <td>Libya</td>\n",
       "      <td>33754.915632</td>\n",
       "      <td>3899.4171</td>\n",
       "    </tr>\n",
       "    <tr>\n",
       "      <th>20</th>\n",
       "      <td>Misratah</td>\n",
       "      <td>Libya</td>\n",
       "      <td>362258.956010</td>\n",
       "      <td>74356.3989</td>\n",
       "    </tr>\n",
       "    <tr>\n",
       "      <th>26</th>\n",
       "      <td>Surt</td>\n",
       "      <td>Libya</td>\n",
       "      <td>4356.696671</td>\n",
       "      <td>4890.0999</td>\n",
       "    </tr>\n",
       "    <tr>\n",
       "      <th>30</th>\n",
       "      <td>Tripoli</td>\n",
       "      <td>Libya</td>\n",
       "      <td>2911.333800</td>\n",
       "      <td>244.4713</td>\n",
       "    </tr>\n",
       "    <tr>\n",
       "      <th>32</th>\n",
       "      <td>Wadi ash Shati'</td>\n",
       "      <td>Libya</td>\n",
       "      <td>1.760153</td>\n",
       "      <td>0.0000</td>\n",
       "    </tr>\n",
       "    <tr>\n",
       "      <th>5</th>\n",
       "      <td>Az Zawiyah</td>\n",
       "      <td>Libya</td>\n",
       "      <td>5674.841500</td>\n",
       "      <td>1309.9080</td>\n",
       "    </tr>\n",
       "    <tr>\n",
       "      <th>4</th>\n",
       "      <td>Al Marqab</td>\n",
       "      <td>Libya</td>\n",
       "      <td>437924.682050</td>\n",
       "      <td>75467.1982</td>\n",
       "    </tr>\n",
       "    <tr>\n",
       "      <th>3</th>\n",
       "      <td>Al Jufrah</td>\n",
       "      <td>Libya</td>\n",
       "      <td>17488.709510</td>\n",
       "      <td>7936.2250</td>\n",
       "    </tr>\n",
       "    <tr>\n",
       "      <th>2</th>\n",
       "      <td>Al Jifarah</td>\n",
       "      <td>Libya</td>\n",
       "      <td>27004.661600</td>\n",
       "      <td>4634.8525</td>\n",
       "    </tr>\n",
       "    <tr>\n",
       "      <th>1</th>\n",
       "      <td>Al Jabal al Gharbi</td>\n",
       "      <td>Libya</td>\n",
       "      <td>184306.825466</td>\n",
       "      <td>2307.9973</td>\n",
       "    </tr>\n",
       "    <tr>\n",
       "      <th>21</th>\n",
       "      <td>Médenine</td>\n",
       "      <td>Tunisia</td>\n",
       "      <td>10076.528000</td>\n",
       "      <td>243.1242</td>\n",
       "    </tr>\n",
       "    <tr>\n",
       "      <th>12</th>\n",
       "      <td>Gabès</td>\n",
       "      <td>Tunisia</td>\n",
       "      <td>46962.786020</td>\n",
       "      <td>2379.3854</td>\n",
       "    </tr>\n",
       "    <tr>\n",
       "      <th>25</th>\n",
       "      <td>Sfax</td>\n",
       "      <td>Tunisia</td>\n",
       "      <td>740.749030</td>\n",
       "      <td>350.8801</td>\n",
       "    </tr>\n",
       "    <tr>\n",
       "      <th>28</th>\n",
       "      <td>Tataouine</td>\n",
       "      <td>Tunisia</td>\n",
       "      <td>20656.788464</td>\n",
       "      <td>24.2451</td>\n",
       "    </tr>\n",
       "    <tr>\n",
       "      <th>29</th>\n",
       "      <td>Tozeur</td>\n",
       "      <td>Tunisia</td>\n",
       "      <td>80467.901700</td>\n",
       "      <td>8356.7991</td>\n",
       "    </tr>\n",
       "    <tr>\n",
       "      <th>13</th>\n",
       "      <td>Gafsa</td>\n",
       "      <td>Tunisia</td>\n",
       "      <td>118517.344330</td>\n",
       "      <td>5440.9800</td>\n",
       "    </tr>\n",
       "    <tr>\n",
       "      <th>16</th>\n",
       "      <td>Kebili</td>\n",
       "      <td>Tunisia</td>\n",
       "      <td>113628.031130</td>\n",
       "      <td>19917.3391</td>\n",
       "    </tr>\n",
       "  </tbody>\n",
       "</table>\n",
       "</div>"
      ],
      "text/plain": [
       "              Province   Region     Population  IrrigatedArea\n",
       "0                Adrar  Algeria  307236.949194     14897.2577\n",
       "17           Khenchela  Algeria    5786.907740     29265.1671\n",
       "31             Tébessa  Algeria    4127.011020      5990.5572\n",
       "15              Illizi  Algeria   15635.142358       170.3890\n",
       "14            Ghardaïa  Algeria  365748.341028     13300.4495\n",
       "11             El Oued  Algeria  752704.769040     51002.9052\n",
       "10           El Bayadh  Algeria   25062.441749      3108.7590\n",
       "18            Laghouat  Algeria  387435.192146     24332.2907\n",
       "9               Djelfa  Algeria  221255.869260     26197.8120\n",
       "7               Biskra  Algeria  752534.203590     91809.6676\n",
       "6                Batna  Algeria     235.270000       356.2680\n",
       "23               Naâma  Algeria      23.461617        82.8374\n",
       "24             Ouargla  Algeria  566222.174953     10329.7543\n",
       "27        Tamanghasset  Algeria   50700.035690      1118.6414\n",
       "8               Béchar  Algeria   41813.704937      1774.6055\n",
       "19              M'Sila  Algeria    9300.578150     13295.0404\n",
       "22               Nalut    Libya   33754.915632      3899.4171\n",
       "20            Misratah    Libya  362258.956010     74356.3989\n",
       "26                Surt    Libya    4356.696671      4890.0999\n",
       "30             Tripoli    Libya    2911.333800       244.4713\n",
       "32     Wadi ash Shati'    Libya       1.760153         0.0000\n",
       "5           Az Zawiyah    Libya    5674.841500      1309.9080\n",
       "4            Al Marqab    Libya  437924.682050     75467.1982\n",
       "3            Al Jufrah    Libya   17488.709510      7936.2250\n",
       "2           Al Jifarah    Libya   27004.661600      4634.8525\n",
       "1   Al Jabal al Gharbi    Libya  184306.825466      2307.9973\n",
       "21            Médenine  Tunisia   10076.528000       243.1242\n",
       "12               Gabès  Tunisia   46962.786020      2379.3854\n",
       "25                Sfax  Tunisia     740.749030       350.8801\n",
       "28           Tataouine  Tunisia   20656.788464        24.2451\n",
       "29              Tozeur  Tunisia   80467.901700      8356.7991\n",
       "13               Gafsa  Tunisia  118517.344330      5440.9800\n",
       "16              Kebili  Tunisia  113628.031130     19917.3391"
      ]
     },
     "execution_count": 114,
     "metadata": {},
     "output_type": "execute_result"
    }
   ],
   "source": [
    "summary.sort_values('Region')"
   ]
  },
  {
   "cell_type": "code",
   "execution_count": 58,
   "metadata": {},
   "outputs": [],
   "source": [
    "df = pd.read_csv(os.path.join('1km_test_avg',\n",
    "                              'Sub ag water - Low pop water',\n",
    "                              'Sub ag water - Low pop water.gz'))"
   ]
  },
  {
   "cell_type": "code",
   "execution_count": 69,
   "metadata": {},
   "outputs": [
    {
     "data": {
      "text/plain": [
       "['X',\n",
       " 'Y',\n",
       " 'CI',\n",
       " 'GroundwaterDepth',\n",
       " 'IrrigatedArea',\n",
       " 'Population',\n",
       " 'Region',\n",
       " 'TDS',\n",
       " 'geometry',\n",
       " 'prec_1',\n",
       " 'prec_2',\n",
       " 'prec_3',\n",
       " 'prec_4',\n",
       " 'prec_5',\n",
       " 'prec_6',\n",
       " 'prec_7',\n",
       " 'prec_8',\n",
       " 'prec_9',\n",
       " 'prec_10',\n",
       " 'prec_11',\n",
       " 'prec_12',\n",
       " 'wind_1',\n",
       " 'wind_2',\n",
       " 'wind_3',\n",
       " 'wind_4',\n",
       " 'wind_5',\n",
       " 'wind_6',\n",
       " 'wind_7',\n",
       " 'wind_8',\n",
       " 'wind_9',\n",
       " 'wind_10',\n",
       " 'wind_11',\n",
       " 'wind_12',\n",
       " 'tmin_1',\n",
       " 'tmin_2',\n",
       " 'tmin_3',\n",
       " 'tmin_4',\n",
       " 'tmin_5',\n",
       " 'tmin_6',\n",
       " 'tmin_7',\n",
       " 'tmin_8',\n",
       " 'tmin_9',\n",
       " 'tmin_10',\n",
       " 'tmin_11',\n",
       " 'tmin_12',\n",
       " 'tmax_1',\n",
       " 'tmax_2',\n",
       " 'tmax_3',\n",
       " 'tmax_4',\n",
       " 'tmax_5',\n",
       " 'tmax_6',\n",
       " 'tmax_7',\n",
       " 'tmax_8',\n",
       " 'tmax_9',\n",
       " 'tmax_10',\n",
       " 'tmax_11',\n",
       " 'tmax_12',\n",
       " 'tavg_1',\n",
       " 'tavg_2',\n",
       " 'tavg_3',\n",
       " 'tavg_4',\n",
       " 'tavg_5',\n",
       " 'tavg_6',\n",
       " 'tavg_7',\n",
       " 'tavg_8',\n",
       " 'tavg_9',\n",
       " 'tavg_10',\n",
       " 'tavg_11',\n",
       " 'tavg_12',\n",
       " 'elevation',\n",
       " 'lat',\n",
       " 'long',\n",
       " 'srad_1',\n",
       " 'srad_2',\n",
       " 'srad_3',\n",
       " 'srad_4',\n",
       " 'srad_5',\n",
       " 'srad_6',\n",
       " 'srad_7',\n",
       " 'srad_8',\n",
       " 'srad_9',\n",
       " 'srad_10',\n",
       " 'srad_11',\n",
       " 'srad_12',\n",
       " 'crop_share',\n",
       " 'ETo_1',\n",
       " 'ETo_2',\n",
       " 'ETo_3',\n",
       " 'ETo_4',\n",
       " 'ETo_5',\n",
       " 'ETo_6',\n",
       " 'ETo_7',\n",
       " 'ETo_8',\n",
       " 'ETo_9',\n",
       " 'ETo_10',\n",
       " 'ETo_11',\n",
       " 'ETo_12',\n",
       " 'eff_1',\n",
       " 'eff_2',\n",
       " 'eff_3',\n",
       " 'eff_4',\n",
       " 'eff_5',\n",
       " 'eff_6',\n",
       " 'eff_7',\n",
       " 'eff_8',\n",
       " 'eff_9',\n",
       " 'eff_10',\n",
       " 'eff_11',\n",
       " 'eff_12',\n",
       " 'PCWR_1',\n",
       " 'PWD_1',\n",
       " 'SSWD_1',\n",
       " 'PCWR_2',\n",
       " 'PWD_2',\n",
       " 'SSWD_2',\n",
       " 'PCWR_3',\n",
       " 'PWD_3',\n",
       " 'SSWD_3',\n",
       " 'PCWR_4',\n",
       " 'PWD_4',\n",
       " 'SSWD_4',\n",
       " 'PCWR_5',\n",
       " 'PWD_5',\n",
       " 'SSWD_5',\n",
       " 'PCWR_6',\n",
       " 'PWD_6',\n",
       " 'SSWD_6',\n",
       " 'PCWR_7',\n",
       " 'PWD_7',\n",
       " 'SSWD_7',\n",
       " 'PCWR_8',\n",
       " 'PWD_8',\n",
       " 'SSWD_8',\n",
       " 'PCWR_9',\n",
       " 'PWD_9',\n",
       " 'SSWD_9',\n",
       " 'PCWR_10',\n",
       " 'PWD_10',\n",
       " 'SSWD_10',\n",
       " 'PCWR_11',\n",
       " 'PWD_11',\n",
       " 'SSWD_11',\n",
       " 'PCWR_12',\n",
       " 'PWD_12',\n",
       " 'SSWD_12',\n",
       " 'kc_1_dates',\n",
       " 'ACWR_1_dates',\n",
       " 'harvest_1_dates',\n",
       " 'kc_2_dates',\n",
       " 'ACWR_2_dates',\n",
       " 'harvest_2_dates',\n",
       " 'kc_3_dates',\n",
       " 'ACWR_3_dates',\n",
       " 'harvest_3_dates',\n",
       " 'kc_4_dates',\n",
       " 'ACWR_4_dates',\n",
       " 'harvest_4_dates',\n",
       " 'kc_5_dates',\n",
       " 'ACWR_5_dates',\n",
       " 'harvest_5_dates',\n",
       " 'kc_6_dates',\n",
       " 'ACWR_6_dates',\n",
       " 'harvest_6_dates',\n",
       " 'kc_7_dates',\n",
       " 'ACWR_7_dates',\n",
       " 'harvest_7_dates',\n",
       " 'kc_8_dates',\n",
       " 'ACWR_8_dates',\n",
       " 'harvest_8_dates',\n",
       " 'kc_9_dates',\n",
       " 'ACWR_9_dates',\n",
       " 'harvest_9_dates',\n",
       " 'kc_10_dates',\n",
       " 'ACWR_10_dates',\n",
       " 'harvest_10_dates',\n",
       " 'kc_11_dates',\n",
       " 'ACWR_11_dates',\n",
       " 'harvest_11_dates',\n",
       " 'kc_12_dates',\n",
       " 'ACWR_12_dates',\n",
       " 'harvest_12_dates',\n",
       " 'AgWaterReq',\n",
       " 'IsUrban',\n",
       " 'PopulationFuture',\n",
       " 'IrrigatedAreaFuture',\n",
       " 'IrrigatedAreaAverage',\n",
       " 'IrrigationWater',\n",
       " 'IrrigationWaterFuture',\n",
       " 'IrrigationWaterAverage',\n",
       " 'PopulationWaterFuture',\n",
       " 'PopulationWaterAverage',\n",
       " 'PopulationWater',\n",
       " 'TotalWithdrawals',\n",
       " 'TotalAverageWithdrawals',\n",
       " 'RechargeRate',\n",
       " 'EnvironmentalFlow',\n",
       " 'GroundwaterStress',\n",
       " 'GWPumpingEnergy',\n",
       " 'GroundwaterSolutes',\n",
       " 'GroundwaterTemperature',\n",
       " 'DesalinationEnergy',\n",
       " 'IrrigationPumpingEnergy',\n",
       " 'IrrigationDesalinationEnergy',\n",
       " 'IrrigationEnergyTotal',\n",
       " 'Cluster',\n",
       " 'PopulationPerCluster',\n",
       " 'PopulationFuturePerCluster',\n",
       " 'IrrigatedAreaPerCluster',\n",
       " 'IrrigatedAreaFuturePerCluster',\n",
       " 'PopulationWaterPerCluster',\n",
       " 'PopulationWaterFuturePerCluster',\n",
       " 'IrrigationWaterPerCluster',\n",
       " 'IrrigationWaterFuturePerCluster',\n",
       " 'PopulationWaterAveragePerCluster',\n",
       " 'IrrigationWaterAveragePerCluster',\n",
       " 'eto_1',\n",
       " 'eto_2',\n",
       " 'eto_3',\n",
       " 'eto_4',\n",
       " 'eto_5',\n",
       " 'eto_6',\n",
       " 'eto_7',\n",
       " 'eto_8',\n",
       " 'eto_9',\n",
       " 'eto_10',\n",
       " 'eto_11',\n",
       " 'eto_12',\n",
       " 'available_storage',\n",
       " 'leakage_month',\n",
       " 'stored_1',\n",
       " 'stored_percentage_1',\n",
       " 'stored_2',\n",
       " 'stored_percentage_2',\n",
       " 'stored_3',\n",
       " 'stored_percentage_3',\n",
       " 'stored_4',\n",
       " 'stored_percentage_4',\n",
       " 'stored_5',\n",
       " 'stored_percentage_5',\n",
       " 'stored_6',\n",
       " 'stored_percentage_6',\n",
       " 'stored_7',\n",
       " 'stored_percentage_7',\n",
       " 'stored_8',\n",
       " 'stored_percentage_8',\n",
       " 'stored_9',\n",
       " 'stored_percentage_9',\n",
       " 'stored_10',\n",
       " 'stored_percentage_10',\n",
       " 'stored_11',\n",
       " 'stored_percentage_11',\n",
       " 'stored_12',\n",
       " 'stored_percentage_12',\n",
       " 'IrrigationReusedWater',\n",
       " 'PopulationReclaimedWater',\n",
       " 'IrrigationReclaimedWater',\n",
       " 'FinalIrrigationWater',\n",
       " 'PopulationReusedWater',\n",
       " 'FinalWaterWithdrawals',\n",
       " 'IrrigationAverageReusedWater',\n",
       " 'PopulationAverageReclaimedWater',\n",
       " 'IrrigationAverageReclaimedWater',\n",
       " 'FinalAverageIrrigationWater',\n",
       " 'PopulationAverageReusedWater',\n",
       " 'FinalAverageWaterWithdrawals',\n",
       " 'IrrigationFutureReusedWater',\n",
       " 'PopulationFutureReclaimedWater',\n",
       " 'IrrigationFutureReclaimedWater',\n",
       " 'FinalFutureIrrigationWater',\n",
       " 'PopulationFutureReusedWater',\n",
       " 'FinalFutureWaterWithdrawals',\n",
       " 'IrrigatedGrowthPerCluster',\n",
       " 'PopulationGrowthPerCluster',\n",
       " 'ExtendedAerationCAPEX',\n",
       " 'ExtendedAerationAverageEnergy',\n",
       " 'Membrane BioreactorCAPEX',\n",
       " 'Membrane BioreactorAverageEnergy',\n",
       " 'SequencingBatchReactorCAPEX',\n",
       " 'SequencingBatchReactorAverageEnergy',\n",
       " 'RotatingBiologicalContractorsCAPEX',\n",
       " 'RotatingBiologicalContractorsAverageEnergy',\n",
       " 'IntermittentSandFilterCAPEX',\n",
       " 'IntermittentSandFilterAverageEnergy',\n",
       " 'TricklingFilterCAPEX',\n",
       " 'TricklingFilterAverageEnergy',\n",
       " 'MovingBedBiofilmReactorCAPEX',\n",
       " 'MovingBedBiofilmReactorAverageEnergy',\n",
       " 'PondSystemCAPEX',\n",
       " 'PondSystemEnergy',\n",
       " 'PondSystemAverageEnergy',\n",
       " 'PondSystemFutureEnergy',\n",
       " 'WetlandsCAPEX',\n",
       " 'WetlandsEnergy',\n",
       " 'WetlandsAverageEnergy',\n",
       " 'WetlandsFutureEnergy',\n",
       " 'ExtendedAerationLCOW_CAPEX',\n",
       " 'ExtendedAerationLCOW_OPEX',\n",
       " 'ExtendedAerationLCOW',\n",
       " 'ExtendedAerationCAPEX_LCOW',\n",
       " 'ExtendedAerationOPEX_LCOW',\n",
       " 'Membrane BioreactorLCOW_CAPEX',\n",
       " 'Membrane BioreactorLCOW_OPEX',\n",
       " 'Membrane BioreactorLCOW',\n",
       " 'Membrane BioreactorCAPEX_LCOW',\n",
       " 'Membrane BioreactorOPEX_LCOW',\n",
       " 'SequencingBatchReactorLCOW_CAPEX',\n",
       " 'SequencingBatchReactorLCOW_OPEX',\n",
       " 'SequencingBatchReactorLCOW',\n",
       " 'SequencingBatchReactorCAPEX_LCOW',\n",
       " 'SequencingBatchReactorOPEX_LCOW',\n",
       " 'RotatingBiologicalContractorsLCOW_CAPEX',\n",
       " 'RotatingBiologicalContractorsLCOW_OPEX',\n",
       " 'RotatingBiologicalContractorsLCOW',\n",
       " 'RotatingBiologicalContractorsCAPEX_LCOW',\n",
       " 'RotatingBiologicalContractorsOPEX_LCOW',\n",
       " 'IntermittentSandFilterLCOW_CAPEX',\n",
       " 'IntermittentSandFilterLCOW_OPEX',\n",
       " 'IntermittentSandFilterLCOW',\n",
       " 'IntermittentSandFilterCAPEX_LCOW',\n",
       " 'IntermittentSandFilterOPEX_LCOW',\n",
       " 'TricklingFilterLCOW_CAPEX',\n",
       " 'TricklingFilterLCOW_OPEX',\n",
       " 'TricklingFilterLCOW',\n",
       " 'TricklingFilterCAPEX_LCOW',\n",
       " 'TricklingFilterOPEX_LCOW',\n",
       " 'MovingBedBiofilmReactorLCOW_CAPEX',\n",
       " 'MovingBedBiofilmReactorLCOW_OPEX',\n",
       " 'MovingBedBiofilmReactorLCOW',\n",
       " 'MovingBedBiofilmReactorCAPEX_LCOW',\n",
       " 'MovingBedBiofilmReactorOPEX_LCOW',\n",
       " 'PondSystemLCOW_CAPEX',\n",
       " 'PondSystemLCOW_OPEX',\n",
       " 'PondSystemLCOW',\n",
       " 'PondSystemCAPEX_LCOW',\n",
       " 'PondSystemOPEX_LCOW',\n",
       " 'WetlandsLCOW_CAPEX',\n",
       " 'WetlandsLCOW_OPEX',\n",
       " 'WetlandsLCOW',\n",
       " 'WetlandsCAPEX_LCOW',\n",
       " 'WetlandsOPEX_LCOW',\n",
       " 'PopulationLeastCostTechnology',\n",
       " 'PopulationLeastCost',\n",
       " 'IrrigationLeastCostTechnology',\n",
       " 'IrrigationLeastCost',\n",
       " 'LeastCostSystem',\n",
       " 'FinalAveragePumpingEnergy',\n",
       " 'FinalAverageDesalinationEnergy',\n",
       " 'FinalAverageEnergy',\n",
       " 'FinalAveragePopTreatmentEnergy',\n",
       " 'FinalAverageAgriTreatmentEnergy',\n",
       " 'FinalAverageTreatmentEnergy',\n",
       " 'GroundwaterStressAverage']"
      ]
     },
     "execution_count": 69,
     "metadata": {},
     "output_type": "execute_result"
    }
   ],
   "source": [
    "list(df)"
   ]
  },
  {
   "cell_type": "code",
   "execution_count": 61,
   "metadata": {},
   "outputs": [
    {
     "name": "stdout",
     "output_type": "stream",
     "text": [
      "278005807154.7403 393823792608.10254\n"
     ]
    }
   ],
   "source": [
    "print(df['PopulationWaterPerCluster'].sum(), df['PopulationWaterFuturePerCluster'].sum())"
   ]
  },
  {
   "cell_type": "code",
   "execution_count": 65,
   "metadata": {},
   "outputs": [],
   "source": [
    "dff_water = df.groupby('Cluster').agg({'IrrigationWaterAverage': 'sum', 'PopulationWaterAverage': 'sum', 'FinalAverageIrrigationWater': 'sum',\n",
    "                                       'IrrigationAverageReusedWater': 'sum', 'PopulationAverageReusedWater': 'sum'})"
   ]
  },
  {
   "cell_type": "code",
   "execution_count": 66,
   "metadata": {},
   "outputs": [],
   "source": [
    "dff_water.reset_index(inplace=True)"
   ]
  },
  {
   "cell_type": "code",
   "execution_count": 68,
   "metadata": {},
   "outputs": [
    {
     "data": {
      "application/vnd.plotly.v1+json": {
       "config": {
        "plotlyServerURL": "https://plot.ly"
       },
       "data": [
        {
         "marker": {
          "color": "#fdb863",
          "line": {
           "color": "Grey",
           "width": 0
          }
         },
         "name": "Population water extractions",
         "orientation": "h",
         "type": "bar",
         "x": [
          30.545441179011544,
          0.9545977666377947,
          7.148790986339824,
          18.496645078300986,
          18.095689867289526,
          7.357206780278404,
          0.22328665180999052,
          0.8367415933529155,
          0.012533584817446392,
          1.1202409051521054,
          1.716252347383422,
          5.429953048621023,
          2.8593259053225033,
          9.050060579665365,
          41.91809266571695,
          25.010860066861046,
          0.9728072552985948,
          3.4224647335881557,
          4.150032009719353,
          6.802947591918004,
          4.156771389470223,
          4.583502376353808,
          2.3979938084080787,
          9.08331893781906,
          7.952326079752062,
          24.364717360764125,
          0.890214682291429,
          15.036510674137617,
          0.12092556583644107,
          18.235884759090418,
          9.24186554513656,
          8.016811164130205,
          7.721973833936481,
          9.594200262396518,
          12.932599356699459,
          11.525399135916965,
          1.185757225470835,
          0.15226330097514756,
          4.422902563845199,
          1.6843572503350766
         ],
         "y": [
          0,
          1,
          2,
          3,
          4,
          5,
          6,
          7,
          8,
          9,
          10,
          11,
          12,
          13,
          14,
          15,
          16,
          17,
          18,
          19,
          20,
          21,
          22,
          23,
          24,
          25,
          26,
          27,
          28,
          29,
          30,
          31,
          32,
          33,
          34,
          35,
          36,
          37,
          38,
          39
         ]
        },
        {
         "marker": {
          "color": "#e66101",
          "line": {
           "color": "Grey",
           "width": 0
          }
         },
         "name": "Irrigation water extractions",
         "orientation": "h",
         "type": "bar",
         "x": [
          744.7931111917972,
          1.330247494542549,
          183.74301996596353,
          29.470737919753056,
          29.708298460582895,
          69.31396321034585,
          90.96303037568859,
          283.4050102976714,
          15.431761107201044,
          84.9633492473352,
          17.172954756121243,
          66.8354668690516,
          7.377289505079658,
          33.44639499589585,
          218.67703755484547,
          218.3299544574957,
          131.55862684592202,
          9.27566290305469,
          51.28202679748908,
          38.49317167114454,
          55.63747579166667,
          20.68271207936838,
          13.751246772248784,
          39.4352308878462,
          38.99120260166241,
          53.79197730625133,
          5.439790432573523,
          114.64442363628632,
          16.75937093858403,
          74.6416555491315,
          69.21319024389308,
          218.07904803560356,
          171.43324181662237,
          0.11637311876041226,
          247.75436486714227,
          46.41894644372294,
          78.78460872946157,
          37.219400740296805,
          1.2869356067861835,
          38.36006470458158
         ],
         "y": [
          0,
          1,
          2,
          3,
          4,
          5,
          6,
          7,
          8,
          9,
          10,
          11,
          12,
          13,
          14,
          15,
          16,
          17,
          18,
          19,
          20,
          21,
          22,
          23,
          24,
          25,
          26,
          27,
          28,
          29,
          30,
          31,
          32,
          33,
          34,
          35,
          36,
          37,
          38,
          39
         ]
        },
        {
         "marker": {
          "color": "#5e3c99",
          "line": {
           "color": "Grey",
           "width": 0
          }
         },
         "name": "Resued water from population",
         "orientation": "h",
         "type": "bar",
         "x": [
          -18.675894656573718,
          -0.5991449531561102,
          -4.3920360397577385,
          -10.571391133269296,
          -11.34392441408035,
          -4.5602985622300105,
          -0.009586166427844706,
          -0.11956246427950587,
          -0.005212177002648228,
          -0.504936445388467,
          -1.0732613587541382,
          -3.2647594035857246,
          -1.7924371774210084,
          -5.664622108226368,
          -26.069479218659875,
          -15.358024106377771,
          -0.2936558304809508,
          -2.1346672452426905,
          -2.5457343679089326,
          -4.174207749890808,
          -2.4065076985891696,
          -2.840145025951628,
          -1.4555681749159797,
          -5.6795961710705205,
          -4.959764332022845,
          -14.691863778529914,
          -0.5511912582865027,
          -9.249757838169378,
          -0.06303253728059374,
          -11.38208244639638,
          -5.747233337168073,
          -4.881094315484864,
          -4.5869760595901745,
          -3.537058512591145,
          -8.141353695074818,
          -7.201637213077673,
          -0.6667444933391117,
          -0.04172518068086202,
          -1.932180561659968,
          -0.8660141269742424
         ],
         "y": [
          0,
          1,
          2,
          3,
          4,
          5,
          6,
          7,
          8,
          9,
          10,
          11,
          12,
          13,
          14,
          15,
          16,
          17,
          18,
          19,
          20,
          21,
          22,
          23,
          24,
          25,
          26,
          27,
          28,
          29,
          30,
          31,
          32,
          33,
          34,
          35,
          36,
          37,
          38,
          39
         ]
        },
        {
         "marker": {
          "color": "#b2abd2",
          "line": {
           "color": "Grey",
           "width": 0
          }
         },
         "name": "Resued water from irrigation",
         "orientation": "h",
         "type": "bar",
         "x": [
          -668.0329282930667,
          -0.6229179544357225,
          -131.13849711677472,
          -20.121679593215195,
          -21.799738570967847,
          -16.251806310107487,
          -67.52774389526485,
          -202.4068578427038,
          -7.093654741383264,
          -67.81125888158961,
          -10.675142085418237,
          -46.95218065130217,
          -3.5086816509956535,
          -30.974377983192735,
          -190.45777204107102,
          -136.69304295388713,
          -111.56214584848178,
          -2.658789573072475,
          -20.575192180598552,
          -32.03938141705799,
          -42.86124067092656,
          -6.498913747567531,
          -9.941487278279615,
          -9.244354739350399,
          -36.53593221228877,
          -40.052003389854164,
          -2.8145867769072304,
          -99.63175072418267,
          -12.12595529723509,
          -69.67495637871447,
          -54.28773548115477,
          -144.13021853777317,
          -132.42959074854372,
          -2.3946914593806685,
          -219.76773491411186,
          -35.425316263579305,
          -39.382136904635935,
          -27.04230885200922,
          -3.3812776609657855,
          -31.869331943921484
         ],
         "y": [
          0,
          1,
          2,
          3,
          4,
          5,
          6,
          7,
          8,
          9,
          10,
          11,
          12,
          13,
          14,
          15,
          16,
          17,
          18,
          19,
          20,
          21,
          22,
          23,
          24,
          25,
          26,
          27,
          28,
          29,
          30,
          31,
          32,
          33,
          34,
          35,
          36,
          37,
          38,
          39
         ]
        }
       ],
       "layout": {
        "barmode": "relative",
        "height": 700,
        "legend": {
         "orientation": "h",
         "x": 0,
         "xanchor": "left",
         "y": 1.02,
         "yanchor": "bottom"
        },
        "margin": {
         "b": 0,
         "l": 0,
         "r": 0,
         "t": 0
        },
        "template": {
         "data": {
          "bar": [
           {
            "error_x": {
             "color": "#2a3f5f"
            },
            "error_y": {
             "color": "#2a3f5f"
            },
            "marker": {
             "line": {
              "color": "white",
              "width": 0.5
             }
            },
            "type": "bar"
           }
          ],
          "barpolar": [
           {
            "marker": {
             "line": {
              "color": "white",
              "width": 0.5
             }
            },
            "type": "barpolar"
           }
          ],
          "carpet": [
           {
            "aaxis": {
             "endlinecolor": "#2a3f5f",
             "gridcolor": "#C8D4E3",
             "linecolor": "#C8D4E3",
             "minorgridcolor": "#C8D4E3",
             "startlinecolor": "#2a3f5f"
            },
            "baxis": {
             "endlinecolor": "#2a3f5f",
             "gridcolor": "#C8D4E3",
             "linecolor": "#C8D4E3",
             "minorgridcolor": "#C8D4E3",
             "startlinecolor": "#2a3f5f"
            },
            "type": "carpet"
           }
          ],
          "choropleth": [
           {
            "colorbar": {
             "outlinewidth": 0,
             "ticks": ""
            },
            "type": "choropleth"
           }
          ],
          "contour": [
           {
            "colorbar": {
             "outlinewidth": 0,
             "ticks": ""
            },
            "colorscale": [
             [
              0,
              "#0d0887"
             ],
             [
              0.1111111111111111,
              "#46039f"
             ],
             [
              0.2222222222222222,
              "#7201a8"
             ],
             [
              0.3333333333333333,
              "#9c179e"
             ],
             [
              0.4444444444444444,
              "#bd3786"
             ],
             [
              0.5555555555555556,
              "#d8576b"
             ],
             [
              0.6666666666666666,
              "#ed7953"
             ],
             [
              0.7777777777777778,
              "#fb9f3a"
             ],
             [
              0.8888888888888888,
              "#fdca26"
             ],
             [
              1,
              "#f0f921"
             ]
            ],
            "type": "contour"
           }
          ],
          "contourcarpet": [
           {
            "colorbar": {
             "outlinewidth": 0,
             "ticks": ""
            },
            "type": "contourcarpet"
           }
          ],
          "heatmap": [
           {
            "colorbar": {
             "outlinewidth": 0,
             "ticks": ""
            },
            "colorscale": [
             [
              0,
              "#0d0887"
             ],
             [
              0.1111111111111111,
              "#46039f"
             ],
             [
              0.2222222222222222,
              "#7201a8"
             ],
             [
              0.3333333333333333,
              "#9c179e"
             ],
             [
              0.4444444444444444,
              "#bd3786"
             ],
             [
              0.5555555555555556,
              "#d8576b"
             ],
             [
              0.6666666666666666,
              "#ed7953"
             ],
             [
              0.7777777777777778,
              "#fb9f3a"
             ],
             [
              0.8888888888888888,
              "#fdca26"
             ],
             [
              1,
              "#f0f921"
             ]
            ],
            "type": "heatmap"
           }
          ],
          "heatmapgl": [
           {
            "colorbar": {
             "outlinewidth": 0,
             "ticks": ""
            },
            "colorscale": [
             [
              0,
              "#0d0887"
             ],
             [
              0.1111111111111111,
              "#46039f"
             ],
             [
              0.2222222222222222,
              "#7201a8"
             ],
             [
              0.3333333333333333,
              "#9c179e"
             ],
             [
              0.4444444444444444,
              "#bd3786"
             ],
             [
              0.5555555555555556,
              "#d8576b"
             ],
             [
              0.6666666666666666,
              "#ed7953"
             ],
             [
              0.7777777777777778,
              "#fb9f3a"
             ],
             [
              0.8888888888888888,
              "#fdca26"
             ],
             [
              1,
              "#f0f921"
             ]
            ],
            "type": "heatmapgl"
           }
          ],
          "histogram": [
           {
            "marker": {
             "colorbar": {
              "outlinewidth": 0,
              "ticks": ""
             }
            },
            "type": "histogram"
           }
          ],
          "histogram2d": [
           {
            "colorbar": {
             "outlinewidth": 0,
             "ticks": ""
            },
            "colorscale": [
             [
              0,
              "#0d0887"
             ],
             [
              0.1111111111111111,
              "#46039f"
             ],
             [
              0.2222222222222222,
              "#7201a8"
             ],
             [
              0.3333333333333333,
              "#9c179e"
             ],
             [
              0.4444444444444444,
              "#bd3786"
             ],
             [
              0.5555555555555556,
              "#d8576b"
             ],
             [
              0.6666666666666666,
              "#ed7953"
             ],
             [
              0.7777777777777778,
              "#fb9f3a"
             ],
             [
              0.8888888888888888,
              "#fdca26"
             ],
             [
              1,
              "#f0f921"
             ]
            ],
            "type": "histogram2d"
           }
          ],
          "histogram2dcontour": [
           {
            "colorbar": {
             "outlinewidth": 0,
             "ticks": ""
            },
            "colorscale": [
             [
              0,
              "#0d0887"
             ],
             [
              0.1111111111111111,
              "#46039f"
             ],
             [
              0.2222222222222222,
              "#7201a8"
             ],
             [
              0.3333333333333333,
              "#9c179e"
             ],
             [
              0.4444444444444444,
              "#bd3786"
             ],
             [
              0.5555555555555556,
              "#d8576b"
             ],
             [
              0.6666666666666666,
              "#ed7953"
             ],
             [
              0.7777777777777778,
              "#fb9f3a"
             ],
             [
              0.8888888888888888,
              "#fdca26"
             ],
             [
              1,
              "#f0f921"
             ]
            ],
            "type": "histogram2dcontour"
           }
          ],
          "mesh3d": [
           {
            "colorbar": {
             "outlinewidth": 0,
             "ticks": ""
            },
            "type": "mesh3d"
           }
          ],
          "parcoords": [
           {
            "line": {
             "colorbar": {
              "outlinewidth": 0,
              "ticks": ""
             }
            },
            "type": "parcoords"
           }
          ],
          "pie": [
           {
            "automargin": true,
            "type": "pie"
           }
          ],
          "scatter": [
           {
            "marker": {
             "colorbar": {
              "outlinewidth": 0,
              "ticks": ""
             }
            },
            "type": "scatter"
           }
          ],
          "scatter3d": [
           {
            "line": {
             "colorbar": {
              "outlinewidth": 0,
              "ticks": ""
             }
            },
            "marker": {
             "colorbar": {
              "outlinewidth": 0,
              "ticks": ""
             }
            },
            "type": "scatter3d"
           }
          ],
          "scattercarpet": [
           {
            "marker": {
             "colorbar": {
              "outlinewidth": 0,
              "ticks": ""
             }
            },
            "type": "scattercarpet"
           }
          ],
          "scattergeo": [
           {
            "marker": {
             "colorbar": {
              "outlinewidth": 0,
              "ticks": ""
             }
            },
            "type": "scattergeo"
           }
          ],
          "scattergl": [
           {
            "marker": {
             "colorbar": {
              "outlinewidth": 0,
              "ticks": ""
             }
            },
            "type": "scattergl"
           }
          ],
          "scattermapbox": [
           {
            "marker": {
             "colorbar": {
              "outlinewidth": 0,
              "ticks": ""
             }
            },
            "type": "scattermapbox"
           }
          ],
          "scatterpolar": [
           {
            "marker": {
             "colorbar": {
              "outlinewidth": 0,
              "ticks": ""
             }
            },
            "type": "scatterpolar"
           }
          ],
          "scatterpolargl": [
           {
            "marker": {
             "colorbar": {
              "outlinewidth": 0,
              "ticks": ""
             }
            },
            "type": "scatterpolargl"
           }
          ],
          "scatterternary": [
           {
            "marker": {
             "colorbar": {
              "outlinewidth": 0,
              "ticks": ""
             }
            },
            "type": "scatterternary"
           }
          ],
          "surface": [
           {
            "colorbar": {
             "outlinewidth": 0,
             "ticks": ""
            },
            "colorscale": [
             [
              0,
              "#0d0887"
             ],
             [
              0.1111111111111111,
              "#46039f"
             ],
             [
              0.2222222222222222,
              "#7201a8"
             ],
             [
              0.3333333333333333,
              "#9c179e"
             ],
             [
              0.4444444444444444,
              "#bd3786"
             ],
             [
              0.5555555555555556,
              "#d8576b"
             ],
             [
              0.6666666666666666,
              "#ed7953"
             ],
             [
              0.7777777777777778,
              "#fb9f3a"
             ],
             [
              0.8888888888888888,
              "#fdca26"
             ],
             [
              1,
              "#f0f921"
             ]
            ],
            "type": "surface"
           }
          ],
          "table": [
           {
            "cells": {
             "fill": {
              "color": "#EBF0F8"
             },
             "line": {
              "color": "white"
             }
            },
            "header": {
             "fill": {
              "color": "#C8D4E3"
             },
             "line": {
              "color": "white"
             }
            },
            "type": "table"
           }
          ]
         },
         "layout": {
          "annotationdefaults": {
           "arrowcolor": "#2a3f5f",
           "arrowhead": 0,
           "arrowwidth": 1
          },
          "coloraxis": {
           "colorbar": {
            "outlinewidth": 0,
            "ticks": ""
           }
          },
          "colorscale": {
           "diverging": [
            [
             0,
             "#8e0152"
            ],
            [
             0.1,
             "#c51b7d"
            ],
            [
             0.2,
             "#de77ae"
            ],
            [
             0.3,
             "#f1b6da"
            ],
            [
             0.4,
             "#fde0ef"
            ],
            [
             0.5,
             "#f7f7f7"
            ],
            [
             0.6,
             "#e6f5d0"
            ],
            [
             0.7,
             "#b8e186"
            ],
            [
             0.8,
             "#7fbc41"
            ],
            [
             0.9,
             "#4d9221"
            ],
            [
             1,
             "#276419"
            ]
           ],
           "sequential": [
            [
             0,
             "#0d0887"
            ],
            [
             0.1111111111111111,
             "#46039f"
            ],
            [
             0.2222222222222222,
             "#7201a8"
            ],
            [
             0.3333333333333333,
             "#9c179e"
            ],
            [
             0.4444444444444444,
             "#bd3786"
            ],
            [
             0.5555555555555556,
             "#d8576b"
            ],
            [
             0.6666666666666666,
             "#ed7953"
            ],
            [
             0.7777777777777778,
             "#fb9f3a"
            ],
            [
             0.8888888888888888,
             "#fdca26"
            ],
            [
             1,
             "#f0f921"
            ]
           ],
           "sequentialminus": [
            [
             0,
             "#0d0887"
            ],
            [
             0.1111111111111111,
             "#46039f"
            ],
            [
             0.2222222222222222,
             "#7201a8"
            ],
            [
             0.3333333333333333,
             "#9c179e"
            ],
            [
             0.4444444444444444,
             "#bd3786"
            ],
            [
             0.5555555555555556,
             "#d8576b"
            ],
            [
             0.6666666666666666,
             "#ed7953"
            ],
            [
             0.7777777777777778,
             "#fb9f3a"
            ],
            [
             0.8888888888888888,
             "#fdca26"
            ],
            [
             1,
             "#f0f921"
            ]
           ]
          },
          "colorway": [
           "#636efa",
           "#EF553B",
           "#00cc96",
           "#ab63fa",
           "#FFA15A",
           "#19d3f3",
           "#FF6692",
           "#B6E880",
           "#FF97FF",
           "#FECB52"
          ],
          "font": {
           "color": "#2a3f5f"
          },
          "geo": {
           "bgcolor": "white",
           "lakecolor": "white",
           "landcolor": "white",
           "showlakes": true,
           "showland": true,
           "subunitcolor": "#C8D4E3"
          },
          "hoverlabel": {
           "align": "left"
          },
          "hovermode": "closest",
          "mapbox": {
           "style": "light"
          },
          "paper_bgcolor": "white",
          "plot_bgcolor": "white",
          "polar": {
           "angularaxis": {
            "gridcolor": "#EBF0F8",
            "linecolor": "#EBF0F8",
            "ticks": ""
           },
           "bgcolor": "white",
           "radialaxis": {
            "gridcolor": "#EBF0F8",
            "linecolor": "#EBF0F8",
            "ticks": ""
           }
          },
          "scene": {
           "xaxis": {
            "backgroundcolor": "white",
            "gridcolor": "#DFE8F3",
            "gridwidth": 2,
            "linecolor": "#EBF0F8",
            "showbackground": true,
            "ticks": "",
            "zerolinecolor": "#EBF0F8"
           },
           "yaxis": {
            "backgroundcolor": "white",
            "gridcolor": "#DFE8F3",
            "gridwidth": 2,
            "linecolor": "#EBF0F8",
            "showbackground": true,
            "ticks": "",
            "zerolinecolor": "#EBF0F8"
           },
           "zaxis": {
            "backgroundcolor": "white",
            "gridcolor": "#DFE8F3",
            "gridwidth": 2,
            "linecolor": "#EBF0F8",
            "showbackground": true,
            "ticks": "",
            "zerolinecolor": "#EBF0F8"
           }
          },
          "shapedefaults": {
           "line": {
            "color": "#2a3f5f"
           }
          },
          "ternary": {
           "aaxis": {
            "gridcolor": "#DFE8F3",
            "linecolor": "#A2B1C6",
            "ticks": ""
           },
           "baxis": {
            "gridcolor": "#DFE8F3",
            "linecolor": "#A2B1C6",
            "ticks": ""
           },
           "bgcolor": "white",
           "caxis": {
            "gridcolor": "#DFE8F3",
            "linecolor": "#A2B1C6",
            "ticks": ""
           }
          },
          "title": {
           "x": 0.05
          },
          "xaxis": {
           "automargin": true,
           "gridcolor": "#EBF0F8",
           "linecolor": "#EBF0F8",
           "ticks": "",
           "title": {
            "standoff": 15
           },
           "zerolinecolor": "#EBF0F8",
           "zerolinewidth": 2
          },
          "yaxis": {
           "automargin": true,
           "gridcolor": "#EBF0F8",
           "linecolor": "#EBF0F8",
           "ticks": "",
           "title": {
            "standoff": 15
           },
           "zerolinecolor": "#EBF0F8",
           "zerolinewidth": 2
          }
         }
        },
        "xaxis": {
         "title": {
          "text": "Million cubic meters of water per year (Mm<sup>3</sup>/yr)"
         }
        },
        "yaxis": {
         "categoryarray": [
          1,
          38,
          26,
          33,
          12,
          17,
          8,
          22,
          28,
          10,
          21,
          37,
          39,
          13,
          19,
          24,
          4,
          3,
          23,
          18,
          35,
          20,
          11,
          5,
          25,
          30,
          36,
          9,
          6,
          29,
          27,
          16,
          32,
          2,
          31,
          15,
          14,
          34,
          7,
          0
         ],
         "categoryorder": "array",
         "ticks": "outside",
         "title": {
          "text": "Cluster"
         },
         "type": "category"
        }
       }
      },
      "text/html": [
       "<div>                            <div id=\"482d321d-2760-46c9-8049-729817c0e1f5\" class=\"plotly-graph-div\" style=\"height:700px; width:100%;\"></div>            <script type=\"text/javascript\">                require([\"plotly\"], function(Plotly) {                    window.PLOTLYENV=window.PLOTLYENV || {};                                    if (document.getElementById(\"482d321d-2760-46c9-8049-729817c0e1f5\")) {                    Plotly.newPlot(                        \"482d321d-2760-46c9-8049-729817c0e1f5\",                        [{\"marker\": {\"color\": \"#fdb863\", \"line\": {\"color\": \"Grey\", \"width\": 0}}, \"name\": \"Population water extractions\", \"orientation\": \"h\", \"type\": \"bar\", \"x\": [30.545441179011544, 0.9545977666377947, 7.148790986339824, 18.496645078300986, 18.095689867289526, 7.357206780278404, 0.22328665180999052, 0.8367415933529155, 0.012533584817446392, 1.1202409051521054, 1.716252347383422, 5.429953048621023, 2.8593259053225033, 9.050060579665365, 41.91809266571695, 25.010860066861046, 0.9728072552985948, 3.4224647335881557, 4.150032009719353, 6.802947591918004, 4.156771389470223, 4.583502376353808, 2.3979938084080787, 9.08331893781906, 7.952326079752062, 24.364717360764125, 0.890214682291429, 15.036510674137617, 0.12092556583644107, 18.235884759090418, 9.24186554513656, 8.016811164130205, 7.721973833936481, 9.594200262396518, 12.932599356699459, 11.525399135916965, 1.185757225470835, 0.15226330097514756, 4.422902563845199, 1.6843572503350766], \"y\": [0.0, 1.0, 2.0, 3.0, 4.0, 5.0, 6.0, 7.0, 8.0, 9.0, 10.0, 11.0, 12.0, 13.0, 14.0, 15.0, 16.0, 17.0, 18.0, 19.0, 20.0, 21.0, 22.0, 23.0, 24.0, 25.0, 26.0, 27.0, 28.0, 29.0, 30.0, 31.0, 32.0, 33.0, 34.0, 35.0, 36.0, 37.0, 38.0, 39.0]}, {\"marker\": {\"color\": \"#e66101\", \"line\": {\"color\": \"Grey\", \"width\": 0}}, \"name\": \"Irrigation water extractions\", \"orientation\": \"h\", \"type\": \"bar\", \"x\": [744.7931111917972, 1.330247494542549, 183.74301996596353, 29.470737919753056, 29.708298460582895, 69.31396321034585, 90.96303037568859, 283.4050102976714, 15.431761107201044, 84.9633492473352, 17.172954756121243, 66.8354668690516, 7.377289505079658, 33.44639499589585, 218.67703755484547, 218.3299544574957, 131.55862684592202, 9.27566290305469, 51.28202679748908, 38.49317167114454, 55.63747579166667, 20.68271207936838, 13.751246772248784, 39.4352308878462, 38.99120260166241, 53.79197730625133, 5.439790432573523, 114.64442363628632, 16.75937093858403, 74.6416555491315, 69.21319024389308, 218.07904803560356, 171.43324181662237, 0.11637311876041226, 247.75436486714227, 46.41894644372294, 78.78460872946157, 37.219400740296805, 1.2869356067861835, 38.36006470458158], \"y\": [0.0, 1.0, 2.0, 3.0, 4.0, 5.0, 6.0, 7.0, 8.0, 9.0, 10.0, 11.0, 12.0, 13.0, 14.0, 15.0, 16.0, 17.0, 18.0, 19.0, 20.0, 21.0, 22.0, 23.0, 24.0, 25.0, 26.0, 27.0, 28.0, 29.0, 30.0, 31.0, 32.0, 33.0, 34.0, 35.0, 36.0, 37.0, 38.0, 39.0]}, {\"marker\": {\"color\": \"#5e3c99\", \"line\": {\"color\": \"Grey\", \"width\": 0}}, \"name\": \"Resued water from population\", \"orientation\": \"h\", \"type\": \"bar\", \"x\": [-18.675894656573718, -0.5991449531561102, -4.3920360397577385, -10.571391133269296, -11.34392441408035, -4.5602985622300105, -0.009586166427844706, -0.11956246427950587, -0.005212177002648228, -0.504936445388467, -1.0732613587541382, -3.2647594035857246, -1.7924371774210084, -5.664622108226368, -26.069479218659875, -15.358024106377771, -0.2936558304809508, -2.1346672452426905, -2.5457343679089326, -4.174207749890808, -2.4065076985891696, -2.840145025951628, -1.4555681749159797, -5.6795961710705205, -4.959764332022845, -14.691863778529914, -0.5511912582865027, -9.249757838169378, -0.06303253728059374, -11.38208244639638, -5.747233337168073, -4.881094315484864, -4.5869760595901745, -3.537058512591145, -8.141353695074818, -7.201637213077673, -0.6667444933391117, -0.04172518068086202, -1.932180561659968, -0.8660141269742424], \"y\": [0.0, 1.0, 2.0, 3.0, 4.0, 5.0, 6.0, 7.0, 8.0, 9.0, 10.0, 11.0, 12.0, 13.0, 14.0, 15.0, 16.0, 17.0, 18.0, 19.0, 20.0, 21.0, 22.0, 23.0, 24.0, 25.0, 26.0, 27.0, 28.0, 29.0, 30.0, 31.0, 32.0, 33.0, 34.0, 35.0, 36.0, 37.0, 38.0, 39.0]}, {\"marker\": {\"color\": \"#b2abd2\", \"line\": {\"color\": \"Grey\", \"width\": 0}}, \"name\": \"Resued water from irrigation\", \"orientation\": \"h\", \"type\": \"bar\", \"x\": [-668.0329282930667, -0.6229179544357225, -131.13849711677472, -20.121679593215195, -21.799738570967847, -16.251806310107487, -67.52774389526485, -202.4068578427038, -7.093654741383264, -67.81125888158961, -10.675142085418237, -46.95218065130217, -3.5086816509956535, -30.974377983192735, -190.45777204107102, -136.69304295388713, -111.56214584848178, -2.658789573072475, -20.575192180598552, -32.03938141705799, -42.86124067092656, -6.498913747567531, -9.941487278279615, -9.244354739350399, -36.53593221228877, -40.052003389854164, -2.8145867769072304, -99.63175072418267, -12.12595529723509, -69.67495637871447, -54.28773548115477, -144.13021853777317, -132.42959074854372, -2.3946914593806685, -219.76773491411186, -35.425316263579305, -39.382136904635935, -27.04230885200922, -3.3812776609657855, -31.869331943921484], \"y\": [0.0, 1.0, 2.0, 3.0, 4.0, 5.0, 6.0, 7.0, 8.0, 9.0, 10.0, 11.0, 12.0, 13.0, 14.0, 15.0, 16.0, 17.0, 18.0, 19.0, 20.0, 21.0, 22.0, 23.0, 24.0, 25.0, 26.0, 27.0, 28.0, 29.0, 30.0, 31.0, 32.0, 33.0, 34.0, 35.0, 36.0, 37.0, 38.0, 39.0]}],                        {\"barmode\": \"relative\", \"height\": 700, \"legend\": {\"orientation\": \"h\", \"x\": 0, \"xanchor\": \"left\", \"y\": 1.02, \"yanchor\": \"bottom\"}, \"margin\": {\"b\": 0, \"l\": 0, \"r\": 0, \"t\": 0}, \"template\": {\"data\": {\"bar\": [{\"error_x\": {\"color\": \"#2a3f5f\"}, \"error_y\": {\"color\": \"#2a3f5f\"}, \"marker\": {\"line\": {\"color\": \"white\", \"width\": 0.5}}, \"type\": \"bar\"}], \"barpolar\": [{\"marker\": {\"line\": {\"color\": \"white\", \"width\": 0.5}}, \"type\": \"barpolar\"}], \"carpet\": [{\"aaxis\": {\"endlinecolor\": \"#2a3f5f\", \"gridcolor\": \"#C8D4E3\", \"linecolor\": \"#C8D4E3\", \"minorgridcolor\": \"#C8D4E3\", \"startlinecolor\": \"#2a3f5f\"}, \"baxis\": {\"endlinecolor\": \"#2a3f5f\", \"gridcolor\": \"#C8D4E3\", \"linecolor\": \"#C8D4E3\", \"minorgridcolor\": \"#C8D4E3\", \"startlinecolor\": \"#2a3f5f\"}, \"type\": \"carpet\"}], \"choropleth\": [{\"colorbar\": {\"outlinewidth\": 0, \"ticks\": \"\"}, \"type\": \"choropleth\"}], \"contour\": [{\"colorbar\": {\"outlinewidth\": 0, \"ticks\": \"\"}, \"colorscale\": [[0.0, \"#0d0887\"], [0.1111111111111111, \"#46039f\"], [0.2222222222222222, \"#7201a8\"], [0.3333333333333333, \"#9c179e\"], [0.4444444444444444, \"#bd3786\"], [0.5555555555555556, \"#d8576b\"], [0.6666666666666666, \"#ed7953\"], [0.7777777777777778, \"#fb9f3a\"], [0.8888888888888888, \"#fdca26\"], [1.0, \"#f0f921\"]], \"type\": \"contour\"}], \"contourcarpet\": [{\"colorbar\": {\"outlinewidth\": 0, \"ticks\": \"\"}, \"type\": \"contourcarpet\"}], \"heatmap\": [{\"colorbar\": {\"outlinewidth\": 0, \"ticks\": \"\"}, \"colorscale\": [[0.0, \"#0d0887\"], [0.1111111111111111, \"#46039f\"], [0.2222222222222222, \"#7201a8\"], [0.3333333333333333, \"#9c179e\"], [0.4444444444444444, \"#bd3786\"], [0.5555555555555556, \"#d8576b\"], [0.6666666666666666, \"#ed7953\"], [0.7777777777777778, \"#fb9f3a\"], [0.8888888888888888, \"#fdca26\"], [1.0, \"#f0f921\"]], \"type\": \"heatmap\"}], \"heatmapgl\": [{\"colorbar\": {\"outlinewidth\": 0, \"ticks\": \"\"}, \"colorscale\": [[0.0, \"#0d0887\"], [0.1111111111111111, \"#46039f\"], [0.2222222222222222, \"#7201a8\"], [0.3333333333333333, \"#9c179e\"], [0.4444444444444444, \"#bd3786\"], [0.5555555555555556, \"#d8576b\"], [0.6666666666666666, \"#ed7953\"], [0.7777777777777778, \"#fb9f3a\"], [0.8888888888888888, \"#fdca26\"], [1.0, \"#f0f921\"]], \"type\": \"heatmapgl\"}], \"histogram\": [{\"marker\": {\"colorbar\": {\"outlinewidth\": 0, \"ticks\": \"\"}}, \"type\": \"histogram\"}], \"histogram2d\": [{\"colorbar\": {\"outlinewidth\": 0, \"ticks\": \"\"}, \"colorscale\": [[0.0, \"#0d0887\"], [0.1111111111111111, \"#46039f\"], [0.2222222222222222, \"#7201a8\"], [0.3333333333333333, \"#9c179e\"], [0.4444444444444444, \"#bd3786\"], [0.5555555555555556, \"#d8576b\"], [0.6666666666666666, \"#ed7953\"], [0.7777777777777778, \"#fb9f3a\"], [0.8888888888888888, \"#fdca26\"], [1.0, \"#f0f921\"]], \"type\": \"histogram2d\"}], \"histogram2dcontour\": [{\"colorbar\": {\"outlinewidth\": 0, \"ticks\": \"\"}, \"colorscale\": [[0.0, \"#0d0887\"], [0.1111111111111111, \"#46039f\"], [0.2222222222222222, \"#7201a8\"], [0.3333333333333333, \"#9c179e\"], [0.4444444444444444, \"#bd3786\"], [0.5555555555555556, \"#d8576b\"], [0.6666666666666666, \"#ed7953\"], [0.7777777777777778, \"#fb9f3a\"], [0.8888888888888888, \"#fdca26\"], [1.0, \"#f0f921\"]], \"type\": \"histogram2dcontour\"}], \"mesh3d\": [{\"colorbar\": {\"outlinewidth\": 0, \"ticks\": \"\"}, \"type\": \"mesh3d\"}], \"parcoords\": [{\"line\": {\"colorbar\": {\"outlinewidth\": 0, \"ticks\": \"\"}}, \"type\": \"parcoords\"}], \"pie\": [{\"automargin\": true, \"type\": \"pie\"}], \"scatter\": [{\"marker\": {\"colorbar\": {\"outlinewidth\": 0, \"ticks\": \"\"}}, \"type\": \"scatter\"}], \"scatter3d\": [{\"line\": {\"colorbar\": {\"outlinewidth\": 0, \"ticks\": \"\"}}, \"marker\": {\"colorbar\": {\"outlinewidth\": 0, \"ticks\": \"\"}}, \"type\": \"scatter3d\"}], \"scattercarpet\": [{\"marker\": {\"colorbar\": {\"outlinewidth\": 0, \"ticks\": \"\"}}, \"type\": \"scattercarpet\"}], \"scattergeo\": [{\"marker\": {\"colorbar\": {\"outlinewidth\": 0, \"ticks\": \"\"}}, \"type\": \"scattergeo\"}], \"scattergl\": [{\"marker\": {\"colorbar\": {\"outlinewidth\": 0, \"ticks\": \"\"}}, \"type\": \"scattergl\"}], \"scattermapbox\": [{\"marker\": {\"colorbar\": {\"outlinewidth\": 0, \"ticks\": \"\"}}, \"type\": \"scattermapbox\"}], \"scatterpolar\": [{\"marker\": {\"colorbar\": {\"outlinewidth\": 0, \"ticks\": \"\"}}, \"type\": \"scatterpolar\"}], \"scatterpolargl\": [{\"marker\": {\"colorbar\": {\"outlinewidth\": 0, \"ticks\": \"\"}}, \"type\": \"scatterpolargl\"}], \"scatterternary\": [{\"marker\": {\"colorbar\": {\"outlinewidth\": 0, \"ticks\": \"\"}}, \"type\": \"scatterternary\"}], \"surface\": [{\"colorbar\": {\"outlinewidth\": 0, \"ticks\": \"\"}, \"colorscale\": [[0.0, \"#0d0887\"], [0.1111111111111111, \"#46039f\"], [0.2222222222222222, \"#7201a8\"], [0.3333333333333333, \"#9c179e\"], [0.4444444444444444, \"#bd3786\"], [0.5555555555555556, \"#d8576b\"], [0.6666666666666666, \"#ed7953\"], [0.7777777777777778, \"#fb9f3a\"], [0.8888888888888888, \"#fdca26\"], [1.0, \"#f0f921\"]], \"type\": \"surface\"}], \"table\": [{\"cells\": {\"fill\": {\"color\": \"#EBF0F8\"}, \"line\": {\"color\": \"white\"}}, \"header\": {\"fill\": {\"color\": \"#C8D4E3\"}, \"line\": {\"color\": \"white\"}}, \"type\": \"table\"}]}, \"layout\": {\"annotationdefaults\": {\"arrowcolor\": \"#2a3f5f\", \"arrowhead\": 0, \"arrowwidth\": 1}, \"coloraxis\": {\"colorbar\": {\"outlinewidth\": 0, \"ticks\": \"\"}}, \"colorscale\": {\"diverging\": [[0, \"#8e0152\"], [0.1, \"#c51b7d\"], [0.2, \"#de77ae\"], [0.3, \"#f1b6da\"], [0.4, \"#fde0ef\"], [0.5, \"#f7f7f7\"], [0.6, \"#e6f5d0\"], [0.7, \"#b8e186\"], [0.8, \"#7fbc41\"], [0.9, \"#4d9221\"], [1, \"#276419\"]], \"sequential\": [[0.0, \"#0d0887\"], [0.1111111111111111, \"#46039f\"], [0.2222222222222222, \"#7201a8\"], [0.3333333333333333, \"#9c179e\"], [0.4444444444444444, \"#bd3786\"], [0.5555555555555556, \"#d8576b\"], [0.6666666666666666, \"#ed7953\"], [0.7777777777777778, \"#fb9f3a\"], [0.8888888888888888, \"#fdca26\"], [1.0, \"#f0f921\"]], \"sequentialminus\": [[0.0, \"#0d0887\"], [0.1111111111111111, \"#46039f\"], [0.2222222222222222, \"#7201a8\"], [0.3333333333333333, \"#9c179e\"], [0.4444444444444444, \"#bd3786\"], [0.5555555555555556, \"#d8576b\"], [0.6666666666666666, \"#ed7953\"], [0.7777777777777778, \"#fb9f3a\"], [0.8888888888888888, \"#fdca26\"], [1.0, \"#f0f921\"]]}, \"colorway\": [\"#636efa\", \"#EF553B\", \"#00cc96\", \"#ab63fa\", \"#FFA15A\", \"#19d3f3\", \"#FF6692\", \"#B6E880\", \"#FF97FF\", \"#FECB52\"], \"font\": {\"color\": \"#2a3f5f\"}, \"geo\": {\"bgcolor\": \"white\", \"lakecolor\": \"white\", \"landcolor\": \"white\", \"showlakes\": true, \"showland\": true, \"subunitcolor\": \"#C8D4E3\"}, \"hoverlabel\": {\"align\": \"left\"}, \"hovermode\": \"closest\", \"mapbox\": {\"style\": \"light\"}, \"paper_bgcolor\": \"white\", \"plot_bgcolor\": \"white\", \"polar\": {\"angularaxis\": {\"gridcolor\": \"#EBF0F8\", \"linecolor\": \"#EBF0F8\", \"ticks\": \"\"}, \"bgcolor\": \"white\", \"radialaxis\": {\"gridcolor\": \"#EBF0F8\", \"linecolor\": \"#EBF0F8\", \"ticks\": \"\"}}, \"scene\": {\"xaxis\": {\"backgroundcolor\": \"white\", \"gridcolor\": \"#DFE8F3\", \"gridwidth\": 2, \"linecolor\": \"#EBF0F8\", \"showbackground\": true, \"ticks\": \"\", \"zerolinecolor\": \"#EBF0F8\"}, \"yaxis\": {\"backgroundcolor\": \"white\", \"gridcolor\": \"#DFE8F3\", \"gridwidth\": 2, \"linecolor\": \"#EBF0F8\", \"showbackground\": true, \"ticks\": \"\", \"zerolinecolor\": \"#EBF0F8\"}, \"zaxis\": {\"backgroundcolor\": \"white\", \"gridcolor\": \"#DFE8F3\", \"gridwidth\": 2, \"linecolor\": \"#EBF0F8\", \"showbackground\": true, \"ticks\": \"\", \"zerolinecolor\": \"#EBF0F8\"}}, \"shapedefaults\": {\"line\": {\"color\": \"#2a3f5f\"}}, \"ternary\": {\"aaxis\": {\"gridcolor\": \"#DFE8F3\", \"linecolor\": \"#A2B1C6\", \"ticks\": \"\"}, \"baxis\": {\"gridcolor\": \"#DFE8F3\", \"linecolor\": \"#A2B1C6\", \"ticks\": \"\"}, \"bgcolor\": \"white\", \"caxis\": {\"gridcolor\": \"#DFE8F3\", \"linecolor\": \"#A2B1C6\", \"ticks\": \"\"}}, \"title\": {\"x\": 0.05}, \"xaxis\": {\"automargin\": true, \"gridcolor\": \"#EBF0F8\", \"linecolor\": \"#EBF0F8\", \"ticks\": \"\", \"title\": {\"standoff\": 15}, \"zerolinecolor\": \"#EBF0F8\", \"zerolinewidth\": 2}, \"yaxis\": {\"automargin\": true, \"gridcolor\": \"#EBF0F8\", \"linecolor\": \"#EBF0F8\", \"ticks\": \"\", \"title\": {\"standoff\": 15}, \"zerolinecolor\": \"#EBF0F8\", \"zerolinewidth\": 2}}}, \"xaxis\": {\"title\": {\"text\": \"Million cubic meters of water per year (Mm<sup>3</sup>/yr)\"}}, \"yaxis\": {\"categoryarray\": [1.0, 38.0, 26.0, 33.0, 12.0, 17.0, 8.0, 22.0, 28.0, 10.0, 21.0, 37.0, 39.0, 13.0, 19.0, 24.0, 4.0, 3.0, 23.0, 18.0, 35.0, 20.0, 11.0, 5.0, 25.0, 30.0, 36.0, 9.0, 6.0, 29.0, 27.0, 16.0, 32.0, 2.0, 31.0, 15.0, 14.0, 34.0, 7.0, 0.0], \"categoryorder\": \"array\", \"ticks\": \"outside\", \"title\": {\"text\": \"Cluster\"}, \"type\": \"category\"}},                        {\"responsive\": true}                    ).then(function(){\n",
       "                            \n",
       "var gd = document.getElementById('482d321d-2760-46c9-8049-729817c0e1f5');\n",
       "var x = new MutationObserver(function (mutations, observer) {{\n",
       "        var display = window.getComputedStyle(gd).display;\n",
       "        if (!display || display === 'none') {{\n",
       "            console.log([gd, 'removed!']);\n",
       "            Plotly.purge(gd);\n",
       "            observer.disconnect();\n",
       "        }}\n",
       "}});\n",
       "\n",
       "// Listen for the removal of the full notebook cells\n",
       "var notebookContainer = gd.closest('#notebook-container');\n",
       "if (notebookContainer) {{\n",
       "    x.observe(notebookContainer, {childList: true});\n",
       "}}\n",
       "\n",
       "// Listen for the clearing of the current output cell\n",
       "var outputEl = gd.closest('.output');\n",
       "if (outputEl) {{\n",
       "    x.observe(outputEl, {childList: true});\n",
       "}}\n",
       "\n",
       "                        })                };                });            </script>        </div>"
      ]
     },
     "metadata": {},
     "output_type": "display_data"
    }
   ],
   "source": [
    "fig = go.Figure()\n",
    "dff = dff_water\n",
    "\n",
    "dff['total_extractions'] = dff['FinalAverageIrrigationWater'] + dff['PopulationWaterAverage']\n",
    "dff['cat_order'] = [cluster for value, cluster in dff[['total_extractions', 'Cluster']].sort_values('total_extractions', ascending=True).values]\n",
    "\n",
    "cat_order = dff['cat_order'].copy()\n",
    "\n",
    "fig.add_trace(go.Bar(y=dff['Cluster'], x=dff['PopulationWaterAverage']/1000000, orientation='h', name='Population water extractions', marker=dict(color='#fdb863', line=dict(width=0, color='Grey'))))\n",
    "fig.add_trace(go.Bar(y=dff['Cluster'], x=dff['FinalAverageIrrigationWater']/1000000, orientation='h', name='Irrigation water extractions', marker=dict(color='#e66101', line=dict(width=0, color='Grey'))))\n",
    "fig.add_trace(go.Bar(y=dff['Cluster'], x=-dff['PopulationAverageReusedWater']/1000000, orientation='h', name='Resued water from population', marker=dict(color='#5e3c99', line=dict(width=0, color='Grey'))))\n",
    "fig.add_trace(go.Bar(y=dff['Cluster'], x=-dff['IrrigationAverageReusedWater']/1000000, orientation='h', name='Resued water from irrigation', marker=dict(color='#b2abd2', line=dict(width=0, color='Grey'))))\n",
    "\n",
    "fig.update_layout(barmode='relative', height=700, template='plotly_white',\n",
    "                  yaxis={'categoryorder': 'array', 'categoryarray': cat_order,\n",
    "                         'title': 'Cluster', 'type': 'category', 'ticks': \"outside\"}, \n",
    "                  xaxis={'title': 'Million cubic meters of water per year (Mm<sup>3</sup>/yr)'},\n",
    "                  legend=dict(\n",
    "                            orientation=\"h\",\n",
    "                            yanchor=\"bottom\",\n",
    "                            y=1.02,\n",
    "                            xanchor=\"left\",\n",
    "                            x=0\n",
    "                ),\n",
    "                 margin=dict(b=0, l=0, r=0, t=0))\n",
    "fig.show()\n",
    "# fig.write_image('BaselineWater2.pdf')"
   ]
  },
  {
   "cell_type": "code",
   "execution_count": 24,
   "metadata": {},
   "outputs": [],
   "source": [
    "dff_energy = df.groupby('Cluster').agg({'FinalAveragePumpingEnergy': 'sum',\n",
    "                                        'FinalAverageTreatmentEnergy': 'sum', 'FinalAverageDesalinationEnergy': 'sum',\n",
    "                                        'TDS': 'mean', 'GroundwaterDepth': 'mean'})"
   ]
  },
  {
   "cell_type": "code",
   "execution_count": 25,
   "metadata": {},
   "outputs": [],
   "source": [
    "dff_energy.reset_index(inplace=True)"
   ]
  },
  {
   "cell_type": "code",
   "execution_count": 26,
   "metadata": {},
   "outputs": [
    {
     "data": {
      "application/vnd.plotly.v1+json": {
       "config": {
        "plotlyServerURL": "https://plot.ly"
       },
       "data": [
        {
         "marker": {
          "color": "#fc8d62",
          "line": {
           "color": "Grey",
           "width": 1
          }
         },
         "name": "Pumping Energy",
         "type": "bar",
         "x": [
          0,
          1,
          2,
          3,
          4,
          5,
          6,
          7,
          8,
          9,
          10,
          11,
          12,
          13,
          14,
          15,
          16,
          17,
          18,
          19,
          20,
          21,
          22,
          23,
          24,
          25,
          26,
          27,
          28,
          29,
          30,
          31,
          32,
          33,
          34,
          35,
          36,
          37,
          38,
          39
         ],
         "y": [
          250.25463800518108,
          2.223046994376755,
          152.71574803579537,
          44.8811170710269,
          40.83000768241289,
          68.97075739408893,
          59.5237260334358,
          220.3784568202986,
          14.267682463231365,
          69.08046482293308,
          15.226691077450186,
          58.17762819635219,
          9.13739087434798,
          13.811871281801926,
          94.31256075352002,
          196.36420955584165,
          42.525553117046464,
          12.413988830080473,
          53.57859100790864,
          31.829163929188308,
          27.352995875034658,
          24.587951631107146,
          6.455149257466319,
          47.22776757312867,
          16.794922290759825,
          63.88904550474594,
          6.066798093388122,
          41.893997292109425,
          10.599289447792787,
          32.520717659099304,
          55.736091079663396,
          181.64243399377932,
          127.96145540790846,
          10.818085925166756,
          73.94337319828618,
          47.03809013440291,
          71.90086072675352,
          21.842815269184072,
          3.0030606136363422,
          32.2074944689352
         ]
        },
        {
         "marker": {
          "color": "#66c2a5",
          "line": {
           "color": "Grey",
           "width": 1
          }
         },
         "name": "Desalination Energy",
         "type": "bar",
         "x": [
          0,
          1,
          2,
          3,
          4,
          5,
          6,
          7,
          8,
          9,
          10,
          11,
          12,
          13,
          14,
          15,
          16,
          17,
          18,
          19,
          20,
          21,
          22,
          23,
          24,
          25,
          26,
          27,
          28,
          29,
          30,
          31,
          32,
          33,
          34,
          35,
          36,
          37,
          38,
          39
         ],
         "y": [
          60.69483394494969,
          0.08377781915926079,
          15.489681401650842,
          3.5744204932769894,
          3.292870182175049,
          4.489422414450534,
          8.159315061812261,
          28.73731670193882,
          0.6965901305596096,
          5.559352120022362,
          1.2763410413240313,
          3.2675684457458942,
          0.7000064915838172,
          1.6896108338163847,
          22.590450048921184,
          23.371042710244424,
          11.862121185319415,
          0.5786122867681665,
          3.742263488236962,
          3.7951586660476377,
          4.269805401673479,
          1.717463522740259,
          1.6234567089194514,
          2.19912153834943,
          2.160192579280847,
          12.950446362496743,
          0.37381937955068956,
          11.704553889400884,
          1.1368800438017543,
          8.126386131061025,
          5.512445808553133,
          15.59990281718565,
          20.11348726578963,
          1.0031760938721257,
          18.152162257050545,
          6.120175935684767,
          4.493145292224029,
          3.400167194086523,
          0.40211031226470106,
          1.867357082429553
         ]
        }
       ],
       "layout": {
        "barmode": "stack",
        "legend": {
         "orientation": "h",
         "x": 1,
         "xanchor": "right",
         "y": 1.02,
         "yanchor": "bottom"
        },
        "margin": {
         "b": 0,
         "l": 0,
         "r": 0,
         "t": 0
        },
        "template": {
         "data": {
          "bar": [
           {
            "error_x": {
             "color": "#2a3f5f"
            },
            "error_y": {
             "color": "#2a3f5f"
            },
            "marker": {
             "line": {
              "color": "white",
              "width": 0.5
             }
            },
            "type": "bar"
           }
          ],
          "barpolar": [
           {
            "marker": {
             "line": {
              "color": "white",
              "width": 0.5
             }
            },
            "type": "barpolar"
           }
          ],
          "carpet": [
           {
            "aaxis": {
             "endlinecolor": "#2a3f5f",
             "gridcolor": "#C8D4E3",
             "linecolor": "#C8D4E3",
             "minorgridcolor": "#C8D4E3",
             "startlinecolor": "#2a3f5f"
            },
            "baxis": {
             "endlinecolor": "#2a3f5f",
             "gridcolor": "#C8D4E3",
             "linecolor": "#C8D4E3",
             "minorgridcolor": "#C8D4E3",
             "startlinecolor": "#2a3f5f"
            },
            "type": "carpet"
           }
          ],
          "choropleth": [
           {
            "colorbar": {
             "outlinewidth": 0,
             "ticks": ""
            },
            "type": "choropleth"
           }
          ],
          "contour": [
           {
            "colorbar": {
             "outlinewidth": 0,
             "ticks": ""
            },
            "colorscale": [
             [
              0,
              "#0d0887"
             ],
             [
              0.1111111111111111,
              "#46039f"
             ],
             [
              0.2222222222222222,
              "#7201a8"
             ],
             [
              0.3333333333333333,
              "#9c179e"
             ],
             [
              0.4444444444444444,
              "#bd3786"
             ],
             [
              0.5555555555555556,
              "#d8576b"
             ],
             [
              0.6666666666666666,
              "#ed7953"
             ],
             [
              0.7777777777777778,
              "#fb9f3a"
             ],
             [
              0.8888888888888888,
              "#fdca26"
             ],
             [
              1,
              "#f0f921"
             ]
            ],
            "type": "contour"
           }
          ],
          "contourcarpet": [
           {
            "colorbar": {
             "outlinewidth": 0,
             "ticks": ""
            },
            "type": "contourcarpet"
           }
          ],
          "heatmap": [
           {
            "colorbar": {
             "outlinewidth": 0,
             "ticks": ""
            },
            "colorscale": [
             [
              0,
              "#0d0887"
             ],
             [
              0.1111111111111111,
              "#46039f"
             ],
             [
              0.2222222222222222,
              "#7201a8"
             ],
             [
              0.3333333333333333,
              "#9c179e"
             ],
             [
              0.4444444444444444,
              "#bd3786"
             ],
             [
              0.5555555555555556,
              "#d8576b"
             ],
             [
              0.6666666666666666,
              "#ed7953"
             ],
             [
              0.7777777777777778,
              "#fb9f3a"
             ],
             [
              0.8888888888888888,
              "#fdca26"
             ],
             [
              1,
              "#f0f921"
             ]
            ],
            "type": "heatmap"
           }
          ],
          "heatmapgl": [
           {
            "colorbar": {
             "outlinewidth": 0,
             "ticks": ""
            },
            "colorscale": [
             [
              0,
              "#0d0887"
             ],
             [
              0.1111111111111111,
              "#46039f"
             ],
             [
              0.2222222222222222,
              "#7201a8"
             ],
             [
              0.3333333333333333,
              "#9c179e"
             ],
             [
              0.4444444444444444,
              "#bd3786"
             ],
             [
              0.5555555555555556,
              "#d8576b"
             ],
             [
              0.6666666666666666,
              "#ed7953"
             ],
             [
              0.7777777777777778,
              "#fb9f3a"
             ],
             [
              0.8888888888888888,
              "#fdca26"
             ],
             [
              1,
              "#f0f921"
             ]
            ],
            "type": "heatmapgl"
           }
          ],
          "histogram": [
           {
            "marker": {
             "colorbar": {
              "outlinewidth": 0,
              "ticks": ""
             }
            },
            "type": "histogram"
           }
          ],
          "histogram2d": [
           {
            "colorbar": {
             "outlinewidth": 0,
             "ticks": ""
            },
            "colorscale": [
             [
              0,
              "#0d0887"
             ],
             [
              0.1111111111111111,
              "#46039f"
             ],
             [
              0.2222222222222222,
              "#7201a8"
             ],
             [
              0.3333333333333333,
              "#9c179e"
             ],
             [
              0.4444444444444444,
              "#bd3786"
             ],
             [
              0.5555555555555556,
              "#d8576b"
             ],
             [
              0.6666666666666666,
              "#ed7953"
             ],
             [
              0.7777777777777778,
              "#fb9f3a"
             ],
             [
              0.8888888888888888,
              "#fdca26"
             ],
             [
              1,
              "#f0f921"
             ]
            ],
            "type": "histogram2d"
           }
          ],
          "histogram2dcontour": [
           {
            "colorbar": {
             "outlinewidth": 0,
             "ticks": ""
            },
            "colorscale": [
             [
              0,
              "#0d0887"
             ],
             [
              0.1111111111111111,
              "#46039f"
             ],
             [
              0.2222222222222222,
              "#7201a8"
             ],
             [
              0.3333333333333333,
              "#9c179e"
             ],
             [
              0.4444444444444444,
              "#bd3786"
             ],
             [
              0.5555555555555556,
              "#d8576b"
             ],
             [
              0.6666666666666666,
              "#ed7953"
             ],
             [
              0.7777777777777778,
              "#fb9f3a"
             ],
             [
              0.8888888888888888,
              "#fdca26"
             ],
             [
              1,
              "#f0f921"
             ]
            ],
            "type": "histogram2dcontour"
           }
          ],
          "mesh3d": [
           {
            "colorbar": {
             "outlinewidth": 0,
             "ticks": ""
            },
            "type": "mesh3d"
           }
          ],
          "parcoords": [
           {
            "line": {
             "colorbar": {
              "outlinewidth": 0,
              "ticks": ""
             }
            },
            "type": "parcoords"
           }
          ],
          "pie": [
           {
            "automargin": true,
            "type": "pie"
           }
          ],
          "scatter": [
           {
            "marker": {
             "colorbar": {
              "outlinewidth": 0,
              "ticks": ""
             }
            },
            "type": "scatter"
           }
          ],
          "scatter3d": [
           {
            "line": {
             "colorbar": {
              "outlinewidth": 0,
              "ticks": ""
             }
            },
            "marker": {
             "colorbar": {
              "outlinewidth": 0,
              "ticks": ""
             }
            },
            "type": "scatter3d"
           }
          ],
          "scattercarpet": [
           {
            "marker": {
             "colorbar": {
              "outlinewidth": 0,
              "ticks": ""
             }
            },
            "type": "scattercarpet"
           }
          ],
          "scattergeo": [
           {
            "marker": {
             "colorbar": {
              "outlinewidth": 0,
              "ticks": ""
             }
            },
            "type": "scattergeo"
           }
          ],
          "scattergl": [
           {
            "marker": {
             "colorbar": {
              "outlinewidth": 0,
              "ticks": ""
             }
            },
            "type": "scattergl"
           }
          ],
          "scattermapbox": [
           {
            "marker": {
             "colorbar": {
              "outlinewidth": 0,
              "ticks": ""
             }
            },
            "type": "scattermapbox"
           }
          ],
          "scatterpolar": [
           {
            "marker": {
             "colorbar": {
              "outlinewidth": 0,
              "ticks": ""
             }
            },
            "type": "scatterpolar"
           }
          ],
          "scatterpolargl": [
           {
            "marker": {
             "colorbar": {
              "outlinewidth": 0,
              "ticks": ""
             }
            },
            "type": "scatterpolargl"
           }
          ],
          "scatterternary": [
           {
            "marker": {
             "colorbar": {
              "outlinewidth": 0,
              "ticks": ""
             }
            },
            "type": "scatterternary"
           }
          ],
          "surface": [
           {
            "colorbar": {
             "outlinewidth": 0,
             "ticks": ""
            },
            "colorscale": [
             [
              0,
              "#0d0887"
             ],
             [
              0.1111111111111111,
              "#46039f"
             ],
             [
              0.2222222222222222,
              "#7201a8"
             ],
             [
              0.3333333333333333,
              "#9c179e"
             ],
             [
              0.4444444444444444,
              "#bd3786"
             ],
             [
              0.5555555555555556,
              "#d8576b"
             ],
             [
              0.6666666666666666,
              "#ed7953"
             ],
             [
              0.7777777777777778,
              "#fb9f3a"
             ],
             [
              0.8888888888888888,
              "#fdca26"
             ],
             [
              1,
              "#f0f921"
             ]
            ],
            "type": "surface"
           }
          ],
          "table": [
           {
            "cells": {
             "fill": {
              "color": "#EBF0F8"
             },
             "line": {
              "color": "white"
             }
            },
            "header": {
             "fill": {
              "color": "#C8D4E3"
             },
             "line": {
              "color": "white"
             }
            },
            "type": "table"
           }
          ]
         },
         "layout": {
          "annotationdefaults": {
           "arrowcolor": "#2a3f5f",
           "arrowhead": 0,
           "arrowwidth": 1
          },
          "coloraxis": {
           "colorbar": {
            "outlinewidth": 0,
            "ticks": ""
           }
          },
          "colorscale": {
           "diverging": [
            [
             0,
             "#8e0152"
            ],
            [
             0.1,
             "#c51b7d"
            ],
            [
             0.2,
             "#de77ae"
            ],
            [
             0.3,
             "#f1b6da"
            ],
            [
             0.4,
             "#fde0ef"
            ],
            [
             0.5,
             "#f7f7f7"
            ],
            [
             0.6,
             "#e6f5d0"
            ],
            [
             0.7,
             "#b8e186"
            ],
            [
             0.8,
             "#7fbc41"
            ],
            [
             0.9,
             "#4d9221"
            ],
            [
             1,
             "#276419"
            ]
           ],
           "sequential": [
            [
             0,
             "#0d0887"
            ],
            [
             0.1111111111111111,
             "#46039f"
            ],
            [
             0.2222222222222222,
             "#7201a8"
            ],
            [
             0.3333333333333333,
             "#9c179e"
            ],
            [
             0.4444444444444444,
             "#bd3786"
            ],
            [
             0.5555555555555556,
             "#d8576b"
            ],
            [
             0.6666666666666666,
             "#ed7953"
            ],
            [
             0.7777777777777778,
             "#fb9f3a"
            ],
            [
             0.8888888888888888,
             "#fdca26"
            ],
            [
             1,
             "#f0f921"
            ]
           ],
           "sequentialminus": [
            [
             0,
             "#0d0887"
            ],
            [
             0.1111111111111111,
             "#46039f"
            ],
            [
             0.2222222222222222,
             "#7201a8"
            ],
            [
             0.3333333333333333,
             "#9c179e"
            ],
            [
             0.4444444444444444,
             "#bd3786"
            ],
            [
             0.5555555555555556,
             "#d8576b"
            ],
            [
             0.6666666666666666,
             "#ed7953"
            ],
            [
             0.7777777777777778,
             "#fb9f3a"
            ],
            [
             0.8888888888888888,
             "#fdca26"
            ],
            [
             1,
             "#f0f921"
            ]
           ]
          },
          "colorway": [
           "#636efa",
           "#EF553B",
           "#00cc96",
           "#ab63fa",
           "#FFA15A",
           "#19d3f3",
           "#FF6692",
           "#B6E880",
           "#FF97FF",
           "#FECB52"
          ],
          "font": {
           "color": "#2a3f5f"
          },
          "geo": {
           "bgcolor": "white",
           "lakecolor": "white",
           "landcolor": "white",
           "showlakes": true,
           "showland": true,
           "subunitcolor": "#C8D4E3"
          },
          "hoverlabel": {
           "align": "left"
          },
          "hovermode": "closest",
          "mapbox": {
           "style": "light"
          },
          "paper_bgcolor": "white",
          "plot_bgcolor": "white",
          "polar": {
           "angularaxis": {
            "gridcolor": "#EBF0F8",
            "linecolor": "#EBF0F8",
            "ticks": ""
           },
           "bgcolor": "white",
           "radialaxis": {
            "gridcolor": "#EBF0F8",
            "linecolor": "#EBF0F8",
            "ticks": ""
           }
          },
          "scene": {
           "xaxis": {
            "backgroundcolor": "white",
            "gridcolor": "#DFE8F3",
            "gridwidth": 2,
            "linecolor": "#EBF0F8",
            "showbackground": true,
            "ticks": "",
            "zerolinecolor": "#EBF0F8"
           },
           "yaxis": {
            "backgroundcolor": "white",
            "gridcolor": "#DFE8F3",
            "gridwidth": 2,
            "linecolor": "#EBF0F8",
            "showbackground": true,
            "ticks": "",
            "zerolinecolor": "#EBF0F8"
           },
           "zaxis": {
            "backgroundcolor": "white",
            "gridcolor": "#DFE8F3",
            "gridwidth": 2,
            "linecolor": "#EBF0F8",
            "showbackground": true,
            "ticks": "",
            "zerolinecolor": "#EBF0F8"
           }
          },
          "shapedefaults": {
           "line": {
            "color": "#2a3f5f"
           }
          },
          "ternary": {
           "aaxis": {
            "gridcolor": "#DFE8F3",
            "linecolor": "#A2B1C6",
            "ticks": ""
           },
           "baxis": {
            "gridcolor": "#DFE8F3",
            "linecolor": "#A2B1C6",
            "ticks": ""
           },
           "bgcolor": "white",
           "caxis": {
            "gridcolor": "#DFE8F3",
            "linecolor": "#A2B1C6",
            "ticks": ""
           }
          },
          "title": {
           "x": 0.05
          },
          "xaxis": {
           "automargin": true,
           "gridcolor": "#EBF0F8",
           "linecolor": "#EBF0F8",
           "ticks": "",
           "title": {
            "standoff": 15
           },
           "zerolinecolor": "#EBF0F8",
           "zerolinewidth": 2
          },
          "yaxis": {
           "automargin": true,
           "gridcolor": "#EBF0F8",
           "linecolor": "#EBF0F8",
           "ticks": "",
           "title": {
            "standoff": 15
           },
           "zerolinecolor": "#EBF0F8",
           "zerolinewidth": 2
          }
         }
        },
        "width": 900,
        "xaxis": {
         "categoryorder": "sum descending",
         "ticks": "outside",
         "title": {
          "text": "Cluster"
         },
         "type": "category"
        },
        "yaxis": {
         "title": {
          "text": "Energy (GWh/yr)"
         }
        }
       }
      },
      "text/html": [
       "<div>                            <div id=\"443b6184-a8d0-4c1b-821c-025648e4ecf3\" class=\"plotly-graph-div\" style=\"height:525px; width:900px;\"></div>            <script type=\"text/javascript\">                require([\"plotly\"], function(Plotly) {                    window.PLOTLYENV=window.PLOTLYENV || {};                                    if (document.getElementById(\"443b6184-a8d0-4c1b-821c-025648e4ecf3\")) {                    Plotly.newPlot(                        \"443b6184-a8d0-4c1b-821c-025648e4ecf3\",                        [{\"marker\": {\"color\": \"#fc8d62\", \"line\": {\"color\": \"Grey\", \"width\": 1}}, \"name\": \"Pumping Energy\", \"type\": \"bar\", \"x\": [0.0, 1.0, 2.0, 3.0, 4.0, 5.0, 6.0, 7.0, 8.0, 9.0, 10.0, 11.0, 12.0, 13.0, 14.0, 15.0, 16.0, 17.0, 18.0, 19.0, 20.0, 21.0, 22.0, 23.0, 24.0, 25.0, 26.0, 27.0, 28.0, 29.0, 30.0, 31.0, 32.0, 33.0, 34.0, 35.0, 36.0, 37.0, 38.0, 39.0], \"y\": [250.25463800518108, 2.223046994376755, 152.71574803579537, 44.8811170710269, 40.83000768241289, 68.97075739408893, 59.5237260334358, 220.3784568202986, 14.267682463231365, 69.08046482293308, 15.226691077450186, 58.17762819635219, 9.13739087434798, 13.811871281801926, 94.31256075352002, 196.36420955584165, 42.525553117046464, 12.413988830080473, 53.57859100790864, 31.829163929188308, 27.352995875034658, 24.587951631107146, 6.455149257466319, 47.22776757312867, 16.794922290759825, 63.88904550474594, 6.066798093388122, 41.893997292109425, 10.599289447792787, 32.520717659099304, 55.736091079663396, 181.64243399377932, 127.96145540790846, 10.818085925166756, 73.94337319828618, 47.03809013440291, 71.90086072675352, 21.842815269184072, 3.0030606136363422, 32.2074944689352]}, {\"marker\": {\"color\": \"#66c2a5\", \"line\": {\"color\": \"Grey\", \"width\": 1}}, \"name\": \"Desalination Energy\", \"type\": \"bar\", \"x\": [0.0, 1.0, 2.0, 3.0, 4.0, 5.0, 6.0, 7.0, 8.0, 9.0, 10.0, 11.0, 12.0, 13.0, 14.0, 15.0, 16.0, 17.0, 18.0, 19.0, 20.0, 21.0, 22.0, 23.0, 24.0, 25.0, 26.0, 27.0, 28.0, 29.0, 30.0, 31.0, 32.0, 33.0, 34.0, 35.0, 36.0, 37.0, 38.0, 39.0], \"y\": [60.69483394494969, 0.08377781915926079, 15.489681401650842, 3.5744204932769894, 3.292870182175049, 4.489422414450534, 8.159315061812261, 28.73731670193882, 0.6965901305596096, 5.559352120022362, 1.2763410413240313, 3.2675684457458942, 0.7000064915838172, 1.6896108338163847, 22.590450048921184, 23.371042710244424, 11.862121185319415, 0.5786122867681665, 3.742263488236962, 3.7951586660476377, 4.269805401673479, 1.717463522740259, 1.6234567089194514, 2.19912153834943, 2.160192579280847, 12.950446362496743, 0.37381937955068956, 11.704553889400884, 1.1368800438017543, 8.126386131061025, 5.512445808553133, 15.59990281718565, 20.11348726578963, 1.0031760938721257, 18.152162257050545, 6.120175935684767, 4.493145292224029, 3.400167194086523, 0.40211031226470106, 1.867357082429553]}],                        {\"barmode\": \"stack\", \"legend\": {\"orientation\": \"h\", \"x\": 1, \"xanchor\": \"right\", \"y\": 1.02, \"yanchor\": \"bottom\"}, \"margin\": {\"b\": 0, \"l\": 0, \"r\": 0, \"t\": 0}, \"template\": {\"data\": {\"bar\": [{\"error_x\": {\"color\": \"#2a3f5f\"}, \"error_y\": {\"color\": \"#2a3f5f\"}, \"marker\": {\"line\": {\"color\": \"white\", \"width\": 0.5}}, \"type\": \"bar\"}], \"barpolar\": [{\"marker\": {\"line\": {\"color\": \"white\", \"width\": 0.5}}, \"type\": \"barpolar\"}], \"carpet\": [{\"aaxis\": {\"endlinecolor\": \"#2a3f5f\", \"gridcolor\": \"#C8D4E3\", \"linecolor\": \"#C8D4E3\", \"minorgridcolor\": \"#C8D4E3\", \"startlinecolor\": \"#2a3f5f\"}, \"baxis\": {\"endlinecolor\": \"#2a3f5f\", \"gridcolor\": \"#C8D4E3\", \"linecolor\": \"#C8D4E3\", \"minorgridcolor\": \"#C8D4E3\", \"startlinecolor\": \"#2a3f5f\"}, \"type\": \"carpet\"}], \"choropleth\": [{\"colorbar\": {\"outlinewidth\": 0, \"ticks\": \"\"}, \"type\": \"choropleth\"}], \"contour\": [{\"colorbar\": {\"outlinewidth\": 0, \"ticks\": \"\"}, \"colorscale\": [[0.0, \"#0d0887\"], [0.1111111111111111, \"#46039f\"], [0.2222222222222222, \"#7201a8\"], [0.3333333333333333, \"#9c179e\"], [0.4444444444444444, \"#bd3786\"], [0.5555555555555556, \"#d8576b\"], [0.6666666666666666, \"#ed7953\"], [0.7777777777777778, \"#fb9f3a\"], [0.8888888888888888, \"#fdca26\"], [1.0, \"#f0f921\"]], \"type\": \"contour\"}], \"contourcarpet\": [{\"colorbar\": {\"outlinewidth\": 0, \"ticks\": \"\"}, \"type\": \"contourcarpet\"}], \"heatmap\": [{\"colorbar\": {\"outlinewidth\": 0, \"ticks\": \"\"}, \"colorscale\": [[0.0, \"#0d0887\"], [0.1111111111111111, \"#46039f\"], [0.2222222222222222, \"#7201a8\"], [0.3333333333333333, \"#9c179e\"], [0.4444444444444444, \"#bd3786\"], [0.5555555555555556, \"#d8576b\"], [0.6666666666666666, \"#ed7953\"], [0.7777777777777778, \"#fb9f3a\"], [0.8888888888888888, \"#fdca26\"], [1.0, \"#f0f921\"]], \"type\": \"heatmap\"}], \"heatmapgl\": [{\"colorbar\": {\"outlinewidth\": 0, \"ticks\": \"\"}, \"colorscale\": [[0.0, \"#0d0887\"], [0.1111111111111111, \"#46039f\"], [0.2222222222222222, \"#7201a8\"], [0.3333333333333333, \"#9c179e\"], [0.4444444444444444, \"#bd3786\"], [0.5555555555555556, \"#d8576b\"], [0.6666666666666666, \"#ed7953\"], [0.7777777777777778, \"#fb9f3a\"], [0.8888888888888888, \"#fdca26\"], [1.0, \"#f0f921\"]], \"type\": \"heatmapgl\"}], \"histogram\": [{\"marker\": {\"colorbar\": {\"outlinewidth\": 0, \"ticks\": \"\"}}, \"type\": \"histogram\"}], \"histogram2d\": [{\"colorbar\": {\"outlinewidth\": 0, \"ticks\": \"\"}, \"colorscale\": [[0.0, \"#0d0887\"], [0.1111111111111111, \"#46039f\"], [0.2222222222222222, \"#7201a8\"], [0.3333333333333333, \"#9c179e\"], [0.4444444444444444, \"#bd3786\"], [0.5555555555555556, \"#d8576b\"], [0.6666666666666666, \"#ed7953\"], [0.7777777777777778, \"#fb9f3a\"], [0.8888888888888888, \"#fdca26\"], [1.0, \"#f0f921\"]], \"type\": \"histogram2d\"}], \"histogram2dcontour\": [{\"colorbar\": {\"outlinewidth\": 0, \"ticks\": \"\"}, \"colorscale\": [[0.0, \"#0d0887\"], [0.1111111111111111, \"#46039f\"], [0.2222222222222222, \"#7201a8\"], [0.3333333333333333, \"#9c179e\"], [0.4444444444444444, \"#bd3786\"], [0.5555555555555556, \"#d8576b\"], [0.6666666666666666, \"#ed7953\"], [0.7777777777777778, \"#fb9f3a\"], [0.8888888888888888, \"#fdca26\"], [1.0, \"#f0f921\"]], \"type\": \"histogram2dcontour\"}], \"mesh3d\": [{\"colorbar\": {\"outlinewidth\": 0, \"ticks\": \"\"}, \"type\": \"mesh3d\"}], \"parcoords\": [{\"line\": {\"colorbar\": {\"outlinewidth\": 0, \"ticks\": \"\"}}, \"type\": \"parcoords\"}], \"pie\": [{\"automargin\": true, \"type\": \"pie\"}], \"scatter\": [{\"marker\": {\"colorbar\": {\"outlinewidth\": 0, \"ticks\": \"\"}}, \"type\": \"scatter\"}], \"scatter3d\": [{\"line\": {\"colorbar\": {\"outlinewidth\": 0, \"ticks\": \"\"}}, \"marker\": {\"colorbar\": {\"outlinewidth\": 0, \"ticks\": \"\"}}, \"type\": \"scatter3d\"}], \"scattercarpet\": [{\"marker\": {\"colorbar\": {\"outlinewidth\": 0, \"ticks\": \"\"}}, \"type\": \"scattercarpet\"}], \"scattergeo\": [{\"marker\": {\"colorbar\": {\"outlinewidth\": 0, \"ticks\": \"\"}}, \"type\": \"scattergeo\"}], \"scattergl\": [{\"marker\": {\"colorbar\": {\"outlinewidth\": 0, \"ticks\": \"\"}}, \"type\": \"scattergl\"}], \"scattermapbox\": [{\"marker\": {\"colorbar\": {\"outlinewidth\": 0, \"ticks\": \"\"}}, \"type\": \"scattermapbox\"}], \"scatterpolar\": [{\"marker\": {\"colorbar\": {\"outlinewidth\": 0, \"ticks\": \"\"}}, \"type\": \"scatterpolar\"}], \"scatterpolargl\": [{\"marker\": {\"colorbar\": {\"outlinewidth\": 0, \"ticks\": \"\"}}, \"type\": \"scatterpolargl\"}], \"scatterternary\": [{\"marker\": {\"colorbar\": {\"outlinewidth\": 0, \"ticks\": \"\"}}, \"type\": \"scatterternary\"}], \"surface\": [{\"colorbar\": {\"outlinewidth\": 0, \"ticks\": \"\"}, \"colorscale\": [[0.0, \"#0d0887\"], [0.1111111111111111, \"#46039f\"], [0.2222222222222222, \"#7201a8\"], [0.3333333333333333, \"#9c179e\"], [0.4444444444444444, \"#bd3786\"], [0.5555555555555556, \"#d8576b\"], [0.6666666666666666, \"#ed7953\"], [0.7777777777777778, \"#fb9f3a\"], [0.8888888888888888, \"#fdca26\"], [1.0, \"#f0f921\"]], \"type\": \"surface\"}], \"table\": [{\"cells\": {\"fill\": {\"color\": \"#EBF0F8\"}, \"line\": {\"color\": \"white\"}}, \"header\": {\"fill\": {\"color\": \"#C8D4E3\"}, \"line\": {\"color\": \"white\"}}, \"type\": \"table\"}]}, \"layout\": {\"annotationdefaults\": {\"arrowcolor\": \"#2a3f5f\", \"arrowhead\": 0, \"arrowwidth\": 1}, \"coloraxis\": {\"colorbar\": {\"outlinewidth\": 0, \"ticks\": \"\"}}, \"colorscale\": {\"diverging\": [[0, \"#8e0152\"], [0.1, \"#c51b7d\"], [0.2, \"#de77ae\"], [0.3, \"#f1b6da\"], [0.4, \"#fde0ef\"], [0.5, \"#f7f7f7\"], [0.6, \"#e6f5d0\"], [0.7, \"#b8e186\"], [0.8, \"#7fbc41\"], [0.9, \"#4d9221\"], [1, \"#276419\"]], \"sequential\": [[0.0, \"#0d0887\"], [0.1111111111111111, \"#46039f\"], [0.2222222222222222, \"#7201a8\"], [0.3333333333333333, \"#9c179e\"], [0.4444444444444444, \"#bd3786\"], [0.5555555555555556, \"#d8576b\"], [0.6666666666666666, \"#ed7953\"], [0.7777777777777778, \"#fb9f3a\"], [0.8888888888888888, \"#fdca26\"], [1.0, \"#f0f921\"]], \"sequentialminus\": [[0.0, \"#0d0887\"], [0.1111111111111111, \"#46039f\"], [0.2222222222222222, \"#7201a8\"], [0.3333333333333333, \"#9c179e\"], [0.4444444444444444, \"#bd3786\"], [0.5555555555555556, \"#d8576b\"], [0.6666666666666666, \"#ed7953\"], [0.7777777777777778, \"#fb9f3a\"], [0.8888888888888888, \"#fdca26\"], [1.0, \"#f0f921\"]]}, \"colorway\": [\"#636efa\", \"#EF553B\", \"#00cc96\", \"#ab63fa\", \"#FFA15A\", \"#19d3f3\", \"#FF6692\", \"#B6E880\", \"#FF97FF\", \"#FECB52\"], \"font\": {\"color\": \"#2a3f5f\"}, \"geo\": {\"bgcolor\": \"white\", \"lakecolor\": \"white\", \"landcolor\": \"white\", \"showlakes\": true, \"showland\": true, \"subunitcolor\": \"#C8D4E3\"}, \"hoverlabel\": {\"align\": \"left\"}, \"hovermode\": \"closest\", \"mapbox\": {\"style\": \"light\"}, \"paper_bgcolor\": \"white\", \"plot_bgcolor\": \"white\", \"polar\": {\"angularaxis\": {\"gridcolor\": \"#EBF0F8\", \"linecolor\": \"#EBF0F8\", \"ticks\": \"\"}, \"bgcolor\": \"white\", \"radialaxis\": {\"gridcolor\": \"#EBF0F8\", \"linecolor\": \"#EBF0F8\", \"ticks\": \"\"}}, \"scene\": {\"xaxis\": {\"backgroundcolor\": \"white\", \"gridcolor\": \"#DFE8F3\", \"gridwidth\": 2, \"linecolor\": \"#EBF0F8\", \"showbackground\": true, \"ticks\": \"\", \"zerolinecolor\": \"#EBF0F8\"}, \"yaxis\": {\"backgroundcolor\": \"white\", \"gridcolor\": \"#DFE8F3\", \"gridwidth\": 2, \"linecolor\": \"#EBF0F8\", \"showbackground\": true, \"ticks\": \"\", \"zerolinecolor\": \"#EBF0F8\"}, \"zaxis\": {\"backgroundcolor\": \"white\", \"gridcolor\": \"#DFE8F3\", \"gridwidth\": 2, \"linecolor\": \"#EBF0F8\", \"showbackground\": true, \"ticks\": \"\", \"zerolinecolor\": \"#EBF0F8\"}}, \"shapedefaults\": {\"line\": {\"color\": \"#2a3f5f\"}}, \"ternary\": {\"aaxis\": {\"gridcolor\": \"#DFE8F3\", \"linecolor\": \"#A2B1C6\", \"ticks\": \"\"}, \"baxis\": {\"gridcolor\": \"#DFE8F3\", \"linecolor\": \"#A2B1C6\", \"ticks\": \"\"}, \"bgcolor\": \"white\", \"caxis\": {\"gridcolor\": \"#DFE8F3\", \"linecolor\": \"#A2B1C6\", \"ticks\": \"\"}}, \"title\": {\"x\": 0.05}, \"xaxis\": {\"automargin\": true, \"gridcolor\": \"#EBF0F8\", \"linecolor\": \"#EBF0F8\", \"ticks\": \"\", \"title\": {\"standoff\": 15}, \"zerolinecolor\": \"#EBF0F8\", \"zerolinewidth\": 2}, \"yaxis\": {\"automargin\": true, \"gridcolor\": \"#EBF0F8\", \"linecolor\": \"#EBF0F8\", \"ticks\": \"\", \"title\": {\"standoff\": 15}, \"zerolinecolor\": \"#EBF0F8\", \"zerolinewidth\": 2}}}, \"width\": 900, \"xaxis\": {\"categoryorder\": \"sum descending\", \"ticks\": \"outside\", \"title\": {\"text\": \"Cluster\"}, \"type\": \"category\"}, \"yaxis\": {\"title\": {\"text\": \"Energy (GWh/yr)\"}}},                        {\"responsive\": true}                    ).then(function(){\n",
       "                            \n",
       "var gd = document.getElementById('443b6184-a8d0-4c1b-821c-025648e4ecf3');\n",
       "var x = new MutationObserver(function (mutations, observer) {{\n",
       "        var display = window.getComputedStyle(gd).display;\n",
       "        if (!display || display === 'none') {{\n",
       "            console.log([gd, 'removed!']);\n",
       "            Plotly.purge(gd);\n",
       "            observer.disconnect();\n",
       "        }}\n",
       "}});\n",
       "\n",
       "// Listen for the removal of the full notebook cells\n",
       "var notebookContainer = gd.closest('#notebook-container');\n",
       "if (notebookContainer) {{\n",
       "    x.observe(notebookContainer, {childList: true});\n",
       "}}\n",
       "\n",
       "// Listen for the clearing of the current output cell\n",
       "var outputEl = gd.closest('.output');\n",
       "if (outputEl) {{\n",
       "    x.observe(outputEl, {childList: true});\n",
       "}}\n",
       "\n",
       "                        })                };                });            </script>        </div>"
      ]
     },
     "metadata": {},
     "output_type": "display_data"
    }
   ],
   "source": [
    "fig = go.Figure()\n",
    "dff = dff_energy\n",
    "\n",
    "fig.add_trace(go.Bar(x=dff['Cluster'], y=dff['FinalAveragePumpingEnergy']/1000000, name='Pumping Energy', marker=dict(color='#fc8d62', line=dict(width=1, color='Grey'))))\n",
    "fig.add_trace(go.Bar(x=dff['Cluster'], y=dff['FinalAverageDesalinationEnergy']/1000000, name='Desalination Energy', marker=dict(color='#66c2a5', line=dict(width=1, color='Grey'))))\n",
    "\n",
    "fig.update_layout(barmode='stack', width=900, template='plotly_white',\n",
    "                  xaxis={'categoryorder': 'sum descending', #'categoryarray': cat_order.iloc[::-1],\n",
    "                         'title': 'Cluster', 'type': 'category', 'ticks': \"outside\"}, \n",
    "                  yaxis={'title': 'Energy (GWh/yr)'},\n",
    "                  legend=dict(\n",
    "                            orientation=\"h\",\n",
    "                            yanchor=\"bottom\",\n",
    "                            y=1.02,\n",
    "                            xanchor=\"right\",\n",
    "                            x=1\n",
    "                ),\n",
    "                 margin=dict(b=0, l=0, r=0, t=0))\n",
    "fig.show()\n",
    "# fig.write_image('BaselineEnergy.pdf')"
   ]
  },
  {
   "cell_type": "code",
   "execution_count": 10,
   "metadata": {},
   "outputs": [],
   "source": [
    "scenarios = np.array([x[1] for x in os.walk('.')][0])"
   ]
  },
  {
   "cell_type": "code",
   "execution_count": 36,
   "metadata": {},
   "outputs": [],
   "source": [
    "scenarios = np.delete(scenarios, 0)"
   ]
  },
  {
   "cell_type": "code",
   "execution_count": 37,
   "metadata": {},
   "outputs": [],
   "source": [
    "for scenario in scenarios:\n",
    "    df = pd.read_csv(os.path.join(scenario, scenario.replace('agri','ag') + '.gz'))\n",
    "    dff = df.groupby('Cluster').agg({'FinalPumpingEnergy': 'sum', 'FinalDesalinationEnergy': 'sum', 'FinalTreatmentEnergy': 'first'})\n",
    "    dff.reset_index(inplace=True)\n",
    "    dff['Cluster'] = dff['Cluster'].astype(int).astype(str)\n",
    "    \n",
    "    fig = go.Figure()\n",
    "\n",
    "    fig.add_trace(go.Bar(x=dff['Cluster'], y=dff['FinalTreatmentEnergy']/1000000, name='Treatment Energy', \n",
    "                         marker=dict(color='#8da0cb', line=dict(width=1, color='Grey'))))\n",
    "    fig.add_trace(go.Bar(x=dff['Cluster'], y=dff['FinalPumpingEnergy']/1000000, name='Pumping Energy', \n",
    "                         marker=dict(color='#fc8d62', line=dict(width=1, color='Grey'))))\n",
    "    fig.add_trace(go.Bar(x=dff['Cluster'], y=dff['FinalDesalinationEnergy']/1000000, name='Desalination Energy', \n",
    "                         marker=dict(color='#66c2a5', line=dict(width=1, color='Grey'))))\n",
    "\n",
    "    fig.update_layout(barmode='stack', width=900, template='plotly_white',\n",
    "                      xaxis={'categoryorder':'sum descending', 'title': 'Cluster', 'type': 'category', 'ticks': \"outside\"}, \n",
    "                      yaxis={'title': 'Energy (GWh/yr)'},\n",
    "                      legend=dict(\n",
    "                            orientation=\"h\",\n",
    "                            yanchor=\"bottom\",\n",
    "                            y=1.02,\n",
    "                            xanchor=\"right\",\n",
    "                            x=1\n",
    "                            ),\n",
    "                     margin=dict(b=0, l=0, r=0, t=0))\n",
    "    fig.write_image(os.path.join(scenario,'EnergyPerCluster2.pdf'))"
   ]
  },
  {
   "cell_type": "code",
   "execution_count": 27,
   "metadata": {},
   "outputs": [
    {
     "data": {
      "application/vnd.plotly.v1+json": {
       "config": {
        "plotlyServerURL": "https://plot.ly"
       },
       "data": [
        {
         "marker": {
          "color": [
           100.73973429951691,
           292.6395939086294,
           245.9986320109439,
           284.5528455284553,
           257.83847980997626,
           276.9021739130435,
           199.6007984031936,
           230.14811275680842,
           282.46268656716416,
           243.646080760095,
           249.10332103321034,
           249.3969298245614,
           275.57544757033247,
           100.0891265597148,
           123.61169102296451,
           250,
           100,
           296.7013888888889,
           300,
           223.34183673469389,
           134.44108761329306,
           299.660441426146,
           125.27881040892193,
           300,
           104.15472779369628,
           250,
           282,
           100,
           175,
           126.6931216931217,
           196.92005242463958,
           250,
           204.01234567901236,
           300,
           95.31812725090036,
           250,
           281.8627450980392,
           180.73089700996678,
           148.29172141918528,
           250
          ],
          "colorscale": [
           [
            0,
            "#440154"
           ],
           [
            0.1111111111111111,
            "#482878"
           ],
           [
            0.2222222222222222,
            "#3e4989"
           ],
           [
            0.3333333333333333,
            "#31688e"
           ],
           [
            0.4444444444444444,
            "#26828e"
           ],
           [
            0.5555555555555556,
            "#1f9e89"
           ],
           [
            0.6666666666666666,
            "#35b779"
           ],
           [
            0.7777777777777778,
            "#6ece58"
           ],
           [
            0.8888888888888888,
            "#b5de2b"
           ],
           [
            1,
            "#fde725"
           ]
          ],
          "showscale": true,
          "size": [
           18.178732852145984,
           10,
           18.475024762219775,
           16.442448425798318,
           15.573187340489396,
           13.517511283779925,
           20.668256129003492,
           23.84868402465386,
           10.470708219742287,
           15.021833379632376,
           15.532194480946124,
           10.434273923968924,
           15.532194480946124,
           10.520916047699691,
           20.210227724755086,
           22.546573334681092,
           20.61232938102436,
           10.35479632063075,
           15.532194480946124,
           18.75926323223113,
           16.263443314767102,
           15.532194480946124,
           23.622280082132846,
           10.35479632063075,
           10.384466224128257,
           37.702225762562065,
           13.82365308804205,
           20.7095926412615,
           15.593830173330831,
           19.27599209246165,
           16.15307512533519,
           15.763328327388775,
           25.8408274434945,
           20.01927288655278,
           15.665824805612125,
           25.833889281983893,
           13.918064466259565,
           20.97620284553023,
           15.464160339549075,
           11.04874456288064
          ]
         },
         "mode": "markers",
         "text": [
          "Cluster: 0",
          "Cluster: 1",
          "Cluster: 2",
          "Cluster: 3",
          "Cluster: 4",
          "Cluster: 5",
          "Cluster: 6",
          "Cluster: 7",
          "Cluster: 8",
          "Cluster: 9",
          "Cluster: 10",
          "Cluster: 11",
          "Cluster: 12",
          "Cluster: 13",
          "Cluster: 14",
          "Cluster: 15",
          "Cluster: 16",
          "Cluster: 17",
          "Cluster: 18",
          "Cluster: 19",
          "Cluster: 20",
          "Cluster: 21",
          "Cluster: 22",
          "Cluster: 23",
          "Cluster: 24",
          "Cluster: 25",
          "Cluster: 26",
          "Cluster: 27",
          "Cluster: 28",
          "Cluster: 29",
          "Cluster: 30",
          "Cluster: 31",
          "Cluster: 32",
          "Cluster: 33",
          "Cluster: 34",
          "Cluster: 35",
          "Cluster: 36",
          "Cluster: 37",
          "Cluster: 38",
          "Cluster: 39"
         ],
         "type": "scatter",
         "x": [
          1471.4007335467675,
          3.9660755144521636,
          329.27551899970024,
          85.5161811876072,
          87.14566529567246,
          101.20896765649667,
          158.86340515537185,
          487.1622071774838,
          22.545322298984612,
          155.56359250615836,
          31.35204157059172,
          125.72493492724527,
          16.8677848002082,
          87.70415164446136,
          488.966416274477,
          402.7212556578137,
          245.1220252832178,
          18.797197327062644,
          79.5857150396747,
          84.43774541288501,
          109.28562240864463,
          36.759136792407475,
          32.86454471009135,
          66.42610491829251,
          102.07285770392212,
          139.4167002913416,
          10.309728789991945,
          243.92253243861285,
          29.292661386858455,
          179.1711125144536,
          143.97717727580465,
          378.8105863780791,
          319.58905202263844,
          20.625323588411174,
          498.7335089748986,
          104.22568560040787,
          120.74017452109477,
          64.6574733122825,
          16.69113615952419,
          74.71951920918359
         ],
         "y": [
          310.94947195013077,
          2.3068248135360157,
          168.2054294374462,
          48.45553756430389,
          44.12287786458794,
          73.46017980853948,
          67.68304109524806,
          249.1157735222374,
          14.964272593790975,
          74.63981694295543,
          16.503032118774218,
          61.44519664209808,
          9.837397365931798,
          15.50148211561831,
          116.9030108024412,
          219.73525226608606,
          54.38767430236587,
          12.99260111684864,
          57.32085449614561,
          35.624322595235945,
          31.622801276708135,
          26.305415153847402,
          8.078605966385771,
          49.4268891114781,
          18.95511487004067,
          76.83949186724269,
          6.440617472938811,
          53.59855118151031,
          11.736169491594541,
          40.64710379016033,
          61.24853688821653,
          197.24233681096499,
          148.07494267369808,
          11.821262019038882,
          92.09553545533672,
          53.15826607008767,
          76.39400601897755,
          25.242982463270593,
          3.4051709259010434,
          34.07485155136476
         ]
        }
       ],
       "layout": {
        "legend": {
         "orientation": "h",
         "x": 1,
         "xanchor": "right",
         "y": 1.02,
         "yanchor": "bottom"
        },
        "margin": {
         "b": 0,
         "l": 0,
         "r": 0,
         "t": 0
        },
        "template": {
         "data": {
          "bar": [
           {
            "error_x": {
             "color": "#2a3f5f"
            },
            "error_y": {
             "color": "#2a3f5f"
            },
            "marker": {
             "line": {
              "color": "white",
              "width": 0.5
             }
            },
            "type": "bar"
           }
          ],
          "barpolar": [
           {
            "marker": {
             "line": {
              "color": "white",
              "width": 0.5
             }
            },
            "type": "barpolar"
           }
          ],
          "carpet": [
           {
            "aaxis": {
             "endlinecolor": "#2a3f5f",
             "gridcolor": "#C8D4E3",
             "linecolor": "#C8D4E3",
             "minorgridcolor": "#C8D4E3",
             "startlinecolor": "#2a3f5f"
            },
            "baxis": {
             "endlinecolor": "#2a3f5f",
             "gridcolor": "#C8D4E3",
             "linecolor": "#C8D4E3",
             "minorgridcolor": "#C8D4E3",
             "startlinecolor": "#2a3f5f"
            },
            "type": "carpet"
           }
          ],
          "choropleth": [
           {
            "colorbar": {
             "outlinewidth": 0,
             "ticks": ""
            },
            "type": "choropleth"
           }
          ],
          "contour": [
           {
            "colorbar": {
             "outlinewidth": 0,
             "ticks": ""
            },
            "colorscale": [
             [
              0,
              "#0d0887"
             ],
             [
              0.1111111111111111,
              "#46039f"
             ],
             [
              0.2222222222222222,
              "#7201a8"
             ],
             [
              0.3333333333333333,
              "#9c179e"
             ],
             [
              0.4444444444444444,
              "#bd3786"
             ],
             [
              0.5555555555555556,
              "#d8576b"
             ],
             [
              0.6666666666666666,
              "#ed7953"
             ],
             [
              0.7777777777777778,
              "#fb9f3a"
             ],
             [
              0.8888888888888888,
              "#fdca26"
             ],
             [
              1,
              "#f0f921"
             ]
            ],
            "type": "contour"
           }
          ],
          "contourcarpet": [
           {
            "colorbar": {
             "outlinewidth": 0,
             "ticks": ""
            },
            "type": "contourcarpet"
           }
          ],
          "heatmap": [
           {
            "colorbar": {
             "outlinewidth": 0,
             "ticks": ""
            },
            "colorscale": [
             [
              0,
              "#0d0887"
             ],
             [
              0.1111111111111111,
              "#46039f"
             ],
             [
              0.2222222222222222,
              "#7201a8"
             ],
             [
              0.3333333333333333,
              "#9c179e"
             ],
             [
              0.4444444444444444,
              "#bd3786"
             ],
             [
              0.5555555555555556,
              "#d8576b"
             ],
             [
              0.6666666666666666,
              "#ed7953"
             ],
             [
              0.7777777777777778,
              "#fb9f3a"
             ],
             [
              0.8888888888888888,
              "#fdca26"
             ],
             [
              1,
              "#f0f921"
             ]
            ],
            "type": "heatmap"
           }
          ],
          "heatmapgl": [
           {
            "colorbar": {
             "outlinewidth": 0,
             "ticks": ""
            },
            "colorscale": [
             [
              0,
              "#0d0887"
             ],
             [
              0.1111111111111111,
              "#46039f"
             ],
             [
              0.2222222222222222,
              "#7201a8"
             ],
             [
              0.3333333333333333,
              "#9c179e"
             ],
             [
              0.4444444444444444,
              "#bd3786"
             ],
             [
              0.5555555555555556,
              "#d8576b"
             ],
             [
              0.6666666666666666,
              "#ed7953"
             ],
             [
              0.7777777777777778,
              "#fb9f3a"
             ],
             [
              0.8888888888888888,
              "#fdca26"
             ],
             [
              1,
              "#f0f921"
             ]
            ],
            "type": "heatmapgl"
           }
          ],
          "histogram": [
           {
            "marker": {
             "colorbar": {
              "outlinewidth": 0,
              "ticks": ""
             }
            },
            "type": "histogram"
           }
          ],
          "histogram2d": [
           {
            "colorbar": {
             "outlinewidth": 0,
             "ticks": ""
            },
            "colorscale": [
             [
              0,
              "#0d0887"
             ],
             [
              0.1111111111111111,
              "#46039f"
             ],
             [
              0.2222222222222222,
              "#7201a8"
             ],
             [
              0.3333333333333333,
              "#9c179e"
             ],
             [
              0.4444444444444444,
              "#bd3786"
             ],
             [
              0.5555555555555556,
              "#d8576b"
             ],
             [
              0.6666666666666666,
              "#ed7953"
             ],
             [
              0.7777777777777778,
              "#fb9f3a"
             ],
             [
              0.8888888888888888,
              "#fdca26"
             ],
             [
              1,
              "#f0f921"
             ]
            ],
            "type": "histogram2d"
           }
          ],
          "histogram2dcontour": [
           {
            "colorbar": {
             "outlinewidth": 0,
             "ticks": ""
            },
            "colorscale": [
             [
              0,
              "#0d0887"
             ],
             [
              0.1111111111111111,
              "#46039f"
             ],
             [
              0.2222222222222222,
              "#7201a8"
             ],
             [
              0.3333333333333333,
              "#9c179e"
             ],
             [
              0.4444444444444444,
              "#bd3786"
             ],
             [
              0.5555555555555556,
              "#d8576b"
             ],
             [
              0.6666666666666666,
              "#ed7953"
             ],
             [
              0.7777777777777778,
              "#fb9f3a"
             ],
             [
              0.8888888888888888,
              "#fdca26"
             ],
             [
              1,
              "#f0f921"
             ]
            ],
            "type": "histogram2dcontour"
           }
          ],
          "mesh3d": [
           {
            "colorbar": {
             "outlinewidth": 0,
             "ticks": ""
            },
            "type": "mesh3d"
           }
          ],
          "parcoords": [
           {
            "line": {
             "colorbar": {
              "outlinewidth": 0,
              "ticks": ""
             }
            },
            "type": "parcoords"
           }
          ],
          "pie": [
           {
            "automargin": true,
            "type": "pie"
           }
          ],
          "scatter": [
           {
            "marker": {
             "colorbar": {
              "outlinewidth": 0,
              "ticks": ""
             }
            },
            "type": "scatter"
           }
          ],
          "scatter3d": [
           {
            "line": {
             "colorbar": {
              "outlinewidth": 0,
              "ticks": ""
             }
            },
            "marker": {
             "colorbar": {
              "outlinewidth": 0,
              "ticks": ""
             }
            },
            "type": "scatter3d"
           }
          ],
          "scattercarpet": [
           {
            "marker": {
             "colorbar": {
              "outlinewidth": 0,
              "ticks": ""
             }
            },
            "type": "scattercarpet"
           }
          ],
          "scattergeo": [
           {
            "marker": {
             "colorbar": {
              "outlinewidth": 0,
              "ticks": ""
             }
            },
            "type": "scattergeo"
           }
          ],
          "scattergl": [
           {
            "marker": {
             "colorbar": {
              "outlinewidth": 0,
              "ticks": ""
             }
            },
            "type": "scattergl"
           }
          ],
          "scattermapbox": [
           {
            "marker": {
             "colorbar": {
              "outlinewidth": 0,
              "ticks": ""
             }
            },
            "type": "scattermapbox"
           }
          ],
          "scatterpolar": [
           {
            "marker": {
             "colorbar": {
              "outlinewidth": 0,
              "ticks": ""
             }
            },
            "type": "scatterpolar"
           }
          ],
          "scatterpolargl": [
           {
            "marker": {
             "colorbar": {
              "outlinewidth": 0,
              "ticks": ""
             }
            },
            "type": "scatterpolargl"
           }
          ],
          "scatterternary": [
           {
            "marker": {
             "colorbar": {
              "outlinewidth": 0,
              "ticks": ""
             }
            },
            "type": "scatterternary"
           }
          ],
          "surface": [
           {
            "colorbar": {
             "outlinewidth": 0,
             "ticks": ""
            },
            "colorscale": [
             [
              0,
              "#0d0887"
             ],
             [
              0.1111111111111111,
              "#46039f"
             ],
             [
              0.2222222222222222,
              "#7201a8"
             ],
             [
              0.3333333333333333,
              "#9c179e"
             ],
             [
              0.4444444444444444,
              "#bd3786"
             ],
             [
              0.5555555555555556,
              "#d8576b"
             ],
             [
              0.6666666666666666,
              "#ed7953"
             ],
             [
              0.7777777777777778,
              "#fb9f3a"
             ],
             [
              0.8888888888888888,
              "#fdca26"
             ],
             [
              1,
              "#f0f921"
             ]
            ],
            "type": "surface"
           }
          ],
          "table": [
           {
            "cells": {
             "fill": {
              "color": "#EBF0F8"
             },
             "line": {
              "color": "white"
             }
            },
            "header": {
             "fill": {
              "color": "#C8D4E3"
             },
             "line": {
              "color": "white"
             }
            },
            "type": "table"
           }
          ]
         },
         "layout": {
          "annotationdefaults": {
           "arrowcolor": "#2a3f5f",
           "arrowhead": 0,
           "arrowwidth": 1
          },
          "coloraxis": {
           "colorbar": {
            "outlinewidth": 0,
            "ticks": ""
           }
          },
          "colorscale": {
           "diverging": [
            [
             0,
             "#8e0152"
            ],
            [
             0.1,
             "#c51b7d"
            ],
            [
             0.2,
             "#de77ae"
            ],
            [
             0.3,
             "#f1b6da"
            ],
            [
             0.4,
             "#fde0ef"
            ],
            [
             0.5,
             "#f7f7f7"
            ],
            [
             0.6,
             "#e6f5d0"
            ],
            [
             0.7,
             "#b8e186"
            ],
            [
             0.8,
             "#7fbc41"
            ],
            [
             0.9,
             "#4d9221"
            ],
            [
             1,
             "#276419"
            ]
           ],
           "sequential": [
            [
             0,
             "#0d0887"
            ],
            [
             0.1111111111111111,
             "#46039f"
            ],
            [
             0.2222222222222222,
             "#7201a8"
            ],
            [
             0.3333333333333333,
             "#9c179e"
            ],
            [
             0.4444444444444444,
             "#bd3786"
            ],
            [
             0.5555555555555556,
             "#d8576b"
            ],
            [
             0.6666666666666666,
             "#ed7953"
            ],
            [
             0.7777777777777778,
             "#fb9f3a"
            ],
            [
             0.8888888888888888,
             "#fdca26"
            ],
            [
             1,
             "#f0f921"
            ]
           ],
           "sequentialminus": [
            [
             0,
             "#0d0887"
            ],
            [
             0.1111111111111111,
             "#46039f"
            ],
            [
             0.2222222222222222,
             "#7201a8"
            ],
            [
             0.3333333333333333,
             "#9c179e"
            ],
            [
             0.4444444444444444,
             "#bd3786"
            ],
            [
             0.5555555555555556,
             "#d8576b"
            ],
            [
             0.6666666666666666,
             "#ed7953"
            ],
            [
             0.7777777777777778,
             "#fb9f3a"
            ],
            [
             0.8888888888888888,
             "#fdca26"
            ],
            [
             1,
             "#f0f921"
            ]
           ]
          },
          "colorway": [
           "#636efa",
           "#EF553B",
           "#00cc96",
           "#ab63fa",
           "#FFA15A",
           "#19d3f3",
           "#FF6692",
           "#B6E880",
           "#FF97FF",
           "#FECB52"
          ],
          "font": {
           "color": "#2a3f5f"
          },
          "geo": {
           "bgcolor": "white",
           "lakecolor": "white",
           "landcolor": "white",
           "showlakes": true,
           "showland": true,
           "subunitcolor": "#C8D4E3"
          },
          "hoverlabel": {
           "align": "left"
          },
          "hovermode": "closest",
          "mapbox": {
           "style": "light"
          },
          "paper_bgcolor": "white",
          "plot_bgcolor": "white",
          "polar": {
           "angularaxis": {
            "gridcolor": "#EBF0F8",
            "linecolor": "#EBF0F8",
            "ticks": ""
           },
           "bgcolor": "white",
           "radialaxis": {
            "gridcolor": "#EBF0F8",
            "linecolor": "#EBF0F8",
            "ticks": ""
           }
          },
          "scene": {
           "xaxis": {
            "backgroundcolor": "white",
            "gridcolor": "#DFE8F3",
            "gridwidth": 2,
            "linecolor": "#EBF0F8",
            "showbackground": true,
            "ticks": "",
            "zerolinecolor": "#EBF0F8"
           },
           "yaxis": {
            "backgroundcolor": "white",
            "gridcolor": "#DFE8F3",
            "gridwidth": 2,
            "linecolor": "#EBF0F8",
            "showbackground": true,
            "ticks": "",
            "zerolinecolor": "#EBF0F8"
           },
           "zaxis": {
            "backgroundcolor": "white",
            "gridcolor": "#DFE8F3",
            "gridwidth": 2,
            "linecolor": "#EBF0F8",
            "showbackground": true,
            "ticks": "",
            "zerolinecolor": "#EBF0F8"
           }
          },
          "shapedefaults": {
           "line": {
            "color": "#2a3f5f"
           }
          },
          "ternary": {
           "aaxis": {
            "gridcolor": "#DFE8F3",
            "linecolor": "#A2B1C6",
            "ticks": ""
           },
           "baxis": {
            "gridcolor": "#DFE8F3",
            "linecolor": "#A2B1C6",
            "ticks": ""
           },
           "bgcolor": "white",
           "caxis": {
            "gridcolor": "#DFE8F3",
            "linecolor": "#A2B1C6",
            "ticks": ""
           }
          },
          "title": {
           "x": 0.05
          },
          "xaxis": {
           "automargin": true,
           "gridcolor": "#EBF0F8",
           "linecolor": "#EBF0F8",
           "ticks": "",
           "title": {
            "standoff": 15
           },
           "zerolinecolor": "#EBF0F8",
           "zerolinewidth": 2
          },
          "yaxis": {
           "automargin": true,
           "gridcolor": "#EBF0F8",
           "linecolor": "#EBF0F8",
           "ticks": "",
           "title": {
            "standoff": 15
           },
           "zerolinecolor": "#EBF0F8",
           "zerolinewidth": 2
          }
         }
        },
        "width": 900,
        "xaxis": {
         "categoryorder": "sum descending",
         "title": {
          "text": "Water (Mm<sup>3</sup>/yr)"
         }
        },
        "yaxis": {
         "title": {
          "text": "Energy (GWh/yr)"
         }
        }
       }
      },
      "text/html": [
       "<div>                            <div id=\"2fbefc65-1faa-4c3e-a9fe-dfc71c93e47e\" class=\"plotly-graph-div\" style=\"height:525px; width:900px;\"></div>            <script type=\"text/javascript\">                require([\"plotly\"], function(Plotly) {                    window.PLOTLYENV=window.PLOTLYENV || {};                                    if (document.getElementById(\"2fbefc65-1faa-4c3e-a9fe-dfc71c93e47e\")) {                    Plotly.newPlot(                        \"2fbefc65-1faa-4c3e-a9fe-dfc71c93e47e\",                        [{\"marker\": {\"color\": [100.73973429951691, 292.6395939086294, 245.9986320109439, 284.5528455284553, 257.83847980997626, 276.9021739130435, 199.6007984031936, 230.14811275680842, 282.46268656716416, 243.646080760095, 249.10332103321034, 249.3969298245614, 275.57544757033247, 100.0891265597148, 123.61169102296451, 250.0, 100.0, 296.7013888888889, 300.0, 223.34183673469389, 134.44108761329306, 299.660441426146, 125.27881040892193, 300.0, 104.15472779369628, 250.0, 282.0, 100.0, 175.0, 126.6931216931217, 196.92005242463958, 250.0, 204.01234567901236, 300.0, 95.31812725090036, 250.0, 281.8627450980392, 180.73089700996678, 148.29172141918528, 250.0], \"colorscale\": [[0.0, \"#440154\"], [0.1111111111111111, \"#482878\"], [0.2222222222222222, \"#3e4989\"], [0.3333333333333333, \"#31688e\"], [0.4444444444444444, \"#26828e\"], [0.5555555555555556, \"#1f9e89\"], [0.6666666666666666, \"#35b779\"], [0.7777777777777778, \"#6ece58\"], [0.8888888888888888, \"#b5de2b\"], [1.0, \"#fde725\"]], \"showscale\": true, \"size\": [18.178732852145984, 10.0, 18.475024762219775, 16.442448425798318, 15.573187340489396, 13.517511283779925, 20.668256129003492, 23.84868402465386, 10.470708219742287, 15.021833379632376, 15.532194480946124, 10.434273923968924, 15.532194480946124, 10.520916047699691, 20.210227724755086, 22.546573334681092, 20.61232938102436, 10.35479632063075, 15.532194480946124, 18.75926323223113, 16.263443314767102, 15.532194480946124, 23.622280082132846, 10.35479632063075, 10.384466224128257, 37.702225762562065, 13.82365308804205, 20.7095926412615, 15.593830173330831, 19.27599209246165, 16.15307512533519, 15.763328327388775, 25.8408274434945, 20.01927288655278, 15.665824805612125, 25.833889281983893, 13.918064466259565, 20.97620284553023, 15.464160339549075, 11.04874456288064]}, \"mode\": \"markers\", \"text\": [\"Cluster: 0\", \"Cluster: 1\", \"Cluster: 2\", \"Cluster: 3\", \"Cluster: 4\", \"Cluster: 5\", \"Cluster: 6\", \"Cluster: 7\", \"Cluster: 8\", \"Cluster: 9\", \"Cluster: 10\", \"Cluster: 11\", \"Cluster: 12\", \"Cluster: 13\", \"Cluster: 14\", \"Cluster: 15\", \"Cluster: 16\", \"Cluster: 17\", \"Cluster: 18\", \"Cluster: 19\", \"Cluster: 20\", \"Cluster: 21\", \"Cluster: 22\", \"Cluster: 23\", \"Cluster: 24\", \"Cluster: 25\", \"Cluster: 26\", \"Cluster: 27\", \"Cluster: 28\", \"Cluster: 29\", \"Cluster: 30\", \"Cluster: 31\", \"Cluster: 32\", \"Cluster: 33\", \"Cluster: 34\", \"Cluster: 35\", \"Cluster: 36\", \"Cluster: 37\", \"Cluster: 38\", \"Cluster: 39\"], \"type\": \"scatter\", \"x\": [1471.4007335467675, 3.9660755144521636, 329.27551899970024, 85.5161811876072, 87.14566529567246, 101.20896765649667, 158.86340515537185, 487.1622071774838, 22.545322298984612, 155.56359250615836, 31.35204157059172, 125.72493492724527, 16.8677848002082, 87.70415164446136, 488.966416274477, 402.7212556578137, 245.1220252832178, 18.797197327062644, 79.5857150396747, 84.43774541288501, 109.28562240864463, 36.759136792407475, 32.86454471009135, 66.42610491829251, 102.07285770392212, 139.4167002913416, 10.309728789991945, 243.92253243861285, 29.292661386858455, 179.1711125144536, 143.97717727580465, 378.8105863780791, 319.58905202263844, 20.625323588411174, 498.7335089748986, 104.22568560040787, 120.74017452109477, 64.6574733122825, 16.69113615952419, 74.71951920918359], \"y\": [310.94947195013077, 2.3068248135360157, 168.2054294374462, 48.45553756430389, 44.12287786458794, 73.46017980853948, 67.68304109524806, 249.1157735222374, 14.964272593790975, 74.63981694295543, 16.503032118774218, 61.44519664209808, 9.837397365931798, 15.50148211561831, 116.9030108024412, 219.73525226608606, 54.38767430236587, 12.99260111684864, 57.32085449614561, 35.624322595235945, 31.622801276708135, 26.305415153847402, 8.078605966385771, 49.4268891114781, 18.95511487004067, 76.83949186724269, 6.440617472938811, 53.59855118151031, 11.736169491594541, 40.64710379016033, 61.24853688821653, 197.24233681096499, 148.07494267369808, 11.821262019038882, 92.09553545533672, 53.15826607008767, 76.39400601897755, 25.242982463270593, 3.4051709259010434, 34.07485155136476]}],                        {\"legend\": {\"orientation\": \"h\", \"x\": 1, \"xanchor\": \"right\", \"y\": 1.02, \"yanchor\": \"bottom\"}, \"margin\": {\"b\": 0, \"l\": 0, \"r\": 0, \"t\": 0}, \"template\": {\"data\": {\"bar\": [{\"error_x\": {\"color\": \"#2a3f5f\"}, \"error_y\": {\"color\": \"#2a3f5f\"}, \"marker\": {\"line\": {\"color\": \"white\", \"width\": 0.5}}, \"type\": \"bar\"}], \"barpolar\": [{\"marker\": {\"line\": {\"color\": \"white\", \"width\": 0.5}}, \"type\": \"barpolar\"}], \"carpet\": [{\"aaxis\": {\"endlinecolor\": \"#2a3f5f\", \"gridcolor\": \"#C8D4E3\", \"linecolor\": \"#C8D4E3\", \"minorgridcolor\": \"#C8D4E3\", \"startlinecolor\": \"#2a3f5f\"}, \"baxis\": {\"endlinecolor\": \"#2a3f5f\", \"gridcolor\": \"#C8D4E3\", \"linecolor\": \"#C8D4E3\", \"minorgridcolor\": \"#C8D4E3\", \"startlinecolor\": \"#2a3f5f\"}, \"type\": \"carpet\"}], \"choropleth\": [{\"colorbar\": {\"outlinewidth\": 0, \"ticks\": \"\"}, \"type\": \"choropleth\"}], \"contour\": [{\"colorbar\": {\"outlinewidth\": 0, \"ticks\": \"\"}, \"colorscale\": [[0.0, \"#0d0887\"], [0.1111111111111111, \"#46039f\"], [0.2222222222222222, \"#7201a8\"], [0.3333333333333333, \"#9c179e\"], [0.4444444444444444, \"#bd3786\"], [0.5555555555555556, \"#d8576b\"], [0.6666666666666666, \"#ed7953\"], [0.7777777777777778, \"#fb9f3a\"], [0.8888888888888888, \"#fdca26\"], [1.0, \"#f0f921\"]], \"type\": \"contour\"}], \"contourcarpet\": [{\"colorbar\": {\"outlinewidth\": 0, \"ticks\": \"\"}, \"type\": \"contourcarpet\"}], \"heatmap\": [{\"colorbar\": {\"outlinewidth\": 0, \"ticks\": \"\"}, \"colorscale\": [[0.0, \"#0d0887\"], [0.1111111111111111, \"#46039f\"], [0.2222222222222222, \"#7201a8\"], [0.3333333333333333, \"#9c179e\"], [0.4444444444444444, \"#bd3786\"], [0.5555555555555556, \"#d8576b\"], [0.6666666666666666, \"#ed7953\"], [0.7777777777777778, \"#fb9f3a\"], [0.8888888888888888, \"#fdca26\"], [1.0, \"#f0f921\"]], \"type\": \"heatmap\"}], \"heatmapgl\": [{\"colorbar\": {\"outlinewidth\": 0, \"ticks\": \"\"}, \"colorscale\": [[0.0, \"#0d0887\"], [0.1111111111111111, \"#46039f\"], [0.2222222222222222, \"#7201a8\"], [0.3333333333333333, \"#9c179e\"], [0.4444444444444444, \"#bd3786\"], [0.5555555555555556, \"#d8576b\"], [0.6666666666666666, \"#ed7953\"], [0.7777777777777778, \"#fb9f3a\"], [0.8888888888888888, \"#fdca26\"], [1.0, \"#f0f921\"]], \"type\": \"heatmapgl\"}], \"histogram\": [{\"marker\": {\"colorbar\": {\"outlinewidth\": 0, \"ticks\": \"\"}}, \"type\": \"histogram\"}], \"histogram2d\": [{\"colorbar\": {\"outlinewidth\": 0, \"ticks\": \"\"}, \"colorscale\": [[0.0, \"#0d0887\"], [0.1111111111111111, \"#46039f\"], [0.2222222222222222, \"#7201a8\"], [0.3333333333333333, \"#9c179e\"], [0.4444444444444444, \"#bd3786\"], [0.5555555555555556, \"#d8576b\"], [0.6666666666666666, \"#ed7953\"], [0.7777777777777778, \"#fb9f3a\"], [0.8888888888888888, \"#fdca26\"], [1.0, \"#f0f921\"]], \"type\": \"histogram2d\"}], \"histogram2dcontour\": [{\"colorbar\": {\"outlinewidth\": 0, \"ticks\": \"\"}, \"colorscale\": [[0.0, \"#0d0887\"], [0.1111111111111111, \"#46039f\"], [0.2222222222222222, \"#7201a8\"], [0.3333333333333333, \"#9c179e\"], [0.4444444444444444, \"#bd3786\"], [0.5555555555555556, \"#d8576b\"], [0.6666666666666666, \"#ed7953\"], [0.7777777777777778, \"#fb9f3a\"], [0.8888888888888888, \"#fdca26\"], [1.0, \"#f0f921\"]], \"type\": \"histogram2dcontour\"}], \"mesh3d\": [{\"colorbar\": {\"outlinewidth\": 0, \"ticks\": \"\"}, \"type\": \"mesh3d\"}], \"parcoords\": [{\"line\": {\"colorbar\": {\"outlinewidth\": 0, \"ticks\": \"\"}}, \"type\": \"parcoords\"}], \"pie\": [{\"automargin\": true, \"type\": \"pie\"}], \"scatter\": [{\"marker\": {\"colorbar\": {\"outlinewidth\": 0, \"ticks\": \"\"}}, \"type\": \"scatter\"}], \"scatter3d\": [{\"line\": {\"colorbar\": {\"outlinewidth\": 0, \"ticks\": \"\"}}, \"marker\": {\"colorbar\": {\"outlinewidth\": 0, \"ticks\": \"\"}}, \"type\": \"scatter3d\"}], \"scattercarpet\": [{\"marker\": {\"colorbar\": {\"outlinewidth\": 0, \"ticks\": \"\"}}, \"type\": \"scattercarpet\"}], \"scattergeo\": [{\"marker\": {\"colorbar\": {\"outlinewidth\": 0, \"ticks\": \"\"}}, \"type\": \"scattergeo\"}], \"scattergl\": [{\"marker\": {\"colorbar\": {\"outlinewidth\": 0, \"ticks\": \"\"}}, \"type\": \"scattergl\"}], \"scattermapbox\": [{\"marker\": {\"colorbar\": {\"outlinewidth\": 0, \"ticks\": \"\"}}, \"type\": \"scattermapbox\"}], \"scatterpolar\": [{\"marker\": {\"colorbar\": {\"outlinewidth\": 0, \"ticks\": \"\"}}, \"type\": \"scatterpolar\"}], \"scatterpolargl\": [{\"marker\": {\"colorbar\": {\"outlinewidth\": 0, \"ticks\": \"\"}}, \"type\": \"scatterpolargl\"}], \"scatterternary\": [{\"marker\": {\"colorbar\": {\"outlinewidth\": 0, \"ticks\": \"\"}}, \"type\": \"scatterternary\"}], \"surface\": [{\"colorbar\": {\"outlinewidth\": 0, \"ticks\": \"\"}, \"colorscale\": [[0.0, \"#0d0887\"], [0.1111111111111111, \"#46039f\"], [0.2222222222222222, \"#7201a8\"], [0.3333333333333333, \"#9c179e\"], [0.4444444444444444, \"#bd3786\"], [0.5555555555555556, \"#d8576b\"], [0.6666666666666666, \"#ed7953\"], [0.7777777777777778, \"#fb9f3a\"], [0.8888888888888888, \"#fdca26\"], [1.0, \"#f0f921\"]], \"type\": \"surface\"}], \"table\": [{\"cells\": {\"fill\": {\"color\": \"#EBF0F8\"}, \"line\": {\"color\": \"white\"}}, \"header\": {\"fill\": {\"color\": \"#C8D4E3\"}, \"line\": {\"color\": \"white\"}}, \"type\": \"table\"}]}, \"layout\": {\"annotationdefaults\": {\"arrowcolor\": \"#2a3f5f\", \"arrowhead\": 0, \"arrowwidth\": 1}, \"coloraxis\": {\"colorbar\": {\"outlinewidth\": 0, \"ticks\": \"\"}}, \"colorscale\": {\"diverging\": [[0, \"#8e0152\"], [0.1, \"#c51b7d\"], [0.2, \"#de77ae\"], [0.3, \"#f1b6da\"], [0.4, \"#fde0ef\"], [0.5, \"#f7f7f7\"], [0.6, \"#e6f5d0\"], [0.7, \"#b8e186\"], [0.8, \"#7fbc41\"], [0.9, \"#4d9221\"], [1, \"#276419\"]], \"sequential\": [[0.0, \"#0d0887\"], [0.1111111111111111, \"#46039f\"], [0.2222222222222222, \"#7201a8\"], [0.3333333333333333, \"#9c179e\"], [0.4444444444444444, \"#bd3786\"], [0.5555555555555556, \"#d8576b\"], [0.6666666666666666, \"#ed7953\"], [0.7777777777777778, \"#fb9f3a\"], [0.8888888888888888, \"#fdca26\"], [1.0, \"#f0f921\"]], \"sequentialminus\": [[0.0, \"#0d0887\"], [0.1111111111111111, \"#46039f\"], [0.2222222222222222, \"#7201a8\"], [0.3333333333333333, \"#9c179e\"], [0.4444444444444444, \"#bd3786\"], [0.5555555555555556, \"#d8576b\"], [0.6666666666666666, \"#ed7953\"], [0.7777777777777778, \"#fb9f3a\"], [0.8888888888888888, \"#fdca26\"], [1.0, \"#f0f921\"]]}, \"colorway\": [\"#636efa\", \"#EF553B\", \"#00cc96\", \"#ab63fa\", \"#FFA15A\", \"#19d3f3\", \"#FF6692\", \"#B6E880\", \"#FF97FF\", \"#FECB52\"], \"font\": {\"color\": \"#2a3f5f\"}, \"geo\": {\"bgcolor\": \"white\", \"lakecolor\": \"white\", \"landcolor\": \"white\", \"showlakes\": true, \"showland\": true, \"subunitcolor\": \"#C8D4E3\"}, \"hoverlabel\": {\"align\": \"left\"}, \"hovermode\": \"closest\", \"mapbox\": {\"style\": \"light\"}, \"paper_bgcolor\": \"white\", \"plot_bgcolor\": \"white\", \"polar\": {\"angularaxis\": {\"gridcolor\": \"#EBF0F8\", \"linecolor\": \"#EBF0F8\", \"ticks\": \"\"}, \"bgcolor\": \"white\", \"radialaxis\": {\"gridcolor\": \"#EBF0F8\", \"linecolor\": \"#EBF0F8\", \"ticks\": \"\"}}, \"scene\": {\"xaxis\": {\"backgroundcolor\": \"white\", \"gridcolor\": \"#DFE8F3\", \"gridwidth\": 2, \"linecolor\": \"#EBF0F8\", \"showbackground\": true, \"ticks\": \"\", \"zerolinecolor\": \"#EBF0F8\"}, \"yaxis\": {\"backgroundcolor\": \"white\", \"gridcolor\": \"#DFE8F3\", \"gridwidth\": 2, \"linecolor\": \"#EBF0F8\", \"showbackground\": true, \"ticks\": \"\", \"zerolinecolor\": \"#EBF0F8\"}, \"zaxis\": {\"backgroundcolor\": \"white\", \"gridcolor\": \"#DFE8F3\", \"gridwidth\": 2, \"linecolor\": \"#EBF0F8\", \"showbackground\": true, \"ticks\": \"\", \"zerolinecolor\": \"#EBF0F8\"}}, \"shapedefaults\": {\"line\": {\"color\": \"#2a3f5f\"}}, \"ternary\": {\"aaxis\": {\"gridcolor\": \"#DFE8F3\", \"linecolor\": \"#A2B1C6\", \"ticks\": \"\"}, \"baxis\": {\"gridcolor\": \"#DFE8F3\", \"linecolor\": \"#A2B1C6\", \"ticks\": \"\"}, \"bgcolor\": \"white\", \"caxis\": {\"gridcolor\": \"#DFE8F3\", \"linecolor\": \"#A2B1C6\", \"ticks\": \"\"}}, \"title\": {\"x\": 0.05}, \"xaxis\": {\"automargin\": true, \"gridcolor\": \"#EBF0F8\", \"linecolor\": \"#EBF0F8\", \"ticks\": \"\", \"title\": {\"standoff\": 15}, \"zerolinecolor\": \"#EBF0F8\", \"zerolinewidth\": 2}, \"yaxis\": {\"automargin\": true, \"gridcolor\": \"#EBF0F8\", \"linecolor\": \"#EBF0F8\", \"ticks\": \"\", \"title\": {\"standoff\": 15}, \"zerolinecolor\": \"#EBF0F8\", \"zerolinewidth\": 2}}}, \"width\": 900, \"xaxis\": {\"categoryorder\": \"sum descending\", \"title\": {\"text\": \"Water (Mm<sup>3</sup>/yr)\"}}, \"yaxis\": {\"title\": {\"text\": \"Energy (GWh/yr)\"}}},                        {\"responsive\": true}                    ).then(function(){\n",
       "                            \n",
       "var gd = document.getElementById('2fbefc65-1faa-4c3e-a9fe-dfc71c93e47e');\n",
       "var x = new MutationObserver(function (mutations, observer) {{\n",
       "        var display = window.getComputedStyle(gd).display;\n",
       "        if (!display || display === 'none') {{\n",
       "            console.log([gd, 'removed!']);\n",
       "            Plotly.purge(gd);\n",
       "            observer.disconnect();\n",
       "        }}\n",
       "}});\n",
       "\n",
       "// Listen for the removal of the full notebook cells\n",
       "var notebookContainer = gd.closest('#notebook-container');\n",
       "if (notebookContainer) {{\n",
       "    x.observe(notebookContainer, {childList: true});\n",
       "}}\n",
       "\n",
       "// Listen for the clearing of the current output cell\n",
       "var outputEl = gd.closest('.output');\n",
       "if (outputEl) {{\n",
       "    x.observe(outputEl, {childList: true});\n",
       "}}\n",
       "\n",
       "                        })                };                });            </script>        </div>"
      ]
     },
     "metadata": {},
     "output_type": "display_data"
    }
   ],
   "source": [
    "fig = go.Figure()\n",
    "dff = dff_energy.merge(dff_water)\n",
    "\n",
    "\n",
    "fig.add_trace(go.Scatter(x=dff[['IrrigationWater','PopulationWater']].sum(axis=1)/1000000, \n",
    "                         y=dff[['FinalAveragePumpingEnergy','FinalAverageDesalinationEnergy']].sum(axis=1)/1000000,\n",
    "                         mode='markers',\n",
    "                         text='Cluster: ' + dff['Cluster'].astype(int).astype(str),\n",
    "                         marker=dict(size = dff['TDS']/dff['TDS'].min()*10,\n",
    "                                    color=dff['GroundwaterDepth'],\n",
    "                                    colorscale='viridis',\n",
    "                                    showscale=True\n",
    "                        )))\n",
    "# fig.add_trace(go.Bar(x=dff['Cluster'], y=dff['IrrigationDesalinationEnergy']/1000000, name='Desalination Energy', marker=dict(color='#66c2a5', line=dict(width=1, color='Grey'))))\n",
    "\n",
    "fig.update_layout(width=900, template='plotly_white',\n",
    "                  xaxis={'categoryorder':'sum descending', 'title': 'Water (Mm<sup>3</sup>/yr)'}, \n",
    "                  yaxis={'title': 'Energy (GWh/yr)'},\n",
    "                  legend=dict(\n",
    "                            orientation=\"h\",\n",
    "                            yanchor=\"bottom\",\n",
    "                            y=1.02,\n",
    "                            xanchor=\"right\",\n",
    "                            x=1\n",
    "                ),\n",
    "                 margin=dict(b=0, l=0, r=0, t=0))\n",
    "fig.show()\n",
    "# fig.write_image('BaselineEnergy.pdf')"
   ]
  },
  {
   "cell_type": "code",
   "execution_count": 48,
   "metadata": {},
   "outputs": [],
   "source": [
    "dff.to_csv('DataForNexusPlot.csv')"
   ]
  },
  {
   "cell_type": "code",
   "execution_count": 28,
   "metadata": {},
   "outputs": [],
   "source": [
    "dff = df.groupby('Cluster').agg({'MovingBedBiofilmReactorLCOW': 'mean', 'TricklingFilterLCOW': 'mean', 'IntermittentSandFilterLCOW': 'mean', \n",
    "                             'RotatingBiologicalContractorsLCOW': 'mean', 'SequencingBatchReactorLCOW': 'mean', 'Membrane BioreactorLCOW': 'mean', \n",
    "                             'ExtendedAerationLCOW': 'mean', 'PopulationWater': 'sum','FinalIrrigationWater': 'sum', 'PondSystemLCOW': 'mean'}).reset_index()"
   ]
  },
  {
   "cell_type": "code",
   "execution_count": 29,
   "metadata": {},
   "outputs": [],
   "source": [
    "dff['total_extractions'] = dff['FinalIrrigationWater'] + dff['PopulationWater']\n",
    "dff['cat_order'] = [cluster for value, cluster in dff[['total_extractions', 'Cluster']].sort_values('total_extractions', ascending=False).values]\n",
    "\n",
    "dff_sorted = dff.sort_values('total_extractions', ascending=False).reset_index(drop=True)\n",
    "dff_sorted = dff_sorted.loc[range(10)]"
   ]
  },
  {
   "cell_type": "code",
   "execution_count": 30,
   "metadata": {},
   "outputs": [],
   "source": [
    "dff_melt = dff_sorted.melt(id_vars=['Cluster', 'PopulationWater', \n",
    "                             'FinalIrrigationWater', 'total_extractions', 'cat_order'])"
   ]
  },
  {
   "cell_type": "code",
   "execution_count": 31,
   "metadata": {},
   "outputs": [
    {
     "data": {
      "application/vnd.plotly.v1+json": {
       "config": {
        "plotlyServerURL": "https://plot.ly"
       },
       "data": [
        {
         "alignmentgroup": "True",
         "hovertemplate": "variable=Extended aeration<br>Cluster=%{x}<br>value=%{y}<extra></extra>",
         "legendgroup": "Extended aeration",
         "marker": {
          "color": "#4C78A8"
         },
         "name": "Extended aeration",
         "offsetgroup": "Extended aeration",
         "orientation": "v",
         "showlegend": true,
         "textposition": "auto",
         "type": "bar",
         "x": [
          14,
          0,
          15,
          27,
          34,
          31,
          32,
          2,
          16,
          7
         ],
         "xaxis": "x2",
         "y": [
          0.03104942384285129,
          0.03690540898907659,
          0.040844219118699364,
          0.05313985812975447,
          0.056783120917453925,
          0.07408953090694996,
          0.07652521755154845,
          0.07827487440077104,
          0.3217961357358306,
          0.5158444856114529
         ],
         "yaxis": "y2"
        },
        {
         "alignmentgroup": "True",
         "hovertemplate": "variable=Rotating biological contractors<br>Cluster=%{x}<br>value=%{y}<extra></extra>",
         "legendgroup": "Rotating biological contractors",
         "marker": {
          "color": "#F58518"
         },
         "name": "Rotating biological contractors",
         "offsetgroup": "Rotating biological contractors",
         "orientation": "v",
         "showlegend": true,
         "textposition": "auto",
         "type": "bar",
         "x": [
          14,
          0,
          15,
          27,
          34,
          31,
          32,
          2,
          16,
          7
         ],
         "xaxis": "x2",
         "y": [
          0.03551857369779286,
          0.040591966910848834,
          0.04389933760818347,
          0.05378844977802183,
          0.056612292936477994,
          0.0695055094232329,
          0.07126052741835012,
          0.0725132372471559,
          0.2152055425838952,
          0.30919293482502425
         ],
         "yaxis": "y2"
        },
        {
         "alignmentgroup": "True",
         "hovertemplate": "variable=Sequencing batch reactor<br>Cluster=%{x}<br>value=%{y}<extra></extra>",
         "legendgroup": "Sequencing batch reactor",
         "marker": {
          "color": "#E45756"
         },
         "name": "Sequencing batch reactor",
         "offsetgroup": "Sequencing batch reactor",
         "orientation": "v",
         "showlegend": true,
         "textposition": "auto",
         "type": "bar",
         "x": [
          14,
          0,
          15,
          27,
          34,
          31,
          32,
          2,
          16,
          7
         ],
         "xaxis": "x2",
         "y": [
          0.041849714362569505,
          0.04779035747038007,
          0.05165935017265088,
          0.06321164735605643,
          0.06650630508212911,
          0.08152829108502115,
          0.08357059130908542,
          0.08502801515452026,
          0.24969053792290571,
          0.35715930288387915
         ],
         "yaxis": "y2"
        },
        {
         "alignmentgroup": "True",
         "hovertemplate": "variable=Pond system<br>Cluster=%{x}<br>value=%{y}<extra></extra>",
         "legendgroup": "Pond system",
         "marker": {
          "color": "#72B7B2"
         },
         "name": "Pond system",
         "offsetgroup": "Pond system",
         "orientation": "v",
         "showlegend": true,
         "textposition": "auto",
         "type": "bar",
         "x": [
          0,
          34,
          7,
          14,
          31,
          15,
          32,
          2,
          16,
          27
         ],
         "xaxis": "x2",
         "y": [
          0.060313713061996906,
          0.062246152324321596,
          0.0624273207825607,
          0.06256528030931859,
          0.06324326112185986,
          0.06338117120617781,
          0.06346510533153922,
          0.06349127932963936,
          0.0639388320438596,
          0.06427016267237705
         ],
         "yaxis": "y2"
        },
        {
         "alignmentgroup": "True",
         "hovertemplate": "variable=Membrane  bioreactor<br>Cluster=%{x}<br>value=%{y}<extra></extra>",
         "legendgroup": "Membrane  bioreactor",
         "marker": {
          "color": "#54A24B"
         },
         "name": "Membrane  bioreactor",
         "offsetgroup": "Membrane  bioreactor",
         "orientation": "v",
         "showlegend": true,
         "textposition": "auto",
         "type": "bar",
         "x": [
          14,
          0,
          15,
          27,
          34,
          31,
          32,
          2,
          16,
          7
         ],
         "xaxis": "x2",
         "y": [
          0.08417257940332966,
          0.09332438455985644,
          0.09915240339917869,
          0.11603138210964643,
          0.1207199391695969,
          0.14151413342034388,
          0.14427533827044114,
          0.14623705503920945,
          0.34041406998948026,
          0.45144591576425075
         ],
         "yaxis": "y2"
        },
        {
         "alignmentgroup": "True",
         "hovertemplate": "variable=Intermittent sand filter<br>Cluster=%{x}<br>value=%{y}<extra></extra>",
         "legendgroup": "Intermittent sand filter",
         "marker": {
          "color": "#EECA3B"
         },
         "name": "Intermittent sand filter",
         "offsetgroup": "Intermittent sand filter",
         "orientation": "v",
         "showlegend": true,
         "textposition": "auto",
         "type": "bar",
         "x": [
          14,
          0,
          15,
          27,
          34,
          31,
          32,
          2,
          16,
          7
         ],
         "xaxis": "x2",
         "y": [
          0.1295589643729303,
          0.13043648001663788,
          0.13101204595216112,
          0.1327509661320018,
          0.13325278404070037,
          0.13557645589573286,
          0.1358970891778171,
          0.13612661675592708,
          0.16698552871829367,
          0.19392402741504752
         ],
         "yaxis": "y2"
        },
        {
         "alignmentgroup": "True",
         "hovertemplate": "variable=Trickling filter<br>Cluster=%{x}<br>value=%{y}<extra></extra>",
         "legendgroup": "Trickling filter",
         "marker": {
          "color": "#B279A2"
         },
         "name": "Trickling filter",
         "offsetgroup": "Trickling filter",
         "orientation": "v",
         "showlegend": true,
         "textposition": "auto",
         "type": "bar",
         "x": [
          14,
          0,
          15,
          27,
          34,
          31,
          32,
          2,
          16,
          7
         ],
         "xaxis": "x2",
         "y": [
          0.15002142124751575,
          0.15204507257961322,
          0.1533998595076689,
          0.15760580427879717,
          0.15884714099183977,
          0.16472667676575284,
          0.16555280633000838,
          0.166146150436004,
          0.2513681242783364,
          0.32565234117287767
         ],
         "yaxis": "y2"
        },
        {
         "alignmentgroup": "True",
         "hovertemplate": "variable=Moving bed biofilm reactor<br>Cluster=%{x}<br>value=%{y}<extra></extra>",
         "legendgroup": "Moving bed biofilm reactor",
         "marker": {
          "color": "#FF9DA6"
         },
         "name": "Moving bed biofilm reactor",
         "offsetgroup": "Moving bed biofilm reactor",
         "orientation": "v",
         "showlegend": true,
         "textposition": "auto",
         "type": "bar",
         "x": [
          14,
          0,
          15,
          27,
          34,
          31,
          32,
          2,
          16,
          7
         ],
         "xaxis": "x2",
         "y": [
          0.197351416662507,
          0.20113255041962935,
          0.20345783222160013,
          0.20989218405816318,
          0.21161192342200966,
          0.21895992829857563,
          0.21990641505348588,
          0.22057526471417938,
          0.28301488672180464,
          0.325036275483427
         ],
         "yaxis": "y2"
        },
        {
         "hovertemplate": "PopColor=Population water extractions<br>Cluster=%{x}<br>PopulationWater=%{y}<extra></extra>",
         "legendgroup": "Population water extractions",
         "marker": {
          "color": "#BAB0AC",
          "size": 10,
          "symbol": "circle"
         },
         "mode": "markers",
         "name": "Population water extractions",
         "orientation": "v",
         "showlegend": true,
         "type": "scatter",
         "x": [
          7,
          7,
          7,
          16,
          7,
          7,
          16,
          7,
          16,
          16,
          16,
          2,
          32,
          31,
          16,
          34,
          27,
          15,
          0,
          14,
          7,
          16,
          2,
          32,
          31,
          34,
          27,
          15,
          0,
          14,
          2,
          32,
          31,
          2,
          32,
          31,
          34,
          27,
          15,
          0,
          14,
          34,
          27,
          15,
          0,
          2,
          14,
          32,
          31,
          2,
          32,
          31,
          2,
          32,
          31,
          34,
          27,
          16,
          2,
          32,
          15,
          31,
          27,
          14,
          7,
          34,
          0,
          34,
          34,
          27,
          27,
          15,
          0,
          15,
          14,
          15,
          0,
          0,
          14,
          14
         ],
         "xaxis": "x",
         "y": [
          0.9809890717631846,
          0.9809890717631846,
          0.9809890717631846,
          1.140511352562051,
          0.9809890717631846,
          0.9809890717631846,
          1.140511352562051,
          0.9809890717631846,
          1.140511352562051,
          1.140511352562051,
          1.140511352562051,
          8.381184692656579,
          9.05317962404427,
          9.398844523656692,
          1.140511352562051,
          15.162074814013497,
          17.62868341428087,
          29.32252991353399,
          35.81122801452179,
          49.144432571407826,
          0.9809890717631846,
          1.140511352562051,
          8.381184692656579,
          9.05317962404427,
          9.398844523656692,
          15.162074814013497,
          17.62868341428087,
          29.32252991353399,
          35.81122801452179,
          49.144432571407826,
          8.381184692656579,
          9.05317962404427,
          9.398844523656692,
          8.381184692656579,
          9.05317962404427,
          9.398844523656692,
          15.162074814013497,
          17.62868341428087,
          29.32252991353399,
          35.81122801452179,
          49.144432571407826,
          15.162074814013497,
          17.62868341428087,
          29.32252991353399,
          35.81122801452179,
          8.381184692656579,
          49.144432571407826,
          9.05317962404427,
          9.398844523656692,
          8.381184692656579,
          9.05317962404427,
          9.398844523656692,
          8.381184692656579,
          9.05317962404427,
          9.398844523656692,
          15.162074814013497,
          17.62868341428087,
          1.140511352562051,
          8.381184692656579,
          9.05317962404427,
          29.32252991353399,
          9.398844523656692,
          17.62868341428087,
          49.144432571407826,
          0.9809890717631846,
          15.162074814013497,
          35.81122801452179,
          15.162074814013497,
          15.162074814013497,
          17.62868341428087,
          17.62868341428087,
          29.32252991353399,
          35.81122801452179,
          29.32252991353399,
          49.144432571407826,
          29.32252991353399,
          35.81122801452179,
          35.81122801452179,
          49.144432571407826,
          49.144432571407826
         ],
         "yaxis": "y"
        },
        {
         "hovertemplate": "AgColor=Irrigation water extractions<br>Cluster=%{x}<br>FinalIrrigationWater=%{y}<extra></extra>",
         "legendgroup": "Irrigation water extractions",
         "marker": {
          "color": "LightSkyBlue",
          "size": 10,
          "symbol": "circle"
         },
         "mode": "markers",
         "name": "Irrigation water extractions",
         "orientation": "v",
         "showlegend": true,
         "type": "scatter",
         "x": [
          7,
          7,
          7,
          16,
          7,
          7,
          16,
          7,
          16,
          16,
          16,
          2,
          32,
          31,
          16,
          34,
          27,
          15,
          0,
          14,
          7,
          16,
          2,
          32,
          31,
          34,
          27,
          15,
          0,
          14,
          2,
          32,
          31,
          2,
          32,
          31,
          34,
          27,
          15,
          0,
          14,
          34,
          27,
          15,
          0,
          2,
          14,
          32,
          31,
          2,
          32,
          31,
          2,
          32,
          31,
          34,
          27,
          16,
          2,
          32,
          15,
          31,
          27,
          14,
          7,
          34,
          0,
          34,
          34,
          27,
          27,
          15,
          0,
          15,
          14,
          15,
          0,
          0,
          14,
          14
         ],
         "xaxis": "x",
         "y": [
          283.3843986965245,
          283.3843986965245,
          283.3843986965245,
          131.50800295749096,
          283.3843986965245,
          283.3843986965245,
          131.50800295749096,
          283.3843986965245,
          131.50800295749096,
          131.50800295749096,
          131.50800295749096,
          182.98586850026038,
          170.6424842692739,
          217.23758688142559,
          131.50800295749096,
          246.35086138328336,
          113.04984024917947,
          215.682355403847,
          741.5735381089355,
          214.18287033448163,
          283.3843986965245,
          131.50800295749096,
          182.98586850026038,
          170.6424842692739,
          217.23758688142559,
          246.35086138328336,
          113.04984024917947,
          215.682355403847,
          741.5735381089355,
          214.18287033448163,
          182.98586850026038,
          170.6424842692739,
          217.23758688142559,
          182.98586850026038,
          170.6424842692739,
          217.23758688142559,
          246.35086138328336,
          113.04984024917947,
          215.682355403847,
          741.5735381089355,
          214.18287033448163,
          246.35086138328336,
          113.04984024917947,
          215.682355403847,
          741.5735381089355,
          182.98586850026038,
          214.18287033448163,
          170.6424842692739,
          217.23758688142559,
          182.98586850026038,
          170.6424842692739,
          217.23758688142559,
          182.98586850026038,
          170.6424842692739,
          217.23758688142559,
          246.35086138328336,
          113.04984024917947,
          131.50800295749096,
          182.98586850026038,
          170.6424842692739,
          215.682355403847,
          217.23758688142559,
          113.04984024917947,
          214.18287033448163,
          283.3843986965245,
          246.35086138328336,
          741.5735381089355,
          246.35086138328336,
          246.35086138328336,
          113.04984024917947,
          113.04984024917947,
          215.682355403847,
          741.5735381089355,
          215.682355403847,
          214.18287033448163,
          215.682355403847,
          741.5735381089355,
          741.5735381089355,
          214.18287033448163,
          214.18287033448163
         ],
         "yaxis": "y"
        }
       ],
       "layout": {
        "annotations": [
         {
          "showarrow": false,
          "text": "<b>a)</b>",
          "x": -0.065,
          "xref": "paper",
          "y": 1.09,
          "yref": "paper"
         },
         {
          "showarrow": false,
          "text": "<b>b)</b>",
          "x": -0.065,
          "xref": "paper",
          "y": 0.45,
          "yref": "paper"
         }
        ],
        "barmode": "group",
        "legend": {
         "orientation": "h",
         "x": 0.5,
         "xanchor": "center",
         "y": -0.15,
         "yanchor": "top"
        },
        "margin": {
         "b": 0,
         "l": 0,
         "r": 0,
         "t": 30
        },
        "template": {
         "data": {
          "bar": [
           {
            "error_x": {
             "color": "#2a3f5f"
            },
            "error_y": {
             "color": "#2a3f5f"
            },
            "marker": {
             "line": {
              "color": "white",
              "width": 0.5
             }
            },
            "type": "bar"
           }
          ],
          "barpolar": [
           {
            "marker": {
             "line": {
              "color": "white",
              "width": 0.5
             }
            },
            "type": "barpolar"
           }
          ],
          "carpet": [
           {
            "aaxis": {
             "endlinecolor": "#2a3f5f",
             "gridcolor": "#C8D4E3",
             "linecolor": "#C8D4E3",
             "minorgridcolor": "#C8D4E3",
             "startlinecolor": "#2a3f5f"
            },
            "baxis": {
             "endlinecolor": "#2a3f5f",
             "gridcolor": "#C8D4E3",
             "linecolor": "#C8D4E3",
             "minorgridcolor": "#C8D4E3",
             "startlinecolor": "#2a3f5f"
            },
            "type": "carpet"
           }
          ],
          "choropleth": [
           {
            "colorbar": {
             "outlinewidth": 0,
             "ticks": ""
            },
            "type": "choropleth"
           }
          ],
          "contour": [
           {
            "colorbar": {
             "outlinewidth": 0,
             "ticks": ""
            },
            "colorscale": [
             [
              0,
              "#0d0887"
             ],
             [
              0.1111111111111111,
              "#46039f"
             ],
             [
              0.2222222222222222,
              "#7201a8"
             ],
             [
              0.3333333333333333,
              "#9c179e"
             ],
             [
              0.4444444444444444,
              "#bd3786"
             ],
             [
              0.5555555555555556,
              "#d8576b"
             ],
             [
              0.6666666666666666,
              "#ed7953"
             ],
             [
              0.7777777777777778,
              "#fb9f3a"
             ],
             [
              0.8888888888888888,
              "#fdca26"
             ],
             [
              1,
              "#f0f921"
             ]
            ],
            "type": "contour"
           }
          ],
          "contourcarpet": [
           {
            "colorbar": {
             "outlinewidth": 0,
             "ticks": ""
            },
            "type": "contourcarpet"
           }
          ],
          "heatmap": [
           {
            "colorbar": {
             "outlinewidth": 0,
             "ticks": ""
            },
            "colorscale": [
             [
              0,
              "#0d0887"
             ],
             [
              0.1111111111111111,
              "#46039f"
             ],
             [
              0.2222222222222222,
              "#7201a8"
             ],
             [
              0.3333333333333333,
              "#9c179e"
             ],
             [
              0.4444444444444444,
              "#bd3786"
             ],
             [
              0.5555555555555556,
              "#d8576b"
             ],
             [
              0.6666666666666666,
              "#ed7953"
             ],
             [
              0.7777777777777778,
              "#fb9f3a"
             ],
             [
              0.8888888888888888,
              "#fdca26"
             ],
             [
              1,
              "#f0f921"
             ]
            ],
            "type": "heatmap"
           }
          ],
          "heatmapgl": [
           {
            "colorbar": {
             "outlinewidth": 0,
             "ticks": ""
            },
            "colorscale": [
             [
              0,
              "#0d0887"
             ],
             [
              0.1111111111111111,
              "#46039f"
             ],
             [
              0.2222222222222222,
              "#7201a8"
             ],
             [
              0.3333333333333333,
              "#9c179e"
             ],
             [
              0.4444444444444444,
              "#bd3786"
             ],
             [
              0.5555555555555556,
              "#d8576b"
             ],
             [
              0.6666666666666666,
              "#ed7953"
             ],
             [
              0.7777777777777778,
              "#fb9f3a"
             ],
             [
              0.8888888888888888,
              "#fdca26"
             ],
             [
              1,
              "#f0f921"
             ]
            ],
            "type": "heatmapgl"
           }
          ],
          "histogram": [
           {
            "marker": {
             "colorbar": {
              "outlinewidth": 0,
              "ticks": ""
             }
            },
            "type": "histogram"
           }
          ],
          "histogram2d": [
           {
            "colorbar": {
             "outlinewidth": 0,
             "ticks": ""
            },
            "colorscale": [
             [
              0,
              "#0d0887"
             ],
             [
              0.1111111111111111,
              "#46039f"
             ],
             [
              0.2222222222222222,
              "#7201a8"
             ],
             [
              0.3333333333333333,
              "#9c179e"
             ],
             [
              0.4444444444444444,
              "#bd3786"
             ],
             [
              0.5555555555555556,
              "#d8576b"
             ],
             [
              0.6666666666666666,
              "#ed7953"
             ],
             [
              0.7777777777777778,
              "#fb9f3a"
             ],
             [
              0.8888888888888888,
              "#fdca26"
             ],
             [
              1,
              "#f0f921"
             ]
            ],
            "type": "histogram2d"
           }
          ],
          "histogram2dcontour": [
           {
            "colorbar": {
             "outlinewidth": 0,
             "ticks": ""
            },
            "colorscale": [
             [
              0,
              "#0d0887"
             ],
             [
              0.1111111111111111,
              "#46039f"
             ],
             [
              0.2222222222222222,
              "#7201a8"
             ],
             [
              0.3333333333333333,
              "#9c179e"
             ],
             [
              0.4444444444444444,
              "#bd3786"
             ],
             [
              0.5555555555555556,
              "#d8576b"
             ],
             [
              0.6666666666666666,
              "#ed7953"
             ],
             [
              0.7777777777777778,
              "#fb9f3a"
             ],
             [
              0.8888888888888888,
              "#fdca26"
             ],
             [
              1,
              "#f0f921"
             ]
            ],
            "type": "histogram2dcontour"
           }
          ],
          "mesh3d": [
           {
            "colorbar": {
             "outlinewidth": 0,
             "ticks": ""
            },
            "type": "mesh3d"
           }
          ],
          "parcoords": [
           {
            "line": {
             "colorbar": {
              "outlinewidth": 0,
              "ticks": ""
             }
            },
            "type": "parcoords"
           }
          ],
          "pie": [
           {
            "automargin": true,
            "type": "pie"
           }
          ],
          "scatter": [
           {
            "marker": {
             "colorbar": {
              "outlinewidth": 0,
              "ticks": ""
             }
            },
            "type": "scatter"
           }
          ],
          "scatter3d": [
           {
            "line": {
             "colorbar": {
              "outlinewidth": 0,
              "ticks": ""
             }
            },
            "marker": {
             "colorbar": {
              "outlinewidth": 0,
              "ticks": ""
             }
            },
            "type": "scatter3d"
           }
          ],
          "scattercarpet": [
           {
            "marker": {
             "colorbar": {
              "outlinewidth": 0,
              "ticks": ""
             }
            },
            "type": "scattercarpet"
           }
          ],
          "scattergeo": [
           {
            "marker": {
             "colorbar": {
              "outlinewidth": 0,
              "ticks": ""
             }
            },
            "type": "scattergeo"
           }
          ],
          "scattergl": [
           {
            "marker": {
             "colorbar": {
              "outlinewidth": 0,
              "ticks": ""
             }
            },
            "type": "scattergl"
           }
          ],
          "scattermapbox": [
           {
            "marker": {
             "colorbar": {
              "outlinewidth": 0,
              "ticks": ""
             }
            },
            "type": "scattermapbox"
           }
          ],
          "scatterpolar": [
           {
            "marker": {
             "colorbar": {
              "outlinewidth": 0,
              "ticks": ""
             }
            },
            "type": "scatterpolar"
           }
          ],
          "scatterpolargl": [
           {
            "marker": {
             "colorbar": {
              "outlinewidth": 0,
              "ticks": ""
             }
            },
            "type": "scatterpolargl"
           }
          ],
          "scatterternary": [
           {
            "marker": {
             "colorbar": {
              "outlinewidth": 0,
              "ticks": ""
             }
            },
            "type": "scatterternary"
           }
          ],
          "surface": [
           {
            "colorbar": {
             "outlinewidth": 0,
             "ticks": ""
            },
            "colorscale": [
             [
              0,
              "#0d0887"
             ],
             [
              0.1111111111111111,
              "#46039f"
             ],
             [
              0.2222222222222222,
              "#7201a8"
             ],
             [
              0.3333333333333333,
              "#9c179e"
             ],
             [
              0.4444444444444444,
              "#bd3786"
             ],
             [
              0.5555555555555556,
              "#d8576b"
             ],
             [
              0.6666666666666666,
              "#ed7953"
             ],
             [
              0.7777777777777778,
              "#fb9f3a"
             ],
             [
              0.8888888888888888,
              "#fdca26"
             ],
             [
              1,
              "#f0f921"
             ]
            ],
            "type": "surface"
           }
          ],
          "table": [
           {
            "cells": {
             "fill": {
              "color": "#EBF0F8"
             },
             "line": {
              "color": "white"
             }
            },
            "header": {
             "fill": {
              "color": "#C8D4E3"
             },
             "line": {
              "color": "white"
             }
            },
            "type": "table"
           }
          ]
         },
         "layout": {
          "annotationdefaults": {
           "arrowcolor": "#2a3f5f",
           "arrowhead": 0,
           "arrowwidth": 1
          },
          "coloraxis": {
           "colorbar": {
            "outlinewidth": 0,
            "ticks": ""
           }
          },
          "colorscale": {
           "diverging": [
            [
             0,
             "#8e0152"
            ],
            [
             0.1,
             "#c51b7d"
            ],
            [
             0.2,
             "#de77ae"
            ],
            [
             0.3,
             "#f1b6da"
            ],
            [
             0.4,
             "#fde0ef"
            ],
            [
             0.5,
             "#f7f7f7"
            ],
            [
             0.6,
             "#e6f5d0"
            ],
            [
             0.7,
             "#b8e186"
            ],
            [
             0.8,
             "#7fbc41"
            ],
            [
             0.9,
             "#4d9221"
            ],
            [
             1,
             "#276419"
            ]
           ],
           "sequential": [
            [
             0,
             "#0d0887"
            ],
            [
             0.1111111111111111,
             "#46039f"
            ],
            [
             0.2222222222222222,
             "#7201a8"
            ],
            [
             0.3333333333333333,
             "#9c179e"
            ],
            [
             0.4444444444444444,
             "#bd3786"
            ],
            [
             0.5555555555555556,
             "#d8576b"
            ],
            [
             0.6666666666666666,
             "#ed7953"
            ],
            [
             0.7777777777777778,
             "#fb9f3a"
            ],
            [
             0.8888888888888888,
             "#fdca26"
            ],
            [
             1,
             "#f0f921"
            ]
           ],
           "sequentialminus": [
            [
             0,
             "#0d0887"
            ],
            [
             0.1111111111111111,
             "#46039f"
            ],
            [
             0.2222222222222222,
             "#7201a8"
            ],
            [
             0.3333333333333333,
             "#9c179e"
            ],
            [
             0.4444444444444444,
             "#bd3786"
            ],
            [
             0.5555555555555556,
             "#d8576b"
            ],
            [
             0.6666666666666666,
             "#ed7953"
            ],
            [
             0.7777777777777778,
             "#fb9f3a"
            ],
            [
             0.8888888888888888,
             "#fdca26"
            ],
            [
             1,
             "#f0f921"
            ]
           ]
          },
          "colorway": [
           "#636efa",
           "#EF553B",
           "#00cc96",
           "#ab63fa",
           "#FFA15A",
           "#19d3f3",
           "#FF6692",
           "#B6E880",
           "#FF97FF",
           "#FECB52"
          ],
          "font": {
           "color": "#2a3f5f"
          },
          "geo": {
           "bgcolor": "white",
           "lakecolor": "white",
           "landcolor": "white",
           "showlakes": true,
           "showland": true,
           "subunitcolor": "#C8D4E3"
          },
          "hoverlabel": {
           "align": "left"
          },
          "hovermode": "closest",
          "mapbox": {
           "style": "light"
          },
          "paper_bgcolor": "white",
          "plot_bgcolor": "white",
          "polar": {
           "angularaxis": {
            "gridcolor": "#EBF0F8",
            "linecolor": "#EBF0F8",
            "ticks": ""
           },
           "bgcolor": "white",
           "radialaxis": {
            "gridcolor": "#EBF0F8",
            "linecolor": "#EBF0F8",
            "ticks": ""
           }
          },
          "scene": {
           "xaxis": {
            "backgroundcolor": "white",
            "gridcolor": "#DFE8F3",
            "gridwidth": 2,
            "linecolor": "#EBF0F8",
            "showbackground": true,
            "ticks": "",
            "zerolinecolor": "#EBF0F8"
           },
           "yaxis": {
            "backgroundcolor": "white",
            "gridcolor": "#DFE8F3",
            "gridwidth": 2,
            "linecolor": "#EBF0F8",
            "showbackground": true,
            "ticks": "",
            "zerolinecolor": "#EBF0F8"
           },
           "zaxis": {
            "backgroundcolor": "white",
            "gridcolor": "#DFE8F3",
            "gridwidth": 2,
            "linecolor": "#EBF0F8",
            "showbackground": true,
            "ticks": "",
            "zerolinecolor": "#EBF0F8"
           }
          },
          "shapedefaults": {
           "line": {
            "color": "#2a3f5f"
           }
          },
          "ternary": {
           "aaxis": {
            "gridcolor": "#DFE8F3",
            "linecolor": "#A2B1C6",
            "ticks": ""
           },
           "baxis": {
            "gridcolor": "#DFE8F3",
            "linecolor": "#A2B1C6",
            "ticks": ""
           },
           "bgcolor": "white",
           "caxis": {
            "gridcolor": "#DFE8F3",
            "linecolor": "#A2B1C6",
            "ticks": ""
           }
          },
          "title": {
           "x": 0.05
          },
          "xaxis": {
           "automargin": true,
           "gridcolor": "#EBF0F8",
           "linecolor": "#EBF0F8",
           "ticks": "",
           "title": {
            "standoff": 15
           },
           "zerolinecolor": "#EBF0F8",
           "zerolinewidth": 2
          },
          "yaxis": {
           "automargin": true,
           "gridcolor": "#EBF0F8",
           "linecolor": "#EBF0F8",
           "ticks": "",
           "title": {
            "standoff": 15
           },
           "zerolinecolor": "#EBF0F8",
           "zerolinewidth": 2
          }
         }
        },
        "width": 900,
        "xaxis": {
         "anchor": "y",
         "domain": [
          0,
          1
         ],
         "matches": "x2",
         "showticklabels": false,
         "type": "category"
        },
        "xaxis2": {
         "anchor": "y2",
         "categoryarray": [
          0,
          7,
          14,
          34,
          15,
          31,
          2,
          32,
          16,
          27
         ],
         "categoryorder": "array",
         "domain": [
          0,
          1
         ],
         "showticklabels": true,
         "title": {
          "text": "Cluster"
         },
         "type": "category"
        },
        "yaxis": {
         "anchor": "x",
         "domain": [
          0.515,
          1
         ],
         "title": {
          "text": "Water extractions (Mm<sup>3</sup>)"
         },
         "type": "log"
        },
        "yaxis2": {
         "anchor": "x2",
         "domain": [
          0,
          0.485
         ],
         "title": {
          "text": "LCOW ($/m<sup>3</sup>)"
         }
        }
       }
      },
      "text/html": [
       "<div>                            <div id=\"47a10c0c-6eac-4113-b65d-aa13846039f3\" class=\"plotly-graph-div\" style=\"height:525px; width:900px;\"></div>            <script type=\"text/javascript\">                require([\"plotly\"], function(Plotly) {                    window.PLOTLYENV=window.PLOTLYENV || {};                                    if (document.getElementById(\"47a10c0c-6eac-4113-b65d-aa13846039f3\")) {                    Plotly.newPlot(                        \"47a10c0c-6eac-4113-b65d-aa13846039f3\",                        [{\"alignmentgroup\": \"True\", \"hovertemplate\": \"variable=Extended aeration<br>Cluster=%{x}<br>value=%{y}<extra></extra>\", \"legendgroup\": \"Extended aeration\", \"marker\": {\"color\": \"#4C78A8\"}, \"name\": \"Extended aeration\", \"offsetgroup\": \"Extended aeration\", \"orientation\": \"v\", \"showlegend\": true, \"textposition\": \"auto\", \"type\": \"bar\", \"x\": [14.0, 0.0, 15.0, 27.0, 34.0, 31.0, 32.0, 2.0, 16.0, 7.0], \"xaxis\": \"x2\", \"y\": [0.03104942384285129, 0.03690540898907659, 0.040844219118699364, 0.05313985812975447, 0.056783120917453925, 0.07408953090694996, 0.07652521755154845, 0.07827487440077104, 0.3217961357358306, 0.5158444856114529], \"yaxis\": \"y2\"}, {\"alignmentgroup\": \"True\", \"hovertemplate\": \"variable=Rotating biological contractors<br>Cluster=%{x}<br>value=%{y}<extra></extra>\", \"legendgroup\": \"Rotating biological contractors\", \"marker\": {\"color\": \"#F58518\"}, \"name\": \"Rotating biological contractors\", \"offsetgroup\": \"Rotating biological contractors\", \"orientation\": \"v\", \"showlegend\": true, \"textposition\": \"auto\", \"type\": \"bar\", \"x\": [14.0, 0.0, 15.0, 27.0, 34.0, 31.0, 32.0, 2.0, 16.0, 7.0], \"xaxis\": \"x2\", \"y\": [0.03551857369779286, 0.040591966910848834, 0.04389933760818347, 0.05378844977802183, 0.056612292936477994, 0.0695055094232329, 0.07126052741835012, 0.0725132372471559, 0.2152055425838952, 0.30919293482502425], \"yaxis\": \"y2\"}, {\"alignmentgroup\": \"True\", \"hovertemplate\": \"variable=Sequencing batch reactor<br>Cluster=%{x}<br>value=%{y}<extra></extra>\", \"legendgroup\": \"Sequencing batch reactor\", \"marker\": {\"color\": \"#E45756\"}, \"name\": \"Sequencing batch reactor\", \"offsetgroup\": \"Sequencing batch reactor\", \"orientation\": \"v\", \"showlegend\": true, \"textposition\": \"auto\", \"type\": \"bar\", \"x\": [14.0, 0.0, 15.0, 27.0, 34.0, 31.0, 32.0, 2.0, 16.0, 7.0], \"xaxis\": \"x2\", \"y\": [0.041849714362569505, 0.04779035747038007, 0.05165935017265088, 0.06321164735605643, 0.06650630508212911, 0.08152829108502115, 0.08357059130908542, 0.08502801515452026, 0.24969053792290571, 0.35715930288387915], \"yaxis\": \"y2\"}, {\"alignmentgroup\": \"True\", \"hovertemplate\": \"variable=Pond system<br>Cluster=%{x}<br>value=%{y}<extra></extra>\", \"legendgroup\": \"Pond system\", \"marker\": {\"color\": \"#72B7B2\"}, \"name\": \"Pond system\", \"offsetgroup\": \"Pond system\", \"orientation\": \"v\", \"showlegend\": true, \"textposition\": \"auto\", \"type\": \"bar\", \"x\": [0.0, 34.0, 7.0, 14.0, 31.0, 15.0, 32.0, 2.0, 16.0, 27.0], \"xaxis\": \"x2\", \"y\": [0.060313713061996906, 0.062246152324321596, 0.0624273207825607, 0.06256528030931859, 0.06324326112185986, 0.06338117120617781, 0.06346510533153922, 0.06349127932963936, 0.0639388320438596, 0.06427016267237705], \"yaxis\": \"y2\"}, {\"alignmentgroup\": \"True\", \"hovertemplate\": \"variable=Membrane  bioreactor<br>Cluster=%{x}<br>value=%{y}<extra></extra>\", \"legendgroup\": \"Membrane  bioreactor\", \"marker\": {\"color\": \"#54A24B\"}, \"name\": \"Membrane  bioreactor\", \"offsetgroup\": \"Membrane  bioreactor\", \"orientation\": \"v\", \"showlegend\": true, \"textposition\": \"auto\", \"type\": \"bar\", \"x\": [14.0, 0.0, 15.0, 27.0, 34.0, 31.0, 32.0, 2.0, 16.0, 7.0], \"xaxis\": \"x2\", \"y\": [0.08417257940332966, 0.09332438455985644, 0.09915240339917869, 0.11603138210964643, 0.1207199391695969, 0.14151413342034388, 0.14427533827044114, 0.14623705503920945, 0.34041406998948026, 0.45144591576425075], \"yaxis\": \"y2\"}, {\"alignmentgroup\": \"True\", \"hovertemplate\": \"variable=Intermittent sand filter<br>Cluster=%{x}<br>value=%{y}<extra></extra>\", \"legendgroup\": \"Intermittent sand filter\", \"marker\": {\"color\": \"#EECA3B\"}, \"name\": \"Intermittent sand filter\", \"offsetgroup\": \"Intermittent sand filter\", \"orientation\": \"v\", \"showlegend\": true, \"textposition\": \"auto\", \"type\": \"bar\", \"x\": [14.0, 0.0, 15.0, 27.0, 34.0, 31.0, 32.0, 2.0, 16.0, 7.0], \"xaxis\": \"x2\", \"y\": [0.1295589643729303, 0.13043648001663788, 0.13101204595216112, 0.1327509661320018, 0.13325278404070037, 0.13557645589573286, 0.1358970891778171, 0.13612661675592708, 0.16698552871829367, 0.19392402741504752], \"yaxis\": \"y2\"}, {\"alignmentgroup\": \"True\", \"hovertemplate\": \"variable=Trickling filter<br>Cluster=%{x}<br>value=%{y}<extra></extra>\", \"legendgroup\": \"Trickling filter\", \"marker\": {\"color\": \"#B279A2\"}, \"name\": \"Trickling filter\", \"offsetgroup\": \"Trickling filter\", \"orientation\": \"v\", \"showlegend\": true, \"textposition\": \"auto\", \"type\": \"bar\", \"x\": [14.0, 0.0, 15.0, 27.0, 34.0, 31.0, 32.0, 2.0, 16.0, 7.0], \"xaxis\": \"x2\", \"y\": [0.15002142124751575, 0.15204507257961322, 0.1533998595076689, 0.15760580427879717, 0.15884714099183977, 0.16472667676575284, 0.16555280633000838, 0.166146150436004, 0.2513681242783364, 0.32565234117287767], \"yaxis\": \"y2\"}, {\"alignmentgroup\": \"True\", \"hovertemplate\": \"variable=Moving bed biofilm reactor<br>Cluster=%{x}<br>value=%{y}<extra></extra>\", \"legendgroup\": \"Moving bed biofilm reactor\", \"marker\": {\"color\": \"#FF9DA6\"}, \"name\": \"Moving bed biofilm reactor\", \"offsetgroup\": \"Moving bed biofilm reactor\", \"orientation\": \"v\", \"showlegend\": true, \"textposition\": \"auto\", \"type\": \"bar\", \"x\": [14.0, 0.0, 15.0, 27.0, 34.0, 31.0, 32.0, 2.0, 16.0, 7.0], \"xaxis\": \"x2\", \"y\": [0.197351416662507, 0.20113255041962935, 0.20345783222160013, 0.20989218405816318, 0.21161192342200966, 0.21895992829857563, 0.21990641505348588, 0.22057526471417938, 0.28301488672180464, 0.325036275483427], \"yaxis\": \"y2\"}, {\"hovertemplate\": \"PopColor=Population water extractions<br>Cluster=%{x}<br>PopulationWater=%{y}<extra></extra>\", \"legendgroup\": \"Population water extractions\", \"marker\": {\"color\": \"#BAB0AC\", \"size\": 10, \"symbol\": \"circle\"}, \"mode\": \"markers\", \"name\": \"Population water extractions\", \"orientation\": \"v\", \"showlegend\": true, \"type\": \"scatter\", \"x\": [7.0, 7.0, 7.0, 16.0, 7.0, 7.0, 16.0, 7.0, 16.0, 16.0, 16.0, 2.0, 32.0, 31.0, 16.0, 34.0, 27.0, 15.0, 0.0, 14.0, 7.0, 16.0, 2.0, 32.0, 31.0, 34.0, 27.0, 15.0, 0.0, 14.0, 2.0, 32.0, 31.0, 2.0, 32.0, 31.0, 34.0, 27.0, 15.0, 0.0, 14.0, 34.0, 27.0, 15.0, 0.0, 2.0, 14.0, 32.0, 31.0, 2.0, 32.0, 31.0, 2.0, 32.0, 31.0, 34.0, 27.0, 16.0, 2.0, 32.0, 15.0, 31.0, 27.0, 14.0, 7.0, 34.0, 0.0, 34.0, 34.0, 27.0, 27.0, 15.0, 0.0, 15.0, 14.0, 15.0, 0.0, 0.0, 14.0, 14.0], \"xaxis\": \"x\", \"y\": [0.9809890717631846, 0.9809890717631846, 0.9809890717631846, 1.140511352562051, 0.9809890717631846, 0.9809890717631846, 1.140511352562051, 0.9809890717631846, 1.140511352562051, 1.140511352562051, 1.140511352562051, 8.381184692656579, 9.05317962404427, 9.398844523656692, 1.140511352562051, 15.162074814013497, 17.62868341428087, 29.32252991353399, 35.81122801452179, 49.144432571407826, 0.9809890717631846, 1.140511352562051, 8.381184692656579, 9.05317962404427, 9.398844523656692, 15.162074814013497, 17.62868341428087, 29.32252991353399, 35.81122801452179, 49.144432571407826, 8.381184692656579, 9.05317962404427, 9.398844523656692, 8.381184692656579, 9.05317962404427, 9.398844523656692, 15.162074814013497, 17.62868341428087, 29.32252991353399, 35.81122801452179, 49.144432571407826, 15.162074814013497, 17.62868341428087, 29.32252991353399, 35.81122801452179, 8.381184692656579, 49.144432571407826, 9.05317962404427, 9.398844523656692, 8.381184692656579, 9.05317962404427, 9.398844523656692, 8.381184692656579, 9.05317962404427, 9.398844523656692, 15.162074814013497, 17.62868341428087, 1.140511352562051, 8.381184692656579, 9.05317962404427, 29.32252991353399, 9.398844523656692, 17.62868341428087, 49.144432571407826, 0.9809890717631846, 15.162074814013497, 35.81122801452179, 15.162074814013497, 15.162074814013497, 17.62868341428087, 17.62868341428087, 29.32252991353399, 35.81122801452179, 29.32252991353399, 49.144432571407826, 29.32252991353399, 35.81122801452179, 35.81122801452179, 49.144432571407826, 49.144432571407826], \"yaxis\": \"y\"}, {\"hovertemplate\": \"AgColor=Irrigation water extractions<br>Cluster=%{x}<br>FinalIrrigationWater=%{y}<extra></extra>\", \"legendgroup\": \"Irrigation water extractions\", \"marker\": {\"color\": \"LightSkyBlue\", \"size\": 10, \"symbol\": \"circle\"}, \"mode\": \"markers\", \"name\": \"Irrigation water extractions\", \"orientation\": \"v\", \"showlegend\": true, \"type\": \"scatter\", \"x\": [7.0, 7.0, 7.0, 16.0, 7.0, 7.0, 16.0, 7.0, 16.0, 16.0, 16.0, 2.0, 32.0, 31.0, 16.0, 34.0, 27.0, 15.0, 0.0, 14.0, 7.0, 16.0, 2.0, 32.0, 31.0, 34.0, 27.0, 15.0, 0.0, 14.0, 2.0, 32.0, 31.0, 2.0, 32.0, 31.0, 34.0, 27.0, 15.0, 0.0, 14.0, 34.0, 27.0, 15.0, 0.0, 2.0, 14.0, 32.0, 31.0, 2.0, 32.0, 31.0, 2.0, 32.0, 31.0, 34.0, 27.0, 16.0, 2.0, 32.0, 15.0, 31.0, 27.0, 14.0, 7.0, 34.0, 0.0, 34.0, 34.0, 27.0, 27.0, 15.0, 0.0, 15.0, 14.0, 15.0, 0.0, 0.0, 14.0, 14.0], \"xaxis\": \"x\", \"y\": [283.3843986965245, 283.3843986965245, 283.3843986965245, 131.50800295749096, 283.3843986965245, 283.3843986965245, 131.50800295749096, 283.3843986965245, 131.50800295749096, 131.50800295749096, 131.50800295749096, 182.98586850026038, 170.6424842692739, 217.23758688142559, 131.50800295749096, 246.35086138328336, 113.04984024917947, 215.682355403847, 741.5735381089355, 214.18287033448163, 283.3843986965245, 131.50800295749096, 182.98586850026038, 170.6424842692739, 217.23758688142559, 246.35086138328336, 113.04984024917947, 215.682355403847, 741.5735381089355, 214.18287033448163, 182.98586850026038, 170.6424842692739, 217.23758688142559, 182.98586850026038, 170.6424842692739, 217.23758688142559, 246.35086138328336, 113.04984024917947, 215.682355403847, 741.5735381089355, 214.18287033448163, 246.35086138328336, 113.04984024917947, 215.682355403847, 741.5735381089355, 182.98586850026038, 214.18287033448163, 170.6424842692739, 217.23758688142559, 182.98586850026038, 170.6424842692739, 217.23758688142559, 182.98586850026038, 170.6424842692739, 217.23758688142559, 246.35086138328336, 113.04984024917947, 131.50800295749096, 182.98586850026038, 170.6424842692739, 215.682355403847, 217.23758688142559, 113.04984024917947, 214.18287033448163, 283.3843986965245, 246.35086138328336, 741.5735381089355, 246.35086138328336, 246.35086138328336, 113.04984024917947, 113.04984024917947, 215.682355403847, 741.5735381089355, 215.682355403847, 214.18287033448163, 215.682355403847, 741.5735381089355, 741.5735381089355, 214.18287033448163, 214.18287033448163], \"yaxis\": \"y\"}],                        {\"annotations\": [{\"showarrow\": false, \"text\": \"<b>a)</b>\", \"x\": -0.065, \"xref\": \"paper\", \"y\": 1.09, \"yref\": \"paper\"}, {\"showarrow\": false, \"text\": \"<b>b)</b>\", \"x\": -0.065, \"xref\": \"paper\", \"y\": 0.45, \"yref\": \"paper\"}], \"barmode\": \"group\", \"legend\": {\"orientation\": \"h\", \"x\": 0.5, \"xanchor\": \"center\", \"y\": -0.15, \"yanchor\": \"top\"}, \"margin\": {\"b\": 0, \"l\": 0, \"r\": 0, \"t\": 30}, \"template\": {\"data\": {\"bar\": [{\"error_x\": {\"color\": \"#2a3f5f\"}, \"error_y\": {\"color\": \"#2a3f5f\"}, \"marker\": {\"line\": {\"color\": \"white\", \"width\": 0.5}}, \"type\": \"bar\"}], \"barpolar\": [{\"marker\": {\"line\": {\"color\": \"white\", \"width\": 0.5}}, \"type\": \"barpolar\"}], \"carpet\": [{\"aaxis\": {\"endlinecolor\": \"#2a3f5f\", \"gridcolor\": \"#C8D4E3\", \"linecolor\": \"#C8D4E3\", \"minorgridcolor\": \"#C8D4E3\", \"startlinecolor\": \"#2a3f5f\"}, \"baxis\": {\"endlinecolor\": \"#2a3f5f\", \"gridcolor\": \"#C8D4E3\", \"linecolor\": \"#C8D4E3\", \"minorgridcolor\": \"#C8D4E3\", \"startlinecolor\": \"#2a3f5f\"}, \"type\": \"carpet\"}], \"choropleth\": [{\"colorbar\": {\"outlinewidth\": 0, \"ticks\": \"\"}, \"type\": \"choropleth\"}], \"contour\": [{\"colorbar\": {\"outlinewidth\": 0, \"ticks\": \"\"}, \"colorscale\": [[0.0, \"#0d0887\"], [0.1111111111111111, \"#46039f\"], [0.2222222222222222, \"#7201a8\"], [0.3333333333333333, \"#9c179e\"], [0.4444444444444444, \"#bd3786\"], [0.5555555555555556, \"#d8576b\"], [0.6666666666666666, \"#ed7953\"], [0.7777777777777778, \"#fb9f3a\"], [0.8888888888888888, \"#fdca26\"], [1.0, \"#f0f921\"]], \"type\": \"contour\"}], \"contourcarpet\": [{\"colorbar\": {\"outlinewidth\": 0, \"ticks\": \"\"}, \"type\": \"contourcarpet\"}], \"heatmap\": [{\"colorbar\": {\"outlinewidth\": 0, \"ticks\": \"\"}, \"colorscale\": [[0.0, \"#0d0887\"], [0.1111111111111111, \"#46039f\"], [0.2222222222222222, \"#7201a8\"], [0.3333333333333333, \"#9c179e\"], [0.4444444444444444, \"#bd3786\"], [0.5555555555555556, \"#d8576b\"], [0.6666666666666666, \"#ed7953\"], [0.7777777777777778, \"#fb9f3a\"], [0.8888888888888888, \"#fdca26\"], [1.0, \"#f0f921\"]], \"type\": \"heatmap\"}], \"heatmapgl\": [{\"colorbar\": {\"outlinewidth\": 0, \"ticks\": \"\"}, \"colorscale\": [[0.0, \"#0d0887\"], [0.1111111111111111, \"#46039f\"], [0.2222222222222222, \"#7201a8\"], [0.3333333333333333, \"#9c179e\"], [0.4444444444444444, \"#bd3786\"], [0.5555555555555556, \"#d8576b\"], [0.6666666666666666, \"#ed7953\"], [0.7777777777777778, \"#fb9f3a\"], [0.8888888888888888, \"#fdca26\"], [1.0, \"#f0f921\"]], \"type\": \"heatmapgl\"}], \"histogram\": [{\"marker\": {\"colorbar\": {\"outlinewidth\": 0, \"ticks\": \"\"}}, \"type\": \"histogram\"}], \"histogram2d\": [{\"colorbar\": {\"outlinewidth\": 0, \"ticks\": \"\"}, \"colorscale\": [[0.0, \"#0d0887\"], [0.1111111111111111, \"#46039f\"], [0.2222222222222222, \"#7201a8\"], [0.3333333333333333, \"#9c179e\"], [0.4444444444444444, \"#bd3786\"], [0.5555555555555556, \"#d8576b\"], [0.6666666666666666, \"#ed7953\"], [0.7777777777777778, \"#fb9f3a\"], [0.8888888888888888, \"#fdca26\"], [1.0, \"#f0f921\"]], \"type\": \"histogram2d\"}], \"histogram2dcontour\": [{\"colorbar\": {\"outlinewidth\": 0, \"ticks\": \"\"}, \"colorscale\": [[0.0, \"#0d0887\"], [0.1111111111111111, \"#46039f\"], [0.2222222222222222, \"#7201a8\"], [0.3333333333333333, \"#9c179e\"], [0.4444444444444444, \"#bd3786\"], [0.5555555555555556, \"#d8576b\"], [0.6666666666666666, \"#ed7953\"], [0.7777777777777778, \"#fb9f3a\"], [0.8888888888888888, \"#fdca26\"], [1.0, \"#f0f921\"]], \"type\": \"histogram2dcontour\"}], \"mesh3d\": [{\"colorbar\": {\"outlinewidth\": 0, \"ticks\": \"\"}, \"type\": \"mesh3d\"}], \"parcoords\": [{\"line\": {\"colorbar\": {\"outlinewidth\": 0, \"ticks\": \"\"}}, \"type\": \"parcoords\"}], \"pie\": [{\"automargin\": true, \"type\": \"pie\"}], \"scatter\": [{\"marker\": {\"colorbar\": {\"outlinewidth\": 0, \"ticks\": \"\"}}, \"type\": \"scatter\"}], \"scatter3d\": [{\"line\": {\"colorbar\": {\"outlinewidth\": 0, \"ticks\": \"\"}}, \"marker\": {\"colorbar\": {\"outlinewidth\": 0, \"ticks\": \"\"}}, \"type\": \"scatter3d\"}], \"scattercarpet\": [{\"marker\": {\"colorbar\": {\"outlinewidth\": 0, \"ticks\": \"\"}}, \"type\": \"scattercarpet\"}], \"scattergeo\": [{\"marker\": {\"colorbar\": {\"outlinewidth\": 0, \"ticks\": \"\"}}, \"type\": \"scattergeo\"}], \"scattergl\": [{\"marker\": {\"colorbar\": {\"outlinewidth\": 0, \"ticks\": \"\"}}, \"type\": \"scattergl\"}], \"scattermapbox\": [{\"marker\": {\"colorbar\": {\"outlinewidth\": 0, \"ticks\": \"\"}}, \"type\": \"scattermapbox\"}], \"scatterpolar\": [{\"marker\": {\"colorbar\": {\"outlinewidth\": 0, \"ticks\": \"\"}}, \"type\": \"scatterpolar\"}], \"scatterpolargl\": [{\"marker\": {\"colorbar\": {\"outlinewidth\": 0, \"ticks\": \"\"}}, \"type\": \"scatterpolargl\"}], \"scatterternary\": [{\"marker\": {\"colorbar\": {\"outlinewidth\": 0, \"ticks\": \"\"}}, \"type\": \"scatterternary\"}], \"surface\": [{\"colorbar\": {\"outlinewidth\": 0, \"ticks\": \"\"}, \"colorscale\": [[0.0, \"#0d0887\"], [0.1111111111111111, \"#46039f\"], [0.2222222222222222, \"#7201a8\"], [0.3333333333333333, \"#9c179e\"], [0.4444444444444444, \"#bd3786\"], [0.5555555555555556, \"#d8576b\"], [0.6666666666666666, \"#ed7953\"], [0.7777777777777778, \"#fb9f3a\"], [0.8888888888888888, \"#fdca26\"], [1.0, \"#f0f921\"]], \"type\": \"surface\"}], \"table\": [{\"cells\": {\"fill\": {\"color\": \"#EBF0F8\"}, \"line\": {\"color\": \"white\"}}, \"header\": {\"fill\": {\"color\": \"#C8D4E3\"}, \"line\": {\"color\": \"white\"}}, \"type\": \"table\"}]}, \"layout\": {\"annotationdefaults\": {\"arrowcolor\": \"#2a3f5f\", \"arrowhead\": 0, \"arrowwidth\": 1}, \"coloraxis\": {\"colorbar\": {\"outlinewidth\": 0, \"ticks\": \"\"}}, \"colorscale\": {\"diverging\": [[0, \"#8e0152\"], [0.1, \"#c51b7d\"], [0.2, \"#de77ae\"], [0.3, \"#f1b6da\"], [0.4, \"#fde0ef\"], [0.5, \"#f7f7f7\"], [0.6, \"#e6f5d0\"], [0.7, \"#b8e186\"], [0.8, \"#7fbc41\"], [0.9, \"#4d9221\"], [1, \"#276419\"]], \"sequential\": [[0.0, \"#0d0887\"], [0.1111111111111111, \"#46039f\"], [0.2222222222222222, \"#7201a8\"], [0.3333333333333333, \"#9c179e\"], [0.4444444444444444, \"#bd3786\"], [0.5555555555555556, \"#d8576b\"], [0.6666666666666666, \"#ed7953\"], [0.7777777777777778, \"#fb9f3a\"], [0.8888888888888888, \"#fdca26\"], [1.0, \"#f0f921\"]], \"sequentialminus\": [[0.0, \"#0d0887\"], [0.1111111111111111, \"#46039f\"], [0.2222222222222222, \"#7201a8\"], [0.3333333333333333, \"#9c179e\"], [0.4444444444444444, \"#bd3786\"], [0.5555555555555556, \"#d8576b\"], [0.6666666666666666, \"#ed7953\"], [0.7777777777777778, \"#fb9f3a\"], [0.8888888888888888, \"#fdca26\"], [1.0, \"#f0f921\"]]}, \"colorway\": [\"#636efa\", \"#EF553B\", \"#00cc96\", \"#ab63fa\", \"#FFA15A\", \"#19d3f3\", \"#FF6692\", \"#B6E880\", \"#FF97FF\", \"#FECB52\"], \"font\": {\"color\": \"#2a3f5f\"}, \"geo\": {\"bgcolor\": \"white\", \"lakecolor\": \"white\", \"landcolor\": \"white\", \"showlakes\": true, \"showland\": true, \"subunitcolor\": \"#C8D4E3\"}, \"hoverlabel\": {\"align\": \"left\"}, \"hovermode\": \"closest\", \"mapbox\": {\"style\": \"light\"}, \"paper_bgcolor\": \"white\", \"plot_bgcolor\": \"white\", \"polar\": {\"angularaxis\": {\"gridcolor\": \"#EBF0F8\", \"linecolor\": \"#EBF0F8\", \"ticks\": \"\"}, \"bgcolor\": \"white\", \"radialaxis\": {\"gridcolor\": \"#EBF0F8\", \"linecolor\": \"#EBF0F8\", \"ticks\": \"\"}}, \"scene\": {\"xaxis\": {\"backgroundcolor\": \"white\", \"gridcolor\": \"#DFE8F3\", \"gridwidth\": 2, \"linecolor\": \"#EBF0F8\", \"showbackground\": true, \"ticks\": \"\", \"zerolinecolor\": \"#EBF0F8\"}, \"yaxis\": {\"backgroundcolor\": \"white\", \"gridcolor\": \"#DFE8F3\", \"gridwidth\": 2, \"linecolor\": \"#EBF0F8\", \"showbackground\": true, \"ticks\": \"\", \"zerolinecolor\": \"#EBF0F8\"}, \"zaxis\": {\"backgroundcolor\": \"white\", \"gridcolor\": \"#DFE8F3\", \"gridwidth\": 2, \"linecolor\": \"#EBF0F8\", \"showbackground\": true, \"ticks\": \"\", \"zerolinecolor\": \"#EBF0F8\"}}, \"shapedefaults\": {\"line\": {\"color\": \"#2a3f5f\"}}, \"ternary\": {\"aaxis\": {\"gridcolor\": \"#DFE8F3\", \"linecolor\": \"#A2B1C6\", \"ticks\": \"\"}, \"baxis\": {\"gridcolor\": \"#DFE8F3\", \"linecolor\": \"#A2B1C6\", \"ticks\": \"\"}, \"bgcolor\": \"white\", \"caxis\": {\"gridcolor\": \"#DFE8F3\", \"linecolor\": \"#A2B1C6\", \"ticks\": \"\"}}, \"title\": {\"x\": 0.05}, \"xaxis\": {\"automargin\": true, \"gridcolor\": \"#EBF0F8\", \"linecolor\": \"#EBF0F8\", \"ticks\": \"\", \"title\": {\"standoff\": 15}, \"zerolinecolor\": \"#EBF0F8\", \"zerolinewidth\": 2}, \"yaxis\": {\"automargin\": true, \"gridcolor\": \"#EBF0F8\", \"linecolor\": \"#EBF0F8\", \"ticks\": \"\", \"title\": {\"standoff\": 15}, \"zerolinecolor\": \"#EBF0F8\", \"zerolinewidth\": 2}}}, \"width\": 900, \"xaxis\": {\"anchor\": \"y\", \"domain\": [0.0, 1.0], \"matches\": \"x2\", \"showticklabels\": false, \"type\": \"category\"}, \"xaxis2\": {\"anchor\": \"y2\", \"categoryarray\": [0.0, 7.0, 14.0, 34.0, 15.0, 31.0, 2.0, 32.0, 16.0, 27.0], \"categoryorder\": \"array\", \"domain\": [0.0, 1.0], \"showticklabels\": true, \"title\": {\"text\": \"Cluster\"}, \"type\": \"category\"}, \"yaxis\": {\"anchor\": \"x\", \"domain\": [0.515, 1.0], \"title\": {\"text\": \"Water extractions (Mm<sup>3</sup>)\"}, \"type\": \"log\"}, \"yaxis2\": {\"anchor\": \"x2\", \"domain\": [0.0, 0.485], \"title\": {\"text\": \"LCOW ($/m<sup>3</sup>)\"}}},                        {\"responsive\": true}                    ).then(function(){\n",
       "                            \n",
       "var gd = document.getElementById('47a10c0c-6eac-4113-b65d-aa13846039f3');\n",
       "var x = new MutationObserver(function (mutations, observer) {{\n",
       "        var display = window.getComputedStyle(gd).display;\n",
       "        if (!display || display === 'none') {{\n",
       "            console.log([gd, 'removed!']);\n",
       "            Plotly.purge(gd);\n",
       "            observer.disconnect();\n",
       "        }}\n",
       "}});\n",
       "\n",
       "// Listen for the removal of the full notebook cells\n",
       "var notebookContainer = gd.closest('#notebook-container');\n",
       "if (notebookContainer) {{\n",
       "    x.observe(notebookContainer, {childList: true});\n",
       "}}\n",
       "\n",
       "// Listen for the clearing of the current output cell\n",
       "var outputEl = gd.closest('.output');\n",
       "if (outputEl) {{\n",
       "    x.observe(outputEl, {childList: true});\n",
       "}}\n",
       "\n",
       "                        })                };                });            </script>        </div>"
      ]
     },
     "metadata": {},
     "output_type": "display_data"
    }
   ],
   "source": [
    "from plotly.subplots import make_subplots\n",
    "\n",
    "dff_melt = dff_sorted.melt(id_vars=['Cluster', 'PopulationWater', \n",
    "                             'FinalIrrigationWater', 'total_extractions', 'cat_order'])\n",
    "\n",
    "dff_melt['variable'] = [' '.join(re.findall('[A-Z][^A-Z]*', s.replace('LCOW', ''))).capitalize() for s in dff_melt['variable']]\n",
    "dff_melt.sort_values('value', ascending=False, inplace=True)\n",
    "dff_melt['FinalIrrigationWater'] /= 1000000\n",
    "dff_melt['PopulationWater'] /= 1000000\n",
    "dff_melt['PopColor'] = 'Population water extractions'\n",
    "dff_melt['AgColor'] = 'Irrigation water extractions'\n",
    "\n",
    "# fig = make_subplots(specs=[[{\"secondary_y\": True}]])\n",
    "fig = make_subplots(rows=2, cols=1, shared_xaxes=True, vertical_spacing=0.03)\n",
    "\n",
    "data = px.bar(dff_melt.sort_values('value'), y='value', x='Cluster', color='variable',\n",
    "           color_discrete_sequence=px.colors.qualitative.T10).data\n",
    "for trace in data:\n",
    "    fig.add_trace(\n",
    "        trace, \n",
    "        row=2, col=1\n",
    "    )\n",
    "\n",
    "\n",
    "fig.add_trace(\n",
    "    px.scatter(dff_melt, y='PopulationWater', x='Cluster', color='PopColor',\n",
    "              color_discrete_sequence=[px.colors.qualitative.T10[9]],\n",
    "              ).data[0],\n",
    "#     secondary_y=True,\n",
    "    row=1, col=1, \n",
    ")\n",
    "\n",
    "fig.add_trace(\n",
    "    px.scatter(dff_melt, y='FinalIrrigationWater', x='Cluster', color='AgColor',\n",
    "              color_discrete_sequence=['LightSkyBlue']\n",
    "              ).data[0],\n",
    "    row=1, col=1\n",
    "#     secondary_y=True,\n",
    ")\n",
    "\n",
    "fig.update_xaxes(type='category')\n",
    "fig.update_layout(width=900, template='plotly_white', barmode='group',\n",
    "                  legend=dict(\n",
    "                            orientation=\"h\",\n",
    "                            yanchor=\"top\",\n",
    "                            y=-0.15,\n",
    "                            xanchor=\"center\",\n",
    "                            x=0.5\n",
    "                ),\n",
    "                 margin=dict(b=0, l=0, r=0, t=30))\n",
    "\n",
    "fig.update_traces(marker=dict(size=10,\n",
    "#                               symbol='octagon',\n",
    "#                               line=dict(width=1,\n",
    "#                                         color='DarkSlateGrey')\n",
    "                             ),\n",
    "                  selector=dict(mode='markers'))\n",
    "fig.update_xaxes(title='Cluster', showticklabels=True, categoryorder='array', \n",
    "                 categoryarray=dff['cat_order'].loc[dff['cat_order'].isin(dff_melt['Cluster'])],\n",
    "                 col=1, row=2)\n",
    "                         \n",
    "fig.update_yaxes(title_text=\"Water extractions (Mm<sup>3</sup>)\", type='log', col=1, row=1)\n",
    "fig.update_yaxes(title_text=\"LCOW ($/m<sup>3</sup>)\", col=1, row=2)\n",
    "\n",
    "fig.add_annotation(text=\"<b>a)</b>\",\n",
    "                  xref=\"paper\", yref=\"paper\",\n",
    "                  x=-0.065, y=1.09, showarrow=False)\n",
    "\n",
    "fig.add_annotation(text=\"<b>b)</b>\",\n",
    "                  xref=\"paper\", yref=\"paper\",\n",
    "                  x=-0.065, y=0.45, showarrow=False)\n",
    "\n",
    "fig.show()\n",
    "# fig.write_image('../LCOW_largest_clusters.pdf')"
   ]
  },
  {
   "cell_type": "code",
   "execution_count": 32,
   "metadata": {
    "scrolled": false
   },
   "outputs": [
    {
     "data": {
      "application/vnd.plotly.v1+json": {
       "config": {
        "plotlyServerURL": "https://plot.ly"
       },
       "data": [
        {
         "hovertemplate": "variable=Extended aeration<br>PopulationReclaimedWater=%{x}<br>value=%{y}<br>Cluster=%{text}<extra></extra>",
         "legendgroup": "Extended aeration",
         "marker": {
          "color": "#4C78A8",
          "symbol": "circle"
         },
         "mode": "lines+markers",
         "name": "Extended aeration",
         "opacity": 0.8,
         "orientation": "v",
         "showlegend": true,
         "text": [
          14,
          0,
          15,
          25,
          3,
          29,
          4,
          27,
          34,
          35,
          33,
          30,
          23,
          13,
          24,
          31,
          32,
          5,
          2,
          19,
          11,
          21,
          38,
          18,
          20,
          17,
          12,
          22,
          10,
          39,
          36,
          1,
          26,
          9,
          16,
          7,
          28,
          37
         ],
         "type": "scatter",
         "x": [
          33.95960715447166,
          24.328297488256364,
          20.006247955585366,
          19.96546858119583,
          15.109264457766228,
          14.826957041885663,
          14.77725018827449,
          12.049268028084459,
          10.605396865482355,
          9.3812679790732,
          7.862478833927749,
          7.486677609409328,
          7.398569535962219,
          7.379063458091692,
          6.460875067028055,
          6.358394966292164,
          5.975259563265194,
          5.94050791661296,
          5.721319450512251,
          5.437563757160491,
          4.252863889980327,
          3.6997367125768816,
          3.6170791156249407,
          3.316220409648177,
          3.1348557204702785,
          2.7807406678867315,
          2.3349320438558747,
          1.8961070526991073,
          1.3980921449046129,
          1.1281199480661512,
          0.8685398306689368,
          0.7804807709085645,
          0.7180135223027141,
          0.6577593353338939,
          0.3825330210131107,
          0.15574896158439538,
          0.08210981838356954,
          0.05435362680191558
         ],
         "xaxis": "x",
         "y": [
          0.03104942384285129,
          0.03690540898907659,
          0.040844219118699364,
          0.04088746264674353,
          0.047248519799848565,
          0.04771337064539693,
          0.04779661528256655,
          0.05313985812975447,
          0.056783120917453925,
          0.06052044447782865,
          0.06634120080801076,
          0.06805289231540705,
          0.06847325775193323,
          0.06856735387773555,
          0.07347561633301265,
          0.07408953090694996,
          0.07652521755154845,
          0.07675791086836398,
          0.07827487440077104,
          0.08037552245528706,
          0.09135031367451,
          0.09823009944918293,
          0.0993938790981442,
          0.10399728589194428,
          0.10709247433893648,
          0.11400167261014695,
          0.12488469840279987,
          0.13922343763343753,
          0.16324859343592732,
          0.1826286825798767,
          0.2094044914791696,
          0.22145677156363067,
          0.23134421141374217,
          0.242211228978638,
          0.3217961357358306,
          0.5158444856114529,
          0.722458884189756,
          0.897862008721631
         ],
         "yaxis": "y"
        },
        {
         "hovertemplate": "variable=Rotating biological contractors<br>PopulationReclaimedWater=%{x}<br>value=%{y}<br>Cluster=%{text}<extra></extra>",
         "legendgroup": "Rotating biological contractors",
         "marker": {
          "color": "#F58518",
          "symbol": "circle"
         },
         "mode": "lines+markers",
         "name": "Rotating biological contractors",
         "opacity": 0.8,
         "orientation": "v",
         "showlegend": true,
         "text": [
          14,
          0,
          15,
          25,
          3,
          29,
          4,
          27,
          34,
          35,
          33,
          30,
          23,
          13,
          24,
          31,
          32,
          5,
          2,
          19,
          11,
          21,
          38,
          18,
          20,
          17,
          12,
          22,
          10,
          39,
          36,
          1,
          26,
          9,
          16,
          7,
          28,
          37,
          6
         ],
         "type": "scatter",
         "x": [
          33.95960715447166,
          24.328297488256364,
          20.006247955585366,
          19.96546858119583,
          15.109264457766228,
          14.826957041885663,
          14.77725018827449,
          12.049268028084459,
          10.605396865482355,
          9.3812679790732,
          7.862478833927749,
          7.486677609409328,
          7.398569535962219,
          7.379063458091692,
          6.460875067028055,
          6.358394966292164,
          5.975259563265194,
          5.94050791661296,
          5.721319450512251,
          5.437563757160491,
          4.252863889980327,
          3.6997367125768816,
          3.6170791156249407,
          3.316220409648177,
          3.1348557204702785,
          2.7807406678867315,
          2.3349320438558747,
          1.8961070526991073,
          1.3980921449046129,
          1.1281199480661512,
          0.8685398306689368,
          0.7804807709085645,
          0.7180135223027141,
          0.6577593353338939,
          0.3825330210131107,
          0.15574896158439538,
          0.08210981838356954,
          0.05435362680191558,
          0.012487493258935252
         ],
         "xaxis": "x",
         "y": [
          0.03551857369779286,
          0.040591966910848834,
          0.04389933760818347,
          0.04393522830205098,
          0.04912483004184485,
          0.04949750459390501,
          0.04956415371604098,
          0.05378844977802183,
          0.056612292936477994,
          0.05946580511231477,
          0.06383042409794626,
          0.06509676688071898,
          0.06540662734978824,
          0.06547592720377794,
          0.06906105997096199,
          0.0695055094232329,
          0.07126052741835012,
          0.07142750976484732,
          0.0725132372471559,
          0.07400870712589486,
          0.08168095792500404,
          0.0863806957467402,
          0.0871680179316473,
          0.09026165497121008,
          0.09232381587738299,
          0.0968779489370742,
          0.10392384589373663,
          0.11299321084968993,
          0.12771945030850193,
          0.13923143966034313,
          0.15468000509997196,
          0.16148093244414957,
          0.166995909702063,
          0.172994220551674,
          0.2152055425838952,
          0.30919293482502425,
          0.4003968755050664,
          0.4730365319960973,
          0.857865340068616
         ],
         "yaxis": "y"
        },
        {
         "hovertemplate": "variable=Sequencing batch reactor<br>PopulationReclaimedWater=%{x}<br>value=%{y}<br>Cluster=%{text}<extra></extra>",
         "legendgroup": "Sequencing batch reactor",
         "marker": {
          "color": "#72B7B2",
          "symbol": "circle"
         },
         "mode": "lines+markers",
         "name": "Sequencing batch reactor",
         "opacity": 0.8,
         "orientation": "v",
         "showlegend": true,
         "text": [
          14,
          0,
          15,
          25,
          3,
          29,
          4,
          27,
          34,
          35,
          33,
          30,
          23,
          13,
          24,
          31,
          32,
          5,
          2,
          19,
          11,
          21,
          38,
          18,
          20,
          17,
          12,
          22,
          10,
          39,
          36,
          1,
          26,
          9,
          16,
          7,
          28,
          37,
          6
         ],
         "type": "scatter",
         "x": [
          33.95960715447166,
          24.328297488256364,
          20.006247955585366,
          19.96546858119583,
          15.109264457766228,
          14.826957041885663,
          14.77725018827449,
          12.049268028084459,
          10.605396865482355,
          9.3812679790732,
          7.862478833927749,
          7.486677609409328,
          7.398569535962219,
          7.379063458091692,
          6.460875067028055,
          6.358394966292164,
          5.975259563265194,
          5.94050791661296,
          5.721319450512251,
          5.437563757160491,
          4.252863889980327,
          3.6997367125768816,
          3.6170791156249407,
          3.316220409648177,
          3.1348557204702785,
          2.7807406678867315,
          2.3349320438558747,
          1.8961070526991073,
          1.3980921449046129,
          1.1281199480661512,
          0.8685398306689368,
          0.7804807709085645,
          0.7180135223027141,
          0.6577593353338939,
          0.3825330210131107,
          0.15574896158439538,
          0.08210981838356954,
          0.05435362680191558,
          0.012487493258935252
         ],
         "xaxis": "x",
         "y": [
          0.041849714362569505,
          0.04779035747038007,
          0.05165935017265088,
          0.05170131994349751,
          0.057766566312636776,
          0.05820187255888498,
          0.0582797192953631,
          0.06321164735605643,
          0.06650630508212911,
          0.06983384345536796,
          0.07492027018768734,
          0.07639532588308358,
          0.07675620850276438,
          0.07683691683950836,
          0.08101099846254285,
          0.08152829108502115,
          0.08357059130908542,
          0.08376487786909335,
          0.08502801515452026,
          0.08676749996508433,
          0.09568549622190345,
          0.10114347150768517,
          0.1020574697298099,
          0.10564791402160746,
          0.10804041582849325,
          0.11332181346682547,
          0.12148694668988466,
          0.13198685771843058,
          0.14901328283259482,
          0.16230525847643187,
          0.18011935636344223,
          0.18795374085940267,
          0.1943033672860535,
          0.20120611920716935,
          0.24969053792290571,
          0.35715930288387915,
          0.46093215783623565,
          0.5432874266861933,
          0.9763437351385224
         ],
         "yaxis": "y"
        },
        {
         "hovertemplate": "variable=Membrane  bioreactor<br>PopulationReclaimedWater=%{x}<br>value=%{y}<br>Cluster=%{text}<extra></extra>",
         "legendgroup": "Membrane  bioreactor",
         "marker": {
          "color": "#54A24B",
          "symbol": "circle"
         },
         "mode": "lines+markers",
         "name": "Membrane  bioreactor",
         "opacity": 0.8,
         "orientation": "v",
         "showlegend": true,
         "text": [
          14,
          0,
          15,
          25,
          3,
          29,
          4,
          27,
          34,
          35,
          33,
          30,
          23,
          13,
          24,
          31,
          32,
          5,
          2,
          19,
          11,
          21,
          38,
          18,
          20,
          17,
          12,
          22,
          10,
          39,
          36,
          1,
          26,
          9,
          16,
          7,
          28,
          37,
          6
         ],
         "type": "scatter",
         "x": [
          33.95960715447166,
          24.328297488256364,
          20.006247955585366,
          19.96546858119583,
          15.109264457766228,
          14.826957041885663,
          14.77725018827449,
          12.049268028084459,
          10.605396865482355,
          9.3812679790732,
          7.862478833927749,
          7.486677609409328,
          7.398569535962219,
          7.379063458091692,
          6.460875067028055,
          6.358394966292164,
          5.975259563265194,
          5.94050791661296,
          5.721319450512251,
          5.437563757160491,
          4.252863889980327,
          3.6997367125768816,
          3.6170791156249407,
          3.316220409648177,
          3.1348557204702785,
          2.7807406678867315,
          2.3349320438558747,
          1.8961070526991073,
          1.3980921449046129,
          1.1281199480661512,
          0.8685398306689368,
          0.7804807709085645,
          0.7180135223027141,
          0.6577593353338939,
          0.3825330210131107,
          0.15574896158439538,
          0.08210981838356954,
          0.05435362680191558,
          0.012487493258935252
         ],
         "xaxis": "x",
         "y": [
          0.08417257940332966,
          0.09332438455985644,
          0.09915240339917869,
          0.09921509895493894,
          0.10816599414044527,
          0.10880044108665744,
          0.10891379350066187,
          0.11603138210964643,
          0.1207199391695969,
          0.12540534496364406,
          0.13247699222482992,
          0.13450844997652464,
          0.13500418860390603,
          0.13511498864923704,
          0.14081243767628693,
          0.14151413342034388,
          0.14427533827044114,
          0.14453726665226924,
          0.14623705503920945,
          0.1485691533160021,
          0.16037552995180282,
          0.16748615405804412,
          0.16866891090046468,
          0.17329379901268896,
          0.17635724676082928,
          0.18306996776144754,
          0.19332071824894081,
          0.20629360893478343,
          0.2268841230144074,
          0.24261815409404658,
          0.2632933705528017,
          0.2722502664732906,
          0.2794531220878391,
          0.28722855366612526,
          0.34041406998948026,
          0.45144591576425075,
          0.5522937745434137,
          0.6290643634068187,
          1.001931438987678
         ],
         "yaxis": "y"
        },
        {
         "hovertemplate": "variable=Intermittent sand filter<br>PopulationReclaimedWater=%{x}<br>value=%{y}<br>Cluster=%{text}<extra></extra>",
         "legendgroup": "Intermittent sand filter",
         "marker": {
          "color": "#EECA3B",
          "symbol": "circle"
         },
         "mode": "lines+markers",
         "name": "Intermittent sand filter",
         "opacity": 0.8,
         "orientation": "v",
         "showlegend": true,
         "text": [
          14,
          0,
          15,
          25,
          3,
          29,
          4,
          27,
          34,
          35,
          33,
          30,
          23,
          13,
          24,
          31,
          32,
          5,
          2,
          19,
          11,
          21,
          38,
          18,
          20,
          17,
          12,
          22,
          10,
          39,
          36,
          1,
          26,
          9,
          16,
          7,
          28,
          37,
          6,
          8
         ],
         "type": "scatter",
         "x": [
          33.95960715447166,
          24.328297488256364,
          20.006247955585366,
          19.96546858119583,
          15.109264457766228,
          14.826957041885663,
          14.77725018827449,
          12.049268028084459,
          10.605396865482355,
          9.3812679790732,
          7.862478833927749,
          7.486677609409328,
          7.398569535962219,
          7.379063458091692,
          6.460875067028055,
          6.358394966292164,
          5.975259563265194,
          5.94050791661296,
          5.721319450512251,
          5.437563757160491,
          4.252863889980327,
          3.6997367125768816,
          3.6170791156249407,
          3.316220409648177,
          3.1348557204702785,
          2.7807406678867315,
          2.3349320438558747,
          1.8961070526991073,
          1.3980921449046129,
          1.1281199480661512,
          0.8685398306689368,
          0.7804807709085645,
          0.7180135223027141,
          0.6577593353338939,
          0.3825330210131107,
          0.15574896158439538,
          0.08210981838356954,
          0.05435362680191558,
          0.012487493258935252,
          0.006789682369366212
         ],
         "xaxis": "x",
         "y": [
          0.1295589643729303,
          0.13043648001663788,
          0.13101204595216112,
          0.13101830766044353,
          0.13192743112755403,
          0.13199300754591545,
          0.13200473943295607,
          0.1327509661320018,
          0.13325278404070037,
          0.133762387021127,
          0.13454690286896734,
          0.13477569327332567,
          0.13483175753205923,
          0.13484430064031028,
          0.13549542775911216,
          0.13557645589573286,
          0.1358970891778171,
          0.1359276524074179,
          0.13612661675592708,
          0.13640135614416907,
          0.1378237116327106,
          0.13870596318925976,
          0.13885460074250486,
          0.1394410168521458,
          0.1398340367857145,
          0.14070813173446609,
          0.14207755830498267,
          0.1438719084273616,
          0.1468651144639952,
          0.14927720503120098,
          0.15261911510444898,
          0.15412998978298817,
          0.15537352550096906,
          0.15674504741877318,
          0.16698552871829367,
          0.19392402741504752,
          0.22632290221818877,
          0.25709176015315555,
          0.5077088591751194,
          0.7518350137544164
         ],
         "yaxis": "y"
        },
        {
         "hovertemplate": "variable=Trickling filter<br>PopulationReclaimedWater=%{x}<br>value=%{y}<br>Cluster=%{text}<extra></extra>",
         "legendgroup": "Trickling filter",
         "marker": {
          "color": "#B279A2",
          "symbol": "circle"
         },
         "mode": "lines+markers",
         "name": "Trickling filter",
         "opacity": 0.8,
         "orientation": "v",
         "showlegend": true,
         "text": [
          14,
          0,
          15,
          25,
          3,
          29,
          4,
          27,
          34,
          35,
          33,
          30,
          23,
          13,
          24,
          31,
          32,
          5,
          2,
          19,
          11,
          21,
          38,
          18,
          20,
          17,
          12,
          22,
          10,
          39,
          36,
          1,
          26,
          9,
          16,
          7,
          28,
          37
         ],
         "type": "scatter",
         "x": [
          33.95960715447166,
          24.328297488256364,
          20.006247955585366,
          19.96546858119583,
          15.109264457766228,
          14.826957041885663,
          14.77725018827449,
          12.049268028084459,
          10.605396865482355,
          9.3812679790732,
          7.862478833927749,
          7.486677609409328,
          7.398569535962219,
          7.379063458091692,
          6.460875067028055,
          6.358394966292164,
          5.975259563265194,
          5.94050791661296,
          5.721319450512251,
          5.437563757160491,
          4.252863889980327,
          3.6997367125768816,
          3.6170791156249407,
          3.316220409648177,
          3.1348557204702785,
          2.7807406678867315,
          2.3349320438558747,
          1.8961070526991073,
          1.3980921449046129,
          1.1281199480661512,
          0.8685398306689368,
          0.7804807709085645,
          0.7180135223027141,
          0.6577593353338939,
          0.3825330210131107,
          0.15574896158439538,
          0.08210981838356954,
          0.05435362680191558
         ],
         "xaxis": "x",
         "y": [
          0.15002142124751575,
          0.15204507257961322,
          0.1533998595076689,
          0.15341470940527963,
          0.15559426741784338,
          0.15575320634233822,
          0.15578166449452618,
          0.15760580427879717,
          0.15884714099183977,
          0.1601188762009687,
          0.16209695683267503,
          0.16267816738837004,
          0.16282087631476713,
          0.16285281939039564,
          0.16451842006704887,
          0.16472667676575284,
          0.16555280633000838,
          0.1656317216128303,
          0.166146150436004,
          0.1668584413689872,
          0.17057942321424518,
          0.17291277481568434,
          0.17330761158379437,
          0.1748698943394231,
          0.17592082235595777,
          0.17826848086119398,
          0.18197230242692977,
          0.18686579344546658,
          0.1951075878664668,
          0.20180127316076077,
          0.21112479864467162,
          0.21535217984792837,
          0.21883514134512508,
          0.22267907184991778,
          0.2513681242783364,
          0.32565234117287767,
          0.41193611666695285,
          0.4911544578686815
         ],
         "yaxis": "y"
        },
        {
         "hovertemplate": "variable=Moving bed biofilm reactor<br>PopulationReclaimedWater=%{x}<br>value=%{y}<br>Cluster=%{text}<extra></extra>",
         "legendgroup": "Moving bed biofilm reactor",
         "marker": {
          "color": "#FF9DA6",
          "symbol": "circle"
         },
         "mode": "lines+markers",
         "name": "Moving bed biofilm reactor",
         "opacity": 0.8,
         "orientation": "v",
         "showlegend": true,
         "text": [
          14,
          0,
          15,
          25,
          3,
          29,
          4,
          27,
          34,
          35,
          33,
          30,
          23,
          13,
          24,
          31,
          32,
          5,
          2,
          19,
          11,
          21,
          38,
          18,
          20,
          17,
          12,
          22,
          10,
          39,
          36,
          1,
          26,
          9,
          16,
          7,
          28,
          37,
          6
         ],
         "type": "scatter",
         "x": [
          33.95960715447166,
          24.328297488256364,
          20.006247955585366,
          19.96546858119583,
          15.109264457766228,
          14.826957041885663,
          14.77725018827449,
          12.049268028084459,
          10.605396865482355,
          9.3812679790732,
          7.862478833927749,
          7.486677609409328,
          7.398569535962219,
          7.379063458091692,
          6.460875067028055,
          6.358394966292164,
          5.975259563265194,
          5.94050791661296,
          5.721319450512251,
          5.437563757160491,
          4.252863889980327,
          3.6997367125768816,
          3.6170791156249407,
          3.316220409648177,
          3.1348557204702785,
          2.7807406678867315,
          2.3349320438558747,
          1.8961070526991073,
          1.3980921449046129,
          1.1281199480661512,
          0.8685398306689368,
          0.7804807709085645,
          0.7180135223027141,
          0.6577593353338939,
          0.3825330210131107,
          0.15574896158439538,
          0.08210981838356954,
          0.05435362680191558,
          0.012487493258935252
         ],
         "xaxis": "x",
         "y": [
          0.197351416662507,
          0.20113255041962935,
          0.20345783222160013,
          0.20348252845929035,
          0.2069446712046185,
          0.20718553339817894,
          0.2072285068929114,
          0.20989218405816318,
          0.21161192342200966,
          0.2133052759014895,
          0.21581746222694748,
          0.21653016238653783,
          0.21670350772212624,
          0.21674222084622302,
          0.21871842990958532,
          0.21895992829857563,
          0.21990641505348588,
          0.21999588927520697,
          0.22057526471417938,
          0.22136667367185348,
          0.22531673063746027,
          0.2276557109089199,
          0.22804220571451247,
          0.2295470656818141,
          0.2305385526273849,
          0.23269780608865936,
          0.23596490290374703,
          0.24005947239000536,
          0.24650347127213473,
          0.2514133313589473,
          0.25788899983899666,
          0.2607137986472619,
          0.26299761811606,
          0.2654774909043783,
          0.28301488672180464,
          0.325036275483427,
          0.3730906324919433,
          0.4182708262766583,
          0.7944738203929572
         ],
         "yaxis": "y"
        }
       ],
       "layout": {
        "legend": {
         "orientation": "h",
         "title": {
          "text": "variable"
         },
         "tracegroupgap": 0,
         "x": 0.5,
         "xanchor": "center",
         "y": -0.15,
         "yanchor": "top"
        },
        "margin": {
         "b": 0,
         "l": 0,
         "r": 0,
         "t": 30
        },
        "template": {
         "data": {
          "bar": [
           {
            "error_x": {
             "color": "#2a3f5f"
            },
            "error_y": {
             "color": "#2a3f5f"
            },
            "marker": {
             "line": {
              "color": "white",
              "width": 0.5
             }
            },
            "type": "bar"
           }
          ],
          "barpolar": [
           {
            "marker": {
             "line": {
              "color": "white",
              "width": 0.5
             }
            },
            "type": "barpolar"
           }
          ],
          "carpet": [
           {
            "aaxis": {
             "endlinecolor": "#2a3f5f",
             "gridcolor": "#C8D4E3",
             "linecolor": "#C8D4E3",
             "minorgridcolor": "#C8D4E3",
             "startlinecolor": "#2a3f5f"
            },
            "baxis": {
             "endlinecolor": "#2a3f5f",
             "gridcolor": "#C8D4E3",
             "linecolor": "#C8D4E3",
             "minorgridcolor": "#C8D4E3",
             "startlinecolor": "#2a3f5f"
            },
            "type": "carpet"
           }
          ],
          "choropleth": [
           {
            "colorbar": {
             "outlinewidth": 0,
             "ticks": ""
            },
            "type": "choropleth"
           }
          ],
          "contour": [
           {
            "colorbar": {
             "outlinewidth": 0,
             "ticks": ""
            },
            "colorscale": [
             [
              0,
              "#0d0887"
             ],
             [
              0.1111111111111111,
              "#46039f"
             ],
             [
              0.2222222222222222,
              "#7201a8"
             ],
             [
              0.3333333333333333,
              "#9c179e"
             ],
             [
              0.4444444444444444,
              "#bd3786"
             ],
             [
              0.5555555555555556,
              "#d8576b"
             ],
             [
              0.6666666666666666,
              "#ed7953"
             ],
             [
              0.7777777777777778,
              "#fb9f3a"
             ],
             [
              0.8888888888888888,
              "#fdca26"
             ],
             [
              1,
              "#f0f921"
             ]
            ],
            "type": "contour"
           }
          ],
          "contourcarpet": [
           {
            "colorbar": {
             "outlinewidth": 0,
             "ticks": ""
            },
            "type": "contourcarpet"
           }
          ],
          "heatmap": [
           {
            "colorbar": {
             "outlinewidth": 0,
             "ticks": ""
            },
            "colorscale": [
             [
              0,
              "#0d0887"
             ],
             [
              0.1111111111111111,
              "#46039f"
             ],
             [
              0.2222222222222222,
              "#7201a8"
             ],
             [
              0.3333333333333333,
              "#9c179e"
             ],
             [
              0.4444444444444444,
              "#bd3786"
             ],
             [
              0.5555555555555556,
              "#d8576b"
             ],
             [
              0.6666666666666666,
              "#ed7953"
             ],
             [
              0.7777777777777778,
              "#fb9f3a"
             ],
             [
              0.8888888888888888,
              "#fdca26"
             ],
             [
              1,
              "#f0f921"
             ]
            ],
            "type": "heatmap"
           }
          ],
          "heatmapgl": [
           {
            "colorbar": {
             "outlinewidth": 0,
             "ticks": ""
            },
            "colorscale": [
             [
              0,
              "#0d0887"
             ],
             [
              0.1111111111111111,
              "#46039f"
             ],
             [
              0.2222222222222222,
              "#7201a8"
             ],
             [
              0.3333333333333333,
              "#9c179e"
             ],
             [
              0.4444444444444444,
              "#bd3786"
             ],
             [
              0.5555555555555556,
              "#d8576b"
             ],
             [
              0.6666666666666666,
              "#ed7953"
             ],
             [
              0.7777777777777778,
              "#fb9f3a"
             ],
             [
              0.8888888888888888,
              "#fdca26"
             ],
             [
              1,
              "#f0f921"
             ]
            ],
            "type": "heatmapgl"
           }
          ],
          "histogram": [
           {
            "marker": {
             "colorbar": {
              "outlinewidth": 0,
              "ticks": ""
             }
            },
            "type": "histogram"
           }
          ],
          "histogram2d": [
           {
            "colorbar": {
             "outlinewidth": 0,
             "ticks": ""
            },
            "colorscale": [
             [
              0,
              "#0d0887"
             ],
             [
              0.1111111111111111,
              "#46039f"
             ],
             [
              0.2222222222222222,
              "#7201a8"
             ],
             [
              0.3333333333333333,
              "#9c179e"
             ],
             [
              0.4444444444444444,
              "#bd3786"
             ],
             [
              0.5555555555555556,
              "#d8576b"
             ],
             [
              0.6666666666666666,
              "#ed7953"
             ],
             [
              0.7777777777777778,
              "#fb9f3a"
             ],
             [
              0.8888888888888888,
              "#fdca26"
             ],
             [
              1,
              "#f0f921"
             ]
            ],
            "type": "histogram2d"
           }
          ],
          "histogram2dcontour": [
           {
            "colorbar": {
             "outlinewidth": 0,
             "ticks": ""
            },
            "colorscale": [
             [
              0,
              "#0d0887"
             ],
             [
              0.1111111111111111,
              "#46039f"
             ],
             [
              0.2222222222222222,
              "#7201a8"
             ],
             [
              0.3333333333333333,
              "#9c179e"
             ],
             [
              0.4444444444444444,
              "#bd3786"
             ],
             [
              0.5555555555555556,
              "#d8576b"
             ],
             [
              0.6666666666666666,
              "#ed7953"
             ],
             [
              0.7777777777777778,
              "#fb9f3a"
             ],
             [
              0.8888888888888888,
              "#fdca26"
             ],
             [
              1,
              "#f0f921"
             ]
            ],
            "type": "histogram2dcontour"
           }
          ],
          "mesh3d": [
           {
            "colorbar": {
             "outlinewidth": 0,
             "ticks": ""
            },
            "type": "mesh3d"
           }
          ],
          "parcoords": [
           {
            "line": {
             "colorbar": {
              "outlinewidth": 0,
              "ticks": ""
             }
            },
            "type": "parcoords"
           }
          ],
          "pie": [
           {
            "automargin": true,
            "type": "pie"
           }
          ],
          "scatter": [
           {
            "marker": {
             "colorbar": {
              "outlinewidth": 0,
              "ticks": ""
             }
            },
            "type": "scatter"
           }
          ],
          "scatter3d": [
           {
            "line": {
             "colorbar": {
              "outlinewidth": 0,
              "ticks": ""
             }
            },
            "marker": {
             "colorbar": {
              "outlinewidth": 0,
              "ticks": ""
             }
            },
            "type": "scatter3d"
           }
          ],
          "scattercarpet": [
           {
            "marker": {
             "colorbar": {
              "outlinewidth": 0,
              "ticks": ""
             }
            },
            "type": "scattercarpet"
           }
          ],
          "scattergeo": [
           {
            "marker": {
             "colorbar": {
              "outlinewidth": 0,
              "ticks": ""
             }
            },
            "type": "scattergeo"
           }
          ],
          "scattergl": [
           {
            "marker": {
             "colorbar": {
              "outlinewidth": 0,
              "ticks": ""
             }
            },
            "type": "scattergl"
           }
          ],
          "scattermapbox": [
           {
            "marker": {
             "colorbar": {
              "outlinewidth": 0,
              "ticks": ""
             }
            },
            "type": "scattermapbox"
           }
          ],
          "scatterpolar": [
           {
            "marker": {
             "colorbar": {
              "outlinewidth": 0,
              "ticks": ""
             }
            },
            "type": "scatterpolar"
           }
          ],
          "scatterpolargl": [
           {
            "marker": {
             "colorbar": {
              "outlinewidth": 0,
              "ticks": ""
             }
            },
            "type": "scatterpolargl"
           }
          ],
          "scatterternary": [
           {
            "marker": {
             "colorbar": {
              "outlinewidth": 0,
              "ticks": ""
             }
            },
            "type": "scatterternary"
           }
          ],
          "surface": [
           {
            "colorbar": {
             "outlinewidth": 0,
             "ticks": ""
            },
            "colorscale": [
             [
              0,
              "#0d0887"
             ],
             [
              0.1111111111111111,
              "#46039f"
             ],
             [
              0.2222222222222222,
              "#7201a8"
             ],
             [
              0.3333333333333333,
              "#9c179e"
             ],
             [
              0.4444444444444444,
              "#bd3786"
             ],
             [
              0.5555555555555556,
              "#d8576b"
             ],
             [
              0.6666666666666666,
              "#ed7953"
             ],
             [
              0.7777777777777778,
              "#fb9f3a"
             ],
             [
              0.8888888888888888,
              "#fdca26"
             ],
             [
              1,
              "#f0f921"
             ]
            ],
            "type": "surface"
           }
          ],
          "table": [
           {
            "cells": {
             "fill": {
              "color": "#EBF0F8"
             },
             "line": {
              "color": "white"
             }
            },
            "header": {
             "fill": {
              "color": "#C8D4E3"
             },
             "line": {
              "color": "white"
             }
            },
            "type": "table"
           }
          ]
         },
         "layout": {
          "annotationdefaults": {
           "arrowcolor": "#2a3f5f",
           "arrowhead": 0,
           "arrowwidth": 1
          },
          "coloraxis": {
           "colorbar": {
            "outlinewidth": 0,
            "ticks": ""
           }
          },
          "colorscale": {
           "diverging": [
            [
             0,
             "#8e0152"
            ],
            [
             0.1,
             "#c51b7d"
            ],
            [
             0.2,
             "#de77ae"
            ],
            [
             0.3,
             "#f1b6da"
            ],
            [
             0.4,
             "#fde0ef"
            ],
            [
             0.5,
             "#f7f7f7"
            ],
            [
             0.6,
             "#e6f5d0"
            ],
            [
             0.7,
             "#b8e186"
            ],
            [
             0.8,
             "#7fbc41"
            ],
            [
             0.9,
             "#4d9221"
            ],
            [
             1,
             "#276419"
            ]
           ],
           "sequential": [
            [
             0,
             "#0d0887"
            ],
            [
             0.1111111111111111,
             "#46039f"
            ],
            [
             0.2222222222222222,
             "#7201a8"
            ],
            [
             0.3333333333333333,
             "#9c179e"
            ],
            [
             0.4444444444444444,
             "#bd3786"
            ],
            [
             0.5555555555555556,
             "#d8576b"
            ],
            [
             0.6666666666666666,
             "#ed7953"
            ],
            [
             0.7777777777777778,
             "#fb9f3a"
            ],
            [
             0.8888888888888888,
             "#fdca26"
            ],
            [
             1,
             "#f0f921"
            ]
           ],
           "sequentialminus": [
            [
             0,
             "#0d0887"
            ],
            [
             0.1111111111111111,
             "#46039f"
            ],
            [
             0.2222222222222222,
             "#7201a8"
            ],
            [
             0.3333333333333333,
             "#9c179e"
            ],
            [
             0.4444444444444444,
             "#bd3786"
            ],
            [
             0.5555555555555556,
             "#d8576b"
            ],
            [
             0.6666666666666666,
             "#ed7953"
            ],
            [
             0.7777777777777778,
             "#fb9f3a"
            ],
            [
             0.8888888888888888,
             "#fdca26"
            ],
            [
             1,
             "#f0f921"
            ]
           ]
          },
          "colorway": [
           "#636efa",
           "#EF553B",
           "#00cc96",
           "#ab63fa",
           "#FFA15A",
           "#19d3f3",
           "#FF6692",
           "#B6E880",
           "#FF97FF",
           "#FECB52"
          ],
          "font": {
           "color": "#2a3f5f"
          },
          "geo": {
           "bgcolor": "white",
           "lakecolor": "white",
           "landcolor": "white",
           "showlakes": true,
           "showland": true,
           "subunitcolor": "#C8D4E3"
          },
          "hoverlabel": {
           "align": "left"
          },
          "hovermode": "closest",
          "mapbox": {
           "style": "light"
          },
          "paper_bgcolor": "white",
          "plot_bgcolor": "white",
          "polar": {
           "angularaxis": {
            "gridcolor": "#EBF0F8",
            "linecolor": "#EBF0F8",
            "ticks": ""
           },
           "bgcolor": "white",
           "radialaxis": {
            "gridcolor": "#EBF0F8",
            "linecolor": "#EBF0F8",
            "ticks": ""
           }
          },
          "scene": {
           "xaxis": {
            "backgroundcolor": "white",
            "gridcolor": "#DFE8F3",
            "gridwidth": 2,
            "linecolor": "#EBF0F8",
            "showbackground": true,
            "ticks": "",
            "zerolinecolor": "#EBF0F8"
           },
           "yaxis": {
            "backgroundcolor": "white",
            "gridcolor": "#DFE8F3",
            "gridwidth": 2,
            "linecolor": "#EBF0F8",
            "showbackground": true,
            "ticks": "",
            "zerolinecolor": "#EBF0F8"
           },
           "zaxis": {
            "backgroundcolor": "white",
            "gridcolor": "#DFE8F3",
            "gridwidth": 2,
            "linecolor": "#EBF0F8",
            "showbackground": true,
            "ticks": "",
            "zerolinecolor": "#EBF0F8"
           }
          },
          "shapedefaults": {
           "line": {
            "color": "#2a3f5f"
           }
          },
          "ternary": {
           "aaxis": {
            "gridcolor": "#DFE8F3",
            "linecolor": "#A2B1C6",
            "ticks": ""
           },
           "baxis": {
            "gridcolor": "#DFE8F3",
            "linecolor": "#A2B1C6",
            "ticks": ""
           },
           "bgcolor": "white",
           "caxis": {
            "gridcolor": "#DFE8F3",
            "linecolor": "#A2B1C6",
            "ticks": ""
           }
          },
          "title": {
           "x": 0.05
          },
          "xaxis": {
           "automargin": true,
           "gridcolor": "#EBF0F8",
           "linecolor": "#EBF0F8",
           "ticks": "",
           "title": {
            "standoff": 15
           },
           "zerolinecolor": "#EBF0F8",
           "zerolinewidth": 2
          },
          "yaxis": {
           "automargin": true,
           "gridcolor": "#EBF0F8",
           "linecolor": "#EBF0F8",
           "ticks": "",
           "title": {
            "standoff": 15
           },
           "zerolinecolor": "#EBF0F8",
           "zerolinewidth": 2
          }
         }
        },
        "width": 900,
        "xaxis": {
         "anchor": "y",
         "domain": [
          0,
          1
         ],
         "title": {
          "text": "Capacity (Mm<sup>3</sup>/y)"
         }
        },
        "yaxis": {
         "anchor": "x",
         "domain": [
          0,
          1
         ],
         "title": {
          "text": "LCOW ($/m<sup>3</sup>)"
         }
        }
       }
      },
      "text/html": [
       "<div>                            <div id=\"0f7a97f8-3cdb-4d0a-865d-4dbd8fd93548\" class=\"plotly-graph-div\" style=\"height:525px; width:900px;\"></div>            <script type=\"text/javascript\">                require([\"plotly\"], function(Plotly) {                    window.PLOTLYENV=window.PLOTLYENV || {};                                    if (document.getElementById(\"0f7a97f8-3cdb-4d0a-865d-4dbd8fd93548\")) {                    Plotly.newPlot(                        \"0f7a97f8-3cdb-4d0a-865d-4dbd8fd93548\",                        [{\"hovertemplate\": \"variable=Extended aeration<br>PopulationReclaimedWater=%{x}<br>value=%{y}<br>Cluster=%{text}<extra></extra>\", \"legendgroup\": \"Extended aeration\", \"marker\": {\"color\": \"#4C78A8\", \"symbol\": \"circle\"}, \"mode\": \"lines+markers\", \"name\": \"Extended aeration\", \"opacity\": 0.8, \"orientation\": \"v\", \"showlegend\": true, \"text\": [14.0, 0.0, 15.0, 25.0, 3.0, 29.0, 4.0, 27.0, 34.0, 35.0, 33.0, 30.0, 23.0, 13.0, 24.0, 31.0, 32.0, 5.0, 2.0, 19.0, 11.0, 21.0, 38.0, 18.0, 20.0, 17.0, 12.0, 22.0, 10.0, 39.0, 36.0, 1.0, 26.0, 9.0, 16.0, 7.0, 28.0, 37.0], \"type\": \"scatter\", \"x\": [33.95960715447166, 24.328297488256364, 20.006247955585366, 19.96546858119583, 15.109264457766228, 14.826957041885663, 14.77725018827449, 12.049268028084459, 10.605396865482355, 9.3812679790732, 7.862478833927749, 7.486677609409328, 7.398569535962219, 7.379063458091692, 6.460875067028055, 6.358394966292164, 5.975259563265194, 5.94050791661296, 5.721319450512251, 5.437563757160491, 4.252863889980327, 3.6997367125768816, 3.6170791156249407, 3.316220409648177, 3.1348557204702785, 2.7807406678867315, 2.3349320438558747, 1.8961070526991073, 1.3980921449046129, 1.1281199480661512, 0.8685398306689368, 0.7804807709085645, 0.7180135223027141, 0.6577593353338939, 0.3825330210131107, 0.15574896158439538, 0.08210981838356954, 0.05435362680191558], \"xaxis\": \"x\", \"y\": [0.03104942384285129, 0.03690540898907659, 0.040844219118699364, 0.04088746264674353, 0.047248519799848565, 0.04771337064539693, 0.04779661528256655, 0.05313985812975447, 0.056783120917453925, 0.06052044447782865, 0.06634120080801076, 0.06805289231540705, 0.06847325775193323, 0.06856735387773555, 0.07347561633301265, 0.07408953090694996, 0.07652521755154845, 0.07675791086836398, 0.07827487440077104, 0.08037552245528706, 0.09135031367451, 0.09823009944918293, 0.0993938790981442, 0.10399728589194428, 0.10709247433893648, 0.11400167261014695, 0.12488469840279987, 0.13922343763343753, 0.16324859343592732, 0.1826286825798767, 0.2094044914791696, 0.22145677156363067, 0.23134421141374217, 0.242211228978638, 0.3217961357358306, 0.5158444856114529, 0.722458884189756, 0.897862008721631], \"yaxis\": \"y\"}, {\"hovertemplate\": \"variable=Rotating biological contractors<br>PopulationReclaimedWater=%{x}<br>value=%{y}<br>Cluster=%{text}<extra></extra>\", \"legendgroup\": \"Rotating biological contractors\", \"marker\": {\"color\": \"#F58518\", \"symbol\": \"circle\"}, \"mode\": \"lines+markers\", \"name\": \"Rotating biological contractors\", \"opacity\": 0.8, \"orientation\": \"v\", \"showlegend\": true, \"text\": [14.0, 0.0, 15.0, 25.0, 3.0, 29.0, 4.0, 27.0, 34.0, 35.0, 33.0, 30.0, 23.0, 13.0, 24.0, 31.0, 32.0, 5.0, 2.0, 19.0, 11.0, 21.0, 38.0, 18.0, 20.0, 17.0, 12.0, 22.0, 10.0, 39.0, 36.0, 1.0, 26.0, 9.0, 16.0, 7.0, 28.0, 37.0, 6.0], \"type\": \"scatter\", \"x\": [33.95960715447166, 24.328297488256364, 20.006247955585366, 19.96546858119583, 15.109264457766228, 14.826957041885663, 14.77725018827449, 12.049268028084459, 10.605396865482355, 9.3812679790732, 7.862478833927749, 7.486677609409328, 7.398569535962219, 7.379063458091692, 6.460875067028055, 6.358394966292164, 5.975259563265194, 5.94050791661296, 5.721319450512251, 5.437563757160491, 4.252863889980327, 3.6997367125768816, 3.6170791156249407, 3.316220409648177, 3.1348557204702785, 2.7807406678867315, 2.3349320438558747, 1.8961070526991073, 1.3980921449046129, 1.1281199480661512, 0.8685398306689368, 0.7804807709085645, 0.7180135223027141, 0.6577593353338939, 0.3825330210131107, 0.15574896158439538, 0.08210981838356954, 0.05435362680191558, 0.012487493258935252], \"xaxis\": \"x\", \"y\": [0.03551857369779286, 0.040591966910848834, 0.04389933760818347, 0.04393522830205098, 0.04912483004184485, 0.04949750459390501, 0.04956415371604098, 0.05378844977802183, 0.056612292936477994, 0.05946580511231477, 0.06383042409794626, 0.06509676688071898, 0.06540662734978824, 0.06547592720377794, 0.06906105997096199, 0.0695055094232329, 0.07126052741835012, 0.07142750976484732, 0.0725132372471559, 0.07400870712589486, 0.08168095792500404, 0.0863806957467402, 0.0871680179316473, 0.09026165497121008, 0.09232381587738299, 0.0968779489370742, 0.10392384589373663, 0.11299321084968993, 0.12771945030850193, 0.13923143966034313, 0.15468000509997196, 0.16148093244414957, 0.166995909702063, 0.172994220551674, 0.2152055425838952, 0.30919293482502425, 0.4003968755050664, 0.4730365319960973, 0.857865340068616], \"yaxis\": \"y\"}, {\"hovertemplate\": \"variable=Sequencing batch reactor<br>PopulationReclaimedWater=%{x}<br>value=%{y}<br>Cluster=%{text}<extra></extra>\", \"legendgroup\": \"Sequencing batch reactor\", \"marker\": {\"color\": \"#72B7B2\", \"symbol\": \"circle\"}, \"mode\": \"lines+markers\", \"name\": \"Sequencing batch reactor\", \"opacity\": 0.8, \"orientation\": \"v\", \"showlegend\": true, \"text\": [14.0, 0.0, 15.0, 25.0, 3.0, 29.0, 4.0, 27.0, 34.0, 35.0, 33.0, 30.0, 23.0, 13.0, 24.0, 31.0, 32.0, 5.0, 2.0, 19.0, 11.0, 21.0, 38.0, 18.0, 20.0, 17.0, 12.0, 22.0, 10.0, 39.0, 36.0, 1.0, 26.0, 9.0, 16.0, 7.0, 28.0, 37.0, 6.0], \"type\": \"scatter\", \"x\": [33.95960715447166, 24.328297488256364, 20.006247955585366, 19.96546858119583, 15.109264457766228, 14.826957041885663, 14.77725018827449, 12.049268028084459, 10.605396865482355, 9.3812679790732, 7.862478833927749, 7.486677609409328, 7.398569535962219, 7.379063458091692, 6.460875067028055, 6.358394966292164, 5.975259563265194, 5.94050791661296, 5.721319450512251, 5.437563757160491, 4.252863889980327, 3.6997367125768816, 3.6170791156249407, 3.316220409648177, 3.1348557204702785, 2.7807406678867315, 2.3349320438558747, 1.8961070526991073, 1.3980921449046129, 1.1281199480661512, 0.8685398306689368, 0.7804807709085645, 0.7180135223027141, 0.6577593353338939, 0.3825330210131107, 0.15574896158439538, 0.08210981838356954, 0.05435362680191558, 0.012487493258935252], \"xaxis\": \"x\", \"y\": [0.041849714362569505, 0.04779035747038007, 0.05165935017265088, 0.05170131994349751, 0.057766566312636776, 0.05820187255888498, 0.0582797192953631, 0.06321164735605643, 0.06650630508212911, 0.06983384345536796, 0.07492027018768734, 0.07639532588308358, 0.07675620850276438, 0.07683691683950836, 0.08101099846254285, 0.08152829108502115, 0.08357059130908542, 0.08376487786909335, 0.08502801515452026, 0.08676749996508433, 0.09568549622190345, 0.10114347150768517, 0.1020574697298099, 0.10564791402160746, 0.10804041582849325, 0.11332181346682547, 0.12148694668988466, 0.13198685771843058, 0.14901328283259482, 0.16230525847643187, 0.18011935636344223, 0.18795374085940267, 0.1943033672860535, 0.20120611920716935, 0.24969053792290571, 0.35715930288387915, 0.46093215783623565, 0.5432874266861933, 0.9763437351385224], \"yaxis\": \"y\"}, {\"hovertemplate\": \"variable=Membrane  bioreactor<br>PopulationReclaimedWater=%{x}<br>value=%{y}<br>Cluster=%{text}<extra></extra>\", \"legendgroup\": \"Membrane  bioreactor\", \"marker\": {\"color\": \"#54A24B\", \"symbol\": \"circle\"}, \"mode\": \"lines+markers\", \"name\": \"Membrane  bioreactor\", \"opacity\": 0.8, \"orientation\": \"v\", \"showlegend\": true, \"text\": [14.0, 0.0, 15.0, 25.0, 3.0, 29.0, 4.0, 27.0, 34.0, 35.0, 33.0, 30.0, 23.0, 13.0, 24.0, 31.0, 32.0, 5.0, 2.0, 19.0, 11.0, 21.0, 38.0, 18.0, 20.0, 17.0, 12.0, 22.0, 10.0, 39.0, 36.0, 1.0, 26.0, 9.0, 16.0, 7.0, 28.0, 37.0, 6.0], \"type\": \"scatter\", \"x\": [33.95960715447166, 24.328297488256364, 20.006247955585366, 19.96546858119583, 15.109264457766228, 14.826957041885663, 14.77725018827449, 12.049268028084459, 10.605396865482355, 9.3812679790732, 7.862478833927749, 7.486677609409328, 7.398569535962219, 7.379063458091692, 6.460875067028055, 6.358394966292164, 5.975259563265194, 5.94050791661296, 5.721319450512251, 5.437563757160491, 4.252863889980327, 3.6997367125768816, 3.6170791156249407, 3.316220409648177, 3.1348557204702785, 2.7807406678867315, 2.3349320438558747, 1.8961070526991073, 1.3980921449046129, 1.1281199480661512, 0.8685398306689368, 0.7804807709085645, 0.7180135223027141, 0.6577593353338939, 0.3825330210131107, 0.15574896158439538, 0.08210981838356954, 0.05435362680191558, 0.012487493258935252], \"xaxis\": \"x\", \"y\": [0.08417257940332966, 0.09332438455985644, 0.09915240339917869, 0.09921509895493894, 0.10816599414044527, 0.10880044108665744, 0.10891379350066187, 0.11603138210964643, 0.1207199391695969, 0.12540534496364406, 0.13247699222482992, 0.13450844997652464, 0.13500418860390603, 0.13511498864923704, 0.14081243767628693, 0.14151413342034388, 0.14427533827044114, 0.14453726665226924, 0.14623705503920945, 0.1485691533160021, 0.16037552995180282, 0.16748615405804412, 0.16866891090046468, 0.17329379901268896, 0.17635724676082928, 0.18306996776144754, 0.19332071824894081, 0.20629360893478343, 0.2268841230144074, 0.24261815409404658, 0.2632933705528017, 0.2722502664732906, 0.2794531220878391, 0.28722855366612526, 0.34041406998948026, 0.45144591576425075, 0.5522937745434137, 0.6290643634068187, 1.001931438987678], \"yaxis\": \"y\"}, {\"hovertemplate\": \"variable=Intermittent sand filter<br>PopulationReclaimedWater=%{x}<br>value=%{y}<br>Cluster=%{text}<extra></extra>\", \"legendgroup\": \"Intermittent sand filter\", \"marker\": {\"color\": \"#EECA3B\", \"symbol\": \"circle\"}, \"mode\": \"lines+markers\", \"name\": \"Intermittent sand filter\", \"opacity\": 0.8, \"orientation\": \"v\", \"showlegend\": true, \"text\": [14.0, 0.0, 15.0, 25.0, 3.0, 29.0, 4.0, 27.0, 34.0, 35.0, 33.0, 30.0, 23.0, 13.0, 24.0, 31.0, 32.0, 5.0, 2.0, 19.0, 11.0, 21.0, 38.0, 18.0, 20.0, 17.0, 12.0, 22.0, 10.0, 39.0, 36.0, 1.0, 26.0, 9.0, 16.0, 7.0, 28.0, 37.0, 6.0, 8.0], \"type\": \"scatter\", \"x\": [33.95960715447166, 24.328297488256364, 20.006247955585366, 19.96546858119583, 15.109264457766228, 14.826957041885663, 14.77725018827449, 12.049268028084459, 10.605396865482355, 9.3812679790732, 7.862478833927749, 7.486677609409328, 7.398569535962219, 7.379063458091692, 6.460875067028055, 6.358394966292164, 5.975259563265194, 5.94050791661296, 5.721319450512251, 5.437563757160491, 4.252863889980327, 3.6997367125768816, 3.6170791156249407, 3.316220409648177, 3.1348557204702785, 2.7807406678867315, 2.3349320438558747, 1.8961070526991073, 1.3980921449046129, 1.1281199480661512, 0.8685398306689368, 0.7804807709085645, 0.7180135223027141, 0.6577593353338939, 0.3825330210131107, 0.15574896158439538, 0.08210981838356954, 0.05435362680191558, 0.012487493258935252, 0.006789682369366212], \"xaxis\": \"x\", \"y\": [0.1295589643729303, 0.13043648001663788, 0.13101204595216112, 0.13101830766044353, 0.13192743112755403, 0.13199300754591545, 0.13200473943295607, 0.1327509661320018, 0.13325278404070037, 0.133762387021127, 0.13454690286896734, 0.13477569327332567, 0.13483175753205923, 0.13484430064031028, 0.13549542775911216, 0.13557645589573286, 0.1358970891778171, 0.1359276524074179, 0.13612661675592708, 0.13640135614416907, 0.1378237116327106, 0.13870596318925976, 0.13885460074250486, 0.1394410168521458, 0.1398340367857145, 0.14070813173446609, 0.14207755830498267, 0.1438719084273616, 0.1468651144639952, 0.14927720503120098, 0.15261911510444898, 0.15412998978298817, 0.15537352550096906, 0.15674504741877318, 0.16698552871829367, 0.19392402741504752, 0.22632290221818877, 0.25709176015315555, 0.5077088591751194, 0.7518350137544164], \"yaxis\": \"y\"}, {\"hovertemplate\": \"variable=Trickling filter<br>PopulationReclaimedWater=%{x}<br>value=%{y}<br>Cluster=%{text}<extra></extra>\", \"legendgroup\": \"Trickling filter\", \"marker\": {\"color\": \"#B279A2\", \"symbol\": \"circle\"}, \"mode\": \"lines+markers\", \"name\": \"Trickling filter\", \"opacity\": 0.8, \"orientation\": \"v\", \"showlegend\": true, \"text\": [14.0, 0.0, 15.0, 25.0, 3.0, 29.0, 4.0, 27.0, 34.0, 35.0, 33.0, 30.0, 23.0, 13.0, 24.0, 31.0, 32.0, 5.0, 2.0, 19.0, 11.0, 21.0, 38.0, 18.0, 20.0, 17.0, 12.0, 22.0, 10.0, 39.0, 36.0, 1.0, 26.0, 9.0, 16.0, 7.0, 28.0, 37.0], \"type\": \"scatter\", \"x\": [33.95960715447166, 24.328297488256364, 20.006247955585366, 19.96546858119583, 15.109264457766228, 14.826957041885663, 14.77725018827449, 12.049268028084459, 10.605396865482355, 9.3812679790732, 7.862478833927749, 7.486677609409328, 7.398569535962219, 7.379063458091692, 6.460875067028055, 6.358394966292164, 5.975259563265194, 5.94050791661296, 5.721319450512251, 5.437563757160491, 4.252863889980327, 3.6997367125768816, 3.6170791156249407, 3.316220409648177, 3.1348557204702785, 2.7807406678867315, 2.3349320438558747, 1.8961070526991073, 1.3980921449046129, 1.1281199480661512, 0.8685398306689368, 0.7804807709085645, 0.7180135223027141, 0.6577593353338939, 0.3825330210131107, 0.15574896158439538, 0.08210981838356954, 0.05435362680191558], \"xaxis\": \"x\", \"y\": [0.15002142124751575, 0.15204507257961322, 0.1533998595076689, 0.15341470940527963, 0.15559426741784338, 0.15575320634233822, 0.15578166449452618, 0.15760580427879717, 0.15884714099183977, 0.1601188762009687, 0.16209695683267503, 0.16267816738837004, 0.16282087631476713, 0.16285281939039564, 0.16451842006704887, 0.16472667676575284, 0.16555280633000838, 0.1656317216128303, 0.166146150436004, 0.1668584413689872, 0.17057942321424518, 0.17291277481568434, 0.17330761158379437, 0.1748698943394231, 0.17592082235595777, 0.17826848086119398, 0.18197230242692977, 0.18686579344546658, 0.1951075878664668, 0.20180127316076077, 0.21112479864467162, 0.21535217984792837, 0.21883514134512508, 0.22267907184991778, 0.2513681242783364, 0.32565234117287767, 0.41193611666695285, 0.4911544578686815], \"yaxis\": \"y\"}, {\"hovertemplate\": \"variable=Moving bed biofilm reactor<br>PopulationReclaimedWater=%{x}<br>value=%{y}<br>Cluster=%{text}<extra></extra>\", \"legendgroup\": \"Moving bed biofilm reactor\", \"marker\": {\"color\": \"#FF9DA6\", \"symbol\": \"circle\"}, \"mode\": \"lines+markers\", \"name\": \"Moving bed biofilm reactor\", \"opacity\": 0.8, \"orientation\": \"v\", \"showlegend\": true, \"text\": [14.0, 0.0, 15.0, 25.0, 3.0, 29.0, 4.0, 27.0, 34.0, 35.0, 33.0, 30.0, 23.0, 13.0, 24.0, 31.0, 32.0, 5.0, 2.0, 19.0, 11.0, 21.0, 38.0, 18.0, 20.0, 17.0, 12.0, 22.0, 10.0, 39.0, 36.0, 1.0, 26.0, 9.0, 16.0, 7.0, 28.0, 37.0, 6.0], \"type\": \"scatter\", \"x\": [33.95960715447166, 24.328297488256364, 20.006247955585366, 19.96546858119583, 15.109264457766228, 14.826957041885663, 14.77725018827449, 12.049268028084459, 10.605396865482355, 9.3812679790732, 7.862478833927749, 7.486677609409328, 7.398569535962219, 7.379063458091692, 6.460875067028055, 6.358394966292164, 5.975259563265194, 5.94050791661296, 5.721319450512251, 5.437563757160491, 4.252863889980327, 3.6997367125768816, 3.6170791156249407, 3.316220409648177, 3.1348557204702785, 2.7807406678867315, 2.3349320438558747, 1.8961070526991073, 1.3980921449046129, 1.1281199480661512, 0.8685398306689368, 0.7804807709085645, 0.7180135223027141, 0.6577593353338939, 0.3825330210131107, 0.15574896158439538, 0.08210981838356954, 0.05435362680191558, 0.012487493258935252], \"xaxis\": \"x\", \"y\": [0.197351416662507, 0.20113255041962935, 0.20345783222160013, 0.20348252845929035, 0.2069446712046185, 0.20718553339817894, 0.2072285068929114, 0.20989218405816318, 0.21161192342200966, 0.2133052759014895, 0.21581746222694748, 0.21653016238653783, 0.21670350772212624, 0.21674222084622302, 0.21871842990958532, 0.21895992829857563, 0.21990641505348588, 0.21999588927520697, 0.22057526471417938, 0.22136667367185348, 0.22531673063746027, 0.2276557109089199, 0.22804220571451247, 0.2295470656818141, 0.2305385526273849, 0.23269780608865936, 0.23596490290374703, 0.24005947239000536, 0.24650347127213473, 0.2514133313589473, 0.25788899983899666, 0.2607137986472619, 0.26299761811606, 0.2654774909043783, 0.28301488672180464, 0.325036275483427, 0.3730906324919433, 0.4182708262766583, 0.7944738203929572], \"yaxis\": \"y\"}],                        {\"legend\": {\"orientation\": \"h\", \"title\": {\"text\": \"variable\"}, \"tracegroupgap\": 0, \"x\": 0.5, \"xanchor\": \"center\", \"y\": -0.15, \"yanchor\": \"top\"}, \"margin\": {\"b\": 0, \"l\": 0, \"r\": 0, \"t\": 30}, \"template\": {\"data\": {\"bar\": [{\"error_x\": {\"color\": \"#2a3f5f\"}, \"error_y\": {\"color\": \"#2a3f5f\"}, \"marker\": {\"line\": {\"color\": \"white\", \"width\": 0.5}}, \"type\": \"bar\"}], \"barpolar\": [{\"marker\": {\"line\": {\"color\": \"white\", \"width\": 0.5}}, \"type\": \"barpolar\"}], \"carpet\": [{\"aaxis\": {\"endlinecolor\": \"#2a3f5f\", \"gridcolor\": \"#C8D4E3\", \"linecolor\": \"#C8D4E3\", \"minorgridcolor\": \"#C8D4E3\", \"startlinecolor\": \"#2a3f5f\"}, \"baxis\": {\"endlinecolor\": \"#2a3f5f\", \"gridcolor\": \"#C8D4E3\", \"linecolor\": \"#C8D4E3\", \"minorgridcolor\": \"#C8D4E3\", \"startlinecolor\": \"#2a3f5f\"}, \"type\": \"carpet\"}], \"choropleth\": [{\"colorbar\": {\"outlinewidth\": 0, \"ticks\": \"\"}, \"type\": \"choropleth\"}], \"contour\": [{\"colorbar\": {\"outlinewidth\": 0, \"ticks\": \"\"}, \"colorscale\": [[0.0, \"#0d0887\"], [0.1111111111111111, \"#46039f\"], [0.2222222222222222, \"#7201a8\"], [0.3333333333333333, \"#9c179e\"], [0.4444444444444444, \"#bd3786\"], [0.5555555555555556, \"#d8576b\"], [0.6666666666666666, \"#ed7953\"], [0.7777777777777778, \"#fb9f3a\"], [0.8888888888888888, \"#fdca26\"], [1.0, \"#f0f921\"]], \"type\": \"contour\"}], \"contourcarpet\": [{\"colorbar\": {\"outlinewidth\": 0, \"ticks\": \"\"}, \"type\": \"contourcarpet\"}], \"heatmap\": [{\"colorbar\": {\"outlinewidth\": 0, \"ticks\": \"\"}, \"colorscale\": [[0.0, \"#0d0887\"], [0.1111111111111111, \"#46039f\"], [0.2222222222222222, \"#7201a8\"], [0.3333333333333333, \"#9c179e\"], [0.4444444444444444, \"#bd3786\"], [0.5555555555555556, \"#d8576b\"], [0.6666666666666666, \"#ed7953\"], [0.7777777777777778, \"#fb9f3a\"], [0.8888888888888888, \"#fdca26\"], [1.0, \"#f0f921\"]], \"type\": \"heatmap\"}], \"heatmapgl\": [{\"colorbar\": {\"outlinewidth\": 0, \"ticks\": \"\"}, \"colorscale\": [[0.0, \"#0d0887\"], [0.1111111111111111, \"#46039f\"], [0.2222222222222222, \"#7201a8\"], [0.3333333333333333, \"#9c179e\"], [0.4444444444444444, \"#bd3786\"], [0.5555555555555556, \"#d8576b\"], [0.6666666666666666, \"#ed7953\"], [0.7777777777777778, \"#fb9f3a\"], [0.8888888888888888, \"#fdca26\"], [1.0, \"#f0f921\"]], \"type\": \"heatmapgl\"}], \"histogram\": [{\"marker\": {\"colorbar\": {\"outlinewidth\": 0, \"ticks\": \"\"}}, \"type\": \"histogram\"}], \"histogram2d\": [{\"colorbar\": {\"outlinewidth\": 0, \"ticks\": \"\"}, \"colorscale\": [[0.0, \"#0d0887\"], [0.1111111111111111, \"#46039f\"], [0.2222222222222222, \"#7201a8\"], [0.3333333333333333, \"#9c179e\"], [0.4444444444444444, \"#bd3786\"], [0.5555555555555556, \"#d8576b\"], [0.6666666666666666, \"#ed7953\"], [0.7777777777777778, \"#fb9f3a\"], [0.8888888888888888, \"#fdca26\"], [1.0, \"#f0f921\"]], \"type\": \"histogram2d\"}], \"histogram2dcontour\": [{\"colorbar\": {\"outlinewidth\": 0, \"ticks\": \"\"}, \"colorscale\": [[0.0, \"#0d0887\"], [0.1111111111111111, \"#46039f\"], [0.2222222222222222, \"#7201a8\"], [0.3333333333333333, \"#9c179e\"], [0.4444444444444444, \"#bd3786\"], [0.5555555555555556, \"#d8576b\"], [0.6666666666666666, \"#ed7953\"], [0.7777777777777778, \"#fb9f3a\"], [0.8888888888888888, \"#fdca26\"], [1.0, \"#f0f921\"]], \"type\": \"histogram2dcontour\"}], \"mesh3d\": [{\"colorbar\": {\"outlinewidth\": 0, \"ticks\": \"\"}, \"type\": \"mesh3d\"}], \"parcoords\": [{\"line\": {\"colorbar\": {\"outlinewidth\": 0, \"ticks\": \"\"}}, \"type\": \"parcoords\"}], \"pie\": [{\"automargin\": true, \"type\": \"pie\"}], \"scatter\": [{\"marker\": {\"colorbar\": {\"outlinewidth\": 0, \"ticks\": \"\"}}, \"type\": \"scatter\"}], \"scatter3d\": [{\"line\": {\"colorbar\": {\"outlinewidth\": 0, \"ticks\": \"\"}}, \"marker\": {\"colorbar\": {\"outlinewidth\": 0, \"ticks\": \"\"}}, \"type\": \"scatter3d\"}], \"scattercarpet\": [{\"marker\": {\"colorbar\": {\"outlinewidth\": 0, \"ticks\": \"\"}}, \"type\": \"scattercarpet\"}], \"scattergeo\": [{\"marker\": {\"colorbar\": {\"outlinewidth\": 0, \"ticks\": \"\"}}, \"type\": \"scattergeo\"}], \"scattergl\": [{\"marker\": {\"colorbar\": {\"outlinewidth\": 0, \"ticks\": \"\"}}, \"type\": \"scattergl\"}], \"scattermapbox\": [{\"marker\": {\"colorbar\": {\"outlinewidth\": 0, \"ticks\": \"\"}}, \"type\": \"scattermapbox\"}], \"scatterpolar\": [{\"marker\": {\"colorbar\": {\"outlinewidth\": 0, \"ticks\": \"\"}}, \"type\": \"scatterpolar\"}], \"scatterpolargl\": [{\"marker\": {\"colorbar\": {\"outlinewidth\": 0, \"ticks\": \"\"}}, \"type\": \"scatterpolargl\"}], \"scatterternary\": [{\"marker\": {\"colorbar\": {\"outlinewidth\": 0, \"ticks\": \"\"}}, \"type\": \"scatterternary\"}], \"surface\": [{\"colorbar\": {\"outlinewidth\": 0, \"ticks\": \"\"}, \"colorscale\": [[0.0, \"#0d0887\"], [0.1111111111111111, \"#46039f\"], [0.2222222222222222, \"#7201a8\"], [0.3333333333333333, \"#9c179e\"], [0.4444444444444444, \"#bd3786\"], [0.5555555555555556, \"#d8576b\"], [0.6666666666666666, \"#ed7953\"], [0.7777777777777778, \"#fb9f3a\"], [0.8888888888888888, \"#fdca26\"], [1.0, \"#f0f921\"]], \"type\": \"surface\"}], \"table\": [{\"cells\": {\"fill\": {\"color\": \"#EBF0F8\"}, \"line\": {\"color\": \"white\"}}, \"header\": {\"fill\": {\"color\": \"#C8D4E3\"}, \"line\": {\"color\": \"white\"}}, \"type\": \"table\"}]}, \"layout\": {\"annotationdefaults\": {\"arrowcolor\": \"#2a3f5f\", \"arrowhead\": 0, \"arrowwidth\": 1}, \"coloraxis\": {\"colorbar\": {\"outlinewidth\": 0, \"ticks\": \"\"}}, \"colorscale\": {\"diverging\": [[0, \"#8e0152\"], [0.1, \"#c51b7d\"], [0.2, \"#de77ae\"], [0.3, \"#f1b6da\"], [0.4, \"#fde0ef\"], [0.5, \"#f7f7f7\"], [0.6, \"#e6f5d0\"], [0.7, \"#b8e186\"], [0.8, \"#7fbc41\"], [0.9, \"#4d9221\"], [1, \"#276419\"]], \"sequential\": [[0.0, \"#0d0887\"], [0.1111111111111111, \"#46039f\"], [0.2222222222222222, \"#7201a8\"], [0.3333333333333333, \"#9c179e\"], [0.4444444444444444, \"#bd3786\"], [0.5555555555555556, \"#d8576b\"], [0.6666666666666666, \"#ed7953\"], [0.7777777777777778, \"#fb9f3a\"], [0.8888888888888888, \"#fdca26\"], [1.0, \"#f0f921\"]], \"sequentialminus\": [[0.0, \"#0d0887\"], [0.1111111111111111, \"#46039f\"], [0.2222222222222222, \"#7201a8\"], [0.3333333333333333, \"#9c179e\"], [0.4444444444444444, \"#bd3786\"], [0.5555555555555556, \"#d8576b\"], [0.6666666666666666, \"#ed7953\"], [0.7777777777777778, \"#fb9f3a\"], [0.8888888888888888, \"#fdca26\"], [1.0, \"#f0f921\"]]}, \"colorway\": [\"#636efa\", \"#EF553B\", \"#00cc96\", \"#ab63fa\", \"#FFA15A\", \"#19d3f3\", \"#FF6692\", \"#B6E880\", \"#FF97FF\", \"#FECB52\"], \"font\": {\"color\": \"#2a3f5f\"}, \"geo\": {\"bgcolor\": \"white\", \"lakecolor\": \"white\", \"landcolor\": \"white\", \"showlakes\": true, \"showland\": true, \"subunitcolor\": \"#C8D4E3\"}, \"hoverlabel\": {\"align\": \"left\"}, \"hovermode\": \"closest\", \"mapbox\": {\"style\": \"light\"}, \"paper_bgcolor\": \"white\", \"plot_bgcolor\": \"white\", \"polar\": {\"angularaxis\": {\"gridcolor\": \"#EBF0F8\", \"linecolor\": \"#EBF0F8\", \"ticks\": \"\"}, \"bgcolor\": \"white\", \"radialaxis\": {\"gridcolor\": \"#EBF0F8\", \"linecolor\": \"#EBF0F8\", \"ticks\": \"\"}}, \"scene\": {\"xaxis\": {\"backgroundcolor\": \"white\", \"gridcolor\": \"#DFE8F3\", \"gridwidth\": 2, \"linecolor\": \"#EBF0F8\", \"showbackground\": true, \"ticks\": \"\", \"zerolinecolor\": \"#EBF0F8\"}, \"yaxis\": {\"backgroundcolor\": \"white\", \"gridcolor\": \"#DFE8F3\", \"gridwidth\": 2, \"linecolor\": \"#EBF0F8\", \"showbackground\": true, \"ticks\": \"\", \"zerolinecolor\": \"#EBF0F8\"}, \"zaxis\": {\"backgroundcolor\": \"white\", \"gridcolor\": \"#DFE8F3\", \"gridwidth\": 2, \"linecolor\": \"#EBF0F8\", \"showbackground\": true, \"ticks\": \"\", \"zerolinecolor\": \"#EBF0F8\"}}, \"shapedefaults\": {\"line\": {\"color\": \"#2a3f5f\"}}, \"ternary\": {\"aaxis\": {\"gridcolor\": \"#DFE8F3\", \"linecolor\": \"#A2B1C6\", \"ticks\": \"\"}, \"baxis\": {\"gridcolor\": \"#DFE8F3\", \"linecolor\": \"#A2B1C6\", \"ticks\": \"\"}, \"bgcolor\": \"white\", \"caxis\": {\"gridcolor\": \"#DFE8F3\", \"linecolor\": \"#A2B1C6\", \"ticks\": \"\"}}, \"title\": {\"x\": 0.05}, \"xaxis\": {\"automargin\": true, \"gridcolor\": \"#EBF0F8\", \"linecolor\": \"#EBF0F8\", \"ticks\": \"\", \"title\": {\"standoff\": 15}, \"zerolinecolor\": \"#EBF0F8\", \"zerolinewidth\": 2}, \"yaxis\": {\"automargin\": true, \"gridcolor\": \"#EBF0F8\", \"linecolor\": \"#EBF0F8\", \"ticks\": \"\", \"title\": {\"standoff\": 15}, \"zerolinecolor\": \"#EBF0F8\", \"zerolinewidth\": 2}}}, \"width\": 900, \"xaxis\": {\"anchor\": \"y\", \"domain\": [0.0, 1.0], \"title\": {\"text\": \"Capacity (Mm<sup>3</sup>/y)\"}}, \"yaxis\": {\"anchor\": \"x\", \"domain\": [0.0, 1.0], \"title\": {\"text\": \"LCOW ($/m<sup>3</sup>)\"}}},                        {\"responsive\": true}                    ).then(function(){\n",
       "                            \n",
       "var gd = document.getElementById('0f7a97f8-3cdb-4d0a-865d-4dbd8fd93548');\n",
       "var x = new MutationObserver(function (mutations, observer) {{\n",
       "        var display = window.getComputedStyle(gd).display;\n",
       "        if (!display || display === 'none') {{\n",
       "            console.log([gd, 'removed!']);\n",
       "            Plotly.purge(gd);\n",
       "            observer.disconnect();\n",
       "        }}\n",
       "}});\n",
       "\n",
       "// Listen for the removal of the full notebook cells\n",
       "var notebookContainer = gd.closest('#notebook-container');\n",
       "if (notebookContainer) {{\n",
       "    x.observe(notebookContainer, {childList: true});\n",
       "}}\n",
       "\n",
       "// Listen for the clearing of the current output cell\n",
       "var outputEl = gd.closest('.output');\n",
       "if (outputEl) {{\n",
       "    x.observe(outputEl, {childList: true});\n",
       "}}\n",
       "\n",
       "                        })                };                });            </script>        </div>"
      ]
     },
     "metadata": {},
     "output_type": "display_data"
    }
   ],
   "source": [
    "dff = df.groupby('Cluster').agg({'MovingBedBiofilmReactorLCOW': 'mean', 'TricklingFilterLCOW': 'mean', 'IntermittentSandFilterLCOW': 'mean', \n",
    "                             'RotatingBiologicalContractorsLCOW': 'mean', 'SequencingBatchReactorLCOW': 'mean', 'Membrane BioreactorLCOW': 'mean', \n",
    "                             'ExtendedAerationLCOW': 'mean', 'PopulationReclaimedWater': 'mean','IrrigationReclaimedWater': 'mean', 'PondSystemLCOW': 'mean'}).reset_index()\n",
    "dff_melt = dff.melt(id_vars=['Cluster', 'PopulationReclaimedWater', \n",
    "                             'IrrigationReclaimedWater', 'PondSystemLCOW'])\n",
    "dff_melt = dff_melt.loc[dff_melt['value']<=1.02]\n",
    "dff_melt['variable'] = [' '.join(re.findall('[A-Z][^A-Z]*', s.replace('LCOW', ''))).capitalize() for s in dff_melt['variable']]\n",
    "\n",
    "dff_melt['PopulationReclaimedWater'] /= 1000000\n",
    "\n",
    "colors = [px.colors.qualitative.T10[i] for i in [0, 1, 3, 4, 5, 6, 7]]\n",
    "\n",
    "fig_pop_all = px.scatter(dff_melt.sort_values('value'), x='PopulationReclaimedWater', \n",
    "                 y='value', color='variable', text='Cluster',\n",
    "#                  marginal_x='rug', marginal_y='box',\n",
    "                 color_discrete_sequence=colors,\n",
    "                )\n",
    "# for i in range(0, 21, 3):              \n",
    "#     fig.data[i].update(mode='lines+markers', opacity=0.8)\n",
    "\n",
    "# x = np.array(fig.data)\n",
    "# fig.data = tuple(np.delete(x, [4, 7, 10, 13, 16, 19]))\n",
    "# fig.data = tuple(np.delete(x, [3, 5, 7, 9, 11, 13]))\n",
    "# fig.data[1].update(marker={'color': px.colors.qualitative.T10[9]}, xbins=dict(size=2000000))\n",
    "\n",
    "fig_pop_all.update_traces(mode='lines+markers', opacity=0.8)\n",
    "\n",
    "# for x, cluster in zip(dff_melt['PopulationFutureReclaimedWater'].unique(), dff_melt['Cluster'].unique()):\n",
    "#     fig.add_annotation(yref=\"paper\", x=x, y=0.8,\n",
    "#                       text=cluster,\n",
    "#                       showarrow=True,\n",
    "# #                      arrowhead=1\n",
    "#                       )\n",
    "    \n",
    "fig_pop_all.update_layout(width=900, template='plotly_white',\n",
    "                  xaxis={'title': 'Capacity (Mm<sup>3</sup>/y)'}, \n",
    "                  yaxis={'title': 'LCOW ($/m<sup>3</sup>)'},\n",
    "                  legend=dict(\n",
    "#                             title='',\n",
    "                            orientation=\"h\",\n",
    "                            yanchor=\"top\",\n",
    "                            y=-0.15,\n",
    "                            xanchor=\"center\",\n",
    "                            x=0.5\n",
    "                ),\n",
    "                 margin=dict(b=0, l=0, r=0, t=30))    \n",
    "\n",
    "fig_pop_all.show()\n",
    "# fig_pop_all.write_image('../LCOW_population_all2.pdf')"
   ]
  },
  {
   "cell_type": "code",
   "execution_count": 39,
   "metadata": {},
   "outputs": [
    {
     "data": {
      "application/vnd.plotly.v1+json": {
       "config": {
        "plotlyServerURL": "https://plot.ly"
       },
       "data": [
        {
         "hovertemplate": "PopulationLeastCostTechnology=Extended aeration<br>PopulationFutureReclaimedWater=%{x}<br>PopulationLeastCost=%{y}<br>Cluster=%{text}<extra></extra>",
         "legendgroup": "Extended aeration",
         "line": {
          "color": "#4C78A8",
          "dash": "solid"
         },
         "mode": "lines+markers",
         "name": "Extended aeration",
         "opacity": 0.8,
         "orientation": "v",
         "showlegend": false,
         "text": [
          14,
          0,
          15,
          25,
          3,
          29,
          4,
          27
         ],
         "type": "scatter",
         "x": [
          33.95960715447085,
          24.328297488255707,
          20.00624795558504,
          19.96546858119578,
          15.109264457766347,
          14.826957041885782,
          14.777250188274683,
          12.04926802808433
         ],
         "xaxis": "x",
         "y": [
          0.03104942384285129,
          0.03690540898907659,
          0.040844219118699364,
          0.04088746264674353,
          0.047248519799848565,
          0.04771337064539693,
          0.04779661528256655,
          0.05313985812975447
         ],
         "yaxis": "y"
        },
        {
         "hovertemplate": "PopulationLeastCostTechnology=Rotating biological contractors<br>PopulationFutureReclaimedWater=%{x}<br>PopulationLeastCost=%{y}<br>Cluster=%{text}<extra></extra>",
         "legendgroup": "Rotating biological contractors",
         "line": {
          "color": "#F58518",
          "dash": "solid"
         },
         "mode": "lines+markers",
         "name": "Rotating biological contractors",
         "opacity": 0.8,
         "orientation": "v",
         "showlegend": false,
         "text": [
          34,
          35,
          33,
          30,
          23,
          13,
          24,
          31,
          32,
          5,
          2,
          19,
          11,
          21,
          38,
          18,
          20,
          17,
          12,
          22,
          10,
          39
         ],
         "type": "scatter",
         "x": [
          10.605396865482465,
          9.38126797907313,
          7.862478833927821,
          7.486677609409288,
          7.398569535962339,
          7.379063458091507,
          6.460875067028146,
          6.3583949662920975,
          5.975259563265152,
          5.94050791661287,
          5.721319450512283,
          5.437563757160539,
          4.252863889980347,
          3.699736712576902,
          3.6170791156249718,
          3.3162204096481704,
          3.134855720470258,
          2.7807406678867252,
          2.3349320438558703,
          1.896107052699122,
          1.3980921449046098,
          1.1281199480661543
         ],
         "xaxis": "x",
         "y": [
          0.056612292936477994,
          0.05946580511231477,
          0.06383042409794626,
          0.06509676688071898,
          0.06540662734978824,
          0.06547592720377794,
          0.06906105997096199,
          0.0695055094232329,
          0.07126052741835012,
          0.07142750976484732,
          0.0725132372471559,
          0.07400870712589486,
          0.08168095792500404,
          0.0863806957467402,
          0.0871680179316473,
          0.09026165497121008,
          0.09232381587738299,
          0.0968779489370742,
          0.10392384589373663,
          0.11299321084968993,
          0.12771945030850193,
          0.13923143966034313
         ],
         "yaxis": "y"
        },
        {
         "hovertemplate": "PopulationLeastCostTechnology=Intermittent sand filter<br>PopulationFutureReclaimedWater=%{x}<br>PopulationLeastCost=%{y}<br>Cluster=%{text}<extra></extra>",
         "legendgroup": "Intermittent sand filter",
         "line": {
          "color": "#EECA3B",
          "dash": "solid"
         },
         "mode": "lines+markers",
         "name": "Intermittent sand filter",
         "opacity": 0.8,
         "orientation": "v",
         "showlegend": false,
         "text": [
          36,
          1,
          26,
          9,
          16,
          7,
          28,
          37,
          6,
          8
         ],
         "type": "scatter",
         "x": [
          0.8685398306689344,
          0.7804807709085655,
          0.7180135223027131,
          0.6577593353338963,
          0.38253302101311004,
          0.15574896158439547,
          0.08210981838356955,
          0.05435362680191556,
          0.012487493258935252,
          0.006789682369366212
         ],
         "xaxis": "x",
         "y": [
          0.15261911510444898,
          0.15412998978298817,
          0.15537352550096906,
          0.15674504741877318,
          0.16698552871829367,
          0.19392402741504752,
          0.22632290221818877,
          0.25709176015315555,
          0.5077088591751194,
          0.7518350137544164
         ],
         "yaxis": "y"
        }
       ],
       "layout": {
        "legend": {
         "orientation": "h",
         "title": {
          "text": "PopulationLeastCostTechnology"
         },
         "tracegroupgap": 0,
         "x": 0.5,
         "xanchor": "center",
         "y": -0.15,
         "yanchor": "top"
        },
        "margin": {
         "b": 0,
         "l": 0,
         "r": 0,
         "t": 30
        },
        "template": {
         "data": {
          "bar": [
           {
            "error_x": {
             "color": "#2a3f5f"
            },
            "error_y": {
             "color": "#2a3f5f"
            },
            "marker": {
             "line": {
              "color": "white",
              "width": 0.5
             }
            },
            "type": "bar"
           }
          ],
          "barpolar": [
           {
            "marker": {
             "line": {
              "color": "white",
              "width": 0.5
             }
            },
            "type": "barpolar"
           }
          ],
          "carpet": [
           {
            "aaxis": {
             "endlinecolor": "#2a3f5f",
             "gridcolor": "#C8D4E3",
             "linecolor": "#C8D4E3",
             "minorgridcolor": "#C8D4E3",
             "startlinecolor": "#2a3f5f"
            },
            "baxis": {
             "endlinecolor": "#2a3f5f",
             "gridcolor": "#C8D4E3",
             "linecolor": "#C8D4E3",
             "minorgridcolor": "#C8D4E3",
             "startlinecolor": "#2a3f5f"
            },
            "type": "carpet"
           }
          ],
          "choropleth": [
           {
            "colorbar": {
             "outlinewidth": 0,
             "ticks": ""
            },
            "type": "choropleth"
           }
          ],
          "contour": [
           {
            "colorbar": {
             "outlinewidth": 0,
             "ticks": ""
            },
            "colorscale": [
             [
              0,
              "#0d0887"
             ],
             [
              0.1111111111111111,
              "#46039f"
             ],
             [
              0.2222222222222222,
              "#7201a8"
             ],
             [
              0.3333333333333333,
              "#9c179e"
             ],
             [
              0.4444444444444444,
              "#bd3786"
             ],
             [
              0.5555555555555556,
              "#d8576b"
             ],
             [
              0.6666666666666666,
              "#ed7953"
             ],
             [
              0.7777777777777778,
              "#fb9f3a"
             ],
             [
              0.8888888888888888,
              "#fdca26"
             ],
             [
              1,
              "#f0f921"
             ]
            ],
            "type": "contour"
           }
          ],
          "contourcarpet": [
           {
            "colorbar": {
             "outlinewidth": 0,
             "ticks": ""
            },
            "type": "contourcarpet"
           }
          ],
          "heatmap": [
           {
            "colorbar": {
             "outlinewidth": 0,
             "ticks": ""
            },
            "colorscale": [
             [
              0,
              "#0d0887"
             ],
             [
              0.1111111111111111,
              "#46039f"
             ],
             [
              0.2222222222222222,
              "#7201a8"
             ],
             [
              0.3333333333333333,
              "#9c179e"
             ],
             [
              0.4444444444444444,
              "#bd3786"
             ],
             [
              0.5555555555555556,
              "#d8576b"
             ],
             [
              0.6666666666666666,
              "#ed7953"
             ],
             [
              0.7777777777777778,
              "#fb9f3a"
             ],
             [
              0.8888888888888888,
              "#fdca26"
             ],
             [
              1,
              "#f0f921"
             ]
            ],
            "type": "heatmap"
           }
          ],
          "heatmapgl": [
           {
            "colorbar": {
             "outlinewidth": 0,
             "ticks": ""
            },
            "colorscale": [
             [
              0,
              "#0d0887"
             ],
             [
              0.1111111111111111,
              "#46039f"
             ],
             [
              0.2222222222222222,
              "#7201a8"
             ],
             [
              0.3333333333333333,
              "#9c179e"
             ],
             [
              0.4444444444444444,
              "#bd3786"
             ],
             [
              0.5555555555555556,
              "#d8576b"
             ],
             [
              0.6666666666666666,
              "#ed7953"
             ],
             [
              0.7777777777777778,
              "#fb9f3a"
             ],
             [
              0.8888888888888888,
              "#fdca26"
             ],
             [
              1,
              "#f0f921"
             ]
            ],
            "type": "heatmapgl"
           }
          ],
          "histogram": [
           {
            "marker": {
             "colorbar": {
              "outlinewidth": 0,
              "ticks": ""
             }
            },
            "type": "histogram"
           }
          ],
          "histogram2d": [
           {
            "colorbar": {
             "outlinewidth": 0,
             "ticks": ""
            },
            "colorscale": [
             [
              0,
              "#0d0887"
             ],
             [
              0.1111111111111111,
              "#46039f"
             ],
             [
              0.2222222222222222,
              "#7201a8"
             ],
             [
              0.3333333333333333,
              "#9c179e"
             ],
             [
              0.4444444444444444,
              "#bd3786"
             ],
             [
              0.5555555555555556,
              "#d8576b"
             ],
             [
              0.6666666666666666,
              "#ed7953"
             ],
             [
              0.7777777777777778,
              "#fb9f3a"
             ],
             [
              0.8888888888888888,
              "#fdca26"
             ],
             [
              1,
              "#f0f921"
             ]
            ],
            "type": "histogram2d"
           }
          ],
          "histogram2dcontour": [
           {
            "colorbar": {
             "outlinewidth": 0,
             "ticks": ""
            },
            "colorscale": [
             [
              0,
              "#0d0887"
             ],
             [
              0.1111111111111111,
              "#46039f"
             ],
             [
              0.2222222222222222,
              "#7201a8"
             ],
             [
              0.3333333333333333,
              "#9c179e"
             ],
             [
              0.4444444444444444,
              "#bd3786"
             ],
             [
              0.5555555555555556,
              "#d8576b"
             ],
             [
              0.6666666666666666,
              "#ed7953"
             ],
             [
              0.7777777777777778,
              "#fb9f3a"
             ],
             [
              0.8888888888888888,
              "#fdca26"
             ],
             [
              1,
              "#f0f921"
             ]
            ],
            "type": "histogram2dcontour"
           }
          ],
          "mesh3d": [
           {
            "colorbar": {
             "outlinewidth": 0,
             "ticks": ""
            },
            "type": "mesh3d"
           }
          ],
          "parcoords": [
           {
            "line": {
             "colorbar": {
              "outlinewidth": 0,
              "ticks": ""
             }
            },
            "type": "parcoords"
           }
          ],
          "pie": [
           {
            "automargin": true,
            "type": "pie"
           }
          ],
          "scatter": [
           {
            "marker": {
             "colorbar": {
              "outlinewidth": 0,
              "ticks": ""
             }
            },
            "type": "scatter"
           }
          ],
          "scatter3d": [
           {
            "line": {
             "colorbar": {
              "outlinewidth": 0,
              "ticks": ""
             }
            },
            "marker": {
             "colorbar": {
              "outlinewidth": 0,
              "ticks": ""
             }
            },
            "type": "scatter3d"
           }
          ],
          "scattercarpet": [
           {
            "marker": {
             "colorbar": {
              "outlinewidth": 0,
              "ticks": ""
             }
            },
            "type": "scattercarpet"
           }
          ],
          "scattergeo": [
           {
            "marker": {
             "colorbar": {
              "outlinewidth": 0,
              "ticks": ""
             }
            },
            "type": "scattergeo"
           }
          ],
          "scattergl": [
           {
            "marker": {
             "colorbar": {
              "outlinewidth": 0,
              "ticks": ""
             }
            },
            "type": "scattergl"
           }
          ],
          "scattermapbox": [
           {
            "marker": {
             "colorbar": {
              "outlinewidth": 0,
              "ticks": ""
             }
            },
            "type": "scattermapbox"
           }
          ],
          "scatterpolar": [
           {
            "marker": {
             "colorbar": {
              "outlinewidth": 0,
              "ticks": ""
             }
            },
            "type": "scatterpolar"
           }
          ],
          "scatterpolargl": [
           {
            "marker": {
             "colorbar": {
              "outlinewidth": 0,
              "ticks": ""
             }
            },
            "type": "scatterpolargl"
           }
          ],
          "scatterternary": [
           {
            "marker": {
             "colorbar": {
              "outlinewidth": 0,
              "ticks": ""
             }
            },
            "type": "scatterternary"
           }
          ],
          "surface": [
           {
            "colorbar": {
             "outlinewidth": 0,
             "ticks": ""
            },
            "colorscale": [
             [
              0,
              "#0d0887"
             ],
             [
              0.1111111111111111,
              "#46039f"
             ],
             [
              0.2222222222222222,
              "#7201a8"
             ],
             [
              0.3333333333333333,
              "#9c179e"
             ],
             [
              0.4444444444444444,
              "#bd3786"
             ],
             [
              0.5555555555555556,
              "#d8576b"
             ],
             [
              0.6666666666666666,
              "#ed7953"
             ],
             [
              0.7777777777777778,
              "#fb9f3a"
             ],
             [
              0.8888888888888888,
              "#fdca26"
             ],
             [
              1,
              "#f0f921"
             ]
            ],
            "type": "surface"
           }
          ],
          "table": [
           {
            "cells": {
             "fill": {
              "color": "#EBF0F8"
             },
             "line": {
              "color": "white"
             }
            },
            "header": {
             "fill": {
              "color": "#C8D4E3"
             },
             "line": {
              "color": "white"
             }
            },
            "type": "table"
           }
          ]
         },
         "layout": {
          "annotationdefaults": {
           "arrowcolor": "#2a3f5f",
           "arrowhead": 0,
           "arrowwidth": 1
          },
          "coloraxis": {
           "colorbar": {
            "outlinewidth": 0,
            "ticks": ""
           }
          },
          "colorscale": {
           "diverging": [
            [
             0,
             "#8e0152"
            ],
            [
             0.1,
             "#c51b7d"
            ],
            [
             0.2,
             "#de77ae"
            ],
            [
             0.3,
             "#f1b6da"
            ],
            [
             0.4,
             "#fde0ef"
            ],
            [
             0.5,
             "#f7f7f7"
            ],
            [
             0.6,
             "#e6f5d0"
            ],
            [
             0.7,
             "#b8e186"
            ],
            [
             0.8,
             "#7fbc41"
            ],
            [
             0.9,
             "#4d9221"
            ],
            [
             1,
             "#276419"
            ]
           ],
           "sequential": [
            [
             0,
             "#0d0887"
            ],
            [
             0.1111111111111111,
             "#46039f"
            ],
            [
             0.2222222222222222,
             "#7201a8"
            ],
            [
             0.3333333333333333,
             "#9c179e"
            ],
            [
             0.4444444444444444,
             "#bd3786"
            ],
            [
             0.5555555555555556,
             "#d8576b"
            ],
            [
             0.6666666666666666,
             "#ed7953"
            ],
            [
             0.7777777777777778,
             "#fb9f3a"
            ],
            [
             0.8888888888888888,
             "#fdca26"
            ],
            [
             1,
             "#f0f921"
            ]
           ],
           "sequentialminus": [
            [
             0,
             "#0d0887"
            ],
            [
             0.1111111111111111,
             "#46039f"
            ],
            [
             0.2222222222222222,
             "#7201a8"
            ],
            [
             0.3333333333333333,
             "#9c179e"
            ],
            [
             0.4444444444444444,
             "#bd3786"
            ],
            [
             0.5555555555555556,
             "#d8576b"
            ],
            [
             0.6666666666666666,
             "#ed7953"
            ],
            [
             0.7777777777777778,
             "#fb9f3a"
            ],
            [
             0.8888888888888888,
             "#fdca26"
            ],
            [
             1,
             "#f0f921"
            ]
           ]
          },
          "colorway": [
           "#636efa",
           "#EF553B",
           "#00cc96",
           "#ab63fa",
           "#FFA15A",
           "#19d3f3",
           "#FF6692",
           "#B6E880",
           "#FF97FF",
           "#FECB52"
          ],
          "font": {
           "color": "#2a3f5f"
          },
          "geo": {
           "bgcolor": "white",
           "lakecolor": "white",
           "landcolor": "white",
           "showlakes": true,
           "showland": true,
           "subunitcolor": "#C8D4E3"
          },
          "hoverlabel": {
           "align": "left"
          },
          "hovermode": "closest",
          "mapbox": {
           "style": "light"
          },
          "paper_bgcolor": "white",
          "plot_bgcolor": "white",
          "polar": {
           "angularaxis": {
            "gridcolor": "#EBF0F8",
            "linecolor": "#EBF0F8",
            "ticks": ""
           },
           "bgcolor": "white",
           "radialaxis": {
            "gridcolor": "#EBF0F8",
            "linecolor": "#EBF0F8",
            "ticks": ""
           }
          },
          "scene": {
           "xaxis": {
            "backgroundcolor": "white",
            "gridcolor": "#DFE8F3",
            "gridwidth": 2,
            "linecolor": "#EBF0F8",
            "showbackground": true,
            "ticks": "",
            "zerolinecolor": "#EBF0F8"
           },
           "yaxis": {
            "backgroundcolor": "white",
            "gridcolor": "#DFE8F3",
            "gridwidth": 2,
            "linecolor": "#EBF0F8",
            "showbackground": true,
            "ticks": "",
            "zerolinecolor": "#EBF0F8"
           },
           "zaxis": {
            "backgroundcolor": "white",
            "gridcolor": "#DFE8F3",
            "gridwidth": 2,
            "linecolor": "#EBF0F8",
            "showbackground": true,
            "ticks": "",
            "zerolinecolor": "#EBF0F8"
           }
          },
          "shapedefaults": {
           "line": {
            "color": "#2a3f5f"
           }
          },
          "ternary": {
           "aaxis": {
            "gridcolor": "#DFE8F3",
            "linecolor": "#A2B1C6",
            "ticks": ""
           },
           "baxis": {
            "gridcolor": "#DFE8F3",
            "linecolor": "#A2B1C6",
            "ticks": ""
           },
           "bgcolor": "white",
           "caxis": {
            "gridcolor": "#DFE8F3",
            "linecolor": "#A2B1C6",
            "ticks": ""
           }
          },
          "title": {
           "x": 0.05
          },
          "xaxis": {
           "automargin": true,
           "gridcolor": "#EBF0F8",
           "linecolor": "#EBF0F8",
           "ticks": "",
           "title": {
            "standoff": 15
           },
           "zerolinecolor": "#EBF0F8",
           "zerolinewidth": 2
          },
          "yaxis": {
           "automargin": true,
           "gridcolor": "#EBF0F8",
           "linecolor": "#EBF0F8",
           "ticks": "",
           "title": {
            "standoff": 15
           },
           "zerolinecolor": "#EBF0F8",
           "zerolinewidth": 2
          }
         }
        },
        "width": 900,
        "xaxis": {
         "anchor": "y",
         "domain": [
          0,
          1
         ],
         "title": {
          "text": "Capacity (Mm<sup>3</sup>/y)"
         }
        },
        "yaxis": {
         "anchor": "x",
         "domain": [
          0,
          1
         ],
         "title": {
          "text": "LCOW ($/m<sup>3</sup>)"
         }
        }
       }
      },
      "text/html": [
       "<div>                            <div id=\"00841100-42d9-446d-bb74-e713a98dcf80\" class=\"plotly-graph-div\" style=\"height:525px; width:900px;\"></div>            <script type=\"text/javascript\">                require([\"plotly\"], function(Plotly) {                    window.PLOTLYENV=window.PLOTLYENV || {};                                    if (document.getElementById(\"00841100-42d9-446d-bb74-e713a98dcf80\")) {                    Plotly.newPlot(                        \"00841100-42d9-446d-bb74-e713a98dcf80\",                        [{\"hovertemplate\": \"PopulationLeastCostTechnology=Extended aeration<br>PopulationFutureReclaimedWater=%{x}<br>PopulationLeastCost=%{y}<br>Cluster=%{text}<extra></extra>\", \"legendgroup\": \"Extended aeration\", \"line\": {\"color\": \"#4C78A8\", \"dash\": \"solid\"}, \"mode\": \"lines+markers\", \"name\": \"Extended aeration\", \"opacity\": 0.8, \"orientation\": \"v\", \"showlegend\": false, \"text\": [14.0, 0.0, 15.0, 25.0, 3.0, 29.0, 4.0, 27.0], \"type\": \"scatter\", \"x\": [33.95960715447085, 24.328297488255707, 20.00624795558504, 19.96546858119578, 15.109264457766347, 14.826957041885782, 14.777250188274683, 12.04926802808433], \"xaxis\": \"x\", \"y\": [0.03104942384285129, 0.03690540898907659, 0.040844219118699364, 0.04088746264674353, 0.047248519799848565, 0.04771337064539693, 0.04779661528256655, 0.05313985812975447], \"yaxis\": \"y\"}, {\"hovertemplate\": \"PopulationLeastCostTechnology=Rotating biological contractors<br>PopulationFutureReclaimedWater=%{x}<br>PopulationLeastCost=%{y}<br>Cluster=%{text}<extra></extra>\", \"legendgroup\": \"Rotating biological contractors\", \"line\": {\"color\": \"#F58518\", \"dash\": \"solid\"}, \"mode\": \"lines+markers\", \"name\": \"Rotating biological contractors\", \"opacity\": 0.8, \"orientation\": \"v\", \"showlegend\": false, \"text\": [34.0, 35.0, 33.0, 30.0, 23.0, 13.0, 24.0, 31.0, 32.0, 5.0, 2.0, 19.0, 11.0, 21.0, 38.0, 18.0, 20.0, 17.0, 12.0, 22.0, 10.0, 39.0], \"type\": \"scatter\", \"x\": [10.605396865482465, 9.38126797907313, 7.862478833927821, 7.486677609409288, 7.398569535962339, 7.379063458091507, 6.460875067028146, 6.3583949662920975, 5.975259563265152, 5.94050791661287, 5.721319450512283, 5.437563757160539, 4.252863889980347, 3.699736712576902, 3.6170791156249718, 3.3162204096481704, 3.134855720470258, 2.7807406678867252, 2.3349320438558703, 1.896107052699122, 1.3980921449046098, 1.1281199480661543], \"xaxis\": \"x\", \"y\": [0.056612292936477994, 0.05946580511231477, 0.06383042409794626, 0.06509676688071898, 0.06540662734978824, 0.06547592720377794, 0.06906105997096199, 0.0695055094232329, 0.07126052741835012, 0.07142750976484732, 0.0725132372471559, 0.07400870712589486, 0.08168095792500404, 0.0863806957467402, 0.0871680179316473, 0.09026165497121008, 0.09232381587738299, 0.0968779489370742, 0.10392384589373663, 0.11299321084968993, 0.12771945030850193, 0.13923143966034313], \"yaxis\": \"y\"}, {\"hovertemplate\": \"PopulationLeastCostTechnology=Intermittent sand filter<br>PopulationFutureReclaimedWater=%{x}<br>PopulationLeastCost=%{y}<br>Cluster=%{text}<extra></extra>\", \"legendgroup\": \"Intermittent sand filter\", \"line\": {\"color\": \"#EECA3B\", \"dash\": \"solid\"}, \"mode\": \"lines+markers\", \"name\": \"Intermittent sand filter\", \"opacity\": 0.8, \"orientation\": \"v\", \"showlegend\": false, \"text\": [36.0, 1.0, 26.0, 9.0, 16.0, 7.0, 28.0, 37.0, 6.0, 8.0], \"type\": \"scatter\", \"x\": [0.8685398306689344, 0.7804807709085655, 0.7180135223027131, 0.6577593353338963, 0.38253302101311004, 0.15574896158439547, 0.08210981838356955, 0.05435362680191556, 0.012487493258935252, 0.006789682369366212], \"xaxis\": \"x\", \"y\": [0.15261911510444898, 0.15412998978298817, 0.15537352550096906, 0.15674504741877318, 0.16698552871829367, 0.19392402741504752, 0.22632290221818877, 0.25709176015315555, 0.5077088591751194, 0.7518350137544164], \"yaxis\": \"y\"}],                        {\"legend\": {\"orientation\": \"h\", \"title\": {\"text\": \"PopulationLeastCostTechnology\"}, \"tracegroupgap\": 0, \"x\": 0.5, \"xanchor\": \"center\", \"y\": -0.15, \"yanchor\": \"top\"}, \"margin\": {\"b\": 0, \"l\": 0, \"r\": 0, \"t\": 30}, \"template\": {\"data\": {\"bar\": [{\"error_x\": {\"color\": \"#2a3f5f\"}, \"error_y\": {\"color\": \"#2a3f5f\"}, \"marker\": {\"line\": {\"color\": \"white\", \"width\": 0.5}}, \"type\": \"bar\"}], \"barpolar\": [{\"marker\": {\"line\": {\"color\": \"white\", \"width\": 0.5}}, \"type\": \"barpolar\"}], \"carpet\": [{\"aaxis\": {\"endlinecolor\": \"#2a3f5f\", \"gridcolor\": \"#C8D4E3\", \"linecolor\": \"#C8D4E3\", \"minorgridcolor\": \"#C8D4E3\", \"startlinecolor\": \"#2a3f5f\"}, \"baxis\": {\"endlinecolor\": \"#2a3f5f\", \"gridcolor\": \"#C8D4E3\", \"linecolor\": \"#C8D4E3\", \"minorgridcolor\": \"#C8D4E3\", \"startlinecolor\": \"#2a3f5f\"}, \"type\": \"carpet\"}], \"choropleth\": [{\"colorbar\": {\"outlinewidth\": 0, \"ticks\": \"\"}, \"type\": \"choropleth\"}], \"contour\": [{\"colorbar\": {\"outlinewidth\": 0, \"ticks\": \"\"}, \"colorscale\": [[0.0, \"#0d0887\"], [0.1111111111111111, \"#46039f\"], [0.2222222222222222, \"#7201a8\"], [0.3333333333333333, \"#9c179e\"], [0.4444444444444444, \"#bd3786\"], [0.5555555555555556, \"#d8576b\"], [0.6666666666666666, \"#ed7953\"], [0.7777777777777778, \"#fb9f3a\"], [0.8888888888888888, \"#fdca26\"], [1.0, \"#f0f921\"]], \"type\": \"contour\"}], \"contourcarpet\": [{\"colorbar\": {\"outlinewidth\": 0, \"ticks\": \"\"}, \"type\": \"contourcarpet\"}], \"heatmap\": [{\"colorbar\": {\"outlinewidth\": 0, \"ticks\": \"\"}, \"colorscale\": [[0.0, \"#0d0887\"], [0.1111111111111111, \"#46039f\"], [0.2222222222222222, \"#7201a8\"], [0.3333333333333333, \"#9c179e\"], [0.4444444444444444, \"#bd3786\"], [0.5555555555555556, \"#d8576b\"], [0.6666666666666666, \"#ed7953\"], [0.7777777777777778, \"#fb9f3a\"], [0.8888888888888888, \"#fdca26\"], [1.0, \"#f0f921\"]], \"type\": \"heatmap\"}], \"heatmapgl\": [{\"colorbar\": {\"outlinewidth\": 0, \"ticks\": \"\"}, \"colorscale\": [[0.0, \"#0d0887\"], [0.1111111111111111, \"#46039f\"], [0.2222222222222222, \"#7201a8\"], [0.3333333333333333, \"#9c179e\"], [0.4444444444444444, \"#bd3786\"], [0.5555555555555556, \"#d8576b\"], [0.6666666666666666, \"#ed7953\"], [0.7777777777777778, \"#fb9f3a\"], [0.8888888888888888, \"#fdca26\"], [1.0, \"#f0f921\"]], \"type\": \"heatmapgl\"}], \"histogram\": [{\"marker\": {\"colorbar\": {\"outlinewidth\": 0, \"ticks\": \"\"}}, \"type\": \"histogram\"}], \"histogram2d\": [{\"colorbar\": {\"outlinewidth\": 0, \"ticks\": \"\"}, \"colorscale\": [[0.0, \"#0d0887\"], [0.1111111111111111, \"#46039f\"], [0.2222222222222222, \"#7201a8\"], [0.3333333333333333, \"#9c179e\"], [0.4444444444444444, \"#bd3786\"], [0.5555555555555556, \"#d8576b\"], [0.6666666666666666, \"#ed7953\"], [0.7777777777777778, \"#fb9f3a\"], [0.8888888888888888, \"#fdca26\"], [1.0, \"#f0f921\"]], \"type\": \"histogram2d\"}], \"histogram2dcontour\": [{\"colorbar\": {\"outlinewidth\": 0, \"ticks\": \"\"}, \"colorscale\": [[0.0, \"#0d0887\"], [0.1111111111111111, \"#46039f\"], [0.2222222222222222, \"#7201a8\"], [0.3333333333333333, \"#9c179e\"], [0.4444444444444444, \"#bd3786\"], [0.5555555555555556, \"#d8576b\"], [0.6666666666666666, \"#ed7953\"], [0.7777777777777778, \"#fb9f3a\"], [0.8888888888888888, \"#fdca26\"], [1.0, \"#f0f921\"]], \"type\": \"histogram2dcontour\"}], \"mesh3d\": [{\"colorbar\": {\"outlinewidth\": 0, \"ticks\": \"\"}, \"type\": \"mesh3d\"}], \"parcoords\": [{\"line\": {\"colorbar\": {\"outlinewidth\": 0, \"ticks\": \"\"}}, \"type\": \"parcoords\"}], \"pie\": [{\"automargin\": true, \"type\": \"pie\"}], \"scatter\": [{\"marker\": {\"colorbar\": {\"outlinewidth\": 0, \"ticks\": \"\"}}, \"type\": \"scatter\"}], \"scatter3d\": [{\"line\": {\"colorbar\": {\"outlinewidth\": 0, \"ticks\": \"\"}}, \"marker\": {\"colorbar\": {\"outlinewidth\": 0, \"ticks\": \"\"}}, \"type\": \"scatter3d\"}], \"scattercarpet\": [{\"marker\": {\"colorbar\": {\"outlinewidth\": 0, \"ticks\": \"\"}}, \"type\": \"scattercarpet\"}], \"scattergeo\": [{\"marker\": {\"colorbar\": {\"outlinewidth\": 0, \"ticks\": \"\"}}, \"type\": \"scattergeo\"}], \"scattergl\": [{\"marker\": {\"colorbar\": {\"outlinewidth\": 0, \"ticks\": \"\"}}, \"type\": \"scattergl\"}], \"scattermapbox\": [{\"marker\": {\"colorbar\": {\"outlinewidth\": 0, \"ticks\": \"\"}}, \"type\": \"scattermapbox\"}], \"scatterpolar\": [{\"marker\": {\"colorbar\": {\"outlinewidth\": 0, \"ticks\": \"\"}}, \"type\": \"scatterpolar\"}], \"scatterpolargl\": [{\"marker\": {\"colorbar\": {\"outlinewidth\": 0, \"ticks\": \"\"}}, \"type\": \"scatterpolargl\"}], \"scatterternary\": [{\"marker\": {\"colorbar\": {\"outlinewidth\": 0, \"ticks\": \"\"}}, \"type\": \"scatterternary\"}], \"surface\": [{\"colorbar\": {\"outlinewidth\": 0, \"ticks\": \"\"}, \"colorscale\": [[0.0, \"#0d0887\"], [0.1111111111111111, \"#46039f\"], [0.2222222222222222, \"#7201a8\"], [0.3333333333333333, \"#9c179e\"], [0.4444444444444444, \"#bd3786\"], [0.5555555555555556, \"#d8576b\"], [0.6666666666666666, \"#ed7953\"], [0.7777777777777778, \"#fb9f3a\"], [0.8888888888888888, \"#fdca26\"], [1.0, \"#f0f921\"]], \"type\": \"surface\"}], \"table\": [{\"cells\": {\"fill\": {\"color\": \"#EBF0F8\"}, \"line\": {\"color\": \"white\"}}, \"header\": {\"fill\": {\"color\": \"#C8D4E3\"}, \"line\": {\"color\": \"white\"}}, \"type\": \"table\"}]}, \"layout\": {\"annotationdefaults\": {\"arrowcolor\": \"#2a3f5f\", \"arrowhead\": 0, \"arrowwidth\": 1}, \"coloraxis\": {\"colorbar\": {\"outlinewidth\": 0, \"ticks\": \"\"}}, \"colorscale\": {\"diverging\": [[0, \"#8e0152\"], [0.1, \"#c51b7d\"], [0.2, \"#de77ae\"], [0.3, \"#f1b6da\"], [0.4, \"#fde0ef\"], [0.5, \"#f7f7f7\"], [0.6, \"#e6f5d0\"], [0.7, \"#b8e186\"], [0.8, \"#7fbc41\"], [0.9, \"#4d9221\"], [1, \"#276419\"]], \"sequential\": [[0.0, \"#0d0887\"], [0.1111111111111111, \"#46039f\"], [0.2222222222222222, \"#7201a8\"], [0.3333333333333333, \"#9c179e\"], [0.4444444444444444, \"#bd3786\"], [0.5555555555555556, \"#d8576b\"], [0.6666666666666666, \"#ed7953\"], [0.7777777777777778, \"#fb9f3a\"], [0.8888888888888888, \"#fdca26\"], [1.0, \"#f0f921\"]], \"sequentialminus\": [[0.0, \"#0d0887\"], [0.1111111111111111, \"#46039f\"], [0.2222222222222222, \"#7201a8\"], [0.3333333333333333, \"#9c179e\"], [0.4444444444444444, \"#bd3786\"], [0.5555555555555556, \"#d8576b\"], [0.6666666666666666, \"#ed7953\"], [0.7777777777777778, \"#fb9f3a\"], [0.8888888888888888, \"#fdca26\"], [1.0, \"#f0f921\"]]}, \"colorway\": [\"#636efa\", \"#EF553B\", \"#00cc96\", \"#ab63fa\", \"#FFA15A\", \"#19d3f3\", \"#FF6692\", \"#B6E880\", \"#FF97FF\", \"#FECB52\"], \"font\": {\"color\": \"#2a3f5f\"}, \"geo\": {\"bgcolor\": \"white\", \"lakecolor\": \"white\", \"landcolor\": \"white\", \"showlakes\": true, \"showland\": true, \"subunitcolor\": \"#C8D4E3\"}, \"hoverlabel\": {\"align\": \"left\"}, \"hovermode\": \"closest\", \"mapbox\": {\"style\": \"light\"}, \"paper_bgcolor\": \"white\", \"plot_bgcolor\": \"white\", \"polar\": {\"angularaxis\": {\"gridcolor\": \"#EBF0F8\", \"linecolor\": \"#EBF0F8\", \"ticks\": \"\"}, \"bgcolor\": \"white\", \"radialaxis\": {\"gridcolor\": \"#EBF0F8\", \"linecolor\": \"#EBF0F8\", \"ticks\": \"\"}}, \"scene\": {\"xaxis\": {\"backgroundcolor\": \"white\", \"gridcolor\": \"#DFE8F3\", \"gridwidth\": 2, \"linecolor\": \"#EBF0F8\", \"showbackground\": true, \"ticks\": \"\", \"zerolinecolor\": \"#EBF0F8\"}, \"yaxis\": {\"backgroundcolor\": \"white\", \"gridcolor\": \"#DFE8F3\", \"gridwidth\": 2, \"linecolor\": \"#EBF0F8\", \"showbackground\": true, \"ticks\": \"\", \"zerolinecolor\": \"#EBF0F8\"}, \"zaxis\": {\"backgroundcolor\": \"white\", \"gridcolor\": \"#DFE8F3\", \"gridwidth\": 2, \"linecolor\": \"#EBF0F8\", \"showbackground\": true, \"ticks\": \"\", \"zerolinecolor\": \"#EBF0F8\"}}, \"shapedefaults\": {\"line\": {\"color\": \"#2a3f5f\"}}, \"ternary\": {\"aaxis\": {\"gridcolor\": \"#DFE8F3\", \"linecolor\": \"#A2B1C6\", \"ticks\": \"\"}, \"baxis\": {\"gridcolor\": \"#DFE8F3\", \"linecolor\": \"#A2B1C6\", \"ticks\": \"\"}, \"bgcolor\": \"white\", \"caxis\": {\"gridcolor\": \"#DFE8F3\", \"linecolor\": \"#A2B1C6\", \"ticks\": \"\"}}, \"title\": {\"x\": 0.05}, \"xaxis\": {\"automargin\": true, \"gridcolor\": \"#EBF0F8\", \"linecolor\": \"#EBF0F8\", \"ticks\": \"\", \"title\": {\"standoff\": 15}, \"zerolinecolor\": \"#EBF0F8\", \"zerolinewidth\": 2}, \"yaxis\": {\"automargin\": true, \"gridcolor\": \"#EBF0F8\", \"linecolor\": \"#EBF0F8\", \"ticks\": \"\", \"title\": {\"standoff\": 15}, \"zerolinecolor\": \"#EBF0F8\", \"zerolinewidth\": 2}}}, \"width\": 900, \"xaxis\": {\"anchor\": \"y\", \"domain\": [0.0, 1.0], \"title\": {\"text\": \"Capacity (Mm<sup>3</sup>/y)\"}}, \"yaxis\": {\"anchor\": \"x\", \"domain\": [0.0, 1.0], \"title\": {\"text\": \"LCOW ($/m<sup>3</sup>)\"}}},                        {\"responsive\": true}                    ).then(function(){\n",
       "                            \n",
       "var gd = document.getElementById('00841100-42d9-446d-bb74-e713a98dcf80');\n",
       "var x = new MutationObserver(function (mutations, observer) {{\n",
       "        var display = window.getComputedStyle(gd).display;\n",
       "        if (!display || display === 'none') {{\n",
       "            console.log([gd, 'removed!']);\n",
       "            Plotly.purge(gd);\n",
       "            observer.disconnect();\n",
       "        }}\n",
       "}});\n",
       "\n",
       "// Listen for the removal of the full notebook cells\n",
       "var notebookContainer = gd.closest('#notebook-container');\n",
       "if (notebookContainer) {{\n",
       "    x.observe(notebookContainer, {childList: true});\n",
       "}}\n",
       "\n",
       "// Listen for the clearing of the current output cell\n",
       "var outputEl = gd.closest('.output');\n",
       "if (outputEl) {{\n",
       "    x.observe(outputEl, {childList: true});\n",
       "}}\n",
       "\n",
       "                        })                };                });            </script>        </div>"
      ]
     },
     "metadata": {},
     "output_type": "display_data"
    }
   ],
   "source": [
    "dff_least = df.groupby(['Cluster', 'PopulationLeastCostTechnology', 'PopulationFutureReclaimedWater'])[['PopulationLeastCost']].mean().reset_index()\n",
    "\n",
    "colors = [px.colors.qualitative.T10[i] for i in [0, 1, 5]]\n",
    "\n",
    "class_name_pop = {0: 'NaN', 1: 'Extended aeration', 2: 'Membrane bioreactor',\n",
    "                  3: 'Sequencing batch reactor', 4: 'Rotating biological contractors',\n",
    "                  5: 'Intermittent sand filter', 6: 'Trickling filter',\n",
    "                  7: 'Moving bed biofilm reactor'}\n",
    "\n",
    "dff_least['PopulationLeastCostTechnology'] = [class_name_pop[tech] for tech in dff_least['PopulationLeastCostTechnology']]\n",
    "dff_least['PopulationFutureReclaimedWater'] /= 1000000    \n",
    "\n",
    "fig_pop = make_subplots(rows=1, cols=2)\n",
    "    \n",
    "fig_pop = px.line(dff_least.sort_values('PopulationLeastCost'), x='PopulationFutureReclaimedWater', \n",
    "                 y='PopulationLeastCost', color='PopulationLeastCostTechnology', text='Cluster',\n",
    "#                  marginal_x='rug', marginal_y='box',\n",
    "                 color_discrete_sequence=colors, \n",
    "                )\n",
    "# for i in range(0, 21, 3):              \n",
    "#     fig.data[i].update(mode='lines+markers', opacity=0.8)\n",
    "\n",
    "# x = np.array(fig.data)\n",
    "# fig.data = tuple(np.delete(x, [4, 7, 10, 13, 16, 19]))\n",
    "# fig.data = tuple(np.delete(x, [3, 5, 7, 9, 11, 13]))\n",
    "# fig.data[1].update(marker={'color': px.colors.qualitative.T10[9]}, xbins=dict(size=2000000))\n",
    "\n",
    "\n",
    "fig_pop.update_traces(mode='lines+markers', opacity=0.8, showlegend=False)\n",
    "\n",
    "# for x, cluster in zip(dff_melt['PopulationFutureReclaimedWater'].unique(), dff_melt['Cluster'].unique()):\n",
    "#     fig.add_annotation(yref=\"paper\", x=x, y=0.8,\n",
    "#                       text=cluster,\n",
    "#                       showarrow=True,\n",
    "# #                      arrowhead=1\n",
    "#                       )\n",
    "    \n",
    "fig_pop.update_layout(width=900, template='plotly_white',\n",
    "                  xaxis={'title': 'Capacity (Mm<sup>3</sup>/y)'}, \n",
    "                  yaxis={'title': 'LCOW ($/m<sup>3</sup>)'},\n",
    "                  legend=dict(\n",
    "#                             title='',\n",
    "                            orientation=\"h\",\n",
    "                            yanchor=\"top\",\n",
    "                            y=-0.15,\n",
    "                            xanchor=\"center\",\n",
    "                            x=0.5\n",
    "                ),\n",
    "                 margin=dict(b=0, l=0, r=0, t=30))    \n",
    "\n",
    "fig_pop.show()\n",
    "# fig_pop.write_image('../LCOW_population_least_cost.pdf')"
   ]
  },
  {
   "cell_type": "code",
   "execution_count": 34,
   "metadata": {},
   "outputs": [],
   "source": [
    "capex = '(3897.7*(v*1500/400/365)**(-0.407))*(v*1500/400/365)'\n",
    "opex = '5.543*(v*1500/400/365)+3127.5'"
   ]
  },
  {
   "cell_type": "code",
   "execution_count": 35,
   "metadata": {},
   "outputs": [],
   "source": [
    "v = np.arange(500000., 650000000., 1000000)\n",
    "y = np.arange(0, 36)\n",
    "r = 0.04\n",
    "lcow_capex = eval(capex) / (v * sum((1 / (1 + r))**y))\n",
    "lcow_opex = eval(opex) / (v)\n",
    "lcow = lcow_capex + lcow_opex"
   ]
  },
  {
   "cell_type": "code",
   "execution_count": 36,
   "metadata": {
    "scrolled": false
   },
   "outputs": [
    {
     "data": {
      "application/vnd.plotly.v1+json": {
       "config": {
        "plotlyServerURL": "https://plot.ly"
       },
       "data": [
        {
         "marker": {
          "color": "#E45756"
         },
         "mode": "lines",
         "name": "Pond system LCOW",
         "opacity": 1,
         "type": "scatter",
         "x": [
          0.5,
          1.5,
          2.5,
          3.5,
          4.5,
          5.5,
          6.5,
          7.5,
          8.5,
          9.5,
          10.5,
          11.5,
          12.5,
          13.5,
          14.5,
          15.5,
          16.5,
          17.5,
          18.5,
          19.5,
          20.5,
          21.5,
          22.5,
          23.5,
          24.5,
          25.5,
          26.5,
          27.5,
          28.5,
          29.5,
          30.5,
          31.5,
          32.5,
          33.5,
          34.5,
          35.5,
          36.5,
          37.5,
          38.5,
          39.5,
          40.5,
          41.5,
          42.5,
          43.5,
          44.5,
          45.5,
          46.5,
          47.5,
          48.5,
          49.5,
          50.5,
          51.5,
          52.5,
          53.5,
          54.5,
          55.5,
          56.5,
          57.5,
          58.5,
          59.5,
          60.5,
          61.5,
          62.5,
          63.5,
          64.5,
          65.5,
          66.5,
          67.5,
          68.5,
          69.5,
          70.5,
          71.5,
          72.5,
          73.5,
          74.5,
          75.5,
          76.5,
          77.5,
          78.5,
          79.5,
          80.5,
          81.5,
          82.5,
          83.5,
          84.5,
          85.5,
          86.5,
          87.5,
          88.5,
          89.5,
          90.5,
          91.5,
          92.5,
          93.5,
          94.5,
          95.5,
          96.5,
          97.5,
          98.5,
          99.5,
          100.5,
          101.5,
          102.5,
          103.5,
          104.5,
          105.5,
          106.5,
          107.5,
          108.5,
          109.5,
          110.5,
          111.5,
          112.5,
          113.5,
          114.5,
          115.5,
          116.5,
          117.5,
          118.5,
          119.5,
          120.5,
          121.5,
          122.5,
          123.5,
          124.5,
          125.5,
          126.5,
          127.5,
          128.5,
          129.5,
          130.5,
          131.5,
          132.5,
          133.5,
          134.5,
          135.5,
          136.5,
          137.5,
          138.5,
          139.5,
          140.5,
          141.5,
          142.5,
          143.5,
          144.5,
          145.5,
          146.5,
          147.5,
          148.5,
          149.5,
          150.5,
          151.5,
          152.5,
          153.5,
          154.5,
          155.5,
          156.5,
          157.5,
          158.5,
          159.5,
          160.5,
          161.5,
          162.5,
          163.5,
          164.5,
          165.5,
          166.5,
          167.5,
          168.5,
          169.5,
          170.5,
          171.5,
          172.5,
          173.5,
          174.5,
          175.5,
          176.5,
          177.5,
          178.5,
          179.5,
          180.5,
          181.5,
          182.5,
          183.5,
          184.5,
          185.5,
          186.5,
          187.5,
          188.5,
          189.5,
          190.5,
          191.5,
          192.5,
          193.5,
          194.5,
          195.5,
          196.5,
          197.5,
          198.5,
          199.5,
          200.5,
          201.5,
          202.5,
          203.5,
          204.5,
          205.5,
          206.5,
          207.5,
          208.5,
          209.5,
          210.5,
          211.5,
          212.5,
          213.5,
          214.5,
          215.5,
          216.5,
          217.5,
          218.5,
          219.5,
          220.5,
          221.5,
          222.5,
          223.5,
          224.5,
          225.5,
          226.5,
          227.5,
          228.5,
          229.5,
          230.5,
          231.5,
          232.5,
          233.5,
          234.5,
          235.5,
          236.5,
          237.5,
          238.5,
          239.5,
          240.5,
          241.5,
          242.5,
          243.5,
          244.5,
          245.5,
          246.5,
          247.5,
          248.5,
          249.5,
          250.5,
          251.5,
          252.5,
          253.5,
          254.5,
          255.5,
          256.5,
          257.5,
          258.5,
          259.5,
          260.5,
          261.5,
          262.5,
          263.5,
          264.5,
          265.5,
          266.5,
          267.5,
          268.5,
          269.5,
          270.5,
          271.5,
          272.5,
          273.5,
          274.5,
          275.5,
          276.5,
          277.5,
          278.5,
          279.5,
          280.5,
          281.5,
          282.5,
          283.5,
          284.5,
          285.5,
          286.5,
          287.5,
          288.5,
          289.5,
          290.5,
          291.5,
          292.5,
          293.5,
          294.5,
          295.5,
          296.5,
          297.5,
          298.5,
          299.5,
          300.5,
          301.5,
          302.5,
          303.5,
          304.5,
          305.5,
          306.5,
          307.5,
          308.5,
          309.5,
          310.5,
          311.5,
          312.5,
          313.5,
          314.5,
          315.5,
          316.5,
          317.5,
          318.5,
          319.5,
          320.5,
          321.5,
          322.5,
          323.5,
          324.5,
          325.5,
          326.5,
          327.5,
          328.5,
          329.5,
          330.5,
          331.5,
          332.5,
          333.5,
          334.5,
          335.5,
          336.5,
          337.5,
          338.5,
          339.5,
          340.5,
          341.5,
          342.5,
          343.5,
          344.5,
          345.5,
          346.5,
          347.5,
          348.5,
          349.5,
          350.5,
          351.5,
          352.5,
          353.5,
          354.5,
          355.5,
          356.5,
          357.5,
          358.5,
          359.5,
          360.5,
          361.5,
          362.5,
          363.5,
          364.5,
          365.5,
          366.5,
          367.5,
          368.5,
          369.5,
          370.5,
          371.5,
          372.5,
          373.5,
          374.5,
          375.5,
          376.5,
          377.5,
          378.5,
          379.5,
          380.5,
          381.5,
          382.5,
          383.5,
          384.5,
          385.5,
          386.5,
          387.5,
          388.5,
          389.5,
          390.5,
          391.5,
          392.5,
          393.5,
          394.5,
          395.5,
          396.5,
          397.5,
          398.5,
          399.5,
          400.5,
          401.5,
          402.5,
          403.5,
          404.5,
          405.5,
          406.5,
          407.5,
          408.5,
          409.5,
          410.5,
          411.5,
          412.5,
          413.5,
          414.5,
          415.5,
          416.5,
          417.5,
          418.5,
          419.5,
          420.5,
          421.5,
          422.5,
          423.5,
          424.5,
          425.5,
          426.5,
          427.5,
          428.5,
          429.5,
          430.5,
          431.5,
          432.5,
          433.5,
          434.5,
          435.5,
          436.5,
          437.5,
          438.5,
          439.5,
          440.5,
          441.5,
          442.5,
          443.5,
          444.5,
          445.5,
          446.5,
          447.5,
          448.5,
          449.5,
          450.5,
          451.5,
          452.5,
          453.5,
          454.5,
          455.5,
          456.5,
          457.5,
          458.5,
          459.5,
          460.5,
          461.5,
          462.5,
          463.5,
          464.5,
          465.5,
          466.5,
          467.5,
          468.5,
          469.5,
          470.5,
          471.5,
          472.5,
          473.5,
          474.5,
          475.5,
          476.5,
          477.5,
          478.5,
          479.5,
          480.5,
          481.5,
          482.5,
          483.5,
          484.5,
          485.5,
          486.5,
          487.5,
          488.5,
          489.5,
          490.5,
          491.5,
          492.5,
          493.5,
          494.5,
          495.5,
          496.5,
          497.5,
          498.5,
          499.5,
          500.5,
          501.5,
          502.5,
          503.5,
          504.5,
          505.5,
          506.5,
          507.5,
          508.5,
          509.5,
          510.5,
          511.5,
          512.5,
          513.5,
          514.5,
          515.5,
          516.5,
          517.5,
          518.5,
          519.5,
          520.5,
          521.5,
          522.5,
          523.5,
          524.5,
          525.5,
          526.5,
          527.5,
          528.5,
          529.5,
          530.5,
          531.5,
          532.5,
          533.5,
          534.5,
          535.5,
          536.5,
          537.5,
          538.5,
          539.5,
          540.5,
          541.5,
          542.5,
          543.5,
          544.5,
          545.5,
          546.5,
          547.5,
          548.5,
          549.5,
          550.5,
          551.5,
          552.5,
          553.5,
          554.5,
          555.5,
          556.5,
          557.5,
          558.5,
          559.5,
          560.5,
          561.5,
          562.5,
          563.5,
          564.5,
          565.5,
          566.5,
          567.5,
          568.5,
          569.5,
          570.5,
          571.5,
          572.5,
          573.5,
          574.5,
          575.5,
          576.5,
          577.5,
          578.5,
          579.5,
          580.5,
          581.5,
          582.5,
          583.5,
          584.5,
          585.5,
          586.5,
          587.5,
          588.5,
          589.5,
          590.5,
          591.5,
          592.5,
          593.5,
          594.5,
          595.5,
          596.5,
          597.5,
          598.5,
          599.5,
          600.5,
          601.5,
          602.5,
          603.5,
          604.5,
          605.5,
          606.5,
          607.5,
          608.5,
          609.5,
          610.5,
          611.5,
          612.5,
          613.5,
          614.5,
          615.5,
          616.5,
          617.5,
          618.5,
          619.5,
          620.5,
          621.5,
          622.5,
          623.5,
          624.5,
          625.5,
          626.5,
          627.5,
          628.5,
          629.5,
          630.5,
          631.5,
          632.5,
          633.5,
          634.5,
          635.5,
          636.5,
          637.5,
          638.5,
          639.5,
          640.5,
          641.5,
          642.5,
          643.5,
          644.5,
          645.5,
          646.5,
          647.5,
          648.5,
          649.5
         ],
         "y": [
          0.12609674169508983,
          0.09925109867723883,
          0.09086761078685285,
          0.08632929756702633,
          0.08336098988777446,
          0.08121769830338026,
          0.07957235962960524,
          0.07825541363650065,
          0.07716885033078337,
          0.07625146798038014,
          0.07546277295659498,
          0.07477473856251084,
          0.07416725375765787,
          0.07362545400914688,
          0.07313807763182818,
          0.07269641180033044,
          0.07229359320093434,
          0.07192413023742564,
          0.07158356824154448,
          0.07126824964153951,
          0.07097513877189104,
          0.07070169166432544,
          0.07044575775845484,
          0.07020550466437389,
          0.06997935983876107,
          0.06976596485002196,
          0.0695641391369935,
          0.06937285101298654,
          0.06919119426040841,
          0.06901836908300578,
          0.06885366648661174,
          0.06869645538088626,
          0.06854617185803191,
          0.06840231022638378,
          0.06826441546859156,
          0.06813207686391276,
          0.06800492256765946,
          0.06788261498222137,
          0.06776484678632444,
          0.06765133751448198,
          0.06754183059858127,
          0.0674360907994416,
          0.06733390196889542,
          0.06723506509317494,
          0.06713939657666664,
          0.06704672673182799,
          0.06695689844656615,
          0.06686976600489718,
          0.06678519404043484,
          0.06670305660534642,
          0.06662323633998506,
          0.06654562373055391,
          0.06647011644395882,
          0.06639661873052018,
          0.06632504088649424,
          0.0662552987694379,
          0.06618731336037152,
          0.06612101036748055,
          0.06605631986676734,
          0.06599317597564099,
          0.06593151655592795,
          0.0658712829432137,
          0.06581241969979378,
          0.06575487438883357,
          0.06569859736761337,
          0.06564354159797732,
          0.06558966247231603,
          0.06553691765359727,
          0.06548526692812097,
          0.0654346720698168,
          0.06538509671502778,
          0.06533650624683321,
          0.0652888676880624,
          0.0652421496022358,
          0.06519632200174715,
          0.06515135626266823,
          0.06510722504561715,
          0.06506390222218629,
          0.0650213628064723,
          0.06497958289129502,
          0.06493853958872896,
          0.06489821097460671,
          0.06485857603668355,
          0.06481961462618052,
          0.06478130741244836,
          0.06474363584051682,
          0.06470658209131443,
          0.06467012904436192,
          0.06463426024275913,
          0.06459895986030034,
          0.06456421267056629,
          0.06453000401785376,
          0.06449631978981464,
          0.06446314639168679,
          0.06443047072200796,
          0.06439828014971286,
          0.06436656249252086,
          0.06433530599652937,
          0.0643044993169336,
          0.06427413149980012,
          0.06424419196482642,
          0.06421467048902421,
          0.06418555719126802,
          0.06415684251765551,
          0.06412851722762947,
          0.06410057238081486,
          0.06407299932452767,
          0.06404578968191554,
          0.06401893534069247,
          0.06399242844243261,
          0.06396626137239082,
          0.06394042674981931,
          0.06391491741875215,
          0.06388972643923095,
          0.06386484707894713,
          0.06384027280527724,
          0.0638159972776899,
          0.0637920143405039,
          0.06376831801597829,
          0.06374490249771674,
          0.06372176214436914,
          0.06369889147361511,
          0.06367628515641408,
          0.06365393801150845,
          0.0636318450001666,
          0.06361000122115346,
          0.06358840190591698,
          0.0635670424139798,
          0.06354591822852564,
          0.06352502495217083,
          0.06350435830291194,
          0.06348391411024056,
          0.0634636883114176,
          0.06344367694789907,
          0.06342387616190606,
          0.06340428219313242,
          0.06338489137558322,
          0.06336570013453825,
          0.06334670498363452,
          0.06332790252206223,
          0.0633092894318693,
          0.06329086247536914,
          0.06327261849264744,
          0.06325455439916307,
          0.0632366671834392,
          0.06321895390484074,
          0.06320141169143384,
          0.06318403773792448,
          0.06316682930367229,
          0.06314978371077642,
          0.06313289834223075,
          0.0631161706401448,
          0.06309959810402829,
          0.06308317828913629,
          0.06306690880487241,
          0.06305078731324784,
          0.06303481152739392,
          0.06301897921012564,
          0.06300328817255485,
          0.06298773627275013,
          0.0629723214144424,
          0.06295704154577378,
          0.06294189465808836,
          0.06292687878476307,
          0.06291199200007713,
          0.06289723241811859,
          0.06288259819172654,
          0.06286808751146743,
          0.06285369860464464,
          0.06283942973433954,
          0.06282527919848313,
          0.0628112453289571,
          0.06279732649072314,
          0.06278352108097948,
          0.06276982752834363,
          0.06275624429206049,
          0.06274276986123474,
          0.06272940275408657,
          0.06271614151723037,
          0.06270298472497485,
          0.06268993097864442,
          0.06267697890592086,
          0.06266412716020445,
          0.06265137441999405,
          0.06263871938828541,
          0.06262616079198716,
          0.06261369738135361,
          0.06260132792943407,
          0.06258905123153809,
          0.06257686610471584,
          0.06256477138725346,
          0.06255276593818258,
          0.06254084863680372,
          0.06252901838222305,
          0.06251727409290209,
          0.0625056147062198,
          0.06249403917804697,
          0.062482546482331994,
          0.062471135610698336,
          0.0624598055720526,
          0.06244855539220342,
          0.0624373841134905,
          0.062426290794423675,
          0.062415274509331535,
          0.062404334348019314,
          0.06239346941543603,
          0.062382678831350055,
          0.06237196173003344,
          0.06236131725995427,
          0.0623507445834771,
          0.062340242876571056,
          0.062329811328525414,
          0.06231944914167245,
          0.06230915553111736,
          0.06229892972447499,
          0.06228877096161314,
          0.06227867849440237,
          0.06226865158647205,
          0.0622586895129724,
          0.06224879156034245,
          0.062238957026083674,
          0.062229185218539304,
          0.062219475456678726,
          0.062209827069887515,
          0.06220023939776213,
          0.06219071178990983,
          0.062181243605753306,
          0.06217183421433991,
          0.062162482994155464,
          0.06215318933294247,
          0.06214395262752258,
          0.06213477228362322,
          0.0621256477157083,
          0.06211657834681278,
          0.06210756360838113,
          0.06209860294010951,
          0.06208969578979147,
          0.06208084161316735,
          0.06207203987377688,
          0.06206329004281536,
          0.062054591598992855,
          0.06204594402839672,
          0.062037346824357124,
          0.06202879948731556,
          0.062020301524696314,
          0.062011852450780724,
          0.062003451786584285,
          0.061995099059736304,
          0.061986793804362325,
          0.061978535560969106,
          0.061970323876331876,
          0.06196215830338435,
          0.061954038401110814,
          0.061945963734440716,
          0.061937933874145354,
          0.061929948396736885,
          0.06192200688436939,
          0.061914108924742035,
          0.06190625411100428,
          0.06189844204166305,
          0.061890672320491884,
          0.06188294455644185,
          0.061875258363554494,
          0.06186761336087634,
          0.06186000917237536,
          0.06185244542685905,
          0.06184492175789411,
          0.06183743780372794,
          0.061829993207211484,
          0.06182258761572381,
          0.06181522068109815,
          0.06180789205954936,
          0.061800601411602894,
          0.06179334840202513,
          0.06178613269975518,
          0.06177895397783781,
          0.06177181191335804,
          0.06176470618737659,
          0.06175763648486695,
          0.06175060249465348,
          0.06174360390935073,
          0.06173664042530394,
          0.06172971174253074,
          0.061722817564663884,
          0.06171595759889506,
          0.0617091315559199,
          0.06170233914988385,
          0.06169558009832924,
          0.06168885412214318,
          0.06168216094550655,
          0.061675500295843906,
          0.06166887190377433,
          0.061662275503063135,
          0.061655710830574514,
          0.06164917762622508,
          0.06164267563293818,
          0.061636204596599166,
          0.061629764266011286,
          0.061623354392852624,
          0.061616974731633634,
          0.06161062503965545,
          0.06160430507696908,
          0.061598014606335225,
          0.061591753393184775,
          0.061585521205580106,
          0.06157931781417706,
          0.061573142992187524,
          0.06156699651534268,
          0.061560878161857,
          0.061554787712392735,
          0.06154872495002514,
          0.06154268966020817,
          0.061536681630741004,
          0.06153070065173481,
          0.06152474651558037,
          0.06151881901691622,
          0.06151291795259714,
          0.06150704312166342,
          0.061501194325310475,
          0.061495371366859154,
          0.061489574051726295,
          0.06148380218739605,
          0.061478055583391526,
          0.06147233405124692,
          0.061466637404480155,
          0.06146096545856601,
          0.061455318030909555,
          0.061449694940820164,
          0.06144409600948593,
          0.06143852105994844,
          0.061432969917077994,
          0.061427442407549285,
          0.06142193835981738,
          0.06141645760409419,
          0.06141099997232517,
          0.06140556529816669,
          0.06140015341696329,
          0.061394764165725875,
          0.0613893973831098,
          0.06138405290939347,
          0.0613787305864574,
          0.0613734302577634,
          0.06136815176833421,
          0.06136289496473339,
          0.06135765969504564,
          0.06135244580885732,
          0.061347253157237235,
          0.06134208159271794,
          0.061336930969277045,
          0.061331801142319065,
          0.061326691968657324,
          0.06132160330649637,
          0.061316535015414474,
          0.06131148695634647,
          0.061306458991566865,
          0.06130145098467321,
          0.06129646280056969,
          0.061291494305450944,
          0.06128654536678628,
          0.06128161585330387,
          0.06127670563497544,
          0.061271814583001044,
          0.061266942569794036,
          0.061262089468966434,
          0.06125725515531433,
          0.061252439504803594,
          0.06124764239455577,
          0.061242863702834195,
          0.061238103309030345,
          0.06123336109365032,
          0.061228636938301495,
          0.06122393072567958,
          0.061219242339555585,
          0.06121457166476314,
          0.06120991858718601,
          0.06120528299374567,
          0.0612006647723892,
          0.06119606381207723,
          0.06119148000277215,
          0.06118691323542645,
          0.06118236340197122,
          0.06117783039530481,
          0.0611733141092817,
          0.06116881443870145,
          0.06116433127929782,
          0.06115986452772821,
          0.061155414081562914,
          0.061150979839274804,
          0.06114656170022916,
          0.061142159564673365,
          0.061137773333727094,
          0.06113340290937238,
          0.061129048194443966,
          0.061124709092619675,
          0.06112038550841104,
          0.06111607734715397,
          0.06111178451499952,
          0.061107506918904896,
          0.06110324446662454,
          0.06109899706670124,
          0.06109476462845748,
          0.061090547061986876,
          0.06108634427814571,
          0.06108215618854453,
          0.06107798270554004,
          0.06107382374222683,
          0.06106967921242945,
          0.06106554903069448,
          0.06106143311228271,
          0.06105733137316148,
          0.061053243729997,
          0.06104917010014695,
          0.06104511040165299,
          0.06104106455323349,
          0.06103703247427638,
          0.06103301408483194,
          0.06102900930560579,
          0.06102501805795203,
          0.06102104026386635,
          0.06101707584597928,
          0.061013124727549474,
          0.06100918683245725,
          0.06100526208519796,
          0.06100135041087571,
          0.0609974517351969,
          0.06099356598446406,
          0.060989693085569625,
          0.060985832965989896,
          0.06098198555377898,
          0.06097815077756288,
          0.06097432856653357,
          0.06097051885044329,
          0.06096672155959879,
          0.060962936624855656,
          0.060959163977612724,
          0.060955403549806664,
          0.06095165527390639,
          0.06094791908290788,
          0.0609441949103287,
          0.06094048269020283,
          0.060936782357075475,
          0.060933093845997995,
          0.06092941709252281,
          0.06092575203269841,
          0.06092209860306447,
          0.0609184567406469,
          0.06091482638295316,
          0.06091120746796738,
          0.06090759993414577,
          0.06090400372041188,
          0.060900418766152174,
          0.06089684501121131,
          0.06089328239588782,
          0.06088973086092963,
          0.06088619034752969,
          0.06088266079732171,
          0.060879142152375824,
          0.06087563435519441,
          0.06087213734870797,
          0.060868651076270944,
          0.060865175481657714,
          0.06086171050905853,
          0.06085825610307555,
          0.06085481220871895,
          0.06085137877140304,
          0.060847955736942405,
          0.0608445430515481,
          0.06084114066182397,
          0.06083774851476289,
          0.06083436655774316,
          0.06083099473852482,
          0.06082763300524613,
          0.060824281306420015,
          0.06082093959093061,
          0.060817607808029715,
          0.060814285907333475,
          0.06081097383881896,
          0.06080767155282084,
          0.06080437900002806,
          0.060801096131480645,
          0.060797822898566375,
          0.060794559253017674,
          0.06079130514690847,
          0.06078806053265097,
          0.060784825362992685,
          0.06078159959101335,
          0.06077838317012187,
          0.06077517605405343,
          0.06077197819686643,
          0.060768789552939656,
          0.06076561007696935,
          0.0607624397239664,
          0.060759278449253495,
          0.060756126208462304,
          0.060752982957530795,
          0.060749848652700424,
          0.060746723250513515,
          0.060743606707810496,
          0.06074049898172738,
          0.06073740002969301,
          0.06073430980942661,
          0.060731228278935144,
          0.060728155396510844,
          0.060725091120728616,
          0.060722035410443694,
          0.0607189882247891,
          0.06071594952317326,
          0.06071291926527758,
          0.06070989741105413,
          0.060706883920723195,
          0.060703878754771116,
          0.06070088187394784,
          0.06069789323926475,
          0.060694912811992324,
          0.06069194055365803,
          0.06068897642604403,
          0.06068602039118503,
          0.06068307241136616,
          0.060680132449120766,
          0.06067720046722842,
          0.06067427642871269,
          0.060671360296839186,
          0.060668452035113445,
          0.06066555160727897,
          0.06066265897731516,
          0.0606597741094354,
          0.06065689696808502,
          0.060654027517939406,
          0.06065116572390212,
          0.060648311551102875,
          0.06064546496489574,
          0.06064262593085731,
          0.06063979441478473,
          0.060636970382694035,
          0.060634153800818213,
          0.06063134463560547,
          0.060628542853717424,
          0.06062574842202745,
          0.060622961307618815,
          0.06062018147778305,
          0.0606174089000182,
          0.060614643542027176,
          0.06061188537171607,
          0.06060913435719249,
          0.060606390466763985,
          0.060603653668936316,
          0.060600923932411996,
          0.0605982012260886,
          0.06059548551905721,
          0.06059277678060091,
          0.06059007498019321,
          0.060587380087496506,
          0.06058469207236061,
          0.06058201090482122,
          0.06057933655509848,
          0.06057666899359547,
          0.060574008190896804,
          0.06057135411776712,
          0.06056870674514975,
          0.060566066044165215,
          0.060563431986109924,
          0.06056080454245474,
          0.060558183684843565,
          0.06055556938509208,
          0.06055296161518635,
          0.06055036034728151,
          0.06054776555370041,
          0.06054517720693236,
          0.0605425952796318,
          0.06054001974461709,
          0.0605374505748691,
          0.06053488774353013,
          0.06053233122390251,
          0.06052978098944749,
          0.06052723701378394,
          0.06052469927068716,
          0.06052216773408772,
          0.06051964237807021,
          0.06051712317687214,
          0.06051461010488268,
          0.060512103136641605,
          0.06050960224683808,
          0.060507107410309555,
          0.06050461860204066,
          0.06050213579716209,
          0.06049965897094945,
          0.060497188098822215,
          0.060494723156342675,
          0.060492264119214795,
          0.060489810963283194,
          0.0604873636645321,
          0.06048492219908425,
          0.060482486543199966,
          0.06048005667327606,
          0.060477632565844784,
          0.060475214197572895,
          0.060472801545260677,
          0.06047039458584086,
          0.06046799329637771,
          0.060465597654066075,
          0.060463207636230365,
          0.06046082322032367,
          0.06045844438392676,
          0.06045607110474717,
          0.060453703360618276,
          0.060451341129498404,
          0.0604489843894699,
          0.060446633118738186,
          0.060444287295630936,
          0.06044194689859714,
          0.06043961190620629,
          0.06043728229714742,
          0.06043495805022834,
          0.06043263914437469,
          0.060430325558629164,
          0.06042801727215066,
          0.0604257142642134,
          0.06042341651420614,
          0.060421124001631396,
          0.060418836706104526,
          0.06041655460735306,
          0.06041427768521579,
          0.06041200591964201,
          0.060409739290690795,
          0.06040747777853016,
          0.06040522136343629,
          0.06040297002579283,
          0.06040072374609009,
          0.0603984825049243,
          0.06039624628299688,
          0.06039401506111365,
          0.06039178882018419,
          0.060389567541221094,
          0.060387351205339175,
          0.060385139793754844,
          0.060382933287785344,
          0.060380731668848074,
          0.06037853491845996,
          0.060376343018236606,
          0.0603741559498918,
          0.060371973695236704,
          0.06036979623617921,
          0.06036762355472336,
          0.060365455632968565,
          0.06036329245310903,
          0.06036113399743307,
          0.0603589802483225,
          0.060356831188252,
          0.060354686799788386,
          0.060352547065590144
         ]
        },
        {
         "marker": {
          "color": "#E45756",
          "opacity": 0.6
         },
         "mode": "markers+text",
         "name": "Clusters",
         "text": [
          "",
          "",
          "",
          "",
          "",
          "",
          "",
          "",
          "",
          "",
          "",
          "",
          "",
          "",
          "",
          "",
          "",
          "",
          "",
          "",
          "",
          "",
          "",
          "",
          "",
          "",
          "",
          "",
          "",
          "",
          "",
          "",
          "",
          "",
          "",
          "",
          "",
          "",
          "",
          ""
         ],
         "type": "scatter",
         "x": [
          668.0329282930342,
          219.76773491411524,
          202.4068578427086,
          190.4577720410754,
          144.13021853777647,
          136.6930429538879,
          132.42959074854505,
          131.13849711677543,
          111.56214584848043,
          99.6317507241822,
          69.67495637871511,
          67.81125888158945,
          67.52774389526392,
          54.28773548115512,
          46.952180651302314,
          42.86124067092614,
          40.05200338985433,
          39.38213690463626,
          36.535932212288344,
          35.42531626357904,
          32.039381417057356,
          31.869331943921388,
          30.974377983192607,
          27.042308852008944,
          21.799738570967776,
          20.575192180598467,
          20.12167959321506,
          16.251806310107423,
          12.12595529723505,
          10.675142085418226,
          9.941487278279613,
          9.244354739350355,
          7.093654741383282,
          6.4989137475674985,
          3.508681650995655,
          3.381277660965778,
          2.8145867769072326,
          2.658789573072471,
          2.3946914593806703,
          0.6229179544357227
         ],
         "y": [
          0.060313713061996906,
          0.062246152324321596,
          0.0624273207825607,
          0.06256528030931859,
          0.06324326112185986,
          0.06338117120617781,
          0.06346510533153922,
          0.06349127932963936,
          0.0639388320438596,
          0.06427016267237705,
          0.06542592596473136,
          0.06552072546149627,
          0.06553547008617615,
          0.06634007808625604,
          0.06691717328893228,
          0.06729782127054812,
          0.06759040995668279,
          0.06766450323706077,
          0.06800044576046879,
          0.06814177688375969,
          0.06861456815947016,
          0.06864017212898703,
          0.06877819103193647,
          0.06945915461950193,
          0.0706232293192493,
          0.07095392294129967,
          0.07108358826786769,
          0.07239026488457054,
          0.07438608579890758,
          0.07533565071807578,
          0.0758892882536912,
          0.07647239939189157,
          0.07875829889879656,
          0.07957394628046541,
          0.08629837745379124,
          0.08676360505732081,
          0.08918930341657791,
          0.08998431039304379,
          0.09149987070259485,
          0.11948030238644204
         ]
        }
       ],
       "layout": {
        "annotations": [
         {
          "align": "center",
          "arrowcolor": "#636363",
          "arrowhead": 2,
          "arrowside": "none",
          "arrowsize": 1,
          "arrowwidth": 1,
          "ax": 20,
          "ay": -5,
          "font": {
           "size": 10
          },
          "opacity": 0.5,
          "showarrow": true,
          "text": "0",
          "x": 668.0329282930342,
          "xref": "x",
          "xshift": 2.9104275004359956,
          "y": 0.060313713061996906,
          "yref": "y",
          "yshift": 0.7276068751089989
         },
         {
          "align": "center",
          "arrowcolor": "#636363",
          "arrowhead": 2,
          "arrowside": "none",
          "arrowsize": 1,
          "arrowwidth": 1,
          "ax": 20,
          "ay": -40,
          "font": {
           "size": 10
          },
          "opacity": 0.5,
          "showarrow": true,
          "text": "34",
          "x": 219.76773491411524,
          "xref": "x",
          "xshift": 1.3416407864998738,
          "y": 0.062246152324321596,
          "yref": "y",
          "yshift": 2.6832815729997477
         },
         {
          "align": "center",
          "arrowcolor": "#636363",
          "arrowhead": 2,
          "arrowside": "none",
          "arrowsize": 1,
          "arrowwidth": 1,
          "ax": -10,
          "ay": 20,
          "font": {
           "size": 10
          },
          "opacity": 0.5,
          "showarrow": true,
          "text": "7",
          "x": 202.4068578427086,
          "xref": "x",
          "xshift": -1.3416407864998738,
          "y": 0.0624273207825607,
          "yref": "y",
          "yshift": -2.6832815729997477
         },
         {
          "align": "center",
          "arrowcolor": "#636363",
          "arrowhead": 2,
          "arrowside": "none",
          "arrowsize": 1,
          "arrowwidth": 1,
          "ax": 10,
          "ay": -20,
          "font": {
           "size": 10
          },
          "opacity": 0.5,
          "showarrow": true,
          "text": "14",
          "x": 190.4577720410754,
          "xref": "x",
          "xshift": 1.3416407864998738,
          "y": 0.06256528030931859,
          "yref": "y",
          "yshift": 2.6832815729997477
         },
         {
          "align": "center",
          "arrowcolor": "#636363",
          "arrowhead": 2,
          "arrowside": "none",
          "arrowsize": 1,
          "arrowwidth": 1,
          "ax": 5,
          "ay": 20,
          "font": {
           "size": 10
          },
          "opacity": 0.5,
          "showarrow": true,
          "text": "31",
          "x": 144.13021853777647,
          "xref": "x",
          "xshift": 0.7276068751089989,
          "y": 0.06324326112185986,
          "yref": "y",
          "yshift": -2.9104275004359956
         },
         {
          "align": "center",
          "arrowcolor": "#636363",
          "arrowhead": 2,
          "arrowside": "none",
          "arrowsize": 1,
          "arrowwidth": 1,
          "ax": 10,
          "ay": -20,
          "font": {
           "size": 10
          },
          "opacity": 0.5,
          "showarrow": true,
          "text": "15",
          "x": 136.6930429538879,
          "xref": "x",
          "xshift": 1.3416407864998738,
          "y": 0.06338117120617781,
          "yref": "y",
          "yshift": 2.6832815729997477
         },
         {
          "align": "center",
          "arrowcolor": "#636363",
          "arrowhead": 2,
          "arrowside": "none",
          "arrowsize": 1,
          "arrowwidth": 1,
          "ax": -35,
          "ay": 1,
          "font": {
           "size": 10
          },
          "opacity": 0.5,
          "showarrow": true,
          "text": "32",
          "x": 132.42959074854505,
          "xref": "x",
          "xshift": -2.998776259382084,
          "y": 0.06346510533153922,
          "yref": "y",
          "yshift": -0.08567932169663096
         },
         {
          "align": "center",
          "arrowcolor": "#636363",
          "arrowhead": 2,
          "arrowside": "none",
          "arrowsize": 1,
          "arrowwidth": 1,
          "ax": 10,
          "ay": -20,
          "font": {
           "size": 10
          },
          "opacity": 0.5,
          "showarrow": true,
          "text": "2",
          "x": 131.13849711677543,
          "xref": "x",
          "xshift": 1.3416407864998738,
          "y": 0.06349127932963936,
          "yref": "y",
          "yshift": 2.6832815729997477
         },
         {
          "align": "center",
          "arrowcolor": "#636363",
          "arrowhead": 2,
          "arrowside": "none",
          "arrowsize": 1,
          "arrowwidth": 1,
          "ax": 15,
          "ay": -20,
          "font": {
           "size": 10
          },
          "opacity": 0.5,
          "showarrow": true,
          "text": "16",
          "x": 111.56214584848043,
          "xref": "x",
          "xshift": 1.7999999999999998,
          "y": 0.0639388320438596,
          "yref": "y",
          "yshift": 2.4
         },
         {
          "align": "center",
          "arrowcolor": "#636363",
          "arrowhead": 2,
          "arrowside": "none",
          "arrowsize": 1,
          "arrowwidth": 1,
          "ax": 25,
          "ay": -35,
          "font": {
           "size": 10
          },
          "opacity": 0.5,
          "showarrow": true,
          "text": "27",
          "x": 99.6317507241822,
          "xref": "x",
          "xshift": 1.7437145811572892,
          "y": 0.06427016267237705,
          "yref": "y",
          "yshift": 2.441200413620205
         },
         {
          "align": "center",
          "arrowcolor": "#636363",
          "arrowhead": 2,
          "arrowside": "none",
          "arrowsize": 1,
          "arrowwidth": 1,
          "ax": -15,
          "ay": 30,
          "font": {
           "size": 10
          },
          "opacity": 0.5,
          "showarrow": true,
          "text": "29",
          "x": 69.67495637871511,
          "xref": "x",
          "xshift": -1.3416407864998738,
          "y": 0.06542592596473136,
          "yref": "y",
          "yshift": -2.6832815729997477
         },
         {
          "align": "center",
          "arrowcolor": "#636363",
          "arrowhead": 2,
          "arrowside": "none",
          "arrowsize": 1,
          "arrowwidth": 1,
          "ax": 20,
          "ay": -20,
          "font": {
           "size": 10
          },
          "opacity": 0.5,
          "showarrow": true,
          "text": "9",
          "x": 67.81125888158945,
          "xref": "x",
          "xshift": 2.1213203435596424,
          "y": 0.06552072546149627,
          "yref": "y",
          "yshift": 2.1213203435596424
         },
         {
          "align": "center",
          "arrowcolor": "#636363",
          "arrowhead": 2,
          "arrowside": "none",
          "arrowsize": 1,
          "arrowwidth": 1,
          "ax": -15,
          "ay": -10,
          "font": {
           "size": 10
          },
          "opacity": 0.5,
          "showarrow": true,
          "text": "6",
          "x": 67.52774389526392,
          "xref": "x",
          "xshift": -2.496150883013531,
          "y": 0.06553547008617615,
          "yref": "y",
          "yshift": 1.6641005886756874
         },
         {
          "align": "center",
          "arrowcolor": "#636363",
          "arrowhead": 2,
          "arrowside": "none",
          "arrowsize": 1,
          "arrowwidth": 1,
          "ax": 18,
          "ay": 20,
          "font": {
           "size": 10
          },
          "opacity": 0.5,
          "showarrow": true,
          "text": "30",
          "x": 54.28773548115512,
          "xref": "x",
          "xshift": 2.006894194867349,
          "y": 0.06634007808625604,
          "yref": "y",
          "yshift": -2.2298824387414986
         },
         {
          "align": "center",
          "arrowcolor": "#636363",
          "arrowhead": 2,
          "arrowside": "none",
          "arrowsize": 1,
          "arrowwidth": 1,
          "ax": 10,
          "ay": -20,
          "font": {
           "size": 10
          },
          "opacity": 0.5,
          "showarrow": true,
          "text": "11",
          "x": 46.952180651302314,
          "xref": "x",
          "xshift": 1.3416407864998738,
          "y": 0.06691717328893228,
          "yref": "y",
          "yshift": 2.6832815729997477
         },
         {
          "align": "center",
          "arrowcolor": "#636363",
          "arrowhead": 2,
          "arrowside": "none",
          "arrowsize": 1,
          "arrowwidth": 1,
          "ax": -15,
          "ay": 25,
          "font": {
           "size": 10
          },
          "opacity": 0.5,
          "showarrow": true,
          "text": "20",
          "x": 42.86124067092614,
          "xref": "x",
          "xshift": -1.5434872662825794,
          "y": 0.06729782127054812,
          "yref": "y",
          "yshift": -2.5724787771376327
         },
         {
          "align": "center",
          "arrowcolor": "#636363",
          "arrowhead": 2,
          "arrowside": "none",
          "arrowsize": 1,
          "arrowwidth": 1,
          "ax": 18,
          "ay": -20,
          "font": {
           "size": 10
          },
          "opacity": 0.5,
          "showarrow": true,
          "text": "25",
          "x": 40.05200338985433,
          "xref": "x",
          "xshift": 2.006894194867349,
          "y": 0.06759040995668279,
          "yref": "y",
          "yshift": 2.2298824387414986
         },
         {
          "align": "center",
          "arrowcolor": "#636363",
          "arrowhead": 2,
          "arrowside": "none",
          "arrowsize": 1,
          "arrowwidth": 1,
          "ax": -20,
          "ay": -20,
          "font": {
           "size": 10
          },
          "opacity": 0.5,
          "showarrow": true,
          "text": "36",
          "x": 39.38213690463626,
          "xref": "x",
          "xshift": -2.1213203435596424,
          "y": 0.06766450323706077,
          "yref": "y",
          "yshift": 2.1213203435596424
         },
         {
          "align": "center",
          "arrowcolor": "#636363",
          "arrowhead": 2,
          "arrowside": "none",
          "arrowsize": 1,
          "arrowwidth": 1,
          "ax": -10,
          "ay": -20,
          "font": {
           "size": 10
          },
          "opacity": 0.5,
          "showarrow": true,
          "text": "24",
          "x": 36.535932212288344,
          "xref": "x",
          "xshift": -1.3416407864998738,
          "y": 0.06800044576046879,
          "yref": "y",
          "yshift": 2.6832815729997477
         },
         {
          "align": "center",
          "arrowcolor": "#636363",
          "arrowhead": 2,
          "arrowside": "none",
          "arrowsize": 1,
          "arrowwidth": 1,
          "ax": -25,
          "ay": -5,
          "font": {
           "size": 10
          },
          "opacity": 0.5,
          "showarrow": true,
          "text": "35",
          "x": 35.42531626357904,
          "xref": "x",
          "xshift": -2.94174202707276,
          "y": 0.06814177688375969,
          "yref": "y",
          "yshift": 0.5883484054145521
         },
         {
          "align": "center",
          "arrowcolor": "#636363",
          "arrowhead": 2,
          "arrowside": "none",
          "arrowsize": 1,
          "arrowwidth": 1,
          "ax": -30,
          "ay": 10,
          "font": {
           "size": 10
          },
          "opacity": 0.5,
          "showarrow": true,
          "text": "19",
          "x": 32.039381417057356,
          "xref": "x",
          "xshift": -2.846049894151541,
          "y": 0.06861456815947016,
          "yref": "y",
          "yshift": -0.9486832980505138
         },
         {
          "align": "center",
          "arrowcolor": "#636363",
          "arrowhead": 2,
          "arrowside": "none",
          "arrowsize": 1,
          "arrowwidth": 1,
          "ax": -5,
          "ay": 20,
          "font": {
           "size": 10
          },
          "opacity": 0.5,
          "showarrow": true,
          "text": "39",
          "x": 31.869331943921388,
          "xref": "x",
          "xshift": -0.7276068751089989,
          "y": 0.06864017212898703,
          "yref": "y",
          "yshift": -2.9104275004359956
         },
         {
          "align": "center",
          "arrowcolor": "#636363",
          "arrowhead": 2,
          "arrowside": "none",
          "arrowsize": 1,
          "arrowwidth": 1,
          "ax": 10,
          "ay": -20,
          "font": {
           "size": 10
          },
          "opacity": 0.5,
          "showarrow": true,
          "text": "13",
          "x": 30.974377983192607,
          "xref": "x",
          "xshift": 1.3416407864998738,
          "y": 0.06877819103193647,
          "yref": "y",
          "yshift": 2.6832815729997477
         },
         {
          "align": "center",
          "arrowcolor": "#636363",
          "arrowhead": 2,
          "arrowside": "none",
          "arrowsize": 1,
          "arrowwidth": 1,
          "ax": -28,
          "ay": 18,
          "font": {
           "size": 10
          },
          "opacity": 0.5,
          "showarrow": true,
          "text": "37",
          "x": 27.042308852008944,
          "xref": "x",
          "xshift": -2.5235354261296603,
          "y": 0.06945915461950193,
          "yref": "y",
          "yshift": -1.622272773940496
         },
         {
          "align": "center",
          "arrowcolor": "#636363",
          "arrowhead": 2,
          "arrowside": "none",
          "arrowsize": 1,
          "arrowwidth": 1,
          "ax": -15,
          "ay": 10,
          "font": {
           "size": 10
          },
          "opacity": 0.5,
          "showarrow": true,
          "text": "4",
          "x": 21.799738570967776,
          "xref": "x",
          "xshift": -2.496150883013531,
          "y": 0.0706232293192493,
          "yref": "y",
          "yshift": -1.6641005886756874
         },
         {
          "align": "center",
          "arrowcolor": "#636363",
          "arrowhead": 2,
          "arrowside": "none",
          "arrowsize": 1,
          "arrowwidth": 1,
          "ax": 30,
          "ay": -30,
          "font": {
           "size": 10
          },
          "opacity": 0.5,
          "showarrow": true,
          "text": "18",
          "x": 20.575192180598467,
          "xref": "x",
          "xshift": 2.1213203435596424,
          "y": 0.07095392294129967,
          "yref": "y",
          "yshift": 2.1213203435596424
         },
         {
          "align": "center",
          "arrowcolor": "#636363",
          "arrowhead": 2,
          "arrowside": "none",
          "arrowsize": 1,
          "arrowwidth": 1,
          "ax": 5,
          "ay": -20,
          "font": {
           "size": 10
          },
          "opacity": 0.5,
          "showarrow": true,
          "text": "3",
          "x": 20.12167959321506,
          "xref": "x",
          "xshift": 0.7276068751089989,
          "y": 0.07108358826786769,
          "yref": "y",
          "yshift": 2.9104275004359956
         },
         {
          "align": "center",
          "arrowcolor": "#636363",
          "arrowhead": 2,
          "arrowside": "none",
          "arrowsize": 1,
          "arrowwidth": 1,
          "ax": 20,
          "ay": 5,
          "font": {
           "size": 10
          },
          "opacity": 0.5,
          "showarrow": true,
          "text": "5",
          "x": 16.251806310107423,
          "xref": "x",
          "xshift": 2.9104275004359956,
          "y": 0.07239026488457054,
          "yref": "y",
          "yshift": -0.7276068751089989
         },
         {
          "align": "center",
          "arrowcolor": "#636363",
          "arrowhead": 2,
          "arrowside": "none",
          "arrowsize": 1,
          "arrowwidth": 1,
          "ax": -20,
          "ay": -10,
          "font": {
           "size": 10
          },
          "opacity": 0.5,
          "showarrow": true,
          "text": "28",
          "x": 12.12595529723505,
          "xref": "x",
          "xshift": -2.6832815729997477,
          "y": 0.07438608579890758,
          "yref": "y",
          "yshift": 1.3416407864998738
         },
         {
          "align": "center",
          "arrowcolor": "#636363",
          "arrowhead": 2,
          "arrowside": "none",
          "arrowsize": 1,
          "arrowwidth": 1,
          "ax": 40,
          "ay": -40,
          "font": {
           "size": 10
          },
          "opacity": 0.5,
          "showarrow": true,
          "text": "10",
          "x": 10.675142085418226,
          "xref": "x",
          "xshift": 2.1213203435596424,
          "y": 0.07533565071807578,
          "yref": "y",
          "yshift": 2.1213203435596424
         },
         {
          "align": "center",
          "arrowcolor": "#636363",
          "arrowhead": 2,
          "arrowside": "none",
          "arrowsize": 1,
          "arrowwidth": 1,
          "ax": -25,
          "ay": -20,
          "font": {
           "size": 10
          },
          "opacity": 0.5,
          "showarrow": true,
          "text": "22",
          "x": 9.941487278279613,
          "xref": "x",
          "xshift": -2.342606428329091,
          "y": 0.0758892882536912,
          "yref": "y",
          "yshift": 1.8740851426632728
         },
         {
          "align": "center",
          "arrowcolor": "#636363",
          "arrowhead": 2,
          "arrowside": "none",
          "arrowsize": 1,
          "arrowwidth": 1,
          "ax": 25,
          "ay": -25,
          "font": {
           "size": 10
          },
          "opacity": 0.5,
          "showarrow": true,
          "text": "23",
          "x": 9.244354739350355,
          "xref": "x",
          "xshift": 2.1213203435596424,
          "y": 0.07647239939189157,
          "yref": "y",
          "yshift": 2.1213203435596424
         },
         {
          "align": "center",
          "arrowcolor": "#636363",
          "arrowhead": 2,
          "arrowside": "none",
          "arrowsize": 1,
          "arrowwidth": 1,
          "ax": 10,
          "ay": 20,
          "font": {
           "size": 10
          },
          "opacity": 0.5,
          "showarrow": true,
          "text": "8",
          "x": 7.093654741383282,
          "xref": "x",
          "xshift": 1.3416407864998738,
          "y": 0.07875829889879656,
          "yref": "y",
          "yshift": -2.6832815729997477
         },
         {
          "align": "center",
          "arrowcolor": "#636363",
          "arrowhead": 2,
          "arrowside": "none",
          "arrowsize": 1,
          "arrowwidth": 1,
          "ax": 10,
          "ay": -20,
          "font": {
           "size": 10
          },
          "opacity": 0.5,
          "showarrow": true,
          "text": "21",
          "x": 6.4989137475674985,
          "xref": "x",
          "xshift": 1.3416407864998738,
          "y": 0.07957394628046541,
          "yref": "y",
          "yshift": 2.6832815729997477
         },
         {
          "align": "center",
          "arrowcolor": "#636363",
          "arrowhead": 2,
          "arrowside": "none",
          "arrowsize": 1,
          "arrowwidth": 1,
          "ax": -30,
          "ay": 25,
          "font": {
           "size": 10
          },
          "opacity": 0.5,
          "showarrow": true,
          "text": "12",
          "x": 3.508681650995655,
          "xref": "x",
          "xshift": -2.3046638387921274,
          "y": 0.08629837745379124,
          "yref": "y",
          "yshift": -1.9205531989934397
         },
         {
          "align": "center",
          "arrowcolor": "#636363",
          "arrowhead": 2,
          "arrowside": "none",
          "arrowsize": 1,
          "arrowwidth": 1,
          "ax": 10,
          "ay": -20,
          "font": {
           "size": 10
          },
          "opacity": 0.5,
          "showarrow": true,
          "text": "38",
          "x": 3.381277660965778,
          "xref": "x",
          "xshift": 1.3416407864998738,
          "y": 0.08676360505732081,
          "yref": "y",
          "yshift": 2.6832815729997477
         },
         {
          "align": "center",
          "arrowcolor": "#636363",
          "arrowhead": 2,
          "arrowside": "none",
          "arrowsize": 1,
          "arrowwidth": 1,
          "ax": 5,
          "ay": 20,
          "font": {
           "size": 10
          },
          "opacity": 0.5,
          "showarrow": true,
          "text": "26",
          "x": 2.8145867769072326,
          "xref": "x",
          "xshift": 0.7276068751089989,
          "y": 0.08918930341657791,
          "yref": "y",
          "yshift": -2.9104275004359956
         },
         {
          "align": "center",
          "arrowcolor": "#636363",
          "arrowhead": 2,
          "arrowside": "none",
          "arrowsize": 1,
          "arrowwidth": 1,
          "ax": 40,
          "ay": -50,
          "font": {
           "size": 10
          },
          "opacity": 0.5,
          "showarrow": true,
          "text": "17",
          "x": 2.658789573072471,
          "xref": "x",
          "xshift": 1.8740851426632728,
          "y": 0.08998431039304379,
          "yref": "y",
          "yshift": 2.342606428329091
         },
         {
          "align": "center",
          "arrowcolor": "#636363",
          "arrowhead": 2,
          "arrowside": "none",
          "arrowsize": 1,
          "arrowwidth": 1,
          "ax": -20,
          "ay": -15,
          "font": {
           "size": 10
          },
          "opacity": 0.5,
          "showarrow": true,
          "text": "33",
          "x": 2.3946914593806703,
          "xref": "x",
          "xshift": -2.4,
          "y": 0.09149987070259485,
          "yref": "y",
          "yshift": 1.7999999999999998
         },
         {
          "align": "center",
          "arrowcolor": "#636363",
          "arrowhead": 2,
          "arrowside": "none",
          "arrowsize": 1,
          "arrowwidth": 1,
          "ax": 10,
          "ay": -20,
          "font": {
           "size": 10
          },
          "opacity": 0.5,
          "showarrow": true,
          "text": "1",
          "x": 0.6229179544357227,
          "xref": "x",
          "xshift": 1.3416407864998738,
          "y": 0.11948030238644204,
          "yref": "y",
          "yshift": 2.6832815729997477
         }
        ],
        "legend": {
         "orientation": "h",
         "x": 0.5,
         "xanchor": "center",
         "y": -0.15,
         "yanchor": "top"
        },
        "margin": {
         "b": 0,
         "l": 0,
         "r": 0,
         "t": 30
        },
        "template": {
         "data": {
          "bar": [
           {
            "error_x": {
             "color": "#2a3f5f"
            },
            "error_y": {
             "color": "#2a3f5f"
            },
            "marker": {
             "line": {
              "color": "white",
              "width": 0.5
             }
            },
            "type": "bar"
           }
          ],
          "barpolar": [
           {
            "marker": {
             "line": {
              "color": "white",
              "width": 0.5
             }
            },
            "type": "barpolar"
           }
          ],
          "carpet": [
           {
            "aaxis": {
             "endlinecolor": "#2a3f5f",
             "gridcolor": "#C8D4E3",
             "linecolor": "#C8D4E3",
             "minorgridcolor": "#C8D4E3",
             "startlinecolor": "#2a3f5f"
            },
            "baxis": {
             "endlinecolor": "#2a3f5f",
             "gridcolor": "#C8D4E3",
             "linecolor": "#C8D4E3",
             "minorgridcolor": "#C8D4E3",
             "startlinecolor": "#2a3f5f"
            },
            "type": "carpet"
           }
          ],
          "choropleth": [
           {
            "colorbar": {
             "outlinewidth": 0,
             "ticks": ""
            },
            "type": "choropleth"
           }
          ],
          "contour": [
           {
            "colorbar": {
             "outlinewidth": 0,
             "ticks": ""
            },
            "colorscale": [
             [
              0,
              "#0d0887"
             ],
             [
              0.1111111111111111,
              "#46039f"
             ],
             [
              0.2222222222222222,
              "#7201a8"
             ],
             [
              0.3333333333333333,
              "#9c179e"
             ],
             [
              0.4444444444444444,
              "#bd3786"
             ],
             [
              0.5555555555555556,
              "#d8576b"
             ],
             [
              0.6666666666666666,
              "#ed7953"
             ],
             [
              0.7777777777777778,
              "#fb9f3a"
             ],
             [
              0.8888888888888888,
              "#fdca26"
             ],
             [
              1,
              "#f0f921"
             ]
            ],
            "type": "contour"
           }
          ],
          "contourcarpet": [
           {
            "colorbar": {
             "outlinewidth": 0,
             "ticks": ""
            },
            "type": "contourcarpet"
           }
          ],
          "heatmap": [
           {
            "colorbar": {
             "outlinewidth": 0,
             "ticks": ""
            },
            "colorscale": [
             [
              0,
              "#0d0887"
             ],
             [
              0.1111111111111111,
              "#46039f"
             ],
             [
              0.2222222222222222,
              "#7201a8"
             ],
             [
              0.3333333333333333,
              "#9c179e"
             ],
             [
              0.4444444444444444,
              "#bd3786"
             ],
             [
              0.5555555555555556,
              "#d8576b"
             ],
             [
              0.6666666666666666,
              "#ed7953"
             ],
             [
              0.7777777777777778,
              "#fb9f3a"
             ],
             [
              0.8888888888888888,
              "#fdca26"
             ],
             [
              1,
              "#f0f921"
             ]
            ],
            "type": "heatmap"
           }
          ],
          "heatmapgl": [
           {
            "colorbar": {
             "outlinewidth": 0,
             "ticks": ""
            },
            "colorscale": [
             [
              0,
              "#0d0887"
             ],
             [
              0.1111111111111111,
              "#46039f"
             ],
             [
              0.2222222222222222,
              "#7201a8"
             ],
             [
              0.3333333333333333,
              "#9c179e"
             ],
             [
              0.4444444444444444,
              "#bd3786"
             ],
             [
              0.5555555555555556,
              "#d8576b"
             ],
             [
              0.6666666666666666,
              "#ed7953"
             ],
             [
              0.7777777777777778,
              "#fb9f3a"
             ],
             [
              0.8888888888888888,
              "#fdca26"
             ],
             [
              1,
              "#f0f921"
             ]
            ],
            "type": "heatmapgl"
           }
          ],
          "histogram": [
           {
            "marker": {
             "colorbar": {
              "outlinewidth": 0,
              "ticks": ""
             }
            },
            "type": "histogram"
           }
          ],
          "histogram2d": [
           {
            "colorbar": {
             "outlinewidth": 0,
             "ticks": ""
            },
            "colorscale": [
             [
              0,
              "#0d0887"
             ],
             [
              0.1111111111111111,
              "#46039f"
             ],
             [
              0.2222222222222222,
              "#7201a8"
             ],
             [
              0.3333333333333333,
              "#9c179e"
             ],
             [
              0.4444444444444444,
              "#bd3786"
             ],
             [
              0.5555555555555556,
              "#d8576b"
             ],
             [
              0.6666666666666666,
              "#ed7953"
             ],
             [
              0.7777777777777778,
              "#fb9f3a"
             ],
             [
              0.8888888888888888,
              "#fdca26"
             ],
             [
              1,
              "#f0f921"
             ]
            ],
            "type": "histogram2d"
           }
          ],
          "histogram2dcontour": [
           {
            "colorbar": {
             "outlinewidth": 0,
             "ticks": ""
            },
            "colorscale": [
             [
              0,
              "#0d0887"
             ],
             [
              0.1111111111111111,
              "#46039f"
             ],
             [
              0.2222222222222222,
              "#7201a8"
             ],
             [
              0.3333333333333333,
              "#9c179e"
             ],
             [
              0.4444444444444444,
              "#bd3786"
             ],
             [
              0.5555555555555556,
              "#d8576b"
             ],
             [
              0.6666666666666666,
              "#ed7953"
             ],
             [
              0.7777777777777778,
              "#fb9f3a"
             ],
             [
              0.8888888888888888,
              "#fdca26"
             ],
             [
              1,
              "#f0f921"
             ]
            ],
            "type": "histogram2dcontour"
           }
          ],
          "mesh3d": [
           {
            "colorbar": {
             "outlinewidth": 0,
             "ticks": ""
            },
            "type": "mesh3d"
           }
          ],
          "parcoords": [
           {
            "line": {
             "colorbar": {
              "outlinewidth": 0,
              "ticks": ""
             }
            },
            "type": "parcoords"
           }
          ],
          "pie": [
           {
            "automargin": true,
            "type": "pie"
           }
          ],
          "scatter": [
           {
            "marker": {
             "colorbar": {
              "outlinewidth": 0,
              "ticks": ""
             }
            },
            "type": "scatter"
           }
          ],
          "scatter3d": [
           {
            "line": {
             "colorbar": {
              "outlinewidth": 0,
              "ticks": ""
             }
            },
            "marker": {
             "colorbar": {
              "outlinewidth": 0,
              "ticks": ""
             }
            },
            "type": "scatter3d"
           }
          ],
          "scattercarpet": [
           {
            "marker": {
             "colorbar": {
              "outlinewidth": 0,
              "ticks": ""
             }
            },
            "type": "scattercarpet"
           }
          ],
          "scattergeo": [
           {
            "marker": {
             "colorbar": {
              "outlinewidth": 0,
              "ticks": ""
             }
            },
            "type": "scattergeo"
           }
          ],
          "scattergl": [
           {
            "marker": {
             "colorbar": {
              "outlinewidth": 0,
              "ticks": ""
             }
            },
            "type": "scattergl"
           }
          ],
          "scattermapbox": [
           {
            "marker": {
             "colorbar": {
              "outlinewidth": 0,
              "ticks": ""
             }
            },
            "type": "scattermapbox"
           }
          ],
          "scatterpolar": [
           {
            "marker": {
             "colorbar": {
              "outlinewidth": 0,
              "ticks": ""
             }
            },
            "type": "scatterpolar"
           }
          ],
          "scatterpolargl": [
           {
            "marker": {
             "colorbar": {
              "outlinewidth": 0,
              "ticks": ""
             }
            },
            "type": "scatterpolargl"
           }
          ],
          "scatterternary": [
           {
            "marker": {
             "colorbar": {
              "outlinewidth": 0,
              "ticks": ""
             }
            },
            "type": "scatterternary"
           }
          ],
          "surface": [
           {
            "colorbar": {
             "outlinewidth": 0,
             "ticks": ""
            },
            "colorscale": [
             [
              0,
              "#0d0887"
             ],
             [
              0.1111111111111111,
              "#46039f"
             ],
             [
              0.2222222222222222,
              "#7201a8"
             ],
             [
              0.3333333333333333,
              "#9c179e"
             ],
             [
              0.4444444444444444,
              "#bd3786"
             ],
             [
              0.5555555555555556,
              "#d8576b"
             ],
             [
              0.6666666666666666,
              "#ed7953"
             ],
             [
              0.7777777777777778,
              "#fb9f3a"
             ],
             [
              0.8888888888888888,
              "#fdca26"
             ],
             [
              1,
              "#f0f921"
             ]
            ],
            "type": "surface"
           }
          ],
          "table": [
           {
            "cells": {
             "fill": {
              "color": "#EBF0F8"
             },
             "line": {
              "color": "white"
             }
            },
            "header": {
             "fill": {
              "color": "#C8D4E3"
             },
             "line": {
              "color": "white"
             }
            },
            "type": "table"
           }
          ]
         },
         "layout": {
          "annotationdefaults": {
           "arrowcolor": "#2a3f5f",
           "arrowhead": 0,
           "arrowwidth": 1
          },
          "coloraxis": {
           "colorbar": {
            "outlinewidth": 0,
            "ticks": ""
           }
          },
          "colorscale": {
           "diverging": [
            [
             0,
             "#8e0152"
            ],
            [
             0.1,
             "#c51b7d"
            ],
            [
             0.2,
             "#de77ae"
            ],
            [
             0.3,
             "#f1b6da"
            ],
            [
             0.4,
             "#fde0ef"
            ],
            [
             0.5,
             "#f7f7f7"
            ],
            [
             0.6,
             "#e6f5d0"
            ],
            [
             0.7,
             "#b8e186"
            ],
            [
             0.8,
             "#7fbc41"
            ],
            [
             0.9,
             "#4d9221"
            ],
            [
             1,
             "#276419"
            ]
           ],
           "sequential": [
            [
             0,
             "#0d0887"
            ],
            [
             0.1111111111111111,
             "#46039f"
            ],
            [
             0.2222222222222222,
             "#7201a8"
            ],
            [
             0.3333333333333333,
             "#9c179e"
            ],
            [
             0.4444444444444444,
             "#bd3786"
            ],
            [
             0.5555555555555556,
             "#d8576b"
            ],
            [
             0.6666666666666666,
             "#ed7953"
            ],
            [
             0.7777777777777778,
             "#fb9f3a"
            ],
            [
             0.8888888888888888,
             "#fdca26"
            ],
            [
             1,
             "#f0f921"
            ]
           ],
           "sequentialminus": [
            [
             0,
             "#0d0887"
            ],
            [
             0.1111111111111111,
             "#46039f"
            ],
            [
             0.2222222222222222,
             "#7201a8"
            ],
            [
             0.3333333333333333,
             "#9c179e"
            ],
            [
             0.4444444444444444,
             "#bd3786"
            ],
            [
             0.5555555555555556,
             "#d8576b"
            ],
            [
             0.6666666666666666,
             "#ed7953"
            ],
            [
             0.7777777777777778,
             "#fb9f3a"
            ],
            [
             0.8888888888888888,
             "#fdca26"
            ],
            [
             1,
             "#f0f921"
            ]
           ]
          },
          "colorway": [
           "#636efa",
           "#EF553B",
           "#00cc96",
           "#ab63fa",
           "#FFA15A",
           "#19d3f3",
           "#FF6692",
           "#B6E880",
           "#FF97FF",
           "#FECB52"
          ],
          "font": {
           "color": "#2a3f5f"
          },
          "geo": {
           "bgcolor": "white",
           "lakecolor": "white",
           "landcolor": "white",
           "showlakes": true,
           "showland": true,
           "subunitcolor": "#C8D4E3"
          },
          "hoverlabel": {
           "align": "left"
          },
          "hovermode": "closest",
          "mapbox": {
           "style": "light"
          },
          "paper_bgcolor": "white",
          "plot_bgcolor": "white",
          "polar": {
           "angularaxis": {
            "gridcolor": "#EBF0F8",
            "linecolor": "#EBF0F8",
            "ticks": ""
           },
           "bgcolor": "white",
           "radialaxis": {
            "gridcolor": "#EBF0F8",
            "linecolor": "#EBF0F8",
            "ticks": ""
           }
          },
          "scene": {
           "xaxis": {
            "backgroundcolor": "white",
            "gridcolor": "#DFE8F3",
            "gridwidth": 2,
            "linecolor": "#EBF0F8",
            "showbackground": true,
            "ticks": "",
            "zerolinecolor": "#EBF0F8"
           },
           "yaxis": {
            "backgroundcolor": "white",
            "gridcolor": "#DFE8F3",
            "gridwidth": 2,
            "linecolor": "#EBF0F8",
            "showbackground": true,
            "ticks": "",
            "zerolinecolor": "#EBF0F8"
           },
           "zaxis": {
            "backgroundcolor": "white",
            "gridcolor": "#DFE8F3",
            "gridwidth": 2,
            "linecolor": "#EBF0F8",
            "showbackground": true,
            "ticks": "",
            "zerolinecolor": "#EBF0F8"
           }
          },
          "shapedefaults": {
           "line": {
            "color": "#2a3f5f"
           }
          },
          "ternary": {
           "aaxis": {
            "gridcolor": "#DFE8F3",
            "linecolor": "#A2B1C6",
            "ticks": ""
           },
           "baxis": {
            "gridcolor": "#DFE8F3",
            "linecolor": "#A2B1C6",
            "ticks": ""
           },
           "bgcolor": "white",
           "caxis": {
            "gridcolor": "#DFE8F3",
            "linecolor": "#A2B1C6",
            "ticks": ""
           }
          },
          "title": {
           "x": 0.05
          },
          "xaxis": {
           "automargin": true,
           "gridcolor": "#EBF0F8",
           "linecolor": "#EBF0F8",
           "ticks": "",
           "title": {
            "standoff": 15
           },
           "zerolinecolor": "#EBF0F8",
           "zerolinewidth": 2
          },
          "yaxis": {
           "automargin": true,
           "gridcolor": "#EBF0F8",
           "linecolor": "#EBF0F8",
           "ticks": "",
           "title": {
            "standoff": 15
           },
           "zerolinecolor": "#EBF0F8",
           "zerolinewidth": 2
          }
         }
        },
        "width": 500,
        "xaxis": {
         "title": {
          "text": "Capacity (Mm<sup>3</sup>/y)"
         }
        },
        "yaxis": {
         "title": {
          "text": "LCOW ($/m<sup>3</sup>)"
         }
        }
       }
      },
      "text/html": [
       "<div>                            <div id=\"3107ec7d-c593-4d4c-b63a-edb551ed8c34\" class=\"plotly-graph-div\" style=\"height:525px; width:500px;\"></div>            <script type=\"text/javascript\">                require([\"plotly\"], function(Plotly) {                    window.PLOTLYENV=window.PLOTLYENV || {};                                    if (document.getElementById(\"3107ec7d-c593-4d4c-b63a-edb551ed8c34\")) {                    Plotly.newPlot(                        \"3107ec7d-c593-4d4c-b63a-edb551ed8c34\",                        [{\"marker\": {\"color\": \"#E45756\"}, \"mode\": \"lines\", \"name\": \"Pond system LCOW\", \"opacity\": 1, \"type\": \"scatter\", \"x\": [0.5, 1.5, 2.5, 3.5, 4.5, 5.5, 6.5, 7.5, 8.5, 9.5, 10.5, 11.5, 12.5, 13.5, 14.5, 15.5, 16.5, 17.5, 18.5, 19.5, 20.5, 21.5, 22.5, 23.5, 24.5, 25.5, 26.5, 27.5, 28.5, 29.5, 30.5, 31.5, 32.5, 33.5, 34.5, 35.5, 36.5, 37.5, 38.5, 39.5, 40.5, 41.5, 42.5, 43.5, 44.5, 45.5, 46.5, 47.5, 48.5, 49.5, 50.5, 51.5, 52.5, 53.5, 54.5, 55.5, 56.5, 57.5, 58.5, 59.5, 60.5, 61.5, 62.5, 63.5, 64.5, 65.5, 66.5, 67.5, 68.5, 69.5, 70.5, 71.5, 72.5, 73.5, 74.5, 75.5, 76.5, 77.5, 78.5, 79.5, 80.5, 81.5, 82.5, 83.5, 84.5, 85.5, 86.5, 87.5, 88.5, 89.5, 90.5, 91.5, 92.5, 93.5, 94.5, 95.5, 96.5, 97.5, 98.5, 99.5, 100.5, 101.5, 102.5, 103.5, 104.5, 105.5, 106.5, 107.5, 108.5, 109.5, 110.5, 111.5, 112.5, 113.5, 114.5, 115.5, 116.5, 117.5, 118.5, 119.5, 120.5, 121.5, 122.5, 123.5, 124.5, 125.5, 126.5, 127.5, 128.5, 129.5, 130.5, 131.5, 132.5, 133.5, 134.5, 135.5, 136.5, 137.5, 138.5, 139.5, 140.5, 141.5, 142.5, 143.5, 144.5, 145.5, 146.5, 147.5, 148.5, 149.5, 150.5, 151.5, 152.5, 153.5, 154.5, 155.5, 156.5, 157.5, 158.5, 159.5, 160.5, 161.5, 162.5, 163.5, 164.5, 165.5, 166.5, 167.5, 168.5, 169.5, 170.5, 171.5, 172.5, 173.5, 174.5, 175.5, 176.5, 177.5, 178.5, 179.5, 180.5, 181.5, 182.5, 183.5, 184.5, 185.5, 186.5, 187.5, 188.5, 189.5, 190.5, 191.5, 192.5, 193.5, 194.5, 195.5, 196.5, 197.5, 198.5, 199.5, 200.5, 201.5, 202.5, 203.5, 204.5, 205.5, 206.5, 207.5, 208.5, 209.5, 210.5, 211.5, 212.5, 213.5, 214.5, 215.5, 216.5, 217.5, 218.5, 219.5, 220.5, 221.5, 222.5, 223.5, 224.5, 225.5, 226.5, 227.5, 228.5, 229.5, 230.5, 231.5, 232.5, 233.5, 234.5, 235.5, 236.5, 237.5, 238.5, 239.5, 240.5, 241.5, 242.5, 243.5, 244.5, 245.5, 246.5, 247.5, 248.5, 249.5, 250.5, 251.5, 252.5, 253.5, 254.5, 255.5, 256.5, 257.5, 258.5, 259.5, 260.5, 261.5, 262.5, 263.5, 264.5, 265.5, 266.5, 267.5, 268.5, 269.5, 270.5, 271.5, 272.5, 273.5, 274.5, 275.5, 276.5, 277.5, 278.5, 279.5, 280.5, 281.5, 282.5, 283.5, 284.5, 285.5, 286.5, 287.5, 288.5, 289.5, 290.5, 291.5, 292.5, 293.5, 294.5, 295.5, 296.5, 297.5, 298.5, 299.5, 300.5, 301.5, 302.5, 303.5, 304.5, 305.5, 306.5, 307.5, 308.5, 309.5, 310.5, 311.5, 312.5, 313.5, 314.5, 315.5, 316.5, 317.5, 318.5, 319.5, 320.5, 321.5, 322.5, 323.5, 324.5, 325.5, 326.5, 327.5, 328.5, 329.5, 330.5, 331.5, 332.5, 333.5, 334.5, 335.5, 336.5, 337.5, 338.5, 339.5, 340.5, 341.5, 342.5, 343.5, 344.5, 345.5, 346.5, 347.5, 348.5, 349.5, 350.5, 351.5, 352.5, 353.5, 354.5, 355.5, 356.5, 357.5, 358.5, 359.5, 360.5, 361.5, 362.5, 363.5, 364.5, 365.5, 366.5, 367.5, 368.5, 369.5, 370.5, 371.5, 372.5, 373.5, 374.5, 375.5, 376.5, 377.5, 378.5, 379.5, 380.5, 381.5, 382.5, 383.5, 384.5, 385.5, 386.5, 387.5, 388.5, 389.5, 390.5, 391.5, 392.5, 393.5, 394.5, 395.5, 396.5, 397.5, 398.5, 399.5, 400.5, 401.5, 402.5, 403.5, 404.5, 405.5, 406.5, 407.5, 408.5, 409.5, 410.5, 411.5, 412.5, 413.5, 414.5, 415.5, 416.5, 417.5, 418.5, 419.5, 420.5, 421.5, 422.5, 423.5, 424.5, 425.5, 426.5, 427.5, 428.5, 429.5, 430.5, 431.5, 432.5, 433.5, 434.5, 435.5, 436.5, 437.5, 438.5, 439.5, 440.5, 441.5, 442.5, 443.5, 444.5, 445.5, 446.5, 447.5, 448.5, 449.5, 450.5, 451.5, 452.5, 453.5, 454.5, 455.5, 456.5, 457.5, 458.5, 459.5, 460.5, 461.5, 462.5, 463.5, 464.5, 465.5, 466.5, 467.5, 468.5, 469.5, 470.5, 471.5, 472.5, 473.5, 474.5, 475.5, 476.5, 477.5, 478.5, 479.5, 480.5, 481.5, 482.5, 483.5, 484.5, 485.5, 486.5, 487.5, 488.5, 489.5, 490.5, 491.5, 492.5, 493.5, 494.5, 495.5, 496.5, 497.5, 498.5, 499.5, 500.5, 501.5, 502.5, 503.5, 504.5, 505.5, 506.5, 507.5, 508.5, 509.5, 510.5, 511.5, 512.5, 513.5, 514.5, 515.5, 516.5, 517.5, 518.5, 519.5, 520.5, 521.5, 522.5, 523.5, 524.5, 525.5, 526.5, 527.5, 528.5, 529.5, 530.5, 531.5, 532.5, 533.5, 534.5, 535.5, 536.5, 537.5, 538.5, 539.5, 540.5, 541.5, 542.5, 543.5, 544.5, 545.5, 546.5, 547.5, 548.5, 549.5, 550.5, 551.5, 552.5, 553.5, 554.5, 555.5, 556.5, 557.5, 558.5, 559.5, 560.5, 561.5, 562.5, 563.5, 564.5, 565.5, 566.5, 567.5, 568.5, 569.5, 570.5, 571.5, 572.5, 573.5, 574.5, 575.5, 576.5, 577.5, 578.5, 579.5, 580.5, 581.5, 582.5, 583.5, 584.5, 585.5, 586.5, 587.5, 588.5, 589.5, 590.5, 591.5, 592.5, 593.5, 594.5, 595.5, 596.5, 597.5, 598.5, 599.5, 600.5, 601.5, 602.5, 603.5, 604.5, 605.5, 606.5, 607.5, 608.5, 609.5, 610.5, 611.5, 612.5, 613.5, 614.5, 615.5, 616.5, 617.5, 618.5, 619.5, 620.5, 621.5, 622.5, 623.5, 624.5, 625.5, 626.5, 627.5, 628.5, 629.5, 630.5, 631.5, 632.5, 633.5, 634.5, 635.5, 636.5, 637.5, 638.5, 639.5, 640.5, 641.5, 642.5, 643.5, 644.5, 645.5, 646.5, 647.5, 648.5, 649.5], \"y\": [0.12609674169508983, 0.09925109867723883, 0.09086761078685285, 0.08632929756702633, 0.08336098988777446, 0.08121769830338026, 0.07957235962960524, 0.07825541363650065, 0.07716885033078337, 0.07625146798038014, 0.07546277295659498, 0.07477473856251084, 0.07416725375765787, 0.07362545400914688, 0.07313807763182818, 0.07269641180033044, 0.07229359320093434, 0.07192413023742564, 0.07158356824154448, 0.07126824964153951, 0.07097513877189104, 0.07070169166432544, 0.07044575775845484, 0.07020550466437389, 0.06997935983876107, 0.06976596485002196, 0.0695641391369935, 0.06937285101298654, 0.06919119426040841, 0.06901836908300578, 0.06885366648661174, 0.06869645538088626, 0.06854617185803191, 0.06840231022638378, 0.06826441546859156, 0.06813207686391276, 0.06800492256765946, 0.06788261498222137, 0.06776484678632444, 0.06765133751448198, 0.06754183059858127, 0.0674360907994416, 0.06733390196889542, 0.06723506509317494, 0.06713939657666664, 0.06704672673182799, 0.06695689844656615, 0.06686976600489718, 0.06678519404043484, 0.06670305660534642, 0.06662323633998506, 0.06654562373055391, 0.06647011644395882, 0.06639661873052018, 0.06632504088649424, 0.0662552987694379, 0.06618731336037152, 0.06612101036748055, 0.06605631986676734, 0.06599317597564099, 0.06593151655592795, 0.0658712829432137, 0.06581241969979378, 0.06575487438883357, 0.06569859736761337, 0.06564354159797732, 0.06558966247231603, 0.06553691765359727, 0.06548526692812097, 0.0654346720698168, 0.06538509671502778, 0.06533650624683321, 0.0652888676880624, 0.0652421496022358, 0.06519632200174715, 0.06515135626266823, 0.06510722504561715, 0.06506390222218629, 0.0650213628064723, 0.06497958289129502, 0.06493853958872896, 0.06489821097460671, 0.06485857603668355, 0.06481961462618052, 0.06478130741244836, 0.06474363584051682, 0.06470658209131443, 0.06467012904436192, 0.06463426024275913, 0.06459895986030034, 0.06456421267056629, 0.06453000401785376, 0.06449631978981464, 0.06446314639168679, 0.06443047072200796, 0.06439828014971286, 0.06436656249252086, 0.06433530599652937, 0.0643044993169336, 0.06427413149980012, 0.06424419196482642, 0.06421467048902421, 0.06418555719126802, 0.06415684251765551, 0.06412851722762947, 0.06410057238081486, 0.06407299932452767, 0.06404578968191554, 0.06401893534069247, 0.06399242844243261, 0.06396626137239082, 0.06394042674981931, 0.06391491741875215, 0.06388972643923095, 0.06386484707894713, 0.06384027280527724, 0.0638159972776899, 0.0637920143405039, 0.06376831801597829, 0.06374490249771674, 0.06372176214436914, 0.06369889147361511, 0.06367628515641408, 0.06365393801150845, 0.0636318450001666, 0.06361000122115346, 0.06358840190591698, 0.0635670424139798, 0.06354591822852564, 0.06352502495217083, 0.06350435830291194, 0.06348391411024056, 0.0634636883114176, 0.06344367694789907, 0.06342387616190606, 0.06340428219313242, 0.06338489137558322, 0.06336570013453825, 0.06334670498363452, 0.06332790252206223, 0.0633092894318693, 0.06329086247536914, 0.06327261849264744, 0.06325455439916307, 0.0632366671834392, 0.06321895390484074, 0.06320141169143384, 0.06318403773792448, 0.06316682930367229, 0.06314978371077642, 0.06313289834223075, 0.0631161706401448, 0.06309959810402829, 0.06308317828913629, 0.06306690880487241, 0.06305078731324784, 0.06303481152739392, 0.06301897921012564, 0.06300328817255485, 0.06298773627275013, 0.0629723214144424, 0.06295704154577378, 0.06294189465808836, 0.06292687878476307, 0.06291199200007713, 0.06289723241811859, 0.06288259819172654, 0.06286808751146743, 0.06285369860464464, 0.06283942973433954, 0.06282527919848313, 0.0628112453289571, 0.06279732649072314, 0.06278352108097948, 0.06276982752834363, 0.06275624429206049, 0.06274276986123474, 0.06272940275408657, 0.06271614151723037, 0.06270298472497485, 0.06268993097864442, 0.06267697890592086, 0.06266412716020445, 0.06265137441999405, 0.06263871938828541, 0.06262616079198716, 0.06261369738135361, 0.06260132792943407, 0.06258905123153809, 0.06257686610471584, 0.06256477138725346, 0.06255276593818258, 0.06254084863680372, 0.06252901838222305, 0.06251727409290209, 0.0625056147062198, 0.06249403917804697, 0.062482546482331994, 0.062471135610698336, 0.0624598055720526, 0.06244855539220342, 0.0624373841134905, 0.062426290794423675, 0.062415274509331535, 0.062404334348019314, 0.06239346941543603, 0.062382678831350055, 0.06237196173003344, 0.06236131725995427, 0.0623507445834771, 0.062340242876571056, 0.062329811328525414, 0.06231944914167245, 0.06230915553111736, 0.06229892972447499, 0.06228877096161314, 0.06227867849440237, 0.06226865158647205, 0.0622586895129724, 0.06224879156034245, 0.062238957026083674, 0.062229185218539304, 0.062219475456678726, 0.062209827069887515, 0.06220023939776213, 0.06219071178990983, 0.062181243605753306, 0.06217183421433991, 0.062162482994155464, 0.06215318933294247, 0.06214395262752258, 0.06213477228362322, 0.0621256477157083, 0.06211657834681278, 0.06210756360838113, 0.06209860294010951, 0.06208969578979147, 0.06208084161316735, 0.06207203987377688, 0.06206329004281536, 0.062054591598992855, 0.06204594402839672, 0.062037346824357124, 0.06202879948731556, 0.062020301524696314, 0.062011852450780724, 0.062003451786584285, 0.061995099059736304, 0.061986793804362325, 0.061978535560969106, 0.061970323876331876, 0.06196215830338435, 0.061954038401110814, 0.061945963734440716, 0.061937933874145354, 0.061929948396736885, 0.06192200688436939, 0.061914108924742035, 0.06190625411100428, 0.06189844204166305, 0.061890672320491884, 0.06188294455644185, 0.061875258363554494, 0.06186761336087634, 0.06186000917237536, 0.06185244542685905, 0.06184492175789411, 0.06183743780372794, 0.061829993207211484, 0.06182258761572381, 0.06181522068109815, 0.06180789205954936, 0.061800601411602894, 0.06179334840202513, 0.06178613269975518, 0.06177895397783781, 0.06177181191335804, 0.06176470618737659, 0.06175763648486695, 0.06175060249465348, 0.06174360390935073, 0.06173664042530394, 0.06172971174253074, 0.061722817564663884, 0.06171595759889506, 0.0617091315559199, 0.06170233914988385, 0.06169558009832924, 0.06168885412214318, 0.06168216094550655, 0.061675500295843906, 0.06166887190377433, 0.061662275503063135, 0.061655710830574514, 0.06164917762622508, 0.06164267563293818, 0.061636204596599166, 0.061629764266011286, 0.061623354392852624, 0.061616974731633634, 0.06161062503965545, 0.06160430507696908, 0.061598014606335225, 0.061591753393184775, 0.061585521205580106, 0.06157931781417706, 0.061573142992187524, 0.06156699651534268, 0.061560878161857, 0.061554787712392735, 0.06154872495002514, 0.06154268966020817, 0.061536681630741004, 0.06153070065173481, 0.06152474651558037, 0.06151881901691622, 0.06151291795259714, 0.06150704312166342, 0.061501194325310475, 0.061495371366859154, 0.061489574051726295, 0.06148380218739605, 0.061478055583391526, 0.06147233405124692, 0.061466637404480155, 0.06146096545856601, 0.061455318030909555, 0.061449694940820164, 0.06144409600948593, 0.06143852105994844, 0.061432969917077994, 0.061427442407549285, 0.06142193835981738, 0.06141645760409419, 0.06141099997232517, 0.06140556529816669, 0.06140015341696329, 0.061394764165725875, 0.0613893973831098, 0.06138405290939347, 0.0613787305864574, 0.0613734302577634, 0.06136815176833421, 0.06136289496473339, 0.06135765969504564, 0.06135244580885732, 0.061347253157237235, 0.06134208159271794, 0.061336930969277045, 0.061331801142319065, 0.061326691968657324, 0.06132160330649637, 0.061316535015414474, 0.06131148695634647, 0.061306458991566865, 0.06130145098467321, 0.06129646280056969, 0.061291494305450944, 0.06128654536678628, 0.06128161585330387, 0.06127670563497544, 0.061271814583001044, 0.061266942569794036, 0.061262089468966434, 0.06125725515531433, 0.061252439504803594, 0.06124764239455577, 0.061242863702834195, 0.061238103309030345, 0.06123336109365032, 0.061228636938301495, 0.06122393072567958, 0.061219242339555585, 0.06121457166476314, 0.06120991858718601, 0.06120528299374567, 0.0612006647723892, 0.06119606381207723, 0.06119148000277215, 0.06118691323542645, 0.06118236340197122, 0.06117783039530481, 0.0611733141092817, 0.06116881443870145, 0.06116433127929782, 0.06115986452772821, 0.061155414081562914, 0.061150979839274804, 0.06114656170022916, 0.061142159564673365, 0.061137773333727094, 0.06113340290937238, 0.061129048194443966, 0.061124709092619675, 0.06112038550841104, 0.06111607734715397, 0.06111178451499952, 0.061107506918904896, 0.06110324446662454, 0.06109899706670124, 0.06109476462845748, 0.061090547061986876, 0.06108634427814571, 0.06108215618854453, 0.06107798270554004, 0.06107382374222683, 0.06106967921242945, 0.06106554903069448, 0.06106143311228271, 0.06105733137316148, 0.061053243729997, 0.06104917010014695, 0.06104511040165299, 0.06104106455323349, 0.06103703247427638, 0.06103301408483194, 0.06102900930560579, 0.06102501805795203, 0.06102104026386635, 0.06101707584597928, 0.061013124727549474, 0.06100918683245725, 0.06100526208519796, 0.06100135041087571, 0.0609974517351969, 0.06099356598446406, 0.060989693085569625, 0.060985832965989896, 0.06098198555377898, 0.06097815077756288, 0.06097432856653357, 0.06097051885044329, 0.06096672155959879, 0.060962936624855656, 0.060959163977612724, 0.060955403549806664, 0.06095165527390639, 0.06094791908290788, 0.0609441949103287, 0.06094048269020283, 0.060936782357075475, 0.060933093845997995, 0.06092941709252281, 0.06092575203269841, 0.06092209860306447, 0.0609184567406469, 0.06091482638295316, 0.06091120746796738, 0.06090759993414577, 0.06090400372041188, 0.060900418766152174, 0.06089684501121131, 0.06089328239588782, 0.06088973086092963, 0.06088619034752969, 0.06088266079732171, 0.060879142152375824, 0.06087563435519441, 0.06087213734870797, 0.060868651076270944, 0.060865175481657714, 0.06086171050905853, 0.06085825610307555, 0.06085481220871895, 0.06085137877140304, 0.060847955736942405, 0.0608445430515481, 0.06084114066182397, 0.06083774851476289, 0.06083436655774316, 0.06083099473852482, 0.06082763300524613, 0.060824281306420015, 0.06082093959093061, 0.060817607808029715, 0.060814285907333475, 0.06081097383881896, 0.06080767155282084, 0.06080437900002806, 0.060801096131480645, 0.060797822898566375, 0.060794559253017674, 0.06079130514690847, 0.06078806053265097, 0.060784825362992685, 0.06078159959101335, 0.06077838317012187, 0.06077517605405343, 0.06077197819686643, 0.060768789552939656, 0.06076561007696935, 0.0607624397239664, 0.060759278449253495, 0.060756126208462304, 0.060752982957530795, 0.060749848652700424, 0.060746723250513515, 0.060743606707810496, 0.06074049898172738, 0.06073740002969301, 0.06073430980942661, 0.060731228278935144, 0.060728155396510844, 0.060725091120728616, 0.060722035410443694, 0.0607189882247891, 0.06071594952317326, 0.06071291926527758, 0.06070989741105413, 0.060706883920723195, 0.060703878754771116, 0.06070088187394784, 0.06069789323926475, 0.060694912811992324, 0.06069194055365803, 0.06068897642604403, 0.06068602039118503, 0.06068307241136616, 0.060680132449120766, 0.06067720046722842, 0.06067427642871269, 0.060671360296839186, 0.060668452035113445, 0.06066555160727897, 0.06066265897731516, 0.0606597741094354, 0.06065689696808502, 0.060654027517939406, 0.06065116572390212, 0.060648311551102875, 0.06064546496489574, 0.06064262593085731, 0.06063979441478473, 0.060636970382694035, 0.060634153800818213, 0.06063134463560547, 0.060628542853717424, 0.06062574842202745, 0.060622961307618815, 0.06062018147778305, 0.0606174089000182, 0.060614643542027176, 0.06061188537171607, 0.06060913435719249, 0.060606390466763985, 0.060603653668936316, 0.060600923932411996, 0.0605982012260886, 0.06059548551905721, 0.06059277678060091, 0.06059007498019321, 0.060587380087496506, 0.06058469207236061, 0.06058201090482122, 0.06057933655509848, 0.06057666899359547, 0.060574008190896804, 0.06057135411776712, 0.06056870674514975, 0.060566066044165215, 0.060563431986109924, 0.06056080454245474, 0.060558183684843565, 0.06055556938509208, 0.06055296161518635, 0.06055036034728151, 0.06054776555370041, 0.06054517720693236, 0.0605425952796318, 0.06054001974461709, 0.0605374505748691, 0.06053488774353013, 0.06053233122390251, 0.06052978098944749, 0.06052723701378394, 0.06052469927068716, 0.06052216773408772, 0.06051964237807021, 0.06051712317687214, 0.06051461010488268, 0.060512103136641605, 0.06050960224683808, 0.060507107410309555, 0.06050461860204066, 0.06050213579716209, 0.06049965897094945, 0.060497188098822215, 0.060494723156342675, 0.060492264119214795, 0.060489810963283194, 0.0604873636645321, 0.06048492219908425, 0.060482486543199966, 0.06048005667327606, 0.060477632565844784, 0.060475214197572895, 0.060472801545260677, 0.06047039458584086, 0.06046799329637771, 0.060465597654066075, 0.060463207636230365, 0.06046082322032367, 0.06045844438392676, 0.06045607110474717, 0.060453703360618276, 0.060451341129498404, 0.0604489843894699, 0.060446633118738186, 0.060444287295630936, 0.06044194689859714, 0.06043961190620629, 0.06043728229714742, 0.06043495805022834, 0.06043263914437469, 0.060430325558629164, 0.06042801727215066, 0.0604257142642134, 0.06042341651420614, 0.060421124001631396, 0.060418836706104526, 0.06041655460735306, 0.06041427768521579, 0.06041200591964201, 0.060409739290690795, 0.06040747777853016, 0.06040522136343629, 0.06040297002579283, 0.06040072374609009, 0.0603984825049243, 0.06039624628299688, 0.06039401506111365, 0.06039178882018419, 0.060389567541221094, 0.060387351205339175, 0.060385139793754844, 0.060382933287785344, 0.060380731668848074, 0.06037853491845996, 0.060376343018236606, 0.0603741559498918, 0.060371973695236704, 0.06036979623617921, 0.06036762355472336, 0.060365455632968565, 0.06036329245310903, 0.06036113399743307, 0.0603589802483225, 0.060356831188252, 0.060354686799788386, 0.060352547065590144]}, {\"marker\": {\"color\": \"#E45756\", \"opacity\": 0.6}, \"mode\": \"markers+text\", \"name\": \"Clusters\", \"text\": [\"\", \"\", \"\", \"\", \"\", \"\", \"\", \"\", \"\", \"\", \"\", \"\", \"\", \"\", \"\", \"\", \"\", \"\", \"\", \"\", \"\", \"\", \"\", \"\", \"\", \"\", \"\", \"\", \"\", \"\", \"\", \"\", \"\", \"\", \"\", \"\", \"\", \"\", \"\", \"\"], \"type\": \"scatter\", \"x\": [668.0329282930342, 219.76773491411524, 202.4068578427086, 190.4577720410754, 144.13021853777647, 136.6930429538879, 132.42959074854505, 131.13849711677543, 111.56214584848043, 99.6317507241822, 69.67495637871511, 67.81125888158945, 67.52774389526392, 54.28773548115512, 46.952180651302314, 42.86124067092614, 40.05200338985433, 39.38213690463626, 36.535932212288344, 35.42531626357904, 32.039381417057356, 31.869331943921388, 30.974377983192607, 27.042308852008944, 21.799738570967776, 20.575192180598467, 20.12167959321506, 16.251806310107423, 12.12595529723505, 10.675142085418226, 9.941487278279613, 9.244354739350355, 7.093654741383282, 6.4989137475674985, 3.508681650995655, 3.381277660965778, 2.8145867769072326, 2.658789573072471, 2.3946914593806703, 0.6229179544357227], \"y\": [0.060313713061996906, 0.062246152324321596, 0.0624273207825607, 0.06256528030931859, 0.06324326112185986, 0.06338117120617781, 0.06346510533153922, 0.06349127932963936, 0.0639388320438596, 0.06427016267237705, 0.06542592596473136, 0.06552072546149627, 0.06553547008617615, 0.06634007808625604, 0.06691717328893228, 0.06729782127054812, 0.06759040995668279, 0.06766450323706077, 0.06800044576046879, 0.06814177688375969, 0.06861456815947016, 0.06864017212898703, 0.06877819103193647, 0.06945915461950193, 0.0706232293192493, 0.07095392294129967, 0.07108358826786769, 0.07239026488457054, 0.07438608579890758, 0.07533565071807578, 0.0758892882536912, 0.07647239939189157, 0.07875829889879656, 0.07957394628046541, 0.08629837745379124, 0.08676360505732081, 0.08918930341657791, 0.08998431039304379, 0.09149987070259485, 0.11948030238644204]}],                        {\"annotations\": [{\"align\": \"center\", \"arrowcolor\": \"#636363\", \"arrowhead\": 2, \"arrowside\": \"none\", \"arrowsize\": 1, \"arrowwidth\": 1, \"ax\": 20, \"ay\": -5, \"font\": {\"size\": 10}, \"opacity\": 0.5, \"showarrow\": true, \"text\": \"0\", \"x\": 668.0329282930342, \"xref\": \"x\", \"xshift\": 2.9104275004359956, \"y\": 0.060313713061996906, \"yref\": \"y\", \"yshift\": 0.7276068751089989}, {\"align\": \"center\", \"arrowcolor\": \"#636363\", \"arrowhead\": 2, \"arrowside\": \"none\", \"arrowsize\": 1, \"arrowwidth\": 1, \"ax\": 20, \"ay\": -40, \"font\": {\"size\": 10}, \"opacity\": 0.5, \"showarrow\": true, \"text\": \"34\", \"x\": 219.76773491411524, \"xref\": \"x\", \"xshift\": 1.3416407864998738, \"y\": 0.062246152324321596, \"yref\": \"y\", \"yshift\": 2.6832815729997477}, {\"align\": \"center\", \"arrowcolor\": \"#636363\", \"arrowhead\": 2, \"arrowside\": \"none\", \"arrowsize\": 1, \"arrowwidth\": 1, \"ax\": -10, \"ay\": 20, \"font\": {\"size\": 10}, \"opacity\": 0.5, \"showarrow\": true, \"text\": \"7\", \"x\": 202.4068578427086, \"xref\": \"x\", \"xshift\": -1.3416407864998738, \"y\": 0.0624273207825607, \"yref\": \"y\", \"yshift\": -2.6832815729997477}, {\"align\": \"center\", \"arrowcolor\": \"#636363\", \"arrowhead\": 2, \"arrowside\": \"none\", \"arrowsize\": 1, \"arrowwidth\": 1, \"ax\": 10, \"ay\": -20, \"font\": {\"size\": 10}, \"opacity\": 0.5, \"showarrow\": true, \"text\": \"14\", \"x\": 190.4577720410754, \"xref\": \"x\", \"xshift\": 1.3416407864998738, \"y\": 0.06256528030931859, \"yref\": \"y\", \"yshift\": 2.6832815729997477}, {\"align\": \"center\", \"arrowcolor\": \"#636363\", \"arrowhead\": 2, \"arrowside\": \"none\", \"arrowsize\": 1, \"arrowwidth\": 1, \"ax\": 5, \"ay\": 20, \"font\": {\"size\": 10}, \"opacity\": 0.5, \"showarrow\": true, \"text\": \"31\", \"x\": 144.13021853777647, \"xref\": \"x\", \"xshift\": 0.7276068751089989, \"y\": 0.06324326112185986, \"yref\": \"y\", \"yshift\": -2.9104275004359956}, {\"align\": \"center\", \"arrowcolor\": \"#636363\", \"arrowhead\": 2, \"arrowside\": \"none\", \"arrowsize\": 1, \"arrowwidth\": 1, \"ax\": 10, \"ay\": -20, \"font\": {\"size\": 10}, \"opacity\": 0.5, \"showarrow\": true, \"text\": \"15\", \"x\": 136.6930429538879, \"xref\": \"x\", \"xshift\": 1.3416407864998738, \"y\": 0.06338117120617781, \"yref\": \"y\", \"yshift\": 2.6832815729997477}, {\"align\": \"center\", \"arrowcolor\": \"#636363\", \"arrowhead\": 2, \"arrowside\": \"none\", \"arrowsize\": 1, \"arrowwidth\": 1, \"ax\": -35, \"ay\": 1, \"font\": {\"size\": 10}, \"opacity\": 0.5, \"showarrow\": true, \"text\": \"32\", \"x\": 132.42959074854505, \"xref\": \"x\", \"xshift\": -2.998776259382084, \"y\": 0.06346510533153922, \"yref\": \"y\", \"yshift\": -0.08567932169663096}, {\"align\": \"center\", \"arrowcolor\": \"#636363\", \"arrowhead\": 2, \"arrowside\": \"none\", \"arrowsize\": 1, \"arrowwidth\": 1, \"ax\": 10, \"ay\": -20, \"font\": {\"size\": 10}, \"opacity\": 0.5, \"showarrow\": true, \"text\": \"2\", \"x\": 131.13849711677543, \"xref\": \"x\", \"xshift\": 1.3416407864998738, \"y\": 0.06349127932963936, \"yref\": \"y\", \"yshift\": 2.6832815729997477}, {\"align\": \"center\", \"arrowcolor\": \"#636363\", \"arrowhead\": 2, \"arrowside\": \"none\", \"arrowsize\": 1, \"arrowwidth\": 1, \"ax\": 15, \"ay\": -20, \"font\": {\"size\": 10}, \"opacity\": 0.5, \"showarrow\": true, \"text\": \"16\", \"x\": 111.56214584848043, \"xref\": \"x\", \"xshift\": 1.7999999999999998, \"y\": 0.0639388320438596, \"yref\": \"y\", \"yshift\": 2.4}, {\"align\": \"center\", \"arrowcolor\": \"#636363\", \"arrowhead\": 2, \"arrowside\": \"none\", \"arrowsize\": 1, \"arrowwidth\": 1, \"ax\": 25, \"ay\": -35, \"font\": {\"size\": 10}, \"opacity\": 0.5, \"showarrow\": true, \"text\": \"27\", \"x\": 99.6317507241822, \"xref\": \"x\", \"xshift\": 1.7437145811572892, \"y\": 0.06427016267237705, \"yref\": \"y\", \"yshift\": 2.441200413620205}, {\"align\": \"center\", \"arrowcolor\": \"#636363\", \"arrowhead\": 2, \"arrowside\": \"none\", \"arrowsize\": 1, \"arrowwidth\": 1, \"ax\": -15, \"ay\": 30, \"font\": {\"size\": 10}, \"opacity\": 0.5, \"showarrow\": true, \"text\": \"29\", \"x\": 69.67495637871511, \"xref\": \"x\", \"xshift\": -1.3416407864998738, \"y\": 0.06542592596473136, \"yref\": \"y\", \"yshift\": -2.6832815729997477}, {\"align\": \"center\", \"arrowcolor\": \"#636363\", \"arrowhead\": 2, \"arrowside\": \"none\", \"arrowsize\": 1, \"arrowwidth\": 1, \"ax\": 20, \"ay\": -20, \"font\": {\"size\": 10}, \"opacity\": 0.5, \"showarrow\": true, \"text\": \"9\", \"x\": 67.81125888158945, \"xref\": \"x\", \"xshift\": 2.1213203435596424, \"y\": 0.06552072546149627, \"yref\": \"y\", \"yshift\": 2.1213203435596424}, {\"align\": \"center\", \"arrowcolor\": \"#636363\", \"arrowhead\": 2, \"arrowside\": \"none\", \"arrowsize\": 1, \"arrowwidth\": 1, \"ax\": -15, \"ay\": -10, \"font\": {\"size\": 10}, \"opacity\": 0.5, \"showarrow\": true, \"text\": \"6\", \"x\": 67.52774389526392, \"xref\": \"x\", \"xshift\": -2.496150883013531, \"y\": 0.06553547008617615, \"yref\": \"y\", \"yshift\": 1.6641005886756874}, {\"align\": \"center\", \"arrowcolor\": \"#636363\", \"arrowhead\": 2, \"arrowside\": \"none\", \"arrowsize\": 1, \"arrowwidth\": 1, \"ax\": 18, \"ay\": 20, \"font\": {\"size\": 10}, \"opacity\": 0.5, \"showarrow\": true, \"text\": \"30\", \"x\": 54.28773548115512, \"xref\": \"x\", \"xshift\": 2.006894194867349, \"y\": 0.06634007808625604, \"yref\": \"y\", \"yshift\": -2.2298824387414986}, {\"align\": \"center\", \"arrowcolor\": \"#636363\", \"arrowhead\": 2, \"arrowside\": \"none\", \"arrowsize\": 1, \"arrowwidth\": 1, \"ax\": 10, \"ay\": -20, \"font\": {\"size\": 10}, \"opacity\": 0.5, \"showarrow\": true, \"text\": \"11\", \"x\": 46.952180651302314, \"xref\": \"x\", \"xshift\": 1.3416407864998738, \"y\": 0.06691717328893228, \"yref\": \"y\", \"yshift\": 2.6832815729997477}, {\"align\": \"center\", \"arrowcolor\": \"#636363\", \"arrowhead\": 2, \"arrowside\": \"none\", \"arrowsize\": 1, \"arrowwidth\": 1, \"ax\": -15, \"ay\": 25, \"font\": {\"size\": 10}, \"opacity\": 0.5, \"showarrow\": true, \"text\": \"20\", \"x\": 42.86124067092614, \"xref\": \"x\", \"xshift\": -1.5434872662825794, \"y\": 0.06729782127054812, \"yref\": \"y\", \"yshift\": -2.5724787771376327}, {\"align\": \"center\", \"arrowcolor\": \"#636363\", \"arrowhead\": 2, \"arrowside\": \"none\", \"arrowsize\": 1, \"arrowwidth\": 1, \"ax\": 18, \"ay\": -20, \"font\": {\"size\": 10}, \"opacity\": 0.5, \"showarrow\": true, \"text\": \"25\", \"x\": 40.05200338985433, \"xref\": \"x\", \"xshift\": 2.006894194867349, \"y\": 0.06759040995668279, \"yref\": \"y\", \"yshift\": 2.2298824387414986}, {\"align\": \"center\", \"arrowcolor\": \"#636363\", \"arrowhead\": 2, \"arrowside\": \"none\", \"arrowsize\": 1, \"arrowwidth\": 1, \"ax\": -20, \"ay\": -20, \"font\": {\"size\": 10}, \"opacity\": 0.5, \"showarrow\": true, \"text\": \"36\", \"x\": 39.38213690463626, \"xref\": \"x\", \"xshift\": -2.1213203435596424, \"y\": 0.06766450323706077, \"yref\": \"y\", \"yshift\": 2.1213203435596424}, {\"align\": \"center\", \"arrowcolor\": \"#636363\", \"arrowhead\": 2, \"arrowside\": \"none\", \"arrowsize\": 1, \"arrowwidth\": 1, \"ax\": -10, \"ay\": -20, \"font\": {\"size\": 10}, \"opacity\": 0.5, \"showarrow\": true, \"text\": \"24\", \"x\": 36.535932212288344, \"xref\": \"x\", \"xshift\": -1.3416407864998738, \"y\": 0.06800044576046879, \"yref\": \"y\", \"yshift\": 2.6832815729997477}, {\"align\": \"center\", \"arrowcolor\": \"#636363\", \"arrowhead\": 2, \"arrowside\": \"none\", \"arrowsize\": 1, \"arrowwidth\": 1, \"ax\": -25, \"ay\": -5, \"font\": {\"size\": 10}, \"opacity\": 0.5, \"showarrow\": true, \"text\": \"35\", \"x\": 35.42531626357904, \"xref\": \"x\", \"xshift\": -2.94174202707276, \"y\": 0.06814177688375969, \"yref\": \"y\", \"yshift\": 0.5883484054145521}, {\"align\": \"center\", \"arrowcolor\": \"#636363\", \"arrowhead\": 2, \"arrowside\": \"none\", \"arrowsize\": 1, \"arrowwidth\": 1, \"ax\": -30, \"ay\": 10, \"font\": {\"size\": 10}, \"opacity\": 0.5, \"showarrow\": true, \"text\": \"19\", \"x\": 32.039381417057356, \"xref\": \"x\", \"xshift\": -2.846049894151541, \"y\": 0.06861456815947016, \"yref\": \"y\", \"yshift\": -0.9486832980505138}, {\"align\": \"center\", \"arrowcolor\": \"#636363\", \"arrowhead\": 2, \"arrowside\": \"none\", \"arrowsize\": 1, \"arrowwidth\": 1, \"ax\": -5, \"ay\": 20, \"font\": {\"size\": 10}, \"opacity\": 0.5, \"showarrow\": true, \"text\": \"39\", \"x\": 31.869331943921388, \"xref\": \"x\", \"xshift\": -0.7276068751089989, \"y\": 0.06864017212898703, \"yref\": \"y\", \"yshift\": -2.9104275004359956}, {\"align\": \"center\", \"arrowcolor\": \"#636363\", \"arrowhead\": 2, \"arrowside\": \"none\", \"arrowsize\": 1, \"arrowwidth\": 1, \"ax\": 10, \"ay\": -20, \"font\": {\"size\": 10}, \"opacity\": 0.5, \"showarrow\": true, \"text\": \"13\", \"x\": 30.974377983192607, \"xref\": \"x\", \"xshift\": 1.3416407864998738, \"y\": 0.06877819103193647, \"yref\": \"y\", \"yshift\": 2.6832815729997477}, {\"align\": \"center\", \"arrowcolor\": \"#636363\", \"arrowhead\": 2, \"arrowside\": \"none\", \"arrowsize\": 1, \"arrowwidth\": 1, \"ax\": -28, \"ay\": 18, \"font\": {\"size\": 10}, \"opacity\": 0.5, \"showarrow\": true, \"text\": \"37\", \"x\": 27.042308852008944, \"xref\": \"x\", \"xshift\": -2.5235354261296603, \"y\": 0.06945915461950193, \"yref\": \"y\", \"yshift\": -1.622272773940496}, {\"align\": \"center\", \"arrowcolor\": \"#636363\", \"arrowhead\": 2, \"arrowside\": \"none\", \"arrowsize\": 1, \"arrowwidth\": 1, \"ax\": -15, \"ay\": 10, \"font\": {\"size\": 10}, \"opacity\": 0.5, \"showarrow\": true, \"text\": \"4\", \"x\": 21.799738570967776, \"xref\": \"x\", \"xshift\": -2.496150883013531, \"y\": 0.0706232293192493, \"yref\": \"y\", \"yshift\": -1.6641005886756874}, {\"align\": \"center\", \"arrowcolor\": \"#636363\", \"arrowhead\": 2, \"arrowside\": \"none\", \"arrowsize\": 1, \"arrowwidth\": 1, \"ax\": 30, \"ay\": -30, \"font\": {\"size\": 10}, \"opacity\": 0.5, \"showarrow\": true, \"text\": \"18\", \"x\": 20.575192180598467, \"xref\": \"x\", \"xshift\": 2.1213203435596424, \"y\": 0.07095392294129967, \"yref\": \"y\", \"yshift\": 2.1213203435596424}, {\"align\": \"center\", \"arrowcolor\": \"#636363\", \"arrowhead\": 2, \"arrowside\": \"none\", \"arrowsize\": 1, \"arrowwidth\": 1, \"ax\": 5, \"ay\": -20, \"font\": {\"size\": 10}, \"opacity\": 0.5, \"showarrow\": true, \"text\": \"3\", \"x\": 20.12167959321506, \"xref\": \"x\", \"xshift\": 0.7276068751089989, \"y\": 0.07108358826786769, \"yref\": \"y\", \"yshift\": 2.9104275004359956}, {\"align\": \"center\", \"arrowcolor\": \"#636363\", \"arrowhead\": 2, \"arrowside\": \"none\", \"arrowsize\": 1, \"arrowwidth\": 1, \"ax\": 20, \"ay\": 5, \"font\": {\"size\": 10}, \"opacity\": 0.5, \"showarrow\": true, \"text\": \"5\", \"x\": 16.251806310107423, \"xref\": \"x\", \"xshift\": 2.9104275004359956, \"y\": 0.07239026488457054, \"yref\": \"y\", \"yshift\": -0.7276068751089989}, {\"align\": \"center\", \"arrowcolor\": \"#636363\", \"arrowhead\": 2, \"arrowside\": \"none\", \"arrowsize\": 1, \"arrowwidth\": 1, \"ax\": -20, \"ay\": -10, \"font\": {\"size\": 10}, \"opacity\": 0.5, \"showarrow\": true, \"text\": \"28\", \"x\": 12.12595529723505, \"xref\": \"x\", \"xshift\": -2.6832815729997477, \"y\": 0.07438608579890758, \"yref\": \"y\", \"yshift\": 1.3416407864998738}, {\"align\": \"center\", \"arrowcolor\": \"#636363\", \"arrowhead\": 2, \"arrowside\": \"none\", \"arrowsize\": 1, \"arrowwidth\": 1, \"ax\": 40, \"ay\": -40, \"font\": {\"size\": 10}, \"opacity\": 0.5, \"showarrow\": true, \"text\": \"10\", \"x\": 10.675142085418226, \"xref\": \"x\", \"xshift\": 2.1213203435596424, \"y\": 0.07533565071807578, \"yref\": \"y\", \"yshift\": 2.1213203435596424}, {\"align\": \"center\", \"arrowcolor\": \"#636363\", \"arrowhead\": 2, \"arrowside\": \"none\", \"arrowsize\": 1, \"arrowwidth\": 1, \"ax\": -25, \"ay\": -20, \"font\": {\"size\": 10}, \"opacity\": 0.5, \"showarrow\": true, \"text\": \"22\", \"x\": 9.941487278279613, \"xref\": \"x\", \"xshift\": -2.342606428329091, \"y\": 0.0758892882536912, \"yref\": \"y\", \"yshift\": 1.8740851426632728}, {\"align\": \"center\", \"arrowcolor\": \"#636363\", \"arrowhead\": 2, \"arrowside\": \"none\", \"arrowsize\": 1, \"arrowwidth\": 1, \"ax\": 25, \"ay\": -25, \"font\": {\"size\": 10}, \"opacity\": 0.5, \"showarrow\": true, \"text\": \"23\", \"x\": 9.244354739350355, \"xref\": \"x\", \"xshift\": 2.1213203435596424, \"y\": 0.07647239939189157, \"yref\": \"y\", \"yshift\": 2.1213203435596424}, {\"align\": \"center\", \"arrowcolor\": \"#636363\", \"arrowhead\": 2, \"arrowside\": \"none\", \"arrowsize\": 1, \"arrowwidth\": 1, \"ax\": 10, \"ay\": 20, \"font\": {\"size\": 10}, \"opacity\": 0.5, \"showarrow\": true, \"text\": \"8\", \"x\": 7.093654741383282, \"xref\": \"x\", \"xshift\": 1.3416407864998738, \"y\": 0.07875829889879656, \"yref\": \"y\", \"yshift\": -2.6832815729997477}, {\"align\": \"center\", \"arrowcolor\": \"#636363\", \"arrowhead\": 2, \"arrowside\": \"none\", \"arrowsize\": 1, \"arrowwidth\": 1, \"ax\": 10, \"ay\": -20, \"font\": {\"size\": 10}, \"opacity\": 0.5, \"showarrow\": true, \"text\": \"21\", \"x\": 6.4989137475674985, \"xref\": \"x\", \"xshift\": 1.3416407864998738, \"y\": 0.07957394628046541, \"yref\": \"y\", \"yshift\": 2.6832815729997477}, {\"align\": \"center\", \"arrowcolor\": \"#636363\", \"arrowhead\": 2, \"arrowside\": \"none\", \"arrowsize\": 1, \"arrowwidth\": 1, \"ax\": -30, \"ay\": 25, \"font\": {\"size\": 10}, \"opacity\": 0.5, \"showarrow\": true, \"text\": \"12\", \"x\": 3.508681650995655, \"xref\": \"x\", \"xshift\": -2.3046638387921274, \"y\": 0.08629837745379124, \"yref\": \"y\", \"yshift\": -1.9205531989934397}, {\"align\": \"center\", \"arrowcolor\": \"#636363\", \"arrowhead\": 2, \"arrowside\": \"none\", \"arrowsize\": 1, \"arrowwidth\": 1, \"ax\": 10, \"ay\": -20, \"font\": {\"size\": 10}, \"opacity\": 0.5, \"showarrow\": true, \"text\": \"38\", \"x\": 3.381277660965778, \"xref\": \"x\", \"xshift\": 1.3416407864998738, \"y\": 0.08676360505732081, \"yref\": \"y\", \"yshift\": 2.6832815729997477}, {\"align\": \"center\", \"arrowcolor\": \"#636363\", \"arrowhead\": 2, \"arrowside\": \"none\", \"arrowsize\": 1, \"arrowwidth\": 1, \"ax\": 5, \"ay\": 20, \"font\": {\"size\": 10}, \"opacity\": 0.5, \"showarrow\": true, \"text\": \"26\", \"x\": 2.8145867769072326, \"xref\": \"x\", \"xshift\": 0.7276068751089989, \"y\": 0.08918930341657791, \"yref\": \"y\", \"yshift\": -2.9104275004359956}, {\"align\": \"center\", \"arrowcolor\": \"#636363\", \"arrowhead\": 2, \"arrowside\": \"none\", \"arrowsize\": 1, \"arrowwidth\": 1, \"ax\": 40, \"ay\": -50, \"font\": {\"size\": 10}, \"opacity\": 0.5, \"showarrow\": true, \"text\": \"17\", \"x\": 2.658789573072471, \"xref\": \"x\", \"xshift\": 1.8740851426632728, \"y\": 0.08998431039304379, \"yref\": \"y\", \"yshift\": 2.342606428329091}, {\"align\": \"center\", \"arrowcolor\": \"#636363\", \"arrowhead\": 2, \"arrowside\": \"none\", \"arrowsize\": 1, \"arrowwidth\": 1, \"ax\": -20, \"ay\": -15, \"font\": {\"size\": 10}, \"opacity\": 0.5, \"showarrow\": true, \"text\": \"33\", \"x\": 2.3946914593806703, \"xref\": \"x\", \"xshift\": -2.4, \"y\": 0.09149987070259485, \"yref\": \"y\", \"yshift\": 1.7999999999999998}, {\"align\": \"center\", \"arrowcolor\": \"#636363\", \"arrowhead\": 2, \"arrowside\": \"none\", \"arrowsize\": 1, \"arrowwidth\": 1, \"ax\": 10, \"ay\": -20, \"font\": {\"size\": 10}, \"opacity\": 0.5, \"showarrow\": true, \"text\": \"1\", \"x\": 0.6229179544357227, \"xref\": \"x\", \"xshift\": 1.3416407864998738, \"y\": 0.11948030238644204, \"yref\": \"y\", \"yshift\": 2.6832815729997477}], \"legend\": {\"orientation\": \"h\", \"x\": 0.5, \"xanchor\": \"center\", \"y\": -0.15, \"yanchor\": \"top\"}, \"margin\": {\"b\": 0, \"l\": 0, \"r\": 0, \"t\": 30}, \"template\": {\"data\": {\"bar\": [{\"error_x\": {\"color\": \"#2a3f5f\"}, \"error_y\": {\"color\": \"#2a3f5f\"}, \"marker\": {\"line\": {\"color\": \"white\", \"width\": 0.5}}, \"type\": \"bar\"}], \"barpolar\": [{\"marker\": {\"line\": {\"color\": \"white\", \"width\": 0.5}}, \"type\": \"barpolar\"}], \"carpet\": [{\"aaxis\": {\"endlinecolor\": \"#2a3f5f\", \"gridcolor\": \"#C8D4E3\", \"linecolor\": \"#C8D4E3\", \"minorgridcolor\": \"#C8D4E3\", \"startlinecolor\": \"#2a3f5f\"}, \"baxis\": {\"endlinecolor\": \"#2a3f5f\", \"gridcolor\": \"#C8D4E3\", \"linecolor\": \"#C8D4E3\", \"minorgridcolor\": \"#C8D4E3\", \"startlinecolor\": \"#2a3f5f\"}, \"type\": \"carpet\"}], \"choropleth\": [{\"colorbar\": {\"outlinewidth\": 0, \"ticks\": \"\"}, \"type\": \"choropleth\"}], \"contour\": [{\"colorbar\": {\"outlinewidth\": 0, \"ticks\": \"\"}, \"colorscale\": [[0.0, \"#0d0887\"], [0.1111111111111111, \"#46039f\"], [0.2222222222222222, \"#7201a8\"], [0.3333333333333333, \"#9c179e\"], [0.4444444444444444, \"#bd3786\"], [0.5555555555555556, \"#d8576b\"], [0.6666666666666666, \"#ed7953\"], [0.7777777777777778, \"#fb9f3a\"], [0.8888888888888888, \"#fdca26\"], [1.0, \"#f0f921\"]], \"type\": \"contour\"}], \"contourcarpet\": [{\"colorbar\": {\"outlinewidth\": 0, \"ticks\": \"\"}, \"type\": \"contourcarpet\"}], \"heatmap\": [{\"colorbar\": {\"outlinewidth\": 0, \"ticks\": \"\"}, \"colorscale\": [[0.0, \"#0d0887\"], [0.1111111111111111, \"#46039f\"], [0.2222222222222222, \"#7201a8\"], [0.3333333333333333, \"#9c179e\"], [0.4444444444444444, \"#bd3786\"], [0.5555555555555556, \"#d8576b\"], [0.6666666666666666, \"#ed7953\"], [0.7777777777777778, \"#fb9f3a\"], [0.8888888888888888, \"#fdca26\"], [1.0, \"#f0f921\"]], \"type\": \"heatmap\"}], \"heatmapgl\": [{\"colorbar\": {\"outlinewidth\": 0, \"ticks\": \"\"}, \"colorscale\": [[0.0, \"#0d0887\"], [0.1111111111111111, \"#46039f\"], [0.2222222222222222, \"#7201a8\"], [0.3333333333333333, \"#9c179e\"], [0.4444444444444444, \"#bd3786\"], [0.5555555555555556, \"#d8576b\"], [0.6666666666666666, \"#ed7953\"], [0.7777777777777778, \"#fb9f3a\"], [0.8888888888888888, \"#fdca26\"], [1.0, \"#f0f921\"]], \"type\": \"heatmapgl\"}], \"histogram\": [{\"marker\": {\"colorbar\": {\"outlinewidth\": 0, \"ticks\": \"\"}}, \"type\": \"histogram\"}], \"histogram2d\": [{\"colorbar\": {\"outlinewidth\": 0, \"ticks\": \"\"}, \"colorscale\": [[0.0, \"#0d0887\"], [0.1111111111111111, \"#46039f\"], [0.2222222222222222, \"#7201a8\"], [0.3333333333333333, \"#9c179e\"], [0.4444444444444444, \"#bd3786\"], [0.5555555555555556, \"#d8576b\"], [0.6666666666666666, \"#ed7953\"], [0.7777777777777778, \"#fb9f3a\"], [0.8888888888888888, \"#fdca26\"], [1.0, \"#f0f921\"]], \"type\": \"histogram2d\"}], \"histogram2dcontour\": [{\"colorbar\": {\"outlinewidth\": 0, \"ticks\": \"\"}, \"colorscale\": [[0.0, \"#0d0887\"], [0.1111111111111111, \"#46039f\"], [0.2222222222222222, \"#7201a8\"], [0.3333333333333333, \"#9c179e\"], [0.4444444444444444, \"#bd3786\"], [0.5555555555555556, \"#d8576b\"], [0.6666666666666666, \"#ed7953\"], [0.7777777777777778, \"#fb9f3a\"], [0.8888888888888888, \"#fdca26\"], [1.0, \"#f0f921\"]], \"type\": \"histogram2dcontour\"}], \"mesh3d\": [{\"colorbar\": {\"outlinewidth\": 0, \"ticks\": \"\"}, \"type\": \"mesh3d\"}], \"parcoords\": [{\"line\": {\"colorbar\": {\"outlinewidth\": 0, \"ticks\": \"\"}}, \"type\": \"parcoords\"}], \"pie\": [{\"automargin\": true, \"type\": \"pie\"}], \"scatter\": [{\"marker\": {\"colorbar\": {\"outlinewidth\": 0, \"ticks\": \"\"}}, \"type\": \"scatter\"}], \"scatter3d\": [{\"line\": {\"colorbar\": {\"outlinewidth\": 0, \"ticks\": \"\"}}, \"marker\": {\"colorbar\": {\"outlinewidth\": 0, \"ticks\": \"\"}}, \"type\": \"scatter3d\"}], \"scattercarpet\": [{\"marker\": {\"colorbar\": {\"outlinewidth\": 0, \"ticks\": \"\"}}, \"type\": \"scattercarpet\"}], \"scattergeo\": [{\"marker\": {\"colorbar\": {\"outlinewidth\": 0, \"ticks\": \"\"}}, \"type\": \"scattergeo\"}], \"scattergl\": [{\"marker\": {\"colorbar\": {\"outlinewidth\": 0, \"ticks\": \"\"}}, \"type\": \"scattergl\"}], \"scattermapbox\": [{\"marker\": {\"colorbar\": {\"outlinewidth\": 0, \"ticks\": \"\"}}, \"type\": \"scattermapbox\"}], \"scatterpolar\": [{\"marker\": {\"colorbar\": {\"outlinewidth\": 0, \"ticks\": \"\"}}, \"type\": \"scatterpolar\"}], \"scatterpolargl\": [{\"marker\": {\"colorbar\": {\"outlinewidth\": 0, \"ticks\": \"\"}}, \"type\": \"scatterpolargl\"}], \"scatterternary\": [{\"marker\": {\"colorbar\": {\"outlinewidth\": 0, \"ticks\": \"\"}}, \"type\": \"scatterternary\"}], \"surface\": [{\"colorbar\": {\"outlinewidth\": 0, \"ticks\": \"\"}, \"colorscale\": [[0.0, \"#0d0887\"], [0.1111111111111111, \"#46039f\"], [0.2222222222222222, \"#7201a8\"], [0.3333333333333333, \"#9c179e\"], [0.4444444444444444, \"#bd3786\"], [0.5555555555555556, \"#d8576b\"], [0.6666666666666666, \"#ed7953\"], [0.7777777777777778, \"#fb9f3a\"], [0.8888888888888888, \"#fdca26\"], [1.0, \"#f0f921\"]], \"type\": \"surface\"}], \"table\": [{\"cells\": {\"fill\": {\"color\": \"#EBF0F8\"}, \"line\": {\"color\": \"white\"}}, \"header\": {\"fill\": {\"color\": \"#C8D4E3\"}, \"line\": {\"color\": \"white\"}}, \"type\": \"table\"}]}, \"layout\": {\"annotationdefaults\": {\"arrowcolor\": \"#2a3f5f\", \"arrowhead\": 0, \"arrowwidth\": 1}, \"coloraxis\": {\"colorbar\": {\"outlinewidth\": 0, \"ticks\": \"\"}}, \"colorscale\": {\"diverging\": [[0, \"#8e0152\"], [0.1, \"#c51b7d\"], [0.2, \"#de77ae\"], [0.3, \"#f1b6da\"], [0.4, \"#fde0ef\"], [0.5, \"#f7f7f7\"], [0.6, \"#e6f5d0\"], [0.7, \"#b8e186\"], [0.8, \"#7fbc41\"], [0.9, \"#4d9221\"], [1, \"#276419\"]], \"sequential\": [[0.0, \"#0d0887\"], [0.1111111111111111, \"#46039f\"], [0.2222222222222222, \"#7201a8\"], [0.3333333333333333, \"#9c179e\"], [0.4444444444444444, \"#bd3786\"], [0.5555555555555556, \"#d8576b\"], [0.6666666666666666, \"#ed7953\"], [0.7777777777777778, \"#fb9f3a\"], [0.8888888888888888, \"#fdca26\"], [1.0, \"#f0f921\"]], \"sequentialminus\": [[0.0, \"#0d0887\"], [0.1111111111111111, \"#46039f\"], [0.2222222222222222, \"#7201a8\"], [0.3333333333333333, \"#9c179e\"], [0.4444444444444444, \"#bd3786\"], [0.5555555555555556, \"#d8576b\"], [0.6666666666666666, \"#ed7953\"], [0.7777777777777778, \"#fb9f3a\"], [0.8888888888888888, \"#fdca26\"], [1.0, \"#f0f921\"]]}, \"colorway\": [\"#636efa\", \"#EF553B\", \"#00cc96\", \"#ab63fa\", \"#FFA15A\", \"#19d3f3\", \"#FF6692\", \"#B6E880\", \"#FF97FF\", \"#FECB52\"], \"font\": {\"color\": \"#2a3f5f\"}, \"geo\": {\"bgcolor\": \"white\", \"lakecolor\": \"white\", \"landcolor\": \"white\", \"showlakes\": true, \"showland\": true, \"subunitcolor\": \"#C8D4E3\"}, \"hoverlabel\": {\"align\": \"left\"}, \"hovermode\": \"closest\", \"mapbox\": {\"style\": \"light\"}, \"paper_bgcolor\": \"white\", \"plot_bgcolor\": \"white\", \"polar\": {\"angularaxis\": {\"gridcolor\": \"#EBF0F8\", \"linecolor\": \"#EBF0F8\", \"ticks\": \"\"}, \"bgcolor\": \"white\", \"radialaxis\": {\"gridcolor\": \"#EBF0F8\", \"linecolor\": \"#EBF0F8\", \"ticks\": \"\"}}, \"scene\": {\"xaxis\": {\"backgroundcolor\": \"white\", \"gridcolor\": \"#DFE8F3\", \"gridwidth\": 2, \"linecolor\": \"#EBF0F8\", \"showbackground\": true, \"ticks\": \"\", \"zerolinecolor\": \"#EBF0F8\"}, \"yaxis\": {\"backgroundcolor\": \"white\", \"gridcolor\": \"#DFE8F3\", \"gridwidth\": 2, \"linecolor\": \"#EBF0F8\", \"showbackground\": true, \"ticks\": \"\", \"zerolinecolor\": \"#EBF0F8\"}, \"zaxis\": {\"backgroundcolor\": \"white\", \"gridcolor\": \"#DFE8F3\", \"gridwidth\": 2, \"linecolor\": \"#EBF0F8\", \"showbackground\": true, \"ticks\": \"\", \"zerolinecolor\": \"#EBF0F8\"}}, \"shapedefaults\": {\"line\": {\"color\": \"#2a3f5f\"}}, \"ternary\": {\"aaxis\": {\"gridcolor\": \"#DFE8F3\", \"linecolor\": \"#A2B1C6\", \"ticks\": \"\"}, \"baxis\": {\"gridcolor\": \"#DFE8F3\", \"linecolor\": \"#A2B1C6\", \"ticks\": \"\"}, \"bgcolor\": \"white\", \"caxis\": {\"gridcolor\": \"#DFE8F3\", \"linecolor\": \"#A2B1C6\", \"ticks\": \"\"}}, \"title\": {\"x\": 0.05}, \"xaxis\": {\"automargin\": true, \"gridcolor\": \"#EBF0F8\", \"linecolor\": \"#EBF0F8\", \"ticks\": \"\", \"title\": {\"standoff\": 15}, \"zerolinecolor\": \"#EBF0F8\", \"zerolinewidth\": 2}, \"yaxis\": {\"automargin\": true, \"gridcolor\": \"#EBF0F8\", \"linecolor\": \"#EBF0F8\", \"ticks\": \"\", \"title\": {\"standoff\": 15}, \"zerolinecolor\": \"#EBF0F8\", \"zerolinewidth\": 2}}}, \"width\": 500, \"xaxis\": {\"title\": {\"text\": \"Capacity (Mm<sup>3</sup>/y)\"}}, \"yaxis\": {\"title\": {\"text\": \"LCOW ($/m<sup>3</sup>)\"}}},                        {\"responsive\": true}                    ).then(function(){\n",
       "                            \n",
       "var gd = document.getElementById('3107ec7d-c593-4d4c-b63a-edb551ed8c34');\n",
       "var x = new MutationObserver(function (mutations, observer) {{\n",
       "        var display = window.getComputedStyle(gd).display;\n",
       "        if (!display || display === 'none') {{\n",
       "            console.log([gd, 'removed!']);\n",
       "            Plotly.purge(gd);\n",
       "            observer.disconnect();\n",
       "        }}\n",
       "}});\n",
       "\n",
       "// Listen for the removal of the full notebook cells\n",
       "var notebookContainer = gd.closest('#notebook-container');\n",
       "if (notebookContainer) {{\n",
       "    x.observe(notebookContainer, {childList: true});\n",
       "}}\n",
       "\n",
       "// Listen for the clearing of the current output cell\n",
       "var outputEl = gd.closest('.output');\n",
       "if (outputEl) {{\n",
       "    x.observe(outputEl, {childList: true});\n",
       "}}\n",
       "\n",
       "                        })                };                });            </script>        </div>"
      ]
     },
     "metadata": {},
     "output_type": "display_data"
    }
   ],
   "source": [
    "dff_ponds = dff.rename(columns={'PondSystemLCOW': 'Pond system'})\n",
    "dff_ponds = dff_ponds.sort_values('IrrigationReclaimedWater', ascending=False)\n",
    "dff_ponds['IrrigationReclaimedWater'] /= 1000000\n",
    "\n",
    "fig_ag = go.Figure()\n",
    "\n",
    "fig_ag.add_scatter(y=lcow, x=v/1000000,\n",
    "             mode='lines',\n",
    "             marker={'color': px.colors.qualitative.T10[2]},\n",
    "             name='Pond system LCOW',\n",
    "             opacity=1)\n",
    "\n",
    "fig_ag.add_scatter(x=dff_ponds['IrrigationReclaimedWater'], \n",
    "                   y=dff_ponds['Pond system'],\n",
    "                   mode='markers+text',\n",
    "                   text=['']*40,\n",
    "                   marker={'color': px.colors.qualitative.T10[2], 'opacity': 0.6},\n",
    "                   name='Clusters',\n",
    "                   )\n",
    "\n",
    "\n",
    "arrows = {0: (20, -5), 1: (10, -20), 2: (10, -20), 3: (5, -20), 4: (-15, 10),\n",
    "          5: (20, 5), 6: (-15, -10), 7: (-10, 20), 8: (10, 20), 9: (20, -20),\n",
    "          10: (40, -40), 11: (10, -20), 12: (-30, 25), 13: (10, -20), 14: (10, -20),\n",
    "          15: (10, -20), 16: (15, -20), 17: (40, -50), 18: (30, -30), 19: (-30, 10),\n",
    "          20: (-15, 25), 21: (10, -20), 22: (-25, -20), 23: (25, -25), 24: (-10, -20),\n",
    "          25: (18, -20), 26: (5, 20), 27: (25, -35), 28: (-20, -10), 29: (-15, 30),\n",
    "          30: (18, 20), 31: (5, 20), 32: (-35, 1), 33: (-20, -15), 34: (20, -40),\n",
    "          35: (-25, -5), 36: (-20, -20), 37: (-28, 18), 38: (10, -20), 39: (-5, 20),}\n",
    "\n",
    "for i, row,  in dff_ponds.reset_index().iterrows():        \n",
    "    fig_ag.add_annotation(\n",
    "            x=row['IrrigationReclaimedWater'],\n",
    "            y=row['Pond system'],\n",
    "            xref=\"x\",\n",
    "            yref=\"y\",\n",
    "            text=int(row['Cluster']),\n",
    "            showarrow=True,\n",
    "            font=dict(\n",
    "                size=10,\n",
    "                ),\n",
    "            align=\"center\",\n",
    "#             standoff=3,\n",
    "            arrowhead=2,\n",
    "            arrowsize=1,\n",
    "            arrowwidth=1,\n",
    "#             arrowtail=0,\n",
    "            arrowside='none',\n",
    "            arrowcolor=\"#636363\",\n",
    "            xshift=np.sign(arrows[int(row['Cluster'])][0]) * 3 / (1 + (arrows[int(row['Cluster'])][1]/arrows[int(row['Cluster'])][0])**2)**(1/2),\n",
    "            yshift=-np.sign(arrows[int(row['Cluster'])][1]) * 3 / (1 + (arrows[int(row['Cluster'])][0]/arrows[int(row['Cluster'])][1])**2)**(1/2),\n",
    "            ax=arrows[int(row['Cluster'])][0],\n",
    "            ay=arrows[int(row['Cluster'])][1],\n",
    "            opacity=0.5,\n",
    "    )\n",
    "    \n",
    "fig_ag.update_layout(width=500, template='plotly_white',\n",
    "                  xaxis={'title': 'Capacity (Mm<sup>3</sup>/y)'}, \n",
    "                  yaxis={'title': 'LCOW ($/m<sup>3</sup>)'},\n",
    "                  legend=dict(\n",
    "#                             title='',\n",
    "                            orientation=\"h\",\n",
    "                            yanchor=\"top\",\n",
    "                            y=-0.15,\n",
    "                            xanchor=\"center\",\n",
    "                            x=0.5\n",
    "                ),\n",
    "                 margin=dict(b=0, l=0, r=0, t=30))    \n",
    "\n",
    "fig_ag.show()\n",
    "# fig_ag.write_image('../LCOW_agriculture.pdf')"
   ]
  },
  {
   "cell_type": "code",
   "execution_count": 37,
   "metadata": {},
   "outputs": [
    {
     "data": {
      "application/vnd.plotly.v1+json": {
       "config": {
        "plotlyServerURL": "https://plot.ly"
       },
       "data": [
        {
         "hovertemplate": "variable=Extended aeration<br>PopulationReclaimedWater=%{x}<br>value=%{y}<br>Cluster=%{text}<extra></extra>",
         "legendgroup": "Extended aeration",
         "marker": {
          "color": "#4C78A8",
          "symbol": "circle"
         },
         "mode": "lines+markers",
         "name": "Extended aeration",
         "opacity": 0.8,
         "orientation": "v",
         "showlegend": true,
         "text": [
          14,
          0,
          15,
          25,
          3,
          29,
          4,
          27,
          34,
          35,
          33,
          30,
          23,
          13,
          24,
          31,
          32,
          5,
          2,
          19,
          11,
          21,
          38,
          18,
          20,
          17,
          12,
          22,
          10,
          39,
          36,
          1,
          26,
          9,
          16,
          7,
          28,
          37
         ],
         "type": "scatter",
         "x": [
          33.95960715447166,
          24.328297488256364,
          20.006247955585366,
          19.96546858119583,
          15.109264457766228,
          14.826957041885663,
          14.77725018827449,
          12.049268028084459,
          10.605396865482355,
          9.3812679790732,
          7.862478833927749,
          7.486677609409328,
          7.398569535962219,
          7.379063458091692,
          6.460875067028055,
          6.358394966292164,
          5.975259563265194,
          5.94050791661296,
          5.721319450512251,
          5.437563757160491,
          4.252863889980327,
          3.6997367125768816,
          3.6170791156249407,
          3.316220409648177,
          3.1348557204702785,
          2.7807406678867315,
          2.3349320438558747,
          1.8961070526991073,
          1.3980921449046129,
          1.1281199480661512,
          0.8685398306689368,
          0.7804807709085645,
          0.7180135223027141,
          0.6577593353338939,
          0.3825330210131107,
          0.15574896158439538,
          0.08210981838356954,
          0.05435362680191558
         ],
         "xaxis": "x",
         "y": [
          0.03104942384285129,
          0.03690540898907659,
          0.040844219118699364,
          0.04088746264674353,
          0.047248519799848565,
          0.04771337064539693,
          0.04779661528256655,
          0.05313985812975447,
          0.056783120917453925,
          0.06052044447782865,
          0.06634120080801076,
          0.06805289231540705,
          0.06847325775193323,
          0.06856735387773555,
          0.07347561633301265,
          0.07408953090694996,
          0.07652521755154845,
          0.07675791086836398,
          0.07827487440077104,
          0.08037552245528706,
          0.09135031367451,
          0.09823009944918293,
          0.0993938790981442,
          0.10399728589194428,
          0.10709247433893648,
          0.11400167261014695,
          0.12488469840279987,
          0.13922343763343753,
          0.16324859343592732,
          0.1826286825798767,
          0.2094044914791696,
          0.22145677156363067,
          0.23134421141374217,
          0.242211228978638,
          0.3217961357358306,
          0.5158444856114529,
          0.722458884189756,
          0.897862008721631
         ],
         "yaxis": "y"
        },
        {
         "hovertemplate": "variable=Rotating biological contractors<br>PopulationReclaimedWater=%{x}<br>value=%{y}<br>Cluster=%{text}<extra></extra>",
         "legendgroup": "Rotating biological contractors",
         "marker": {
          "color": "#F58518",
          "symbol": "circle"
         },
         "mode": "lines+markers",
         "name": "Rotating biological contractors",
         "opacity": 0.8,
         "orientation": "v",
         "showlegend": true,
         "text": [
          14,
          0,
          15,
          25,
          3,
          29,
          4,
          27,
          34,
          35,
          33,
          30,
          23,
          13,
          24,
          31,
          32,
          5,
          2,
          19,
          11,
          21,
          38,
          18,
          20,
          17,
          12,
          22,
          10,
          39,
          36,
          1,
          26,
          9,
          16,
          7,
          28,
          37,
          6
         ],
         "type": "scatter",
         "x": [
          33.95960715447166,
          24.328297488256364,
          20.006247955585366,
          19.96546858119583,
          15.109264457766228,
          14.826957041885663,
          14.77725018827449,
          12.049268028084459,
          10.605396865482355,
          9.3812679790732,
          7.862478833927749,
          7.486677609409328,
          7.398569535962219,
          7.379063458091692,
          6.460875067028055,
          6.358394966292164,
          5.975259563265194,
          5.94050791661296,
          5.721319450512251,
          5.437563757160491,
          4.252863889980327,
          3.6997367125768816,
          3.6170791156249407,
          3.316220409648177,
          3.1348557204702785,
          2.7807406678867315,
          2.3349320438558747,
          1.8961070526991073,
          1.3980921449046129,
          1.1281199480661512,
          0.8685398306689368,
          0.7804807709085645,
          0.7180135223027141,
          0.6577593353338939,
          0.3825330210131107,
          0.15574896158439538,
          0.08210981838356954,
          0.05435362680191558,
          0.012487493258935252
         ],
         "xaxis": "x",
         "y": [
          0.03551857369779286,
          0.040591966910848834,
          0.04389933760818347,
          0.04393522830205098,
          0.04912483004184485,
          0.04949750459390501,
          0.04956415371604098,
          0.05378844977802183,
          0.056612292936477994,
          0.05946580511231477,
          0.06383042409794626,
          0.06509676688071898,
          0.06540662734978824,
          0.06547592720377794,
          0.06906105997096199,
          0.0695055094232329,
          0.07126052741835012,
          0.07142750976484732,
          0.0725132372471559,
          0.07400870712589486,
          0.08168095792500404,
          0.0863806957467402,
          0.0871680179316473,
          0.09026165497121008,
          0.09232381587738299,
          0.0968779489370742,
          0.10392384589373663,
          0.11299321084968993,
          0.12771945030850193,
          0.13923143966034313,
          0.15468000509997196,
          0.16148093244414957,
          0.166995909702063,
          0.172994220551674,
          0.2152055425838952,
          0.30919293482502425,
          0.4003968755050664,
          0.4730365319960973,
          0.857865340068616
         ],
         "yaxis": "y"
        },
        {
         "hovertemplate": "variable=Sequencing batch reactor<br>PopulationReclaimedWater=%{x}<br>value=%{y}<br>Cluster=%{text}<extra></extra>",
         "legendgroup": "Sequencing batch reactor",
         "marker": {
          "color": "#72B7B2",
          "symbol": "circle"
         },
         "mode": "lines+markers",
         "name": "Sequencing batch reactor",
         "opacity": 0.8,
         "orientation": "v",
         "showlegend": true,
         "text": [
          14,
          0,
          15,
          25,
          3,
          29,
          4,
          27,
          34,
          35,
          33,
          30,
          23,
          13,
          24,
          31,
          32,
          5,
          2,
          19,
          11,
          21,
          38,
          18,
          20,
          17,
          12,
          22,
          10,
          39,
          36,
          1,
          26,
          9,
          16,
          7,
          28,
          37,
          6
         ],
         "type": "scatter",
         "x": [
          33.95960715447166,
          24.328297488256364,
          20.006247955585366,
          19.96546858119583,
          15.109264457766228,
          14.826957041885663,
          14.77725018827449,
          12.049268028084459,
          10.605396865482355,
          9.3812679790732,
          7.862478833927749,
          7.486677609409328,
          7.398569535962219,
          7.379063458091692,
          6.460875067028055,
          6.358394966292164,
          5.975259563265194,
          5.94050791661296,
          5.721319450512251,
          5.437563757160491,
          4.252863889980327,
          3.6997367125768816,
          3.6170791156249407,
          3.316220409648177,
          3.1348557204702785,
          2.7807406678867315,
          2.3349320438558747,
          1.8961070526991073,
          1.3980921449046129,
          1.1281199480661512,
          0.8685398306689368,
          0.7804807709085645,
          0.7180135223027141,
          0.6577593353338939,
          0.3825330210131107,
          0.15574896158439538,
          0.08210981838356954,
          0.05435362680191558,
          0.012487493258935252
         ],
         "xaxis": "x",
         "y": [
          0.041849714362569505,
          0.04779035747038007,
          0.05165935017265088,
          0.05170131994349751,
          0.057766566312636776,
          0.05820187255888498,
          0.0582797192953631,
          0.06321164735605643,
          0.06650630508212911,
          0.06983384345536796,
          0.07492027018768734,
          0.07639532588308358,
          0.07675620850276438,
          0.07683691683950836,
          0.08101099846254285,
          0.08152829108502115,
          0.08357059130908542,
          0.08376487786909335,
          0.08502801515452026,
          0.08676749996508433,
          0.09568549622190345,
          0.10114347150768517,
          0.1020574697298099,
          0.10564791402160746,
          0.10804041582849325,
          0.11332181346682547,
          0.12148694668988466,
          0.13198685771843058,
          0.14901328283259482,
          0.16230525847643187,
          0.18011935636344223,
          0.18795374085940267,
          0.1943033672860535,
          0.20120611920716935,
          0.24969053792290571,
          0.35715930288387915,
          0.46093215783623565,
          0.5432874266861933,
          0.9763437351385224
         ],
         "yaxis": "y"
        },
        {
         "hovertemplate": "variable=Membrane  bioreactor<br>PopulationReclaimedWater=%{x}<br>value=%{y}<br>Cluster=%{text}<extra></extra>",
         "legendgroup": "Membrane  bioreactor",
         "marker": {
          "color": "#54A24B",
          "symbol": "circle"
         },
         "mode": "lines+markers",
         "name": "Membrane  bioreactor",
         "opacity": 0.8,
         "orientation": "v",
         "showlegend": true,
         "text": [
          14,
          0,
          15,
          25,
          3,
          29,
          4,
          27,
          34,
          35,
          33,
          30,
          23,
          13,
          24,
          31,
          32,
          5,
          2,
          19,
          11,
          21,
          38,
          18,
          20,
          17,
          12,
          22,
          10,
          39,
          36,
          1,
          26,
          9,
          16,
          7,
          28,
          37,
          6
         ],
         "type": "scatter",
         "x": [
          33.95960715447166,
          24.328297488256364,
          20.006247955585366,
          19.96546858119583,
          15.109264457766228,
          14.826957041885663,
          14.77725018827449,
          12.049268028084459,
          10.605396865482355,
          9.3812679790732,
          7.862478833927749,
          7.486677609409328,
          7.398569535962219,
          7.379063458091692,
          6.460875067028055,
          6.358394966292164,
          5.975259563265194,
          5.94050791661296,
          5.721319450512251,
          5.437563757160491,
          4.252863889980327,
          3.6997367125768816,
          3.6170791156249407,
          3.316220409648177,
          3.1348557204702785,
          2.7807406678867315,
          2.3349320438558747,
          1.8961070526991073,
          1.3980921449046129,
          1.1281199480661512,
          0.8685398306689368,
          0.7804807709085645,
          0.7180135223027141,
          0.6577593353338939,
          0.3825330210131107,
          0.15574896158439538,
          0.08210981838356954,
          0.05435362680191558,
          0.012487493258935252
         ],
         "xaxis": "x",
         "y": [
          0.08417257940332966,
          0.09332438455985644,
          0.09915240339917869,
          0.09921509895493894,
          0.10816599414044527,
          0.10880044108665744,
          0.10891379350066187,
          0.11603138210964643,
          0.1207199391695969,
          0.12540534496364406,
          0.13247699222482992,
          0.13450844997652464,
          0.13500418860390603,
          0.13511498864923704,
          0.14081243767628693,
          0.14151413342034388,
          0.14427533827044114,
          0.14453726665226924,
          0.14623705503920945,
          0.1485691533160021,
          0.16037552995180282,
          0.16748615405804412,
          0.16866891090046468,
          0.17329379901268896,
          0.17635724676082928,
          0.18306996776144754,
          0.19332071824894081,
          0.20629360893478343,
          0.2268841230144074,
          0.24261815409404658,
          0.2632933705528017,
          0.2722502664732906,
          0.2794531220878391,
          0.28722855366612526,
          0.34041406998948026,
          0.45144591576425075,
          0.5522937745434137,
          0.6290643634068187,
          1.001931438987678
         ],
         "yaxis": "y"
        },
        {
         "hovertemplate": "variable=Intermittent sand filter<br>PopulationReclaimedWater=%{x}<br>value=%{y}<br>Cluster=%{text}<extra></extra>",
         "legendgroup": "Intermittent sand filter",
         "marker": {
          "color": "#EECA3B",
          "symbol": "circle"
         },
         "mode": "lines+markers",
         "name": "Intermittent sand filter",
         "opacity": 0.8,
         "orientation": "v",
         "showlegend": true,
         "text": [
          14,
          0,
          15,
          25,
          3,
          29,
          4,
          27,
          34,
          35,
          33,
          30,
          23,
          13,
          24,
          31,
          32,
          5,
          2,
          19,
          11,
          21,
          38,
          18,
          20,
          17,
          12,
          22,
          10,
          39,
          36,
          1,
          26,
          9,
          16,
          7,
          28,
          37,
          6,
          8
         ],
         "type": "scatter",
         "x": [
          33.95960715447166,
          24.328297488256364,
          20.006247955585366,
          19.96546858119583,
          15.109264457766228,
          14.826957041885663,
          14.77725018827449,
          12.049268028084459,
          10.605396865482355,
          9.3812679790732,
          7.862478833927749,
          7.486677609409328,
          7.398569535962219,
          7.379063458091692,
          6.460875067028055,
          6.358394966292164,
          5.975259563265194,
          5.94050791661296,
          5.721319450512251,
          5.437563757160491,
          4.252863889980327,
          3.6997367125768816,
          3.6170791156249407,
          3.316220409648177,
          3.1348557204702785,
          2.7807406678867315,
          2.3349320438558747,
          1.8961070526991073,
          1.3980921449046129,
          1.1281199480661512,
          0.8685398306689368,
          0.7804807709085645,
          0.7180135223027141,
          0.6577593353338939,
          0.3825330210131107,
          0.15574896158439538,
          0.08210981838356954,
          0.05435362680191558,
          0.012487493258935252,
          0.006789682369366212
         ],
         "xaxis": "x",
         "y": [
          0.1295589643729303,
          0.13043648001663788,
          0.13101204595216112,
          0.13101830766044353,
          0.13192743112755403,
          0.13199300754591545,
          0.13200473943295607,
          0.1327509661320018,
          0.13325278404070037,
          0.133762387021127,
          0.13454690286896734,
          0.13477569327332567,
          0.13483175753205923,
          0.13484430064031028,
          0.13549542775911216,
          0.13557645589573286,
          0.1358970891778171,
          0.1359276524074179,
          0.13612661675592708,
          0.13640135614416907,
          0.1378237116327106,
          0.13870596318925976,
          0.13885460074250486,
          0.1394410168521458,
          0.1398340367857145,
          0.14070813173446609,
          0.14207755830498267,
          0.1438719084273616,
          0.1468651144639952,
          0.14927720503120098,
          0.15261911510444898,
          0.15412998978298817,
          0.15537352550096906,
          0.15674504741877318,
          0.16698552871829367,
          0.19392402741504752,
          0.22632290221818877,
          0.25709176015315555,
          0.5077088591751194,
          0.7518350137544164
         ],
         "yaxis": "y"
        },
        {
         "hovertemplate": "variable=Trickling filter<br>PopulationReclaimedWater=%{x}<br>value=%{y}<br>Cluster=%{text}<extra></extra>",
         "legendgroup": "Trickling filter",
         "marker": {
          "color": "#B279A2",
          "symbol": "circle"
         },
         "mode": "lines+markers",
         "name": "Trickling filter",
         "opacity": 0.8,
         "orientation": "v",
         "showlegend": true,
         "text": [
          14,
          0,
          15,
          25,
          3,
          29,
          4,
          27,
          34,
          35,
          33,
          30,
          23,
          13,
          24,
          31,
          32,
          5,
          2,
          19,
          11,
          21,
          38,
          18,
          20,
          17,
          12,
          22,
          10,
          39,
          36,
          1,
          26,
          9,
          16,
          7,
          28,
          37
         ],
         "type": "scatter",
         "x": [
          33.95960715447166,
          24.328297488256364,
          20.006247955585366,
          19.96546858119583,
          15.109264457766228,
          14.826957041885663,
          14.77725018827449,
          12.049268028084459,
          10.605396865482355,
          9.3812679790732,
          7.862478833927749,
          7.486677609409328,
          7.398569535962219,
          7.379063458091692,
          6.460875067028055,
          6.358394966292164,
          5.975259563265194,
          5.94050791661296,
          5.721319450512251,
          5.437563757160491,
          4.252863889980327,
          3.6997367125768816,
          3.6170791156249407,
          3.316220409648177,
          3.1348557204702785,
          2.7807406678867315,
          2.3349320438558747,
          1.8961070526991073,
          1.3980921449046129,
          1.1281199480661512,
          0.8685398306689368,
          0.7804807709085645,
          0.7180135223027141,
          0.6577593353338939,
          0.3825330210131107,
          0.15574896158439538,
          0.08210981838356954,
          0.05435362680191558
         ],
         "xaxis": "x",
         "y": [
          0.15002142124751575,
          0.15204507257961322,
          0.1533998595076689,
          0.15341470940527963,
          0.15559426741784338,
          0.15575320634233822,
          0.15578166449452618,
          0.15760580427879717,
          0.15884714099183977,
          0.1601188762009687,
          0.16209695683267503,
          0.16267816738837004,
          0.16282087631476713,
          0.16285281939039564,
          0.16451842006704887,
          0.16472667676575284,
          0.16555280633000838,
          0.1656317216128303,
          0.166146150436004,
          0.1668584413689872,
          0.17057942321424518,
          0.17291277481568434,
          0.17330761158379437,
          0.1748698943394231,
          0.17592082235595777,
          0.17826848086119398,
          0.18197230242692977,
          0.18686579344546658,
          0.1951075878664668,
          0.20180127316076077,
          0.21112479864467162,
          0.21535217984792837,
          0.21883514134512508,
          0.22267907184991778,
          0.2513681242783364,
          0.32565234117287767,
          0.41193611666695285,
          0.4911544578686815
         ],
         "yaxis": "y"
        },
        {
         "hovertemplate": "variable=Moving bed biofilm reactor<br>PopulationReclaimedWater=%{x}<br>value=%{y}<br>Cluster=%{text}<extra></extra>",
         "legendgroup": "Moving bed biofilm reactor",
         "marker": {
          "color": "#FF9DA6",
          "symbol": "circle"
         },
         "mode": "lines+markers",
         "name": "Moving bed biofilm reactor",
         "opacity": 0.8,
         "orientation": "v",
         "showlegend": true,
         "text": [
          14,
          0,
          15,
          25,
          3,
          29,
          4,
          27,
          34,
          35,
          33,
          30,
          23,
          13,
          24,
          31,
          32,
          5,
          2,
          19,
          11,
          21,
          38,
          18,
          20,
          17,
          12,
          22,
          10,
          39,
          36,
          1,
          26,
          9,
          16,
          7,
          28,
          37,
          6
         ],
         "type": "scatter",
         "x": [
          33.95960715447166,
          24.328297488256364,
          20.006247955585366,
          19.96546858119583,
          15.109264457766228,
          14.826957041885663,
          14.77725018827449,
          12.049268028084459,
          10.605396865482355,
          9.3812679790732,
          7.862478833927749,
          7.486677609409328,
          7.398569535962219,
          7.379063458091692,
          6.460875067028055,
          6.358394966292164,
          5.975259563265194,
          5.94050791661296,
          5.721319450512251,
          5.437563757160491,
          4.252863889980327,
          3.6997367125768816,
          3.6170791156249407,
          3.316220409648177,
          3.1348557204702785,
          2.7807406678867315,
          2.3349320438558747,
          1.8961070526991073,
          1.3980921449046129,
          1.1281199480661512,
          0.8685398306689368,
          0.7804807709085645,
          0.7180135223027141,
          0.6577593353338939,
          0.3825330210131107,
          0.15574896158439538,
          0.08210981838356954,
          0.05435362680191558,
          0.012487493258935252
         ],
         "xaxis": "x",
         "y": [
          0.197351416662507,
          0.20113255041962935,
          0.20345783222160013,
          0.20348252845929035,
          0.2069446712046185,
          0.20718553339817894,
          0.2072285068929114,
          0.20989218405816318,
          0.21161192342200966,
          0.2133052759014895,
          0.21581746222694748,
          0.21653016238653783,
          0.21670350772212624,
          0.21674222084622302,
          0.21871842990958532,
          0.21895992829857563,
          0.21990641505348588,
          0.21999588927520697,
          0.22057526471417938,
          0.22136667367185348,
          0.22531673063746027,
          0.2276557109089199,
          0.22804220571451247,
          0.2295470656818141,
          0.2305385526273849,
          0.23269780608865936,
          0.23596490290374703,
          0.24005947239000536,
          0.24650347127213473,
          0.2514133313589473,
          0.25788899983899666,
          0.2607137986472619,
          0.26299761811606,
          0.2654774909043783,
          0.28301488672180464,
          0.325036275483427,
          0.3730906324919433,
          0.4182708262766583,
          0.7944738203929572
         ],
         "yaxis": "y"
        },
        {
         "hovertemplate": "PopulationLeastCostTechnology=Extended aeration<br>PopulationReclaimedWater=%{x}<br>PopulationLeastCost=%{y}<br>Cluster=%{text}<extra></extra>",
         "legendgroup": "Extended aeration",
         "line": {
          "color": "#4C78A8",
          "dash": "solid"
         },
         "mode": "lines+markers",
         "name": "Extended aeration",
         "opacity": 0.8,
         "orientation": "v",
         "showlegend": false,
         "text": [
          14,
          0,
          15,
          25,
          3,
          29,
          4,
          27
         ],
         "type": "scatter",
         "x": [
          33.95960715447085,
          24.328297488255707,
          20.00624795558504,
          19.96546858119578,
          15.109264457766347,
          14.826957041885782,
          14.777250188274683,
          12.04926802808433
         ],
         "xaxis": "x2",
         "y": [
          0.03104942384285129,
          0.03690540898907659,
          0.040844219118699364,
          0.04088746264674353,
          0.047248519799848565,
          0.04771337064539693,
          0.04779661528256655,
          0.05313985812975447
         ],
         "yaxis": "y2"
        },
        {
         "hovertemplate": "PopulationLeastCostTechnology=Rotating biological contractors<br>PopulationReclaimedWater=%{x}<br>PopulationLeastCost=%{y}<br>Cluster=%{text}<extra></extra>",
         "legendgroup": "Rotating biological contractors",
         "line": {
          "color": "#F58518",
          "dash": "solid"
         },
         "mode": "lines+markers",
         "name": "Rotating biological contractors",
         "opacity": 0.8,
         "orientation": "v",
         "showlegend": false,
         "text": [
          34,
          35,
          33,
          30,
          23,
          13,
          24,
          31,
          32,
          5,
          2,
          19,
          11,
          21,
          38,
          18,
          20,
          17,
          12,
          22,
          10,
          39
         ],
         "type": "scatter",
         "x": [
          10.605396865482465,
          9.38126797907313,
          7.862478833927821,
          7.486677609409288,
          7.398569535962339,
          7.379063458091507,
          6.460875067028146,
          6.3583949662920975,
          5.975259563265152,
          5.94050791661287,
          5.721319450512283,
          5.437563757160539,
          4.252863889980347,
          3.699736712576902,
          3.6170791156249718,
          3.3162204096481704,
          3.134855720470258,
          2.7807406678867252,
          2.3349320438558703,
          1.896107052699122,
          1.3980921449046098,
          1.1281199480661543
         ],
         "xaxis": "x2",
         "y": [
          0.056612292936477994,
          0.05946580511231477,
          0.06383042409794626,
          0.06509676688071898,
          0.06540662734978824,
          0.06547592720377794,
          0.06906105997096199,
          0.0695055094232329,
          0.07126052741835012,
          0.07142750976484732,
          0.0725132372471559,
          0.07400870712589486,
          0.08168095792500404,
          0.0863806957467402,
          0.0871680179316473,
          0.09026165497121008,
          0.09232381587738299,
          0.0968779489370742,
          0.10392384589373663,
          0.11299321084968993,
          0.12771945030850193,
          0.13923143966034313
         ],
         "yaxis": "y2"
        },
        {
         "hovertemplate": "PopulationLeastCostTechnology=Intermittent sand filter<br>PopulationReclaimedWater=%{x}<br>PopulationLeastCost=%{y}<br>Cluster=%{text}<extra></extra>",
         "legendgroup": "Intermittent sand filter",
         "line": {
          "color": "#EECA3B",
          "dash": "solid"
         },
         "mode": "lines+markers",
         "name": "Intermittent sand filter",
         "opacity": 0.8,
         "orientation": "v",
         "showlegend": false,
         "text": [
          36,
          1,
          26,
          9,
          16,
          7,
          28,
          37,
          6,
          8
         ],
         "type": "scatter",
         "x": [
          0.8685398306689344,
          0.7804807709085655,
          0.7180135223027131,
          0.6577593353338963,
          0.38253302101311004,
          0.15574896158439547,
          0.08210981838356955,
          0.05435362680191556,
          0.012487493258935252,
          0.006789682369366212
         ],
         "xaxis": "x2",
         "y": [
          0.15261911510444898,
          0.15412998978298817,
          0.15537352550096906,
          0.15674504741877318,
          0.16698552871829367,
          0.19392402741504752,
          0.22632290221818877,
          0.25709176015315555,
          0.5077088591751194,
          0.7518350137544164
         ],
         "yaxis": "y2"
        },
        {
         "marker": {
          "color": "#636363",
          "opacity": 0.5
         },
         "mode": "markers+text",
         "name": "Clusters",
         "text": "",
         "type": "scatter",
         "x": [
          10
         ],
         "y": [
          2
         ]
        }
       ],
       "layout": {
        "annotations": [
         {
          "align": "center",
          "arrowcolor": "#636363",
          "arrowhead": 1,
          "arrowside": "none",
          "arrowsize": 1,
          "arrowwidth": 1,
          "ax": 10,
          "ay": -20,
          "font": {
           "size": 10
          },
          "opacity": 0.5,
          "showarrow": true,
          "text": "0",
          "x": 24.328297488255707,
          "xref": "x2",
          "xshift": 1.3416407864998738,
          "y": 0.03690540898907659,
          "yref": "y2",
          "yshift": 2.6832815729997477
         },
         {
          "align": "center",
          "arrowcolor": "#636363",
          "arrowhead": 1,
          "arrowside": "none",
          "arrowsize": 1,
          "arrowwidth": 1,
          "ax": 5,
          "ay": -20,
          "font": {
           "size": 10
          },
          "opacity": 0.5,
          "showarrow": true,
          "text": "1",
          "x": 0.7804807709085655,
          "xref": "x2",
          "xshift": 0.7276068751089989,
          "y": 0.15412998978298817,
          "yref": "y2",
          "yshift": 2.9104275004359956
         },
         {
          "align": "center",
          "arrowcolor": "#636363",
          "arrowhead": 1,
          "arrowside": "none",
          "arrowsize": 1,
          "arrowwidth": 1,
          "ax": 10,
          "ay": -20,
          "font": {
           "size": 10
          },
          "opacity": 0.5,
          "showarrow": true,
          "text": "2",
          "x": 5.721319450512283,
          "xref": "x2",
          "xshift": 1.3416407864998738,
          "y": 0.0725132372471559,
          "yref": "y2",
          "yshift": 2.6832815729997477
         },
         {
          "align": "center",
          "arrowcolor": "#636363",
          "arrowhead": 1,
          "arrowside": "none",
          "arrowsize": 1,
          "arrowwidth": 1,
          "ax": 5,
          "ay": -20,
          "font": {
           "size": 10
          },
          "opacity": 0.5,
          "showarrow": true,
          "text": "3",
          "x": 15.109264457766347,
          "xref": "x2",
          "xshift": 0.7276068751089989,
          "y": 0.047248519799848565,
          "yref": "y2",
          "yshift": 2.9104275004359956
         },
         {
          "align": "center",
          "arrowcolor": "#636363",
          "arrowhead": 1,
          "arrowside": "none",
          "arrowsize": 1,
          "arrowwidth": 1,
          "ax": -25,
          "ay": 5,
          "font": {
           "size": 10
          },
          "opacity": 0.5,
          "showarrow": true,
          "text": "4",
          "x": 14.777250188274683,
          "xref": "x2",
          "xshift": -2.94174202707276,
          "y": 0.04779661528256655,
          "yref": "y2",
          "yshift": -0.5883484054145521
         },
         {
          "align": "center",
          "arrowcolor": "#636363",
          "arrowhead": 1,
          "arrowside": "none",
          "arrowsize": 1,
          "arrowwidth": 1,
          "ax": -20,
          "ay": 30,
          "font": {
           "size": 10
          },
          "opacity": 0.5,
          "showarrow": true,
          "text": "5",
          "x": 5.94050791661287,
          "xref": "x2",
          "xshift": -1.6641005886756874,
          "y": 0.07142750976484732,
          "yref": "y2",
          "yshift": -2.496150883013531
         },
         {
          "align": "center",
          "arrowcolor": "#636363",
          "arrowhead": 1,
          "arrowside": "none",
          "arrowsize": 1,
          "arrowwidth": 1,
          "ax": -30,
          "ay": 20,
          "font": {
           "size": 10
          },
          "opacity": 0.5,
          "showarrow": true,
          "text": "6",
          "x": 0.012487493258935252,
          "xref": "x2",
          "xshift": -2.496150883013531,
          "y": 0.5077088591751194,
          "yref": "y2",
          "yshift": -1.6641005886756874
         },
         {
          "align": "center",
          "arrowcolor": "#636363",
          "arrowhead": 1,
          "arrowside": "none",
          "arrowsize": 1,
          "arrowwidth": 1,
          "ax": 10,
          "ay": 20,
          "font": {
           "size": 10
          },
          "opacity": 0.5,
          "showarrow": true,
          "text": "7",
          "x": 0.15574896158439547,
          "xref": "x2",
          "xshift": 1.3416407864998738,
          "y": 0.19392402741504752,
          "yref": "y2",
          "yshift": -2.6832815729997477
         },
         {
          "align": "center",
          "arrowcolor": "#636363",
          "arrowhead": 1,
          "arrowside": "none",
          "arrowsize": 1,
          "arrowwidth": 1,
          "ax": -30,
          "ay": 10,
          "font": {
           "size": 10
          },
          "opacity": 0.5,
          "showarrow": true,
          "text": "8",
          "x": 0.006789682369366212,
          "xref": "x2",
          "xshift": -2.846049894151541,
          "y": 0.7518350137544164,
          "yref": "y2",
          "yshift": -0.9486832980505138
         },
         {
          "align": "center",
          "arrowcolor": "#636363",
          "arrowhead": 1,
          "arrowside": "none",
          "arrowsize": 1,
          "arrowwidth": 1,
          "ax": -20,
          "ay": -20,
          "font": {
           "size": 10
          },
          "opacity": 0.5,
          "showarrow": true,
          "text": "9",
          "x": 0.6577593353338963,
          "xref": "x2",
          "xshift": -2.1213203435596424,
          "y": 0.15674504741877318,
          "yref": "y2",
          "yshift": 2.1213203435596424
         },
         {
          "align": "center",
          "arrowcolor": "#636363",
          "arrowhead": 1,
          "arrowside": "none",
          "arrowsize": 1,
          "arrowwidth": 1,
          "ax": -30,
          "ay": 30,
          "font": {
           "size": 10
          },
          "opacity": 0.5,
          "showarrow": true,
          "text": "10",
          "x": 1.3980921449046098,
          "xref": "x2",
          "xshift": -2.1213203435596424,
          "y": 0.12771945030850193,
          "yref": "y2",
          "yshift": -2.1213203435596424
         },
         {
          "align": "center",
          "arrowcolor": "#636363",
          "arrowhead": 1,
          "arrowside": "none",
          "arrowsize": 1,
          "arrowwidth": 1,
          "ax": 10,
          "ay": -20,
          "font": {
           "size": 10
          },
          "opacity": 0.5,
          "showarrow": true,
          "text": "11",
          "x": 4.252863889980347,
          "xref": "x2",
          "xshift": 1.3416407864998738,
          "y": 0.08168095792500404,
          "yref": "y2",
          "yshift": 2.6832815729997477
         },
         {
          "align": "center",
          "arrowcolor": "#636363",
          "arrowhead": 1,
          "arrowside": "none",
          "arrowsize": 1,
          "arrowwidth": 1,
          "ax": -5,
          "ay": 25,
          "font": {
           "size": 10
          },
          "opacity": 0.5,
          "showarrow": true,
          "text": "12",
          "x": 2.3349320438558703,
          "xref": "x2",
          "xshift": -0.5883484054145521,
          "y": 0.10392384589373663,
          "yref": "y2",
          "yshift": -2.94174202707276
         },
         {
          "align": "center",
          "arrowcolor": "#636363",
          "arrowhead": 1,
          "arrowside": "none",
          "arrowsize": 1,
          "arrowwidth": 1,
          "ax": 10,
          "ay": -20,
          "font": {
           "size": 10
          },
          "opacity": 0.5,
          "showarrow": true,
          "text": "13",
          "x": 7.379063458091507,
          "xref": "x2",
          "xshift": 1.3416407864998738,
          "y": 0.06547592720377794,
          "yref": "y2",
          "yshift": 2.6832815729997477
         },
         {
          "align": "center",
          "arrowcolor": "#636363",
          "arrowhead": 1,
          "arrowside": "none",
          "arrowsize": 1,
          "arrowwidth": 1,
          "ax": 20,
          "ay": -30,
          "font": {
           "size": 10
          },
          "opacity": 0.5,
          "showarrow": true,
          "text": "14",
          "x": 33.95960715447085,
          "xref": "x2",
          "xshift": 1.6641005886756874,
          "y": 0.03104942384285129,
          "yref": "y2",
          "yshift": 2.496150883013531
         },
         {
          "align": "center",
          "arrowcolor": "#636363",
          "arrowhead": 1,
          "arrowside": "none",
          "arrowsize": 1,
          "arrowwidth": 1,
          "ax": 10,
          "ay": -20,
          "font": {
           "size": 10
          },
          "opacity": 0.5,
          "showarrow": true,
          "text": "15",
          "x": 20.00624795558504,
          "xref": "x2",
          "xshift": 1.3416407864998738,
          "y": 0.040844219118699364,
          "yref": "y2",
          "yshift": 2.6832815729997477
         },
         {
          "align": "center",
          "arrowcolor": "#636363",
          "arrowhead": 1,
          "arrowside": "none",
          "arrowsize": 1,
          "arrowwidth": 1,
          "ax": 15,
          "ay": -20,
          "font": {
           "size": 10
          },
          "opacity": 0.5,
          "showarrow": true,
          "text": "16",
          "x": 0.38253302101311004,
          "xref": "x2",
          "xshift": 1.7999999999999998,
          "y": 0.16698552871829367,
          "yref": "y2",
          "yshift": 2.4
         },
         {
          "align": "center",
          "arrowcolor": "#636363",
          "arrowhead": 1,
          "arrowside": "none",
          "arrowsize": 1,
          "arrowwidth": 1,
          "ax": 10,
          "ay": -45,
          "font": {
           "size": 10
          },
          "opacity": 0.5,
          "showarrow": true,
          "text": "17",
          "x": 2.7807406678867252,
          "xref": "x2",
          "xshift": 0.6507913734559685,
          "y": 0.0968779489370742,
          "yref": "y2",
          "yshift": 2.928561180551858
         },
         {
          "align": "center",
          "arrowcolor": "#636363",
          "arrowhead": 1,
          "arrowside": "none",
          "arrowsize": 1,
          "arrowwidth": 1,
          "ax": 20,
          "ay": -40,
          "font": {
           "size": 10
          },
          "opacity": 0.5,
          "showarrow": true,
          "text": "18",
          "x": 3.3162204096481704,
          "xref": "x2",
          "xshift": 1.3416407864998738,
          "y": 0.09026165497121008,
          "yref": "y2",
          "yshift": 2.6832815729997477
         },
         {
          "align": "center",
          "arrowcolor": "#636363",
          "arrowhead": 1,
          "arrowside": "none",
          "arrowsize": 1,
          "arrowwidth": 1,
          "ax": -20,
          "ay": 40,
          "font": {
           "size": 10
          },
          "opacity": 0.5,
          "showarrow": true,
          "text": "19",
          "x": 5.437563757160539,
          "xref": "x2",
          "xshift": -1.3416407864998738,
          "y": 0.07400870712589486,
          "yref": "y2",
          "yshift": -2.6832815729997477
         },
         {
          "align": "center",
          "arrowcolor": "#636363",
          "arrowhead": 1,
          "arrowside": "none",
          "arrowsize": 1,
          "arrowwidth": 1,
          "ax": 10,
          "ay": 25,
          "font": {
           "size": 10
          },
          "opacity": 0.5,
          "showarrow": true,
          "text": "20",
          "x": 3.134855720470258,
          "xref": "x2",
          "xshift": 1.1141720290623112,
          "y": 0.09232381587738299,
          "yref": "y2",
          "yshift": -2.7854300726557777
         },
         {
          "align": "center",
          "arrowcolor": "#636363",
          "arrowhead": 1,
          "arrowside": "none",
          "arrowsize": 1,
          "arrowwidth": 1,
          "ax": 10,
          "ay": -20,
          "font": {
           "size": 10
          },
          "opacity": 0.5,
          "showarrow": true,
          "text": "21",
          "x": 3.699736712576902,
          "xref": "x2",
          "xshift": 1.3416407864998738,
          "y": 0.0863806957467402,
          "yref": "y2",
          "yshift": 2.6832815729997477
         },
         {
          "align": "center",
          "arrowcolor": "#636363",
          "arrowhead": 1,
          "arrowside": "none",
          "arrowsize": 1,
          "arrowwidth": 1,
          "ax": 20,
          "ay": -40,
          "font": {
           "size": 10
          },
          "opacity": 0.5,
          "showarrow": true,
          "text": "22",
          "x": 1.896107052699122,
          "xref": "x2",
          "xshift": 1.3416407864998738,
          "y": 0.11299321084968993,
          "yref": "y2",
          "yshift": 2.6832815729997477
         },
         {
          "align": "center",
          "arrowcolor": "#636363",
          "arrowhead": 1,
          "arrowside": "none",
          "arrowsize": 1,
          "arrowwidth": 1,
          "ax": 25,
          "ay": -25,
          "font": {
           "size": 10
          },
          "opacity": 0.5,
          "showarrow": true,
          "text": "23",
          "x": 7.398569535962339,
          "xref": "x2",
          "xshift": 2.1213203435596424,
          "y": 0.06540662734978824,
          "yref": "y2",
          "yshift": 2.1213203435596424
         },
         {
          "align": "center",
          "arrowcolor": "#636363",
          "arrowhead": 1,
          "arrowside": "none",
          "arrowsize": 1,
          "arrowwidth": 1,
          "ax": 5,
          "ay": -20,
          "font": {
           "size": 10
          },
          "opacity": 0.5,
          "showarrow": true,
          "text": "24",
          "x": 6.460875067028146,
          "xref": "x2",
          "xshift": 0.7276068751089989,
          "y": 0.06906105997096199,
          "yref": "y2",
          "yshift": 2.9104275004359956
         },
         {
          "align": "center",
          "arrowcolor": "#636363",
          "arrowhead": 1,
          "arrowside": "none",
          "arrowsize": 1,
          "arrowwidth": 1,
          "ax": 18,
          "ay": -20,
          "font": {
           "size": 10
          },
          "opacity": 0.5,
          "showarrow": true,
          "text": "25",
          "x": 19.96546858119578,
          "xref": "x2",
          "xshift": 2.006894194867349,
          "y": 0.04088746264674353,
          "yref": "y2",
          "yshift": 2.2298824387414986
         },
         {
          "align": "center",
          "arrowcolor": "#636363",
          "arrowhead": 1,
          "arrowside": "none",
          "arrowsize": 1,
          "arrowwidth": 1,
          "ax": 1,
          "ay": 20,
          "font": {
           "size": 10
          },
          "opacity": 0.5,
          "showarrow": true,
          "text": "26",
          "x": 0.7180135223027131,
          "xref": "x2",
          "xshift": 0.1498128508316767,
          "y": 0.15537352550096906,
          "yref": "y2",
          "yshift": -2.996257016633534
         },
         {
          "align": "center",
          "arrowcolor": "#636363",
          "arrowhead": 1,
          "arrowside": "none",
          "arrowsize": 1,
          "arrowwidth": 1,
          "ax": 10,
          "ay": -35,
          "font": {
           "size": 10
          },
          "opacity": 0.5,
          "showarrow": true,
          "text": "27",
          "x": 12.04926802808433,
          "xref": "x2",
          "xshift": 0.8241633836921342,
          "y": 0.05313985812975447,
          "yref": "y2",
          "yshift": 2.8845718429224694
         },
         {
          "align": "center",
          "arrowcolor": "#636363",
          "arrowhead": 1,
          "arrowside": "none",
          "arrowsize": 1,
          "arrowwidth": 1,
          "ax": -20,
          "ay": -10,
          "font": {
           "size": 10
          },
          "opacity": 0.5,
          "showarrow": true,
          "text": "28",
          "x": 0.08210981838356955,
          "xref": "x2",
          "xshift": -2.6832815729997477,
          "y": 0.22632290221818877,
          "yref": "y2",
          "yshift": 1.3416407864998738
         },
         {
          "align": "center",
          "arrowcolor": "#636363",
          "arrowhead": 1,
          "arrowside": "none",
          "arrowsize": 1,
          "arrowwidth": 1,
          "ax": -15,
          "ay": 30,
          "font": {
           "size": 10
          },
          "opacity": 0.5,
          "showarrow": true,
          "text": "29",
          "x": 14.826957041885782,
          "xref": "x2",
          "xshift": -1.3416407864998738,
          "y": 0.04771337064539693,
          "yref": "y2",
          "yshift": -2.6832815729997477
         },
         {
          "align": "center",
          "arrowcolor": "#636363",
          "arrowhead": 1,
          "arrowside": "none",
          "arrowsize": 1,
          "arrowwidth": 1,
          "ax": -5,
          "ay": 20,
          "font": {
           "size": 10
          },
          "opacity": 0.5,
          "showarrow": true,
          "text": "30",
          "x": 7.486677609409288,
          "xref": "x2",
          "xshift": -0.7276068751089989,
          "y": 0.06509676688071898,
          "yref": "y2",
          "yshift": -2.9104275004359956
         },
         {
          "align": "center",
          "arrowcolor": "#636363",
          "arrowhead": 1,
          "arrowside": "none",
          "arrowsize": 1,
          "arrowwidth": 1,
          "ax": 5,
          "ay": 20,
          "font": {
           "size": 10
          },
          "opacity": 0.5,
          "showarrow": true,
          "text": "31",
          "x": 6.3583949662920975,
          "xref": "x2",
          "xshift": 0.7276068751089989,
          "y": 0.0695055094232329,
          "yref": "y2",
          "yshift": -2.9104275004359956
         },
         {
          "align": "center",
          "arrowcolor": "#636363",
          "arrowhead": 1,
          "arrowside": "none",
          "arrowsize": 1,
          "arrowwidth": 1,
          "ax": -5,
          "ay": 20,
          "font": {
           "size": 10
          },
          "opacity": 0.5,
          "showarrow": true,
          "text": "32",
          "x": 5.975259563265152,
          "xref": "x2",
          "xshift": -0.7276068751089989,
          "y": 0.07126052741835012,
          "yref": "y2",
          "yshift": -2.9104275004359956
         },
         {
          "align": "center",
          "arrowcolor": "#636363",
          "arrowhead": 1,
          "arrowside": "none",
          "arrowsize": 1,
          "arrowwidth": 1,
          "ax": -20,
          "ay": -15,
          "font": {
           "size": 10
          },
          "opacity": 0.5,
          "showarrow": true,
          "text": "33",
          "x": 7.862478833927821,
          "xref": "x2",
          "xshift": -2.4,
          "y": 0.06383042409794626,
          "yref": "y2",
          "yshift": 1.7999999999999998
         },
         {
          "align": "center",
          "arrowcolor": "#636363",
          "arrowhead": 1,
          "arrowside": "none",
          "arrowsize": 1,
          "arrowwidth": 1,
          "ax": 20,
          "ay": -40,
          "font": {
           "size": 10
          },
          "opacity": 0.5,
          "showarrow": true,
          "text": "34",
          "x": 10.605396865482465,
          "xref": "x2",
          "xshift": 1.3416407864998738,
          "y": 0.056612292936477994,
          "yref": "y2",
          "yshift": 2.6832815729997477
         },
         {
          "align": "center",
          "arrowcolor": "#636363",
          "arrowhead": 1,
          "arrowside": "none",
          "arrowsize": 1,
          "arrowwidth": 1,
          "ax": 10,
          "ay": -20,
          "font": {
           "size": 10
          },
          "opacity": 0.5,
          "showarrow": true,
          "text": "35",
          "x": 9.38126797907313,
          "xref": "x2",
          "xshift": 1.3416407864998738,
          "y": 0.05946580511231477,
          "yref": "y2",
          "yshift": 2.6832815729997477
         },
         {
          "align": "center",
          "arrowcolor": "#636363",
          "arrowhead": 1,
          "arrowside": "none",
          "arrowsize": 1,
          "arrowwidth": 1,
          "ax": -15,
          "ay": 20,
          "font": {
           "size": 10
          },
          "opacity": 0.5,
          "showarrow": true,
          "text": "36",
          "x": 0.8685398306689344,
          "xref": "x2",
          "xshift": -1.7999999999999998,
          "y": 0.15261911510444898,
          "yref": "y2",
          "yshift": -2.4
         },
         {
          "align": "center",
          "arrowcolor": "#636363",
          "arrowhead": 1,
          "arrowside": "none",
          "arrowsize": 1,
          "arrowwidth": 1,
          "ax": -20,
          "ay": 18,
          "font": {
           "size": 10
          },
          "opacity": 0.5,
          "showarrow": true,
          "text": "37",
          "x": 0.05435362680191556,
          "xref": "x2",
          "xshift": -2.2298824387414986,
          "y": 0.25709176015315555,
          "yref": "y2",
          "yshift": -2.006894194867349
         },
         {
          "align": "center",
          "arrowcolor": "#636363",
          "arrowhead": 1,
          "arrowside": "none",
          "arrowsize": 1,
          "arrowwidth": 1,
          "ax": 20,
          "ay": -20,
          "font": {
           "size": 10
          },
          "opacity": 0.5,
          "showarrow": true,
          "text": "38",
          "x": 3.6170791156249718,
          "xref": "x2",
          "xshift": 2.1213203435596424,
          "y": 0.0871680179316473,
          "yref": "y2",
          "yshift": 2.1213203435596424
         },
         {
          "align": "center",
          "arrowcolor": "#636363",
          "arrowhead": 1,
          "arrowside": "none",
          "arrowsize": 1,
          "arrowwidth": 1,
          "ax": -20,
          "ay": 1,
          "font": {
           "size": 10
          },
          "opacity": 0.5,
          "showarrow": true,
          "text": "39",
          "x": 1.1281199480661543,
          "xref": "x2",
          "xshift": -2.996257016633534,
          "y": 0.13923143966034313,
          "yref": "y2",
          "yshift": -0.1498128508316767
         },
         {
          "showarrow": false,
          "text": "<b>a)</b>",
          "x": -0.04,
          "xref": "paper",
          "y": -0.1,
          "yref": "paper"
         },
         {
          "showarrow": false,
          "text": "<b>b)</b>",
          "x": 0.5,
          "xref": "paper",
          "y": -0.1,
          "yref": "paper"
         }
        ],
        "legend": {
         "orientation": "h",
         "title": {
          "text": ""
         },
         "x": 0.5,
         "xanchor": "center",
         "y": -0.15,
         "yanchor": "top"
        },
        "margin": {
         "b": 0,
         "l": 0,
         "r": 0,
         "t": 30
        },
        "template": {
         "data": {
          "bar": [
           {
            "error_x": {
             "color": "#2a3f5f"
            },
            "error_y": {
             "color": "#2a3f5f"
            },
            "marker": {
             "line": {
              "color": "white",
              "width": 0.5
             }
            },
            "type": "bar"
           }
          ],
          "barpolar": [
           {
            "marker": {
             "line": {
              "color": "white",
              "width": 0.5
             }
            },
            "type": "barpolar"
           }
          ],
          "carpet": [
           {
            "aaxis": {
             "endlinecolor": "#2a3f5f",
             "gridcolor": "#C8D4E3",
             "linecolor": "#C8D4E3",
             "minorgridcolor": "#C8D4E3",
             "startlinecolor": "#2a3f5f"
            },
            "baxis": {
             "endlinecolor": "#2a3f5f",
             "gridcolor": "#C8D4E3",
             "linecolor": "#C8D4E3",
             "minorgridcolor": "#C8D4E3",
             "startlinecolor": "#2a3f5f"
            },
            "type": "carpet"
           }
          ],
          "choropleth": [
           {
            "colorbar": {
             "outlinewidth": 0,
             "ticks": ""
            },
            "type": "choropleth"
           }
          ],
          "contour": [
           {
            "colorbar": {
             "outlinewidth": 0,
             "ticks": ""
            },
            "colorscale": [
             [
              0,
              "#0d0887"
             ],
             [
              0.1111111111111111,
              "#46039f"
             ],
             [
              0.2222222222222222,
              "#7201a8"
             ],
             [
              0.3333333333333333,
              "#9c179e"
             ],
             [
              0.4444444444444444,
              "#bd3786"
             ],
             [
              0.5555555555555556,
              "#d8576b"
             ],
             [
              0.6666666666666666,
              "#ed7953"
             ],
             [
              0.7777777777777778,
              "#fb9f3a"
             ],
             [
              0.8888888888888888,
              "#fdca26"
             ],
             [
              1,
              "#f0f921"
             ]
            ],
            "type": "contour"
           }
          ],
          "contourcarpet": [
           {
            "colorbar": {
             "outlinewidth": 0,
             "ticks": ""
            },
            "type": "contourcarpet"
           }
          ],
          "heatmap": [
           {
            "colorbar": {
             "outlinewidth": 0,
             "ticks": ""
            },
            "colorscale": [
             [
              0,
              "#0d0887"
             ],
             [
              0.1111111111111111,
              "#46039f"
             ],
             [
              0.2222222222222222,
              "#7201a8"
             ],
             [
              0.3333333333333333,
              "#9c179e"
             ],
             [
              0.4444444444444444,
              "#bd3786"
             ],
             [
              0.5555555555555556,
              "#d8576b"
             ],
             [
              0.6666666666666666,
              "#ed7953"
             ],
             [
              0.7777777777777778,
              "#fb9f3a"
             ],
             [
              0.8888888888888888,
              "#fdca26"
             ],
             [
              1,
              "#f0f921"
             ]
            ],
            "type": "heatmap"
           }
          ],
          "heatmapgl": [
           {
            "colorbar": {
             "outlinewidth": 0,
             "ticks": ""
            },
            "colorscale": [
             [
              0,
              "#0d0887"
             ],
             [
              0.1111111111111111,
              "#46039f"
             ],
             [
              0.2222222222222222,
              "#7201a8"
             ],
             [
              0.3333333333333333,
              "#9c179e"
             ],
             [
              0.4444444444444444,
              "#bd3786"
             ],
             [
              0.5555555555555556,
              "#d8576b"
             ],
             [
              0.6666666666666666,
              "#ed7953"
             ],
             [
              0.7777777777777778,
              "#fb9f3a"
             ],
             [
              0.8888888888888888,
              "#fdca26"
             ],
             [
              1,
              "#f0f921"
             ]
            ],
            "type": "heatmapgl"
           }
          ],
          "histogram": [
           {
            "marker": {
             "colorbar": {
              "outlinewidth": 0,
              "ticks": ""
             }
            },
            "type": "histogram"
           }
          ],
          "histogram2d": [
           {
            "colorbar": {
             "outlinewidth": 0,
             "ticks": ""
            },
            "colorscale": [
             [
              0,
              "#0d0887"
             ],
             [
              0.1111111111111111,
              "#46039f"
             ],
             [
              0.2222222222222222,
              "#7201a8"
             ],
             [
              0.3333333333333333,
              "#9c179e"
             ],
             [
              0.4444444444444444,
              "#bd3786"
             ],
             [
              0.5555555555555556,
              "#d8576b"
             ],
             [
              0.6666666666666666,
              "#ed7953"
             ],
             [
              0.7777777777777778,
              "#fb9f3a"
             ],
             [
              0.8888888888888888,
              "#fdca26"
             ],
             [
              1,
              "#f0f921"
             ]
            ],
            "type": "histogram2d"
           }
          ],
          "histogram2dcontour": [
           {
            "colorbar": {
             "outlinewidth": 0,
             "ticks": ""
            },
            "colorscale": [
             [
              0,
              "#0d0887"
             ],
             [
              0.1111111111111111,
              "#46039f"
             ],
             [
              0.2222222222222222,
              "#7201a8"
             ],
             [
              0.3333333333333333,
              "#9c179e"
             ],
             [
              0.4444444444444444,
              "#bd3786"
             ],
             [
              0.5555555555555556,
              "#d8576b"
             ],
             [
              0.6666666666666666,
              "#ed7953"
             ],
             [
              0.7777777777777778,
              "#fb9f3a"
             ],
             [
              0.8888888888888888,
              "#fdca26"
             ],
             [
              1,
              "#f0f921"
             ]
            ],
            "type": "histogram2dcontour"
           }
          ],
          "mesh3d": [
           {
            "colorbar": {
             "outlinewidth": 0,
             "ticks": ""
            },
            "type": "mesh3d"
           }
          ],
          "parcoords": [
           {
            "line": {
             "colorbar": {
              "outlinewidth": 0,
              "ticks": ""
             }
            },
            "type": "parcoords"
           }
          ],
          "pie": [
           {
            "automargin": true,
            "type": "pie"
           }
          ],
          "scatter": [
           {
            "marker": {
             "colorbar": {
              "outlinewidth": 0,
              "ticks": ""
             }
            },
            "type": "scatter"
           }
          ],
          "scatter3d": [
           {
            "line": {
             "colorbar": {
              "outlinewidth": 0,
              "ticks": ""
             }
            },
            "marker": {
             "colorbar": {
              "outlinewidth": 0,
              "ticks": ""
             }
            },
            "type": "scatter3d"
           }
          ],
          "scattercarpet": [
           {
            "marker": {
             "colorbar": {
              "outlinewidth": 0,
              "ticks": ""
             }
            },
            "type": "scattercarpet"
           }
          ],
          "scattergeo": [
           {
            "marker": {
             "colorbar": {
              "outlinewidth": 0,
              "ticks": ""
             }
            },
            "type": "scattergeo"
           }
          ],
          "scattergl": [
           {
            "marker": {
             "colorbar": {
              "outlinewidth": 0,
              "ticks": ""
             }
            },
            "type": "scattergl"
           }
          ],
          "scattermapbox": [
           {
            "marker": {
             "colorbar": {
              "outlinewidth": 0,
              "ticks": ""
             }
            },
            "type": "scattermapbox"
           }
          ],
          "scatterpolar": [
           {
            "marker": {
             "colorbar": {
              "outlinewidth": 0,
              "ticks": ""
             }
            },
            "type": "scatterpolar"
           }
          ],
          "scatterpolargl": [
           {
            "marker": {
             "colorbar": {
              "outlinewidth": 0,
              "ticks": ""
             }
            },
            "type": "scatterpolargl"
           }
          ],
          "scatterternary": [
           {
            "marker": {
             "colorbar": {
              "outlinewidth": 0,
              "ticks": ""
             }
            },
            "type": "scatterternary"
           }
          ],
          "surface": [
           {
            "colorbar": {
             "outlinewidth": 0,
             "ticks": ""
            },
            "colorscale": [
             [
              0,
              "#0d0887"
             ],
             [
              0.1111111111111111,
              "#46039f"
             ],
             [
              0.2222222222222222,
              "#7201a8"
             ],
             [
              0.3333333333333333,
              "#9c179e"
             ],
             [
              0.4444444444444444,
              "#bd3786"
             ],
             [
              0.5555555555555556,
              "#d8576b"
             ],
             [
              0.6666666666666666,
              "#ed7953"
             ],
             [
              0.7777777777777778,
              "#fb9f3a"
             ],
             [
              0.8888888888888888,
              "#fdca26"
             ],
             [
              1,
              "#f0f921"
             ]
            ],
            "type": "surface"
           }
          ],
          "table": [
           {
            "cells": {
             "fill": {
              "color": "#EBF0F8"
             },
             "line": {
              "color": "white"
             }
            },
            "header": {
             "fill": {
              "color": "#C8D4E3"
             },
             "line": {
              "color": "white"
             }
            },
            "type": "table"
           }
          ]
         },
         "layout": {
          "annotationdefaults": {
           "arrowcolor": "#2a3f5f",
           "arrowhead": 0,
           "arrowwidth": 1
          },
          "coloraxis": {
           "colorbar": {
            "outlinewidth": 0,
            "ticks": ""
           }
          },
          "colorscale": {
           "diverging": [
            [
             0,
             "#8e0152"
            ],
            [
             0.1,
             "#c51b7d"
            ],
            [
             0.2,
             "#de77ae"
            ],
            [
             0.3,
             "#f1b6da"
            ],
            [
             0.4,
             "#fde0ef"
            ],
            [
             0.5,
             "#f7f7f7"
            ],
            [
             0.6,
             "#e6f5d0"
            ],
            [
             0.7,
             "#b8e186"
            ],
            [
             0.8,
             "#7fbc41"
            ],
            [
             0.9,
             "#4d9221"
            ],
            [
             1,
             "#276419"
            ]
           ],
           "sequential": [
            [
             0,
             "#0d0887"
            ],
            [
             0.1111111111111111,
             "#46039f"
            ],
            [
             0.2222222222222222,
             "#7201a8"
            ],
            [
             0.3333333333333333,
             "#9c179e"
            ],
            [
             0.4444444444444444,
             "#bd3786"
            ],
            [
             0.5555555555555556,
             "#d8576b"
            ],
            [
             0.6666666666666666,
             "#ed7953"
            ],
            [
             0.7777777777777778,
             "#fb9f3a"
            ],
            [
             0.8888888888888888,
             "#fdca26"
            ],
            [
             1,
             "#f0f921"
            ]
           ],
           "sequentialminus": [
            [
             0,
             "#0d0887"
            ],
            [
             0.1111111111111111,
             "#46039f"
            ],
            [
             0.2222222222222222,
             "#7201a8"
            ],
            [
             0.3333333333333333,
             "#9c179e"
            ],
            [
             0.4444444444444444,
             "#bd3786"
            ],
            [
             0.5555555555555556,
             "#d8576b"
            ],
            [
             0.6666666666666666,
             "#ed7953"
            ],
            [
             0.7777777777777778,
             "#fb9f3a"
            ],
            [
             0.8888888888888888,
             "#fdca26"
            ],
            [
             1,
             "#f0f921"
            ]
           ]
          },
          "colorway": [
           "#636efa",
           "#EF553B",
           "#00cc96",
           "#ab63fa",
           "#FFA15A",
           "#19d3f3",
           "#FF6692",
           "#B6E880",
           "#FF97FF",
           "#FECB52"
          ],
          "font": {
           "color": "#2a3f5f"
          },
          "geo": {
           "bgcolor": "white",
           "lakecolor": "white",
           "landcolor": "white",
           "showlakes": true,
           "showland": true,
           "subunitcolor": "#C8D4E3"
          },
          "hoverlabel": {
           "align": "left"
          },
          "hovermode": "closest",
          "mapbox": {
           "style": "light"
          },
          "paper_bgcolor": "white",
          "plot_bgcolor": "white",
          "polar": {
           "angularaxis": {
            "gridcolor": "#EBF0F8",
            "linecolor": "#EBF0F8",
            "ticks": ""
           },
           "bgcolor": "white",
           "radialaxis": {
            "gridcolor": "#EBF0F8",
            "linecolor": "#EBF0F8",
            "ticks": ""
           }
          },
          "scene": {
           "xaxis": {
            "backgroundcolor": "white",
            "gridcolor": "#DFE8F3",
            "gridwidth": 2,
            "linecolor": "#EBF0F8",
            "showbackground": true,
            "ticks": "",
            "zerolinecolor": "#EBF0F8"
           },
           "yaxis": {
            "backgroundcolor": "white",
            "gridcolor": "#DFE8F3",
            "gridwidth": 2,
            "linecolor": "#EBF0F8",
            "showbackground": true,
            "ticks": "",
            "zerolinecolor": "#EBF0F8"
           },
           "zaxis": {
            "backgroundcolor": "white",
            "gridcolor": "#DFE8F3",
            "gridwidth": 2,
            "linecolor": "#EBF0F8",
            "showbackground": true,
            "ticks": "",
            "zerolinecolor": "#EBF0F8"
           }
          },
          "shapedefaults": {
           "line": {
            "color": "#2a3f5f"
           }
          },
          "ternary": {
           "aaxis": {
            "gridcolor": "#DFE8F3",
            "linecolor": "#A2B1C6",
            "ticks": ""
           },
           "baxis": {
            "gridcolor": "#DFE8F3",
            "linecolor": "#A2B1C6",
            "ticks": ""
           },
           "bgcolor": "white",
           "caxis": {
            "gridcolor": "#DFE8F3",
            "linecolor": "#A2B1C6",
            "ticks": ""
           }
          },
          "title": {
           "x": 0.05
          },
          "xaxis": {
           "automargin": true,
           "gridcolor": "#EBF0F8",
           "linecolor": "#EBF0F8",
           "ticks": "",
           "title": {
            "standoff": 15
           },
           "zerolinecolor": "#EBF0F8",
           "zerolinewidth": 2
          },
          "yaxis": {
           "automargin": true,
           "gridcolor": "#EBF0F8",
           "linecolor": "#EBF0F8",
           "ticks": "",
           "title": {
            "standoff": 15
           },
           "zerolinecolor": "#EBF0F8",
           "zerolinewidth": 2
          }
         }
        },
        "width": 900,
        "xaxis": {
         "anchor": "y",
         "domain": [
          0,
          0.485
         ],
         "title": {
          "text": "Capacity (Mm<sup>3</sup>/y)"
         }
        },
        "xaxis2": {
         "anchor": "y2",
         "domain": [
          0.515,
          1
         ],
         "title": {
          "text": "Capacity (Mm<sup>3</sup>/y)"
         }
        },
        "yaxis": {
         "anchor": "x",
         "domain": [
          0,
          1
         ],
         "range": [
          -0.08,
          1.05
         ],
         "title": {
          "text": "LCOW ($/m<sup>3</sup>)"
         }
        },
        "yaxis2": {
         "anchor": "x2",
         "domain": [
          0,
          1
         ],
         "matches": "y",
         "showticklabels": false
        }
       }
      },
      "text/html": [
       "<div>                            <div id=\"8d080600-0a56-4cd0-ad8d-3faa4d20c4d6\" class=\"plotly-graph-div\" style=\"height:525px; width:900px;\"></div>            <script type=\"text/javascript\">                require([\"plotly\"], function(Plotly) {                    window.PLOTLYENV=window.PLOTLYENV || {};                                    if (document.getElementById(\"8d080600-0a56-4cd0-ad8d-3faa4d20c4d6\")) {                    Plotly.newPlot(                        \"8d080600-0a56-4cd0-ad8d-3faa4d20c4d6\",                        [{\"hovertemplate\": \"variable=Extended aeration<br>PopulationReclaimedWater=%{x}<br>value=%{y}<br>Cluster=%{text}<extra></extra>\", \"legendgroup\": \"Extended aeration\", \"marker\": {\"color\": \"#4C78A8\", \"symbol\": \"circle\"}, \"mode\": \"lines+markers\", \"name\": \"Extended aeration\", \"opacity\": 0.8, \"orientation\": \"v\", \"showlegend\": true, \"text\": [14.0, 0.0, 15.0, 25.0, 3.0, 29.0, 4.0, 27.0, 34.0, 35.0, 33.0, 30.0, 23.0, 13.0, 24.0, 31.0, 32.0, 5.0, 2.0, 19.0, 11.0, 21.0, 38.0, 18.0, 20.0, 17.0, 12.0, 22.0, 10.0, 39.0, 36.0, 1.0, 26.0, 9.0, 16.0, 7.0, 28.0, 37.0], \"type\": \"scatter\", \"x\": [33.95960715447166, 24.328297488256364, 20.006247955585366, 19.96546858119583, 15.109264457766228, 14.826957041885663, 14.77725018827449, 12.049268028084459, 10.605396865482355, 9.3812679790732, 7.862478833927749, 7.486677609409328, 7.398569535962219, 7.379063458091692, 6.460875067028055, 6.358394966292164, 5.975259563265194, 5.94050791661296, 5.721319450512251, 5.437563757160491, 4.252863889980327, 3.6997367125768816, 3.6170791156249407, 3.316220409648177, 3.1348557204702785, 2.7807406678867315, 2.3349320438558747, 1.8961070526991073, 1.3980921449046129, 1.1281199480661512, 0.8685398306689368, 0.7804807709085645, 0.7180135223027141, 0.6577593353338939, 0.3825330210131107, 0.15574896158439538, 0.08210981838356954, 0.05435362680191558], \"xaxis\": \"x\", \"y\": [0.03104942384285129, 0.03690540898907659, 0.040844219118699364, 0.04088746264674353, 0.047248519799848565, 0.04771337064539693, 0.04779661528256655, 0.05313985812975447, 0.056783120917453925, 0.06052044447782865, 0.06634120080801076, 0.06805289231540705, 0.06847325775193323, 0.06856735387773555, 0.07347561633301265, 0.07408953090694996, 0.07652521755154845, 0.07675791086836398, 0.07827487440077104, 0.08037552245528706, 0.09135031367451, 0.09823009944918293, 0.0993938790981442, 0.10399728589194428, 0.10709247433893648, 0.11400167261014695, 0.12488469840279987, 0.13922343763343753, 0.16324859343592732, 0.1826286825798767, 0.2094044914791696, 0.22145677156363067, 0.23134421141374217, 0.242211228978638, 0.3217961357358306, 0.5158444856114529, 0.722458884189756, 0.897862008721631], \"yaxis\": \"y\"}, {\"hovertemplate\": \"variable=Rotating biological contractors<br>PopulationReclaimedWater=%{x}<br>value=%{y}<br>Cluster=%{text}<extra></extra>\", \"legendgroup\": \"Rotating biological contractors\", \"marker\": {\"color\": \"#F58518\", \"symbol\": \"circle\"}, \"mode\": \"lines+markers\", \"name\": \"Rotating biological contractors\", \"opacity\": 0.8, \"orientation\": \"v\", \"showlegend\": true, \"text\": [14.0, 0.0, 15.0, 25.0, 3.0, 29.0, 4.0, 27.0, 34.0, 35.0, 33.0, 30.0, 23.0, 13.0, 24.0, 31.0, 32.0, 5.0, 2.0, 19.0, 11.0, 21.0, 38.0, 18.0, 20.0, 17.0, 12.0, 22.0, 10.0, 39.0, 36.0, 1.0, 26.0, 9.0, 16.0, 7.0, 28.0, 37.0, 6.0], \"type\": \"scatter\", \"x\": [33.95960715447166, 24.328297488256364, 20.006247955585366, 19.96546858119583, 15.109264457766228, 14.826957041885663, 14.77725018827449, 12.049268028084459, 10.605396865482355, 9.3812679790732, 7.862478833927749, 7.486677609409328, 7.398569535962219, 7.379063458091692, 6.460875067028055, 6.358394966292164, 5.975259563265194, 5.94050791661296, 5.721319450512251, 5.437563757160491, 4.252863889980327, 3.6997367125768816, 3.6170791156249407, 3.316220409648177, 3.1348557204702785, 2.7807406678867315, 2.3349320438558747, 1.8961070526991073, 1.3980921449046129, 1.1281199480661512, 0.8685398306689368, 0.7804807709085645, 0.7180135223027141, 0.6577593353338939, 0.3825330210131107, 0.15574896158439538, 0.08210981838356954, 0.05435362680191558, 0.012487493258935252], \"xaxis\": \"x\", \"y\": [0.03551857369779286, 0.040591966910848834, 0.04389933760818347, 0.04393522830205098, 0.04912483004184485, 0.04949750459390501, 0.04956415371604098, 0.05378844977802183, 0.056612292936477994, 0.05946580511231477, 0.06383042409794626, 0.06509676688071898, 0.06540662734978824, 0.06547592720377794, 0.06906105997096199, 0.0695055094232329, 0.07126052741835012, 0.07142750976484732, 0.0725132372471559, 0.07400870712589486, 0.08168095792500404, 0.0863806957467402, 0.0871680179316473, 0.09026165497121008, 0.09232381587738299, 0.0968779489370742, 0.10392384589373663, 0.11299321084968993, 0.12771945030850193, 0.13923143966034313, 0.15468000509997196, 0.16148093244414957, 0.166995909702063, 0.172994220551674, 0.2152055425838952, 0.30919293482502425, 0.4003968755050664, 0.4730365319960973, 0.857865340068616], \"yaxis\": \"y\"}, {\"hovertemplate\": \"variable=Sequencing batch reactor<br>PopulationReclaimedWater=%{x}<br>value=%{y}<br>Cluster=%{text}<extra></extra>\", \"legendgroup\": \"Sequencing batch reactor\", \"marker\": {\"color\": \"#72B7B2\", \"symbol\": \"circle\"}, \"mode\": \"lines+markers\", \"name\": \"Sequencing batch reactor\", \"opacity\": 0.8, \"orientation\": \"v\", \"showlegend\": true, \"text\": [14.0, 0.0, 15.0, 25.0, 3.0, 29.0, 4.0, 27.0, 34.0, 35.0, 33.0, 30.0, 23.0, 13.0, 24.0, 31.0, 32.0, 5.0, 2.0, 19.0, 11.0, 21.0, 38.0, 18.0, 20.0, 17.0, 12.0, 22.0, 10.0, 39.0, 36.0, 1.0, 26.0, 9.0, 16.0, 7.0, 28.0, 37.0, 6.0], \"type\": \"scatter\", \"x\": [33.95960715447166, 24.328297488256364, 20.006247955585366, 19.96546858119583, 15.109264457766228, 14.826957041885663, 14.77725018827449, 12.049268028084459, 10.605396865482355, 9.3812679790732, 7.862478833927749, 7.486677609409328, 7.398569535962219, 7.379063458091692, 6.460875067028055, 6.358394966292164, 5.975259563265194, 5.94050791661296, 5.721319450512251, 5.437563757160491, 4.252863889980327, 3.6997367125768816, 3.6170791156249407, 3.316220409648177, 3.1348557204702785, 2.7807406678867315, 2.3349320438558747, 1.8961070526991073, 1.3980921449046129, 1.1281199480661512, 0.8685398306689368, 0.7804807709085645, 0.7180135223027141, 0.6577593353338939, 0.3825330210131107, 0.15574896158439538, 0.08210981838356954, 0.05435362680191558, 0.012487493258935252], \"xaxis\": \"x\", \"y\": [0.041849714362569505, 0.04779035747038007, 0.05165935017265088, 0.05170131994349751, 0.057766566312636776, 0.05820187255888498, 0.0582797192953631, 0.06321164735605643, 0.06650630508212911, 0.06983384345536796, 0.07492027018768734, 0.07639532588308358, 0.07675620850276438, 0.07683691683950836, 0.08101099846254285, 0.08152829108502115, 0.08357059130908542, 0.08376487786909335, 0.08502801515452026, 0.08676749996508433, 0.09568549622190345, 0.10114347150768517, 0.1020574697298099, 0.10564791402160746, 0.10804041582849325, 0.11332181346682547, 0.12148694668988466, 0.13198685771843058, 0.14901328283259482, 0.16230525847643187, 0.18011935636344223, 0.18795374085940267, 0.1943033672860535, 0.20120611920716935, 0.24969053792290571, 0.35715930288387915, 0.46093215783623565, 0.5432874266861933, 0.9763437351385224], \"yaxis\": \"y\"}, {\"hovertemplate\": \"variable=Membrane  bioreactor<br>PopulationReclaimedWater=%{x}<br>value=%{y}<br>Cluster=%{text}<extra></extra>\", \"legendgroup\": \"Membrane  bioreactor\", \"marker\": {\"color\": \"#54A24B\", \"symbol\": \"circle\"}, \"mode\": \"lines+markers\", \"name\": \"Membrane  bioreactor\", \"opacity\": 0.8, \"orientation\": \"v\", \"showlegend\": true, \"text\": [14.0, 0.0, 15.0, 25.0, 3.0, 29.0, 4.0, 27.0, 34.0, 35.0, 33.0, 30.0, 23.0, 13.0, 24.0, 31.0, 32.0, 5.0, 2.0, 19.0, 11.0, 21.0, 38.0, 18.0, 20.0, 17.0, 12.0, 22.0, 10.0, 39.0, 36.0, 1.0, 26.0, 9.0, 16.0, 7.0, 28.0, 37.0, 6.0], \"type\": \"scatter\", \"x\": [33.95960715447166, 24.328297488256364, 20.006247955585366, 19.96546858119583, 15.109264457766228, 14.826957041885663, 14.77725018827449, 12.049268028084459, 10.605396865482355, 9.3812679790732, 7.862478833927749, 7.486677609409328, 7.398569535962219, 7.379063458091692, 6.460875067028055, 6.358394966292164, 5.975259563265194, 5.94050791661296, 5.721319450512251, 5.437563757160491, 4.252863889980327, 3.6997367125768816, 3.6170791156249407, 3.316220409648177, 3.1348557204702785, 2.7807406678867315, 2.3349320438558747, 1.8961070526991073, 1.3980921449046129, 1.1281199480661512, 0.8685398306689368, 0.7804807709085645, 0.7180135223027141, 0.6577593353338939, 0.3825330210131107, 0.15574896158439538, 0.08210981838356954, 0.05435362680191558, 0.012487493258935252], \"xaxis\": \"x\", \"y\": [0.08417257940332966, 0.09332438455985644, 0.09915240339917869, 0.09921509895493894, 0.10816599414044527, 0.10880044108665744, 0.10891379350066187, 0.11603138210964643, 0.1207199391695969, 0.12540534496364406, 0.13247699222482992, 0.13450844997652464, 0.13500418860390603, 0.13511498864923704, 0.14081243767628693, 0.14151413342034388, 0.14427533827044114, 0.14453726665226924, 0.14623705503920945, 0.1485691533160021, 0.16037552995180282, 0.16748615405804412, 0.16866891090046468, 0.17329379901268896, 0.17635724676082928, 0.18306996776144754, 0.19332071824894081, 0.20629360893478343, 0.2268841230144074, 0.24261815409404658, 0.2632933705528017, 0.2722502664732906, 0.2794531220878391, 0.28722855366612526, 0.34041406998948026, 0.45144591576425075, 0.5522937745434137, 0.6290643634068187, 1.001931438987678], \"yaxis\": \"y\"}, {\"hovertemplate\": \"variable=Intermittent sand filter<br>PopulationReclaimedWater=%{x}<br>value=%{y}<br>Cluster=%{text}<extra></extra>\", \"legendgroup\": \"Intermittent sand filter\", \"marker\": {\"color\": \"#EECA3B\", \"symbol\": \"circle\"}, \"mode\": \"lines+markers\", \"name\": \"Intermittent sand filter\", \"opacity\": 0.8, \"orientation\": \"v\", \"showlegend\": true, \"text\": [14.0, 0.0, 15.0, 25.0, 3.0, 29.0, 4.0, 27.0, 34.0, 35.0, 33.0, 30.0, 23.0, 13.0, 24.0, 31.0, 32.0, 5.0, 2.0, 19.0, 11.0, 21.0, 38.0, 18.0, 20.0, 17.0, 12.0, 22.0, 10.0, 39.0, 36.0, 1.0, 26.0, 9.0, 16.0, 7.0, 28.0, 37.0, 6.0, 8.0], \"type\": \"scatter\", \"x\": [33.95960715447166, 24.328297488256364, 20.006247955585366, 19.96546858119583, 15.109264457766228, 14.826957041885663, 14.77725018827449, 12.049268028084459, 10.605396865482355, 9.3812679790732, 7.862478833927749, 7.486677609409328, 7.398569535962219, 7.379063458091692, 6.460875067028055, 6.358394966292164, 5.975259563265194, 5.94050791661296, 5.721319450512251, 5.437563757160491, 4.252863889980327, 3.6997367125768816, 3.6170791156249407, 3.316220409648177, 3.1348557204702785, 2.7807406678867315, 2.3349320438558747, 1.8961070526991073, 1.3980921449046129, 1.1281199480661512, 0.8685398306689368, 0.7804807709085645, 0.7180135223027141, 0.6577593353338939, 0.3825330210131107, 0.15574896158439538, 0.08210981838356954, 0.05435362680191558, 0.012487493258935252, 0.006789682369366212], \"xaxis\": \"x\", \"y\": [0.1295589643729303, 0.13043648001663788, 0.13101204595216112, 0.13101830766044353, 0.13192743112755403, 0.13199300754591545, 0.13200473943295607, 0.1327509661320018, 0.13325278404070037, 0.133762387021127, 0.13454690286896734, 0.13477569327332567, 0.13483175753205923, 0.13484430064031028, 0.13549542775911216, 0.13557645589573286, 0.1358970891778171, 0.1359276524074179, 0.13612661675592708, 0.13640135614416907, 0.1378237116327106, 0.13870596318925976, 0.13885460074250486, 0.1394410168521458, 0.1398340367857145, 0.14070813173446609, 0.14207755830498267, 0.1438719084273616, 0.1468651144639952, 0.14927720503120098, 0.15261911510444898, 0.15412998978298817, 0.15537352550096906, 0.15674504741877318, 0.16698552871829367, 0.19392402741504752, 0.22632290221818877, 0.25709176015315555, 0.5077088591751194, 0.7518350137544164], \"yaxis\": \"y\"}, {\"hovertemplate\": \"variable=Trickling filter<br>PopulationReclaimedWater=%{x}<br>value=%{y}<br>Cluster=%{text}<extra></extra>\", \"legendgroup\": \"Trickling filter\", \"marker\": {\"color\": \"#B279A2\", \"symbol\": \"circle\"}, \"mode\": \"lines+markers\", \"name\": \"Trickling filter\", \"opacity\": 0.8, \"orientation\": \"v\", \"showlegend\": true, \"text\": [14.0, 0.0, 15.0, 25.0, 3.0, 29.0, 4.0, 27.0, 34.0, 35.0, 33.0, 30.0, 23.0, 13.0, 24.0, 31.0, 32.0, 5.0, 2.0, 19.0, 11.0, 21.0, 38.0, 18.0, 20.0, 17.0, 12.0, 22.0, 10.0, 39.0, 36.0, 1.0, 26.0, 9.0, 16.0, 7.0, 28.0, 37.0], \"type\": \"scatter\", \"x\": [33.95960715447166, 24.328297488256364, 20.006247955585366, 19.96546858119583, 15.109264457766228, 14.826957041885663, 14.77725018827449, 12.049268028084459, 10.605396865482355, 9.3812679790732, 7.862478833927749, 7.486677609409328, 7.398569535962219, 7.379063458091692, 6.460875067028055, 6.358394966292164, 5.975259563265194, 5.94050791661296, 5.721319450512251, 5.437563757160491, 4.252863889980327, 3.6997367125768816, 3.6170791156249407, 3.316220409648177, 3.1348557204702785, 2.7807406678867315, 2.3349320438558747, 1.8961070526991073, 1.3980921449046129, 1.1281199480661512, 0.8685398306689368, 0.7804807709085645, 0.7180135223027141, 0.6577593353338939, 0.3825330210131107, 0.15574896158439538, 0.08210981838356954, 0.05435362680191558], \"xaxis\": \"x\", \"y\": [0.15002142124751575, 0.15204507257961322, 0.1533998595076689, 0.15341470940527963, 0.15559426741784338, 0.15575320634233822, 0.15578166449452618, 0.15760580427879717, 0.15884714099183977, 0.1601188762009687, 0.16209695683267503, 0.16267816738837004, 0.16282087631476713, 0.16285281939039564, 0.16451842006704887, 0.16472667676575284, 0.16555280633000838, 0.1656317216128303, 0.166146150436004, 0.1668584413689872, 0.17057942321424518, 0.17291277481568434, 0.17330761158379437, 0.1748698943394231, 0.17592082235595777, 0.17826848086119398, 0.18197230242692977, 0.18686579344546658, 0.1951075878664668, 0.20180127316076077, 0.21112479864467162, 0.21535217984792837, 0.21883514134512508, 0.22267907184991778, 0.2513681242783364, 0.32565234117287767, 0.41193611666695285, 0.4911544578686815], \"yaxis\": \"y\"}, {\"hovertemplate\": \"variable=Moving bed biofilm reactor<br>PopulationReclaimedWater=%{x}<br>value=%{y}<br>Cluster=%{text}<extra></extra>\", \"legendgroup\": \"Moving bed biofilm reactor\", \"marker\": {\"color\": \"#FF9DA6\", \"symbol\": \"circle\"}, \"mode\": \"lines+markers\", \"name\": \"Moving bed biofilm reactor\", \"opacity\": 0.8, \"orientation\": \"v\", \"showlegend\": true, \"text\": [14.0, 0.0, 15.0, 25.0, 3.0, 29.0, 4.0, 27.0, 34.0, 35.0, 33.0, 30.0, 23.0, 13.0, 24.0, 31.0, 32.0, 5.0, 2.0, 19.0, 11.0, 21.0, 38.0, 18.0, 20.0, 17.0, 12.0, 22.0, 10.0, 39.0, 36.0, 1.0, 26.0, 9.0, 16.0, 7.0, 28.0, 37.0, 6.0], \"type\": \"scatter\", \"x\": [33.95960715447166, 24.328297488256364, 20.006247955585366, 19.96546858119583, 15.109264457766228, 14.826957041885663, 14.77725018827449, 12.049268028084459, 10.605396865482355, 9.3812679790732, 7.862478833927749, 7.486677609409328, 7.398569535962219, 7.379063458091692, 6.460875067028055, 6.358394966292164, 5.975259563265194, 5.94050791661296, 5.721319450512251, 5.437563757160491, 4.252863889980327, 3.6997367125768816, 3.6170791156249407, 3.316220409648177, 3.1348557204702785, 2.7807406678867315, 2.3349320438558747, 1.8961070526991073, 1.3980921449046129, 1.1281199480661512, 0.8685398306689368, 0.7804807709085645, 0.7180135223027141, 0.6577593353338939, 0.3825330210131107, 0.15574896158439538, 0.08210981838356954, 0.05435362680191558, 0.012487493258935252], \"xaxis\": \"x\", \"y\": [0.197351416662507, 0.20113255041962935, 0.20345783222160013, 0.20348252845929035, 0.2069446712046185, 0.20718553339817894, 0.2072285068929114, 0.20989218405816318, 0.21161192342200966, 0.2133052759014895, 0.21581746222694748, 0.21653016238653783, 0.21670350772212624, 0.21674222084622302, 0.21871842990958532, 0.21895992829857563, 0.21990641505348588, 0.21999588927520697, 0.22057526471417938, 0.22136667367185348, 0.22531673063746027, 0.2276557109089199, 0.22804220571451247, 0.2295470656818141, 0.2305385526273849, 0.23269780608865936, 0.23596490290374703, 0.24005947239000536, 0.24650347127213473, 0.2514133313589473, 0.25788899983899666, 0.2607137986472619, 0.26299761811606, 0.2654774909043783, 0.28301488672180464, 0.325036275483427, 0.3730906324919433, 0.4182708262766583, 0.7944738203929572], \"yaxis\": \"y\"}, {\"hovertemplate\": \"PopulationLeastCostTechnology=Extended aeration<br>PopulationReclaimedWater=%{x}<br>PopulationLeastCost=%{y}<br>Cluster=%{text}<extra></extra>\", \"legendgroup\": \"Extended aeration\", \"line\": {\"color\": \"#4C78A8\", \"dash\": \"solid\"}, \"mode\": \"lines+markers\", \"name\": \"Extended aeration\", \"opacity\": 0.8, \"orientation\": \"v\", \"showlegend\": false, \"text\": [14.0, 0.0, 15.0, 25.0, 3.0, 29.0, 4.0, 27.0], \"type\": \"scatter\", \"x\": [33.95960715447085, 24.328297488255707, 20.00624795558504, 19.96546858119578, 15.109264457766347, 14.826957041885782, 14.777250188274683, 12.04926802808433], \"xaxis\": \"x2\", \"y\": [0.03104942384285129, 0.03690540898907659, 0.040844219118699364, 0.04088746264674353, 0.047248519799848565, 0.04771337064539693, 0.04779661528256655, 0.05313985812975447], \"yaxis\": \"y2\"}, {\"hovertemplate\": \"PopulationLeastCostTechnology=Rotating biological contractors<br>PopulationReclaimedWater=%{x}<br>PopulationLeastCost=%{y}<br>Cluster=%{text}<extra></extra>\", \"legendgroup\": \"Rotating biological contractors\", \"line\": {\"color\": \"#F58518\", \"dash\": \"solid\"}, \"mode\": \"lines+markers\", \"name\": \"Rotating biological contractors\", \"opacity\": 0.8, \"orientation\": \"v\", \"showlegend\": false, \"text\": [34.0, 35.0, 33.0, 30.0, 23.0, 13.0, 24.0, 31.0, 32.0, 5.0, 2.0, 19.0, 11.0, 21.0, 38.0, 18.0, 20.0, 17.0, 12.0, 22.0, 10.0, 39.0], \"type\": \"scatter\", \"x\": [10.605396865482465, 9.38126797907313, 7.862478833927821, 7.486677609409288, 7.398569535962339, 7.379063458091507, 6.460875067028146, 6.3583949662920975, 5.975259563265152, 5.94050791661287, 5.721319450512283, 5.437563757160539, 4.252863889980347, 3.699736712576902, 3.6170791156249718, 3.3162204096481704, 3.134855720470258, 2.7807406678867252, 2.3349320438558703, 1.896107052699122, 1.3980921449046098, 1.1281199480661543], \"xaxis\": \"x2\", \"y\": [0.056612292936477994, 0.05946580511231477, 0.06383042409794626, 0.06509676688071898, 0.06540662734978824, 0.06547592720377794, 0.06906105997096199, 0.0695055094232329, 0.07126052741835012, 0.07142750976484732, 0.0725132372471559, 0.07400870712589486, 0.08168095792500404, 0.0863806957467402, 0.0871680179316473, 0.09026165497121008, 0.09232381587738299, 0.0968779489370742, 0.10392384589373663, 0.11299321084968993, 0.12771945030850193, 0.13923143966034313], \"yaxis\": \"y2\"}, {\"hovertemplate\": \"PopulationLeastCostTechnology=Intermittent sand filter<br>PopulationReclaimedWater=%{x}<br>PopulationLeastCost=%{y}<br>Cluster=%{text}<extra></extra>\", \"legendgroup\": \"Intermittent sand filter\", \"line\": {\"color\": \"#EECA3B\", \"dash\": \"solid\"}, \"mode\": \"lines+markers\", \"name\": \"Intermittent sand filter\", \"opacity\": 0.8, \"orientation\": \"v\", \"showlegend\": false, \"text\": [36.0, 1.0, 26.0, 9.0, 16.0, 7.0, 28.0, 37.0, 6.0, 8.0], \"type\": \"scatter\", \"x\": [0.8685398306689344, 0.7804807709085655, 0.7180135223027131, 0.6577593353338963, 0.38253302101311004, 0.15574896158439547, 0.08210981838356955, 0.05435362680191556, 0.012487493258935252, 0.006789682369366212], \"xaxis\": \"x2\", \"y\": [0.15261911510444898, 0.15412998978298817, 0.15537352550096906, 0.15674504741877318, 0.16698552871829367, 0.19392402741504752, 0.22632290221818877, 0.25709176015315555, 0.5077088591751194, 0.7518350137544164], \"yaxis\": \"y2\"}, {\"marker\": {\"color\": \"#636363\", \"opacity\": 0.5}, \"mode\": \"markers+text\", \"name\": \"Clusters\", \"text\": \"\", \"type\": \"scatter\", \"x\": [10], \"y\": [2]}],                        {\"annotations\": [{\"align\": \"center\", \"arrowcolor\": \"#636363\", \"arrowhead\": 1, \"arrowside\": \"none\", \"arrowsize\": 1, \"arrowwidth\": 1, \"ax\": 10, \"ay\": -20, \"font\": {\"size\": 10}, \"opacity\": 0.5, \"showarrow\": true, \"text\": \"0\", \"x\": 24.328297488255707, \"xref\": \"x2\", \"xshift\": 1.3416407864998738, \"y\": 0.03690540898907659, \"yref\": \"y2\", \"yshift\": 2.6832815729997477}, {\"align\": \"center\", \"arrowcolor\": \"#636363\", \"arrowhead\": 1, \"arrowside\": \"none\", \"arrowsize\": 1, \"arrowwidth\": 1, \"ax\": 5, \"ay\": -20, \"font\": {\"size\": 10}, \"opacity\": 0.5, \"showarrow\": true, \"text\": \"1\", \"x\": 0.7804807709085655, \"xref\": \"x2\", \"xshift\": 0.7276068751089989, \"y\": 0.15412998978298817, \"yref\": \"y2\", \"yshift\": 2.9104275004359956}, {\"align\": \"center\", \"arrowcolor\": \"#636363\", \"arrowhead\": 1, \"arrowside\": \"none\", \"arrowsize\": 1, \"arrowwidth\": 1, \"ax\": 10, \"ay\": -20, \"font\": {\"size\": 10}, \"opacity\": 0.5, \"showarrow\": true, \"text\": \"2\", \"x\": 5.721319450512283, \"xref\": \"x2\", \"xshift\": 1.3416407864998738, \"y\": 0.0725132372471559, \"yref\": \"y2\", \"yshift\": 2.6832815729997477}, {\"align\": \"center\", \"arrowcolor\": \"#636363\", \"arrowhead\": 1, \"arrowside\": \"none\", \"arrowsize\": 1, \"arrowwidth\": 1, \"ax\": 5, \"ay\": -20, \"font\": {\"size\": 10}, \"opacity\": 0.5, \"showarrow\": true, \"text\": \"3\", \"x\": 15.109264457766347, \"xref\": \"x2\", \"xshift\": 0.7276068751089989, \"y\": 0.047248519799848565, \"yref\": \"y2\", \"yshift\": 2.9104275004359956}, {\"align\": \"center\", \"arrowcolor\": \"#636363\", \"arrowhead\": 1, \"arrowside\": \"none\", \"arrowsize\": 1, \"arrowwidth\": 1, \"ax\": -25, \"ay\": 5, \"font\": {\"size\": 10}, \"opacity\": 0.5, \"showarrow\": true, \"text\": \"4\", \"x\": 14.777250188274683, \"xref\": \"x2\", \"xshift\": -2.94174202707276, \"y\": 0.04779661528256655, \"yref\": \"y2\", \"yshift\": -0.5883484054145521}, {\"align\": \"center\", \"arrowcolor\": \"#636363\", \"arrowhead\": 1, \"arrowside\": \"none\", \"arrowsize\": 1, \"arrowwidth\": 1, \"ax\": -20, \"ay\": 30, \"font\": {\"size\": 10}, \"opacity\": 0.5, \"showarrow\": true, \"text\": \"5\", \"x\": 5.94050791661287, \"xref\": \"x2\", \"xshift\": -1.6641005886756874, \"y\": 0.07142750976484732, \"yref\": \"y2\", \"yshift\": -2.496150883013531}, {\"align\": \"center\", \"arrowcolor\": \"#636363\", \"arrowhead\": 1, \"arrowside\": \"none\", \"arrowsize\": 1, \"arrowwidth\": 1, \"ax\": -30, \"ay\": 20, \"font\": {\"size\": 10}, \"opacity\": 0.5, \"showarrow\": true, \"text\": \"6\", \"x\": 0.012487493258935252, \"xref\": \"x2\", \"xshift\": -2.496150883013531, \"y\": 0.5077088591751194, \"yref\": \"y2\", \"yshift\": -1.6641005886756874}, {\"align\": \"center\", \"arrowcolor\": \"#636363\", \"arrowhead\": 1, \"arrowside\": \"none\", \"arrowsize\": 1, \"arrowwidth\": 1, \"ax\": 10, \"ay\": 20, \"font\": {\"size\": 10}, \"opacity\": 0.5, \"showarrow\": true, \"text\": \"7\", \"x\": 0.15574896158439547, \"xref\": \"x2\", \"xshift\": 1.3416407864998738, \"y\": 0.19392402741504752, \"yref\": \"y2\", \"yshift\": -2.6832815729997477}, {\"align\": \"center\", \"arrowcolor\": \"#636363\", \"arrowhead\": 1, \"arrowside\": \"none\", \"arrowsize\": 1, \"arrowwidth\": 1, \"ax\": -30, \"ay\": 10, \"font\": {\"size\": 10}, \"opacity\": 0.5, \"showarrow\": true, \"text\": \"8\", \"x\": 0.006789682369366212, \"xref\": \"x2\", \"xshift\": -2.846049894151541, \"y\": 0.7518350137544164, \"yref\": \"y2\", \"yshift\": -0.9486832980505138}, {\"align\": \"center\", \"arrowcolor\": \"#636363\", \"arrowhead\": 1, \"arrowside\": \"none\", \"arrowsize\": 1, \"arrowwidth\": 1, \"ax\": -20, \"ay\": -20, \"font\": {\"size\": 10}, \"opacity\": 0.5, \"showarrow\": true, \"text\": \"9\", \"x\": 0.6577593353338963, \"xref\": \"x2\", \"xshift\": -2.1213203435596424, \"y\": 0.15674504741877318, \"yref\": \"y2\", \"yshift\": 2.1213203435596424}, {\"align\": \"center\", \"arrowcolor\": \"#636363\", \"arrowhead\": 1, \"arrowside\": \"none\", \"arrowsize\": 1, \"arrowwidth\": 1, \"ax\": -30, \"ay\": 30, \"font\": {\"size\": 10}, \"opacity\": 0.5, \"showarrow\": true, \"text\": \"10\", \"x\": 1.3980921449046098, \"xref\": \"x2\", \"xshift\": -2.1213203435596424, \"y\": 0.12771945030850193, \"yref\": \"y2\", \"yshift\": -2.1213203435596424}, {\"align\": \"center\", \"arrowcolor\": \"#636363\", \"arrowhead\": 1, \"arrowside\": \"none\", \"arrowsize\": 1, \"arrowwidth\": 1, \"ax\": 10, \"ay\": -20, \"font\": {\"size\": 10}, \"opacity\": 0.5, \"showarrow\": true, \"text\": \"11\", \"x\": 4.252863889980347, \"xref\": \"x2\", \"xshift\": 1.3416407864998738, \"y\": 0.08168095792500404, \"yref\": \"y2\", \"yshift\": 2.6832815729997477}, {\"align\": \"center\", \"arrowcolor\": \"#636363\", \"arrowhead\": 1, \"arrowside\": \"none\", \"arrowsize\": 1, \"arrowwidth\": 1, \"ax\": -5, \"ay\": 25, \"font\": {\"size\": 10}, \"opacity\": 0.5, \"showarrow\": true, \"text\": \"12\", \"x\": 2.3349320438558703, \"xref\": \"x2\", \"xshift\": -0.5883484054145521, \"y\": 0.10392384589373663, \"yref\": \"y2\", \"yshift\": -2.94174202707276}, {\"align\": \"center\", \"arrowcolor\": \"#636363\", \"arrowhead\": 1, \"arrowside\": \"none\", \"arrowsize\": 1, \"arrowwidth\": 1, \"ax\": 10, \"ay\": -20, \"font\": {\"size\": 10}, \"opacity\": 0.5, \"showarrow\": true, \"text\": \"13\", \"x\": 7.379063458091507, \"xref\": \"x2\", \"xshift\": 1.3416407864998738, \"y\": 0.06547592720377794, \"yref\": \"y2\", \"yshift\": 2.6832815729997477}, {\"align\": \"center\", \"arrowcolor\": \"#636363\", \"arrowhead\": 1, \"arrowside\": \"none\", \"arrowsize\": 1, \"arrowwidth\": 1, \"ax\": 20, \"ay\": -30, \"font\": {\"size\": 10}, \"opacity\": 0.5, \"showarrow\": true, \"text\": \"14\", \"x\": 33.95960715447085, \"xref\": \"x2\", \"xshift\": 1.6641005886756874, \"y\": 0.03104942384285129, \"yref\": \"y2\", \"yshift\": 2.496150883013531}, {\"align\": \"center\", \"arrowcolor\": \"#636363\", \"arrowhead\": 1, \"arrowside\": \"none\", \"arrowsize\": 1, \"arrowwidth\": 1, \"ax\": 10, \"ay\": -20, \"font\": {\"size\": 10}, \"opacity\": 0.5, \"showarrow\": true, \"text\": \"15\", \"x\": 20.00624795558504, \"xref\": \"x2\", \"xshift\": 1.3416407864998738, \"y\": 0.040844219118699364, \"yref\": \"y2\", \"yshift\": 2.6832815729997477}, {\"align\": \"center\", \"arrowcolor\": \"#636363\", \"arrowhead\": 1, \"arrowside\": \"none\", \"arrowsize\": 1, \"arrowwidth\": 1, \"ax\": 15, \"ay\": -20, \"font\": {\"size\": 10}, \"opacity\": 0.5, \"showarrow\": true, \"text\": \"16\", \"x\": 0.38253302101311004, \"xref\": \"x2\", \"xshift\": 1.7999999999999998, \"y\": 0.16698552871829367, \"yref\": \"y2\", \"yshift\": 2.4}, {\"align\": \"center\", \"arrowcolor\": \"#636363\", \"arrowhead\": 1, \"arrowside\": \"none\", \"arrowsize\": 1, \"arrowwidth\": 1, \"ax\": 10, \"ay\": -45, \"font\": {\"size\": 10}, \"opacity\": 0.5, \"showarrow\": true, \"text\": \"17\", \"x\": 2.7807406678867252, \"xref\": \"x2\", \"xshift\": 0.6507913734559685, \"y\": 0.0968779489370742, \"yref\": \"y2\", \"yshift\": 2.928561180551858}, {\"align\": \"center\", \"arrowcolor\": \"#636363\", \"arrowhead\": 1, \"arrowside\": \"none\", \"arrowsize\": 1, \"arrowwidth\": 1, \"ax\": 20, \"ay\": -40, \"font\": {\"size\": 10}, \"opacity\": 0.5, \"showarrow\": true, \"text\": \"18\", \"x\": 3.3162204096481704, \"xref\": \"x2\", \"xshift\": 1.3416407864998738, \"y\": 0.09026165497121008, \"yref\": \"y2\", \"yshift\": 2.6832815729997477}, {\"align\": \"center\", \"arrowcolor\": \"#636363\", \"arrowhead\": 1, \"arrowside\": \"none\", \"arrowsize\": 1, \"arrowwidth\": 1, \"ax\": -20, \"ay\": 40, \"font\": {\"size\": 10}, \"opacity\": 0.5, \"showarrow\": true, \"text\": \"19\", \"x\": 5.437563757160539, \"xref\": \"x2\", \"xshift\": -1.3416407864998738, \"y\": 0.07400870712589486, \"yref\": \"y2\", \"yshift\": -2.6832815729997477}, {\"align\": \"center\", \"arrowcolor\": \"#636363\", \"arrowhead\": 1, \"arrowside\": \"none\", \"arrowsize\": 1, \"arrowwidth\": 1, \"ax\": 10, \"ay\": 25, \"font\": {\"size\": 10}, \"opacity\": 0.5, \"showarrow\": true, \"text\": \"20\", \"x\": 3.134855720470258, \"xref\": \"x2\", \"xshift\": 1.1141720290623112, \"y\": 0.09232381587738299, \"yref\": \"y2\", \"yshift\": -2.7854300726557777}, {\"align\": \"center\", \"arrowcolor\": \"#636363\", \"arrowhead\": 1, \"arrowside\": \"none\", \"arrowsize\": 1, \"arrowwidth\": 1, \"ax\": 10, \"ay\": -20, \"font\": {\"size\": 10}, \"opacity\": 0.5, \"showarrow\": true, \"text\": \"21\", \"x\": 3.699736712576902, \"xref\": \"x2\", \"xshift\": 1.3416407864998738, \"y\": 0.0863806957467402, \"yref\": \"y2\", \"yshift\": 2.6832815729997477}, {\"align\": \"center\", \"arrowcolor\": \"#636363\", \"arrowhead\": 1, \"arrowside\": \"none\", \"arrowsize\": 1, \"arrowwidth\": 1, \"ax\": 20, \"ay\": -40, \"font\": {\"size\": 10}, \"opacity\": 0.5, \"showarrow\": true, \"text\": \"22\", \"x\": 1.896107052699122, \"xref\": \"x2\", \"xshift\": 1.3416407864998738, \"y\": 0.11299321084968993, \"yref\": \"y2\", \"yshift\": 2.6832815729997477}, {\"align\": \"center\", \"arrowcolor\": \"#636363\", \"arrowhead\": 1, \"arrowside\": \"none\", \"arrowsize\": 1, \"arrowwidth\": 1, \"ax\": 25, \"ay\": -25, \"font\": {\"size\": 10}, \"opacity\": 0.5, \"showarrow\": true, \"text\": \"23\", \"x\": 7.398569535962339, \"xref\": \"x2\", \"xshift\": 2.1213203435596424, \"y\": 0.06540662734978824, \"yref\": \"y2\", \"yshift\": 2.1213203435596424}, {\"align\": \"center\", \"arrowcolor\": \"#636363\", \"arrowhead\": 1, \"arrowside\": \"none\", \"arrowsize\": 1, \"arrowwidth\": 1, \"ax\": 5, \"ay\": -20, \"font\": {\"size\": 10}, \"opacity\": 0.5, \"showarrow\": true, \"text\": \"24\", \"x\": 6.460875067028146, \"xref\": \"x2\", \"xshift\": 0.7276068751089989, \"y\": 0.06906105997096199, \"yref\": \"y2\", \"yshift\": 2.9104275004359956}, {\"align\": \"center\", \"arrowcolor\": \"#636363\", \"arrowhead\": 1, \"arrowside\": \"none\", \"arrowsize\": 1, \"arrowwidth\": 1, \"ax\": 18, \"ay\": -20, \"font\": {\"size\": 10}, \"opacity\": 0.5, \"showarrow\": true, \"text\": \"25\", \"x\": 19.96546858119578, \"xref\": \"x2\", \"xshift\": 2.006894194867349, \"y\": 0.04088746264674353, \"yref\": \"y2\", \"yshift\": 2.2298824387414986}, {\"align\": \"center\", \"arrowcolor\": \"#636363\", \"arrowhead\": 1, \"arrowside\": \"none\", \"arrowsize\": 1, \"arrowwidth\": 1, \"ax\": 1, \"ay\": 20, \"font\": {\"size\": 10}, \"opacity\": 0.5, \"showarrow\": true, \"text\": \"26\", \"x\": 0.7180135223027131, \"xref\": \"x2\", \"xshift\": 0.1498128508316767, \"y\": 0.15537352550096906, \"yref\": \"y2\", \"yshift\": -2.996257016633534}, {\"align\": \"center\", \"arrowcolor\": \"#636363\", \"arrowhead\": 1, \"arrowside\": \"none\", \"arrowsize\": 1, \"arrowwidth\": 1, \"ax\": 10, \"ay\": -35, \"font\": {\"size\": 10}, \"opacity\": 0.5, \"showarrow\": true, \"text\": \"27\", \"x\": 12.04926802808433, \"xref\": \"x2\", \"xshift\": 0.8241633836921342, \"y\": 0.05313985812975447, \"yref\": \"y2\", \"yshift\": 2.8845718429224694}, {\"align\": \"center\", \"arrowcolor\": \"#636363\", \"arrowhead\": 1, \"arrowside\": \"none\", \"arrowsize\": 1, \"arrowwidth\": 1, \"ax\": -20, \"ay\": -10, \"font\": {\"size\": 10}, \"opacity\": 0.5, \"showarrow\": true, \"text\": \"28\", \"x\": 0.08210981838356955, \"xref\": \"x2\", \"xshift\": -2.6832815729997477, \"y\": 0.22632290221818877, \"yref\": \"y2\", \"yshift\": 1.3416407864998738}, {\"align\": \"center\", \"arrowcolor\": \"#636363\", \"arrowhead\": 1, \"arrowside\": \"none\", \"arrowsize\": 1, \"arrowwidth\": 1, \"ax\": -15, \"ay\": 30, \"font\": {\"size\": 10}, \"opacity\": 0.5, \"showarrow\": true, \"text\": \"29\", \"x\": 14.826957041885782, \"xref\": \"x2\", \"xshift\": -1.3416407864998738, \"y\": 0.04771337064539693, \"yref\": \"y2\", \"yshift\": -2.6832815729997477}, {\"align\": \"center\", \"arrowcolor\": \"#636363\", \"arrowhead\": 1, \"arrowside\": \"none\", \"arrowsize\": 1, \"arrowwidth\": 1, \"ax\": -5, \"ay\": 20, \"font\": {\"size\": 10}, \"opacity\": 0.5, \"showarrow\": true, \"text\": \"30\", \"x\": 7.486677609409288, \"xref\": \"x2\", \"xshift\": -0.7276068751089989, \"y\": 0.06509676688071898, \"yref\": \"y2\", \"yshift\": -2.9104275004359956}, {\"align\": \"center\", \"arrowcolor\": \"#636363\", \"arrowhead\": 1, \"arrowside\": \"none\", \"arrowsize\": 1, \"arrowwidth\": 1, \"ax\": 5, \"ay\": 20, \"font\": {\"size\": 10}, \"opacity\": 0.5, \"showarrow\": true, \"text\": \"31\", \"x\": 6.3583949662920975, \"xref\": \"x2\", \"xshift\": 0.7276068751089989, \"y\": 0.0695055094232329, \"yref\": \"y2\", \"yshift\": -2.9104275004359956}, {\"align\": \"center\", \"arrowcolor\": \"#636363\", \"arrowhead\": 1, \"arrowside\": \"none\", \"arrowsize\": 1, \"arrowwidth\": 1, \"ax\": -5, \"ay\": 20, \"font\": {\"size\": 10}, \"opacity\": 0.5, \"showarrow\": true, \"text\": \"32\", \"x\": 5.975259563265152, \"xref\": \"x2\", \"xshift\": -0.7276068751089989, \"y\": 0.07126052741835012, \"yref\": \"y2\", \"yshift\": -2.9104275004359956}, {\"align\": \"center\", \"arrowcolor\": \"#636363\", \"arrowhead\": 1, \"arrowside\": \"none\", \"arrowsize\": 1, \"arrowwidth\": 1, \"ax\": -20, \"ay\": -15, \"font\": {\"size\": 10}, \"opacity\": 0.5, \"showarrow\": true, \"text\": \"33\", \"x\": 7.862478833927821, \"xref\": \"x2\", \"xshift\": -2.4, \"y\": 0.06383042409794626, \"yref\": \"y2\", \"yshift\": 1.7999999999999998}, {\"align\": \"center\", \"arrowcolor\": \"#636363\", \"arrowhead\": 1, \"arrowside\": \"none\", \"arrowsize\": 1, \"arrowwidth\": 1, \"ax\": 20, \"ay\": -40, \"font\": {\"size\": 10}, \"opacity\": 0.5, \"showarrow\": true, \"text\": \"34\", \"x\": 10.605396865482465, \"xref\": \"x2\", \"xshift\": 1.3416407864998738, \"y\": 0.056612292936477994, \"yref\": \"y2\", \"yshift\": 2.6832815729997477}, {\"align\": \"center\", \"arrowcolor\": \"#636363\", \"arrowhead\": 1, \"arrowside\": \"none\", \"arrowsize\": 1, \"arrowwidth\": 1, \"ax\": 10, \"ay\": -20, \"font\": {\"size\": 10}, \"opacity\": 0.5, \"showarrow\": true, \"text\": \"35\", \"x\": 9.38126797907313, \"xref\": \"x2\", \"xshift\": 1.3416407864998738, \"y\": 0.05946580511231477, \"yref\": \"y2\", \"yshift\": 2.6832815729997477}, {\"align\": \"center\", \"arrowcolor\": \"#636363\", \"arrowhead\": 1, \"arrowside\": \"none\", \"arrowsize\": 1, \"arrowwidth\": 1, \"ax\": -15, \"ay\": 20, \"font\": {\"size\": 10}, \"opacity\": 0.5, \"showarrow\": true, \"text\": \"36\", \"x\": 0.8685398306689344, \"xref\": \"x2\", \"xshift\": -1.7999999999999998, \"y\": 0.15261911510444898, \"yref\": \"y2\", \"yshift\": -2.4}, {\"align\": \"center\", \"arrowcolor\": \"#636363\", \"arrowhead\": 1, \"arrowside\": \"none\", \"arrowsize\": 1, \"arrowwidth\": 1, \"ax\": -20, \"ay\": 18, \"font\": {\"size\": 10}, \"opacity\": 0.5, \"showarrow\": true, \"text\": \"37\", \"x\": 0.05435362680191556, \"xref\": \"x2\", \"xshift\": -2.2298824387414986, \"y\": 0.25709176015315555, \"yref\": \"y2\", \"yshift\": -2.006894194867349}, {\"align\": \"center\", \"arrowcolor\": \"#636363\", \"arrowhead\": 1, \"arrowside\": \"none\", \"arrowsize\": 1, \"arrowwidth\": 1, \"ax\": 20, \"ay\": -20, \"font\": {\"size\": 10}, \"opacity\": 0.5, \"showarrow\": true, \"text\": \"38\", \"x\": 3.6170791156249718, \"xref\": \"x2\", \"xshift\": 2.1213203435596424, \"y\": 0.0871680179316473, \"yref\": \"y2\", \"yshift\": 2.1213203435596424}, {\"align\": \"center\", \"arrowcolor\": \"#636363\", \"arrowhead\": 1, \"arrowside\": \"none\", \"arrowsize\": 1, \"arrowwidth\": 1, \"ax\": -20, \"ay\": 1, \"font\": {\"size\": 10}, \"opacity\": 0.5, \"showarrow\": true, \"text\": \"39\", \"x\": 1.1281199480661543, \"xref\": \"x2\", \"xshift\": -2.996257016633534, \"y\": 0.13923143966034313, \"yref\": \"y2\", \"yshift\": -0.1498128508316767}, {\"showarrow\": false, \"text\": \"<b>a)</b>\", \"x\": -0.04, \"xref\": \"paper\", \"y\": -0.1, \"yref\": \"paper\"}, {\"showarrow\": false, \"text\": \"<b>b)</b>\", \"x\": 0.5, \"xref\": \"paper\", \"y\": -0.1, \"yref\": \"paper\"}], \"legend\": {\"orientation\": \"h\", \"title\": {\"text\": \"\"}, \"x\": 0.5, \"xanchor\": \"center\", \"y\": -0.15, \"yanchor\": \"top\"}, \"margin\": {\"b\": 0, \"l\": 0, \"r\": 0, \"t\": 30}, \"template\": {\"data\": {\"bar\": [{\"error_x\": {\"color\": \"#2a3f5f\"}, \"error_y\": {\"color\": \"#2a3f5f\"}, \"marker\": {\"line\": {\"color\": \"white\", \"width\": 0.5}}, \"type\": \"bar\"}], \"barpolar\": [{\"marker\": {\"line\": {\"color\": \"white\", \"width\": 0.5}}, \"type\": \"barpolar\"}], \"carpet\": [{\"aaxis\": {\"endlinecolor\": \"#2a3f5f\", \"gridcolor\": \"#C8D4E3\", \"linecolor\": \"#C8D4E3\", \"minorgridcolor\": \"#C8D4E3\", \"startlinecolor\": \"#2a3f5f\"}, \"baxis\": {\"endlinecolor\": \"#2a3f5f\", \"gridcolor\": \"#C8D4E3\", \"linecolor\": \"#C8D4E3\", \"minorgridcolor\": \"#C8D4E3\", \"startlinecolor\": \"#2a3f5f\"}, \"type\": \"carpet\"}], \"choropleth\": [{\"colorbar\": {\"outlinewidth\": 0, \"ticks\": \"\"}, \"type\": \"choropleth\"}], \"contour\": [{\"colorbar\": {\"outlinewidth\": 0, \"ticks\": \"\"}, \"colorscale\": [[0.0, \"#0d0887\"], [0.1111111111111111, \"#46039f\"], [0.2222222222222222, \"#7201a8\"], [0.3333333333333333, \"#9c179e\"], [0.4444444444444444, \"#bd3786\"], [0.5555555555555556, \"#d8576b\"], [0.6666666666666666, \"#ed7953\"], [0.7777777777777778, \"#fb9f3a\"], [0.8888888888888888, \"#fdca26\"], [1.0, \"#f0f921\"]], \"type\": \"contour\"}], \"contourcarpet\": [{\"colorbar\": {\"outlinewidth\": 0, \"ticks\": \"\"}, \"type\": \"contourcarpet\"}], \"heatmap\": [{\"colorbar\": {\"outlinewidth\": 0, \"ticks\": \"\"}, \"colorscale\": [[0.0, \"#0d0887\"], [0.1111111111111111, \"#46039f\"], [0.2222222222222222, \"#7201a8\"], [0.3333333333333333, \"#9c179e\"], [0.4444444444444444, \"#bd3786\"], [0.5555555555555556, \"#d8576b\"], [0.6666666666666666, \"#ed7953\"], [0.7777777777777778, \"#fb9f3a\"], [0.8888888888888888, \"#fdca26\"], [1.0, \"#f0f921\"]], \"type\": \"heatmap\"}], \"heatmapgl\": [{\"colorbar\": {\"outlinewidth\": 0, \"ticks\": \"\"}, \"colorscale\": [[0.0, \"#0d0887\"], [0.1111111111111111, \"#46039f\"], [0.2222222222222222, \"#7201a8\"], [0.3333333333333333, \"#9c179e\"], [0.4444444444444444, \"#bd3786\"], [0.5555555555555556, \"#d8576b\"], [0.6666666666666666, \"#ed7953\"], [0.7777777777777778, \"#fb9f3a\"], [0.8888888888888888, \"#fdca26\"], [1.0, \"#f0f921\"]], \"type\": \"heatmapgl\"}], \"histogram\": [{\"marker\": {\"colorbar\": {\"outlinewidth\": 0, \"ticks\": \"\"}}, \"type\": \"histogram\"}], \"histogram2d\": [{\"colorbar\": {\"outlinewidth\": 0, \"ticks\": \"\"}, \"colorscale\": [[0.0, \"#0d0887\"], [0.1111111111111111, \"#46039f\"], [0.2222222222222222, \"#7201a8\"], [0.3333333333333333, \"#9c179e\"], [0.4444444444444444, \"#bd3786\"], [0.5555555555555556, \"#d8576b\"], [0.6666666666666666, \"#ed7953\"], [0.7777777777777778, \"#fb9f3a\"], [0.8888888888888888, \"#fdca26\"], [1.0, \"#f0f921\"]], \"type\": \"histogram2d\"}], \"histogram2dcontour\": [{\"colorbar\": {\"outlinewidth\": 0, \"ticks\": \"\"}, \"colorscale\": [[0.0, \"#0d0887\"], [0.1111111111111111, \"#46039f\"], [0.2222222222222222, \"#7201a8\"], [0.3333333333333333, \"#9c179e\"], [0.4444444444444444, \"#bd3786\"], [0.5555555555555556, \"#d8576b\"], [0.6666666666666666, \"#ed7953\"], [0.7777777777777778, \"#fb9f3a\"], [0.8888888888888888, \"#fdca26\"], [1.0, \"#f0f921\"]], \"type\": \"histogram2dcontour\"}], \"mesh3d\": [{\"colorbar\": {\"outlinewidth\": 0, \"ticks\": \"\"}, \"type\": \"mesh3d\"}], \"parcoords\": [{\"line\": {\"colorbar\": {\"outlinewidth\": 0, \"ticks\": \"\"}}, \"type\": \"parcoords\"}], \"pie\": [{\"automargin\": true, \"type\": \"pie\"}], \"scatter\": [{\"marker\": {\"colorbar\": {\"outlinewidth\": 0, \"ticks\": \"\"}}, \"type\": \"scatter\"}], \"scatter3d\": [{\"line\": {\"colorbar\": {\"outlinewidth\": 0, \"ticks\": \"\"}}, \"marker\": {\"colorbar\": {\"outlinewidth\": 0, \"ticks\": \"\"}}, \"type\": \"scatter3d\"}], \"scattercarpet\": [{\"marker\": {\"colorbar\": {\"outlinewidth\": 0, \"ticks\": \"\"}}, \"type\": \"scattercarpet\"}], \"scattergeo\": [{\"marker\": {\"colorbar\": {\"outlinewidth\": 0, \"ticks\": \"\"}}, \"type\": \"scattergeo\"}], \"scattergl\": [{\"marker\": {\"colorbar\": {\"outlinewidth\": 0, \"ticks\": \"\"}}, \"type\": \"scattergl\"}], \"scattermapbox\": [{\"marker\": {\"colorbar\": {\"outlinewidth\": 0, \"ticks\": \"\"}}, \"type\": \"scattermapbox\"}], \"scatterpolar\": [{\"marker\": {\"colorbar\": {\"outlinewidth\": 0, \"ticks\": \"\"}}, \"type\": \"scatterpolar\"}], \"scatterpolargl\": [{\"marker\": {\"colorbar\": {\"outlinewidth\": 0, \"ticks\": \"\"}}, \"type\": \"scatterpolargl\"}], \"scatterternary\": [{\"marker\": {\"colorbar\": {\"outlinewidth\": 0, \"ticks\": \"\"}}, \"type\": \"scatterternary\"}], \"surface\": [{\"colorbar\": {\"outlinewidth\": 0, \"ticks\": \"\"}, \"colorscale\": [[0.0, \"#0d0887\"], [0.1111111111111111, \"#46039f\"], [0.2222222222222222, \"#7201a8\"], [0.3333333333333333, \"#9c179e\"], [0.4444444444444444, \"#bd3786\"], [0.5555555555555556, \"#d8576b\"], [0.6666666666666666, \"#ed7953\"], [0.7777777777777778, \"#fb9f3a\"], [0.8888888888888888, \"#fdca26\"], [1.0, \"#f0f921\"]], \"type\": \"surface\"}], \"table\": [{\"cells\": {\"fill\": {\"color\": \"#EBF0F8\"}, \"line\": {\"color\": \"white\"}}, \"header\": {\"fill\": {\"color\": \"#C8D4E3\"}, \"line\": {\"color\": \"white\"}}, \"type\": \"table\"}]}, \"layout\": {\"annotationdefaults\": {\"arrowcolor\": \"#2a3f5f\", \"arrowhead\": 0, \"arrowwidth\": 1}, \"coloraxis\": {\"colorbar\": {\"outlinewidth\": 0, \"ticks\": \"\"}}, \"colorscale\": {\"diverging\": [[0, \"#8e0152\"], [0.1, \"#c51b7d\"], [0.2, \"#de77ae\"], [0.3, \"#f1b6da\"], [0.4, \"#fde0ef\"], [0.5, \"#f7f7f7\"], [0.6, \"#e6f5d0\"], [0.7, \"#b8e186\"], [0.8, \"#7fbc41\"], [0.9, \"#4d9221\"], [1, \"#276419\"]], \"sequential\": [[0.0, \"#0d0887\"], [0.1111111111111111, \"#46039f\"], [0.2222222222222222, \"#7201a8\"], [0.3333333333333333, \"#9c179e\"], [0.4444444444444444, \"#bd3786\"], [0.5555555555555556, \"#d8576b\"], [0.6666666666666666, \"#ed7953\"], [0.7777777777777778, \"#fb9f3a\"], [0.8888888888888888, \"#fdca26\"], [1.0, \"#f0f921\"]], \"sequentialminus\": [[0.0, \"#0d0887\"], [0.1111111111111111, \"#46039f\"], [0.2222222222222222, \"#7201a8\"], [0.3333333333333333, \"#9c179e\"], [0.4444444444444444, \"#bd3786\"], [0.5555555555555556, \"#d8576b\"], [0.6666666666666666, \"#ed7953\"], [0.7777777777777778, \"#fb9f3a\"], [0.8888888888888888, \"#fdca26\"], [1.0, \"#f0f921\"]]}, \"colorway\": [\"#636efa\", \"#EF553B\", \"#00cc96\", \"#ab63fa\", \"#FFA15A\", \"#19d3f3\", \"#FF6692\", \"#B6E880\", \"#FF97FF\", \"#FECB52\"], \"font\": {\"color\": \"#2a3f5f\"}, \"geo\": {\"bgcolor\": \"white\", \"lakecolor\": \"white\", \"landcolor\": \"white\", \"showlakes\": true, \"showland\": true, \"subunitcolor\": \"#C8D4E3\"}, \"hoverlabel\": {\"align\": \"left\"}, \"hovermode\": \"closest\", \"mapbox\": {\"style\": \"light\"}, \"paper_bgcolor\": \"white\", \"plot_bgcolor\": \"white\", \"polar\": {\"angularaxis\": {\"gridcolor\": \"#EBF0F8\", \"linecolor\": \"#EBF0F8\", \"ticks\": \"\"}, \"bgcolor\": \"white\", \"radialaxis\": {\"gridcolor\": \"#EBF0F8\", \"linecolor\": \"#EBF0F8\", \"ticks\": \"\"}}, \"scene\": {\"xaxis\": {\"backgroundcolor\": \"white\", \"gridcolor\": \"#DFE8F3\", \"gridwidth\": 2, \"linecolor\": \"#EBF0F8\", \"showbackground\": true, \"ticks\": \"\", \"zerolinecolor\": \"#EBF0F8\"}, \"yaxis\": {\"backgroundcolor\": \"white\", \"gridcolor\": \"#DFE8F3\", \"gridwidth\": 2, \"linecolor\": \"#EBF0F8\", \"showbackground\": true, \"ticks\": \"\", \"zerolinecolor\": \"#EBF0F8\"}, \"zaxis\": {\"backgroundcolor\": \"white\", \"gridcolor\": \"#DFE8F3\", \"gridwidth\": 2, \"linecolor\": \"#EBF0F8\", \"showbackground\": true, \"ticks\": \"\", \"zerolinecolor\": \"#EBF0F8\"}}, \"shapedefaults\": {\"line\": {\"color\": \"#2a3f5f\"}}, \"ternary\": {\"aaxis\": {\"gridcolor\": \"#DFE8F3\", \"linecolor\": \"#A2B1C6\", \"ticks\": \"\"}, \"baxis\": {\"gridcolor\": \"#DFE8F3\", \"linecolor\": \"#A2B1C6\", \"ticks\": \"\"}, \"bgcolor\": \"white\", \"caxis\": {\"gridcolor\": \"#DFE8F3\", \"linecolor\": \"#A2B1C6\", \"ticks\": \"\"}}, \"title\": {\"x\": 0.05}, \"xaxis\": {\"automargin\": true, \"gridcolor\": \"#EBF0F8\", \"linecolor\": \"#EBF0F8\", \"ticks\": \"\", \"title\": {\"standoff\": 15}, \"zerolinecolor\": \"#EBF0F8\", \"zerolinewidth\": 2}, \"yaxis\": {\"automargin\": true, \"gridcolor\": \"#EBF0F8\", \"linecolor\": \"#EBF0F8\", \"ticks\": \"\", \"title\": {\"standoff\": 15}, \"zerolinecolor\": \"#EBF0F8\", \"zerolinewidth\": 2}}}, \"width\": 900, \"xaxis\": {\"anchor\": \"y\", \"domain\": [0.0, 0.485], \"title\": {\"text\": \"Capacity (Mm<sup>3</sup>/y)\"}}, \"xaxis2\": {\"anchor\": \"y2\", \"domain\": [0.515, 1.0], \"title\": {\"text\": \"Capacity (Mm<sup>3</sup>/y)\"}}, \"yaxis\": {\"anchor\": \"x\", \"domain\": [0.0, 1.0], \"range\": [-0.08, 1.05], \"title\": {\"text\": \"LCOW ($/m<sup>3</sup>)\"}}, \"yaxis2\": {\"anchor\": \"x2\", \"domain\": [0.0, 1.0], \"matches\": \"y\", \"showticklabels\": false}},                        {\"responsive\": true}                    ).then(function(){\n",
       "                            \n",
       "var gd = document.getElementById('8d080600-0a56-4cd0-ad8d-3faa4d20c4d6');\n",
       "var x = new MutationObserver(function (mutations, observer) {{\n",
       "        var display = window.getComputedStyle(gd).display;\n",
       "        if (!display || display === 'none') {{\n",
       "            console.log([gd, 'removed!']);\n",
       "            Plotly.purge(gd);\n",
       "            observer.disconnect();\n",
       "        }}\n",
       "}});\n",
       "\n",
       "// Listen for the removal of the full notebook cells\n",
       "var notebookContainer = gd.closest('#notebook-container');\n",
       "if (notebookContainer) {{\n",
       "    x.observe(notebookContainer, {childList: true});\n",
       "}}\n",
       "\n",
       "// Listen for the clearing of the current output cell\n",
       "var outputEl = gd.closest('.output');\n",
       "if (outputEl) {{\n",
       "    x.observe(outputEl, {childList: true});\n",
       "}}\n",
       "\n",
       "                        })                };                });            </script>        </div>"
      ]
     },
     "metadata": {},
     "output_type": "display_data"
    }
   ],
   "source": [
    "fig = make_subplots(rows=1, cols=2, horizontal_spacing=0.03, shared_yaxes=True\n",
    "#                    specs=[[{\"colspan\": 2}, None], \n",
    "#                           [{}, {}]]\n",
    "                   )\n",
    "# for trace in fig_ag.data:\n",
    "#     fig.add_trace(trace, col=1, row=1)\n",
    "for trace in fig_pop_all.data:\n",
    "    fig.add_trace(trace, col=1, row=1)\n",
    "for trace in fig_pop.data:\n",
    "    fig.add_trace(trace, col=2, row=1)\n",
    "    \n",
    "fig.add_trace(go.Scatter(x=[10], y=[2], mode='markers+text', text='', \n",
    "                         marker=dict(color='#636363', opacity=0.5), name='Clusters'))\n",
    "\n",
    "arrows = {0: (10, -20), 1: (5, -20), 2: (10, -20), 3: (5, -20), 4: (-25, 5),\n",
    "          5: (-20, 30), 6: (-30, 20), 7: (10, 20), 8: (-30, 10), 9: (-20, -20),\n",
    "          10: (-30, 30), 11: (10, -20), 12: (-5, 25), 13: (10, -20), 14: (20, -30),\n",
    "          15: (10, -20), 16: (15, -20), 17: (10, -45), 18: (20, -40), 19: (-20, 40),\n",
    "          20: (10, 25), 21: (10, -20), 22: (20, -40), 23: (25, -25), 24: (5, -20),\n",
    "          25: (18, -20), 26: (1, 20), 27: (10, -35), 28: (-20, -10), 29: (-15, 30),\n",
    "          30: (-5, 20), 31: (5, 20), 32: (-5, 20), 33: (-20, -15), 34: (20, -40),\n",
    "          35: (10, -20), 36: (-15, 20), 37: (-20, 18), 38: (20, -20), 39: (-20, 1),}\n",
    "\n",
    "for i, row,  in dff_least.iterrows():        \n",
    "    fig.add_annotation(\n",
    "            x=row['PopulationReclaimedWater'],\n",
    "            y=row['PopulationLeastCost'],\n",
    "            xref=\"x\",\n",
    "            yref=\"y\",\n",
    "            text=int(row['Cluster']),\n",
    "            showarrow=True,\n",
    "            font=dict(\n",
    "                size=10,\n",
    "                ),\n",
    "            align=\"center\",\n",
    "            arrowside='none',\n",
    "            arrowhead=1,\n",
    "            arrowsize=1,\n",
    "            arrowwidth=1,\n",
    "            arrowcolor=\"#636363\",\n",
    "            ax=arrows[int(row['Cluster'])][0],\n",
    "            ay=arrows[int(row['Cluster'])][1],\n",
    "            xshift=np.sign(arrows[int(row['Cluster'])][0]) * 3 / (1 + (arrows[int(row['Cluster'])][1]/arrows[int(row['Cluster'])][0])**2)**(1/2),\n",
    "            yshift=-np.sign(arrows[int(row['Cluster'])][1]) * 3 / (1 + (arrows[int(row['Cluster'])][0]/arrows[int(row['Cluster'])][1])**2)**(1/2),\n",
    "            opacity=0.5,\n",
    "            col=2,\n",
    "            row=1\n",
    "    )\n",
    "    \n",
    "fig.add_annotation(text=\"<b>a)</b>\",\n",
    "                  xref=\"paper\", yref=\"paper\",\n",
    "                  x=-0.04, y=-0.1, showarrow=False)\n",
    "\n",
    "fig.add_annotation(text=\"<b>b)</b>\",\n",
    "                  xref=\"paper\", yref=\"paper\",\n",
    "                  x=0.5, y=-0.1, showarrow=False)\n",
    "    \n",
    "    \n",
    "fig.update_layout(width=900, template='plotly_white',\n",
    "                  yaxis={'title': 'LCOW ($/m<sup>3</sup>)'},\n",
    "                  legend=dict(\n",
    "                            title='',\n",
    "                            orientation=\"h\",\n",
    "                            yanchor=\"top\",\n",
    "                            y=-0.15,\n",
    "                            xanchor=\"center\",\n",
    "                            x=0.5\n",
    "                ),\n",
    "                 margin=dict(b=0, l=0, r=0, t=30))  \n",
    "\n",
    "fig.update_xaxes(title_text='Capacity (Mm<sup>3</sup>/y)')\n",
    "fig.update_yaxes(title_text=\"LCOW ($/m<sup>3</sup>)\", col=1, range=(-0.08,1.05))\n",
    "    \n",
    "fig.show()\n",
    "# fig.write_image('../LCOW_pop_ag.pdf')"
   ]
  },
  {
   "cell_type": "code",
   "execution_count": null,
   "metadata": {},
   "outputs": [],
   "source": []
  }
 ],
 "metadata": {
  "kernelspec": {
   "display_name": "Python 3",
   "language": "python",
   "name": "python3"
  },
  "language_info": {
   "codemirror_mode": {
    "name": "ipython",
    "version": 3
   },
   "file_extension": ".py",
   "mimetype": "text/x-python",
   "name": "python",
   "nbconvert_exporter": "python",
   "pygments_lexer": "ipython3",
   "version": "3.8.5"
  }
 },
 "nbformat": 4,
 "nbformat_minor": 4
}
