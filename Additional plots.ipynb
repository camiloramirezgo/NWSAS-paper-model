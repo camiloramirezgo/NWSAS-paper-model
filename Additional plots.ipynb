{
 "cells": [
  {
   "cell_type": "code",
   "execution_count": 1,
   "metadata": {},
   "outputs": [],
   "source": [
    "import pandas as pd\n",
    "import os\n",
    "import numpy as np\n",
    "import plotly.graph_objects as go\n",
    "import plotly.express as px\n",
    "import re"
   ]
  },
  {
   "cell_type": "code",
   "execution_count": 2,
   "metadata": {},
   "outputs": [],
   "source": [
    "df = pd.read_csv(os.path.join('Sub agri water - Low pop water','Sub ag water - Low pop water.gz'))"
   ]
  },
  {
   "cell_type": "code",
   "execution_count": 3,
   "metadata": {},
   "outputs": [
    {
     "data": {
      "text/plain": [
       "['X',\n",
       " 'Y',\n",
       " 'CI',\n",
       " 'GroundwaterDepth',\n",
       " 'IrrigatedArea',\n",
       " 'Population',\n",
       " 'Region',\n",
       " 'TDS',\n",
       " 'geometry',\n",
       " 'prec_1',\n",
       " 'prec_2',\n",
       " 'prec_3',\n",
       " 'prec_4',\n",
       " 'prec_5',\n",
       " 'prec_6',\n",
       " 'prec_7',\n",
       " 'prec_8',\n",
       " 'prec_9',\n",
       " 'prec_10',\n",
       " 'prec_11',\n",
       " 'prec_12',\n",
       " 'wind_1',\n",
       " 'wind_2',\n",
       " 'wind_3',\n",
       " 'wind_4',\n",
       " 'wind_5',\n",
       " 'wind_6',\n",
       " 'wind_7',\n",
       " 'wind_8',\n",
       " 'wind_9',\n",
       " 'wind_10',\n",
       " 'wind_11',\n",
       " 'wind_12',\n",
       " 'tmin_1',\n",
       " 'tmin_2',\n",
       " 'tmin_3',\n",
       " 'tmin_4',\n",
       " 'tmin_5',\n",
       " 'tmin_6',\n",
       " 'tmin_7',\n",
       " 'tmin_8',\n",
       " 'tmin_9',\n",
       " 'tmin_10',\n",
       " 'tmin_11',\n",
       " 'tmin_12',\n",
       " 'tmax_1',\n",
       " 'tmax_2',\n",
       " 'tmax_3',\n",
       " 'tmax_4',\n",
       " 'tmax_5',\n",
       " 'tmax_6',\n",
       " 'tmax_7',\n",
       " 'tmax_8',\n",
       " 'tmax_9',\n",
       " 'tmax_10',\n",
       " 'tmax_11',\n",
       " 'tmax_12',\n",
       " 'tavg_1',\n",
       " 'tavg_2',\n",
       " 'tavg_3',\n",
       " 'tavg_4',\n",
       " 'tavg_5',\n",
       " 'tavg_6',\n",
       " 'tavg_7',\n",
       " 'tavg_8',\n",
       " 'tavg_9',\n",
       " 'tavg_10',\n",
       " 'tavg_11',\n",
       " 'tavg_12',\n",
       " 'elevation',\n",
       " 'lat',\n",
       " 'long',\n",
       " 'srad_1',\n",
       " 'srad_2',\n",
       " 'srad_3',\n",
       " 'srad_4',\n",
       " 'srad_5',\n",
       " 'srad_6',\n",
       " 'srad_7',\n",
       " 'srad_8',\n",
       " 'srad_9',\n",
       " 'srad_10',\n",
       " 'srad_11',\n",
       " 'srad_12',\n",
       " 'crop_share',\n",
       " 'ETo_1',\n",
       " 'ETo_2',\n",
       " 'ETo_3',\n",
       " 'ETo_4',\n",
       " 'ETo_5',\n",
       " 'ETo_6',\n",
       " 'ETo_7',\n",
       " 'ETo_8',\n",
       " 'ETo_9',\n",
       " 'ETo_10',\n",
       " 'ETo_11',\n",
       " 'ETo_12',\n",
       " 'eff_1',\n",
       " 'eff_2',\n",
       " 'eff_3',\n",
       " 'eff_4',\n",
       " 'eff_5',\n",
       " 'eff_6',\n",
       " 'eff_7',\n",
       " 'eff_8',\n",
       " 'eff_9',\n",
       " 'eff_10',\n",
       " 'eff_11',\n",
       " 'eff_12',\n",
       " 'PCWR_1',\n",
       " 'PWD_1',\n",
       " 'SSWD_1',\n",
       " 'PCWR_2',\n",
       " 'PWD_2',\n",
       " 'SSWD_2',\n",
       " 'PCWR_3',\n",
       " 'PWD_3',\n",
       " 'SSWD_3',\n",
       " 'PCWR_4',\n",
       " 'PWD_4',\n",
       " 'SSWD_4',\n",
       " 'PCWR_5',\n",
       " 'PWD_5',\n",
       " 'SSWD_5',\n",
       " 'PCWR_6',\n",
       " 'PWD_6',\n",
       " 'SSWD_6',\n",
       " 'PCWR_7',\n",
       " 'PWD_7',\n",
       " 'SSWD_7',\n",
       " 'PCWR_8',\n",
       " 'PWD_8',\n",
       " 'SSWD_8',\n",
       " 'PCWR_9',\n",
       " 'PWD_9',\n",
       " 'SSWD_9',\n",
       " 'PCWR_10',\n",
       " 'PWD_10',\n",
       " 'SSWD_10',\n",
       " 'PCWR_11',\n",
       " 'PWD_11',\n",
       " 'SSWD_11',\n",
       " 'PCWR_12',\n",
       " 'PWD_12',\n",
       " 'SSWD_12',\n",
       " 'kc_1_dates',\n",
       " 'ACWR_1_dates',\n",
       " 'harvest_1_dates',\n",
       " 'kc_2_dates',\n",
       " 'ACWR_2_dates',\n",
       " 'harvest_2_dates',\n",
       " 'kc_3_dates',\n",
       " 'ACWR_3_dates',\n",
       " 'harvest_3_dates',\n",
       " 'kc_4_dates',\n",
       " 'ACWR_4_dates',\n",
       " 'harvest_4_dates',\n",
       " 'kc_5_dates',\n",
       " 'ACWR_5_dates',\n",
       " 'harvest_5_dates',\n",
       " 'kc_6_dates',\n",
       " 'ACWR_6_dates',\n",
       " 'harvest_6_dates',\n",
       " 'kc_7_dates',\n",
       " 'ACWR_7_dates',\n",
       " 'harvest_7_dates',\n",
       " 'kc_8_dates',\n",
       " 'ACWR_8_dates',\n",
       " 'harvest_8_dates',\n",
       " 'kc_9_dates',\n",
       " 'ACWR_9_dates',\n",
       " 'harvest_9_dates',\n",
       " 'kc_10_dates',\n",
       " 'ACWR_10_dates',\n",
       " 'harvest_10_dates',\n",
       " 'kc_11_dates',\n",
       " 'ACWR_11_dates',\n",
       " 'harvest_11_dates',\n",
       " 'kc_12_dates',\n",
       " 'ACWR_12_dates',\n",
       " 'harvest_12_dates',\n",
       " 'AgWaterReq',\n",
       " 'IsUrban',\n",
       " 'PopulationFuture',\n",
       " 'IrrigatedAreaFuture',\n",
       " 'IrrigationWater',\n",
       " 'PopulationWater',\n",
       " 'TotalWithdrawals',\n",
       " 'RechargeRate',\n",
       " 'EnvironmentalFlow',\n",
       " 'GroundwaterStress',\n",
       " 'GWPumpingEnergy',\n",
       " 'GroundwaterSolutes',\n",
       " 'GroundwaterTemperature',\n",
       " 'DesalinationEnergy',\n",
       " 'IrrigationPumpingEnergy',\n",
       " 'IrrigationDesalinationEnergy',\n",
       " 'IrrigationEnergyTotal',\n",
       " 'Cluster',\n",
       " 'PopulationPerCluster',\n",
       " 'PopulationFuturePerCluster',\n",
       " 'IrrigatedAreaPerCluster',\n",
       " 'IrrigatedAreaFuturePerCluster',\n",
       " 'PopulationWaterPerCluster',\n",
       " 'PopulationWaterFuturePerCluster',\n",
       " 'IrrigationWaterPerCluster',\n",
       " 'PopulationReclaimedWater',\n",
       " 'IrrigationReclaimedWater',\n",
       " 'PopulationFutureReclaimedWater',\n",
       " 'IrrigationFutureReclaimedWater',\n",
       " 'eto_1',\n",
       " 'eto_2',\n",
       " 'eto_3',\n",
       " 'eto_4',\n",
       " 'eto_5',\n",
       " 'eto_6',\n",
       " 'eto_7',\n",
       " 'eto_8',\n",
       " 'eto_9',\n",
       " 'eto_10',\n",
       " 'eto_11',\n",
       " 'eto_12',\n",
       " 'available_storage',\n",
       " 'leakage_month',\n",
       " 'stored_1',\n",
       " 'stored_percentage_1',\n",
       " 'stored_2',\n",
       " 'stored_percentage_2',\n",
       " 'stored_3',\n",
       " 'stored_percentage_3',\n",
       " 'stored_4',\n",
       " 'stored_percentage_4',\n",
       " 'stored_5',\n",
       " 'stored_percentage_5',\n",
       " 'stored_6',\n",
       " 'stored_percentage_6',\n",
       " 'stored_7',\n",
       " 'stored_percentage_7',\n",
       " 'stored_8',\n",
       " 'stored_percentage_8',\n",
       " 'stored_9',\n",
       " 'stored_percentage_9',\n",
       " 'stored_10',\n",
       " 'stored_percentage_10',\n",
       " 'stored_11',\n",
       " 'stored_percentage_11',\n",
       " 'stored_12',\n",
       " 'stored_percentage_12',\n",
       " 'IrrigationReusedWater',\n",
       " 'FinalIrrigationWater',\n",
       " 'PopulationReusedWater',\n",
       " 'FinalWaterWithdrawals',\n",
       " 'PopulationGrowthPerCluster',\n",
       " 'IrrigatedGrowthPerCluster',\n",
       " 'ExtendedAerationCAPEX',\n",
       " 'ExtendedAerationEnergy',\n",
       " 'Membrane BioreactorCAPEX',\n",
       " 'Membrane BioreactorEnergy',\n",
       " 'SequencingBatchReactorCAPEX',\n",
       " 'SequencingBatchReactorEnergy',\n",
       " 'RotatingBiologicalContractorsCAPEX',\n",
       " 'RotatingBiologicalContractorsEnergy',\n",
       " 'IntermittentSandFilterCAPEX',\n",
       " 'IntermittentSandFilterEnergy',\n",
       " 'TricklingFilterCAPEX',\n",
       " 'TricklingFilterEnergy',\n",
       " 'MovingBedBiofilmReactorCAPEX',\n",
       " 'MovingBedBiofilmReactorEnergy',\n",
       " 'PondSystemCAPEX',\n",
       " 'PondSystemEnergy',\n",
       " 'WetlandsCAPEX',\n",
       " 'WetlandsEnergy',\n",
       " 'ExtendedAerationLCOW_CAPEX',\n",
       " 'ExtendedAerationLCOW_OPEX',\n",
       " 'ExtendedAerationLCOW',\n",
       " 'ExtendedAerationCAPEX_LCOW',\n",
       " 'ExtendedAerationOPEX_LCOW',\n",
       " 'Membrane BioreactorLCOW_CAPEX',\n",
       " 'Membrane BioreactorLCOW_OPEX',\n",
       " 'Membrane BioreactorLCOW',\n",
       " 'Membrane BioreactorCAPEX_LCOW',\n",
       " 'Membrane BioreactorOPEX_LCOW',\n",
       " 'SequencingBatchReactorLCOW_CAPEX',\n",
       " 'SequencingBatchReactorLCOW_OPEX',\n",
       " 'SequencingBatchReactorLCOW',\n",
       " 'SequencingBatchReactorCAPEX_LCOW',\n",
       " 'SequencingBatchReactorOPEX_LCOW',\n",
       " 'RotatingBiologicalContractorsLCOW_CAPEX',\n",
       " 'RotatingBiologicalContractorsLCOW_OPEX',\n",
       " 'RotatingBiologicalContractorsLCOW',\n",
       " 'RotatingBiologicalContractorsCAPEX_LCOW',\n",
       " 'RotatingBiologicalContractorsOPEX_LCOW',\n",
       " 'IntermittentSandFilterLCOW_CAPEX',\n",
       " 'IntermittentSandFilterLCOW_OPEX',\n",
       " 'IntermittentSandFilterLCOW',\n",
       " 'IntermittentSandFilterCAPEX_LCOW',\n",
       " 'IntermittentSandFilterOPEX_LCOW',\n",
       " 'TricklingFilterLCOW_CAPEX',\n",
       " 'TricklingFilterLCOW_OPEX',\n",
       " 'TricklingFilterLCOW',\n",
       " 'TricklingFilterCAPEX_LCOW',\n",
       " 'TricklingFilterOPEX_LCOW',\n",
       " 'MovingBedBiofilmReactorLCOW_CAPEX',\n",
       " 'MovingBedBiofilmReactorLCOW_OPEX',\n",
       " 'MovingBedBiofilmReactorLCOW',\n",
       " 'MovingBedBiofilmReactorCAPEX_LCOW',\n",
       " 'MovingBedBiofilmReactorOPEX_LCOW',\n",
       " 'PondSystemLCOW_CAPEX',\n",
       " 'PondSystemLCOW_OPEX',\n",
       " 'PondSystemLCOW',\n",
       " 'PondSystemCAPEX_LCOW',\n",
       " 'PondSystemOPEX_LCOW',\n",
       " 'WetlandsLCOW_CAPEX',\n",
       " 'WetlandsLCOW_OPEX',\n",
       " 'WetlandsLCOW',\n",
       " 'WetlandsCAPEX_LCOW',\n",
       " 'WetlandsOPEX_LCOW',\n",
       " 'PopulationLeastCostTechnology',\n",
       " 'PopulationLeastCost',\n",
       " 'IrrigationLeastCostTechnology',\n",
       " 'IrrigationLeastCost',\n",
       " 'LeastCostSystem',\n",
       " 'FinalPumpingEnergy',\n",
       " 'FinalDesalinationEnergy',\n",
       " 'FinalIrrigationEnergy',\n",
       " 'FinalPopTreatmentEnergy',\n",
       " 'FinalAgriTreatmentEnergy',\n",
       " 'FinalTreatmentEnergy',\n",
       " 'GroundwaterStressEnd']"
      ]
     },
     "execution_count": 3,
     "metadata": {},
     "output_type": "execute_result"
    }
   ],
   "source": [
    "list(df)"
   ]
  },
  {
   "cell_type": "code",
   "execution_count": 128,
   "metadata": {},
   "outputs": [],
   "source": [
    "dff_water = df.groupby('Cluster').agg({'IrrigationWater': 'sum', 'PopulationWater': 'sum', 'FinalIrrigationWater': 'sum',\n",
    "                                       'IrrigationReusedWater': 'sum', 'PopulationReusedWater': 'sum'})"
   ]
  },
  {
   "cell_type": "code",
   "execution_count": 129,
   "metadata": {},
   "outputs": [],
   "source": [
    "dff_water.reset_index(inplace=True)"
   ]
  },
  {
   "cell_type": "code",
   "execution_count": 130,
   "metadata": {},
   "outputs": [
    {
     "data": {
      "application/vnd.plotly.v1+json": {
       "config": {
        "plotlyServerURL": "https://plot.ly"
       },
       "data": [
        {
         "marker": {
          "color": "#fdb863",
          "line": {
           "color": "Grey",
           "width": 0
          }
         },
         "name": "Population water extractions",
         "orientation": "h",
         "type": "bar",
         "x": [
          7.3561168633230025,
          2.2358112275879924,
          5.9190877310196175,
          0.8801649031132143,
          0.8100192321974329,
          0.7506821225023872,
          0.6625838838569965,
          24.000221323652607,
          0.6018328883554347,
          20.038567617079217,
          3.2549758243349585,
          14.196678118671853,
          3.9222812561426244,
          23.19225255753355,
          6.34238689678655,
          11.666177713767668,
          0.1839079865689419,
          0.9556913828191245,
          3.3936541521589225,
          1.3499534509607882,
          8.222796652433328,
          2.779202236982975,
          1.6558885326749468,
          3.575434824863891,
          1.3851016566079015,
          20.66338893736386,
          16.384589231632088,
          13.282269910840277,
          0.09187390632512697,
          11.013587997505542,
          6.2415798295567075,
          17.556650070240362,
          7.962968933323987,
          0.010293050555677231,
          9.398895860981984,
          4.7988383812092765,
          3.3431455155545873,
          5.845880242227826,
          7.7732226568006295,
          0.34824138721723585
         ],
         "y": [
          0,
          1,
          2,
          3,
          4,
          5,
          6,
          7,
          8,
          9,
          10,
          11,
          12,
          13,
          14,
          15,
          16,
          17,
          18,
          19,
          20,
          21,
          22,
          23,
          24,
          25,
          26,
          27,
          28,
          29,
          30,
          31,
          32,
          33,
          34,
          35,
          36,
          37,
          38,
          39
         ]
        },
        {
         "marker": {
          "color": "#e66101",
          "line": {
           "color": "Grey",
           "width": 0
          }
         },
         "name": "Irrigation water extractions",
         "orientation": "h",
         "type": "bar",
         "x": [
          40.515973485371546,
          7.768562888552987,
          70.20709334562001,
          154.19319497575344,
          85.22857066734355,
          1.6763313136920848,
          5.58153528949775,
          721.0146284647567,
          252.3729165024604,
          56.513477566195824,
          64.74320791629656,
          40.955183087075845,
          68.8542939634035,
          209.47917899282905,
          139.02200779078385,
          277.005790063997,
          94.56381556395196,
          78.91571014698896,
          51.74668673286738,
          38.53710010332366,
          52.60728459725805,
          9.67721434324748,
          14.20926259230663,
          21.30961266331652,
          17.380204414173008,
          221.00010831932275,
          117.00595622072436,
          22.350326107969725,
          16.775406432382653,
          79.24093905699429,
          219.16822391406123,
          161.94997371808066,
          36.05526446630165,
          15.21470481928397,
          48.35978052398857,
          20.47231438477624,
          1.965504030138611,
          53.69379955599187,
          1.2289610696052724,
          119.81297025510851
         ],
         "y": [
          0,
          1,
          2,
          3,
          4,
          5,
          6,
          7,
          8,
          9,
          10,
          11,
          12,
          13,
          14,
          15,
          16,
          17,
          18,
          19,
          20,
          21,
          22,
          23,
          24,
          25,
          26,
          27,
          28,
          29,
          30,
          31,
          32,
          33,
          34,
          35,
          36,
          37,
          38,
          39
         ]
        },
        {
         "marker": {
          "color": "#5e3c99",
          "line": {
           "color": "Grey",
           "width": 0
          }
         },
         "name": "Resued water from population",
         "orientation": "h",
         "type": "bar",
         "x": [
          -4.598853573545109,
          -1.4011637939476798,
          -3.6671684269557856,
          -0.2624813339978547,
          -0.34383732789419336,
          -0.47101595905342386,
          -0.40944640136227717,
          -14.651852907180219,
          -0.12520437871746368,
          -12.398464064721791,
          -1.8523677151866003,
          -8.894415125312673,
          -2.337928992738602,
          -14.354110404610696,
          -3.940296596335997,
          -7.343980611889054,
          -0.0044806054631529035,
          -0.5356430758117287,
          -2.0810744325306447,
          -0.6889787282322327,
          -5.1450347675129535,
          -1.7331158050499016,
          -0.9975523548581829,
          -2.213244442003462,
          -0.8660117007023808,
          -12.687870244550766,
          -10.199122080024932,
          -8.330115610786377,
          -0.04699704348196917,
          -6.785875806239885,
          -3.791918437027484,
          -10.831978537274757,
          -4.922894334580154,
          -0.00431363987286688,
          -5.870445023534779,
          -2.9897036650055555,
          -2.098123556861597,
          -3.6447299827926396,
          -2.83435201570094,
          -0.06043891184642978
         ],
         "y": [
          0,
          1,
          2,
          3,
          4,
          5,
          6,
          7,
          8,
          9,
          10,
          11,
          12,
          13,
          14,
          15,
          16,
          17,
          18,
          19,
          20,
          21,
          22,
          23,
          24,
          25,
          26,
          27,
          28,
          29,
          30,
          31,
          32,
          33,
          34,
          35,
          36,
          37,
          38,
          39
         ]
        },
        {
         "marker": {
          "color": "#b2abd2",
          "line": {
           "color": "Grey",
           "width": 0
          }
         },
         "name": "Resued water from irrigation",
         "orientation": "h",
         "type": "bar",
         "x": [
          -9.244354739350399,
          -3.508681650995654,
          -16.251806310107487,
          -128.25641816496685,
          -67.90305507559701,
          -0.716651790833615,
          -2.8145867769072304,
          -643.4539600853961,
          -180.5255950375869,
          -40.05200338985416,
          -49.52343526452771,
          -26.74068140541268,
          -47.77484322812211,
          -174.21341116755636,
          -99.0165244788791,
          -244.94192946917332,
          -70.15650229225132,
          -39.38213690463593,
          -20.575192180598552,
          -31.869331943921484,
          -46.31603602221875,
          -2.658789573072475,
          -9.941487278279615,
          -6.49891374756753,
          -10.675142085418237,
          -136.69304295388713,
          -102.0694618465685,
          -14.126058312075365,
          -12.12595529723509,
          -69.76965585716526,
          -144.13021853777317,
          -130.96238984663492,
          -30.575873093996194,
          -6.99992090498537,
          -35.84857932833612,
          -19.68458905504488,
          -3.3812776609657855,
          -40.995312471481895,
          -2.380467628301099,
          -85.64104070828789
         ],
         "y": [
          0,
          1,
          2,
          3,
          4,
          5,
          6,
          7,
          8,
          9,
          10,
          11,
          12,
          13,
          14,
          15,
          16,
          17,
          18,
          19,
          20,
          21,
          22,
          23,
          24,
          25,
          26,
          27,
          28,
          29,
          30,
          31,
          32,
          33,
          34,
          35,
          36,
          37,
          38,
          39
         ]
        }
       ],
       "layout": {
        "barmode": "relative",
        "height": 700,
        "legend": {
         "orientation": "h",
         "x": 0,
         "xanchor": "left",
         "y": 1.02,
         "yanchor": "bottom"
        },
        "margin": {
         "b": 0,
         "l": 0,
         "r": 0,
         "t": 0
        },
        "template": {
         "data": {
          "bar": [
           {
            "error_x": {
             "color": "#2a3f5f"
            },
            "error_y": {
             "color": "#2a3f5f"
            },
            "marker": {
             "line": {
              "color": "white",
              "width": 0.5
             }
            },
            "type": "bar"
           }
          ],
          "barpolar": [
           {
            "marker": {
             "line": {
              "color": "white",
              "width": 0.5
             }
            },
            "type": "barpolar"
           }
          ],
          "carpet": [
           {
            "aaxis": {
             "endlinecolor": "#2a3f5f",
             "gridcolor": "#C8D4E3",
             "linecolor": "#C8D4E3",
             "minorgridcolor": "#C8D4E3",
             "startlinecolor": "#2a3f5f"
            },
            "baxis": {
             "endlinecolor": "#2a3f5f",
             "gridcolor": "#C8D4E3",
             "linecolor": "#C8D4E3",
             "minorgridcolor": "#C8D4E3",
             "startlinecolor": "#2a3f5f"
            },
            "type": "carpet"
           }
          ],
          "choropleth": [
           {
            "colorbar": {
             "outlinewidth": 0,
             "ticks": ""
            },
            "type": "choropleth"
           }
          ],
          "contour": [
           {
            "colorbar": {
             "outlinewidth": 0,
             "ticks": ""
            },
            "colorscale": [
             [
              0,
              "#0d0887"
             ],
             [
              0.1111111111111111,
              "#46039f"
             ],
             [
              0.2222222222222222,
              "#7201a8"
             ],
             [
              0.3333333333333333,
              "#9c179e"
             ],
             [
              0.4444444444444444,
              "#bd3786"
             ],
             [
              0.5555555555555556,
              "#d8576b"
             ],
             [
              0.6666666666666666,
              "#ed7953"
             ],
             [
              0.7777777777777778,
              "#fb9f3a"
             ],
             [
              0.8888888888888888,
              "#fdca26"
             ],
             [
              1,
              "#f0f921"
             ]
            ],
            "type": "contour"
           }
          ],
          "contourcarpet": [
           {
            "colorbar": {
             "outlinewidth": 0,
             "ticks": ""
            },
            "type": "contourcarpet"
           }
          ],
          "heatmap": [
           {
            "colorbar": {
             "outlinewidth": 0,
             "ticks": ""
            },
            "colorscale": [
             [
              0,
              "#0d0887"
             ],
             [
              0.1111111111111111,
              "#46039f"
             ],
             [
              0.2222222222222222,
              "#7201a8"
             ],
             [
              0.3333333333333333,
              "#9c179e"
             ],
             [
              0.4444444444444444,
              "#bd3786"
             ],
             [
              0.5555555555555556,
              "#d8576b"
             ],
             [
              0.6666666666666666,
              "#ed7953"
             ],
             [
              0.7777777777777778,
              "#fb9f3a"
             ],
             [
              0.8888888888888888,
              "#fdca26"
             ],
             [
              1,
              "#f0f921"
             ]
            ],
            "type": "heatmap"
           }
          ],
          "heatmapgl": [
           {
            "colorbar": {
             "outlinewidth": 0,
             "ticks": ""
            },
            "colorscale": [
             [
              0,
              "#0d0887"
             ],
             [
              0.1111111111111111,
              "#46039f"
             ],
             [
              0.2222222222222222,
              "#7201a8"
             ],
             [
              0.3333333333333333,
              "#9c179e"
             ],
             [
              0.4444444444444444,
              "#bd3786"
             ],
             [
              0.5555555555555556,
              "#d8576b"
             ],
             [
              0.6666666666666666,
              "#ed7953"
             ],
             [
              0.7777777777777778,
              "#fb9f3a"
             ],
             [
              0.8888888888888888,
              "#fdca26"
             ],
             [
              1,
              "#f0f921"
             ]
            ],
            "type": "heatmapgl"
           }
          ],
          "histogram": [
           {
            "marker": {
             "colorbar": {
              "outlinewidth": 0,
              "ticks": ""
             }
            },
            "type": "histogram"
           }
          ],
          "histogram2d": [
           {
            "colorbar": {
             "outlinewidth": 0,
             "ticks": ""
            },
            "colorscale": [
             [
              0,
              "#0d0887"
             ],
             [
              0.1111111111111111,
              "#46039f"
             ],
             [
              0.2222222222222222,
              "#7201a8"
             ],
             [
              0.3333333333333333,
              "#9c179e"
             ],
             [
              0.4444444444444444,
              "#bd3786"
             ],
             [
              0.5555555555555556,
              "#d8576b"
             ],
             [
              0.6666666666666666,
              "#ed7953"
             ],
             [
              0.7777777777777778,
              "#fb9f3a"
             ],
             [
              0.8888888888888888,
              "#fdca26"
             ],
             [
              1,
              "#f0f921"
             ]
            ],
            "type": "histogram2d"
           }
          ],
          "histogram2dcontour": [
           {
            "colorbar": {
             "outlinewidth": 0,
             "ticks": ""
            },
            "colorscale": [
             [
              0,
              "#0d0887"
             ],
             [
              0.1111111111111111,
              "#46039f"
             ],
             [
              0.2222222222222222,
              "#7201a8"
             ],
             [
              0.3333333333333333,
              "#9c179e"
             ],
             [
              0.4444444444444444,
              "#bd3786"
             ],
             [
              0.5555555555555556,
              "#d8576b"
             ],
             [
              0.6666666666666666,
              "#ed7953"
             ],
             [
              0.7777777777777778,
              "#fb9f3a"
             ],
             [
              0.8888888888888888,
              "#fdca26"
             ],
             [
              1,
              "#f0f921"
             ]
            ],
            "type": "histogram2dcontour"
           }
          ],
          "mesh3d": [
           {
            "colorbar": {
             "outlinewidth": 0,
             "ticks": ""
            },
            "type": "mesh3d"
           }
          ],
          "parcoords": [
           {
            "line": {
             "colorbar": {
              "outlinewidth": 0,
              "ticks": ""
             }
            },
            "type": "parcoords"
           }
          ],
          "pie": [
           {
            "automargin": true,
            "type": "pie"
           }
          ],
          "scatter": [
           {
            "marker": {
             "colorbar": {
              "outlinewidth": 0,
              "ticks": ""
             }
            },
            "type": "scatter"
           }
          ],
          "scatter3d": [
           {
            "line": {
             "colorbar": {
              "outlinewidth": 0,
              "ticks": ""
             }
            },
            "marker": {
             "colorbar": {
              "outlinewidth": 0,
              "ticks": ""
             }
            },
            "type": "scatter3d"
           }
          ],
          "scattercarpet": [
           {
            "marker": {
             "colorbar": {
              "outlinewidth": 0,
              "ticks": ""
             }
            },
            "type": "scattercarpet"
           }
          ],
          "scattergeo": [
           {
            "marker": {
             "colorbar": {
              "outlinewidth": 0,
              "ticks": ""
             }
            },
            "type": "scattergeo"
           }
          ],
          "scattergl": [
           {
            "marker": {
             "colorbar": {
              "outlinewidth": 0,
              "ticks": ""
             }
            },
            "type": "scattergl"
           }
          ],
          "scattermapbox": [
           {
            "marker": {
             "colorbar": {
              "outlinewidth": 0,
              "ticks": ""
             }
            },
            "type": "scattermapbox"
           }
          ],
          "scatterpolar": [
           {
            "marker": {
             "colorbar": {
              "outlinewidth": 0,
              "ticks": ""
             }
            },
            "type": "scatterpolar"
           }
          ],
          "scatterpolargl": [
           {
            "marker": {
             "colorbar": {
              "outlinewidth": 0,
              "ticks": ""
             }
            },
            "type": "scatterpolargl"
           }
          ],
          "scatterternary": [
           {
            "marker": {
             "colorbar": {
              "outlinewidth": 0,
              "ticks": ""
             }
            },
            "type": "scatterternary"
           }
          ],
          "surface": [
           {
            "colorbar": {
             "outlinewidth": 0,
             "ticks": ""
            },
            "colorscale": [
             [
              0,
              "#0d0887"
             ],
             [
              0.1111111111111111,
              "#46039f"
             ],
             [
              0.2222222222222222,
              "#7201a8"
             ],
             [
              0.3333333333333333,
              "#9c179e"
             ],
             [
              0.4444444444444444,
              "#bd3786"
             ],
             [
              0.5555555555555556,
              "#d8576b"
             ],
             [
              0.6666666666666666,
              "#ed7953"
             ],
             [
              0.7777777777777778,
              "#fb9f3a"
             ],
             [
              0.8888888888888888,
              "#fdca26"
             ],
             [
              1,
              "#f0f921"
             ]
            ],
            "type": "surface"
           }
          ],
          "table": [
           {
            "cells": {
             "fill": {
              "color": "#EBF0F8"
             },
             "line": {
              "color": "white"
             }
            },
            "header": {
             "fill": {
              "color": "#C8D4E3"
             },
             "line": {
              "color": "white"
             }
            },
            "type": "table"
           }
          ]
         },
         "layout": {
          "annotationdefaults": {
           "arrowcolor": "#2a3f5f",
           "arrowhead": 0,
           "arrowwidth": 1
          },
          "coloraxis": {
           "colorbar": {
            "outlinewidth": 0,
            "ticks": ""
           }
          },
          "colorscale": {
           "diverging": [
            [
             0,
             "#8e0152"
            ],
            [
             0.1,
             "#c51b7d"
            ],
            [
             0.2,
             "#de77ae"
            ],
            [
             0.3,
             "#f1b6da"
            ],
            [
             0.4,
             "#fde0ef"
            ],
            [
             0.5,
             "#f7f7f7"
            ],
            [
             0.6,
             "#e6f5d0"
            ],
            [
             0.7,
             "#b8e186"
            ],
            [
             0.8,
             "#7fbc41"
            ],
            [
             0.9,
             "#4d9221"
            ],
            [
             1,
             "#276419"
            ]
           ],
           "sequential": [
            [
             0,
             "#0d0887"
            ],
            [
             0.1111111111111111,
             "#46039f"
            ],
            [
             0.2222222222222222,
             "#7201a8"
            ],
            [
             0.3333333333333333,
             "#9c179e"
            ],
            [
             0.4444444444444444,
             "#bd3786"
            ],
            [
             0.5555555555555556,
             "#d8576b"
            ],
            [
             0.6666666666666666,
             "#ed7953"
            ],
            [
             0.7777777777777778,
             "#fb9f3a"
            ],
            [
             0.8888888888888888,
             "#fdca26"
            ],
            [
             1,
             "#f0f921"
            ]
           ],
           "sequentialminus": [
            [
             0,
             "#0d0887"
            ],
            [
             0.1111111111111111,
             "#46039f"
            ],
            [
             0.2222222222222222,
             "#7201a8"
            ],
            [
             0.3333333333333333,
             "#9c179e"
            ],
            [
             0.4444444444444444,
             "#bd3786"
            ],
            [
             0.5555555555555556,
             "#d8576b"
            ],
            [
             0.6666666666666666,
             "#ed7953"
            ],
            [
             0.7777777777777778,
             "#fb9f3a"
            ],
            [
             0.8888888888888888,
             "#fdca26"
            ],
            [
             1,
             "#f0f921"
            ]
           ]
          },
          "colorway": [
           "#636efa",
           "#EF553B",
           "#00cc96",
           "#ab63fa",
           "#FFA15A",
           "#19d3f3",
           "#FF6692",
           "#B6E880",
           "#FF97FF",
           "#FECB52"
          ],
          "font": {
           "color": "#2a3f5f"
          },
          "geo": {
           "bgcolor": "white",
           "lakecolor": "white",
           "landcolor": "white",
           "showlakes": true,
           "showland": true,
           "subunitcolor": "#C8D4E3"
          },
          "hoverlabel": {
           "align": "left"
          },
          "hovermode": "closest",
          "mapbox": {
           "style": "light"
          },
          "paper_bgcolor": "white",
          "plot_bgcolor": "white",
          "polar": {
           "angularaxis": {
            "gridcolor": "#EBF0F8",
            "linecolor": "#EBF0F8",
            "ticks": ""
           },
           "bgcolor": "white",
           "radialaxis": {
            "gridcolor": "#EBF0F8",
            "linecolor": "#EBF0F8",
            "ticks": ""
           }
          },
          "scene": {
           "xaxis": {
            "backgroundcolor": "white",
            "gridcolor": "#DFE8F3",
            "gridwidth": 2,
            "linecolor": "#EBF0F8",
            "showbackground": true,
            "ticks": "",
            "zerolinecolor": "#EBF0F8"
           },
           "yaxis": {
            "backgroundcolor": "white",
            "gridcolor": "#DFE8F3",
            "gridwidth": 2,
            "linecolor": "#EBF0F8",
            "showbackground": true,
            "ticks": "",
            "zerolinecolor": "#EBF0F8"
           },
           "zaxis": {
            "backgroundcolor": "white",
            "gridcolor": "#DFE8F3",
            "gridwidth": 2,
            "linecolor": "#EBF0F8",
            "showbackground": true,
            "ticks": "",
            "zerolinecolor": "#EBF0F8"
           }
          },
          "shapedefaults": {
           "line": {
            "color": "#2a3f5f"
           }
          },
          "ternary": {
           "aaxis": {
            "gridcolor": "#DFE8F3",
            "linecolor": "#A2B1C6",
            "ticks": ""
           },
           "baxis": {
            "gridcolor": "#DFE8F3",
            "linecolor": "#A2B1C6",
            "ticks": ""
           },
           "bgcolor": "white",
           "caxis": {
            "gridcolor": "#DFE8F3",
            "linecolor": "#A2B1C6",
            "ticks": ""
           }
          },
          "title": {
           "x": 0.05
          },
          "xaxis": {
           "automargin": true,
           "gridcolor": "#EBF0F8",
           "linecolor": "#EBF0F8",
           "ticks": "",
           "title": {
            "standoff": 15
           },
           "zerolinecolor": "#EBF0F8",
           "zerolinewidth": 2
          },
          "yaxis": {
           "automargin": true,
           "gridcolor": "#EBF0F8",
           "linecolor": "#EBF0F8",
           "ticks": "",
           "title": {
            "standoff": 15
           },
           "zerolinecolor": "#EBF0F8",
           "zerolinewidth": 2
          }
         }
        },
        "xaxis": {
         "title": {
          "text": "Million cubic meters of water per year (Mm<sup>3</sup>/yr)"
         }
        },
        "yaxis": {
         "categoryarray": [
          5,
          36,
          6,
          38,
          1,
          21,
          33,
          22,
          28,
          24,
          23,
          35,
          27,
          19,
          32,
          0,
          18,
          11,
          34,
          37,
          20,
          10,
          12,
          2,
          9,
          17,
          4,
          29,
          16,
          39,
          26,
          14,
          3,
          31,
          30,
          13,
          25,
          8,
          15,
          7
         ],
         "categoryorder": "array",
         "ticks": "outside",
         "title": {
          "text": "Cluster"
         },
         "type": "category"
        }
       }
      },
      "text/html": [
       "<div>\n",
       "        \n",
       "        \n",
       "            <div id=\"4fde3500-f352-4865-9598-715c4263f731\" class=\"plotly-graph-div\" style=\"height:700px; width:100%;\"></div>\n",
       "            <script type=\"text/javascript\">\n",
       "                require([\"plotly\"], function(Plotly) {\n",
       "                    window.PLOTLYENV=window.PLOTLYENV || {};\n",
       "                    \n",
       "                if (document.getElementById(\"4fde3500-f352-4865-9598-715c4263f731\")) {\n",
       "                    Plotly.newPlot(\n",
       "                        '4fde3500-f352-4865-9598-715c4263f731',\n",
       "                        [{\"marker\": {\"color\": \"#fdb863\", \"line\": {\"color\": \"Grey\", \"width\": 0}}, \"name\": \"Population water extractions\", \"orientation\": \"h\", \"type\": \"bar\", \"x\": [7.3561168633230025, 2.2358112275879924, 5.9190877310196175, 0.8801649031132143, 0.8100192321974329, 0.7506821225023872, 0.6625838838569965, 24.000221323652607, 0.6018328883554347, 20.038567617079217, 3.2549758243349585, 14.196678118671853, 3.9222812561426244, 23.19225255753355, 6.34238689678655, 11.666177713767668, 0.1839079865689419, 0.9556913828191245, 3.3936541521589225, 1.3499534509607882, 8.222796652433328, 2.779202236982975, 1.6558885326749468, 3.575434824863891, 1.3851016566079015, 20.66338893736386, 16.384589231632088, 13.282269910840277, 0.09187390632512697, 11.013587997505542, 6.2415798295567075, 17.556650070240362, 7.962968933323987, 0.010293050555677231, 9.398895860981984, 4.7988383812092765, 3.3431455155545873, 5.845880242227826, 7.7732226568006295, 0.34824138721723585], \"y\": [0.0, 1.0, 2.0, 3.0, 4.0, 5.0, 6.0, 7.0, 8.0, 9.0, 10.0, 11.0, 12.0, 13.0, 14.0, 15.0, 16.0, 17.0, 18.0, 19.0, 20.0, 21.0, 22.0, 23.0, 24.0, 25.0, 26.0, 27.0, 28.0, 29.0, 30.0, 31.0, 32.0, 33.0, 34.0, 35.0, 36.0, 37.0, 38.0, 39.0]}, {\"marker\": {\"color\": \"#e66101\", \"line\": {\"color\": \"Grey\", \"width\": 0}}, \"name\": \"Irrigation water extractions\", \"orientation\": \"h\", \"type\": \"bar\", \"x\": [40.515973485371546, 7.768562888552987, 70.20709334562001, 154.19319497575344, 85.22857066734355, 1.6763313136920848, 5.58153528949775, 721.0146284647567, 252.3729165024604, 56.513477566195824, 64.74320791629656, 40.955183087075845, 68.8542939634035, 209.47917899282905, 139.02200779078385, 277.005790063997, 94.56381556395196, 78.91571014698896, 51.74668673286738, 38.53710010332366, 52.60728459725805, 9.67721434324748, 14.20926259230663, 21.30961266331652, 17.380204414173008, 221.00010831932275, 117.00595622072436, 22.350326107969725, 16.775406432382653, 79.24093905699429, 219.16822391406123, 161.94997371808066, 36.05526446630165, 15.21470481928397, 48.35978052398857, 20.47231438477624, 1.965504030138611, 53.69379955599187, 1.2289610696052724, 119.81297025510851], \"y\": [0.0, 1.0, 2.0, 3.0, 4.0, 5.0, 6.0, 7.0, 8.0, 9.0, 10.0, 11.0, 12.0, 13.0, 14.0, 15.0, 16.0, 17.0, 18.0, 19.0, 20.0, 21.0, 22.0, 23.0, 24.0, 25.0, 26.0, 27.0, 28.0, 29.0, 30.0, 31.0, 32.0, 33.0, 34.0, 35.0, 36.0, 37.0, 38.0, 39.0]}, {\"marker\": {\"color\": \"#5e3c99\", \"line\": {\"color\": \"Grey\", \"width\": 0}}, \"name\": \"Resued water from population\", \"orientation\": \"h\", \"type\": \"bar\", \"x\": [-4.598853573545109, -1.4011637939476798, -3.6671684269557856, -0.2624813339978547, -0.34383732789419336, -0.47101595905342386, -0.40944640136227717, -14.651852907180219, -0.12520437871746368, -12.398464064721791, -1.8523677151866003, -8.894415125312673, -2.337928992738602, -14.354110404610696, -3.940296596335997, -7.343980611889054, -0.0044806054631529035, -0.5356430758117287, -2.0810744325306447, -0.6889787282322327, -5.1450347675129535, -1.7331158050499016, -0.9975523548581829, -2.213244442003462, -0.8660117007023808, -12.687870244550766, -10.199122080024932, -8.330115610786377, -0.04699704348196917, -6.785875806239885, -3.791918437027484, -10.831978537274757, -4.922894334580154, -0.00431363987286688, -5.870445023534779, -2.9897036650055555, -2.098123556861597, -3.6447299827926396, -2.83435201570094, -0.06043891184642978], \"y\": [0.0, 1.0, 2.0, 3.0, 4.0, 5.0, 6.0, 7.0, 8.0, 9.0, 10.0, 11.0, 12.0, 13.0, 14.0, 15.0, 16.0, 17.0, 18.0, 19.0, 20.0, 21.0, 22.0, 23.0, 24.0, 25.0, 26.0, 27.0, 28.0, 29.0, 30.0, 31.0, 32.0, 33.0, 34.0, 35.0, 36.0, 37.0, 38.0, 39.0]}, {\"marker\": {\"color\": \"#b2abd2\", \"line\": {\"color\": \"Grey\", \"width\": 0}}, \"name\": \"Resued water from irrigation\", \"orientation\": \"h\", \"type\": \"bar\", \"x\": [-9.244354739350399, -3.508681650995654, -16.251806310107487, -128.25641816496685, -67.90305507559701, -0.716651790833615, -2.8145867769072304, -643.4539600853961, -180.5255950375869, -40.05200338985416, -49.52343526452771, -26.74068140541268, -47.77484322812211, -174.21341116755636, -99.0165244788791, -244.94192946917332, -70.15650229225132, -39.38213690463593, -20.575192180598552, -31.869331943921484, -46.31603602221875, -2.658789573072475, -9.941487278279615, -6.49891374756753, -10.675142085418237, -136.69304295388713, -102.0694618465685, -14.126058312075365, -12.12595529723509, -69.76965585716526, -144.13021853777317, -130.96238984663492, -30.575873093996194, -6.99992090498537, -35.84857932833612, -19.68458905504488, -3.3812776609657855, -40.995312471481895, -2.380467628301099, -85.64104070828789], \"y\": [0.0, 1.0, 2.0, 3.0, 4.0, 5.0, 6.0, 7.0, 8.0, 9.0, 10.0, 11.0, 12.0, 13.0, 14.0, 15.0, 16.0, 17.0, 18.0, 19.0, 20.0, 21.0, 22.0, 23.0, 24.0, 25.0, 26.0, 27.0, 28.0, 29.0, 30.0, 31.0, 32.0, 33.0, 34.0, 35.0, 36.0, 37.0, 38.0, 39.0]}],\n",
       "                        {\"barmode\": \"relative\", \"height\": 700, \"legend\": {\"orientation\": \"h\", \"x\": 0, \"xanchor\": \"left\", \"y\": 1.02, \"yanchor\": \"bottom\"}, \"margin\": {\"b\": 0, \"l\": 0, \"r\": 0, \"t\": 0}, \"template\": {\"data\": {\"bar\": [{\"error_x\": {\"color\": \"#2a3f5f\"}, \"error_y\": {\"color\": \"#2a3f5f\"}, \"marker\": {\"line\": {\"color\": \"white\", \"width\": 0.5}}, \"type\": \"bar\"}], \"barpolar\": [{\"marker\": {\"line\": {\"color\": \"white\", \"width\": 0.5}}, \"type\": \"barpolar\"}], \"carpet\": [{\"aaxis\": {\"endlinecolor\": \"#2a3f5f\", \"gridcolor\": \"#C8D4E3\", \"linecolor\": \"#C8D4E3\", \"minorgridcolor\": \"#C8D4E3\", \"startlinecolor\": \"#2a3f5f\"}, \"baxis\": {\"endlinecolor\": \"#2a3f5f\", \"gridcolor\": \"#C8D4E3\", \"linecolor\": \"#C8D4E3\", \"minorgridcolor\": \"#C8D4E3\", \"startlinecolor\": \"#2a3f5f\"}, \"type\": \"carpet\"}], \"choropleth\": [{\"colorbar\": {\"outlinewidth\": 0, \"ticks\": \"\"}, \"type\": \"choropleth\"}], \"contour\": [{\"colorbar\": {\"outlinewidth\": 0, \"ticks\": \"\"}, \"colorscale\": [[0.0, \"#0d0887\"], [0.1111111111111111, \"#46039f\"], [0.2222222222222222, \"#7201a8\"], [0.3333333333333333, \"#9c179e\"], [0.4444444444444444, \"#bd3786\"], [0.5555555555555556, \"#d8576b\"], [0.6666666666666666, \"#ed7953\"], [0.7777777777777778, \"#fb9f3a\"], [0.8888888888888888, \"#fdca26\"], [1.0, \"#f0f921\"]], \"type\": \"contour\"}], \"contourcarpet\": [{\"colorbar\": {\"outlinewidth\": 0, \"ticks\": \"\"}, \"type\": \"contourcarpet\"}], \"heatmap\": [{\"colorbar\": {\"outlinewidth\": 0, \"ticks\": \"\"}, \"colorscale\": [[0.0, \"#0d0887\"], [0.1111111111111111, \"#46039f\"], [0.2222222222222222, \"#7201a8\"], [0.3333333333333333, \"#9c179e\"], [0.4444444444444444, \"#bd3786\"], [0.5555555555555556, \"#d8576b\"], [0.6666666666666666, \"#ed7953\"], [0.7777777777777778, \"#fb9f3a\"], [0.8888888888888888, \"#fdca26\"], [1.0, \"#f0f921\"]], \"type\": \"heatmap\"}], \"heatmapgl\": [{\"colorbar\": {\"outlinewidth\": 0, \"ticks\": \"\"}, \"colorscale\": [[0.0, \"#0d0887\"], [0.1111111111111111, \"#46039f\"], [0.2222222222222222, \"#7201a8\"], [0.3333333333333333, \"#9c179e\"], [0.4444444444444444, \"#bd3786\"], [0.5555555555555556, \"#d8576b\"], [0.6666666666666666, \"#ed7953\"], [0.7777777777777778, \"#fb9f3a\"], [0.8888888888888888, \"#fdca26\"], [1.0, \"#f0f921\"]], \"type\": \"heatmapgl\"}], \"histogram\": [{\"marker\": {\"colorbar\": {\"outlinewidth\": 0, \"ticks\": \"\"}}, \"type\": \"histogram\"}], \"histogram2d\": [{\"colorbar\": {\"outlinewidth\": 0, \"ticks\": \"\"}, \"colorscale\": [[0.0, \"#0d0887\"], [0.1111111111111111, \"#46039f\"], [0.2222222222222222, \"#7201a8\"], [0.3333333333333333, \"#9c179e\"], [0.4444444444444444, \"#bd3786\"], [0.5555555555555556, \"#d8576b\"], [0.6666666666666666, \"#ed7953\"], [0.7777777777777778, \"#fb9f3a\"], [0.8888888888888888, \"#fdca26\"], [1.0, \"#f0f921\"]], \"type\": \"histogram2d\"}], \"histogram2dcontour\": [{\"colorbar\": {\"outlinewidth\": 0, \"ticks\": \"\"}, \"colorscale\": [[0.0, \"#0d0887\"], [0.1111111111111111, \"#46039f\"], [0.2222222222222222, \"#7201a8\"], [0.3333333333333333, \"#9c179e\"], [0.4444444444444444, \"#bd3786\"], [0.5555555555555556, \"#d8576b\"], [0.6666666666666666, \"#ed7953\"], [0.7777777777777778, \"#fb9f3a\"], [0.8888888888888888, \"#fdca26\"], [1.0, \"#f0f921\"]], \"type\": \"histogram2dcontour\"}], \"mesh3d\": [{\"colorbar\": {\"outlinewidth\": 0, \"ticks\": \"\"}, \"type\": \"mesh3d\"}], \"parcoords\": [{\"line\": {\"colorbar\": {\"outlinewidth\": 0, \"ticks\": \"\"}}, \"type\": \"parcoords\"}], \"pie\": [{\"automargin\": true, \"type\": \"pie\"}], \"scatter\": [{\"marker\": {\"colorbar\": {\"outlinewidth\": 0, \"ticks\": \"\"}}, \"type\": \"scatter\"}], \"scatter3d\": [{\"line\": {\"colorbar\": {\"outlinewidth\": 0, \"ticks\": \"\"}}, \"marker\": {\"colorbar\": {\"outlinewidth\": 0, \"ticks\": \"\"}}, \"type\": \"scatter3d\"}], \"scattercarpet\": [{\"marker\": {\"colorbar\": {\"outlinewidth\": 0, \"ticks\": \"\"}}, \"type\": \"scattercarpet\"}], \"scattergeo\": [{\"marker\": {\"colorbar\": {\"outlinewidth\": 0, \"ticks\": \"\"}}, \"type\": \"scattergeo\"}], \"scattergl\": [{\"marker\": {\"colorbar\": {\"outlinewidth\": 0, \"ticks\": \"\"}}, \"type\": \"scattergl\"}], \"scattermapbox\": [{\"marker\": {\"colorbar\": {\"outlinewidth\": 0, \"ticks\": \"\"}}, \"type\": \"scattermapbox\"}], \"scatterpolar\": [{\"marker\": {\"colorbar\": {\"outlinewidth\": 0, \"ticks\": \"\"}}, \"type\": \"scatterpolar\"}], \"scatterpolargl\": [{\"marker\": {\"colorbar\": {\"outlinewidth\": 0, \"ticks\": \"\"}}, \"type\": \"scatterpolargl\"}], \"scatterternary\": [{\"marker\": {\"colorbar\": {\"outlinewidth\": 0, \"ticks\": \"\"}}, \"type\": \"scatterternary\"}], \"surface\": [{\"colorbar\": {\"outlinewidth\": 0, \"ticks\": \"\"}, \"colorscale\": [[0.0, \"#0d0887\"], [0.1111111111111111, \"#46039f\"], [0.2222222222222222, \"#7201a8\"], [0.3333333333333333, \"#9c179e\"], [0.4444444444444444, \"#bd3786\"], [0.5555555555555556, \"#d8576b\"], [0.6666666666666666, \"#ed7953\"], [0.7777777777777778, \"#fb9f3a\"], [0.8888888888888888, \"#fdca26\"], [1.0, \"#f0f921\"]], \"type\": \"surface\"}], \"table\": [{\"cells\": {\"fill\": {\"color\": \"#EBF0F8\"}, \"line\": {\"color\": \"white\"}}, \"header\": {\"fill\": {\"color\": \"#C8D4E3\"}, \"line\": {\"color\": \"white\"}}, \"type\": \"table\"}]}, \"layout\": {\"annotationdefaults\": {\"arrowcolor\": \"#2a3f5f\", \"arrowhead\": 0, \"arrowwidth\": 1}, \"coloraxis\": {\"colorbar\": {\"outlinewidth\": 0, \"ticks\": \"\"}}, \"colorscale\": {\"diverging\": [[0, \"#8e0152\"], [0.1, \"#c51b7d\"], [0.2, \"#de77ae\"], [0.3, \"#f1b6da\"], [0.4, \"#fde0ef\"], [0.5, \"#f7f7f7\"], [0.6, \"#e6f5d0\"], [0.7, \"#b8e186\"], [0.8, \"#7fbc41\"], [0.9, \"#4d9221\"], [1, \"#276419\"]], \"sequential\": [[0.0, \"#0d0887\"], [0.1111111111111111, \"#46039f\"], [0.2222222222222222, \"#7201a8\"], [0.3333333333333333, \"#9c179e\"], [0.4444444444444444, \"#bd3786\"], [0.5555555555555556, \"#d8576b\"], [0.6666666666666666, \"#ed7953\"], [0.7777777777777778, \"#fb9f3a\"], [0.8888888888888888, \"#fdca26\"], [1.0, \"#f0f921\"]], \"sequentialminus\": [[0.0, \"#0d0887\"], [0.1111111111111111, \"#46039f\"], [0.2222222222222222, \"#7201a8\"], [0.3333333333333333, \"#9c179e\"], [0.4444444444444444, \"#bd3786\"], [0.5555555555555556, \"#d8576b\"], [0.6666666666666666, \"#ed7953\"], [0.7777777777777778, \"#fb9f3a\"], [0.8888888888888888, \"#fdca26\"], [1.0, \"#f0f921\"]]}, \"colorway\": [\"#636efa\", \"#EF553B\", \"#00cc96\", \"#ab63fa\", \"#FFA15A\", \"#19d3f3\", \"#FF6692\", \"#B6E880\", \"#FF97FF\", \"#FECB52\"], \"font\": {\"color\": \"#2a3f5f\"}, \"geo\": {\"bgcolor\": \"white\", \"lakecolor\": \"white\", \"landcolor\": \"white\", \"showlakes\": true, \"showland\": true, \"subunitcolor\": \"#C8D4E3\"}, \"hoverlabel\": {\"align\": \"left\"}, \"hovermode\": \"closest\", \"mapbox\": {\"style\": \"light\"}, \"paper_bgcolor\": \"white\", \"plot_bgcolor\": \"white\", \"polar\": {\"angularaxis\": {\"gridcolor\": \"#EBF0F8\", \"linecolor\": \"#EBF0F8\", \"ticks\": \"\"}, \"bgcolor\": \"white\", \"radialaxis\": {\"gridcolor\": \"#EBF0F8\", \"linecolor\": \"#EBF0F8\", \"ticks\": \"\"}}, \"scene\": {\"xaxis\": {\"backgroundcolor\": \"white\", \"gridcolor\": \"#DFE8F3\", \"gridwidth\": 2, \"linecolor\": \"#EBF0F8\", \"showbackground\": true, \"ticks\": \"\", \"zerolinecolor\": \"#EBF0F8\"}, \"yaxis\": {\"backgroundcolor\": \"white\", \"gridcolor\": \"#DFE8F3\", \"gridwidth\": 2, \"linecolor\": \"#EBF0F8\", \"showbackground\": true, \"ticks\": \"\", \"zerolinecolor\": \"#EBF0F8\"}, \"zaxis\": {\"backgroundcolor\": \"white\", \"gridcolor\": \"#DFE8F3\", \"gridwidth\": 2, \"linecolor\": \"#EBF0F8\", \"showbackground\": true, \"ticks\": \"\", \"zerolinecolor\": \"#EBF0F8\"}}, \"shapedefaults\": {\"line\": {\"color\": \"#2a3f5f\"}}, \"ternary\": {\"aaxis\": {\"gridcolor\": \"#DFE8F3\", \"linecolor\": \"#A2B1C6\", \"ticks\": \"\"}, \"baxis\": {\"gridcolor\": \"#DFE8F3\", \"linecolor\": \"#A2B1C6\", \"ticks\": \"\"}, \"bgcolor\": \"white\", \"caxis\": {\"gridcolor\": \"#DFE8F3\", \"linecolor\": \"#A2B1C6\", \"ticks\": \"\"}}, \"title\": {\"x\": 0.05}, \"xaxis\": {\"automargin\": true, \"gridcolor\": \"#EBF0F8\", \"linecolor\": \"#EBF0F8\", \"ticks\": \"\", \"title\": {\"standoff\": 15}, \"zerolinecolor\": \"#EBF0F8\", \"zerolinewidth\": 2}, \"yaxis\": {\"automargin\": true, \"gridcolor\": \"#EBF0F8\", \"linecolor\": \"#EBF0F8\", \"ticks\": \"\", \"title\": {\"standoff\": 15}, \"zerolinecolor\": \"#EBF0F8\", \"zerolinewidth\": 2}}}, \"xaxis\": {\"title\": {\"text\": \"Million cubic meters of water per year (Mm<sup>3</sup>/yr)\"}}, \"yaxis\": {\"categoryarray\": [5.0, 36.0, 6.0, 38.0, 1.0, 21.0, 33.0, 22.0, 28.0, 24.0, 23.0, 35.0, 27.0, 19.0, 32.0, 0.0, 18.0, 11.0, 34.0, 37.0, 20.0, 10.0, 12.0, 2.0, 9.0, 17.0, 4.0, 29.0, 16.0, 39.0, 26.0, 14.0, 3.0, 31.0, 30.0, 13.0, 25.0, 8.0, 15.0, 7.0], \"categoryorder\": \"array\", \"ticks\": \"outside\", \"title\": {\"text\": \"Cluster\"}, \"type\": \"category\"}},\n",
       "                        {\"responsive\": true}\n",
       "                    ).then(function(){\n",
       "                            \n",
       "var gd = document.getElementById('4fde3500-f352-4865-9598-715c4263f731');\n",
       "var x = new MutationObserver(function (mutations, observer) {{\n",
       "        var display = window.getComputedStyle(gd).display;\n",
       "        if (!display || display === 'none') {{\n",
       "            console.log([gd, 'removed!']);\n",
       "            Plotly.purge(gd);\n",
       "            observer.disconnect();\n",
       "        }}\n",
       "}});\n",
       "\n",
       "// Listen for the removal of the full notebook cells\n",
       "var notebookContainer = gd.closest('#notebook-container');\n",
       "if (notebookContainer) {{\n",
       "    x.observe(notebookContainer, {childList: true});\n",
       "}}\n",
       "\n",
       "// Listen for the clearing of the current output cell\n",
       "var outputEl = gd.closest('.output');\n",
       "if (outputEl) {{\n",
       "    x.observe(outputEl, {childList: true});\n",
       "}}\n",
       "\n",
       "                        })\n",
       "                };\n",
       "                });\n",
       "            </script>\n",
       "        </div>"
      ]
     },
     "metadata": {},
     "output_type": "display_data"
    }
   ],
   "source": [
    "fig = go.Figure()\n",
    "dff = dff_water\n",
    "\n",
    "dff['total_extractions'] = dff['FinalIrrigationWater'] + dff['PopulationWater']\n",
    "dff['cat_order'] = [cluster for value, cluster in dff[['total_extractions', 'Cluster']].sort_values('total_extractions', ascending=True).values]\n",
    "\n",
    "cat_order = dff['cat_order'].copy()\n",
    "\n",
    "fig.add_trace(go.Bar(y=dff['Cluster'], x=dff['PopulationWater']/1000000, orientation='h', name='Population water extractions', marker=dict(color='#fdb863', line=dict(width=0, color='Grey'))))\n",
    "fig.add_trace(go.Bar(y=dff['Cluster'], x=dff['FinalIrrigationWater']/1000000, orientation='h', name='Irrigation water extractions', marker=dict(color='#e66101', line=dict(width=0, color='Grey'))))\n",
    "fig.add_trace(go.Bar(y=dff['Cluster'], x=-dff['PopulationReusedWater']/1000000, orientation='h', name='Resued water from population', marker=dict(color='#5e3c99', line=dict(width=0, color='Grey'))))\n",
    "fig.add_trace(go.Bar(y=dff['Cluster'], x=-dff['IrrigationReusedWater']/1000000, orientation='h', name='Resued water from irrigation', marker=dict(color='#b2abd2', line=dict(width=0, color='Grey'))))\n",
    "\n",
    "fig.update_layout(barmode='relative', height=700, template='plotly_white',\n",
    "                  yaxis={'categoryorder': 'array', 'categoryarray': cat_order,\n",
    "                         'title': 'Cluster', 'type': 'category', 'ticks': \"outside\"}, \n",
    "                  xaxis={'title': 'Million cubic meters of water per year (Mm<sup>3</sup>/yr)'},\n",
    "                  legend=dict(\n",
    "                            orientation=\"h\",\n",
    "                            yanchor=\"bottom\",\n",
    "                            y=1.02,\n",
    "                            xanchor=\"left\",\n",
    "                            x=0\n",
    "                ),\n",
    "                 margin=dict(b=0, l=0, r=0, t=0))\n",
    "fig.show()\n",
    "# fig.write_image('BaselineWater2.pdf')"
   ]
  },
  {
   "cell_type": "code",
   "execution_count": 141,
   "metadata": {},
   "outputs": [],
   "source": [
    "dff_energy = df.groupby('Cluster').agg({'IrrigationPumpingEnergy': 'sum', 'IrrigationDesalinationEnergy': 'sum',\n",
    "                                        'IrrigationTreatmentEnergy': 'sum', 'IrrigationDesalinationEnergy': 'sum',\n",
    "                                        'TDS': 'mean', 'GroundwaterDepth': 'mean'})"
   ]
  },
  {
   "cell_type": "code",
   "execution_count": 142,
   "metadata": {},
   "outputs": [],
   "source": [
    "dff_energy.reset_index(inplace=True)"
   ]
  },
  {
   "cell_type": "code",
   "execution_count": 139,
   "metadata": {},
   "outputs": [
    {
     "data": {
      "application/vnd.plotly.v1+json": {
       "config": {
        "plotlyServerURL": "https://plot.ly"
       },
       "data": [
        {
         "marker": {
          "color": "#fc8d62",
          "line": {
           "color": "Grey",
           "width": 1
          }
         },
         "name": "Pumping Energy",
         "type": "bar",
         "x": [
          0,
          1,
          2,
          3,
          4,
          5,
          6,
          7,
          8,
          9,
          10,
          11,
          12,
          13,
          14,
          15,
          16,
          17,
          18,
          19,
          20,
          21,
          22,
          23,
          24,
          25,
          26,
          27,
          28,
          29,
          30,
          31,
          32,
          33,
          34,
          35,
          36,
          37,
          38,
          39
         ],
         "y": [
          53.41699815446823,
          11.681789394968872,
          82.31360210726221,
          96.48426447080544,
          123.33010773911083,
          3.0183527928541896,
          8.81038625486568,
          445.98255963965886,
          333.1036356263023,
          88.71993245871874,
          52.93877329302856,
          66.20907277022089,
          96.79749777889796,
          158.36266140817037,
          194.1780765848327,
          155.28140718073843,
          107.64669312013122,
          106.98400685763514,
          71.83083585763146,
          57.85456157758368,
          35.87402918480863,
          14.083078364200803,
          10.90704391881278,
          29.893262958400204,
          23.46638721234043,
          298.8947552983548,
          82.16789058994313,
          43.903839374592984,
          17.92903172678049,
          50.416167954803846,
          295.63252332278574,
          195.8254693134575,
          53.21139806872946,
          20.50576581134946,
          73.34800060824183,
          18.701431991586485,
          5.57574171841144,
          74.41445370414615,
          8.888764632822006,
          161.84284808364853
         ]
        },
        {
         "marker": {
          "color": "#66c2a5",
          "line": {
           "color": "Grey",
           "width": 1
          }
         },
         "name": "Desalination Energy",
         "type": "bar",
         "x": [
          0,
          1,
          2,
          3,
          4,
          5,
          6,
          7,
          8,
          9,
          10,
          11,
          12,
          13,
          14,
          15,
          16,
          17,
          18,
          19,
          20,
          21,
          22,
          23,
          24,
          25,
          26,
          27,
          28,
          29,
          30,
          31,
          32,
          33,
          34,
          35,
          36,
          37,
          38,
          39
         ],
         "y": [
          2.4873178892813166,
          0.8938562417147653,
          5.441442580368531,
          25.343897324301164,
          9.943302026638156,
          0.1146104412851665,
          0.5414774670067284,
          107.53448890933709,
          41.114367613689424,
          17.364063561309493,
          8.327717152762887,
          5.692532620824481,
          5.429491994193811,
          33.30669235098127,
          19.143944948726546,
          38.04453226841334,
          14.737668822809928,
          6.653660428970067,
          5.01711428581387,
          3.3295323729162085,
          4.426667242695691,
          0.6557667776487965,
          2.7476799168917445,
          2.08793222085618,
          1.966846885972266,
          35.79295096616117,
          20.09626240073577,
          3.3081604804453013,
          1.9583812461998953,
          14.085520429324864,
          25.3106840179959,
          33.30758760781069,
          6.097965955921431,
          0.9950478696204094,
          9.602340829812068,
          2.4034696938618794,
          0.7196649960444419,
          6.787570608044697,
          0.705954401962287,
          23.025908090797532
         ]
        }
       ],
       "layout": {
        "barmode": "stack",
        "legend": {
         "orientation": "h",
         "x": 1,
         "xanchor": "right",
         "y": 1.02,
         "yanchor": "bottom"
        },
        "margin": {
         "b": 0,
         "l": 0,
         "r": 0,
         "t": 0
        },
        "template": {
         "data": {
          "bar": [
           {
            "error_x": {
             "color": "#2a3f5f"
            },
            "error_y": {
             "color": "#2a3f5f"
            },
            "marker": {
             "line": {
              "color": "white",
              "width": 0.5
             }
            },
            "type": "bar"
           }
          ],
          "barpolar": [
           {
            "marker": {
             "line": {
              "color": "white",
              "width": 0.5
             }
            },
            "type": "barpolar"
           }
          ],
          "carpet": [
           {
            "aaxis": {
             "endlinecolor": "#2a3f5f",
             "gridcolor": "#C8D4E3",
             "linecolor": "#C8D4E3",
             "minorgridcolor": "#C8D4E3",
             "startlinecolor": "#2a3f5f"
            },
            "baxis": {
             "endlinecolor": "#2a3f5f",
             "gridcolor": "#C8D4E3",
             "linecolor": "#C8D4E3",
             "minorgridcolor": "#C8D4E3",
             "startlinecolor": "#2a3f5f"
            },
            "type": "carpet"
           }
          ],
          "choropleth": [
           {
            "colorbar": {
             "outlinewidth": 0,
             "ticks": ""
            },
            "type": "choropleth"
           }
          ],
          "contour": [
           {
            "colorbar": {
             "outlinewidth": 0,
             "ticks": ""
            },
            "colorscale": [
             [
              0,
              "#0d0887"
             ],
             [
              0.1111111111111111,
              "#46039f"
             ],
             [
              0.2222222222222222,
              "#7201a8"
             ],
             [
              0.3333333333333333,
              "#9c179e"
             ],
             [
              0.4444444444444444,
              "#bd3786"
             ],
             [
              0.5555555555555556,
              "#d8576b"
             ],
             [
              0.6666666666666666,
              "#ed7953"
             ],
             [
              0.7777777777777778,
              "#fb9f3a"
             ],
             [
              0.8888888888888888,
              "#fdca26"
             ],
             [
              1,
              "#f0f921"
             ]
            ],
            "type": "contour"
           }
          ],
          "contourcarpet": [
           {
            "colorbar": {
             "outlinewidth": 0,
             "ticks": ""
            },
            "type": "contourcarpet"
           }
          ],
          "heatmap": [
           {
            "colorbar": {
             "outlinewidth": 0,
             "ticks": ""
            },
            "colorscale": [
             [
              0,
              "#0d0887"
             ],
             [
              0.1111111111111111,
              "#46039f"
             ],
             [
              0.2222222222222222,
              "#7201a8"
             ],
             [
              0.3333333333333333,
              "#9c179e"
             ],
             [
              0.4444444444444444,
              "#bd3786"
             ],
             [
              0.5555555555555556,
              "#d8576b"
             ],
             [
              0.6666666666666666,
              "#ed7953"
             ],
             [
              0.7777777777777778,
              "#fb9f3a"
             ],
             [
              0.8888888888888888,
              "#fdca26"
             ],
             [
              1,
              "#f0f921"
             ]
            ],
            "type": "heatmap"
           }
          ],
          "heatmapgl": [
           {
            "colorbar": {
             "outlinewidth": 0,
             "ticks": ""
            },
            "colorscale": [
             [
              0,
              "#0d0887"
             ],
             [
              0.1111111111111111,
              "#46039f"
             ],
             [
              0.2222222222222222,
              "#7201a8"
             ],
             [
              0.3333333333333333,
              "#9c179e"
             ],
             [
              0.4444444444444444,
              "#bd3786"
             ],
             [
              0.5555555555555556,
              "#d8576b"
             ],
             [
              0.6666666666666666,
              "#ed7953"
             ],
             [
              0.7777777777777778,
              "#fb9f3a"
             ],
             [
              0.8888888888888888,
              "#fdca26"
             ],
             [
              1,
              "#f0f921"
             ]
            ],
            "type": "heatmapgl"
           }
          ],
          "histogram": [
           {
            "marker": {
             "colorbar": {
              "outlinewidth": 0,
              "ticks": ""
             }
            },
            "type": "histogram"
           }
          ],
          "histogram2d": [
           {
            "colorbar": {
             "outlinewidth": 0,
             "ticks": ""
            },
            "colorscale": [
             [
              0,
              "#0d0887"
             ],
             [
              0.1111111111111111,
              "#46039f"
             ],
             [
              0.2222222222222222,
              "#7201a8"
             ],
             [
              0.3333333333333333,
              "#9c179e"
             ],
             [
              0.4444444444444444,
              "#bd3786"
             ],
             [
              0.5555555555555556,
              "#d8576b"
             ],
             [
              0.6666666666666666,
              "#ed7953"
             ],
             [
              0.7777777777777778,
              "#fb9f3a"
             ],
             [
              0.8888888888888888,
              "#fdca26"
             ],
             [
              1,
              "#f0f921"
             ]
            ],
            "type": "histogram2d"
           }
          ],
          "histogram2dcontour": [
           {
            "colorbar": {
             "outlinewidth": 0,
             "ticks": ""
            },
            "colorscale": [
             [
              0,
              "#0d0887"
             ],
             [
              0.1111111111111111,
              "#46039f"
             ],
             [
              0.2222222222222222,
              "#7201a8"
             ],
             [
              0.3333333333333333,
              "#9c179e"
             ],
             [
              0.4444444444444444,
              "#bd3786"
             ],
             [
              0.5555555555555556,
              "#d8576b"
             ],
             [
              0.6666666666666666,
              "#ed7953"
             ],
             [
              0.7777777777777778,
              "#fb9f3a"
             ],
             [
              0.8888888888888888,
              "#fdca26"
             ],
             [
              1,
              "#f0f921"
             ]
            ],
            "type": "histogram2dcontour"
           }
          ],
          "mesh3d": [
           {
            "colorbar": {
             "outlinewidth": 0,
             "ticks": ""
            },
            "type": "mesh3d"
           }
          ],
          "parcoords": [
           {
            "line": {
             "colorbar": {
              "outlinewidth": 0,
              "ticks": ""
             }
            },
            "type": "parcoords"
           }
          ],
          "pie": [
           {
            "automargin": true,
            "type": "pie"
           }
          ],
          "scatter": [
           {
            "marker": {
             "colorbar": {
              "outlinewidth": 0,
              "ticks": ""
             }
            },
            "type": "scatter"
           }
          ],
          "scatter3d": [
           {
            "line": {
             "colorbar": {
              "outlinewidth": 0,
              "ticks": ""
             }
            },
            "marker": {
             "colorbar": {
              "outlinewidth": 0,
              "ticks": ""
             }
            },
            "type": "scatter3d"
           }
          ],
          "scattercarpet": [
           {
            "marker": {
             "colorbar": {
              "outlinewidth": 0,
              "ticks": ""
             }
            },
            "type": "scattercarpet"
           }
          ],
          "scattergeo": [
           {
            "marker": {
             "colorbar": {
              "outlinewidth": 0,
              "ticks": ""
             }
            },
            "type": "scattergeo"
           }
          ],
          "scattergl": [
           {
            "marker": {
             "colorbar": {
              "outlinewidth": 0,
              "ticks": ""
             }
            },
            "type": "scattergl"
           }
          ],
          "scattermapbox": [
           {
            "marker": {
             "colorbar": {
              "outlinewidth": 0,
              "ticks": ""
             }
            },
            "type": "scattermapbox"
           }
          ],
          "scatterpolar": [
           {
            "marker": {
             "colorbar": {
              "outlinewidth": 0,
              "ticks": ""
             }
            },
            "type": "scatterpolar"
           }
          ],
          "scatterpolargl": [
           {
            "marker": {
             "colorbar": {
              "outlinewidth": 0,
              "ticks": ""
             }
            },
            "type": "scatterpolargl"
           }
          ],
          "scatterternary": [
           {
            "marker": {
             "colorbar": {
              "outlinewidth": 0,
              "ticks": ""
             }
            },
            "type": "scatterternary"
           }
          ],
          "surface": [
           {
            "colorbar": {
             "outlinewidth": 0,
             "ticks": ""
            },
            "colorscale": [
             [
              0,
              "#0d0887"
             ],
             [
              0.1111111111111111,
              "#46039f"
             ],
             [
              0.2222222222222222,
              "#7201a8"
             ],
             [
              0.3333333333333333,
              "#9c179e"
             ],
             [
              0.4444444444444444,
              "#bd3786"
             ],
             [
              0.5555555555555556,
              "#d8576b"
             ],
             [
              0.6666666666666666,
              "#ed7953"
             ],
             [
              0.7777777777777778,
              "#fb9f3a"
             ],
             [
              0.8888888888888888,
              "#fdca26"
             ],
             [
              1,
              "#f0f921"
             ]
            ],
            "type": "surface"
           }
          ],
          "table": [
           {
            "cells": {
             "fill": {
              "color": "#EBF0F8"
             },
             "line": {
              "color": "white"
             }
            },
            "header": {
             "fill": {
              "color": "#C8D4E3"
             },
             "line": {
              "color": "white"
             }
            },
            "type": "table"
           }
          ]
         },
         "layout": {
          "annotationdefaults": {
           "arrowcolor": "#2a3f5f",
           "arrowhead": 0,
           "arrowwidth": 1
          },
          "coloraxis": {
           "colorbar": {
            "outlinewidth": 0,
            "ticks": ""
           }
          },
          "colorscale": {
           "diverging": [
            [
             0,
             "#8e0152"
            ],
            [
             0.1,
             "#c51b7d"
            ],
            [
             0.2,
             "#de77ae"
            ],
            [
             0.3,
             "#f1b6da"
            ],
            [
             0.4,
             "#fde0ef"
            ],
            [
             0.5,
             "#f7f7f7"
            ],
            [
             0.6,
             "#e6f5d0"
            ],
            [
             0.7,
             "#b8e186"
            ],
            [
             0.8,
             "#7fbc41"
            ],
            [
             0.9,
             "#4d9221"
            ],
            [
             1,
             "#276419"
            ]
           ],
           "sequential": [
            [
             0,
             "#0d0887"
            ],
            [
             0.1111111111111111,
             "#46039f"
            ],
            [
             0.2222222222222222,
             "#7201a8"
            ],
            [
             0.3333333333333333,
             "#9c179e"
            ],
            [
             0.4444444444444444,
             "#bd3786"
            ],
            [
             0.5555555555555556,
             "#d8576b"
            ],
            [
             0.6666666666666666,
             "#ed7953"
            ],
            [
             0.7777777777777778,
             "#fb9f3a"
            ],
            [
             0.8888888888888888,
             "#fdca26"
            ],
            [
             1,
             "#f0f921"
            ]
           ],
           "sequentialminus": [
            [
             0,
             "#0d0887"
            ],
            [
             0.1111111111111111,
             "#46039f"
            ],
            [
             0.2222222222222222,
             "#7201a8"
            ],
            [
             0.3333333333333333,
             "#9c179e"
            ],
            [
             0.4444444444444444,
             "#bd3786"
            ],
            [
             0.5555555555555556,
             "#d8576b"
            ],
            [
             0.6666666666666666,
             "#ed7953"
            ],
            [
             0.7777777777777778,
             "#fb9f3a"
            ],
            [
             0.8888888888888888,
             "#fdca26"
            ],
            [
             1,
             "#f0f921"
            ]
           ]
          },
          "colorway": [
           "#636efa",
           "#EF553B",
           "#00cc96",
           "#ab63fa",
           "#FFA15A",
           "#19d3f3",
           "#FF6692",
           "#B6E880",
           "#FF97FF",
           "#FECB52"
          ],
          "font": {
           "color": "#2a3f5f"
          },
          "geo": {
           "bgcolor": "white",
           "lakecolor": "white",
           "landcolor": "white",
           "showlakes": true,
           "showland": true,
           "subunitcolor": "#C8D4E3"
          },
          "hoverlabel": {
           "align": "left"
          },
          "hovermode": "closest",
          "mapbox": {
           "style": "light"
          },
          "paper_bgcolor": "white",
          "plot_bgcolor": "white",
          "polar": {
           "angularaxis": {
            "gridcolor": "#EBF0F8",
            "linecolor": "#EBF0F8",
            "ticks": ""
           },
           "bgcolor": "white",
           "radialaxis": {
            "gridcolor": "#EBF0F8",
            "linecolor": "#EBF0F8",
            "ticks": ""
           }
          },
          "scene": {
           "xaxis": {
            "backgroundcolor": "white",
            "gridcolor": "#DFE8F3",
            "gridwidth": 2,
            "linecolor": "#EBF0F8",
            "showbackground": true,
            "ticks": "",
            "zerolinecolor": "#EBF0F8"
           },
           "yaxis": {
            "backgroundcolor": "white",
            "gridcolor": "#DFE8F3",
            "gridwidth": 2,
            "linecolor": "#EBF0F8",
            "showbackground": true,
            "ticks": "",
            "zerolinecolor": "#EBF0F8"
           },
           "zaxis": {
            "backgroundcolor": "white",
            "gridcolor": "#DFE8F3",
            "gridwidth": 2,
            "linecolor": "#EBF0F8",
            "showbackground": true,
            "ticks": "",
            "zerolinecolor": "#EBF0F8"
           }
          },
          "shapedefaults": {
           "line": {
            "color": "#2a3f5f"
           }
          },
          "ternary": {
           "aaxis": {
            "gridcolor": "#DFE8F3",
            "linecolor": "#A2B1C6",
            "ticks": ""
           },
           "baxis": {
            "gridcolor": "#DFE8F3",
            "linecolor": "#A2B1C6",
            "ticks": ""
           },
           "bgcolor": "white",
           "caxis": {
            "gridcolor": "#DFE8F3",
            "linecolor": "#A2B1C6",
            "ticks": ""
           }
          },
          "title": {
           "x": 0.05
          },
          "xaxis": {
           "automargin": true,
           "gridcolor": "#EBF0F8",
           "linecolor": "#EBF0F8",
           "ticks": "",
           "title": {
            "standoff": 15
           },
           "zerolinecolor": "#EBF0F8",
           "zerolinewidth": 2
          },
          "yaxis": {
           "automargin": true,
           "gridcolor": "#EBF0F8",
           "linecolor": "#EBF0F8",
           "ticks": "",
           "title": {
            "standoff": 15
           },
           "zerolinecolor": "#EBF0F8",
           "zerolinewidth": 2
          }
         }
        },
        "width": 900,
        "xaxis": {
         "categoryorder": "sum descending",
         "ticks": "outside",
         "title": {
          "text": "Cluster"
         },
         "type": "category"
        },
        "yaxis": {
         "title": {
          "text": "Energy (GWh/yr)"
         }
        }
       }
      },
      "text/html": [
       "<div>\n",
       "        \n",
       "        \n",
       "            <div id=\"cf810d53-dd5d-4fd6-875c-828625d9fa2d\" class=\"plotly-graph-div\" style=\"height:525px; width:900px;\"></div>\n",
       "            <script type=\"text/javascript\">\n",
       "                require([\"plotly\"], function(Plotly) {\n",
       "                    window.PLOTLYENV=window.PLOTLYENV || {};\n",
       "                    \n",
       "                if (document.getElementById(\"cf810d53-dd5d-4fd6-875c-828625d9fa2d\")) {\n",
       "                    Plotly.newPlot(\n",
       "                        'cf810d53-dd5d-4fd6-875c-828625d9fa2d',\n",
       "                        [{\"marker\": {\"color\": \"#fc8d62\", \"line\": {\"color\": \"Grey\", \"width\": 1}}, \"name\": \"Pumping Energy\", \"type\": \"bar\", \"x\": [0.0, 1.0, 2.0, 3.0, 4.0, 5.0, 6.0, 7.0, 8.0, 9.0, 10.0, 11.0, 12.0, 13.0, 14.0, 15.0, 16.0, 17.0, 18.0, 19.0, 20.0, 21.0, 22.0, 23.0, 24.0, 25.0, 26.0, 27.0, 28.0, 29.0, 30.0, 31.0, 32.0, 33.0, 34.0, 35.0, 36.0, 37.0, 38.0, 39.0], \"y\": [53.41699815446823, 11.681789394968872, 82.31360210726221, 96.48426447080544, 123.33010773911083, 3.0183527928541896, 8.81038625486568, 445.98255963965886, 333.1036356263023, 88.71993245871874, 52.93877329302856, 66.20907277022089, 96.79749777889796, 158.36266140817037, 194.1780765848327, 155.28140718073843, 107.64669312013122, 106.98400685763514, 71.83083585763146, 57.85456157758368, 35.87402918480863, 14.083078364200803, 10.90704391881278, 29.893262958400204, 23.46638721234043, 298.8947552983548, 82.16789058994313, 43.903839374592984, 17.92903172678049, 50.416167954803846, 295.63252332278574, 195.8254693134575, 53.21139806872946, 20.50576581134946, 73.34800060824183, 18.701431991586485, 5.57574171841144, 74.41445370414615, 8.888764632822006, 161.84284808364853]}, {\"marker\": {\"color\": \"#66c2a5\", \"line\": {\"color\": \"Grey\", \"width\": 1}}, \"name\": \"Desalination Energy\", \"type\": \"bar\", \"x\": [0.0, 1.0, 2.0, 3.0, 4.0, 5.0, 6.0, 7.0, 8.0, 9.0, 10.0, 11.0, 12.0, 13.0, 14.0, 15.0, 16.0, 17.0, 18.0, 19.0, 20.0, 21.0, 22.0, 23.0, 24.0, 25.0, 26.0, 27.0, 28.0, 29.0, 30.0, 31.0, 32.0, 33.0, 34.0, 35.0, 36.0, 37.0, 38.0, 39.0], \"y\": [2.4873178892813166, 0.8938562417147653, 5.441442580368531, 25.343897324301164, 9.943302026638156, 0.1146104412851665, 0.5414774670067284, 107.53448890933709, 41.114367613689424, 17.364063561309493, 8.327717152762887, 5.692532620824481, 5.429491994193811, 33.30669235098127, 19.143944948726546, 38.04453226841334, 14.737668822809928, 6.653660428970067, 5.01711428581387, 3.3295323729162085, 4.426667242695691, 0.6557667776487965, 2.7476799168917445, 2.08793222085618, 1.966846885972266, 35.79295096616117, 20.09626240073577, 3.3081604804453013, 1.9583812461998953, 14.085520429324864, 25.3106840179959, 33.30758760781069, 6.097965955921431, 0.9950478696204094, 9.602340829812068, 2.4034696938618794, 0.7196649960444419, 6.787570608044697, 0.705954401962287, 23.025908090797532]}],\n",
       "                        {\"barmode\": \"stack\", \"legend\": {\"orientation\": \"h\", \"x\": 1, \"xanchor\": \"right\", \"y\": 1.02, \"yanchor\": \"bottom\"}, \"margin\": {\"b\": 0, \"l\": 0, \"r\": 0, \"t\": 0}, \"template\": {\"data\": {\"bar\": [{\"error_x\": {\"color\": \"#2a3f5f\"}, \"error_y\": {\"color\": \"#2a3f5f\"}, \"marker\": {\"line\": {\"color\": \"white\", \"width\": 0.5}}, \"type\": \"bar\"}], \"barpolar\": [{\"marker\": {\"line\": {\"color\": \"white\", \"width\": 0.5}}, \"type\": \"barpolar\"}], \"carpet\": [{\"aaxis\": {\"endlinecolor\": \"#2a3f5f\", \"gridcolor\": \"#C8D4E3\", \"linecolor\": \"#C8D4E3\", \"minorgridcolor\": \"#C8D4E3\", \"startlinecolor\": \"#2a3f5f\"}, \"baxis\": {\"endlinecolor\": \"#2a3f5f\", \"gridcolor\": \"#C8D4E3\", \"linecolor\": \"#C8D4E3\", \"minorgridcolor\": \"#C8D4E3\", \"startlinecolor\": \"#2a3f5f\"}, \"type\": \"carpet\"}], \"choropleth\": [{\"colorbar\": {\"outlinewidth\": 0, \"ticks\": \"\"}, \"type\": \"choropleth\"}], \"contour\": [{\"colorbar\": {\"outlinewidth\": 0, \"ticks\": \"\"}, \"colorscale\": [[0.0, \"#0d0887\"], [0.1111111111111111, \"#46039f\"], [0.2222222222222222, \"#7201a8\"], [0.3333333333333333, \"#9c179e\"], [0.4444444444444444, \"#bd3786\"], [0.5555555555555556, \"#d8576b\"], [0.6666666666666666, \"#ed7953\"], [0.7777777777777778, \"#fb9f3a\"], [0.8888888888888888, \"#fdca26\"], [1.0, \"#f0f921\"]], \"type\": \"contour\"}], \"contourcarpet\": [{\"colorbar\": {\"outlinewidth\": 0, \"ticks\": \"\"}, \"type\": \"contourcarpet\"}], \"heatmap\": [{\"colorbar\": {\"outlinewidth\": 0, \"ticks\": \"\"}, \"colorscale\": [[0.0, \"#0d0887\"], [0.1111111111111111, \"#46039f\"], [0.2222222222222222, \"#7201a8\"], [0.3333333333333333, \"#9c179e\"], [0.4444444444444444, \"#bd3786\"], [0.5555555555555556, \"#d8576b\"], [0.6666666666666666, \"#ed7953\"], [0.7777777777777778, \"#fb9f3a\"], [0.8888888888888888, \"#fdca26\"], [1.0, \"#f0f921\"]], \"type\": \"heatmap\"}], \"heatmapgl\": [{\"colorbar\": {\"outlinewidth\": 0, \"ticks\": \"\"}, \"colorscale\": [[0.0, \"#0d0887\"], [0.1111111111111111, \"#46039f\"], [0.2222222222222222, \"#7201a8\"], [0.3333333333333333, \"#9c179e\"], [0.4444444444444444, \"#bd3786\"], [0.5555555555555556, \"#d8576b\"], [0.6666666666666666, \"#ed7953\"], [0.7777777777777778, \"#fb9f3a\"], [0.8888888888888888, \"#fdca26\"], [1.0, \"#f0f921\"]], \"type\": \"heatmapgl\"}], \"histogram\": [{\"marker\": {\"colorbar\": {\"outlinewidth\": 0, \"ticks\": \"\"}}, \"type\": \"histogram\"}], \"histogram2d\": [{\"colorbar\": {\"outlinewidth\": 0, \"ticks\": \"\"}, \"colorscale\": [[0.0, \"#0d0887\"], [0.1111111111111111, \"#46039f\"], [0.2222222222222222, \"#7201a8\"], [0.3333333333333333, \"#9c179e\"], [0.4444444444444444, \"#bd3786\"], [0.5555555555555556, \"#d8576b\"], [0.6666666666666666, \"#ed7953\"], [0.7777777777777778, \"#fb9f3a\"], [0.8888888888888888, \"#fdca26\"], [1.0, \"#f0f921\"]], \"type\": \"histogram2d\"}], \"histogram2dcontour\": [{\"colorbar\": {\"outlinewidth\": 0, \"ticks\": \"\"}, \"colorscale\": [[0.0, \"#0d0887\"], [0.1111111111111111, \"#46039f\"], [0.2222222222222222, \"#7201a8\"], [0.3333333333333333, \"#9c179e\"], [0.4444444444444444, \"#bd3786\"], [0.5555555555555556, \"#d8576b\"], [0.6666666666666666, \"#ed7953\"], [0.7777777777777778, \"#fb9f3a\"], [0.8888888888888888, \"#fdca26\"], [1.0, \"#f0f921\"]], \"type\": \"histogram2dcontour\"}], \"mesh3d\": [{\"colorbar\": {\"outlinewidth\": 0, \"ticks\": \"\"}, \"type\": \"mesh3d\"}], \"parcoords\": [{\"line\": {\"colorbar\": {\"outlinewidth\": 0, \"ticks\": \"\"}}, \"type\": \"parcoords\"}], \"pie\": [{\"automargin\": true, \"type\": \"pie\"}], \"scatter\": [{\"marker\": {\"colorbar\": {\"outlinewidth\": 0, \"ticks\": \"\"}}, \"type\": \"scatter\"}], \"scatter3d\": [{\"line\": {\"colorbar\": {\"outlinewidth\": 0, \"ticks\": \"\"}}, \"marker\": {\"colorbar\": {\"outlinewidth\": 0, \"ticks\": \"\"}}, \"type\": \"scatter3d\"}], \"scattercarpet\": [{\"marker\": {\"colorbar\": {\"outlinewidth\": 0, \"ticks\": \"\"}}, \"type\": \"scattercarpet\"}], \"scattergeo\": [{\"marker\": {\"colorbar\": {\"outlinewidth\": 0, \"ticks\": \"\"}}, \"type\": \"scattergeo\"}], \"scattergl\": [{\"marker\": {\"colorbar\": {\"outlinewidth\": 0, \"ticks\": \"\"}}, \"type\": \"scattergl\"}], \"scattermapbox\": [{\"marker\": {\"colorbar\": {\"outlinewidth\": 0, \"ticks\": \"\"}}, \"type\": \"scattermapbox\"}], \"scatterpolar\": [{\"marker\": {\"colorbar\": {\"outlinewidth\": 0, \"ticks\": \"\"}}, \"type\": \"scatterpolar\"}], \"scatterpolargl\": [{\"marker\": {\"colorbar\": {\"outlinewidth\": 0, \"ticks\": \"\"}}, \"type\": \"scatterpolargl\"}], \"scatterternary\": [{\"marker\": {\"colorbar\": {\"outlinewidth\": 0, \"ticks\": \"\"}}, \"type\": \"scatterternary\"}], \"surface\": [{\"colorbar\": {\"outlinewidth\": 0, \"ticks\": \"\"}, \"colorscale\": [[0.0, \"#0d0887\"], [0.1111111111111111, \"#46039f\"], [0.2222222222222222, \"#7201a8\"], [0.3333333333333333, \"#9c179e\"], [0.4444444444444444, \"#bd3786\"], [0.5555555555555556, \"#d8576b\"], [0.6666666666666666, \"#ed7953\"], [0.7777777777777778, \"#fb9f3a\"], [0.8888888888888888, \"#fdca26\"], [1.0, \"#f0f921\"]], \"type\": \"surface\"}], \"table\": [{\"cells\": {\"fill\": {\"color\": \"#EBF0F8\"}, \"line\": {\"color\": \"white\"}}, \"header\": {\"fill\": {\"color\": \"#C8D4E3\"}, \"line\": {\"color\": \"white\"}}, \"type\": \"table\"}]}, \"layout\": {\"annotationdefaults\": {\"arrowcolor\": \"#2a3f5f\", \"arrowhead\": 0, \"arrowwidth\": 1}, \"coloraxis\": {\"colorbar\": {\"outlinewidth\": 0, \"ticks\": \"\"}}, \"colorscale\": {\"diverging\": [[0, \"#8e0152\"], [0.1, \"#c51b7d\"], [0.2, \"#de77ae\"], [0.3, \"#f1b6da\"], [0.4, \"#fde0ef\"], [0.5, \"#f7f7f7\"], [0.6, \"#e6f5d0\"], [0.7, \"#b8e186\"], [0.8, \"#7fbc41\"], [0.9, \"#4d9221\"], [1, \"#276419\"]], \"sequential\": [[0.0, \"#0d0887\"], [0.1111111111111111, \"#46039f\"], [0.2222222222222222, \"#7201a8\"], [0.3333333333333333, \"#9c179e\"], [0.4444444444444444, \"#bd3786\"], [0.5555555555555556, \"#d8576b\"], [0.6666666666666666, \"#ed7953\"], [0.7777777777777778, \"#fb9f3a\"], [0.8888888888888888, \"#fdca26\"], [1.0, \"#f0f921\"]], \"sequentialminus\": [[0.0, \"#0d0887\"], [0.1111111111111111, \"#46039f\"], [0.2222222222222222, \"#7201a8\"], [0.3333333333333333, \"#9c179e\"], [0.4444444444444444, \"#bd3786\"], [0.5555555555555556, \"#d8576b\"], [0.6666666666666666, \"#ed7953\"], [0.7777777777777778, \"#fb9f3a\"], [0.8888888888888888, \"#fdca26\"], [1.0, \"#f0f921\"]]}, \"colorway\": [\"#636efa\", \"#EF553B\", \"#00cc96\", \"#ab63fa\", \"#FFA15A\", \"#19d3f3\", \"#FF6692\", \"#B6E880\", \"#FF97FF\", \"#FECB52\"], \"font\": {\"color\": \"#2a3f5f\"}, \"geo\": {\"bgcolor\": \"white\", \"lakecolor\": \"white\", \"landcolor\": \"white\", \"showlakes\": true, \"showland\": true, \"subunitcolor\": \"#C8D4E3\"}, \"hoverlabel\": {\"align\": \"left\"}, \"hovermode\": \"closest\", \"mapbox\": {\"style\": \"light\"}, \"paper_bgcolor\": \"white\", \"plot_bgcolor\": \"white\", \"polar\": {\"angularaxis\": {\"gridcolor\": \"#EBF0F8\", \"linecolor\": \"#EBF0F8\", \"ticks\": \"\"}, \"bgcolor\": \"white\", \"radialaxis\": {\"gridcolor\": \"#EBF0F8\", \"linecolor\": \"#EBF0F8\", \"ticks\": \"\"}}, \"scene\": {\"xaxis\": {\"backgroundcolor\": \"white\", \"gridcolor\": \"#DFE8F3\", \"gridwidth\": 2, \"linecolor\": \"#EBF0F8\", \"showbackground\": true, \"ticks\": \"\", \"zerolinecolor\": \"#EBF0F8\"}, \"yaxis\": {\"backgroundcolor\": \"white\", \"gridcolor\": \"#DFE8F3\", \"gridwidth\": 2, \"linecolor\": \"#EBF0F8\", \"showbackground\": true, \"ticks\": \"\", \"zerolinecolor\": \"#EBF0F8\"}, \"zaxis\": {\"backgroundcolor\": \"white\", \"gridcolor\": \"#DFE8F3\", \"gridwidth\": 2, \"linecolor\": \"#EBF0F8\", \"showbackground\": true, \"ticks\": \"\", \"zerolinecolor\": \"#EBF0F8\"}}, \"shapedefaults\": {\"line\": {\"color\": \"#2a3f5f\"}}, \"ternary\": {\"aaxis\": {\"gridcolor\": \"#DFE8F3\", \"linecolor\": \"#A2B1C6\", \"ticks\": \"\"}, \"baxis\": {\"gridcolor\": \"#DFE8F3\", \"linecolor\": \"#A2B1C6\", \"ticks\": \"\"}, \"bgcolor\": \"white\", \"caxis\": {\"gridcolor\": \"#DFE8F3\", \"linecolor\": \"#A2B1C6\", \"ticks\": \"\"}}, \"title\": {\"x\": 0.05}, \"xaxis\": {\"automargin\": true, \"gridcolor\": \"#EBF0F8\", \"linecolor\": \"#EBF0F8\", \"ticks\": \"\", \"title\": {\"standoff\": 15}, \"zerolinecolor\": \"#EBF0F8\", \"zerolinewidth\": 2}, \"yaxis\": {\"automargin\": true, \"gridcolor\": \"#EBF0F8\", \"linecolor\": \"#EBF0F8\", \"ticks\": \"\", \"title\": {\"standoff\": 15}, \"zerolinecolor\": \"#EBF0F8\", \"zerolinewidth\": 2}}}, \"width\": 900, \"xaxis\": {\"categoryorder\": \"sum descending\", \"ticks\": \"outside\", \"title\": {\"text\": \"Cluster\"}, \"type\": \"category\"}, \"yaxis\": {\"title\": {\"text\": \"Energy (GWh/yr)\"}}},\n",
       "                        {\"responsive\": true}\n",
       "                    ).then(function(){\n",
       "                            \n",
       "var gd = document.getElementById('cf810d53-dd5d-4fd6-875c-828625d9fa2d');\n",
       "var x = new MutationObserver(function (mutations, observer) {{\n",
       "        var display = window.getComputedStyle(gd).display;\n",
       "        if (!display || display === 'none') {{\n",
       "            console.log([gd, 'removed!']);\n",
       "            Plotly.purge(gd);\n",
       "            observer.disconnect();\n",
       "        }}\n",
       "}});\n",
       "\n",
       "// Listen for the removal of the full notebook cells\n",
       "var notebookContainer = gd.closest('#notebook-container');\n",
       "if (notebookContainer) {{\n",
       "    x.observe(notebookContainer, {childList: true});\n",
       "}}\n",
       "\n",
       "// Listen for the clearing of the current output cell\n",
       "var outputEl = gd.closest('.output');\n",
       "if (outputEl) {{\n",
       "    x.observe(outputEl, {childList: true});\n",
       "}}\n",
       "\n",
       "                        })\n",
       "                };\n",
       "                });\n",
       "            </script>\n",
       "        </div>"
      ]
     },
     "metadata": {},
     "output_type": "display_data"
    }
   ],
   "source": [
    "fig = go.Figure()\n",
    "dff = dff_energy\n",
    "\n",
    "fig.add_trace(go.Bar(x=dff['Cluster'], y=dff['IrrigationPumpingEnergy']/1000000, name='Pumping Energy', marker=dict(color='#fc8d62', line=dict(width=1, color='Grey'))))\n",
    "fig.add_trace(go.Bar(x=dff['Cluster'], y=dff['IrrigationDesalinationEnergy']/1000000, name='Desalination Energy', marker=dict(color='#66c2a5', line=dict(width=1, color='Grey'))))\n",
    "\n",
    "fig.update_layout(barmode='stack', width=900, template='plotly_white',\n",
    "                  xaxis={'categoryorder': 'sum descending', #'categoryarray': cat_order.iloc[::-1],\n",
    "                         'title': 'Cluster', 'type': 'category', 'ticks': \"outside\"}, \n",
    "                  yaxis={'title': 'Energy (GWh/yr)'},\n",
    "                  legend=dict(\n",
    "                            orientation=\"h\",\n",
    "                            yanchor=\"bottom\",\n",
    "                            y=1.02,\n",
    "                            xanchor=\"right\",\n",
    "                            x=1\n",
    "                ),\n",
    "                 margin=dict(b=0, l=0, r=0, t=0))\n",
    "fig.show()\n",
    "# fig.write_image('BaselineEnergy.pdf')"
   ]
  },
  {
   "cell_type": "code",
   "execution_count": 134,
   "metadata": {},
   "outputs": [],
   "source": [
    "scenarios = np.array([x[1] for x in os.walk('.')][0])"
   ]
  },
  {
   "cell_type": "code",
   "execution_count": 36,
   "metadata": {},
   "outputs": [],
   "source": [
    "scenarios = np.delete(scenarios, 0)"
   ]
  },
  {
   "cell_type": "code",
   "execution_count": 37,
   "metadata": {},
   "outputs": [],
   "source": [
    "for scenario in scenarios:\n",
    "    df = pd.read_csv(os.path.join(scenario, scenario.replace('agri','ag') + '.gz'))\n",
    "    dff = df.groupby('Cluster').agg({'FinalPumpingEnergy': 'sum', 'FinalDesalinationEnergy': 'sum', 'FinalTreatmentEnergy': 'first'})\n",
    "    dff.reset_index(inplace=True)\n",
    "    dff['Cluster'] = dff['Cluster'].astype(int).astype(str)\n",
    "    \n",
    "    fig = go.Figure()\n",
    "\n",
    "    fig.add_trace(go.Bar(x=dff['Cluster'], y=dff['FinalTreatmentEnergy']/1000000, name='Treatment Energy', \n",
    "                         marker=dict(color='#8da0cb', line=dict(width=1, color='Grey'))))\n",
    "    fig.add_trace(go.Bar(x=dff['Cluster'], y=dff['FinalPumpingEnergy']/1000000, name='Pumping Energy', \n",
    "                         marker=dict(color='#fc8d62', line=dict(width=1, color='Grey'))))\n",
    "    fig.add_trace(go.Bar(x=dff['Cluster'], y=dff['FinalDesalinationEnergy']/1000000, name='Desalination Energy', \n",
    "                         marker=dict(color='#66c2a5', line=dict(width=1, color='Grey'))))\n",
    "\n",
    "    fig.update_layout(barmode='stack', width=900, template='plotly_white',\n",
    "                      xaxis={'categoryorder':'sum descending', 'title': 'Cluster', 'type': 'category', 'ticks': \"outside\"}, \n",
    "                      yaxis={'title': 'Energy (GWh/yr)'},\n",
    "                      legend=dict(\n",
    "                            orientation=\"h\",\n",
    "                            yanchor=\"bottom\",\n",
    "                            y=1.02,\n",
    "                            xanchor=\"right\",\n",
    "                            x=1\n",
    "                            ),\n",
    "                     margin=dict(b=0, l=0, r=0, t=0))\n",
    "    fig.write_image(os.path.join(scenario,'EnergyPerCluster2.pdf'))"
   ]
  },
  {
   "cell_type": "code",
   "execution_count": 144,
   "metadata": {},
   "outputs": [
    {
     "data": {
      "application/vnd.plotly.v1+json": {
       "config": {
        "plotlyServerURL": "https://plot.ly"
       },
       "data": [
        {
         "marker": {
          "color": [
           300,
           274.496644295302,
           273.96486825595986,
           109.79381443298969,
           242.82841823056302,
           293.41317365269464,
           283.3333333333333,
           101.01729399796541,
           224.54810495626822,
           250,
           136.34669151910532,
           258.257299270073,
           250.06493506493507,
           137.22028841372452,
           239.1044776119403,
           95.33527696793003,
           201.37204850031907,
           281.5682281059063,
           300,
           250,
           104.16391275611367,
           297.38955823293173,
           120.6086956521739,
           300,
           250,
           250,
           119.54781319495923,
           290.56356487549147,
           175.609756097561,
           100,
           250,
           175.95298602287167,
           231.87234042553192,
           282.0610687022901,
           250,
           104.27910562837317,
           150.72727272727272,
           207.0949720670391,
           300,
           245.46436285097192
          ],
          "colorscale": [
           [
            0,
            "#440154"
           ],
           [
            0.1111111111111111,
            "#482878"
           ],
           [
            0.2222222222222222,
            "#3e4989"
           ],
           [
            0.3333333333333333,
            "#31688e"
           ],
           [
            0.4444444444444444,
            "#26828e"
           ],
           [
            0.5555555555555556,
            "#1f9e89"
           ],
           [
            0.6666666666666666,
            "#35b779"
           ],
           [
            0.7777777777777778,
            "#6ece58"
           ],
           [
            0.8888888888888888,
            "#b5de2b"
           ],
           [
            1,
            "#fde725"
           ]
          ],
          "showscale": true,
          "size": [
           10,
           15,
           13.074027603513175,
           19.93127147766323,
           14.483914209115284,
           10.134730538922156,
           13.033333333333331,
           17.49406578501187,
           21.583090379008745,
           36.457564575645755,
           15.661696178937559,
           15.51551094890511,
           10.045454545454543,
           19.087518647439087,
           17.73134328358209,
           15.271137026239066,
           19.961710274409697,
           13.299389002036659,
           15,
           10.61042524005487,
           10.194976867151356,
           10,
           22.843478260869567,
           15,
           15,
           21.735637779941577,
           18.93254262416605,
           15.235910878112712,
           15.060975609756097,
           20,
           15.234641638225256,
           24.27890724269377,
           17.78723404255319,
           10,
           24.839883551673942,
           10.019275250578257,
           14.972727272727273,
           15.022346368715084,
           19.527027027027025,
           25
          ]
         },
         "mode": "markers",
         "text": [
          "Cluster: 0",
          "Cluster: 1",
          "Cluster: 2",
          "Cluster: 3",
          "Cluster: 4",
          "Cluster: 5",
          "Cluster: 6",
          "Cluster: 7",
          "Cluster: 8",
          "Cluster: 9",
          "Cluster: 10",
          "Cluster: 11",
          "Cluster: 12",
          "Cluster: 13",
          "Cluster: 14",
          "Cluster: 15",
          "Cluster: 16",
          "Cluster: 17",
          "Cluster: 18",
          "Cluster: 19",
          "Cluster: 20",
          "Cluster: 21",
          "Cluster: 22",
          "Cluster: 23",
          "Cluster: 24",
          "Cluster: 25",
          "Cluster: 26",
          "Cluster: 27",
          "Cluster: 28",
          "Cluster: 29",
          "Cluster: 30",
          "Cluster: 31",
          "Cluster: 32",
          "Cluster: 33",
          "Cluster: 34",
          "Cluster: 35",
          "Cluster: 36",
          "Cluster: 37",
          "Cluster: 38",
          "Cluster: 39"
         ],
         "type": "scatter",
         "x": [
          62.89672656521636,
          15.542063949209515,
          97.96919540069553,
          284.2201038661995,
          154.76637295377404,
          3.8890305921367125,
          9.884105290441324,
          1405.4004415354066,
          433.9023403894481,
          130.73499710685672,
          121.6579262995361,
          93.31858900149001,
          124.67933008574846,
          423.8313432696616,
          249.69793916604905,
          548.9014796494371,
          164.9357105294968,
          120.19882908938519,
          78.08015015091944,
          73.5354614743679,
          119.17501506540128,
          17.42215833431714,
          29.42510494577713,
          34.65711496509646,
          30.664263683014266,
          393.59629463072577,
          248.11649886917024,
          60.262597581059396,
          29.182004005806835,
          168.27502932441593,
          375.1041777368847,
          323.6773498697521,
          81.4680441456105,
          22.229232414697876,
          100.91566726209092,
          56.41446720250359,
          14.056327194413278,
          106.8630393993752,
          17.015363253618624,
          206.0112135089163
         ],
         "y": [
          55.904316043749546,
          12.575645636683639,
          87.75504468763074,
          121.82816179510661,
          133.27340976574897,
          3.1329632341393556,
          9.351863721872409,
          553.517048548996,
          374.21800323999173,
          106.08399602002824,
          61.266490445791455,
          71.90160539104536,
          102.22698977309176,
          191.66935375915165,
          213.32202153355922,
          193.32593944915175,
          122.38436194294115,
          113.63766728660521,
          76.84795014344533,
          61.184093950499886,
          40.30069642750431,
          14.7388451418496,
          13.654723835704525,
          31.981195179256382,
          25.433234098312695,
          334.687706264516,
          102.2641529906789,
          47.211999855038286,
          19.887412972980385,
          64.50168838412871,
          320.9432073407816,
          229.13305692126818,
          59.3093640246509,
          21.500813680969866,
          82.9503414380539,
          21.104901685448365,
          6.295406714455882,
          81.20202431219086,
          9.594719034784294,
          184.86875617444608
         ]
        }
       ],
       "layout": {
        "legend": {
         "orientation": "h",
         "x": 1,
         "xanchor": "right",
         "y": 1.02,
         "yanchor": "bottom"
        },
        "margin": {
         "b": 0,
         "l": 0,
         "r": 0,
         "t": 0
        },
        "template": {
         "data": {
          "bar": [
           {
            "error_x": {
             "color": "#2a3f5f"
            },
            "error_y": {
             "color": "#2a3f5f"
            },
            "marker": {
             "line": {
              "color": "white",
              "width": 0.5
             }
            },
            "type": "bar"
           }
          ],
          "barpolar": [
           {
            "marker": {
             "line": {
              "color": "white",
              "width": 0.5
             }
            },
            "type": "barpolar"
           }
          ],
          "carpet": [
           {
            "aaxis": {
             "endlinecolor": "#2a3f5f",
             "gridcolor": "#C8D4E3",
             "linecolor": "#C8D4E3",
             "minorgridcolor": "#C8D4E3",
             "startlinecolor": "#2a3f5f"
            },
            "baxis": {
             "endlinecolor": "#2a3f5f",
             "gridcolor": "#C8D4E3",
             "linecolor": "#C8D4E3",
             "minorgridcolor": "#C8D4E3",
             "startlinecolor": "#2a3f5f"
            },
            "type": "carpet"
           }
          ],
          "choropleth": [
           {
            "colorbar": {
             "outlinewidth": 0,
             "ticks": ""
            },
            "type": "choropleth"
           }
          ],
          "contour": [
           {
            "colorbar": {
             "outlinewidth": 0,
             "ticks": ""
            },
            "colorscale": [
             [
              0,
              "#0d0887"
             ],
             [
              0.1111111111111111,
              "#46039f"
             ],
             [
              0.2222222222222222,
              "#7201a8"
             ],
             [
              0.3333333333333333,
              "#9c179e"
             ],
             [
              0.4444444444444444,
              "#bd3786"
             ],
             [
              0.5555555555555556,
              "#d8576b"
             ],
             [
              0.6666666666666666,
              "#ed7953"
             ],
             [
              0.7777777777777778,
              "#fb9f3a"
             ],
             [
              0.8888888888888888,
              "#fdca26"
             ],
             [
              1,
              "#f0f921"
             ]
            ],
            "type": "contour"
           }
          ],
          "contourcarpet": [
           {
            "colorbar": {
             "outlinewidth": 0,
             "ticks": ""
            },
            "type": "contourcarpet"
           }
          ],
          "heatmap": [
           {
            "colorbar": {
             "outlinewidth": 0,
             "ticks": ""
            },
            "colorscale": [
             [
              0,
              "#0d0887"
             ],
             [
              0.1111111111111111,
              "#46039f"
             ],
             [
              0.2222222222222222,
              "#7201a8"
             ],
             [
              0.3333333333333333,
              "#9c179e"
             ],
             [
              0.4444444444444444,
              "#bd3786"
             ],
             [
              0.5555555555555556,
              "#d8576b"
             ],
             [
              0.6666666666666666,
              "#ed7953"
             ],
             [
              0.7777777777777778,
              "#fb9f3a"
             ],
             [
              0.8888888888888888,
              "#fdca26"
             ],
             [
              1,
              "#f0f921"
             ]
            ],
            "type": "heatmap"
           }
          ],
          "heatmapgl": [
           {
            "colorbar": {
             "outlinewidth": 0,
             "ticks": ""
            },
            "colorscale": [
             [
              0,
              "#0d0887"
             ],
             [
              0.1111111111111111,
              "#46039f"
             ],
             [
              0.2222222222222222,
              "#7201a8"
             ],
             [
              0.3333333333333333,
              "#9c179e"
             ],
             [
              0.4444444444444444,
              "#bd3786"
             ],
             [
              0.5555555555555556,
              "#d8576b"
             ],
             [
              0.6666666666666666,
              "#ed7953"
             ],
             [
              0.7777777777777778,
              "#fb9f3a"
             ],
             [
              0.8888888888888888,
              "#fdca26"
             ],
             [
              1,
              "#f0f921"
             ]
            ],
            "type": "heatmapgl"
           }
          ],
          "histogram": [
           {
            "marker": {
             "colorbar": {
              "outlinewidth": 0,
              "ticks": ""
             }
            },
            "type": "histogram"
           }
          ],
          "histogram2d": [
           {
            "colorbar": {
             "outlinewidth": 0,
             "ticks": ""
            },
            "colorscale": [
             [
              0,
              "#0d0887"
             ],
             [
              0.1111111111111111,
              "#46039f"
             ],
             [
              0.2222222222222222,
              "#7201a8"
             ],
             [
              0.3333333333333333,
              "#9c179e"
             ],
             [
              0.4444444444444444,
              "#bd3786"
             ],
             [
              0.5555555555555556,
              "#d8576b"
             ],
             [
              0.6666666666666666,
              "#ed7953"
             ],
             [
              0.7777777777777778,
              "#fb9f3a"
             ],
             [
              0.8888888888888888,
              "#fdca26"
             ],
             [
              1,
              "#f0f921"
             ]
            ],
            "type": "histogram2d"
           }
          ],
          "histogram2dcontour": [
           {
            "colorbar": {
             "outlinewidth": 0,
             "ticks": ""
            },
            "colorscale": [
             [
              0,
              "#0d0887"
             ],
             [
              0.1111111111111111,
              "#46039f"
             ],
             [
              0.2222222222222222,
              "#7201a8"
             ],
             [
              0.3333333333333333,
              "#9c179e"
             ],
             [
              0.4444444444444444,
              "#bd3786"
             ],
             [
              0.5555555555555556,
              "#d8576b"
             ],
             [
              0.6666666666666666,
              "#ed7953"
             ],
             [
              0.7777777777777778,
              "#fb9f3a"
             ],
             [
              0.8888888888888888,
              "#fdca26"
             ],
             [
              1,
              "#f0f921"
             ]
            ],
            "type": "histogram2dcontour"
           }
          ],
          "mesh3d": [
           {
            "colorbar": {
             "outlinewidth": 0,
             "ticks": ""
            },
            "type": "mesh3d"
           }
          ],
          "parcoords": [
           {
            "line": {
             "colorbar": {
              "outlinewidth": 0,
              "ticks": ""
             }
            },
            "type": "parcoords"
           }
          ],
          "pie": [
           {
            "automargin": true,
            "type": "pie"
           }
          ],
          "scatter": [
           {
            "marker": {
             "colorbar": {
              "outlinewidth": 0,
              "ticks": ""
             }
            },
            "type": "scatter"
           }
          ],
          "scatter3d": [
           {
            "line": {
             "colorbar": {
              "outlinewidth": 0,
              "ticks": ""
             }
            },
            "marker": {
             "colorbar": {
              "outlinewidth": 0,
              "ticks": ""
             }
            },
            "type": "scatter3d"
           }
          ],
          "scattercarpet": [
           {
            "marker": {
             "colorbar": {
              "outlinewidth": 0,
              "ticks": ""
             }
            },
            "type": "scattercarpet"
           }
          ],
          "scattergeo": [
           {
            "marker": {
             "colorbar": {
              "outlinewidth": 0,
              "ticks": ""
             }
            },
            "type": "scattergeo"
           }
          ],
          "scattergl": [
           {
            "marker": {
             "colorbar": {
              "outlinewidth": 0,
              "ticks": ""
             }
            },
            "type": "scattergl"
           }
          ],
          "scattermapbox": [
           {
            "marker": {
             "colorbar": {
              "outlinewidth": 0,
              "ticks": ""
             }
            },
            "type": "scattermapbox"
           }
          ],
          "scatterpolar": [
           {
            "marker": {
             "colorbar": {
              "outlinewidth": 0,
              "ticks": ""
             }
            },
            "type": "scatterpolar"
           }
          ],
          "scatterpolargl": [
           {
            "marker": {
             "colorbar": {
              "outlinewidth": 0,
              "ticks": ""
             }
            },
            "type": "scatterpolargl"
           }
          ],
          "scatterternary": [
           {
            "marker": {
             "colorbar": {
              "outlinewidth": 0,
              "ticks": ""
             }
            },
            "type": "scatterternary"
           }
          ],
          "surface": [
           {
            "colorbar": {
             "outlinewidth": 0,
             "ticks": ""
            },
            "colorscale": [
             [
              0,
              "#0d0887"
             ],
             [
              0.1111111111111111,
              "#46039f"
             ],
             [
              0.2222222222222222,
              "#7201a8"
             ],
             [
              0.3333333333333333,
              "#9c179e"
             ],
             [
              0.4444444444444444,
              "#bd3786"
             ],
             [
              0.5555555555555556,
              "#d8576b"
             ],
             [
              0.6666666666666666,
              "#ed7953"
             ],
             [
              0.7777777777777778,
              "#fb9f3a"
             ],
             [
              0.8888888888888888,
              "#fdca26"
             ],
             [
              1,
              "#f0f921"
             ]
            ],
            "type": "surface"
           }
          ],
          "table": [
           {
            "cells": {
             "fill": {
              "color": "#EBF0F8"
             },
             "line": {
              "color": "white"
             }
            },
            "header": {
             "fill": {
              "color": "#C8D4E3"
             },
             "line": {
              "color": "white"
             }
            },
            "type": "table"
           }
          ]
         },
         "layout": {
          "annotationdefaults": {
           "arrowcolor": "#2a3f5f",
           "arrowhead": 0,
           "arrowwidth": 1
          },
          "coloraxis": {
           "colorbar": {
            "outlinewidth": 0,
            "ticks": ""
           }
          },
          "colorscale": {
           "diverging": [
            [
             0,
             "#8e0152"
            ],
            [
             0.1,
             "#c51b7d"
            ],
            [
             0.2,
             "#de77ae"
            ],
            [
             0.3,
             "#f1b6da"
            ],
            [
             0.4,
             "#fde0ef"
            ],
            [
             0.5,
             "#f7f7f7"
            ],
            [
             0.6,
             "#e6f5d0"
            ],
            [
             0.7,
             "#b8e186"
            ],
            [
             0.8,
             "#7fbc41"
            ],
            [
             0.9,
             "#4d9221"
            ],
            [
             1,
             "#276419"
            ]
           ],
           "sequential": [
            [
             0,
             "#0d0887"
            ],
            [
             0.1111111111111111,
             "#46039f"
            ],
            [
             0.2222222222222222,
             "#7201a8"
            ],
            [
             0.3333333333333333,
             "#9c179e"
            ],
            [
             0.4444444444444444,
             "#bd3786"
            ],
            [
             0.5555555555555556,
             "#d8576b"
            ],
            [
             0.6666666666666666,
             "#ed7953"
            ],
            [
             0.7777777777777778,
             "#fb9f3a"
            ],
            [
             0.8888888888888888,
             "#fdca26"
            ],
            [
             1,
             "#f0f921"
            ]
           ],
           "sequentialminus": [
            [
             0,
             "#0d0887"
            ],
            [
             0.1111111111111111,
             "#46039f"
            ],
            [
             0.2222222222222222,
             "#7201a8"
            ],
            [
             0.3333333333333333,
             "#9c179e"
            ],
            [
             0.4444444444444444,
             "#bd3786"
            ],
            [
             0.5555555555555556,
             "#d8576b"
            ],
            [
             0.6666666666666666,
             "#ed7953"
            ],
            [
             0.7777777777777778,
             "#fb9f3a"
            ],
            [
             0.8888888888888888,
             "#fdca26"
            ],
            [
             1,
             "#f0f921"
            ]
           ]
          },
          "colorway": [
           "#636efa",
           "#EF553B",
           "#00cc96",
           "#ab63fa",
           "#FFA15A",
           "#19d3f3",
           "#FF6692",
           "#B6E880",
           "#FF97FF",
           "#FECB52"
          ],
          "font": {
           "color": "#2a3f5f"
          },
          "geo": {
           "bgcolor": "white",
           "lakecolor": "white",
           "landcolor": "white",
           "showlakes": true,
           "showland": true,
           "subunitcolor": "#C8D4E3"
          },
          "hoverlabel": {
           "align": "left"
          },
          "hovermode": "closest",
          "mapbox": {
           "style": "light"
          },
          "paper_bgcolor": "white",
          "plot_bgcolor": "white",
          "polar": {
           "angularaxis": {
            "gridcolor": "#EBF0F8",
            "linecolor": "#EBF0F8",
            "ticks": ""
           },
           "bgcolor": "white",
           "radialaxis": {
            "gridcolor": "#EBF0F8",
            "linecolor": "#EBF0F8",
            "ticks": ""
           }
          },
          "scene": {
           "xaxis": {
            "backgroundcolor": "white",
            "gridcolor": "#DFE8F3",
            "gridwidth": 2,
            "linecolor": "#EBF0F8",
            "showbackground": true,
            "ticks": "",
            "zerolinecolor": "#EBF0F8"
           },
           "yaxis": {
            "backgroundcolor": "white",
            "gridcolor": "#DFE8F3",
            "gridwidth": 2,
            "linecolor": "#EBF0F8",
            "showbackground": true,
            "ticks": "",
            "zerolinecolor": "#EBF0F8"
           },
           "zaxis": {
            "backgroundcolor": "white",
            "gridcolor": "#DFE8F3",
            "gridwidth": 2,
            "linecolor": "#EBF0F8",
            "showbackground": true,
            "ticks": "",
            "zerolinecolor": "#EBF0F8"
           }
          },
          "shapedefaults": {
           "line": {
            "color": "#2a3f5f"
           }
          },
          "ternary": {
           "aaxis": {
            "gridcolor": "#DFE8F3",
            "linecolor": "#A2B1C6",
            "ticks": ""
           },
           "baxis": {
            "gridcolor": "#DFE8F3",
            "linecolor": "#A2B1C6",
            "ticks": ""
           },
           "bgcolor": "white",
           "caxis": {
            "gridcolor": "#DFE8F3",
            "linecolor": "#A2B1C6",
            "ticks": ""
           }
          },
          "title": {
           "x": 0.05
          },
          "xaxis": {
           "automargin": true,
           "gridcolor": "#EBF0F8",
           "linecolor": "#EBF0F8",
           "ticks": "",
           "title": {
            "standoff": 15
           },
           "zerolinecolor": "#EBF0F8",
           "zerolinewidth": 2
          },
          "yaxis": {
           "automargin": true,
           "gridcolor": "#EBF0F8",
           "linecolor": "#EBF0F8",
           "ticks": "",
           "title": {
            "standoff": 15
           },
           "zerolinecolor": "#EBF0F8",
           "zerolinewidth": 2
          }
         }
        },
        "width": 900,
        "xaxis": {
         "categoryorder": "sum descending",
         "title": {
          "text": "Water (Mm<sup>3</sup>/yr)"
         }
        },
        "yaxis": {
         "title": {
          "text": "Energy (GWh/yr)"
         }
        }
       }
      },
      "text/html": [
       "<div>\n",
       "        \n",
       "        \n",
       "            <div id=\"8df13f12-771f-4133-8eeb-ee8e346dc0b6\" class=\"plotly-graph-div\" style=\"height:525px; width:900px;\"></div>\n",
       "            <script type=\"text/javascript\">\n",
       "                require([\"plotly\"], function(Plotly) {\n",
       "                    window.PLOTLYENV=window.PLOTLYENV || {};\n",
       "                    \n",
       "                if (document.getElementById(\"8df13f12-771f-4133-8eeb-ee8e346dc0b6\")) {\n",
       "                    Plotly.newPlot(\n",
       "                        '8df13f12-771f-4133-8eeb-ee8e346dc0b6',\n",
       "                        [{\"marker\": {\"color\": [300.0, 274.496644295302, 273.96486825595986, 109.79381443298969, 242.82841823056302, 293.41317365269464, 283.3333333333333, 101.01729399796541, 224.54810495626822, 250.0, 136.34669151910532, 258.257299270073, 250.06493506493507, 137.22028841372452, 239.1044776119403, 95.33527696793003, 201.37204850031907, 281.5682281059063, 300.0, 250.0, 104.16391275611367, 297.38955823293173, 120.6086956521739, 300.0, 250.0, 250.0, 119.54781319495923, 290.56356487549147, 175.609756097561, 100.0, 250.0, 175.95298602287167, 231.87234042553192, 282.0610687022901, 250.0, 104.27910562837317, 150.72727272727272, 207.0949720670391, 300.0, 245.46436285097192], \"colorscale\": [[0.0, \"#440154\"], [0.1111111111111111, \"#482878\"], [0.2222222222222222, \"#3e4989\"], [0.3333333333333333, \"#31688e\"], [0.4444444444444444, \"#26828e\"], [0.5555555555555556, \"#1f9e89\"], [0.6666666666666666, \"#35b779\"], [0.7777777777777778, \"#6ece58\"], [0.8888888888888888, \"#b5de2b\"], [1.0, \"#fde725\"]], \"showscale\": true, \"size\": [10.0, 15.0, 13.074027603513175, 19.93127147766323, 14.483914209115284, 10.134730538922156, 13.033333333333331, 17.49406578501187, 21.583090379008745, 36.457564575645755, 15.661696178937559, 15.51551094890511, 10.045454545454543, 19.087518647439087, 17.73134328358209, 15.271137026239066, 19.961710274409697, 13.299389002036659, 15.0, 10.61042524005487, 10.194976867151356, 10.0, 22.843478260869567, 15.0, 15.0, 21.735637779941577, 18.93254262416605, 15.235910878112712, 15.060975609756097, 20.0, 15.234641638225256, 24.27890724269377, 17.78723404255319, 10.0, 24.839883551673942, 10.019275250578257, 14.972727272727273, 15.022346368715084, 19.527027027027025, 25.0]}, \"mode\": \"markers\", \"text\": [\"Cluster: 0\", \"Cluster: 1\", \"Cluster: 2\", \"Cluster: 3\", \"Cluster: 4\", \"Cluster: 5\", \"Cluster: 6\", \"Cluster: 7\", \"Cluster: 8\", \"Cluster: 9\", \"Cluster: 10\", \"Cluster: 11\", \"Cluster: 12\", \"Cluster: 13\", \"Cluster: 14\", \"Cluster: 15\", \"Cluster: 16\", \"Cluster: 17\", \"Cluster: 18\", \"Cluster: 19\", \"Cluster: 20\", \"Cluster: 21\", \"Cluster: 22\", \"Cluster: 23\", \"Cluster: 24\", \"Cluster: 25\", \"Cluster: 26\", \"Cluster: 27\", \"Cluster: 28\", \"Cluster: 29\", \"Cluster: 30\", \"Cluster: 31\", \"Cluster: 32\", \"Cluster: 33\", \"Cluster: 34\", \"Cluster: 35\", \"Cluster: 36\", \"Cluster: 37\", \"Cluster: 38\", \"Cluster: 39\"], \"type\": \"scatter\", \"x\": [62.89672656521636, 15.542063949209515, 97.96919540069553, 284.2201038661995, 154.76637295377404, 3.8890305921367125, 9.884105290441324, 1405.4004415354066, 433.9023403894481, 130.73499710685672, 121.6579262995361, 93.31858900149001, 124.67933008574846, 423.8313432696616, 249.69793916604905, 548.9014796494371, 164.9357105294968, 120.19882908938519, 78.08015015091944, 73.5354614743679, 119.17501506540128, 17.42215833431714, 29.42510494577713, 34.65711496509646, 30.664263683014266, 393.59629463072577, 248.11649886917024, 60.262597581059396, 29.182004005806835, 168.27502932441593, 375.1041777368847, 323.6773498697521, 81.4680441456105, 22.229232414697876, 100.91566726209092, 56.41446720250359, 14.056327194413278, 106.8630393993752, 17.015363253618624, 206.0112135089163], \"y\": [55.904316043749546, 12.575645636683639, 87.75504468763074, 121.82816179510661, 133.27340976574897, 3.1329632341393556, 9.351863721872409, 553.517048548996, 374.21800323999173, 106.08399602002824, 61.266490445791455, 71.90160539104536, 102.22698977309176, 191.66935375915165, 213.32202153355922, 193.32593944915175, 122.38436194294115, 113.63766728660521, 76.84795014344533, 61.184093950499886, 40.30069642750431, 14.7388451418496, 13.654723835704525, 31.981195179256382, 25.433234098312695, 334.687706264516, 102.2641529906789, 47.211999855038286, 19.887412972980385, 64.50168838412871, 320.9432073407816, 229.13305692126818, 59.3093640246509, 21.500813680969866, 82.9503414380539, 21.104901685448365, 6.295406714455882, 81.20202431219086, 9.594719034784294, 184.86875617444608]}],\n",
       "                        {\"legend\": {\"orientation\": \"h\", \"x\": 1, \"xanchor\": \"right\", \"y\": 1.02, \"yanchor\": \"bottom\"}, \"margin\": {\"b\": 0, \"l\": 0, \"r\": 0, \"t\": 0}, \"template\": {\"data\": {\"bar\": [{\"error_x\": {\"color\": \"#2a3f5f\"}, \"error_y\": {\"color\": \"#2a3f5f\"}, \"marker\": {\"line\": {\"color\": \"white\", \"width\": 0.5}}, \"type\": \"bar\"}], \"barpolar\": [{\"marker\": {\"line\": {\"color\": \"white\", \"width\": 0.5}}, \"type\": \"barpolar\"}], \"carpet\": [{\"aaxis\": {\"endlinecolor\": \"#2a3f5f\", \"gridcolor\": \"#C8D4E3\", \"linecolor\": \"#C8D4E3\", \"minorgridcolor\": \"#C8D4E3\", \"startlinecolor\": \"#2a3f5f\"}, \"baxis\": {\"endlinecolor\": \"#2a3f5f\", \"gridcolor\": \"#C8D4E3\", \"linecolor\": \"#C8D4E3\", \"minorgridcolor\": \"#C8D4E3\", \"startlinecolor\": \"#2a3f5f\"}, \"type\": \"carpet\"}], \"choropleth\": [{\"colorbar\": {\"outlinewidth\": 0, \"ticks\": \"\"}, \"type\": \"choropleth\"}], \"contour\": [{\"colorbar\": {\"outlinewidth\": 0, \"ticks\": \"\"}, \"colorscale\": [[0.0, \"#0d0887\"], [0.1111111111111111, \"#46039f\"], [0.2222222222222222, \"#7201a8\"], [0.3333333333333333, \"#9c179e\"], [0.4444444444444444, \"#bd3786\"], [0.5555555555555556, \"#d8576b\"], [0.6666666666666666, \"#ed7953\"], [0.7777777777777778, \"#fb9f3a\"], [0.8888888888888888, \"#fdca26\"], [1.0, \"#f0f921\"]], \"type\": \"contour\"}], \"contourcarpet\": [{\"colorbar\": {\"outlinewidth\": 0, \"ticks\": \"\"}, \"type\": \"contourcarpet\"}], \"heatmap\": [{\"colorbar\": {\"outlinewidth\": 0, \"ticks\": \"\"}, \"colorscale\": [[0.0, \"#0d0887\"], [0.1111111111111111, \"#46039f\"], [0.2222222222222222, \"#7201a8\"], [0.3333333333333333, \"#9c179e\"], [0.4444444444444444, \"#bd3786\"], [0.5555555555555556, \"#d8576b\"], [0.6666666666666666, \"#ed7953\"], [0.7777777777777778, \"#fb9f3a\"], [0.8888888888888888, \"#fdca26\"], [1.0, \"#f0f921\"]], \"type\": \"heatmap\"}], \"heatmapgl\": [{\"colorbar\": {\"outlinewidth\": 0, \"ticks\": \"\"}, \"colorscale\": [[0.0, \"#0d0887\"], [0.1111111111111111, \"#46039f\"], [0.2222222222222222, \"#7201a8\"], [0.3333333333333333, \"#9c179e\"], [0.4444444444444444, \"#bd3786\"], [0.5555555555555556, \"#d8576b\"], [0.6666666666666666, \"#ed7953\"], [0.7777777777777778, \"#fb9f3a\"], [0.8888888888888888, \"#fdca26\"], [1.0, \"#f0f921\"]], \"type\": \"heatmapgl\"}], \"histogram\": [{\"marker\": {\"colorbar\": {\"outlinewidth\": 0, \"ticks\": \"\"}}, \"type\": \"histogram\"}], \"histogram2d\": [{\"colorbar\": {\"outlinewidth\": 0, \"ticks\": \"\"}, \"colorscale\": [[0.0, \"#0d0887\"], [0.1111111111111111, \"#46039f\"], [0.2222222222222222, \"#7201a8\"], [0.3333333333333333, \"#9c179e\"], [0.4444444444444444, \"#bd3786\"], [0.5555555555555556, \"#d8576b\"], [0.6666666666666666, \"#ed7953\"], [0.7777777777777778, \"#fb9f3a\"], [0.8888888888888888, \"#fdca26\"], [1.0, \"#f0f921\"]], \"type\": \"histogram2d\"}], \"histogram2dcontour\": [{\"colorbar\": {\"outlinewidth\": 0, \"ticks\": \"\"}, \"colorscale\": [[0.0, \"#0d0887\"], [0.1111111111111111, \"#46039f\"], [0.2222222222222222, \"#7201a8\"], [0.3333333333333333, \"#9c179e\"], [0.4444444444444444, \"#bd3786\"], [0.5555555555555556, \"#d8576b\"], [0.6666666666666666, \"#ed7953\"], [0.7777777777777778, \"#fb9f3a\"], [0.8888888888888888, \"#fdca26\"], [1.0, \"#f0f921\"]], \"type\": \"histogram2dcontour\"}], \"mesh3d\": [{\"colorbar\": {\"outlinewidth\": 0, \"ticks\": \"\"}, \"type\": \"mesh3d\"}], \"parcoords\": [{\"line\": {\"colorbar\": {\"outlinewidth\": 0, \"ticks\": \"\"}}, \"type\": \"parcoords\"}], \"pie\": [{\"automargin\": true, \"type\": \"pie\"}], \"scatter\": [{\"marker\": {\"colorbar\": {\"outlinewidth\": 0, \"ticks\": \"\"}}, \"type\": \"scatter\"}], \"scatter3d\": [{\"line\": {\"colorbar\": {\"outlinewidth\": 0, \"ticks\": \"\"}}, \"marker\": {\"colorbar\": {\"outlinewidth\": 0, \"ticks\": \"\"}}, \"type\": \"scatter3d\"}], \"scattercarpet\": [{\"marker\": {\"colorbar\": {\"outlinewidth\": 0, \"ticks\": \"\"}}, \"type\": \"scattercarpet\"}], \"scattergeo\": [{\"marker\": {\"colorbar\": {\"outlinewidth\": 0, \"ticks\": \"\"}}, \"type\": \"scattergeo\"}], \"scattergl\": [{\"marker\": {\"colorbar\": {\"outlinewidth\": 0, \"ticks\": \"\"}}, \"type\": \"scattergl\"}], \"scattermapbox\": [{\"marker\": {\"colorbar\": {\"outlinewidth\": 0, \"ticks\": \"\"}}, \"type\": \"scattermapbox\"}], \"scatterpolar\": [{\"marker\": {\"colorbar\": {\"outlinewidth\": 0, \"ticks\": \"\"}}, \"type\": \"scatterpolar\"}], \"scatterpolargl\": [{\"marker\": {\"colorbar\": {\"outlinewidth\": 0, \"ticks\": \"\"}}, \"type\": \"scatterpolargl\"}], \"scatterternary\": [{\"marker\": {\"colorbar\": {\"outlinewidth\": 0, \"ticks\": \"\"}}, \"type\": \"scatterternary\"}], \"surface\": [{\"colorbar\": {\"outlinewidth\": 0, \"ticks\": \"\"}, \"colorscale\": [[0.0, \"#0d0887\"], [0.1111111111111111, \"#46039f\"], [0.2222222222222222, \"#7201a8\"], [0.3333333333333333, \"#9c179e\"], [0.4444444444444444, \"#bd3786\"], [0.5555555555555556, \"#d8576b\"], [0.6666666666666666, \"#ed7953\"], [0.7777777777777778, \"#fb9f3a\"], [0.8888888888888888, \"#fdca26\"], [1.0, \"#f0f921\"]], \"type\": \"surface\"}], \"table\": [{\"cells\": {\"fill\": {\"color\": \"#EBF0F8\"}, \"line\": {\"color\": \"white\"}}, \"header\": {\"fill\": {\"color\": \"#C8D4E3\"}, \"line\": {\"color\": \"white\"}}, \"type\": \"table\"}]}, \"layout\": {\"annotationdefaults\": {\"arrowcolor\": \"#2a3f5f\", \"arrowhead\": 0, \"arrowwidth\": 1}, \"coloraxis\": {\"colorbar\": {\"outlinewidth\": 0, \"ticks\": \"\"}}, \"colorscale\": {\"diverging\": [[0, \"#8e0152\"], [0.1, \"#c51b7d\"], [0.2, \"#de77ae\"], [0.3, \"#f1b6da\"], [0.4, \"#fde0ef\"], [0.5, \"#f7f7f7\"], [0.6, \"#e6f5d0\"], [0.7, \"#b8e186\"], [0.8, \"#7fbc41\"], [0.9, \"#4d9221\"], [1, \"#276419\"]], \"sequential\": [[0.0, \"#0d0887\"], [0.1111111111111111, \"#46039f\"], [0.2222222222222222, \"#7201a8\"], [0.3333333333333333, \"#9c179e\"], [0.4444444444444444, \"#bd3786\"], [0.5555555555555556, \"#d8576b\"], [0.6666666666666666, \"#ed7953\"], [0.7777777777777778, \"#fb9f3a\"], [0.8888888888888888, \"#fdca26\"], [1.0, \"#f0f921\"]], \"sequentialminus\": [[0.0, \"#0d0887\"], [0.1111111111111111, \"#46039f\"], [0.2222222222222222, \"#7201a8\"], [0.3333333333333333, \"#9c179e\"], [0.4444444444444444, \"#bd3786\"], [0.5555555555555556, \"#d8576b\"], [0.6666666666666666, \"#ed7953\"], [0.7777777777777778, \"#fb9f3a\"], [0.8888888888888888, \"#fdca26\"], [1.0, \"#f0f921\"]]}, \"colorway\": [\"#636efa\", \"#EF553B\", \"#00cc96\", \"#ab63fa\", \"#FFA15A\", \"#19d3f3\", \"#FF6692\", \"#B6E880\", \"#FF97FF\", \"#FECB52\"], \"font\": {\"color\": \"#2a3f5f\"}, \"geo\": {\"bgcolor\": \"white\", \"lakecolor\": \"white\", \"landcolor\": \"white\", \"showlakes\": true, \"showland\": true, \"subunitcolor\": \"#C8D4E3\"}, \"hoverlabel\": {\"align\": \"left\"}, \"hovermode\": \"closest\", \"mapbox\": {\"style\": \"light\"}, \"paper_bgcolor\": \"white\", \"plot_bgcolor\": \"white\", \"polar\": {\"angularaxis\": {\"gridcolor\": \"#EBF0F8\", \"linecolor\": \"#EBF0F8\", \"ticks\": \"\"}, \"bgcolor\": \"white\", \"radialaxis\": {\"gridcolor\": \"#EBF0F8\", \"linecolor\": \"#EBF0F8\", \"ticks\": \"\"}}, \"scene\": {\"xaxis\": {\"backgroundcolor\": \"white\", \"gridcolor\": \"#DFE8F3\", \"gridwidth\": 2, \"linecolor\": \"#EBF0F8\", \"showbackground\": true, \"ticks\": \"\", \"zerolinecolor\": \"#EBF0F8\"}, \"yaxis\": {\"backgroundcolor\": \"white\", \"gridcolor\": \"#DFE8F3\", \"gridwidth\": 2, \"linecolor\": \"#EBF0F8\", \"showbackground\": true, \"ticks\": \"\", \"zerolinecolor\": \"#EBF0F8\"}, \"zaxis\": {\"backgroundcolor\": \"white\", \"gridcolor\": \"#DFE8F3\", \"gridwidth\": 2, \"linecolor\": \"#EBF0F8\", \"showbackground\": true, \"ticks\": \"\", \"zerolinecolor\": \"#EBF0F8\"}}, \"shapedefaults\": {\"line\": {\"color\": \"#2a3f5f\"}}, \"ternary\": {\"aaxis\": {\"gridcolor\": \"#DFE8F3\", \"linecolor\": \"#A2B1C6\", \"ticks\": \"\"}, \"baxis\": {\"gridcolor\": \"#DFE8F3\", \"linecolor\": \"#A2B1C6\", \"ticks\": \"\"}, \"bgcolor\": \"white\", \"caxis\": {\"gridcolor\": \"#DFE8F3\", \"linecolor\": \"#A2B1C6\", \"ticks\": \"\"}}, \"title\": {\"x\": 0.05}, \"xaxis\": {\"automargin\": true, \"gridcolor\": \"#EBF0F8\", \"linecolor\": \"#EBF0F8\", \"ticks\": \"\", \"title\": {\"standoff\": 15}, \"zerolinecolor\": \"#EBF0F8\", \"zerolinewidth\": 2}, \"yaxis\": {\"automargin\": true, \"gridcolor\": \"#EBF0F8\", \"linecolor\": \"#EBF0F8\", \"ticks\": \"\", \"title\": {\"standoff\": 15}, \"zerolinecolor\": \"#EBF0F8\", \"zerolinewidth\": 2}}}, \"width\": 900, \"xaxis\": {\"categoryorder\": \"sum descending\", \"title\": {\"text\": \"Water (Mm<sup>3</sup>/yr)\"}}, \"yaxis\": {\"title\": {\"text\": \"Energy (GWh/yr)\"}}},\n",
       "                        {\"responsive\": true}\n",
       "                    ).then(function(){\n",
       "                            \n",
       "var gd = document.getElementById('8df13f12-771f-4133-8eeb-ee8e346dc0b6');\n",
       "var x = new MutationObserver(function (mutations, observer) {{\n",
       "        var display = window.getComputedStyle(gd).display;\n",
       "        if (!display || display === 'none') {{\n",
       "            console.log([gd, 'removed!']);\n",
       "            Plotly.purge(gd);\n",
       "            observer.disconnect();\n",
       "        }}\n",
       "}});\n",
       "\n",
       "// Listen for the removal of the full notebook cells\n",
       "var notebookContainer = gd.closest('#notebook-container');\n",
       "if (notebookContainer) {{\n",
       "    x.observe(notebookContainer, {childList: true});\n",
       "}}\n",
       "\n",
       "// Listen for the clearing of the current output cell\n",
       "var outputEl = gd.closest('.output');\n",
       "if (outputEl) {{\n",
       "    x.observe(outputEl, {childList: true});\n",
       "}}\n",
       "\n",
       "                        })\n",
       "                };\n",
       "                });\n",
       "            </script>\n",
       "        </div>"
      ]
     },
     "metadata": {},
     "output_type": "display_data"
    }
   ],
   "source": [
    "fig = go.Figure()\n",
    "dff = dff_energy.merge(dff_water)\n",
    "\n",
    "\n",
    "fig.add_trace(go.Scatter(x=dff[['IrrigationWater','PopulationWater']].sum(axis=1)/1000000, \n",
    "                         y=dff[['IrrigationPumpingEnergy','IrrigationDesalinationEnergy']].sum(axis=1)/1000000,\n",
    "                         mode='markers',\n",
    "                         text='Cluster: ' + dff['Cluster'].astype(int).astype(str),\n",
    "                         marker=dict(size = dff['TDS']/dff['TDS'].min()*10,\n",
    "                                    color=dff['GroundwaterDepth'],\n",
    "                                    colorscale='viridis',\n",
    "                                    showscale=True\n",
    "                        )))\n",
    "# fig.add_trace(go.Bar(x=dff['Cluster'], y=dff['IrrigationDesalinationEnergy']/1000000, name='Desalination Energy', marker=dict(color='#66c2a5', line=dict(width=1, color='Grey'))))\n",
    "\n",
    "fig.update_layout(width=900, template='plotly_white',\n",
    "                  xaxis={'categoryorder':'sum descending', 'title': 'Water (Mm<sup>3</sup>/yr)'}, \n",
    "                  yaxis={'title': 'Energy (GWh/yr)'},\n",
    "                  legend=dict(\n",
    "                            orientation=\"h\",\n",
    "                            yanchor=\"bottom\",\n",
    "                            y=1.02,\n",
    "                            xanchor=\"right\",\n",
    "                            x=1\n",
    "                ),\n",
    "                 margin=dict(b=0, l=0, r=0, t=0))\n",
    "fig.show()\n",
    "# fig.write_image('BaselineEnergy.pdf')"
   ]
  },
  {
   "cell_type": "code",
   "execution_count": 48,
   "metadata": {},
   "outputs": [],
   "source": [
    "dff.to_csv('DataForNexusPlot.csv')"
   ]
  },
  {
   "cell_type": "code",
   "execution_count": 47,
   "metadata": {},
   "outputs": [],
   "source": [
    "dff = df.groupby('Cluster').agg({'MovingBedBiofilmReactorLCOW': 'mean', 'TricklingFilterLCOW': 'mean', 'IntermittentSandFilterLCOW': 'mean', \n",
    "                             'RotatingBiologicalContractorsLCOW': 'mean', 'SequencingBatchReactorLCOW': 'mean', 'Membrane BioreactorLCOW': 'mean', \n",
    "                             'ExtendedAerationLCOW': 'mean', 'PopulationWater': 'sum','FinalIrrigationWater': 'sum', 'PondSystemLCOW': 'mean'}).reset_index()"
   ]
  },
  {
   "cell_type": "code",
   "execution_count": 48,
   "metadata": {},
   "outputs": [],
   "source": [
    "dff['total_extractions'] = dff['FinalIrrigationWater'] + dff['PopulationWater']\n",
    "dff['cat_order'] = [cluster for value, cluster in dff[['total_extractions', 'Cluster']].sort_values('total_extractions', ascending=False).values]\n",
    "\n",
    "dff_sorted = dff.sort_values('total_extractions', ascending=False).reset_index(drop=True)\n",
    "dff_sorted = dff_sorted.loc[range(10)]"
   ]
  },
  {
   "cell_type": "code",
   "execution_count": 49,
   "metadata": {},
   "outputs": [],
   "source": [
    "dff_melt = dff_sorted.melt(id_vars=['Cluster', 'PopulationWater', \n",
    "                             'FinalIrrigationWater', 'total_extractions', 'cat_order'])"
   ]
  },
  {
   "cell_type": "code",
   "execution_count": 50,
   "metadata": {},
   "outputs": [
    {
     "data": {
      "application/vnd.plotly.v1+json": {
       "config": {
        "plotlyServerURL": "https://plot.ly"
       },
       "data": [
        {
         "alignmentgroup": "True",
         "hovertemplate": "variable=Extended aeration<br>Cluster=%{x}<br>value=%{y}<extra></extra>",
         "legendgroup": "Extended aeration",
         "marker": {
          "color": "#4C78A8"
         },
         "name": "Extended aeration",
         "offsetgroup": "Extended aeration",
         "orientation": "v",
         "showlegend": true,
         "textposition": "auto",
         "type": "bar",
         "x": [
          7,
          13,
          25,
          31,
          26,
          15,
          14,
          30,
          3,
          8
         ],
         "xaxis": "x2",
         "y": [
          0.04841283743575303,
          0.04892778805712809,
          0.05214092652368404,
          0.05657161041293024,
          0.0583561624186188,
          0.06913795927841108,
          0.09539352323342096,
          0.09730755794652692,
          0.3898458219723799,
          0.5738655355638868
         ],
         "yaxis": "y2"
        },
        {
         "alignmentgroup": "True",
         "hovertemplate": "variable=Rotating biological contractors<br>Cluster=%{x}<br>value=%{y}<extra></extra>",
         "legendgroup": "Rotating biological contractors",
         "marker": {
          "color": "#F58518"
         },
         "name": "Rotating biological contractors",
         "offsetgroup": "Rotating biological contractors",
         "orientation": "v",
         "showlegend": true,
         "textposition": "auto",
         "type": "bar",
         "x": [
          7,
          13,
          25,
          31,
          26,
          15,
          14,
          30,
          3,
          8
         ],
         "xaxis": "x2",
         "y": [
          0.055227902194712096,
          0.05568130079050348,
          0.05848605222289637,
          0.06228910533888156,
          0.06380119916425979,
          0.07272303197792668,
          0.09322004741947874,
          0.09465869074357193,
          0.2753065051349676,
          0.37039681175636924
         ],
         "yaxis": "y2"
        },
        {
         "alignmentgroup": "True",
         "hovertemplate": "variable=Pond system<br>Cluster=%{x}<br>value=%{y}<extra></extra>",
         "legendgroup": "Pond system",
         "marker": {
          "color": "#E45756"
         },
         "name": "Pond system",
         "offsetgroup": "Pond system",
         "orientation": "v",
         "showlegend": true,
         "textposition": "auto",
         "type": "bar",
         "x": [
          7,
          15,
          13,
          8,
          3,
          31,
          30,
          25,
          26,
          14
         ],
         "xaxis": "x2",
         "y": [
          0.05957942217494875,
          0.06087075092965803,
          0.061608485370423904,
          0.061674962458738755,
          0.06212037901688569,
          0.0622326539855195,
          0.06231809174313737,
          0.06264015225256991,
          0.06269158356126235,
          0.06306001278612053
         ],
         "yaxis": "y2"
        },
        {
         "alignmentgroup": "True",
         "hovertemplate": "variable=Sequencing batch reactor<br>Cluster=%{x}<br>value=%{y}<extra></extra>",
         "legendgroup": "Sequencing batch reactor",
         "marker": {
          "color": "#72B7B2"
         },
         "name": "Sequencing batch reactor",
         "offsetgroup": "Sequencing batch reactor",
         "orientation": "v",
         "showlegend": true,
         "textposition": "auto",
         "type": "bar",
         "x": [
          7,
          13,
          25,
          31,
          26,
          15,
          14,
          30,
          3,
          8
         ],
         "xaxis": "x2",
         "y": [
          0.06252640629665432,
          0.06304064341462565,
          0.06622162641585143,
          0.07053447782203126,
          0.07224915080829915,
          0.08236482208641792,
          0.10559444226797014,
          0.10722432850444268,
          0.3113370311715564,
          0.4184060383747061
         ],
         "yaxis": "y2"
        },
        {
         "alignmentgroup": "True",
         "hovertemplate": "variable=Membrane  bioreactor<br>Cluster=%{x}<br>value=%{y}<extra></extra>",
         "legendgroup": "Membrane  bioreactor",
         "marker": {
          "color": "#54A24B"
         },
         "name": "Membrane  bioreactor",
         "offsetgroup": "Membrane  bioreactor",
         "orientation": "v",
         "showlegend": true,
         "textposition": "auto",
         "type": "bar",
         "x": [
          7,
          13,
          25,
          31,
          26,
          15,
          14,
          30,
          3,
          8
         ],
         "xaxis": "x2",
         "y": [
          0.11510459294704085,
          0.11584768508648179,
          0.12041697037765701,
          0.12654057044579858,
          0.12895351496940602,
          0.14295986533241667,
          0.17387687346035885,
          0.17599053014608534,
          0.409441131855603,
          0.5180961937402201
         ],
         "yaxis": "y2"
        },
        {
         "alignmentgroup": "True",
         "hovertemplate": "variable=Intermittent sand filter<br>Cluster=%{x}<br>value=%{y}<extra></extra>",
         "legendgroup": "Intermittent sand filter",
         "marker": {
          "color": "#EECA3B"
         },
         "name": "Intermittent sand filter",
         "offsetgroup": "Intermittent sand filter",
         "orientation": "v",
         "showlegend": true,
         "textposition": "auto",
         "type": "bar",
         "x": [
          7,
          13,
          25,
          31,
          26,
          15,
          14,
          30,
          3,
          8
         ],
         "xaxis": "x2",
         "y": [
          0.1335195022075538,
          0.13360382113882002,
          0.1341264782644203,
          0.13483812553660482,
          0.13512204414567877,
          0.13680888064632177,
          0.14076513172799932,
          0.1410473267634094,
          0.18272013959995473,
          0.210959645186458
         ],
         "yaxis": "y2"
        },
        {
         "alignmentgroup": "True",
         "hovertemplate": "variable=Trickling filter<br>Cluster=%{x}<br>value=%{y}<extra></extra>",
         "legendgroup": "Trickling filter",
         "marker": {
          "color": "#B279A2"
         },
         "name": "Trickling filter",
         "offsetgroup": "Trickling filter",
         "orientation": "v",
         "showlegend": true,
         "textposition": "auto",
         "type": "bar",
         "x": [
          7,
          13,
          25,
          31,
          26,
          15,
          14,
          30,
          3,
          8
         ],
         "xaxis": "x2",
         "y": [
          0.15809392108883466,
          0.158291851016753,
          0.15952562155939887,
          0.16122372606163457,
          0.16190676066190798,
          0.16602466702813148,
          0.1760172216534258,
          0.17674490471401044,
          0.29169287365667956,
          0.3700068467332794
         ],
         "yaxis": "y2"
        },
        {
         "alignmentgroup": "True",
         "hovertemplate": "variable=Moving bed biofilm reactor<br>Cluster=%{x}<br>value=%{y}<extra></extra>",
         "legendgroup": "Moving bed biofilm reactor",
         "marker": {
          "color": "#FF9DA6"
         },
         "name": "Moving bed biofilm reactor",
         "offsetgroup": "Moving bed biofilm reactor",
         "orientation": "v",
         "showlegend": true,
         "textposition": "auto",
         "type": "bar",
         "x": [
          7,
          13,
          25,
          31,
          26,
          15,
          14,
          30,
          3,
          8
         ],
         "xaxis": "x2",
         "y": [
          0.23105307427182992,
          0.23139666796572544,
          0.23348894294367437,
          0.23624066907755656,
          0.23730952994030954,
          0.24335891044814148,
          0.2559538356438131,
          0.256784214622911,
          0.3422533067608455,
          0.38704507389892034
         ],
         "yaxis": "y2"
        },
        {
         "hovertemplate": "color=Population water extractions<br>Cluster=%{x}<br>PopulationWater=%{y}<extra></extra>",
         "legendgroup": "Population water extractions",
         "marker": {
          "color": "#BAB0AC",
          "size": 10,
          "symbol": "circle"
         },
         "mode": "markers",
         "name": "Population water extractions",
         "orientation": "v",
         "showlegend": true,
         "type": "scatter",
         "x": [
          8,
          8,
          8,
          3,
          3,
          8,
          8,
          8,
          3,
          3,
          3,
          3,
          30,
          14,
          15,
          26,
          31,
          25,
          13,
          7,
          8,
          3,
          30,
          14,
          30,
          14,
          15,
          26,
          31,
          25,
          13,
          7,
          15,
          30,
          14,
          15,
          26,
          31,
          25,
          13,
          7,
          26,
          31,
          25,
          13,
          7,
          30,
          14,
          30,
          14,
          30,
          14,
          15,
          15,
          26,
          31,
          15,
          25,
          26,
          14,
          13,
          26,
          25,
          7,
          30,
          31,
          31,
          3,
          8,
          13,
          15,
          7,
          25,
          26,
          31,
          13,
          7,
          25,
          13,
          7
         ],
         "xaxis": "x",
         "y": [
          0.6018328883554347,
          0.6018328883554347,
          0.6018328883554347,
          0.8801649031132143,
          0.8801649031132143,
          0.6018328883554347,
          0.6018328883554347,
          0.6018328883554347,
          0.8801649031132143,
          0.8801649031132143,
          0.8801649031132143,
          0.8801649031132143,
          6.2415798295567075,
          6.34238689678655,
          11.666177713767668,
          16.384589231632088,
          17.556650070240362,
          20.66338893736386,
          23.19225255753355,
          24.000221323652607,
          0.6018328883554347,
          0.8801649031132143,
          6.2415798295567075,
          6.34238689678655,
          6.2415798295567075,
          6.34238689678655,
          11.666177713767668,
          16.384589231632088,
          17.556650070240362,
          20.66338893736386,
          23.19225255753355,
          24.000221323652607,
          11.666177713767668,
          6.2415798295567075,
          6.34238689678655,
          11.666177713767668,
          16.384589231632088,
          17.556650070240362,
          20.66338893736386,
          23.19225255753355,
          24.000221323652607,
          16.384589231632088,
          17.556650070240362,
          20.66338893736386,
          23.19225255753355,
          24.000221323652607,
          6.2415798295567075,
          6.34238689678655,
          6.2415798295567075,
          6.34238689678655,
          6.2415798295567075,
          6.34238689678655,
          11.666177713767668,
          11.666177713767668,
          16.384589231632088,
          17.556650070240362,
          11.666177713767668,
          20.66338893736386,
          16.384589231632088,
          6.34238689678655,
          23.19225255753355,
          16.384589231632088,
          20.66338893736386,
          24.000221323652607,
          6.2415798295567075,
          17.556650070240362,
          17.556650070240362,
          0.8801649031132143,
          0.6018328883554347,
          23.19225255753355,
          11.666177713767668,
          24.000221323652607,
          20.66338893736386,
          16.384589231632088,
          17.556650070240362,
          23.19225255753355,
          24.000221323652607,
          20.66338893736386,
          23.19225255753355,
          24.000221323652607
         ],
         "yaxis": "y"
        },
        {
         "hovertemplate": "color=Irrigation water extractions<br>Cluster=%{x}<br>FinalIrrigationWater=%{y}<extra></extra>",
         "legendgroup": "Irrigation water extractions",
         "marker": {
          "color": "LightSkyBlue",
          "size": 10,
          "symbol": "circle"
         },
         "mode": "markers",
         "name": "Irrigation water extractions",
         "orientation": "v",
         "showlegend": true,
         "type": "scatter",
         "x": [
          8,
          8,
          8,
          3,
          3,
          8,
          8,
          8,
          3,
          3,
          3,
          3,
          30,
          14,
          15,
          26,
          31,
          25,
          13,
          7,
          8,
          3,
          30,
          14,
          30,
          14,
          15,
          26,
          31,
          25,
          13,
          7,
          15,
          30,
          14,
          15,
          26,
          31,
          25,
          13,
          7,
          26,
          31,
          25,
          13,
          7,
          30,
          14,
          30,
          14,
          30,
          14,
          15,
          15,
          26,
          31,
          15,
          25,
          26,
          14,
          13,
          26,
          25,
          7,
          30,
          31,
          31,
          3,
          8,
          13,
          15,
          7,
          25,
          26,
          31,
          13,
          7,
          25,
          13,
          7
         ],
         "xaxis": "x",
         "y": [
          252.3729165024604,
          252.3729165024604,
          252.3729165024604,
          154.19319497575344,
          154.19319497575344,
          252.3729165024604,
          252.3729165024604,
          252.3729165024604,
          154.19319497575344,
          154.19319497575344,
          154.19319497575344,
          154.19319497575344,
          219.16822391406123,
          139.02200779078385,
          277.005790063997,
          117.00595622072436,
          161.94997371808066,
          221.00010831932275,
          209.47917899282905,
          721.0146284647567,
          252.3729165024604,
          154.19319497575344,
          219.16822391406123,
          139.02200779078385,
          219.16822391406123,
          139.02200779078385,
          277.005790063997,
          117.00595622072436,
          161.94997371808066,
          221.00010831932275,
          209.47917899282905,
          721.0146284647567,
          277.005790063997,
          219.16822391406123,
          139.02200779078385,
          277.005790063997,
          117.00595622072436,
          161.94997371808066,
          221.00010831932275,
          209.47917899282905,
          721.0146284647567,
          117.00595622072436,
          161.94997371808066,
          221.00010831932275,
          209.47917899282905,
          721.0146284647567,
          219.16822391406123,
          139.02200779078385,
          219.16822391406123,
          139.02200779078385,
          219.16822391406123,
          139.02200779078385,
          277.005790063997,
          277.005790063997,
          117.00595622072436,
          161.94997371808066,
          277.005790063997,
          221.00010831932275,
          117.00595622072436,
          139.02200779078385,
          209.47917899282905,
          117.00595622072436,
          221.00010831932275,
          721.0146284647567,
          219.16822391406123,
          161.94997371808066,
          161.94997371808066,
          154.19319497575344,
          252.3729165024604,
          209.47917899282905,
          277.005790063997,
          721.0146284647567,
          221.00010831932275,
          117.00595622072436,
          161.94997371808066,
          209.47917899282905,
          721.0146284647567,
          221.00010831932275,
          209.47917899282905,
          721.0146284647567
         ],
         "yaxis": "y"
        }
       ],
       "layout": {
        "annotations": [
         {
          "showarrow": false,
          "text": "<b>a)</b>",
          "x": -0.065,
          "xref": "paper",
          "y": 1.09,
          "yref": "paper"
         },
         {
          "showarrow": false,
          "text": "<b>b)</b>",
          "x": -0.065,
          "xref": "paper",
          "y": 0.45,
          "yref": "paper"
         }
        ],
        "barmode": "group",
        "legend": {
         "orientation": "h",
         "title": {
          "text": ""
         },
         "x": 0.5,
         "xanchor": "center",
         "y": -0.15,
         "yanchor": "top"
        },
        "margin": {
         "b": 0,
         "l": 0,
         "r": 0,
         "t": 30
        },
        "template": {
         "data": {
          "bar": [
           {
            "error_x": {
             "color": "#2a3f5f"
            },
            "error_y": {
             "color": "#2a3f5f"
            },
            "marker": {
             "line": {
              "color": "white",
              "width": 0.5
             }
            },
            "type": "bar"
           }
          ],
          "barpolar": [
           {
            "marker": {
             "line": {
              "color": "white",
              "width": 0.5
             }
            },
            "type": "barpolar"
           }
          ],
          "carpet": [
           {
            "aaxis": {
             "endlinecolor": "#2a3f5f",
             "gridcolor": "#C8D4E3",
             "linecolor": "#C8D4E3",
             "minorgridcolor": "#C8D4E3",
             "startlinecolor": "#2a3f5f"
            },
            "baxis": {
             "endlinecolor": "#2a3f5f",
             "gridcolor": "#C8D4E3",
             "linecolor": "#C8D4E3",
             "minorgridcolor": "#C8D4E3",
             "startlinecolor": "#2a3f5f"
            },
            "type": "carpet"
           }
          ],
          "choropleth": [
           {
            "colorbar": {
             "outlinewidth": 0,
             "ticks": ""
            },
            "type": "choropleth"
           }
          ],
          "contour": [
           {
            "colorbar": {
             "outlinewidth": 0,
             "ticks": ""
            },
            "colorscale": [
             [
              0,
              "#0d0887"
             ],
             [
              0.1111111111111111,
              "#46039f"
             ],
             [
              0.2222222222222222,
              "#7201a8"
             ],
             [
              0.3333333333333333,
              "#9c179e"
             ],
             [
              0.4444444444444444,
              "#bd3786"
             ],
             [
              0.5555555555555556,
              "#d8576b"
             ],
             [
              0.6666666666666666,
              "#ed7953"
             ],
             [
              0.7777777777777778,
              "#fb9f3a"
             ],
             [
              0.8888888888888888,
              "#fdca26"
             ],
             [
              1,
              "#f0f921"
             ]
            ],
            "type": "contour"
           }
          ],
          "contourcarpet": [
           {
            "colorbar": {
             "outlinewidth": 0,
             "ticks": ""
            },
            "type": "contourcarpet"
           }
          ],
          "heatmap": [
           {
            "colorbar": {
             "outlinewidth": 0,
             "ticks": ""
            },
            "colorscale": [
             [
              0,
              "#0d0887"
             ],
             [
              0.1111111111111111,
              "#46039f"
             ],
             [
              0.2222222222222222,
              "#7201a8"
             ],
             [
              0.3333333333333333,
              "#9c179e"
             ],
             [
              0.4444444444444444,
              "#bd3786"
             ],
             [
              0.5555555555555556,
              "#d8576b"
             ],
             [
              0.6666666666666666,
              "#ed7953"
             ],
             [
              0.7777777777777778,
              "#fb9f3a"
             ],
             [
              0.8888888888888888,
              "#fdca26"
             ],
             [
              1,
              "#f0f921"
             ]
            ],
            "type": "heatmap"
           }
          ],
          "heatmapgl": [
           {
            "colorbar": {
             "outlinewidth": 0,
             "ticks": ""
            },
            "colorscale": [
             [
              0,
              "#0d0887"
             ],
             [
              0.1111111111111111,
              "#46039f"
             ],
             [
              0.2222222222222222,
              "#7201a8"
             ],
             [
              0.3333333333333333,
              "#9c179e"
             ],
             [
              0.4444444444444444,
              "#bd3786"
             ],
             [
              0.5555555555555556,
              "#d8576b"
             ],
             [
              0.6666666666666666,
              "#ed7953"
             ],
             [
              0.7777777777777778,
              "#fb9f3a"
             ],
             [
              0.8888888888888888,
              "#fdca26"
             ],
             [
              1,
              "#f0f921"
             ]
            ],
            "type": "heatmapgl"
           }
          ],
          "histogram": [
           {
            "marker": {
             "colorbar": {
              "outlinewidth": 0,
              "ticks": ""
             }
            },
            "type": "histogram"
           }
          ],
          "histogram2d": [
           {
            "colorbar": {
             "outlinewidth": 0,
             "ticks": ""
            },
            "colorscale": [
             [
              0,
              "#0d0887"
             ],
             [
              0.1111111111111111,
              "#46039f"
             ],
             [
              0.2222222222222222,
              "#7201a8"
             ],
             [
              0.3333333333333333,
              "#9c179e"
             ],
             [
              0.4444444444444444,
              "#bd3786"
             ],
             [
              0.5555555555555556,
              "#d8576b"
             ],
             [
              0.6666666666666666,
              "#ed7953"
             ],
             [
              0.7777777777777778,
              "#fb9f3a"
             ],
             [
              0.8888888888888888,
              "#fdca26"
             ],
             [
              1,
              "#f0f921"
             ]
            ],
            "type": "histogram2d"
           }
          ],
          "histogram2dcontour": [
           {
            "colorbar": {
             "outlinewidth": 0,
             "ticks": ""
            },
            "colorscale": [
             [
              0,
              "#0d0887"
             ],
             [
              0.1111111111111111,
              "#46039f"
             ],
             [
              0.2222222222222222,
              "#7201a8"
             ],
             [
              0.3333333333333333,
              "#9c179e"
             ],
             [
              0.4444444444444444,
              "#bd3786"
             ],
             [
              0.5555555555555556,
              "#d8576b"
             ],
             [
              0.6666666666666666,
              "#ed7953"
             ],
             [
              0.7777777777777778,
              "#fb9f3a"
             ],
             [
              0.8888888888888888,
              "#fdca26"
             ],
             [
              1,
              "#f0f921"
             ]
            ],
            "type": "histogram2dcontour"
           }
          ],
          "mesh3d": [
           {
            "colorbar": {
             "outlinewidth": 0,
             "ticks": ""
            },
            "type": "mesh3d"
           }
          ],
          "parcoords": [
           {
            "line": {
             "colorbar": {
              "outlinewidth": 0,
              "ticks": ""
             }
            },
            "type": "parcoords"
           }
          ],
          "pie": [
           {
            "automargin": true,
            "type": "pie"
           }
          ],
          "scatter": [
           {
            "marker": {
             "colorbar": {
              "outlinewidth": 0,
              "ticks": ""
             }
            },
            "type": "scatter"
           }
          ],
          "scatter3d": [
           {
            "line": {
             "colorbar": {
              "outlinewidth": 0,
              "ticks": ""
             }
            },
            "marker": {
             "colorbar": {
              "outlinewidth": 0,
              "ticks": ""
             }
            },
            "type": "scatter3d"
           }
          ],
          "scattercarpet": [
           {
            "marker": {
             "colorbar": {
              "outlinewidth": 0,
              "ticks": ""
             }
            },
            "type": "scattercarpet"
           }
          ],
          "scattergeo": [
           {
            "marker": {
             "colorbar": {
              "outlinewidth": 0,
              "ticks": ""
             }
            },
            "type": "scattergeo"
           }
          ],
          "scattergl": [
           {
            "marker": {
             "colorbar": {
              "outlinewidth": 0,
              "ticks": ""
             }
            },
            "type": "scattergl"
           }
          ],
          "scattermapbox": [
           {
            "marker": {
             "colorbar": {
              "outlinewidth": 0,
              "ticks": ""
             }
            },
            "type": "scattermapbox"
           }
          ],
          "scatterpolar": [
           {
            "marker": {
             "colorbar": {
              "outlinewidth": 0,
              "ticks": ""
             }
            },
            "type": "scatterpolar"
           }
          ],
          "scatterpolargl": [
           {
            "marker": {
             "colorbar": {
              "outlinewidth": 0,
              "ticks": ""
             }
            },
            "type": "scatterpolargl"
           }
          ],
          "scatterternary": [
           {
            "marker": {
             "colorbar": {
              "outlinewidth": 0,
              "ticks": ""
             }
            },
            "type": "scatterternary"
           }
          ],
          "surface": [
           {
            "colorbar": {
             "outlinewidth": 0,
             "ticks": ""
            },
            "colorscale": [
             [
              0,
              "#0d0887"
             ],
             [
              0.1111111111111111,
              "#46039f"
             ],
             [
              0.2222222222222222,
              "#7201a8"
             ],
             [
              0.3333333333333333,
              "#9c179e"
             ],
             [
              0.4444444444444444,
              "#bd3786"
             ],
             [
              0.5555555555555556,
              "#d8576b"
             ],
             [
              0.6666666666666666,
              "#ed7953"
             ],
             [
              0.7777777777777778,
              "#fb9f3a"
             ],
             [
              0.8888888888888888,
              "#fdca26"
             ],
             [
              1,
              "#f0f921"
             ]
            ],
            "type": "surface"
           }
          ],
          "table": [
           {
            "cells": {
             "fill": {
              "color": "#EBF0F8"
             },
             "line": {
              "color": "white"
             }
            },
            "header": {
             "fill": {
              "color": "#C8D4E3"
             },
             "line": {
              "color": "white"
             }
            },
            "type": "table"
           }
          ]
         },
         "layout": {
          "annotationdefaults": {
           "arrowcolor": "#2a3f5f",
           "arrowhead": 0,
           "arrowwidth": 1
          },
          "coloraxis": {
           "colorbar": {
            "outlinewidth": 0,
            "ticks": ""
           }
          },
          "colorscale": {
           "diverging": [
            [
             0,
             "#8e0152"
            ],
            [
             0.1,
             "#c51b7d"
            ],
            [
             0.2,
             "#de77ae"
            ],
            [
             0.3,
             "#f1b6da"
            ],
            [
             0.4,
             "#fde0ef"
            ],
            [
             0.5,
             "#f7f7f7"
            ],
            [
             0.6,
             "#e6f5d0"
            ],
            [
             0.7,
             "#b8e186"
            ],
            [
             0.8,
             "#7fbc41"
            ],
            [
             0.9,
             "#4d9221"
            ],
            [
             1,
             "#276419"
            ]
           ],
           "sequential": [
            [
             0,
             "#0d0887"
            ],
            [
             0.1111111111111111,
             "#46039f"
            ],
            [
             0.2222222222222222,
             "#7201a8"
            ],
            [
             0.3333333333333333,
             "#9c179e"
            ],
            [
             0.4444444444444444,
             "#bd3786"
            ],
            [
             0.5555555555555556,
             "#d8576b"
            ],
            [
             0.6666666666666666,
             "#ed7953"
            ],
            [
             0.7777777777777778,
             "#fb9f3a"
            ],
            [
             0.8888888888888888,
             "#fdca26"
            ],
            [
             1,
             "#f0f921"
            ]
           ],
           "sequentialminus": [
            [
             0,
             "#0d0887"
            ],
            [
             0.1111111111111111,
             "#46039f"
            ],
            [
             0.2222222222222222,
             "#7201a8"
            ],
            [
             0.3333333333333333,
             "#9c179e"
            ],
            [
             0.4444444444444444,
             "#bd3786"
            ],
            [
             0.5555555555555556,
             "#d8576b"
            ],
            [
             0.6666666666666666,
             "#ed7953"
            ],
            [
             0.7777777777777778,
             "#fb9f3a"
            ],
            [
             0.8888888888888888,
             "#fdca26"
            ],
            [
             1,
             "#f0f921"
            ]
           ]
          },
          "colorway": [
           "#636efa",
           "#EF553B",
           "#00cc96",
           "#ab63fa",
           "#FFA15A",
           "#19d3f3",
           "#FF6692",
           "#B6E880",
           "#FF97FF",
           "#FECB52"
          ],
          "font": {
           "color": "#2a3f5f"
          },
          "geo": {
           "bgcolor": "white",
           "lakecolor": "white",
           "landcolor": "white",
           "showlakes": true,
           "showland": true,
           "subunitcolor": "#C8D4E3"
          },
          "hoverlabel": {
           "align": "left"
          },
          "hovermode": "closest",
          "mapbox": {
           "style": "light"
          },
          "paper_bgcolor": "white",
          "plot_bgcolor": "white",
          "polar": {
           "angularaxis": {
            "gridcolor": "#EBF0F8",
            "linecolor": "#EBF0F8",
            "ticks": ""
           },
           "bgcolor": "white",
           "radialaxis": {
            "gridcolor": "#EBF0F8",
            "linecolor": "#EBF0F8",
            "ticks": ""
           }
          },
          "scene": {
           "xaxis": {
            "backgroundcolor": "white",
            "gridcolor": "#DFE8F3",
            "gridwidth": 2,
            "linecolor": "#EBF0F8",
            "showbackground": true,
            "ticks": "",
            "zerolinecolor": "#EBF0F8"
           },
           "yaxis": {
            "backgroundcolor": "white",
            "gridcolor": "#DFE8F3",
            "gridwidth": 2,
            "linecolor": "#EBF0F8",
            "showbackground": true,
            "ticks": "",
            "zerolinecolor": "#EBF0F8"
           },
           "zaxis": {
            "backgroundcolor": "white",
            "gridcolor": "#DFE8F3",
            "gridwidth": 2,
            "linecolor": "#EBF0F8",
            "showbackground": true,
            "ticks": "",
            "zerolinecolor": "#EBF0F8"
           }
          },
          "shapedefaults": {
           "line": {
            "color": "#2a3f5f"
           }
          },
          "ternary": {
           "aaxis": {
            "gridcolor": "#DFE8F3",
            "linecolor": "#A2B1C6",
            "ticks": ""
           },
           "baxis": {
            "gridcolor": "#DFE8F3",
            "linecolor": "#A2B1C6",
            "ticks": ""
           },
           "bgcolor": "white",
           "caxis": {
            "gridcolor": "#DFE8F3",
            "linecolor": "#A2B1C6",
            "ticks": ""
           }
          },
          "title": {
           "x": 0.05
          },
          "xaxis": {
           "automargin": true,
           "gridcolor": "#EBF0F8",
           "linecolor": "#EBF0F8",
           "ticks": "",
           "title": {
            "standoff": 15
           },
           "zerolinecolor": "#EBF0F8",
           "zerolinewidth": 2
          },
          "yaxis": {
           "automargin": true,
           "gridcolor": "#EBF0F8",
           "linecolor": "#EBF0F8",
           "ticks": "",
           "title": {
            "standoff": 15
           },
           "zerolinecolor": "#EBF0F8",
           "zerolinewidth": 2
          }
         }
        },
        "width": 900,
        "xaxis": {
         "anchor": "y",
         "domain": [
          0,
          1
         ],
         "matches": "x2",
         "showticklabels": false,
         "type": "category"
        },
        "xaxis2": {
         "anchor": "y2",
         "categoryarray": [
          7,
          15,
          8,
          25,
          13,
          30,
          31,
          3,
          14,
          26
         ],
         "categoryorder": "array",
         "domain": [
          0,
          1
         ],
         "showticklabels": true,
         "title": {
          "text": "Cluster"
         },
         "type": "category"
        },
        "yaxis": {
         "anchor": "x",
         "domain": [
          0.515,
          1
         ],
         "title": {
          "text": "Water extractions (Mm<sup>3</sup>)"
         },
         "type": "log"
        },
        "yaxis2": {
         "anchor": "x2",
         "domain": [
          0,
          0.485
         ],
         "title": {
          "text": "LCOW ($/m<sup>3</sup>)"
         }
        }
       }
      },
      "text/html": [
       "<div>\n",
       "        \n",
       "        \n",
       "            <div id=\"9bbefcdb-ff0b-4b21-b545-c1f2ebba67ea\" class=\"plotly-graph-div\" style=\"height:525px; width:900px;\"></div>\n",
       "            <script type=\"text/javascript\">\n",
       "                require([\"plotly\"], function(Plotly) {\n",
       "                    window.PLOTLYENV=window.PLOTLYENV || {};\n",
       "                    \n",
       "                if (document.getElementById(\"9bbefcdb-ff0b-4b21-b545-c1f2ebba67ea\")) {\n",
       "                    Plotly.newPlot(\n",
       "                        '9bbefcdb-ff0b-4b21-b545-c1f2ebba67ea',\n",
       "                        [{\"alignmentgroup\": \"True\", \"hovertemplate\": \"variable=Extended aeration<br>Cluster=%{x}<br>value=%{y}<extra></extra>\", \"legendgroup\": \"Extended aeration\", \"marker\": {\"color\": \"#4C78A8\"}, \"name\": \"Extended aeration\", \"offsetgroup\": \"Extended aeration\", \"orientation\": \"v\", \"showlegend\": true, \"textposition\": \"auto\", \"type\": \"bar\", \"x\": [7.0, 13.0, 25.0, 31.0, 26.0, 15.0, 14.0, 30.0, 3.0, 8.0], \"xaxis\": \"x2\", \"y\": [0.04841283743575303, 0.04892778805712809, 0.05214092652368404, 0.05657161041293024, 0.0583561624186188, 0.06913795927841108, 0.09539352323342096, 0.09730755794652692, 0.3898458219723799, 0.5738655355638868], \"yaxis\": \"y2\"}, {\"alignmentgroup\": \"True\", \"hovertemplate\": \"variable=Rotating biological contractors<br>Cluster=%{x}<br>value=%{y}<extra></extra>\", \"legendgroup\": \"Rotating biological contractors\", \"marker\": {\"color\": \"#F58518\"}, \"name\": \"Rotating biological contractors\", \"offsetgroup\": \"Rotating biological contractors\", \"orientation\": \"v\", \"showlegend\": true, \"textposition\": \"auto\", \"type\": \"bar\", \"x\": [7.0, 13.0, 25.0, 31.0, 26.0, 15.0, 14.0, 30.0, 3.0, 8.0], \"xaxis\": \"x2\", \"y\": [0.055227902194712096, 0.05568130079050348, 0.05848605222289637, 0.06228910533888156, 0.06380119916425979, 0.07272303197792668, 0.09322004741947874, 0.09465869074357193, 0.2753065051349676, 0.37039681175636924], \"yaxis\": \"y2\"}, {\"alignmentgroup\": \"True\", \"hovertemplate\": \"variable=Pond system<br>Cluster=%{x}<br>value=%{y}<extra></extra>\", \"legendgroup\": \"Pond system\", \"marker\": {\"color\": \"#E45756\"}, \"name\": \"Pond system\", \"offsetgroup\": \"Pond system\", \"orientation\": \"v\", \"showlegend\": true, \"textposition\": \"auto\", \"type\": \"bar\", \"x\": [7.0, 15.0, 13.0, 8.0, 3.0, 31.0, 30.0, 25.0, 26.0, 14.0], \"xaxis\": \"x2\", \"y\": [0.05957942217494875, 0.06087075092965803, 0.061608485370423904, 0.061674962458738755, 0.06212037901688569, 0.0622326539855195, 0.06231809174313737, 0.06264015225256991, 0.06269158356126235, 0.06306001278612053], \"yaxis\": \"y2\"}, {\"alignmentgroup\": \"True\", \"hovertemplate\": \"variable=Sequencing batch reactor<br>Cluster=%{x}<br>value=%{y}<extra></extra>\", \"legendgroup\": \"Sequencing batch reactor\", \"marker\": {\"color\": \"#72B7B2\"}, \"name\": \"Sequencing batch reactor\", \"offsetgroup\": \"Sequencing batch reactor\", \"orientation\": \"v\", \"showlegend\": true, \"textposition\": \"auto\", \"type\": \"bar\", \"x\": [7.0, 13.0, 25.0, 31.0, 26.0, 15.0, 14.0, 30.0, 3.0, 8.0], \"xaxis\": \"x2\", \"y\": [0.06252640629665432, 0.06304064341462565, 0.06622162641585143, 0.07053447782203126, 0.07224915080829915, 0.08236482208641792, 0.10559444226797014, 0.10722432850444268, 0.3113370311715564, 0.4184060383747061], \"yaxis\": \"y2\"}, {\"alignmentgroup\": \"True\", \"hovertemplate\": \"variable=Membrane  bioreactor<br>Cluster=%{x}<br>value=%{y}<extra></extra>\", \"legendgroup\": \"Membrane  bioreactor\", \"marker\": {\"color\": \"#54A24B\"}, \"name\": \"Membrane  bioreactor\", \"offsetgroup\": \"Membrane  bioreactor\", \"orientation\": \"v\", \"showlegend\": true, \"textposition\": \"auto\", \"type\": \"bar\", \"x\": [7.0, 13.0, 25.0, 31.0, 26.0, 15.0, 14.0, 30.0, 3.0, 8.0], \"xaxis\": \"x2\", \"y\": [0.11510459294704085, 0.11584768508648179, 0.12041697037765701, 0.12654057044579858, 0.12895351496940602, 0.14295986533241667, 0.17387687346035885, 0.17599053014608534, 0.409441131855603, 0.5180961937402201], \"yaxis\": \"y2\"}, {\"alignmentgroup\": \"True\", \"hovertemplate\": \"variable=Intermittent sand filter<br>Cluster=%{x}<br>value=%{y}<extra></extra>\", \"legendgroup\": \"Intermittent sand filter\", \"marker\": {\"color\": \"#EECA3B\"}, \"name\": \"Intermittent sand filter\", \"offsetgroup\": \"Intermittent sand filter\", \"orientation\": \"v\", \"showlegend\": true, \"textposition\": \"auto\", \"type\": \"bar\", \"x\": [7.0, 13.0, 25.0, 31.0, 26.0, 15.0, 14.0, 30.0, 3.0, 8.0], \"xaxis\": \"x2\", \"y\": [0.1335195022075538, 0.13360382113882002, 0.1341264782644203, 0.13483812553660482, 0.13512204414567877, 0.13680888064632177, 0.14076513172799932, 0.1410473267634094, 0.18272013959995473, 0.210959645186458], \"yaxis\": \"y2\"}, {\"alignmentgroup\": \"True\", \"hovertemplate\": \"variable=Trickling filter<br>Cluster=%{x}<br>value=%{y}<extra></extra>\", \"legendgroup\": \"Trickling filter\", \"marker\": {\"color\": \"#B279A2\"}, \"name\": \"Trickling filter\", \"offsetgroup\": \"Trickling filter\", \"orientation\": \"v\", \"showlegend\": true, \"textposition\": \"auto\", \"type\": \"bar\", \"x\": [7.0, 13.0, 25.0, 31.0, 26.0, 15.0, 14.0, 30.0, 3.0, 8.0], \"xaxis\": \"x2\", \"y\": [0.15809392108883466, 0.158291851016753, 0.15952562155939887, 0.16122372606163457, 0.16190676066190798, 0.16602466702813148, 0.1760172216534258, 0.17674490471401044, 0.29169287365667956, 0.3700068467332794], \"yaxis\": \"y2\"}, {\"alignmentgroup\": \"True\", \"hovertemplate\": \"variable=Moving bed biofilm reactor<br>Cluster=%{x}<br>value=%{y}<extra></extra>\", \"legendgroup\": \"Moving bed biofilm reactor\", \"marker\": {\"color\": \"#FF9DA6\"}, \"name\": \"Moving bed biofilm reactor\", \"offsetgroup\": \"Moving bed biofilm reactor\", \"orientation\": \"v\", \"showlegend\": true, \"textposition\": \"auto\", \"type\": \"bar\", \"x\": [7.0, 13.0, 25.0, 31.0, 26.0, 15.0, 14.0, 30.0, 3.0, 8.0], \"xaxis\": \"x2\", \"y\": [0.23105307427182992, 0.23139666796572544, 0.23348894294367437, 0.23624066907755656, 0.23730952994030954, 0.24335891044814148, 0.2559538356438131, 0.256784214622911, 0.3422533067608455, 0.38704507389892034], \"yaxis\": \"y2\"}, {\"hovertemplate\": \"color=Population water extractions<br>Cluster=%{x}<br>PopulationWater=%{y}<extra></extra>\", \"legendgroup\": \"Population water extractions\", \"marker\": {\"color\": \"#BAB0AC\", \"size\": 10, \"symbol\": \"circle\"}, \"mode\": \"markers\", \"name\": \"Population water extractions\", \"orientation\": \"v\", \"showlegend\": true, \"type\": \"scatter\", \"x\": [8.0, 8.0, 8.0, 3.0, 3.0, 8.0, 8.0, 8.0, 3.0, 3.0, 3.0, 3.0, 30.0, 14.0, 15.0, 26.0, 31.0, 25.0, 13.0, 7.0, 8.0, 3.0, 30.0, 14.0, 30.0, 14.0, 15.0, 26.0, 31.0, 25.0, 13.0, 7.0, 15.0, 30.0, 14.0, 15.0, 26.0, 31.0, 25.0, 13.0, 7.0, 26.0, 31.0, 25.0, 13.0, 7.0, 30.0, 14.0, 30.0, 14.0, 30.0, 14.0, 15.0, 15.0, 26.0, 31.0, 15.0, 25.0, 26.0, 14.0, 13.0, 26.0, 25.0, 7.0, 30.0, 31.0, 31.0, 3.0, 8.0, 13.0, 15.0, 7.0, 25.0, 26.0, 31.0, 13.0, 7.0, 25.0, 13.0, 7.0], \"xaxis\": \"x\", \"y\": [0.6018328883554347, 0.6018328883554347, 0.6018328883554347, 0.8801649031132143, 0.8801649031132143, 0.6018328883554347, 0.6018328883554347, 0.6018328883554347, 0.8801649031132143, 0.8801649031132143, 0.8801649031132143, 0.8801649031132143, 6.2415798295567075, 6.34238689678655, 11.666177713767668, 16.384589231632088, 17.556650070240362, 20.66338893736386, 23.19225255753355, 24.000221323652607, 0.6018328883554347, 0.8801649031132143, 6.2415798295567075, 6.34238689678655, 6.2415798295567075, 6.34238689678655, 11.666177713767668, 16.384589231632088, 17.556650070240362, 20.66338893736386, 23.19225255753355, 24.000221323652607, 11.666177713767668, 6.2415798295567075, 6.34238689678655, 11.666177713767668, 16.384589231632088, 17.556650070240362, 20.66338893736386, 23.19225255753355, 24.000221323652607, 16.384589231632088, 17.556650070240362, 20.66338893736386, 23.19225255753355, 24.000221323652607, 6.2415798295567075, 6.34238689678655, 6.2415798295567075, 6.34238689678655, 6.2415798295567075, 6.34238689678655, 11.666177713767668, 11.666177713767668, 16.384589231632088, 17.556650070240362, 11.666177713767668, 20.66338893736386, 16.384589231632088, 6.34238689678655, 23.19225255753355, 16.384589231632088, 20.66338893736386, 24.000221323652607, 6.2415798295567075, 17.556650070240362, 17.556650070240362, 0.8801649031132143, 0.6018328883554347, 23.19225255753355, 11.666177713767668, 24.000221323652607, 20.66338893736386, 16.384589231632088, 17.556650070240362, 23.19225255753355, 24.000221323652607, 20.66338893736386, 23.19225255753355, 24.000221323652607], \"yaxis\": \"y\"}, {\"hovertemplate\": \"color=Irrigation water extractions<br>Cluster=%{x}<br>FinalIrrigationWater=%{y}<extra></extra>\", \"legendgroup\": \"Irrigation water extractions\", \"marker\": {\"color\": \"LightSkyBlue\", \"size\": 10, \"symbol\": \"circle\"}, \"mode\": \"markers\", \"name\": \"Irrigation water extractions\", \"orientation\": \"v\", \"showlegend\": true, \"type\": \"scatter\", \"x\": [8.0, 8.0, 8.0, 3.0, 3.0, 8.0, 8.0, 8.0, 3.0, 3.0, 3.0, 3.0, 30.0, 14.0, 15.0, 26.0, 31.0, 25.0, 13.0, 7.0, 8.0, 3.0, 30.0, 14.0, 30.0, 14.0, 15.0, 26.0, 31.0, 25.0, 13.0, 7.0, 15.0, 30.0, 14.0, 15.0, 26.0, 31.0, 25.0, 13.0, 7.0, 26.0, 31.0, 25.0, 13.0, 7.0, 30.0, 14.0, 30.0, 14.0, 30.0, 14.0, 15.0, 15.0, 26.0, 31.0, 15.0, 25.0, 26.0, 14.0, 13.0, 26.0, 25.0, 7.0, 30.0, 31.0, 31.0, 3.0, 8.0, 13.0, 15.0, 7.0, 25.0, 26.0, 31.0, 13.0, 7.0, 25.0, 13.0, 7.0], \"xaxis\": \"x\", \"y\": [252.3729165024604, 252.3729165024604, 252.3729165024604, 154.19319497575344, 154.19319497575344, 252.3729165024604, 252.3729165024604, 252.3729165024604, 154.19319497575344, 154.19319497575344, 154.19319497575344, 154.19319497575344, 219.16822391406123, 139.02200779078385, 277.005790063997, 117.00595622072436, 161.94997371808066, 221.00010831932275, 209.47917899282905, 721.0146284647567, 252.3729165024604, 154.19319497575344, 219.16822391406123, 139.02200779078385, 219.16822391406123, 139.02200779078385, 277.005790063997, 117.00595622072436, 161.94997371808066, 221.00010831932275, 209.47917899282905, 721.0146284647567, 277.005790063997, 219.16822391406123, 139.02200779078385, 277.005790063997, 117.00595622072436, 161.94997371808066, 221.00010831932275, 209.47917899282905, 721.0146284647567, 117.00595622072436, 161.94997371808066, 221.00010831932275, 209.47917899282905, 721.0146284647567, 219.16822391406123, 139.02200779078385, 219.16822391406123, 139.02200779078385, 219.16822391406123, 139.02200779078385, 277.005790063997, 277.005790063997, 117.00595622072436, 161.94997371808066, 277.005790063997, 221.00010831932275, 117.00595622072436, 139.02200779078385, 209.47917899282905, 117.00595622072436, 221.00010831932275, 721.0146284647567, 219.16822391406123, 161.94997371808066, 161.94997371808066, 154.19319497575344, 252.3729165024604, 209.47917899282905, 277.005790063997, 721.0146284647567, 221.00010831932275, 117.00595622072436, 161.94997371808066, 209.47917899282905, 721.0146284647567, 221.00010831932275, 209.47917899282905, 721.0146284647567], \"yaxis\": \"y\"}],\n",
       "                        {\"annotations\": [{\"showarrow\": false, \"text\": \"<b>a)</b>\", \"x\": -0.065, \"xref\": \"paper\", \"y\": 1.09, \"yref\": \"paper\"}, {\"showarrow\": false, \"text\": \"<b>b)</b>\", \"x\": -0.065, \"xref\": \"paper\", \"y\": 0.45, \"yref\": \"paper\"}], \"barmode\": \"group\", \"legend\": {\"orientation\": \"h\", \"title\": {\"text\": \"\"}, \"x\": 0.5, \"xanchor\": \"center\", \"y\": -0.15, \"yanchor\": \"top\"}, \"margin\": {\"b\": 0, \"l\": 0, \"r\": 0, \"t\": 30}, \"template\": {\"data\": {\"bar\": [{\"error_x\": {\"color\": \"#2a3f5f\"}, \"error_y\": {\"color\": \"#2a3f5f\"}, \"marker\": {\"line\": {\"color\": \"white\", \"width\": 0.5}}, \"type\": \"bar\"}], \"barpolar\": [{\"marker\": {\"line\": {\"color\": \"white\", \"width\": 0.5}}, \"type\": \"barpolar\"}], \"carpet\": [{\"aaxis\": {\"endlinecolor\": \"#2a3f5f\", \"gridcolor\": \"#C8D4E3\", \"linecolor\": \"#C8D4E3\", \"minorgridcolor\": \"#C8D4E3\", \"startlinecolor\": \"#2a3f5f\"}, \"baxis\": {\"endlinecolor\": \"#2a3f5f\", \"gridcolor\": \"#C8D4E3\", \"linecolor\": \"#C8D4E3\", \"minorgridcolor\": \"#C8D4E3\", \"startlinecolor\": \"#2a3f5f\"}, \"type\": \"carpet\"}], \"choropleth\": [{\"colorbar\": {\"outlinewidth\": 0, \"ticks\": \"\"}, \"type\": \"choropleth\"}], \"contour\": [{\"colorbar\": {\"outlinewidth\": 0, \"ticks\": \"\"}, \"colorscale\": [[0.0, \"#0d0887\"], [0.1111111111111111, \"#46039f\"], [0.2222222222222222, \"#7201a8\"], [0.3333333333333333, \"#9c179e\"], [0.4444444444444444, \"#bd3786\"], [0.5555555555555556, \"#d8576b\"], [0.6666666666666666, \"#ed7953\"], [0.7777777777777778, \"#fb9f3a\"], [0.8888888888888888, \"#fdca26\"], [1.0, \"#f0f921\"]], \"type\": \"contour\"}], \"contourcarpet\": [{\"colorbar\": {\"outlinewidth\": 0, \"ticks\": \"\"}, \"type\": \"contourcarpet\"}], \"heatmap\": [{\"colorbar\": {\"outlinewidth\": 0, \"ticks\": \"\"}, \"colorscale\": [[0.0, \"#0d0887\"], [0.1111111111111111, \"#46039f\"], [0.2222222222222222, \"#7201a8\"], [0.3333333333333333, \"#9c179e\"], [0.4444444444444444, \"#bd3786\"], [0.5555555555555556, \"#d8576b\"], [0.6666666666666666, \"#ed7953\"], [0.7777777777777778, \"#fb9f3a\"], [0.8888888888888888, \"#fdca26\"], [1.0, \"#f0f921\"]], \"type\": \"heatmap\"}], \"heatmapgl\": [{\"colorbar\": {\"outlinewidth\": 0, \"ticks\": \"\"}, \"colorscale\": [[0.0, \"#0d0887\"], [0.1111111111111111, \"#46039f\"], [0.2222222222222222, \"#7201a8\"], [0.3333333333333333, \"#9c179e\"], [0.4444444444444444, \"#bd3786\"], [0.5555555555555556, \"#d8576b\"], [0.6666666666666666, \"#ed7953\"], [0.7777777777777778, \"#fb9f3a\"], [0.8888888888888888, \"#fdca26\"], [1.0, \"#f0f921\"]], \"type\": \"heatmapgl\"}], \"histogram\": [{\"marker\": {\"colorbar\": {\"outlinewidth\": 0, \"ticks\": \"\"}}, \"type\": \"histogram\"}], \"histogram2d\": [{\"colorbar\": {\"outlinewidth\": 0, \"ticks\": \"\"}, \"colorscale\": [[0.0, \"#0d0887\"], [0.1111111111111111, \"#46039f\"], [0.2222222222222222, \"#7201a8\"], [0.3333333333333333, \"#9c179e\"], [0.4444444444444444, \"#bd3786\"], [0.5555555555555556, \"#d8576b\"], [0.6666666666666666, \"#ed7953\"], [0.7777777777777778, \"#fb9f3a\"], [0.8888888888888888, \"#fdca26\"], [1.0, \"#f0f921\"]], \"type\": \"histogram2d\"}], \"histogram2dcontour\": [{\"colorbar\": {\"outlinewidth\": 0, \"ticks\": \"\"}, \"colorscale\": [[0.0, \"#0d0887\"], [0.1111111111111111, \"#46039f\"], [0.2222222222222222, \"#7201a8\"], [0.3333333333333333, \"#9c179e\"], [0.4444444444444444, \"#bd3786\"], [0.5555555555555556, \"#d8576b\"], [0.6666666666666666, \"#ed7953\"], [0.7777777777777778, \"#fb9f3a\"], [0.8888888888888888, \"#fdca26\"], [1.0, \"#f0f921\"]], \"type\": \"histogram2dcontour\"}], \"mesh3d\": [{\"colorbar\": {\"outlinewidth\": 0, \"ticks\": \"\"}, \"type\": \"mesh3d\"}], \"parcoords\": [{\"line\": {\"colorbar\": {\"outlinewidth\": 0, \"ticks\": \"\"}}, \"type\": \"parcoords\"}], \"pie\": [{\"automargin\": true, \"type\": \"pie\"}], \"scatter\": [{\"marker\": {\"colorbar\": {\"outlinewidth\": 0, \"ticks\": \"\"}}, \"type\": \"scatter\"}], \"scatter3d\": [{\"line\": {\"colorbar\": {\"outlinewidth\": 0, \"ticks\": \"\"}}, \"marker\": {\"colorbar\": {\"outlinewidth\": 0, \"ticks\": \"\"}}, \"type\": \"scatter3d\"}], \"scattercarpet\": [{\"marker\": {\"colorbar\": {\"outlinewidth\": 0, \"ticks\": \"\"}}, \"type\": \"scattercarpet\"}], \"scattergeo\": [{\"marker\": {\"colorbar\": {\"outlinewidth\": 0, \"ticks\": \"\"}}, \"type\": \"scattergeo\"}], \"scattergl\": [{\"marker\": {\"colorbar\": {\"outlinewidth\": 0, \"ticks\": \"\"}}, \"type\": \"scattergl\"}], \"scattermapbox\": [{\"marker\": {\"colorbar\": {\"outlinewidth\": 0, \"ticks\": \"\"}}, \"type\": \"scattermapbox\"}], \"scatterpolar\": [{\"marker\": {\"colorbar\": {\"outlinewidth\": 0, \"ticks\": \"\"}}, \"type\": \"scatterpolar\"}], \"scatterpolargl\": [{\"marker\": {\"colorbar\": {\"outlinewidth\": 0, \"ticks\": \"\"}}, \"type\": \"scatterpolargl\"}], \"scatterternary\": [{\"marker\": {\"colorbar\": {\"outlinewidth\": 0, \"ticks\": \"\"}}, \"type\": \"scatterternary\"}], \"surface\": [{\"colorbar\": {\"outlinewidth\": 0, \"ticks\": \"\"}, \"colorscale\": [[0.0, \"#0d0887\"], [0.1111111111111111, \"#46039f\"], [0.2222222222222222, \"#7201a8\"], [0.3333333333333333, \"#9c179e\"], [0.4444444444444444, \"#bd3786\"], [0.5555555555555556, \"#d8576b\"], [0.6666666666666666, \"#ed7953\"], [0.7777777777777778, \"#fb9f3a\"], [0.8888888888888888, \"#fdca26\"], [1.0, \"#f0f921\"]], \"type\": \"surface\"}], \"table\": [{\"cells\": {\"fill\": {\"color\": \"#EBF0F8\"}, \"line\": {\"color\": \"white\"}}, \"header\": {\"fill\": {\"color\": \"#C8D4E3\"}, \"line\": {\"color\": \"white\"}}, \"type\": \"table\"}]}, \"layout\": {\"annotationdefaults\": {\"arrowcolor\": \"#2a3f5f\", \"arrowhead\": 0, \"arrowwidth\": 1}, \"coloraxis\": {\"colorbar\": {\"outlinewidth\": 0, \"ticks\": \"\"}}, \"colorscale\": {\"diverging\": [[0, \"#8e0152\"], [0.1, \"#c51b7d\"], [0.2, \"#de77ae\"], [0.3, \"#f1b6da\"], [0.4, \"#fde0ef\"], [0.5, \"#f7f7f7\"], [0.6, \"#e6f5d0\"], [0.7, \"#b8e186\"], [0.8, \"#7fbc41\"], [0.9, \"#4d9221\"], [1, \"#276419\"]], \"sequential\": [[0.0, \"#0d0887\"], [0.1111111111111111, \"#46039f\"], [0.2222222222222222, \"#7201a8\"], [0.3333333333333333, \"#9c179e\"], [0.4444444444444444, \"#bd3786\"], [0.5555555555555556, \"#d8576b\"], [0.6666666666666666, \"#ed7953\"], [0.7777777777777778, \"#fb9f3a\"], [0.8888888888888888, \"#fdca26\"], [1.0, \"#f0f921\"]], \"sequentialminus\": [[0.0, \"#0d0887\"], [0.1111111111111111, \"#46039f\"], [0.2222222222222222, \"#7201a8\"], [0.3333333333333333, \"#9c179e\"], [0.4444444444444444, \"#bd3786\"], [0.5555555555555556, \"#d8576b\"], [0.6666666666666666, \"#ed7953\"], [0.7777777777777778, \"#fb9f3a\"], [0.8888888888888888, \"#fdca26\"], [1.0, \"#f0f921\"]]}, \"colorway\": [\"#636efa\", \"#EF553B\", \"#00cc96\", \"#ab63fa\", \"#FFA15A\", \"#19d3f3\", \"#FF6692\", \"#B6E880\", \"#FF97FF\", \"#FECB52\"], \"font\": {\"color\": \"#2a3f5f\"}, \"geo\": {\"bgcolor\": \"white\", \"lakecolor\": \"white\", \"landcolor\": \"white\", \"showlakes\": true, \"showland\": true, \"subunitcolor\": \"#C8D4E3\"}, \"hoverlabel\": {\"align\": \"left\"}, \"hovermode\": \"closest\", \"mapbox\": {\"style\": \"light\"}, \"paper_bgcolor\": \"white\", \"plot_bgcolor\": \"white\", \"polar\": {\"angularaxis\": {\"gridcolor\": \"#EBF0F8\", \"linecolor\": \"#EBF0F8\", \"ticks\": \"\"}, \"bgcolor\": \"white\", \"radialaxis\": {\"gridcolor\": \"#EBF0F8\", \"linecolor\": \"#EBF0F8\", \"ticks\": \"\"}}, \"scene\": {\"xaxis\": {\"backgroundcolor\": \"white\", \"gridcolor\": \"#DFE8F3\", \"gridwidth\": 2, \"linecolor\": \"#EBF0F8\", \"showbackground\": true, \"ticks\": \"\", \"zerolinecolor\": \"#EBF0F8\"}, \"yaxis\": {\"backgroundcolor\": \"white\", \"gridcolor\": \"#DFE8F3\", \"gridwidth\": 2, \"linecolor\": \"#EBF0F8\", \"showbackground\": true, \"ticks\": \"\", \"zerolinecolor\": \"#EBF0F8\"}, \"zaxis\": {\"backgroundcolor\": \"white\", \"gridcolor\": \"#DFE8F3\", \"gridwidth\": 2, \"linecolor\": \"#EBF0F8\", \"showbackground\": true, \"ticks\": \"\", \"zerolinecolor\": \"#EBF0F8\"}}, \"shapedefaults\": {\"line\": {\"color\": \"#2a3f5f\"}}, \"ternary\": {\"aaxis\": {\"gridcolor\": \"#DFE8F3\", \"linecolor\": \"#A2B1C6\", \"ticks\": \"\"}, \"baxis\": {\"gridcolor\": \"#DFE8F3\", \"linecolor\": \"#A2B1C6\", \"ticks\": \"\"}, \"bgcolor\": \"white\", \"caxis\": {\"gridcolor\": \"#DFE8F3\", \"linecolor\": \"#A2B1C6\", \"ticks\": \"\"}}, \"title\": {\"x\": 0.05}, \"xaxis\": {\"automargin\": true, \"gridcolor\": \"#EBF0F8\", \"linecolor\": \"#EBF0F8\", \"ticks\": \"\", \"title\": {\"standoff\": 15}, \"zerolinecolor\": \"#EBF0F8\", \"zerolinewidth\": 2}, \"yaxis\": {\"automargin\": true, \"gridcolor\": \"#EBF0F8\", \"linecolor\": \"#EBF0F8\", \"ticks\": \"\", \"title\": {\"standoff\": 15}, \"zerolinecolor\": \"#EBF0F8\", \"zerolinewidth\": 2}}}, \"width\": 900, \"xaxis\": {\"anchor\": \"y\", \"domain\": [0.0, 1.0], \"matches\": \"x2\", \"showticklabels\": false, \"type\": \"category\"}, \"xaxis2\": {\"anchor\": \"y2\", \"categoryarray\": [7.0, 15.0, 8.0, 25.0, 13.0, 30.0, 31.0, 3.0, 14.0, 26.0], \"categoryorder\": \"array\", \"domain\": [0.0, 1.0], \"showticklabels\": true, \"title\": {\"text\": \"Cluster\"}, \"type\": \"category\"}, \"yaxis\": {\"anchor\": \"x\", \"domain\": [0.515, 1.0], \"title\": {\"text\": \"Water extractions (Mm<sup>3</sup>)\"}, \"type\": \"log\"}, \"yaxis2\": {\"anchor\": \"x2\", \"domain\": [0.0, 0.485], \"title\": {\"text\": \"LCOW ($/m<sup>3</sup>)\"}}},\n",
       "                        {\"responsive\": true}\n",
       "                    ).then(function(){\n",
       "                            \n",
       "var gd = document.getElementById('9bbefcdb-ff0b-4b21-b545-c1f2ebba67ea');\n",
       "var x = new MutationObserver(function (mutations, observer) {{\n",
       "        var display = window.getComputedStyle(gd).display;\n",
       "        if (!display || display === 'none') {{\n",
       "            console.log([gd, 'removed!']);\n",
       "            Plotly.purge(gd);\n",
       "            observer.disconnect();\n",
       "        }}\n",
       "}});\n",
       "\n",
       "// Listen for the removal of the full notebook cells\n",
       "var notebookContainer = gd.closest('#notebook-container');\n",
       "if (notebookContainer) {{\n",
       "    x.observe(notebookContainer, {childList: true});\n",
       "}}\n",
       "\n",
       "// Listen for the clearing of the current output cell\n",
       "var outputEl = gd.closest('.output');\n",
       "if (outputEl) {{\n",
       "    x.observe(outputEl, {childList: true});\n",
       "}}\n",
       "\n",
       "                        })\n",
       "                };\n",
       "                });\n",
       "            </script>\n",
       "        </div>"
      ]
     },
     "metadata": {},
     "output_type": "display_data"
    }
   ],
   "source": [
    "from plotly.subplots import make_subplots\n",
    "\n",
    "dff_melt = dff_sorted.melt(id_vars=['Cluster', 'PopulationWater', \n",
    "                             'FinalIrrigationWater', 'total_extractions', 'cat_order'])\n",
    "\n",
    "dff_melt['variable'] = [' '.join(re.findall('[A-Z][^A-Z]*', s.replace('LCOW', ''))).capitalize() for s in dff_melt['variable']]\n",
    "dff_melt.sort_values('value', ascending=False, inplace=True)\n",
    "dff_melt['FinalIrrigationWater'] /= 1000000\n",
    "dff_melt['PopulationWater'] /= 1000000\n",
    "\n",
    "# fig = make_subplots(specs=[[{\"secondary_y\": True}]])\n",
    "fig = make_subplots(rows=2, cols=1, shared_xaxes=True, vertical_spacing=0.03)\n",
    "\n",
    "data = px.bar(dff_melt.sort_values('value'), y='value', x='Cluster', color='variable',\n",
    "           color_discrete_sequence=px.colors.qualitative.T10).data\n",
    "for trace in data:\n",
    "    fig.add_trace(\n",
    "        trace, \n",
    "        row=2, col=1\n",
    "    )\n",
    "\n",
    "\n",
    "fig.add_trace(\n",
    "    px.scatter(dff_melt, y='PopulationWater', x='Cluster', color=['Population water extractions']*len(dff_melt),\n",
    "              color_discrete_sequence=[px.colors.qualitative.T10[9]],\n",
    "              ).data[0],\n",
    "#     secondary_y=True,\n",
    "    row=1, col=1, \n",
    ")\n",
    "\n",
    "fig.add_trace(\n",
    "    px.scatter(dff_melt, y='FinalIrrigationWater', x='Cluster', color=['Irrigation water extractions']*len(dff_melt),\n",
    "              color_discrete_sequence=['LightSkyBlue']\n",
    "              ).data[0],\n",
    "    row=1, col=1\n",
    "#     secondary_y=True,\n",
    ")\n",
    "\n",
    "fig.update_xaxes(type='category')\n",
    "fig.update_layout(width=900, template='plotly_white', barmode='group',\n",
    "                  legend=dict(\n",
    "                            title='',\n",
    "                            orientation=\"h\",\n",
    "                            yanchor=\"top\",\n",
    "                            y=-0.15,\n",
    "                            xanchor=\"center\",\n",
    "                            x=0.5\n",
    "                ),\n",
    "                 margin=dict(b=0, l=0, r=0, t=30))\n",
    "\n",
    "fig.update_traces(marker=dict(size=10,\n",
    "#                               symbol='octagon',\n",
    "#                               line=dict(width=1,\n",
    "#                                         color='DarkSlateGrey')\n",
    "                             ),\n",
    "                  selector=dict(mode='markers'))\n",
    "fig.update_xaxes(title='Cluster', showticklabels=True, categoryorder='array', \n",
    "                 categoryarray=dff['cat_order'].loc[dff['cat_order'].isin(dff_melt['Cluster'])],\n",
    "                 col=1, row=2)\n",
    "                         \n",
    "fig.update_yaxes(title_text=\"Water extractions (Mm<sup>3</sup>)\", type='log', col=1, row=1)\n",
    "fig.update_yaxes(title_text=\"LCOW ($/m<sup>3</sup>)\", col=1, row=2)\n",
    "\n",
    "fig.add_annotation(text=\"<b>a)</b>\",\n",
    "                  xref=\"paper\", yref=\"paper\",\n",
    "                  x=-0.065, y=1.09, showarrow=False)\n",
    "\n",
    "fig.add_annotation(text=\"<b>b)</b>\",\n",
    "                  xref=\"paper\", yref=\"paper\",\n",
    "                  x=-0.065, y=0.45, showarrow=False)\n",
    "\n",
    "fig.show()\n",
    "# fig.write_image('../LCOW_largest_clusters.pdf')"
   ]
  },
  {
   "cell_type": "code",
   "execution_count": 7,
   "metadata": {},
   "outputs": [
    {
     "data": {
      "application/vnd.plotly.v1+json": {
       "config": {
        "plotlyServerURL": "https://plot.ly"
       },
       "data": [
        {
         "hovertemplate": "variable=Extended aeration<br>PopulationReclaimedWater=%{x}<br>value=%{y}<br>Cluster=%{text}<extra></extra>",
         "legendgroup": "Extended aeration",
         "marker": {
          "color": "#4C78A8",
          "symbol": "circle"
         },
         "mode": "lines+markers",
         "name": "Extended aeration",
         "opacity": 0.8,
         "orientation": "v",
         "showlegend": true,
         "text": [
          7,
          13,
          25,
          9,
          31,
          26,
          11,
          27,
          15,
          29,
          34,
          20,
          32,
          38,
          0,
          14,
          30,
          2,
          37,
          35,
          12,
          23,
          36,
          18,
          10,
          21,
          1,
          22,
          24,
          19,
          17,
          5,
          6,
          4,
          3,
          8,
          39,
          28
         ],
         "type": "scatter",
         "x": [
          16.279836563532943,
          15.949011560678912,
          14.097633605056728,
          14.005798994692432,
          12.03553170808292,
          11.33235786669439,
          9.882683472569662,
          9.255684011984894,
          8.159978457654471,
          7.53986200693321,
          6.52271669281637,
          5.716705297236679,
          5.469882593977969,
          5.433444683939155,
          5.1098373039390195,
          4.378107329262256,
          4.213242707808354,
          4.074631585506439,
          4.049699980880706,
          3.321892961117269,
          2.597698880820659,
          2.4591604911149627,
          2.331248396512883,
          2.31230492503404,
          2.0581863502073503,
          1.9256842278332273,
          1.5568486599418687,
          1.1083915053979745,
          0.9622352230026423,
          0.7655319202580353,
          0.595158973124137,
          0.5233510656149156,
          0.4549404459580853,
          0.38204147543799033,
          0.291645926664292,
          0.13911597635273706,
          0.06715434649603165,
          0.05221893720218775
         ],
         "xaxis": "x",
         "y": [
          0.04841283743575303,
          0.04892778805712809,
          0.05214092652368404,
          0.052316917857311275,
          0.05657161041293024,
          0.0583561624186188,
          0.06262740149509992,
          0.06478279902383141,
          0.06913795927841108,
          0.07201914812628858,
          0.07761929141398782,
          0.08309669200592039,
          0.08501506797350074,
          0.08530944537443083,
          0.08806240546977101,
          0.09539352323342096,
          0.09730755794652692,
          0.09900716025114593,
          0.09932221618836103,
          0.11005201057279955,
          0.1250079844832252,
          0.12861072171049429,
          0.13222260014434384,
          0.13278321331520596,
          0.14104792902919885,
          0.1460023867526781,
          0.16303700833271276,
          0.19450681836153286,
          0.2093434493200167,
          0.2357858576771701,
          0.26879708754985004,
          0.28741255525718395,
          0.3091738135598442,
          0.33863799633647174,
          0.3898458219723799,
          0.5738655355638868,
          0.8401591947101437,
          0.9585538831787008
         ],
         "yaxis": "y"
        },
        {
         "hovertemplate": "variable=Rotating biological contractors<br>PopulationReclaimedWater=%{x}<br>value=%{y}<br>Cluster=%{text}<extra></extra>",
         "legendgroup": "Rotating biological contractors",
         "marker": {
          "color": "#F58518",
          "symbol": "circle"
         },
         "mode": "lines+markers",
         "name": "Rotating biological contractors",
         "opacity": 0.8,
         "orientation": "v",
         "showlegend": true,
         "text": [
          7,
          13,
          25,
          9,
          31,
          26,
          11,
          27,
          15,
          29,
          34,
          20,
          32,
          38,
          0,
          14,
          30,
          2,
          37,
          35,
          12,
          23,
          36,
          18,
          10,
          21,
          1,
          22,
          24,
          19,
          17,
          5,
          6,
          4,
          3,
          8,
          39,
          28
         ],
         "type": "scatter",
         "x": [
          16.279836563532943,
          15.949011560678912,
          14.097633605056728,
          14.005798994692432,
          12.03553170808292,
          11.33235786669439,
          9.882683472569662,
          9.255684011984894,
          8.159978457654471,
          7.53986200693321,
          6.52271669281637,
          5.716705297236679,
          5.469882593977969,
          5.433444683939155,
          5.1098373039390195,
          4.378107329262256,
          4.213242707808354,
          4.074631585506439,
          4.049699980880706,
          3.321892961117269,
          2.597698880820659,
          2.4591604911149627,
          2.331248396512883,
          2.31230492503404,
          2.0581863502073503,
          1.9256842278332273,
          1.5568486599418687,
          1.1083915053979745,
          0.9622352230026423,
          0.7655319202580353,
          0.595158973124137,
          0.5233510656149156,
          0.4549404459580853,
          0.38204147543799033,
          0.291645926664292,
          0.13911597635273706,
          0.06715434649603165,
          0.05221893720218775
         ],
         "xaxis": "x",
         "y": [
          0.055227902194712096,
          0.05568130079050348,
          0.05848605222289637,
          0.058638501809395886,
          0.06228910533888156,
          0.06380119916425979,
          0.06737775155094955,
          0.06916101535419995,
          0.07272303197792668,
          0.0750508825321153,
          0.07951492637857886,
          0.08380934768160918,
          0.08529770799184105,
          0.08552540528357853,
          0.08764606199117898,
          0.09322004741947874,
          0.09465869074357193,
          0.0959306544756633,
          0.09616587911958666,
          0.10407754379718902,
          0.11481314338603776,
          0.11735340726660144,
          0.11988352621866519,
          0.12027478231055447,
          0.1259991611620294,
          0.12939314694623594,
          0.14086478794086327,
          0.16135294362292055,
          0.17073827777613151,
          0.18709042040139912,
          0.2069150717722943,
          0.2178405536375899,
          0.23040434496505838,
          0.2470904875372261,
          0.2753065051349676,
          0.37039681175636924,
          0.4961187775319615,
          0.5488509133779703
         ],
         "yaxis": "y"
        },
        {
         "hovertemplate": "variable=Sequencing batch reactor<br>PopulationReclaimedWater=%{x}<br>value=%{y}<br>Cluster=%{text}<extra></extra>",
         "legendgroup": "Sequencing batch reactor",
         "marker": {
          "color": "#72B7B2",
          "symbol": "circle"
         },
         "mode": "lines+markers",
         "name": "Sequencing batch reactor",
         "opacity": 0.8,
         "orientation": "v",
         "showlegend": true,
         "text": [
          7,
          13,
          25,
          9,
          31,
          26,
          11,
          27,
          15,
          29,
          34,
          20,
          32,
          38,
          0,
          14,
          30,
          2,
          37,
          35,
          12,
          23,
          36,
          18,
          10,
          21,
          1,
          22,
          24,
          19,
          17,
          5,
          6,
          4,
          3,
          8,
          39,
          28
         ],
         "type": "scatter",
         "x": [
          16.279836563532943,
          15.949011560678912,
          14.097633605056728,
          14.005798994692432,
          12.03553170808292,
          11.33235786669439,
          9.882683472569662,
          9.255684011984894,
          8.159978457654471,
          7.53986200693321,
          6.52271669281637,
          5.716705297236679,
          5.469882593977969,
          5.433444683939155,
          5.1098373039390195,
          4.378107329262256,
          4.213242707808354,
          4.074631585506439,
          4.049699980880706,
          3.321892961117269,
          2.597698880820659,
          2.4591604911149627,
          2.331248396512883,
          2.31230492503404,
          2.0581863502073503,
          1.9256842278332273,
          1.5568486599418687,
          1.1083915053979745,
          0.9622352230026423,
          0.7655319202580353,
          0.595158973124137,
          0.5233510656149156,
          0.4549404459580853,
          0.38204147543799033,
          0.291645926664292,
          0.13911597635273706,
          0.06715434649603165,
          0.05221893720218775
         ],
         "xaxis": "x",
         "y": [
          0.06252640629665432,
          0.06304064341462565,
          0.06622162641585143,
          0.06639451965921771,
          0.07053447782203126,
          0.07224915080829915,
          0.07630458702472287,
          0.07832647237762794,
          0.08236482208641792,
          0.08500374068851467,
          0.09006379983544845,
          0.09493094489152946,
          0.09661765028393396,
          0.09687568463301446,
          0.09927879790017077,
          0.10559444226797014,
          0.10722432850444268,
          0.10866531658175609,
          0.10893179263216679,
          0.11789343200012956,
          0.13005019956476596,
          0.13292613976934273,
          0.13579036661567215,
          0.1362332686871828,
          0.14271264928054891,
          0.1465537307895277,
          0.15953357562602777,
          0.1827041424481692,
          0.19331356322974716,
          0.2117916048402105,
          0.2341822924686097,
          0.24651679130163734,
          0.2606964946941918,
          0.2795216724103254,
          0.3113370311715564,
          0.4184060383747061,
          0.559650261204829,
          0.6187988295126116
         ],
         "yaxis": "y"
        },
        {
         "hovertemplate": "variable=Membrane  bioreactor<br>PopulationReclaimedWater=%{x}<br>value=%{y}<br>Cluster=%{text}<extra></extra>",
         "legendgroup": "Membrane  bioreactor",
         "marker": {
          "color": "#54A24B",
          "symbol": "circle"
         },
         "mode": "lines+markers",
         "name": "Membrane  bioreactor",
         "opacity": 0.8,
         "orientation": "v",
         "showlegend": true,
         "text": [
          7,
          13,
          25,
          9,
          31,
          26,
          11,
          27,
          15,
          29,
          34,
          20,
          32,
          38,
          0,
          14,
          30,
          2,
          37,
          35,
          12,
          23,
          36,
          18,
          10,
          21,
          1,
          22,
          24,
          19,
          17,
          5,
          6,
          4,
          3,
          8,
          39,
          28
         ],
         "type": "scatter",
         "x": [
          16.279836563532943,
          15.949011560678912,
          14.097633605056728,
          14.005798994692432,
          12.03553170808292,
          11.33235786669439,
          9.882683472569662,
          9.255684011984894,
          8.159978457654471,
          7.53986200693321,
          6.52271669281637,
          5.716705297236679,
          5.469882593977969,
          5.433444683939155,
          5.1098373039390195,
          4.378107329262256,
          4.213242707808354,
          4.074631585506439,
          4.049699980880706,
          3.321892961117269,
          2.597698880820659,
          2.4591604911149627,
          2.331248396512883,
          2.31230492503404,
          2.0581863502073503,
          1.9256842278332273,
          1.5568486599418687,
          1.1083915053979745,
          0.9622352230026423,
          0.7655319202580353,
          0.595158973124137,
          0.5233510656149156,
          0.4549404459580853,
          0.38204147543799033,
          0.291645926664292,
          0.13911597635273706,
          0.06715434649603165,
          0.05221893720218775
         ],
         "xaxis": "x",
         "y": [
          0.11510459294704085,
          0.11584768508648179,
          0.12041697037765701,
          0.12066400427299094,
          0.12654057044579858,
          0.12895351496940602,
          0.13461425318342587,
          0.13741324298427915,
          0.14295986533241667,
          0.14655418674804804,
          0.1533831721111628,
          0.159878075930499,
          0.16211287289773518,
          0.16245404968931482,
          0.16562265706415313,
          0.17387687346035885,
          0.17599053014608534,
          0.1778537812191406,
          0.17819779237575595,
          0.18967044999774735,
          0.2049555371119283,
          0.20852838712007568,
          0.21207118792528865,
          0.21261766484122824,
          0.22057199776793093,
          0.22525295362297476,
          0.2408928921499366,
          0.2681959516818189,
          0.28046218372767107,
          0.30151132557901367,
          0.3265342261969106,
          0.3401138718899409,
          0.35555974628024895,
          0.3758119764876775,
          0.409441131855603,
          0.5180961937402201,
          0.6534719700936293,
          0.7081146810016841
         ],
         "yaxis": "y"
        },
        {
         "hovertemplate": "variable=Intermittent sand filter<br>PopulationReclaimedWater=%{x}<br>value=%{y}<br>Cluster=%{text}<extra></extra>",
         "legendgroup": "Intermittent sand filter",
         "marker": {
          "color": "#EECA3B",
          "symbol": "circle"
         },
         "mode": "lines+markers",
         "name": "Intermittent sand filter",
         "opacity": 0.8,
         "orientation": "v",
         "showlegend": true,
         "text": [
          7,
          13,
          25,
          9,
          31,
          26,
          11,
          27,
          15,
          29,
          34,
          20,
          32,
          38,
          0,
          14,
          30,
          2,
          37,
          35,
          12,
          23,
          36,
          18,
          10,
          21,
          1,
          22,
          24,
          19,
          17,
          5,
          6,
          4,
          3,
          8,
          39,
          28,
          16,
          33
         ],
         "type": "scatter",
         "x": [
          16.279836563532943,
          15.949011560678912,
          14.097633605056728,
          14.005798994692432,
          12.03553170808292,
          11.33235786669439,
          9.882683472569662,
          9.255684011984894,
          8.159978457654471,
          7.53986200693321,
          6.52271669281637,
          5.716705297236679,
          5.469882593977969,
          5.433444683939155,
          5.1098373039390195,
          4.378107329262256,
          4.213242707808354,
          4.074631585506439,
          4.049699980880706,
          3.321892961117269,
          2.597698880820659,
          2.4591604911149627,
          2.331248396512883,
          2.31230492503404,
          2.0581863502073503,
          1.9256842278332273,
          1.5568486599418687,
          1.1083915053979745,
          0.9622352230026423,
          0.7655319202580353,
          0.595158973124137,
          0.5233510656149156,
          0.4549404459580853,
          0.38204147543799033,
          0.291645926664292,
          0.13911597635273706,
          0.06715434649603165,
          0.05221893720218775,
          0.00497845051461421,
          0.0047929331920743105
         ],
         "xaxis": "x",
         "y": [
          0.1335195022075538,
          0.13360382113882002,
          0.1341264782644203,
          0.13415493935059783,
          0.13483812553660482,
          0.13512204414567877,
          0.1357958390469918,
          0.13613299062761983,
          0.13680888064632177,
          0.1372523773332398,
          0.1381069057880199,
          0.13893410922059105,
          0.13922200395399464,
          0.1392661028857209,
          0.1396775275502286,
          0.14076513172799932,
          0.1410473267634094,
          0.1412973421365252,
          0.1413436308046138,
          0.14291036771996363,
          0.14506785774518252,
          0.1455838552089804,
          0.14609993011493805,
          0.1461799276316522,
          0.1473563053378565,
          0.14805911063676994,
          0.1504647638311957,
          0.15488219164852485,
          0.15696000470806976,
          0.16066555760947598,
          0.1653097521041997,
          0.16794319359152013,
          0.17103879666230762,
          0.1752647125757028,
          0.18272013959995473,
          0.210959645186458,
          0.25661141899833007,
          0.27889315147910554,
          0.9859833254845084,
          1.0135782846471744
         ],
         "yaxis": "y"
        },
        {
         "hovertemplate": "variable=Trickling filter<br>PopulationReclaimedWater=%{x}<br>value=%{y}<br>Cluster=%{text}<extra></extra>",
         "legendgroup": "Trickling filter",
         "marker": {
          "color": "#B279A2",
          "symbol": "circle"
         },
         "mode": "lines+markers",
         "name": "Trickling filter",
         "opacity": 0.8,
         "orientation": "v",
         "showlegend": true,
         "text": [
          7,
          13,
          25,
          9,
          31,
          26,
          11,
          27,
          15,
          29,
          34,
          20,
          32,
          38,
          0,
          14,
          30,
          2,
          37,
          35,
          12,
          23,
          36,
          18,
          10,
          21,
          1,
          22,
          24,
          19,
          17,
          5,
          6,
          4,
          3,
          8,
          39,
          28
         ],
         "type": "scatter",
         "x": [
          16.279836563532943,
          15.949011560678912,
          14.097633605056728,
          14.005798994692432,
          12.03553170808292,
          11.33235786669439,
          9.882683472569662,
          9.255684011984894,
          8.159978457654471,
          7.53986200693321,
          6.52271669281637,
          5.716705297236679,
          5.469882593977969,
          5.433444683939155,
          5.1098373039390195,
          4.378107329262256,
          4.213242707808354,
          4.074631585506439,
          4.049699980880706,
          3.321892961117269,
          2.597698880820659,
          2.4591604911149627,
          2.331248396512883,
          2.31230492503404,
          2.0581863502073503,
          1.9256842278332273,
          1.5568486599418687,
          1.1083915053979745,
          0.9622352230026423,
          0.7655319202580353,
          0.595158973124137,
          0.5233510656149156,
          0.4549404459580853,
          0.38204147543799033,
          0.291645926664292,
          0.13911597635273706,
          0.06715434649603165,
          0.05221893720218775
         ],
         "xaxis": "x",
         "y": [
          0.15809392108883466,
          0.158291851016753,
          0.15952562155939887,
          0.1595931389703195,
          0.16122372606163457,
          0.16190676066190798,
          0.16353973250066828,
          0.1643629047222532,
          0.16602466702813148,
          0.1671230495467951,
          0.1692561872815617,
          0.17134082156235864,
          0.17207062635271586,
          0.1721826043759415,
          0.17322967270740192,
          0.1760172216534258,
          0.17674490471401044,
          0.1773910553948924,
          0.1775108325854939,
          0.18159056616530983,
          0.18728178886487923,
          0.1886540480308199,
          0.19003042540580853,
          0.1902441188865314,
          0.19339651532131413,
          0.19528830202289524,
          0.20180604676578684,
          0.21391174395148116,
          0.21965272922603776,
          0.22994439955385812,
          0.24290923783280116,
          0.2502809976583159,
          0.25895653272499763,
          0.27080602683406385,
          0.29169287365667956,
          0.3700068467332794,
          0.4928450436423226,
          0.5511680079347384
         ],
         "yaxis": "y"
        },
        {
         "hovertemplate": "variable=Moving bed biofilm reactor<br>PopulationReclaimedWater=%{x}<br>value=%{y}<br>Cluster=%{text}<extra></extra>",
         "legendgroup": "Moving bed biofilm reactor",
         "marker": {
          "color": "#FF9DA6",
          "symbol": "circle"
         },
         "mode": "lines+markers",
         "name": "Moving bed biofilm reactor",
         "opacity": 0.8,
         "orientation": "v",
         "showlegend": true,
         "text": [
          7,
          13,
          25,
          9,
          31,
          26,
          11,
          27,
          15,
          29,
          34,
          20,
          32,
          38,
          0,
          14,
          30,
          2,
          37,
          35,
          12,
          23,
          36,
          18,
          10,
          21,
          1,
          22,
          24,
          19,
          17,
          5,
          6,
          4,
          3,
          8,
          39,
          28
         ],
         "type": "scatter",
         "x": [
          16.279836563532943,
          15.949011560678912,
          14.097633605056728,
          14.005798994692432,
          12.03553170808292,
          11.33235786669439,
          9.882683472569662,
          9.255684011984894,
          8.159978457654471,
          7.53986200693321,
          6.52271669281637,
          5.716705297236679,
          5.469882593977969,
          5.433444683939155,
          5.1098373039390195,
          4.378107329262256,
          4.213242707808354,
          4.074631585506439,
          4.049699980880706,
          3.321892961117269,
          2.597698880820659,
          2.4591604911149627,
          2.331248396512883,
          2.31230492503404,
          2.0581863502073503,
          1.9256842278332273,
          1.5568486599418687,
          1.1083915053979745,
          0.9622352230026423,
          0.7655319202580353,
          0.595158973124137,
          0.5233510656149156,
          0.4549404459580853,
          0.38204147543799033,
          0.291645926664292,
          0.13911597635273706,
          0.06715434649603165,
          0.05221893720218775
         ],
         "xaxis": "x",
         "y": [
          0.23105307427182992,
          0.23139666796572544,
          0.23348894294367437,
          0.2336010827049486,
          0.23624066907755656,
          0.23730952994030954,
          0.239785065757021,
          0.24099335686606638,
          0.24335891044814148,
          0.24487244700543448,
          0.24770901636896905,
          0.25036283811823995,
          0.25126674163799523,
          0.2514043375041694,
          0.252677308896228,
          0.2559538356438131,
          0.256784214622911,
          0.25751345806739306,
          0.2576478207226195,
          0.2620823275309991,
          0.2678672317796326,
          0.26920202482799616,
          0.27051981106657447,
          0.27072258827198914,
          0.2736602519222408,
          0.275377752266131,
          0.2810655747043931,
          0.2908631917244849,
          0.29523435621896615,
          0.3027253911573754,
          0.31166278697637045,
          0.316548568744094,
          0.3221513288448086,
          0.32959188805030093,
          0.3422533067608455,
          0.38704507389892034,
          0.45531837454551294,
          0.48809859325555766
         ],
         "yaxis": "y"
        }
       ],
       "layout": {
        "legend": {
         "orientation": "h",
         "title": {
          "text": ""
         },
         "tracegroupgap": 0,
         "x": 0.5,
         "xanchor": "center",
         "y": -0.15,
         "yanchor": "top"
        },
        "margin": {
         "b": 0,
         "l": 0,
         "r": 0,
         "t": 30
        },
        "template": {
         "data": {
          "bar": [
           {
            "error_x": {
             "color": "#2a3f5f"
            },
            "error_y": {
             "color": "#2a3f5f"
            },
            "marker": {
             "line": {
              "color": "white",
              "width": 0.5
             }
            },
            "type": "bar"
           }
          ],
          "barpolar": [
           {
            "marker": {
             "line": {
              "color": "white",
              "width": 0.5
             }
            },
            "type": "barpolar"
           }
          ],
          "carpet": [
           {
            "aaxis": {
             "endlinecolor": "#2a3f5f",
             "gridcolor": "#C8D4E3",
             "linecolor": "#C8D4E3",
             "minorgridcolor": "#C8D4E3",
             "startlinecolor": "#2a3f5f"
            },
            "baxis": {
             "endlinecolor": "#2a3f5f",
             "gridcolor": "#C8D4E3",
             "linecolor": "#C8D4E3",
             "minorgridcolor": "#C8D4E3",
             "startlinecolor": "#2a3f5f"
            },
            "type": "carpet"
           }
          ],
          "choropleth": [
           {
            "colorbar": {
             "outlinewidth": 0,
             "ticks": ""
            },
            "type": "choropleth"
           }
          ],
          "contour": [
           {
            "colorbar": {
             "outlinewidth": 0,
             "ticks": ""
            },
            "colorscale": [
             [
              0,
              "#0d0887"
             ],
             [
              0.1111111111111111,
              "#46039f"
             ],
             [
              0.2222222222222222,
              "#7201a8"
             ],
             [
              0.3333333333333333,
              "#9c179e"
             ],
             [
              0.4444444444444444,
              "#bd3786"
             ],
             [
              0.5555555555555556,
              "#d8576b"
             ],
             [
              0.6666666666666666,
              "#ed7953"
             ],
             [
              0.7777777777777778,
              "#fb9f3a"
             ],
             [
              0.8888888888888888,
              "#fdca26"
             ],
             [
              1,
              "#f0f921"
             ]
            ],
            "type": "contour"
           }
          ],
          "contourcarpet": [
           {
            "colorbar": {
             "outlinewidth": 0,
             "ticks": ""
            },
            "type": "contourcarpet"
           }
          ],
          "heatmap": [
           {
            "colorbar": {
             "outlinewidth": 0,
             "ticks": ""
            },
            "colorscale": [
             [
              0,
              "#0d0887"
             ],
             [
              0.1111111111111111,
              "#46039f"
             ],
             [
              0.2222222222222222,
              "#7201a8"
             ],
             [
              0.3333333333333333,
              "#9c179e"
             ],
             [
              0.4444444444444444,
              "#bd3786"
             ],
             [
              0.5555555555555556,
              "#d8576b"
             ],
             [
              0.6666666666666666,
              "#ed7953"
             ],
             [
              0.7777777777777778,
              "#fb9f3a"
             ],
             [
              0.8888888888888888,
              "#fdca26"
             ],
             [
              1,
              "#f0f921"
             ]
            ],
            "type": "heatmap"
           }
          ],
          "heatmapgl": [
           {
            "colorbar": {
             "outlinewidth": 0,
             "ticks": ""
            },
            "colorscale": [
             [
              0,
              "#0d0887"
             ],
             [
              0.1111111111111111,
              "#46039f"
             ],
             [
              0.2222222222222222,
              "#7201a8"
             ],
             [
              0.3333333333333333,
              "#9c179e"
             ],
             [
              0.4444444444444444,
              "#bd3786"
             ],
             [
              0.5555555555555556,
              "#d8576b"
             ],
             [
              0.6666666666666666,
              "#ed7953"
             ],
             [
              0.7777777777777778,
              "#fb9f3a"
             ],
             [
              0.8888888888888888,
              "#fdca26"
             ],
             [
              1,
              "#f0f921"
             ]
            ],
            "type": "heatmapgl"
           }
          ],
          "histogram": [
           {
            "marker": {
             "colorbar": {
              "outlinewidth": 0,
              "ticks": ""
             }
            },
            "type": "histogram"
           }
          ],
          "histogram2d": [
           {
            "colorbar": {
             "outlinewidth": 0,
             "ticks": ""
            },
            "colorscale": [
             [
              0,
              "#0d0887"
             ],
             [
              0.1111111111111111,
              "#46039f"
             ],
             [
              0.2222222222222222,
              "#7201a8"
             ],
             [
              0.3333333333333333,
              "#9c179e"
             ],
             [
              0.4444444444444444,
              "#bd3786"
             ],
             [
              0.5555555555555556,
              "#d8576b"
             ],
             [
              0.6666666666666666,
              "#ed7953"
             ],
             [
              0.7777777777777778,
              "#fb9f3a"
             ],
             [
              0.8888888888888888,
              "#fdca26"
             ],
             [
              1,
              "#f0f921"
             ]
            ],
            "type": "histogram2d"
           }
          ],
          "histogram2dcontour": [
           {
            "colorbar": {
             "outlinewidth": 0,
             "ticks": ""
            },
            "colorscale": [
             [
              0,
              "#0d0887"
             ],
             [
              0.1111111111111111,
              "#46039f"
             ],
             [
              0.2222222222222222,
              "#7201a8"
             ],
             [
              0.3333333333333333,
              "#9c179e"
             ],
             [
              0.4444444444444444,
              "#bd3786"
             ],
             [
              0.5555555555555556,
              "#d8576b"
             ],
             [
              0.6666666666666666,
              "#ed7953"
             ],
             [
              0.7777777777777778,
              "#fb9f3a"
             ],
             [
              0.8888888888888888,
              "#fdca26"
             ],
             [
              1,
              "#f0f921"
             ]
            ],
            "type": "histogram2dcontour"
           }
          ],
          "mesh3d": [
           {
            "colorbar": {
             "outlinewidth": 0,
             "ticks": ""
            },
            "type": "mesh3d"
           }
          ],
          "parcoords": [
           {
            "line": {
             "colorbar": {
              "outlinewidth": 0,
              "ticks": ""
             }
            },
            "type": "parcoords"
           }
          ],
          "pie": [
           {
            "automargin": true,
            "type": "pie"
           }
          ],
          "scatter": [
           {
            "marker": {
             "colorbar": {
              "outlinewidth": 0,
              "ticks": ""
             }
            },
            "type": "scatter"
           }
          ],
          "scatter3d": [
           {
            "line": {
             "colorbar": {
              "outlinewidth": 0,
              "ticks": ""
             }
            },
            "marker": {
             "colorbar": {
              "outlinewidth": 0,
              "ticks": ""
             }
            },
            "type": "scatter3d"
           }
          ],
          "scattercarpet": [
           {
            "marker": {
             "colorbar": {
              "outlinewidth": 0,
              "ticks": ""
             }
            },
            "type": "scattercarpet"
           }
          ],
          "scattergeo": [
           {
            "marker": {
             "colorbar": {
              "outlinewidth": 0,
              "ticks": ""
             }
            },
            "type": "scattergeo"
           }
          ],
          "scattergl": [
           {
            "marker": {
             "colorbar": {
              "outlinewidth": 0,
              "ticks": ""
             }
            },
            "type": "scattergl"
           }
          ],
          "scattermapbox": [
           {
            "marker": {
             "colorbar": {
              "outlinewidth": 0,
              "ticks": ""
             }
            },
            "type": "scattermapbox"
           }
          ],
          "scatterpolar": [
           {
            "marker": {
             "colorbar": {
              "outlinewidth": 0,
              "ticks": ""
             }
            },
            "type": "scatterpolar"
           }
          ],
          "scatterpolargl": [
           {
            "marker": {
             "colorbar": {
              "outlinewidth": 0,
              "ticks": ""
             }
            },
            "type": "scatterpolargl"
           }
          ],
          "scatterternary": [
           {
            "marker": {
             "colorbar": {
              "outlinewidth": 0,
              "ticks": ""
             }
            },
            "type": "scatterternary"
           }
          ],
          "surface": [
           {
            "colorbar": {
             "outlinewidth": 0,
             "ticks": ""
            },
            "colorscale": [
             [
              0,
              "#0d0887"
             ],
             [
              0.1111111111111111,
              "#46039f"
             ],
             [
              0.2222222222222222,
              "#7201a8"
             ],
             [
              0.3333333333333333,
              "#9c179e"
             ],
             [
              0.4444444444444444,
              "#bd3786"
             ],
             [
              0.5555555555555556,
              "#d8576b"
             ],
             [
              0.6666666666666666,
              "#ed7953"
             ],
             [
              0.7777777777777778,
              "#fb9f3a"
             ],
             [
              0.8888888888888888,
              "#fdca26"
             ],
             [
              1,
              "#f0f921"
             ]
            ],
            "type": "surface"
           }
          ],
          "table": [
           {
            "cells": {
             "fill": {
              "color": "#EBF0F8"
             },
             "line": {
              "color": "white"
             }
            },
            "header": {
             "fill": {
              "color": "#C8D4E3"
             },
             "line": {
              "color": "white"
             }
            },
            "type": "table"
           }
          ]
         },
         "layout": {
          "annotationdefaults": {
           "arrowcolor": "#2a3f5f",
           "arrowhead": 0,
           "arrowwidth": 1
          },
          "coloraxis": {
           "colorbar": {
            "outlinewidth": 0,
            "ticks": ""
           }
          },
          "colorscale": {
           "diverging": [
            [
             0,
             "#8e0152"
            ],
            [
             0.1,
             "#c51b7d"
            ],
            [
             0.2,
             "#de77ae"
            ],
            [
             0.3,
             "#f1b6da"
            ],
            [
             0.4,
             "#fde0ef"
            ],
            [
             0.5,
             "#f7f7f7"
            ],
            [
             0.6,
             "#e6f5d0"
            ],
            [
             0.7,
             "#b8e186"
            ],
            [
             0.8,
             "#7fbc41"
            ],
            [
             0.9,
             "#4d9221"
            ],
            [
             1,
             "#276419"
            ]
           ],
           "sequential": [
            [
             0,
             "#0d0887"
            ],
            [
             0.1111111111111111,
             "#46039f"
            ],
            [
             0.2222222222222222,
             "#7201a8"
            ],
            [
             0.3333333333333333,
             "#9c179e"
            ],
            [
             0.4444444444444444,
             "#bd3786"
            ],
            [
             0.5555555555555556,
             "#d8576b"
            ],
            [
             0.6666666666666666,
             "#ed7953"
            ],
            [
             0.7777777777777778,
             "#fb9f3a"
            ],
            [
             0.8888888888888888,
             "#fdca26"
            ],
            [
             1,
             "#f0f921"
            ]
           ],
           "sequentialminus": [
            [
             0,
             "#0d0887"
            ],
            [
             0.1111111111111111,
             "#46039f"
            ],
            [
             0.2222222222222222,
             "#7201a8"
            ],
            [
             0.3333333333333333,
             "#9c179e"
            ],
            [
             0.4444444444444444,
             "#bd3786"
            ],
            [
             0.5555555555555556,
             "#d8576b"
            ],
            [
             0.6666666666666666,
             "#ed7953"
            ],
            [
             0.7777777777777778,
             "#fb9f3a"
            ],
            [
             0.8888888888888888,
             "#fdca26"
            ],
            [
             1,
             "#f0f921"
            ]
           ]
          },
          "colorway": [
           "#636efa",
           "#EF553B",
           "#00cc96",
           "#ab63fa",
           "#FFA15A",
           "#19d3f3",
           "#FF6692",
           "#B6E880",
           "#FF97FF",
           "#FECB52"
          ],
          "font": {
           "color": "#2a3f5f"
          },
          "geo": {
           "bgcolor": "white",
           "lakecolor": "white",
           "landcolor": "white",
           "showlakes": true,
           "showland": true,
           "subunitcolor": "#C8D4E3"
          },
          "hoverlabel": {
           "align": "left"
          },
          "hovermode": "closest",
          "mapbox": {
           "style": "light"
          },
          "paper_bgcolor": "white",
          "plot_bgcolor": "white",
          "polar": {
           "angularaxis": {
            "gridcolor": "#EBF0F8",
            "linecolor": "#EBF0F8",
            "ticks": ""
           },
           "bgcolor": "white",
           "radialaxis": {
            "gridcolor": "#EBF0F8",
            "linecolor": "#EBF0F8",
            "ticks": ""
           }
          },
          "scene": {
           "xaxis": {
            "backgroundcolor": "white",
            "gridcolor": "#DFE8F3",
            "gridwidth": 2,
            "linecolor": "#EBF0F8",
            "showbackground": true,
            "ticks": "",
            "zerolinecolor": "#EBF0F8"
           },
           "yaxis": {
            "backgroundcolor": "white",
            "gridcolor": "#DFE8F3",
            "gridwidth": 2,
            "linecolor": "#EBF0F8",
            "showbackground": true,
            "ticks": "",
            "zerolinecolor": "#EBF0F8"
           },
           "zaxis": {
            "backgroundcolor": "white",
            "gridcolor": "#DFE8F3",
            "gridwidth": 2,
            "linecolor": "#EBF0F8",
            "showbackground": true,
            "ticks": "",
            "zerolinecolor": "#EBF0F8"
           }
          },
          "shapedefaults": {
           "line": {
            "color": "#2a3f5f"
           }
          },
          "ternary": {
           "aaxis": {
            "gridcolor": "#DFE8F3",
            "linecolor": "#A2B1C6",
            "ticks": ""
           },
           "baxis": {
            "gridcolor": "#DFE8F3",
            "linecolor": "#A2B1C6",
            "ticks": ""
           },
           "bgcolor": "white",
           "caxis": {
            "gridcolor": "#DFE8F3",
            "linecolor": "#A2B1C6",
            "ticks": ""
           }
          },
          "title": {
           "x": 0.05
          },
          "xaxis": {
           "automargin": true,
           "gridcolor": "#EBF0F8",
           "linecolor": "#EBF0F8",
           "ticks": "",
           "title": {
            "standoff": 15
           },
           "zerolinecolor": "#EBF0F8",
           "zerolinewidth": 2
          },
          "yaxis": {
           "automargin": true,
           "gridcolor": "#EBF0F8",
           "linecolor": "#EBF0F8",
           "ticks": "",
           "title": {
            "standoff": 15
           },
           "zerolinecolor": "#EBF0F8",
           "zerolinewidth": 2
          }
         }
        },
        "width": 900,
        "xaxis": {
         "anchor": "y",
         "domain": [
          0,
          1
         ],
         "title": {
          "text": "Capacity (Mm<sup>3</sup>/y)"
         }
        },
        "yaxis": {
         "anchor": "x",
         "domain": [
          0,
          1
         ],
         "title": {
          "text": "LCOW ($/m<sup>3</sup>)"
         }
        }
       }
      },
      "text/html": [
       "<div>\n",
       "        \n",
       "        \n",
       "            <div id=\"b8c3e1d7-d563-4998-93ef-db7fc10f6ea4\" class=\"plotly-graph-div\" style=\"height:525px; width:900px;\"></div>\n",
       "            <script type=\"text/javascript\">\n",
       "                require([\"plotly\"], function(Plotly) {\n",
       "                    window.PLOTLYENV=window.PLOTLYENV || {};\n",
       "                    \n",
       "                if (document.getElementById(\"b8c3e1d7-d563-4998-93ef-db7fc10f6ea4\")) {\n",
       "                    Plotly.newPlot(\n",
       "                        'b8c3e1d7-d563-4998-93ef-db7fc10f6ea4',\n",
       "                        [{\"hovertemplate\": \"variable=Extended aeration<br>PopulationReclaimedWater=%{x}<br>value=%{y}<br>Cluster=%{text}<extra></extra>\", \"legendgroup\": \"Extended aeration\", \"marker\": {\"color\": \"#4C78A8\", \"symbol\": \"circle\"}, \"mode\": \"lines+markers\", \"name\": \"Extended aeration\", \"opacity\": 0.8, \"orientation\": \"v\", \"showlegend\": true, \"text\": [7.0, 13.0, 25.0, 9.0, 31.0, 26.0, 11.0, 27.0, 15.0, 29.0, 34.0, 20.0, 32.0, 38.0, 0.0, 14.0, 30.0, 2.0, 37.0, 35.0, 12.0, 23.0, 36.0, 18.0, 10.0, 21.0, 1.0, 22.0, 24.0, 19.0, 17.0, 5.0, 6.0, 4.0, 3.0, 8.0, 39.0, 28.0], \"type\": \"scatter\", \"x\": [16.279836563532943, 15.949011560678912, 14.097633605056728, 14.005798994692432, 12.03553170808292, 11.33235786669439, 9.882683472569662, 9.255684011984894, 8.159978457654471, 7.53986200693321, 6.52271669281637, 5.716705297236679, 5.469882593977969, 5.433444683939155, 5.1098373039390195, 4.378107329262256, 4.213242707808354, 4.074631585506439, 4.049699980880706, 3.321892961117269, 2.597698880820659, 2.4591604911149627, 2.331248396512883, 2.31230492503404, 2.0581863502073503, 1.9256842278332273, 1.5568486599418687, 1.1083915053979745, 0.9622352230026423, 0.7655319202580353, 0.595158973124137, 0.5233510656149156, 0.4549404459580853, 0.38204147543799033, 0.291645926664292, 0.13911597635273706, 0.06715434649603165, 0.05221893720218775], \"xaxis\": \"x\", \"y\": [0.04841283743575303, 0.04892778805712809, 0.05214092652368404, 0.052316917857311275, 0.05657161041293024, 0.0583561624186188, 0.06262740149509992, 0.06478279902383141, 0.06913795927841108, 0.07201914812628858, 0.07761929141398782, 0.08309669200592039, 0.08501506797350074, 0.08530944537443083, 0.08806240546977101, 0.09539352323342096, 0.09730755794652692, 0.09900716025114593, 0.09932221618836103, 0.11005201057279955, 0.1250079844832252, 0.12861072171049429, 0.13222260014434384, 0.13278321331520596, 0.14104792902919885, 0.1460023867526781, 0.16303700833271276, 0.19450681836153286, 0.2093434493200167, 0.2357858576771701, 0.26879708754985004, 0.28741255525718395, 0.3091738135598442, 0.33863799633647174, 0.3898458219723799, 0.5738655355638868, 0.8401591947101437, 0.9585538831787008], \"yaxis\": \"y\"}, {\"hovertemplate\": \"variable=Rotating biological contractors<br>PopulationReclaimedWater=%{x}<br>value=%{y}<br>Cluster=%{text}<extra></extra>\", \"legendgroup\": \"Rotating biological contractors\", \"marker\": {\"color\": \"#F58518\", \"symbol\": \"circle\"}, \"mode\": \"lines+markers\", \"name\": \"Rotating biological contractors\", \"opacity\": 0.8, \"orientation\": \"v\", \"showlegend\": true, \"text\": [7.0, 13.0, 25.0, 9.0, 31.0, 26.0, 11.0, 27.0, 15.0, 29.0, 34.0, 20.0, 32.0, 38.0, 0.0, 14.0, 30.0, 2.0, 37.0, 35.0, 12.0, 23.0, 36.0, 18.0, 10.0, 21.0, 1.0, 22.0, 24.0, 19.0, 17.0, 5.0, 6.0, 4.0, 3.0, 8.0, 39.0, 28.0], \"type\": \"scatter\", \"x\": [16.279836563532943, 15.949011560678912, 14.097633605056728, 14.005798994692432, 12.03553170808292, 11.33235786669439, 9.882683472569662, 9.255684011984894, 8.159978457654471, 7.53986200693321, 6.52271669281637, 5.716705297236679, 5.469882593977969, 5.433444683939155, 5.1098373039390195, 4.378107329262256, 4.213242707808354, 4.074631585506439, 4.049699980880706, 3.321892961117269, 2.597698880820659, 2.4591604911149627, 2.331248396512883, 2.31230492503404, 2.0581863502073503, 1.9256842278332273, 1.5568486599418687, 1.1083915053979745, 0.9622352230026423, 0.7655319202580353, 0.595158973124137, 0.5233510656149156, 0.4549404459580853, 0.38204147543799033, 0.291645926664292, 0.13911597635273706, 0.06715434649603165, 0.05221893720218775], \"xaxis\": \"x\", \"y\": [0.055227902194712096, 0.05568130079050348, 0.05848605222289637, 0.058638501809395886, 0.06228910533888156, 0.06380119916425979, 0.06737775155094955, 0.06916101535419995, 0.07272303197792668, 0.0750508825321153, 0.07951492637857886, 0.08380934768160918, 0.08529770799184105, 0.08552540528357853, 0.08764606199117898, 0.09322004741947874, 0.09465869074357193, 0.0959306544756633, 0.09616587911958666, 0.10407754379718902, 0.11481314338603776, 0.11735340726660144, 0.11988352621866519, 0.12027478231055447, 0.1259991611620294, 0.12939314694623594, 0.14086478794086327, 0.16135294362292055, 0.17073827777613151, 0.18709042040139912, 0.2069150717722943, 0.2178405536375899, 0.23040434496505838, 0.2470904875372261, 0.2753065051349676, 0.37039681175636924, 0.4961187775319615, 0.5488509133779703], \"yaxis\": \"y\"}, {\"hovertemplate\": \"variable=Sequencing batch reactor<br>PopulationReclaimedWater=%{x}<br>value=%{y}<br>Cluster=%{text}<extra></extra>\", \"legendgroup\": \"Sequencing batch reactor\", \"marker\": {\"color\": \"#72B7B2\", \"symbol\": \"circle\"}, \"mode\": \"lines+markers\", \"name\": \"Sequencing batch reactor\", \"opacity\": 0.8, \"orientation\": \"v\", \"showlegend\": true, \"text\": [7.0, 13.0, 25.0, 9.0, 31.0, 26.0, 11.0, 27.0, 15.0, 29.0, 34.0, 20.0, 32.0, 38.0, 0.0, 14.0, 30.0, 2.0, 37.0, 35.0, 12.0, 23.0, 36.0, 18.0, 10.0, 21.0, 1.0, 22.0, 24.0, 19.0, 17.0, 5.0, 6.0, 4.0, 3.0, 8.0, 39.0, 28.0], \"type\": \"scatter\", \"x\": [16.279836563532943, 15.949011560678912, 14.097633605056728, 14.005798994692432, 12.03553170808292, 11.33235786669439, 9.882683472569662, 9.255684011984894, 8.159978457654471, 7.53986200693321, 6.52271669281637, 5.716705297236679, 5.469882593977969, 5.433444683939155, 5.1098373039390195, 4.378107329262256, 4.213242707808354, 4.074631585506439, 4.049699980880706, 3.321892961117269, 2.597698880820659, 2.4591604911149627, 2.331248396512883, 2.31230492503404, 2.0581863502073503, 1.9256842278332273, 1.5568486599418687, 1.1083915053979745, 0.9622352230026423, 0.7655319202580353, 0.595158973124137, 0.5233510656149156, 0.4549404459580853, 0.38204147543799033, 0.291645926664292, 0.13911597635273706, 0.06715434649603165, 0.05221893720218775], \"xaxis\": \"x\", \"y\": [0.06252640629665432, 0.06304064341462565, 0.06622162641585143, 0.06639451965921771, 0.07053447782203126, 0.07224915080829915, 0.07630458702472287, 0.07832647237762794, 0.08236482208641792, 0.08500374068851467, 0.09006379983544845, 0.09493094489152946, 0.09661765028393396, 0.09687568463301446, 0.09927879790017077, 0.10559444226797014, 0.10722432850444268, 0.10866531658175609, 0.10893179263216679, 0.11789343200012956, 0.13005019956476596, 0.13292613976934273, 0.13579036661567215, 0.1362332686871828, 0.14271264928054891, 0.1465537307895277, 0.15953357562602777, 0.1827041424481692, 0.19331356322974716, 0.2117916048402105, 0.2341822924686097, 0.24651679130163734, 0.2606964946941918, 0.2795216724103254, 0.3113370311715564, 0.4184060383747061, 0.559650261204829, 0.6187988295126116], \"yaxis\": \"y\"}, {\"hovertemplate\": \"variable=Membrane  bioreactor<br>PopulationReclaimedWater=%{x}<br>value=%{y}<br>Cluster=%{text}<extra></extra>\", \"legendgroup\": \"Membrane  bioreactor\", \"marker\": {\"color\": \"#54A24B\", \"symbol\": \"circle\"}, \"mode\": \"lines+markers\", \"name\": \"Membrane  bioreactor\", \"opacity\": 0.8, \"orientation\": \"v\", \"showlegend\": true, \"text\": [7.0, 13.0, 25.0, 9.0, 31.0, 26.0, 11.0, 27.0, 15.0, 29.0, 34.0, 20.0, 32.0, 38.0, 0.0, 14.0, 30.0, 2.0, 37.0, 35.0, 12.0, 23.0, 36.0, 18.0, 10.0, 21.0, 1.0, 22.0, 24.0, 19.0, 17.0, 5.0, 6.0, 4.0, 3.0, 8.0, 39.0, 28.0], \"type\": \"scatter\", \"x\": [16.279836563532943, 15.949011560678912, 14.097633605056728, 14.005798994692432, 12.03553170808292, 11.33235786669439, 9.882683472569662, 9.255684011984894, 8.159978457654471, 7.53986200693321, 6.52271669281637, 5.716705297236679, 5.469882593977969, 5.433444683939155, 5.1098373039390195, 4.378107329262256, 4.213242707808354, 4.074631585506439, 4.049699980880706, 3.321892961117269, 2.597698880820659, 2.4591604911149627, 2.331248396512883, 2.31230492503404, 2.0581863502073503, 1.9256842278332273, 1.5568486599418687, 1.1083915053979745, 0.9622352230026423, 0.7655319202580353, 0.595158973124137, 0.5233510656149156, 0.4549404459580853, 0.38204147543799033, 0.291645926664292, 0.13911597635273706, 0.06715434649603165, 0.05221893720218775], \"xaxis\": \"x\", \"y\": [0.11510459294704085, 0.11584768508648179, 0.12041697037765701, 0.12066400427299094, 0.12654057044579858, 0.12895351496940602, 0.13461425318342587, 0.13741324298427915, 0.14295986533241667, 0.14655418674804804, 0.1533831721111628, 0.159878075930499, 0.16211287289773518, 0.16245404968931482, 0.16562265706415313, 0.17387687346035885, 0.17599053014608534, 0.1778537812191406, 0.17819779237575595, 0.18967044999774735, 0.2049555371119283, 0.20852838712007568, 0.21207118792528865, 0.21261766484122824, 0.22057199776793093, 0.22525295362297476, 0.2408928921499366, 0.2681959516818189, 0.28046218372767107, 0.30151132557901367, 0.3265342261969106, 0.3401138718899409, 0.35555974628024895, 0.3758119764876775, 0.409441131855603, 0.5180961937402201, 0.6534719700936293, 0.7081146810016841], \"yaxis\": \"y\"}, {\"hovertemplate\": \"variable=Intermittent sand filter<br>PopulationReclaimedWater=%{x}<br>value=%{y}<br>Cluster=%{text}<extra></extra>\", \"legendgroup\": \"Intermittent sand filter\", \"marker\": {\"color\": \"#EECA3B\", \"symbol\": \"circle\"}, \"mode\": \"lines+markers\", \"name\": \"Intermittent sand filter\", \"opacity\": 0.8, \"orientation\": \"v\", \"showlegend\": true, \"text\": [7.0, 13.0, 25.0, 9.0, 31.0, 26.0, 11.0, 27.0, 15.0, 29.0, 34.0, 20.0, 32.0, 38.0, 0.0, 14.0, 30.0, 2.0, 37.0, 35.0, 12.0, 23.0, 36.0, 18.0, 10.0, 21.0, 1.0, 22.0, 24.0, 19.0, 17.0, 5.0, 6.0, 4.0, 3.0, 8.0, 39.0, 28.0, 16.0, 33.0], \"type\": \"scatter\", \"x\": [16.279836563532943, 15.949011560678912, 14.097633605056728, 14.005798994692432, 12.03553170808292, 11.33235786669439, 9.882683472569662, 9.255684011984894, 8.159978457654471, 7.53986200693321, 6.52271669281637, 5.716705297236679, 5.469882593977969, 5.433444683939155, 5.1098373039390195, 4.378107329262256, 4.213242707808354, 4.074631585506439, 4.049699980880706, 3.321892961117269, 2.597698880820659, 2.4591604911149627, 2.331248396512883, 2.31230492503404, 2.0581863502073503, 1.9256842278332273, 1.5568486599418687, 1.1083915053979745, 0.9622352230026423, 0.7655319202580353, 0.595158973124137, 0.5233510656149156, 0.4549404459580853, 0.38204147543799033, 0.291645926664292, 0.13911597635273706, 0.06715434649603165, 0.05221893720218775, 0.00497845051461421, 0.0047929331920743105], \"xaxis\": \"x\", \"y\": [0.1335195022075538, 0.13360382113882002, 0.1341264782644203, 0.13415493935059783, 0.13483812553660482, 0.13512204414567877, 0.1357958390469918, 0.13613299062761983, 0.13680888064632177, 0.1372523773332398, 0.1381069057880199, 0.13893410922059105, 0.13922200395399464, 0.1392661028857209, 0.1396775275502286, 0.14076513172799932, 0.1410473267634094, 0.1412973421365252, 0.1413436308046138, 0.14291036771996363, 0.14506785774518252, 0.1455838552089804, 0.14609993011493805, 0.1461799276316522, 0.1473563053378565, 0.14805911063676994, 0.1504647638311957, 0.15488219164852485, 0.15696000470806976, 0.16066555760947598, 0.1653097521041997, 0.16794319359152013, 0.17103879666230762, 0.1752647125757028, 0.18272013959995473, 0.210959645186458, 0.25661141899833007, 0.27889315147910554, 0.9859833254845084, 1.0135782846471744], \"yaxis\": \"y\"}, {\"hovertemplate\": \"variable=Trickling filter<br>PopulationReclaimedWater=%{x}<br>value=%{y}<br>Cluster=%{text}<extra></extra>\", \"legendgroup\": \"Trickling filter\", \"marker\": {\"color\": \"#B279A2\", \"symbol\": \"circle\"}, \"mode\": \"lines+markers\", \"name\": \"Trickling filter\", \"opacity\": 0.8, \"orientation\": \"v\", \"showlegend\": true, \"text\": [7.0, 13.0, 25.0, 9.0, 31.0, 26.0, 11.0, 27.0, 15.0, 29.0, 34.0, 20.0, 32.0, 38.0, 0.0, 14.0, 30.0, 2.0, 37.0, 35.0, 12.0, 23.0, 36.0, 18.0, 10.0, 21.0, 1.0, 22.0, 24.0, 19.0, 17.0, 5.0, 6.0, 4.0, 3.0, 8.0, 39.0, 28.0], \"type\": \"scatter\", \"x\": [16.279836563532943, 15.949011560678912, 14.097633605056728, 14.005798994692432, 12.03553170808292, 11.33235786669439, 9.882683472569662, 9.255684011984894, 8.159978457654471, 7.53986200693321, 6.52271669281637, 5.716705297236679, 5.469882593977969, 5.433444683939155, 5.1098373039390195, 4.378107329262256, 4.213242707808354, 4.074631585506439, 4.049699980880706, 3.321892961117269, 2.597698880820659, 2.4591604911149627, 2.331248396512883, 2.31230492503404, 2.0581863502073503, 1.9256842278332273, 1.5568486599418687, 1.1083915053979745, 0.9622352230026423, 0.7655319202580353, 0.595158973124137, 0.5233510656149156, 0.4549404459580853, 0.38204147543799033, 0.291645926664292, 0.13911597635273706, 0.06715434649603165, 0.05221893720218775], \"xaxis\": \"x\", \"y\": [0.15809392108883466, 0.158291851016753, 0.15952562155939887, 0.1595931389703195, 0.16122372606163457, 0.16190676066190798, 0.16353973250066828, 0.1643629047222532, 0.16602466702813148, 0.1671230495467951, 0.1692561872815617, 0.17134082156235864, 0.17207062635271586, 0.1721826043759415, 0.17322967270740192, 0.1760172216534258, 0.17674490471401044, 0.1773910553948924, 0.1775108325854939, 0.18159056616530983, 0.18728178886487923, 0.1886540480308199, 0.19003042540580853, 0.1902441188865314, 0.19339651532131413, 0.19528830202289524, 0.20180604676578684, 0.21391174395148116, 0.21965272922603776, 0.22994439955385812, 0.24290923783280116, 0.2502809976583159, 0.25895653272499763, 0.27080602683406385, 0.29169287365667956, 0.3700068467332794, 0.4928450436423226, 0.5511680079347384], \"yaxis\": \"y\"}, {\"hovertemplate\": \"variable=Moving bed biofilm reactor<br>PopulationReclaimedWater=%{x}<br>value=%{y}<br>Cluster=%{text}<extra></extra>\", \"legendgroup\": \"Moving bed biofilm reactor\", \"marker\": {\"color\": \"#FF9DA6\", \"symbol\": \"circle\"}, \"mode\": \"lines+markers\", \"name\": \"Moving bed biofilm reactor\", \"opacity\": 0.8, \"orientation\": \"v\", \"showlegend\": true, \"text\": [7.0, 13.0, 25.0, 9.0, 31.0, 26.0, 11.0, 27.0, 15.0, 29.0, 34.0, 20.0, 32.0, 38.0, 0.0, 14.0, 30.0, 2.0, 37.0, 35.0, 12.0, 23.0, 36.0, 18.0, 10.0, 21.0, 1.0, 22.0, 24.0, 19.0, 17.0, 5.0, 6.0, 4.0, 3.0, 8.0, 39.0, 28.0], \"type\": \"scatter\", \"x\": [16.279836563532943, 15.949011560678912, 14.097633605056728, 14.005798994692432, 12.03553170808292, 11.33235786669439, 9.882683472569662, 9.255684011984894, 8.159978457654471, 7.53986200693321, 6.52271669281637, 5.716705297236679, 5.469882593977969, 5.433444683939155, 5.1098373039390195, 4.378107329262256, 4.213242707808354, 4.074631585506439, 4.049699980880706, 3.321892961117269, 2.597698880820659, 2.4591604911149627, 2.331248396512883, 2.31230492503404, 2.0581863502073503, 1.9256842278332273, 1.5568486599418687, 1.1083915053979745, 0.9622352230026423, 0.7655319202580353, 0.595158973124137, 0.5233510656149156, 0.4549404459580853, 0.38204147543799033, 0.291645926664292, 0.13911597635273706, 0.06715434649603165, 0.05221893720218775], \"xaxis\": \"x\", \"y\": [0.23105307427182992, 0.23139666796572544, 0.23348894294367437, 0.2336010827049486, 0.23624066907755656, 0.23730952994030954, 0.239785065757021, 0.24099335686606638, 0.24335891044814148, 0.24487244700543448, 0.24770901636896905, 0.25036283811823995, 0.25126674163799523, 0.2514043375041694, 0.252677308896228, 0.2559538356438131, 0.256784214622911, 0.25751345806739306, 0.2576478207226195, 0.2620823275309991, 0.2678672317796326, 0.26920202482799616, 0.27051981106657447, 0.27072258827198914, 0.2736602519222408, 0.275377752266131, 0.2810655747043931, 0.2908631917244849, 0.29523435621896615, 0.3027253911573754, 0.31166278697637045, 0.316548568744094, 0.3221513288448086, 0.32959188805030093, 0.3422533067608455, 0.38704507389892034, 0.45531837454551294, 0.48809859325555766], \"yaxis\": \"y\"}],\n",
       "                        {\"legend\": {\"orientation\": \"h\", \"title\": {\"text\": \"\"}, \"tracegroupgap\": 0, \"x\": 0.5, \"xanchor\": \"center\", \"y\": -0.15, \"yanchor\": \"top\"}, \"margin\": {\"b\": 0, \"l\": 0, \"r\": 0, \"t\": 30}, \"template\": {\"data\": {\"bar\": [{\"error_x\": {\"color\": \"#2a3f5f\"}, \"error_y\": {\"color\": \"#2a3f5f\"}, \"marker\": {\"line\": {\"color\": \"white\", \"width\": 0.5}}, \"type\": \"bar\"}], \"barpolar\": [{\"marker\": {\"line\": {\"color\": \"white\", \"width\": 0.5}}, \"type\": \"barpolar\"}], \"carpet\": [{\"aaxis\": {\"endlinecolor\": \"#2a3f5f\", \"gridcolor\": \"#C8D4E3\", \"linecolor\": \"#C8D4E3\", \"minorgridcolor\": \"#C8D4E3\", \"startlinecolor\": \"#2a3f5f\"}, \"baxis\": {\"endlinecolor\": \"#2a3f5f\", \"gridcolor\": \"#C8D4E3\", \"linecolor\": \"#C8D4E3\", \"minorgridcolor\": \"#C8D4E3\", \"startlinecolor\": \"#2a3f5f\"}, \"type\": \"carpet\"}], \"choropleth\": [{\"colorbar\": {\"outlinewidth\": 0, \"ticks\": \"\"}, \"type\": \"choropleth\"}], \"contour\": [{\"colorbar\": {\"outlinewidth\": 0, \"ticks\": \"\"}, \"colorscale\": [[0.0, \"#0d0887\"], [0.1111111111111111, \"#46039f\"], [0.2222222222222222, \"#7201a8\"], [0.3333333333333333, \"#9c179e\"], [0.4444444444444444, \"#bd3786\"], [0.5555555555555556, \"#d8576b\"], [0.6666666666666666, \"#ed7953\"], [0.7777777777777778, \"#fb9f3a\"], [0.8888888888888888, \"#fdca26\"], [1.0, \"#f0f921\"]], \"type\": \"contour\"}], \"contourcarpet\": [{\"colorbar\": {\"outlinewidth\": 0, \"ticks\": \"\"}, \"type\": \"contourcarpet\"}], \"heatmap\": [{\"colorbar\": {\"outlinewidth\": 0, \"ticks\": \"\"}, \"colorscale\": [[0.0, \"#0d0887\"], [0.1111111111111111, \"#46039f\"], [0.2222222222222222, \"#7201a8\"], [0.3333333333333333, \"#9c179e\"], [0.4444444444444444, \"#bd3786\"], [0.5555555555555556, \"#d8576b\"], [0.6666666666666666, \"#ed7953\"], [0.7777777777777778, \"#fb9f3a\"], [0.8888888888888888, \"#fdca26\"], [1.0, \"#f0f921\"]], \"type\": \"heatmap\"}], \"heatmapgl\": [{\"colorbar\": {\"outlinewidth\": 0, \"ticks\": \"\"}, \"colorscale\": [[0.0, \"#0d0887\"], [0.1111111111111111, \"#46039f\"], [0.2222222222222222, \"#7201a8\"], [0.3333333333333333, \"#9c179e\"], [0.4444444444444444, \"#bd3786\"], [0.5555555555555556, \"#d8576b\"], [0.6666666666666666, \"#ed7953\"], [0.7777777777777778, \"#fb9f3a\"], [0.8888888888888888, \"#fdca26\"], [1.0, \"#f0f921\"]], \"type\": \"heatmapgl\"}], \"histogram\": [{\"marker\": {\"colorbar\": {\"outlinewidth\": 0, \"ticks\": \"\"}}, \"type\": \"histogram\"}], \"histogram2d\": [{\"colorbar\": {\"outlinewidth\": 0, \"ticks\": \"\"}, \"colorscale\": [[0.0, \"#0d0887\"], [0.1111111111111111, \"#46039f\"], [0.2222222222222222, \"#7201a8\"], [0.3333333333333333, \"#9c179e\"], [0.4444444444444444, \"#bd3786\"], [0.5555555555555556, \"#d8576b\"], [0.6666666666666666, \"#ed7953\"], [0.7777777777777778, \"#fb9f3a\"], [0.8888888888888888, \"#fdca26\"], [1.0, \"#f0f921\"]], \"type\": \"histogram2d\"}], \"histogram2dcontour\": [{\"colorbar\": {\"outlinewidth\": 0, \"ticks\": \"\"}, \"colorscale\": [[0.0, \"#0d0887\"], [0.1111111111111111, \"#46039f\"], [0.2222222222222222, \"#7201a8\"], [0.3333333333333333, \"#9c179e\"], [0.4444444444444444, \"#bd3786\"], [0.5555555555555556, \"#d8576b\"], [0.6666666666666666, \"#ed7953\"], [0.7777777777777778, \"#fb9f3a\"], [0.8888888888888888, \"#fdca26\"], [1.0, \"#f0f921\"]], \"type\": \"histogram2dcontour\"}], \"mesh3d\": [{\"colorbar\": {\"outlinewidth\": 0, \"ticks\": \"\"}, \"type\": \"mesh3d\"}], \"parcoords\": [{\"line\": {\"colorbar\": {\"outlinewidth\": 0, \"ticks\": \"\"}}, \"type\": \"parcoords\"}], \"pie\": [{\"automargin\": true, \"type\": \"pie\"}], \"scatter\": [{\"marker\": {\"colorbar\": {\"outlinewidth\": 0, \"ticks\": \"\"}}, \"type\": \"scatter\"}], \"scatter3d\": [{\"line\": {\"colorbar\": {\"outlinewidth\": 0, \"ticks\": \"\"}}, \"marker\": {\"colorbar\": {\"outlinewidth\": 0, \"ticks\": \"\"}}, \"type\": \"scatter3d\"}], \"scattercarpet\": [{\"marker\": {\"colorbar\": {\"outlinewidth\": 0, \"ticks\": \"\"}}, \"type\": \"scattercarpet\"}], \"scattergeo\": [{\"marker\": {\"colorbar\": {\"outlinewidth\": 0, \"ticks\": \"\"}}, \"type\": \"scattergeo\"}], \"scattergl\": [{\"marker\": {\"colorbar\": {\"outlinewidth\": 0, \"ticks\": \"\"}}, \"type\": \"scattergl\"}], \"scattermapbox\": [{\"marker\": {\"colorbar\": {\"outlinewidth\": 0, \"ticks\": \"\"}}, \"type\": \"scattermapbox\"}], \"scatterpolar\": [{\"marker\": {\"colorbar\": {\"outlinewidth\": 0, \"ticks\": \"\"}}, \"type\": \"scatterpolar\"}], \"scatterpolargl\": [{\"marker\": {\"colorbar\": {\"outlinewidth\": 0, \"ticks\": \"\"}}, \"type\": \"scatterpolargl\"}], \"scatterternary\": [{\"marker\": {\"colorbar\": {\"outlinewidth\": 0, \"ticks\": \"\"}}, \"type\": \"scatterternary\"}], \"surface\": [{\"colorbar\": {\"outlinewidth\": 0, \"ticks\": \"\"}, \"colorscale\": [[0.0, \"#0d0887\"], [0.1111111111111111, \"#46039f\"], [0.2222222222222222, \"#7201a8\"], [0.3333333333333333, \"#9c179e\"], [0.4444444444444444, \"#bd3786\"], [0.5555555555555556, \"#d8576b\"], [0.6666666666666666, \"#ed7953\"], [0.7777777777777778, \"#fb9f3a\"], [0.8888888888888888, \"#fdca26\"], [1.0, \"#f0f921\"]], \"type\": \"surface\"}], \"table\": [{\"cells\": {\"fill\": {\"color\": \"#EBF0F8\"}, \"line\": {\"color\": \"white\"}}, \"header\": {\"fill\": {\"color\": \"#C8D4E3\"}, \"line\": {\"color\": \"white\"}}, \"type\": \"table\"}]}, \"layout\": {\"annotationdefaults\": {\"arrowcolor\": \"#2a3f5f\", \"arrowhead\": 0, \"arrowwidth\": 1}, \"coloraxis\": {\"colorbar\": {\"outlinewidth\": 0, \"ticks\": \"\"}}, \"colorscale\": {\"diverging\": [[0, \"#8e0152\"], [0.1, \"#c51b7d\"], [0.2, \"#de77ae\"], [0.3, \"#f1b6da\"], [0.4, \"#fde0ef\"], [0.5, \"#f7f7f7\"], [0.6, \"#e6f5d0\"], [0.7, \"#b8e186\"], [0.8, \"#7fbc41\"], [0.9, \"#4d9221\"], [1, \"#276419\"]], \"sequential\": [[0.0, \"#0d0887\"], [0.1111111111111111, \"#46039f\"], [0.2222222222222222, \"#7201a8\"], [0.3333333333333333, \"#9c179e\"], [0.4444444444444444, \"#bd3786\"], [0.5555555555555556, \"#d8576b\"], [0.6666666666666666, \"#ed7953\"], [0.7777777777777778, \"#fb9f3a\"], [0.8888888888888888, \"#fdca26\"], [1.0, \"#f0f921\"]], \"sequentialminus\": [[0.0, \"#0d0887\"], [0.1111111111111111, \"#46039f\"], [0.2222222222222222, \"#7201a8\"], [0.3333333333333333, \"#9c179e\"], [0.4444444444444444, \"#bd3786\"], [0.5555555555555556, \"#d8576b\"], [0.6666666666666666, \"#ed7953\"], [0.7777777777777778, \"#fb9f3a\"], [0.8888888888888888, \"#fdca26\"], [1.0, \"#f0f921\"]]}, \"colorway\": [\"#636efa\", \"#EF553B\", \"#00cc96\", \"#ab63fa\", \"#FFA15A\", \"#19d3f3\", \"#FF6692\", \"#B6E880\", \"#FF97FF\", \"#FECB52\"], \"font\": {\"color\": \"#2a3f5f\"}, \"geo\": {\"bgcolor\": \"white\", \"lakecolor\": \"white\", \"landcolor\": \"white\", \"showlakes\": true, \"showland\": true, \"subunitcolor\": \"#C8D4E3\"}, \"hoverlabel\": {\"align\": \"left\"}, \"hovermode\": \"closest\", \"mapbox\": {\"style\": \"light\"}, \"paper_bgcolor\": \"white\", \"plot_bgcolor\": \"white\", \"polar\": {\"angularaxis\": {\"gridcolor\": \"#EBF0F8\", \"linecolor\": \"#EBF0F8\", \"ticks\": \"\"}, \"bgcolor\": \"white\", \"radialaxis\": {\"gridcolor\": \"#EBF0F8\", \"linecolor\": \"#EBF0F8\", \"ticks\": \"\"}}, \"scene\": {\"xaxis\": {\"backgroundcolor\": \"white\", \"gridcolor\": \"#DFE8F3\", \"gridwidth\": 2, \"linecolor\": \"#EBF0F8\", \"showbackground\": true, \"ticks\": \"\", \"zerolinecolor\": \"#EBF0F8\"}, \"yaxis\": {\"backgroundcolor\": \"white\", \"gridcolor\": \"#DFE8F3\", \"gridwidth\": 2, \"linecolor\": \"#EBF0F8\", \"showbackground\": true, \"ticks\": \"\", \"zerolinecolor\": \"#EBF0F8\"}, \"zaxis\": {\"backgroundcolor\": \"white\", \"gridcolor\": \"#DFE8F3\", \"gridwidth\": 2, \"linecolor\": \"#EBF0F8\", \"showbackground\": true, \"ticks\": \"\", \"zerolinecolor\": \"#EBF0F8\"}}, \"shapedefaults\": {\"line\": {\"color\": \"#2a3f5f\"}}, \"ternary\": {\"aaxis\": {\"gridcolor\": \"#DFE8F3\", \"linecolor\": \"#A2B1C6\", \"ticks\": \"\"}, \"baxis\": {\"gridcolor\": \"#DFE8F3\", \"linecolor\": \"#A2B1C6\", \"ticks\": \"\"}, \"bgcolor\": \"white\", \"caxis\": {\"gridcolor\": \"#DFE8F3\", \"linecolor\": \"#A2B1C6\", \"ticks\": \"\"}}, \"title\": {\"x\": 0.05}, \"xaxis\": {\"automargin\": true, \"gridcolor\": \"#EBF0F8\", \"linecolor\": \"#EBF0F8\", \"ticks\": \"\", \"title\": {\"standoff\": 15}, \"zerolinecolor\": \"#EBF0F8\", \"zerolinewidth\": 2}, \"yaxis\": {\"automargin\": true, \"gridcolor\": \"#EBF0F8\", \"linecolor\": \"#EBF0F8\", \"ticks\": \"\", \"title\": {\"standoff\": 15}, \"zerolinecolor\": \"#EBF0F8\", \"zerolinewidth\": 2}}}, \"width\": 900, \"xaxis\": {\"anchor\": \"y\", \"domain\": [0.0, 1.0], \"title\": {\"text\": \"Capacity (Mm<sup>3</sup>/y)\"}}, \"yaxis\": {\"anchor\": \"x\", \"domain\": [0.0, 1.0], \"title\": {\"text\": \"LCOW ($/m<sup>3</sup>)\"}}},\n",
       "                        {\"responsive\": true}\n",
       "                    ).then(function(){\n",
       "                            \n",
       "var gd = document.getElementById('b8c3e1d7-d563-4998-93ef-db7fc10f6ea4');\n",
       "var x = new MutationObserver(function (mutations, observer) {{\n",
       "        var display = window.getComputedStyle(gd).display;\n",
       "        if (!display || display === 'none') {{\n",
       "            console.log([gd, 'removed!']);\n",
       "            Plotly.purge(gd);\n",
       "            observer.disconnect();\n",
       "        }}\n",
       "}});\n",
       "\n",
       "// Listen for the removal of the full notebook cells\n",
       "var notebookContainer = gd.closest('#notebook-container');\n",
       "if (notebookContainer) {{\n",
       "    x.observe(notebookContainer, {childList: true});\n",
       "}}\n",
       "\n",
       "// Listen for the clearing of the current output cell\n",
       "var outputEl = gd.closest('.output');\n",
       "if (outputEl) {{\n",
       "    x.observe(outputEl, {childList: true});\n",
       "}}\n",
       "\n",
       "                        })\n",
       "                };\n",
       "                });\n",
       "            </script>\n",
       "        </div>"
      ]
     },
     "metadata": {},
     "output_type": "display_data"
    }
   ],
   "source": [
    "dff = df.groupby('Cluster').agg({'MovingBedBiofilmReactorLCOW': 'mean', 'TricklingFilterLCOW': 'mean', 'IntermittentSandFilterLCOW': 'mean', \n",
    "                             'RotatingBiologicalContractorsLCOW': 'mean', 'SequencingBatchReactorLCOW': 'mean', 'Membrane BioreactorLCOW': 'mean', \n",
    "                             'ExtendedAerationLCOW': 'mean', 'PopulationReclaimedWater': 'mean','IrrigationReclaimedWater': 'mean', 'PondSystemLCOW': 'mean'}).reset_index()\n",
    "dff_melt = dff.melt(id_vars=['Cluster', 'PopulationReclaimedWater', \n",
    "                             'IrrigationReclaimedWater', 'PondSystemLCOW'])\n",
    "dff_melt = dff_melt.loc[dff_melt['value']<=1.02]\n",
    "dff_melt['variable'] = [' '.join(re.findall('[A-Z][^A-Z]*', s.replace('LCOW', ''))).capitalize() for s in dff_melt['variable']]\n",
    "\n",
    "dff_melt['PopulationReclaimedWater'] /= 1000000\n",
    "\n",
    "colors = [px.colors.qualitative.T10[i] for i in [0, 1, 3, 4, 5, 6, 7]]\n",
    "\n",
    "fig_pop_all = px.scatter(dff_melt.sort_values('value'), x='PopulationReclaimedWater', \n",
    "                 y='value', color='variable', text='Cluster',\n",
    "#                  marginal_x='rug', marginal_y='box',\n",
    "                 color_discrete_sequence=colors,\n",
    "                )\n",
    "# for i in range(0, 21, 3):              \n",
    "#     fig.data[i].update(mode='lines+markers', opacity=0.8)\n",
    "\n",
    "# x = np.array(fig.data)\n",
    "# fig.data = tuple(np.delete(x, [4, 7, 10, 13, 16, 19]))\n",
    "# fig.data = tuple(np.delete(x, [3, 5, 7, 9, 11, 13]))\n",
    "# fig.data[1].update(marker={'color': px.colors.qualitative.T10[9]}, xbins=dict(size=2000000))\n",
    "\n",
    "fig_pop_all.update_traces(mode='lines+markers', opacity=0.8)\n",
    "\n",
    "# for x, cluster in zip(dff_melt['PopulationFutureReclaimedWater'].unique(), dff_melt['Cluster'].unique()):\n",
    "#     fig.add_annotation(yref=\"paper\", x=x, y=0.8,\n",
    "#                       text=cluster,\n",
    "#                       showarrow=True,\n",
    "# #                      arrowhead=1\n",
    "#                       )\n",
    "    \n",
    "fig_pop_all.update_layout(width=900, template='plotly_white',\n",
    "                  xaxis={'title': 'Capacity (Mm<sup>3</sup>/y)'}, \n",
    "                  yaxis={'title': 'LCOW ($/m<sup>3</sup>)'},\n",
    "                  legend=dict(\n",
    "                            title='',\n",
    "                            orientation=\"h\",\n",
    "                            yanchor=\"top\",\n",
    "                            y=-0.15,\n",
    "                            xanchor=\"center\",\n",
    "                            x=0.5\n",
    "                ),\n",
    "                 margin=dict(b=0, l=0, r=0, t=30))    \n",
    "\n",
    "fig_pop_all.show()\n",
    "# fig_pop_all.write_image('../LCOW_population_all.pdf')"
   ]
  },
  {
   "cell_type": "code",
   "execution_count": 39,
   "metadata": {},
   "outputs": [
    {
     "data": {
      "application/vnd.plotly.v1+json": {
       "config": {
        "plotlyServerURL": "https://plot.ly"
       },
       "data": [
        {
         "hovertemplate": "PopulationLeastCostTechnology=Extended aeration<br>PopulationReclaimedWater=%{x}<br>PopulationLeastCost=%{y}<br>Cluster=%{text}<extra></extra>",
         "legendgroup": "Extended aeration",
         "line": {
          "color": "#4C78A8",
          "dash": "solid"
         },
         "mode": "lines+markers",
         "name": "Extended aeration",
         "opacity": 0.8,
         "orientation": "v",
         "showlegend": false,
         "text": [
          7,
          13,
          25,
          9,
          31,
          26,
          11,
          27,
          15,
          29,
          34,
          20,
          32,
          38
         ],
         "type": "scatter",
         "x": [
          16.279836563532694,
          15.949011560679175,
          14.097633605056634,
          14.005798994692414,
          12.035531708082793,
          11.332357866694275,
          9.88268347256978,
          9.255684011984956,
          8.15997845765427,
          7.539862006933193,
          6.522716692816407,
          5.716705297236836,
          5.469882593977991,
          5.433444683939115
         ],
         "xaxis": "x",
         "y": [
          0.04841283743575303,
          0.04892778805712809,
          0.05214092652368404,
          0.052316917857311275,
          0.05657161041293024,
          0.0583561624186188,
          0.06262740149509992,
          0.06478279902383141,
          0.06913795927841108,
          0.07201914812628858,
          0.07761929141398782,
          0.08309669200592039,
          0.08501506797350074,
          0.08530944537443083
         ],
         "yaxis": "y"
        },
        {
         "hovertemplate": "PopulationLeastCostTechnology=Rotating biological contractors<br>PopulationReclaimedWater=%{x}<br>PopulationLeastCost=%{y}<br>Cluster=%{text}<extra></extra>",
         "legendgroup": "Rotating biological contractors",
         "line": {
          "color": "#F58518",
          "dash": "solid"
         },
         "mode": "lines+markers",
         "name": "Rotating biological contractors",
         "opacity": 0.8,
         "orientation": "v",
         "showlegend": false,
         "text": [
          0,
          14,
          30,
          2,
          37,
          35,
          12,
          23,
          36,
          18,
          10,
          21,
          1
         ],
         "type": "scatter",
         "x": [
          5.109837303939005,
          4.378107329262253,
          4.213242707808279,
          4.074631585506432,
          4.049699980880674,
          3.3218929611172863,
          2.5976988808206682,
          2.4591604911149516,
          2.331248396512876,
          2.3123049250340335,
          2.05818635020737,
          1.9256842278332267,
          1.556848659941871
         ],
         "xaxis": "x",
         "y": [
          0.08764606199117898,
          0.09322004741947874,
          0.09465869074357193,
          0.0959306544756633,
          0.09616587911958666,
          0.10407754379718902,
          0.11481314338603776,
          0.11735340726660144,
          0.11988352621866519,
          0.12027478231055447,
          0.1259991611620294,
          0.12939314694623594,
          0.14086478794086327
         ],
         "yaxis": "y"
        },
        {
         "hovertemplate": "PopulationLeastCostTechnology=Intermittent sand filter<br>PopulationReclaimedWater=%{x}<br>PopulationLeastCost=%{y}<br>Cluster=%{text}<extra></extra>",
         "legendgroup": "Intermittent sand filter",
         "line": {
          "color": "#EECA3B",
          "dash": "solid"
         },
         "mode": "lines+markers",
         "name": "Intermittent sand filter",
         "opacity": 0.8,
         "orientation": "v",
         "showlegend": false,
         "text": [
          22,
          24,
          19,
          17,
          5,
          6,
          4,
          3,
          8,
          39,
          28,
          16,
          33
         ],
         "type": "scatter",
         "x": [
          1.1083915053979692,
          0.9622352230026415,
          0.7655319202580354,
          0.595158973124138,
          0.5233510656149161,
          0.4549404459580851,
          0.3820414754379898,
          0.2916459266642914,
          0.13911597635273704,
          0.06715434649603169,
          0.052218937202187767,
          0.00497845051461421,
          0.0047929331920743105
         ],
         "xaxis": "x",
         "y": [
          0.15488219164852485,
          0.15696000470806976,
          0.16066555760947598,
          0.1653097521041997,
          0.16794319359152013,
          0.17103879666230762,
          0.1752647125757028,
          0.18272013959995473,
          0.210959645186458,
          0.25661141899833007,
          0.27889315147910554,
          0.9859833254845084,
          1.0135782846471744
         ],
         "yaxis": "y"
        }
       ],
       "layout": {
        "legend": {
         "orientation": "h",
         "title": {
          "text": ""
         },
         "tracegroupgap": 0,
         "x": 0.5,
         "xanchor": "center",
         "y": -0.15,
         "yanchor": "top"
        },
        "margin": {
         "b": 0,
         "l": 0,
         "r": 0,
         "t": 30
        },
        "template": {
         "data": {
          "bar": [
           {
            "error_x": {
             "color": "#2a3f5f"
            },
            "error_y": {
             "color": "#2a3f5f"
            },
            "marker": {
             "line": {
              "color": "white",
              "width": 0.5
             }
            },
            "type": "bar"
           }
          ],
          "barpolar": [
           {
            "marker": {
             "line": {
              "color": "white",
              "width": 0.5
             }
            },
            "type": "barpolar"
           }
          ],
          "carpet": [
           {
            "aaxis": {
             "endlinecolor": "#2a3f5f",
             "gridcolor": "#C8D4E3",
             "linecolor": "#C8D4E3",
             "minorgridcolor": "#C8D4E3",
             "startlinecolor": "#2a3f5f"
            },
            "baxis": {
             "endlinecolor": "#2a3f5f",
             "gridcolor": "#C8D4E3",
             "linecolor": "#C8D4E3",
             "minorgridcolor": "#C8D4E3",
             "startlinecolor": "#2a3f5f"
            },
            "type": "carpet"
           }
          ],
          "choropleth": [
           {
            "colorbar": {
             "outlinewidth": 0,
             "ticks": ""
            },
            "type": "choropleth"
           }
          ],
          "contour": [
           {
            "colorbar": {
             "outlinewidth": 0,
             "ticks": ""
            },
            "colorscale": [
             [
              0,
              "#0d0887"
             ],
             [
              0.1111111111111111,
              "#46039f"
             ],
             [
              0.2222222222222222,
              "#7201a8"
             ],
             [
              0.3333333333333333,
              "#9c179e"
             ],
             [
              0.4444444444444444,
              "#bd3786"
             ],
             [
              0.5555555555555556,
              "#d8576b"
             ],
             [
              0.6666666666666666,
              "#ed7953"
             ],
             [
              0.7777777777777778,
              "#fb9f3a"
             ],
             [
              0.8888888888888888,
              "#fdca26"
             ],
             [
              1,
              "#f0f921"
             ]
            ],
            "type": "contour"
           }
          ],
          "contourcarpet": [
           {
            "colorbar": {
             "outlinewidth": 0,
             "ticks": ""
            },
            "type": "contourcarpet"
           }
          ],
          "heatmap": [
           {
            "colorbar": {
             "outlinewidth": 0,
             "ticks": ""
            },
            "colorscale": [
             [
              0,
              "#0d0887"
             ],
             [
              0.1111111111111111,
              "#46039f"
             ],
             [
              0.2222222222222222,
              "#7201a8"
             ],
             [
              0.3333333333333333,
              "#9c179e"
             ],
             [
              0.4444444444444444,
              "#bd3786"
             ],
             [
              0.5555555555555556,
              "#d8576b"
             ],
             [
              0.6666666666666666,
              "#ed7953"
             ],
             [
              0.7777777777777778,
              "#fb9f3a"
             ],
             [
              0.8888888888888888,
              "#fdca26"
             ],
             [
              1,
              "#f0f921"
             ]
            ],
            "type": "heatmap"
           }
          ],
          "heatmapgl": [
           {
            "colorbar": {
             "outlinewidth": 0,
             "ticks": ""
            },
            "colorscale": [
             [
              0,
              "#0d0887"
             ],
             [
              0.1111111111111111,
              "#46039f"
             ],
             [
              0.2222222222222222,
              "#7201a8"
             ],
             [
              0.3333333333333333,
              "#9c179e"
             ],
             [
              0.4444444444444444,
              "#bd3786"
             ],
             [
              0.5555555555555556,
              "#d8576b"
             ],
             [
              0.6666666666666666,
              "#ed7953"
             ],
             [
              0.7777777777777778,
              "#fb9f3a"
             ],
             [
              0.8888888888888888,
              "#fdca26"
             ],
             [
              1,
              "#f0f921"
             ]
            ],
            "type": "heatmapgl"
           }
          ],
          "histogram": [
           {
            "marker": {
             "colorbar": {
              "outlinewidth": 0,
              "ticks": ""
             }
            },
            "type": "histogram"
           }
          ],
          "histogram2d": [
           {
            "colorbar": {
             "outlinewidth": 0,
             "ticks": ""
            },
            "colorscale": [
             [
              0,
              "#0d0887"
             ],
             [
              0.1111111111111111,
              "#46039f"
             ],
             [
              0.2222222222222222,
              "#7201a8"
             ],
             [
              0.3333333333333333,
              "#9c179e"
             ],
             [
              0.4444444444444444,
              "#bd3786"
             ],
             [
              0.5555555555555556,
              "#d8576b"
             ],
             [
              0.6666666666666666,
              "#ed7953"
             ],
             [
              0.7777777777777778,
              "#fb9f3a"
             ],
             [
              0.8888888888888888,
              "#fdca26"
             ],
             [
              1,
              "#f0f921"
             ]
            ],
            "type": "histogram2d"
           }
          ],
          "histogram2dcontour": [
           {
            "colorbar": {
             "outlinewidth": 0,
             "ticks": ""
            },
            "colorscale": [
             [
              0,
              "#0d0887"
             ],
             [
              0.1111111111111111,
              "#46039f"
             ],
             [
              0.2222222222222222,
              "#7201a8"
             ],
             [
              0.3333333333333333,
              "#9c179e"
             ],
             [
              0.4444444444444444,
              "#bd3786"
             ],
             [
              0.5555555555555556,
              "#d8576b"
             ],
             [
              0.6666666666666666,
              "#ed7953"
             ],
             [
              0.7777777777777778,
              "#fb9f3a"
             ],
             [
              0.8888888888888888,
              "#fdca26"
             ],
             [
              1,
              "#f0f921"
             ]
            ],
            "type": "histogram2dcontour"
           }
          ],
          "mesh3d": [
           {
            "colorbar": {
             "outlinewidth": 0,
             "ticks": ""
            },
            "type": "mesh3d"
           }
          ],
          "parcoords": [
           {
            "line": {
             "colorbar": {
              "outlinewidth": 0,
              "ticks": ""
             }
            },
            "type": "parcoords"
           }
          ],
          "pie": [
           {
            "automargin": true,
            "type": "pie"
           }
          ],
          "scatter": [
           {
            "marker": {
             "colorbar": {
              "outlinewidth": 0,
              "ticks": ""
             }
            },
            "type": "scatter"
           }
          ],
          "scatter3d": [
           {
            "line": {
             "colorbar": {
              "outlinewidth": 0,
              "ticks": ""
             }
            },
            "marker": {
             "colorbar": {
              "outlinewidth": 0,
              "ticks": ""
             }
            },
            "type": "scatter3d"
           }
          ],
          "scattercarpet": [
           {
            "marker": {
             "colorbar": {
              "outlinewidth": 0,
              "ticks": ""
             }
            },
            "type": "scattercarpet"
           }
          ],
          "scattergeo": [
           {
            "marker": {
             "colorbar": {
              "outlinewidth": 0,
              "ticks": ""
             }
            },
            "type": "scattergeo"
           }
          ],
          "scattergl": [
           {
            "marker": {
             "colorbar": {
              "outlinewidth": 0,
              "ticks": ""
             }
            },
            "type": "scattergl"
           }
          ],
          "scattermapbox": [
           {
            "marker": {
             "colorbar": {
              "outlinewidth": 0,
              "ticks": ""
             }
            },
            "type": "scattermapbox"
           }
          ],
          "scatterpolar": [
           {
            "marker": {
             "colorbar": {
              "outlinewidth": 0,
              "ticks": ""
             }
            },
            "type": "scatterpolar"
           }
          ],
          "scatterpolargl": [
           {
            "marker": {
             "colorbar": {
              "outlinewidth": 0,
              "ticks": ""
             }
            },
            "type": "scatterpolargl"
           }
          ],
          "scatterternary": [
           {
            "marker": {
             "colorbar": {
              "outlinewidth": 0,
              "ticks": ""
             }
            },
            "type": "scatterternary"
           }
          ],
          "surface": [
           {
            "colorbar": {
             "outlinewidth": 0,
             "ticks": ""
            },
            "colorscale": [
             [
              0,
              "#0d0887"
             ],
             [
              0.1111111111111111,
              "#46039f"
             ],
             [
              0.2222222222222222,
              "#7201a8"
             ],
             [
              0.3333333333333333,
              "#9c179e"
             ],
             [
              0.4444444444444444,
              "#bd3786"
             ],
             [
              0.5555555555555556,
              "#d8576b"
             ],
             [
              0.6666666666666666,
              "#ed7953"
             ],
             [
              0.7777777777777778,
              "#fb9f3a"
             ],
             [
              0.8888888888888888,
              "#fdca26"
             ],
             [
              1,
              "#f0f921"
             ]
            ],
            "type": "surface"
           }
          ],
          "table": [
           {
            "cells": {
             "fill": {
              "color": "#EBF0F8"
             },
             "line": {
              "color": "white"
             }
            },
            "header": {
             "fill": {
              "color": "#C8D4E3"
             },
             "line": {
              "color": "white"
             }
            },
            "type": "table"
           }
          ]
         },
         "layout": {
          "annotationdefaults": {
           "arrowcolor": "#2a3f5f",
           "arrowhead": 0,
           "arrowwidth": 1
          },
          "coloraxis": {
           "colorbar": {
            "outlinewidth": 0,
            "ticks": ""
           }
          },
          "colorscale": {
           "diverging": [
            [
             0,
             "#8e0152"
            ],
            [
             0.1,
             "#c51b7d"
            ],
            [
             0.2,
             "#de77ae"
            ],
            [
             0.3,
             "#f1b6da"
            ],
            [
             0.4,
             "#fde0ef"
            ],
            [
             0.5,
             "#f7f7f7"
            ],
            [
             0.6,
             "#e6f5d0"
            ],
            [
             0.7,
             "#b8e186"
            ],
            [
             0.8,
             "#7fbc41"
            ],
            [
             0.9,
             "#4d9221"
            ],
            [
             1,
             "#276419"
            ]
           ],
           "sequential": [
            [
             0,
             "#0d0887"
            ],
            [
             0.1111111111111111,
             "#46039f"
            ],
            [
             0.2222222222222222,
             "#7201a8"
            ],
            [
             0.3333333333333333,
             "#9c179e"
            ],
            [
             0.4444444444444444,
             "#bd3786"
            ],
            [
             0.5555555555555556,
             "#d8576b"
            ],
            [
             0.6666666666666666,
             "#ed7953"
            ],
            [
             0.7777777777777778,
             "#fb9f3a"
            ],
            [
             0.8888888888888888,
             "#fdca26"
            ],
            [
             1,
             "#f0f921"
            ]
           ],
           "sequentialminus": [
            [
             0,
             "#0d0887"
            ],
            [
             0.1111111111111111,
             "#46039f"
            ],
            [
             0.2222222222222222,
             "#7201a8"
            ],
            [
             0.3333333333333333,
             "#9c179e"
            ],
            [
             0.4444444444444444,
             "#bd3786"
            ],
            [
             0.5555555555555556,
             "#d8576b"
            ],
            [
             0.6666666666666666,
             "#ed7953"
            ],
            [
             0.7777777777777778,
             "#fb9f3a"
            ],
            [
             0.8888888888888888,
             "#fdca26"
            ],
            [
             1,
             "#f0f921"
            ]
           ]
          },
          "colorway": [
           "#636efa",
           "#EF553B",
           "#00cc96",
           "#ab63fa",
           "#FFA15A",
           "#19d3f3",
           "#FF6692",
           "#B6E880",
           "#FF97FF",
           "#FECB52"
          ],
          "font": {
           "color": "#2a3f5f"
          },
          "geo": {
           "bgcolor": "white",
           "lakecolor": "white",
           "landcolor": "white",
           "showlakes": true,
           "showland": true,
           "subunitcolor": "#C8D4E3"
          },
          "hoverlabel": {
           "align": "left"
          },
          "hovermode": "closest",
          "mapbox": {
           "style": "light"
          },
          "paper_bgcolor": "white",
          "plot_bgcolor": "white",
          "polar": {
           "angularaxis": {
            "gridcolor": "#EBF0F8",
            "linecolor": "#EBF0F8",
            "ticks": ""
           },
           "bgcolor": "white",
           "radialaxis": {
            "gridcolor": "#EBF0F8",
            "linecolor": "#EBF0F8",
            "ticks": ""
           }
          },
          "scene": {
           "xaxis": {
            "backgroundcolor": "white",
            "gridcolor": "#DFE8F3",
            "gridwidth": 2,
            "linecolor": "#EBF0F8",
            "showbackground": true,
            "ticks": "",
            "zerolinecolor": "#EBF0F8"
           },
           "yaxis": {
            "backgroundcolor": "white",
            "gridcolor": "#DFE8F3",
            "gridwidth": 2,
            "linecolor": "#EBF0F8",
            "showbackground": true,
            "ticks": "",
            "zerolinecolor": "#EBF0F8"
           },
           "zaxis": {
            "backgroundcolor": "white",
            "gridcolor": "#DFE8F3",
            "gridwidth": 2,
            "linecolor": "#EBF0F8",
            "showbackground": true,
            "ticks": "",
            "zerolinecolor": "#EBF0F8"
           }
          },
          "shapedefaults": {
           "line": {
            "color": "#2a3f5f"
           }
          },
          "ternary": {
           "aaxis": {
            "gridcolor": "#DFE8F3",
            "linecolor": "#A2B1C6",
            "ticks": ""
           },
           "baxis": {
            "gridcolor": "#DFE8F3",
            "linecolor": "#A2B1C6",
            "ticks": ""
           },
           "bgcolor": "white",
           "caxis": {
            "gridcolor": "#DFE8F3",
            "linecolor": "#A2B1C6",
            "ticks": ""
           }
          },
          "title": {
           "x": 0.05
          },
          "xaxis": {
           "automargin": true,
           "gridcolor": "#EBF0F8",
           "linecolor": "#EBF0F8",
           "ticks": "",
           "title": {
            "standoff": 15
           },
           "zerolinecolor": "#EBF0F8",
           "zerolinewidth": 2
          },
          "yaxis": {
           "automargin": true,
           "gridcolor": "#EBF0F8",
           "linecolor": "#EBF0F8",
           "ticks": "",
           "title": {
            "standoff": 15
           },
           "zerolinecolor": "#EBF0F8",
           "zerolinewidth": 2
          }
         }
        },
        "width": 900,
        "xaxis": {
         "anchor": "y",
         "domain": [
          0,
          1
         ],
         "title": {
          "text": "Capacity (Mm<sup>3</sup>/y)"
         }
        },
        "yaxis": {
         "anchor": "x",
         "domain": [
          0,
          1
         ],
         "title": {
          "text": "LCOW ($/m<sup>3</sup>)"
         }
        }
       }
      },
      "text/html": [
       "<div>\n",
       "        \n",
       "        \n",
       "            <div id=\"168ec765-0c57-4d26-94fe-6c8e5e6a2e9b\" class=\"plotly-graph-div\" style=\"height:525px; width:900px;\"></div>\n",
       "            <script type=\"text/javascript\">\n",
       "                require([\"plotly\"], function(Plotly) {\n",
       "                    window.PLOTLYENV=window.PLOTLYENV || {};\n",
       "                    \n",
       "                if (document.getElementById(\"168ec765-0c57-4d26-94fe-6c8e5e6a2e9b\")) {\n",
       "                    Plotly.newPlot(\n",
       "                        '168ec765-0c57-4d26-94fe-6c8e5e6a2e9b',\n",
       "                        [{\"hovertemplate\": \"PopulationLeastCostTechnology=Extended aeration<br>PopulationReclaimedWater=%{x}<br>PopulationLeastCost=%{y}<br>Cluster=%{text}<extra></extra>\", \"legendgroup\": \"Extended aeration\", \"line\": {\"color\": \"#4C78A8\", \"dash\": \"solid\"}, \"mode\": \"lines+markers\", \"name\": \"Extended aeration\", \"opacity\": 0.8, \"orientation\": \"v\", \"showlegend\": false, \"text\": [7.0, 13.0, 25.0, 9.0, 31.0, 26.0, 11.0, 27.0, 15.0, 29.0, 34.0, 20.0, 32.0, 38.0], \"type\": \"scatter\", \"x\": [16.279836563532694, 15.949011560679175, 14.097633605056634, 14.005798994692414, 12.035531708082793, 11.332357866694275, 9.88268347256978, 9.255684011984956, 8.15997845765427, 7.539862006933193, 6.522716692816407, 5.716705297236836, 5.469882593977991, 5.433444683939115], \"xaxis\": \"x\", \"y\": [0.04841283743575303, 0.04892778805712809, 0.05214092652368404, 0.052316917857311275, 0.05657161041293024, 0.0583561624186188, 0.06262740149509992, 0.06478279902383141, 0.06913795927841108, 0.07201914812628858, 0.07761929141398782, 0.08309669200592039, 0.08501506797350074, 0.08530944537443083], \"yaxis\": \"y\"}, {\"hovertemplate\": \"PopulationLeastCostTechnology=Rotating biological contractors<br>PopulationReclaimedWater=%{x}<br>PopulationLeastCost=%{y}<br>Cluster=%{text}<extra></extra>\", \"legendgroup\": \"Rotating biological contractors\", \"line\": {\"color\": \"#F58518\", \"dash\": \"solid\"}, \"mode\": \"lines+markers\", \"name\": \"Rotating biological contractors\", \"opacity\": 0.8, \"orientation\": \"v\", \"showlegend\": false, \"text\": [0.0, 14.0, 30.0, 2.0, 37.0, 35.0, 12.0, 23.0, 36.0, 18.0, 10.0, 21.0, 1.0], \"type\": \"scatter\", \"x\": [5.109837303939005, 4.378107329262253, 4.213242707808279, 4.074631585506432, 4.049699980880674, 3.3218929611172863, 2.5976988808206682, 2.4591604911149516, 2.331248396512876, 2.3123049250340335, 2.05818635020737, 1.9256842278332267, 1.556848659941871], \"xaxis\": \"x\", \"y\": [0.08764606199117898, 0.09322004741947874, 0.09465869074357193, 0.0959306544756633, 0.09616587911958666, 0.10407754379718902, 0.11481314338603776, 0.11735340726660144, 0.11988352621866519, 0.12027478231055447, 0.1259991611620294, 0.12939314694623594, 0.14086478794086327], \"yaxis\": \"y\"}, {\"hovertemplate\": \"PopulationLeastCostTechnology=Intermittent sand filter<br>PopulationReclaimedWater=%{x}<br>PopulationLeastCost=%{y}<br>Cluster=%{text}<extra></extra>\", \"legendgroup\": \"Intermittent sand filter\", \"line\": {\"color\": \"#EECA3B\", \"dash\": \"solid\"}, \"mode\": \"lines+markers\", \"name\": \"Intermittent sand filter\", \"opacity\": 0.8, \"orientation\": \"v\", \"showlegend\": false, \"text\": [22.0, 24.0, 19.0, 17.0, 5.0, 6.0, 4.0, 3.0, 8.0, 39.0, 28.0, 16.0, 33.0], \"type\": \"scatter\", \"x\": [1.1083915053979692, 0.9622352230026415, 0.7655319202580354, 0.595158973124138, 0.5233510656149161, 0.4549404459580851, 0.3820414754379898, 0.2916459266642914, 0.13911597635273704, 0.06715434649603169, 0.052218937202187767, 0.00497845051461421, 0.0047929331920743105], \"xaxis\": \"x\", \"y\": [0.15488219164852485, 0.15696000470806976, 0.16066555760947598, 0.1653097521041997, 0.16794319359152013, 0.17103879666230762, 0.1752647125757028, 0.18272013959995473, 0.210959645186458, 0.25661141899833007, 0.27889315147910554, 0.9859833254845084, 1.0135782846471744], \"yaxis\": \"y\"}],\n",
       "                        {\"legend\": {\"orientation\": \"h\", \"title\": {\"text\": \"\"}, \"tracegroupgap\": 0, \"x\": 0.5, \"xanchor\": \"center\", \"y\": -0.15, \"yanchor\": \"top\"}, \"margin\": {\"b\": 0, \"l\": 0, \"r\": 0, \"t\": 30}, \"template\": {\"data\": {\"bar\": [{\"error_x\": {\"color\": \"#2a3f5f\"}, \"error_y\": {\"color\": \"#2a3f5f\"}, \"marker\": {\"line\": {\"color\": \"white\", \"width\": 0.5}}, \"type\": \"bar\"}], \"barpolar\": [{\"marker\": {\"line\": {\"color\": \"white\", \"width\": 0.5}}, \"type\": \"barpolar\"}], \"carpet\": [{\"aaxis\": {\"endlinecolor\": \"#2a3f5f\", \"gridcolor\": \"#C8D4E3\", \"linecolor\": \"#C8D4E3\", \"minorgridcolor\": \"#C8D4E3\", \"startlinecolor\": \"#2a3f5f\"}, \"baxis\": {\"endlinecolor\": \"#2a3f5f\", \"gridcolor\": \"#C8D4E3\", \"linecolor\": \"#C8D4E3\", \"minorgridcolor\": \"#C8D4E3\", \"startlinecolor\": \"#2a3f5f\"}, \"type\": \"carpet\"}], \"choropleth\": [{\"colorbar\": {\"outlinewidth\": 0, \"ticks\": \"\"}, \"type\": \"choropleth\"}], \"contour\": [{\"colorbar\": {\"outlinewidth\": 0, \"ticks\": \"\"}, \"colorscale\": [[0.0, \"#0d0887\"], [0.1111111111111111, \"#46039f\"], [0.2222222222222222, \"#7201a8\"], [0.3333333333333333, \"#9c179e\"], [0.4444444444444444, \"#bd3786\"], [0.5555555555555556, \"#d8576b\"], [0.6666666666666666, \"#ed7953\"], [0.7777777777777778, \"#fb9f3a\"], [0.8888888888888888, \"#fdca26\"], [1.0, \"#f0f921\"]], \"type\": \"contour\"}], \"contourcarpet\": [{\"colorbar\": {\"outlinewidth\": 0, \"ticks\": \"\"}, \"type\": \"contourcarpet\"}], \"heatmap\": [{\"colorbar\": {\"outlinewidth\": 0, \"ticks\": \"\"}, \"colorscale\": [[0.0, \"#0d0887\"], [0.1111111111111111, \"#46039f\"], [0.2222222222222222, \"#7201a8\"], [0.3333333333333333, \"#9c179e\"], [0.4444444444444444, \"#bd3786\"], [0.5555555555555556, \"#d8576b\"], [0.6666666666666666, \"#ed7953\"], [0.7777777777777778, \"#fb9f3a\"], [0.8888888888888888, \"#fdca26\"], [1.0, \"#f0f921\"]], \"type\": \"heatmap\"}], \"heatmapgl\": [{\"colorbar\": {\"outlinewidth\": 0, \"ticks\": \"\"}, \"colorscale\": [[0.0, \"#0d0887\"], [0.1111111111111111, \"#46039f\"], [0.2222222222222222, \"#7201a8\"], [0.3333333333333333, \"#9c179e\"], [0.4444444444444444, \"#bd3786\"], [0.5555555555555556, \"#d8576b\"], [0.6666666666666666, \"#ed7953\"], [0.7777777777777778, \"#fb9f3a\"], [0.8888888888888888, \"#fdca26\"], [1.0, \"#f0f921\"]], \"type\": \"heatmapgl\"}], \"histogram\": [{\"marker\": {\"colorbar\": {\"outlinewidth\": 0, \"ticks\": \"\"}}, \"type\": \"histogram\"}], \"histogram2d\": [{\"colorbar\": {\"outlinewidth\": 0, \"ticks\": \"\"}, \"colorscale\": [[0.0, \"#0d0887\"], [0.1111111111111111, \"#46039f\"], [0.2222222222222222, \"#7201a8\"], [0.3333333333333333, \"#9c179e\"], [0.4444444444444444, \"#bd3786\"], [0.5555555555555556, \"#d8576b\"], [0.6666666666666666, \"#ed7953\"], [0.7777777777777778, \"#fb9f3a\"], [0.8888888888888888, \"#fdca26\"], [1.0, \"#f0f921\"]], \"type\": \"histogram2d\"}], \"histogram2dcontour\": [{\"colorbar\": {\"outlinewidth\": 0, \"ticks\": \"\"}, \"colorscale\": [[0.0, \"#0d0887\"], [0.1111111111111111, \"#46039f\"], [0.2222222222222222, \"#7201a8\"], [0.3333333333333333, \"#9c179e\"], [0.4444444444444444, \"#bd3786\"], [0.5555555555555556, \"#d8576b\"], [0.6666666666666666, \"#ed7953\"], [0.7777777777777778, \"#fb9f3a\"], [0.8888888888888888, \"#fdca26\"], [1.0, \"#f0f921\"]], \"type\": \"histogram2dcontour\"}], \"mesh3d\": [{\"colorbar\": {\"outlinewidth\": 0, \"ticks\": \"\"}, \"type\": \"mesh3d\"}], \"parcoords\": [{\"line\": {\"colorbar\": {\"outlinewidth\": 0, \"ticks\": \"\"}}, \"type\": \"parcoords\"}], \"pie\": [{\"automargin\": true, \"type\": \"pie\"}], \"scatter\": [{\"marker\": {\"colorbar\": {\"outlinewidth\": 0, \"ticks\": \"\"}}, \"type\": \"scatter\"}], \"scatter3d\": [{\"line\": {\"colorbar\": {\"outlinewidth\": 0, \"ticks\": \"\"}}, \"marker\": {\"colorbar\": {\"outlinewidth\": 0, \"ticks\": \"\"}}, \"type\": \"scatter3d\"}], \"scattercarpet\": [{\"marker\": {\"colorbar\": {\"outlinewidth\": 0, \"ticks\": \"\"}}, \"type\": \"scattercarpet\"}], \"scattergeo\": [{\"marker\": {\"colorbar\": {\"outlinewidth\": 0, \"ticks\": \"\"}}, \"type\": \"scattergeo\"}], \"scattergl\": [{\"marker\": {\"colorbar\": {\"outlinewidth\": 0, \"ticks\": \"\"}}, \"type\": \"scattergl\"}], \"scattermapbox\": [{\"marker\": {\"colorbar\": {\"outlinewidth\": 0, \"ticks\": \"\"}}, \"type\": \"scattermapbox\"}], \"scatterpolar\": [{\"marker\": {\"colorbar\": {\"outlinewidth\": 0, \"ticks\": \"\"}}, \"type\": \"scatterpolar\"}], \"scatterpolargl\": [{\"marker\": {\"colorbar\": {\"outlinewidth\": 0, \"ticks\": \"\"}}, \"type\": \"scatterpolargl\"}], \"scatterternary\": [{\"marker\": {\"colorbar\": {\"outlinewidth\": 0, \"ticks\": \"\"}}, \"type\": \"scatterternary\"}], \"surface\": [{\"colorbar\": {\"outlinewidth\": 0, \"ticks\": \"\"}, \"colorscale\": [[0.0, \"#0d0887\"], [0.1111111111111111, \"#46039f\"], [0.2222222222222222, \"#7201a8\"], [0.3333333333333333, \"#9c179e\"], [0.4444444444444444, \"#bd3786\"], [0.5555555555555556, \"#d8576b\"], [0.6666666666666666, \"#ed7953\"], [0.7777777777777778, \"#fb9f3a\"], [0.8888888888888888, \"#fdca26\"], [1.0, \"#f0f921\"]], \"type\": \"surface\"}], \"table\": [{\"cells\": {\"fill\": {\"color\": \"#EBF0F8\"}, \"line\": {\"color\": \"white\"}}, \"header\": {\"fill\": {\"color\": \"#C8D4E3\"}, \"line\": {\"color\": \"white\"}}, \"type\": \"table\"}]}, \"layout\": {\"annotationdefaults\": {\"arrowcolor\": \"#2a3f5f\", \"arrowhead\": 0, \"arrowwidth\": 1}, \"coloraxis\": {\"colorbar\": {\"outlinewidth\": 0, \"ticks\": \"\"}}, \"colorscale\": {\"diverging\": [[0, \"#8e0152\"], [0.1, \"#c51b7d\"], [0.2, \"#de77ae\"], [0.3, \"#f1b6da\"], [0.4, \"#fde0ef\"], [0.5, \"#f7f7f7\"], [0.6, \"#e6f5d0\"], [0.7, \"#b8e186\"], [0.8, \"#7fbc41\"], [0.9, \"#4d9221\"], [1, \"#276419\"]], \"sequential\": [[0.0, \"#0d0887\"], [0.1111111111111111, \"#46039f\"], [0.2222222222222222, \"#7201a8\"], [0.3333333333333333, \"#9c179e\"], [0.4444444444444444, \"#bd3786\"], [0.5555555555555556, \"#d8576b\"], [0.6666666666666666, \"#ed7953\"], [0.7777777777777778, \"#fb9f3a\"], [0.8888888888888888, \"#fdca26\"], [1.0, \"#f0f921\"]], \"sequentialminus\": [[0.0, \"#0d0887\"], [0.1111111111111111, \"#46039f\"], [0.2222222222222222, \"#7201a8\"], [0.3333333333333333, \"#9c179e\"], [0.4444444444444444, \"#bd3786\"], [0.5555555555555556, \"#d8576b\"], [0.6666666666666666, \"#ed7953\"], [0.7777777777777778, \"#fb9f3a\"], [0.8888888888888888, \"#fdca26\"], [1.0, \"#f0f921\"]]}, \"colorway\": [\"#636efa\", \"#EF553B\", \"#00cc96\", \"#ab63fa\", \"#FFA15A\", \"#19d3f3\", \"#FF6692\", \"#B6E880\", \"#FF97FF\", \"#FECB52\"], \"font\": {\"color\": \"#2a3f5f\"}, \"geo\": {\"bgcolor\": \"white\", \"lakecolor\": \"white\", \"landcolor\": \"white\", \"showlakes\": true, \"showland\": true, \"subunitcolor\": \"#C8D4E3\"}, \"hoverlabel\": {\"align\": \"left\"}, \"hovermode\": \"closest\", \"mapbox\": {\"style\": \"light\"}, \"paper_bgcolor\": \"white\", \"plot_bgcolor\": \"white\", \"polar\": {\"angularaxis\": {\"gridcolor\": \"#EBF0F8\", \"linecolor\": \"#EBF0F8\", \"ticks\": \"\"}, \"bgcolor\": \"white\", \"radialaxis\": {\"gridcolor\": \"#EBF0F8\", \"linecolor\": \"#EBF0F8\", \"ticks\": \"\"}}, \"scene\": {\"xaxis\": {\"backgroundcolor\": \"white\", \"gridcolor\": \"#DFE8F3\", \"gridwidth\": 2, \"linecolor\": \"#EBF0F8\", \"showbackground\": true, \"ticks\": \"\", \"zerolinecolor\": \"#EBF0F8\"}, \"yaxis\": {\"backgroundcolor\": \"white\", \"gridcolor\": \"#DFE8F3\", \"gridwidth\": 2, \"linecolor\": \"#EBF0F8\", \"showbackground\": true, \"ticks\": \"\", \"zerolinecolor\": \"#EBF0F8\"}, \"zaxis\": {\"backgroundcolor\": \"white\", \"gridcolor\": \"#DFE8F3\", \"gridwidth\": 2, \"linecolor\": \"#EBF0F8\", \"showbackground\": true, \"ticks\": \"\", \"zerolinecolor\": \"#EBF0F8\"}}, \"shapedefaults\": {\"line\": {\"color\": \"#2a3f5f\"}}, \"ternary\": {\"aaxis\": {\"gridcolor\": \"#DFE8F3\", \"linecolor\": \"#A2B1C6\", \"ticks\": \"\"}, \"baxis\": {\"gridcolor\": \"#DFE8F3\", \"linecolor\": \"#A2B1C6\", \"ticks\": \"\"}, \"bgcolor\": \"white\", \"caxis\": {\"gridcolor\": \"#DFE8F3\", \"linecolor\": \"#A2B1C6\", \"ticks\": \"\"}}, \"title\": {\"x\": 0.05}, \"xaxis\": {\"automargin\": true, \"gridcolor\": \"#EBF0F8\", \"linecolor\": \"#EBF0F8\", \"ticks\": \"\", \"title\": {\"standoff\": 15}, \"zerolinecolor\": \"#EBF0F8\", \"zerolinewidth\": 2}, \"yaxis\": {\"automargin\": true, \"gridcolor\": \"#EBF0F8\", \"linecolor\": \"#EBF0F8\", \"ticks\": \"\", \"title\": {\"standoff\": 15}, \"zerolinecolor\": \"#EBF0F8\", \"zerolinewidth\": 2}}}, \"width\": 900, \"xaxis\": {\"anchor\": \"y\", \"domain\": [0.0, 1.0], \"title\": {\"text\": \"Capacity (Mm<sup>3</sup>/y)\"}}, \"yaxis\": {\"anchor\": \"x\", \"domain\": [0.0, 1.0], \"title\": {\"text\": \"LCOW ($/m<sup>3</sup>)\"}}},\n",
       "                        {\"responsive\": true}\n",
       "                    ).then(function(){\n",
       "                            \n",
       "var gd = document.getElementById('168ec765-0c57-4d26-94fe-6c8e5e6a2e9b');\n",
       "var x = new MutationObserver(function (mutations, observer) {{\n",
       "        var display = window.getComputedStyle(gd).display;\n",
       "        if (!display || display === 'none') {{\n",
       "            console.log([gd, 'removed!']);\n",
       "            Plotly.purge(gd);\n",
       "            observer.disconnect();\n",
       "        }}\n",
       "}});\n",
       "\n",
       "// Listen for the removal of the full notebook cells\n",
       "var notebookContainer = gd.closest('#notebook-container');\n",
       "if (notebookContainer) {{\n",
       "    x.observe(notebookContainer, {childList: true});\n",
       "}}\n",
       "\n",
       "// Listen for the clearing of the current output cell\n",
       "var outputEl = gd.closest('.output');\n",
       "if (outputEl) {{\n",
       "    x.observe(outputEl, {childList: true});\n",
       "}}\n",
       "\n",
       "                        })\n",
       "                };\n",
       "                });\n",
       "            </script>\n",
       "        </div>"
      ]
     },
     "metadata": {},
     "output_type": "display_data"
    }
   ],
   "source": [
    "dff_least = df.groupby(['Cluster', 'PopulationLeastCostTechnology', 'PopulationReclaimedWater'])[['PopulationLeastCost']].mean().reset_index()\n",
    "\n",
    "colors = [px.colors.qualitative.T10[i] for i in [0, 1, 5]]\n",
    "\n",
    "class_name_pop = {0: 'NaN', 1: 'Extended aeration', 2: 'Membrane bioreactor',\n",
    "                  3: 'Sequencing batch reactor', 4: 'Rotating biological contractors',\n",
    "                  5: 'Intermittent sand filter', 6: 'Trickling filter',\n",
    "                  7: 'Moving bed biofilm reactor'}\n",
    "\n",
    "dff_least['PopulationLeastCostTechnology'] = [class_name_pop[tech] for tech in dff_least['PopulationLeastCostTechnology']]\n",
    "dff_least['PopulationReclaimedWater'] /= 1000000    \n",
    "\n",
    "fig_pop = make_subplots(rows=1, cols=2)\n",
    "    \n",
    "fig_pop = px.line(dff_least.sort_values('PopulationLeastCost'), x='PopulationReclaimedWater', \n",
    "                 y='PopulationLeastCost', color='PopulationLeastCostTechnology', text='Cluster',\n",
    "#                  marginal_x='rug', marginal_y='box',\n",
    "                 color_discrete_sequence=colors, \n",
    "                )\n",
    "# for i in range(0, 21, 3):              \n",
    "#     fig.data[i].update(mode='lines+markers', opacity=0.8)\n",
    "\n",
    "# x = np.array(fig.data)\n",
    "# fig.data = tuple(np.delete(x, [4, 7, 10, 13, 16, 19]))\n",
    "# fig.data = tuple(np.delete(x, [3, 5, 7, 9, 11, 13]))\n",
    "# fig.data[1].update(marker={'color': px.colors.qualitative.T10[9]}, xbins=dict(size=2000000))\n",
    "\n",
    "\n",
    "fig_pop.update_traces(mode='lines+markers', opacity=0.8, showlegend=False)\n",
    "\n",
    "# for x, cluster in zip(dff_melt['PopulationFutureReclaimedWater'].unique(), dff_melt['Cluster'].unique()):\n",
    "#     fig.add_annotation(yref=\"paper\", x=x, y=0.8,\n",
    "#                       text=cluster,\n",
    "#                       showarrow=True,\n",
    "# #                      arrowhead=1\n",
    "#                       )\n",
    "    \n",
    "fig_pop.update_layout(width=900, template='plotly_white',\n",
    "                  xaxis={'title': 'Capacity (Mm<sup>3</sup>/y)'}, \n",
    "                  yaxis={'title': 'LCOW ($/m<sup>3</sup>)'},\n",
    "                  legend=dict(\n",
    "                            title='',\n",
    "                            orientation=\"h\",\n",
    "                            yanchor=\"top\",\n",
    "                            y=-0.15,\n",
    "                            xanchor=\"center\",\n",
    "                            x=0.5\n",
    "                ),\n",
    "                 margin=dict(b=0, l=0, r=0, t=30))    \n",
    "\n",
    "fig_pop.show()\n",
    "# fig_pop.write_image('../LCOW_population_least_cost.pdf')"
   ]
  },
  {
   "cell_type": "code",
   "execution_count": 9,
   "metadata": {},
   "outputs": [],
   "source": [
    "capex = '(3897.7*(v*1500/400/365)**(-0.407))*(v*1500/400/365)'\n",
    "opex = '5.543*(v*1500/400/365)+3127.5'"
   ]
  },
  {
   "cell_type": "code",
   "execution_count": 10,
   "metadata": {},
   "outputs": [],
   "source": [
    "v = np.arange(500000., 650000000., 1000000)\n",
    "y = np.arange(0, 36)\n",
    "r = 0.04\n",
    "lcow_capex = eval(capex) / (v * sum((1 / (1 + r))**y))\n",
    "lcow_opex = eval(opex) / (v)\n",
    "lcow = lcow_capex + lcow_opex"
   ]
  },
  {
   "cell_type": "code",
   "execution_count": 33,
   "metadata": {
    "scrolled": false
   },
   "outputs": [
    {
     "data": {
      "application/vnd.plotly.v1+json": {
       "config": {
        "plotlyServerURL": "https://plot.ly"
       },
       "data": [
        {
         "marker": {
          "color": "#E45756"
         },
         "mode": "lines",
         "name": "Pond system LCOW",
         "opacity": 1,
         "type": "scatter",
         "x": [
          0.5,
          1.5,
          2.5,
          3.5,
          4.5,
          5.5,
          6.5,
          7.5,
          8.5,
          9.5,
          10.5,
          11.5,
          12.5,
          13.5,
          14.5,
          15.5,
          16.5,
          17.5,
          18.5,
          19.5,
          20.5,
          21.5,
          22.5,
          23.5,
          24.5,
          25.5,
          26.5,
          27.5,
          28.5,
          29.5,
          30.5,
          31.5,
          32.5,
          33.5,
          34.5,
          35.5,
          36.5,
          37.5,
          38.5,
          39.5,
          40.5,
          41.5,
          42.5,
          43.5,
          44.5,
          45.5,
          46.5,
          47.5,
          48.5,
          49.5,
          50.5,
          51.5,
          52.5,
          53.5,
          54.5,
          55.5,
          56.5,
          57.5,
          58.5,
          59.5,
          60.5,
          61.5,
          62.5,
          63.5,
          64.5,
          65.5,
          66.5,
          67.5,
          68.5,
          69.5,
          70.5,
          71.5,
          72.5,
          73.5,
          74.5,
          75.5,
          76.5,
          77.5,
          78.5,
          79.5,
          80.5,
          81.5,
          82.5,
          83.5,
          84.5,
          85.5,
          86.5,
          87.5,
          88.5,
          89.5,
          90.5,
          91.5,
          92.5,
          93.5,
          94.5,
          95.5,
          96.5,
          97.5,
          98.5,
          99.5,
          100.5,
          101.5,
          102.5,
          103.5,
          104.5,
          105.5,
          106.5,
          107.5,
          108.5,
          109.5,
          110.5,
          111.5,
          112.5,
          113.5,
          114.5,
          115.5,
          116.5,
          117.5,
          118.5,
          119.5,
          120.5,
          121.5,
          122.5,
          123.5,
          124.5,
          125.5,
          126.5,
          127.5,
          128.5,
          129.5,
          130.5,
          131.5,
          132.5,
          133.5,
          134.5,
          135.5,
          136.5,
          137.5,
          138.5,
          139.5,
          140.5,
          141.5,
          142.5,
          143.5,
          144.5,
          145.5,
          146.5,
          147.5,
          148.5,
          149.5,
          150.5,
          151.5,
          152.5,
          153.5,
          154.5,
          155.5,
          156.5,
          157.5,
          158.5,
          159.5,
          160.5,
          161.5,
          162.5,
          163.5,
          164.5,
          165.5,
          166.5,
          167.5,
          168.5,
          169.5,
          170.5,
          171.5,
          172.5,
          173.5,
          174.5,
          175.5,
          176.5,
          177.5,
          178.5,
          179.5,
          180.5,
          181.5,
          182.5,
          183.5,
          184.5,
          185.5,
          186.5,
          187.5,
          188.5,
          189.5,
          190.5,
          191.5,
          192.5,
          193.5,
          194.5,
          195.5,
          196.5,
          197.5,
          198.5,
          199.5,
          200.5,
          201.5,
          202.5,
          203.5,
          204.5,
          205.5,
          206.5,
          207.5,
          208.5,
          209.5,
          210.5,
          211.5,
          212.5,
          213.5,
          214.5,
          215.5,
          216.5,
          217.5,
          218.5,
          219.5,
          220.5,
          221.5,
          222.5,
          223.5,
          224.5,
          225.5,
          226.5,
          227.5,
          228.5,
          229.5,
          230.5,
          231.5,
          232.5,
          233.5,
          234.5,
          235.5,
          236.5,
          237.5,
          238.5,
          239.5,
          240.5,
          241.5,
          242.5,
          243.5,
          244.5,
          245.5,
          246.5,
          247.5,
          248.5,
          249.5,
          250.5,
          251.5,
          252.5,
          253.5,
          254.5,
          255.5,
          256.5,
          257.5,
          258.5,
          259.5,
          260.5,
          261.5,
          262.5,
          263.5,
          264.5,
          265.5,
          266.5,
          267.5,
          268.5,
          269.5,
          270.5,
          271.5,
          272.5,
          273.5,
          274.5,
          275.5,
          276.5,
          277.5,
          278.5,
          279.5,
          280.5,
          281.5,
          282.5,
          283.5,
          284.5,
          285.5,
          286.5,
          287.5,
          288.5,
          289.5,
          290.5,
          291.5,
          292.5,
          293.5,
          294.5,
          295.5,
          296.5,
          297.5,
          298.5,
          299.5,
          300.5,
          301.5,
          302.5,
          303.5,
          304.5,
          305.5,
          306.5,
          307.5,
          308.5,
          309.5,
          310.5,
          311.5,
          312.5,
          313.5,
          314.5,
          315.5,
          316.5,
          317.5,
          318.5,
          319.5,
          320.5,
          321.5,
          322.5,
          323.5,
          324.5,
          325.5,
          326.5,
          327.5,
          328.5,
          329.5,
          330.5,
          331.5,
          332.5,
          333.5,
          334.5,
          335.5,
          336.5,
          337.5,
          338.5,
          339.5,
          340.5,
          341.5,
          342.5,
          343.5,
          344.5,
          345.5,
          346.5,
          347.5,
          348.5,
          349.5,
          350.5,
          351.5,
          352.5,
          353.5,
          354.5,
          355.5,
          356.5,
          357.5,
          358.5,
          359.5,
          360.5,
          361.5,
          362.5,
          363.5,
          364.5,
          365.5,
          366.5,
          367.5,
          368.5,
          369.5,
          370.5,
          371.5,
          372.5,
          373.5,
          374.5,
          375.5,
          376.5,
          377.5,
          378.5,
          379.5,
          380.5,
          381.5,
          382.5,
          383.5,
          384.5,
          385.5,
          386.5,
          387.5,
          388.5,
          389.5,
          390.5,
          391.5,
          392.5,
          393.5,
          394.5,
          395.5,
          396.5,
          397.5,
          398.5,
          399.5,
          400.5,
          401.5,
          402.5,
          403.5,
          404.5,
          405.5,
          406.5,
          407.5,
          408.5,
          409.5,
          410.5,
          411.5,
          412.5,
          413.5,
          414.5,
          415.5,
          416.5,
          417.5,
          418.5,
          419.5,
          420.5,
          421.5,
          422.5,
          423.5,
          424.5,
          425.5,
          426.5,
          427.5,
          428.5,
          429.5,
          430.5,
          431.5,
          432.5,
          433.5,
          434.5,
          435.5,
          436.5,
          437.5,
          438.5,
          439.5,
          440.5,
          441.5,
          442.5,
          443.5,
          444.5,
          445.5,
          446.5,
          447.5,
          448.5,
          449.5,
          450.5,
          451.5,
          452.5,
          453.5,
          454.5,
          455.5,
          456.5,
          457.5,
          458.5,
          459.5,
          460.5,
          461.5,
          462.5,
          463.5,
          464.5,
          465.5,
          466.5,
          467.5,
          468.5,
          469.5,
          470.5,
          471.5,
          472.5,
          473.5,
          474.5,
          475.5,
          476.5,
          477.5,
          478.5,
          479.5,
          480.5,
          481.5,
          482.5,
          483.5,
          484.5,
          485.5,
          486.5,
          487.5,
          488.5,
          489.5,
          490.5,
          491.5,
          492.5,
          493.5,
          494.5,
          495.5,
          496.5,
          497.5,
          498.5,
          499.5,
          500.5,
          501.5,
          502.5,
          503.5,
          504.5,
          505.5,
          506.5,
          507.5,
          508.5,
          509.5,
          510.5,
          511.5,
          512.5,
          513.5,
          514.5,
          515.5,
          516.5,
          517.5,
          518.5,
          519.5,
          520.5,
          521.5,
          522.5,
          523.5,
          524.5,
          525.5,
          526.5,
          527.5,
          528.5,
          529.5,
          530.5,
          531.5,
          532.5,
          533.5,
          534.5,
          535.5,
          536.5,
          537.5,
          538.5,
          539.5,
          540.5,
          541.5,
          542.5,
          543.5,
          544.5,
          545.5,
          546.5,
          547.5,
          548.5,
          549.5,
          550.5,
          551.5,
          552.5,
          553.5,
          554.5,
          555.5,
          556.5,
          557.5,
          558.5,
          559.5,
          560.5,
          561.5,
          562.5,
          563.5,
          564.5,
          565.5,
          566.5,
          567.5,
          568.5,
          569.5,
          570.5,
          571.5,
          572.5,
          573.5,
          574.5,
          575.5,
          576.5,
          577.5,
          578.5,
          579.5,
          580.5,
          581.5,
          582.5,
          583.5,
          584.5,
          585.5,
          586.5,
          587.5,
          588.5,
          589.5,
          590.5,
          591.5,
          592.5,
          593.5,
          594.5,
          595.5,
          596.5,
          597.5,
          598.5,
          599.5,
          600.5,
          601.5,
          602.5,
          603.5,
          604.5,
          605.5,
          606.5,
          607.5,
          608.5,
          609.5,
          610.5,
          611.5,
          612.5,
          613.5,
          614.5,
          615.5,
          616.5,
          617.5,
          618.5,
          619.5,
          620.5,
          621.5,
          622.5,
          623.5,
          624.5,
          625.5,
          626.5,
          627.5,
          628.5,
          629.5,
          630.5,
          631.5,
          632.5,
          633.5,
          634.5,
          635.5,
          636.5,
          637.5,
          638.5,
          639.5,
          640.5,
          641.5,
          642.5,
          643.5,
          644.5,
          645.5,
          646.5,
          647.5,
          648.5,
          649.5
         ],
         "y": [
          0.12609674169508983,
          0.09925109867723883,
          0.09086761078685285,
          0.08632929756702633,
          0.08336098988777446,
          0.08121769830338026,
          0.07957235962960524,
          0.07825541363650065,
          0.07716885033078337,
          0.07625146798038014,
          0.07546277295659498,
          0.07477473856251084,
          0.07416725375765787,
          0.07362545400914688,
          0.07313807763182818,
          0.07269641180033044,
          0.07229359320093434,
          0.07192413023742564,
          0.07158356824154448,
          0.07126824964153951,
          0.07097513877189104,
          0.07070169166432544,
          0.07044575775845484,
          0.07020550466437389,
          0.06997935983876107,
          0.06976596485002196,
          0.0695641391369935,
          0.06937285101298654,
          0.06919119426040841,
          0.06901836908300578,
          0.06885366648661174,
          0.06869645538088626,
          0.06854617185803191,
          0.06840231022638378,
          0.06826441546859156,
          0.06813207686391276,
          0.06800492256765946,
          0.06788261498222137,
          0.06776484678632444,
          0.06765133751448198,
          0.06754183059858127,
          0.0674360907994416,
          0.06733390196889542,
          0.06723506509317494,
          0.06713939657666664,
          0.06704672673182799,
          0.06695689844656615,
          0.06686976600489718,
          0.06678519404043484,
          0.06670305660534642,
          0.06662323633998506,
          0.06654562373055391,
          0.06647011644395882,
          0.06639661873052018,
          0.06632504088649424,
          0.0662552987694379,
          0.06618731336037152,
          0.06612101036748055,
          0.06605631986676734,
          0.06599317597564099,
          0.06593151655592795,
          0.0658712829432137,
          0.06581241969979378,
          0.06575487438883357,
          0.06569859736761337,
          0.06564354159797732,
          0.06558966247231603,
          0.06553691765359727,
          0.06548526692812097,
          0.0654346720698168,
          0.06538509671502778,
          0.06533650624683321,
          0.0652888676880624,
          0.0652421496022358,
          0.06519632200174715,
          0.06515135626266823,
          0.06510722504561715,
          0.06506390222218629,
          0.0650213628064723,
          0.06497958289129502,
          0.06493853958872896,
          0.06489821097460671,
          0.06485857603668355,
          0.06481961462618052,
          0.06478130741244836,
          0.06474363584051682,
          0.06470658209131443,
          0.06467012904436192,
          0.06463426024275913,
          0.06459895986030034,
          0.06456421267056629,
          0.06453000401785376,
          0.06449631978981464,
          0.06446314639168679,
          0.06443047072200796,
          0.06439828014971286,
          0.06436656249252086,
          0.06433530599652937,
          0.0643044993169336,
          0.06427413149980012,
          0.06424419196482642,
          0.06421467048902421,
          0.06418555719126802,
          0.06415684251765551,
          0.06412851722762947,
          0.06410057238081486,
          0.06407299932452767,
          0.06404578968191554,
          0.06401893534069247,
          0.06399242844243261,
          0.06396626137239082,
          0.06394042674981931,
          0.06391491741875215,
          0.06388972643923095,
          0.06386484707894713,
          0.06384027280527724,
          0.0638159972776899,
          0.0637920143405039,
          0.06376831801597829,
          0.06374490249771674,
          0.06372176214436914,
          0.06369889147361511,
          0.06367628515641408,
          0.06365393801150845,
          0.0636318450001666,
          0.06361000122115346,
          0.06358840190591698,
          0.0635670424139798,
          0.06354591822852564,
          0.06352502495217083,
          0.06350435830291194,
          0.06348391411024056,
          0.0634636883114176,
          0.06344367694789907,
          0.06342387616190606,
          0.06340428219313242,
          0.06338489137558322,
          0.06336570013453825,
          0.06334670498363452,
          0.06332790252206223,
          0.0633092894318693,
          0.06329086247536914,
          0.06327261849264744,
          0.06325455439916307,
          0.0632366671834392,
          0.06321895390484074,
          0.06320141169143384,
          0.06318403773792448,
          0.06316682930367229,
          0.06314978371077642,
          0.06313289834223075,
          0.0631161706401448,
          0.06309959810402829,
          0.06308317828913629,
          0.06306690880487241,
          0.06305078731324784,
          0.06303481152739392,
          0.06301897921012564,
          0.06300328817255485,
          0.06298773627275013,
          0.0629723214144424,
          0.06295704154577378,
          0.06294189465808836,
          0.06292687878476307,
          0.06291199200007713,
          0.06289723241811859,
          0.06288259819172654,
          0.06286808751146743,
          0.06285369860464464,
          0.06283942973433954,
          0.06282527919848313,
          0.0628112453289571,
          0.06279732649072314,
          0.06278352108097948,
          0.06276982752834363,
          0.06275624429206049,
          0.06274276986123474,
          0.06272940275408657,
          0.06271614151723037,
          0.06270298472497485,
          0.06268993097864442,
          0.06267697890592086,
          0.06266412716020445,
          0.06265137441999405,
          0.06263871938828541,
          0.06262616079198716,
          0.06261369738135361,
          0.06260132792943407,
          0.06258905123153809,
          0.06257686610471584,
          0.06256477138725346,
          0.06255276593818258,
          0.06254084863680372,
          0.06252901838222305,
          0.06251727409290209,
          0.0625056147062198,
          0.06249403917804697,
          0.062482546482331994,
          0.062471135610698336,
          0.0624598055720526,
          0.06244855539220342,
          0.0624373841134905,
          0.062426290794423675,
          0.062415274509331535,
          0.062404334348019314,
          0.06239346941543603,
          0.062382678831350055,
          0.06237196173003344,
          0.06236131725995427,
          0.0623507445834771,
          0.062340242876571056,
          0.062329811328525414,
          0.06231944914167245,
          0.06230915553111736,
          0.06229892972447499,
          0.06228877096161314,
          0.06227867849440237,
          0.06226865158647205,
          0.0622586895129724,
          0.06224879156034245,
          0.062238957026083674,
          0.062229185218539304,
          0.062219475456678726,
          0.062209827069887515,
          0.06220023939776213,
          0.06219071178990983,
          0.062181243605753306,
          0.06217183421433991,
          0.062162482994155464,
          0.06215318933294247,
          0.06214395262752258,
          0.06213477228362322,
          0.0621256477157083,
          0.06211657834681278,
          0.06210756360838113,
          0.06209860294010951,
          0.06208969578979147,
          0.06208084161316735,
          0.06207203987377688,
          0.06206329004281536,
          0.062054591598992855,
          0.06204594402839672,
          0.062037346824357124,
          0.06202879948731556,
          0.062020301524696314,
          0.062011852450780724,
          0.062003451786584285,
          0.061995099059736304,
          0.061986793804362325,
          0.061978535560969106,
          0.061970323876331876,
          0.06196215830338435,
          0.061954038401110814,
          0.061945963734440716,
          0.061937933874145354,
          0.061929948396736885,
          0.06192200688436939,
          0.061914108924742035,
          0.06190625411100428,
          0.06189844204166305,
          0.061890672320491884,
          0.06188294455644185,
          0.061875258363554494,
          0.06186761336087634,
          0.06186000917237536,
          0.06185244542685905,
          0.06184492175789411,
          0.06183743780372794,
          0.061829993207211484,
          0.06182258761572381,
          0.06181522068109815,
          0.06180789205954936,
          0.061800601411602894,
          0.06179334840202513,
          0.06178613269975518,
          0.06177895397783781,
          0.06177181191335804,
          0.06176470618737659,
          0.06175763648486695,
          0.06175060249465348,
          0.06174360390935073,
          0.06173664042530394,
          0.06172971174253074,
          0.061722817564663884,
          0.06171595759889506,
          0.0617091315559199,
          0.06170233914988385,
          0.06169558009832924,
          0.06168885412214318,
          0.06168216094550655,
          0.061675500295843906,
          0.06166887190377433,
          0.061662275503063135,
          0.061655710830574514,
          0.06164917762622508,
          0.06164267563293818,
          0.061636204596599166,
          0.061629764266011286,
          0.061623354392852624,
          0.061616974731633634,
          0.06161062503965545,
          0.06160430507696908,
          0.061598014606335225,
          0.061591753393184775,
          0.061585521205580106,
          0.06157931781417706,
          0.061573142992187524,
          0.06156699651534268,
          0.061560878161857,
          0.061554787712392735,
          0.06154872495002514,
          0.06154268966020817,
          0.061536681630741004,
          0.06153070065173481,
          0.06152474651558037,
          0.06151881901691622,
          0.06151291795259714,
          0.06150704312166342,
          0.061501194325310475,
          0.061495371366859154,
          0.061489574051726295,
          0.06148380218739605,
          0.061478055583391526,
          0.06147233405124692,
          0.061466637404480155,
          0.06146096545856601,
          0.061455318030909555,
          0.061449694940820164,
          0.06144409600948593,
          0.06143852105994844,
          0.061432969917077994,
          0.061427442407549285,
          0.06142193835981738,
          0.06141645760409419,
          0.06141099997232517,
          0.06140556529816669,
          0.06140015341696329,
          0.061394764165725875,
          0.0613893973831098,
          0.06138405290939347,
          0.0613787305864574,
          0.0613734302577634,
          0.06136815176833421,
          0.06136289496473339,
          0.06135765969504564,
          0.06135244580885732,
          0.061347253157237235,
          0.06134208159271794,
          0.061336930969277045,
          0.061331801142319065,
          0.061326691968657324,
          0.06132160330649637,
          0.061316535015414474,
          0.06131148695634647,
          0.061306458991566865,
          0.06130145098467321,
          0.06129646280056969,
          0.061291494305450944,
          0.06128654536678628,
          0.06128161585330387,
          0.06127670563497544,
          0.061271814583001044,
          0.061266942569794036,
          0.061262089468966434,
          0.06125725515531433,
          0.061252439504803594,
          0.06124764239455577,
          0.061242863702834195,
          0.061238103309030345,
          0.06123336109365032,
          0.061228636938301495,
          0.06122393072567958,
          0.061219242339555585,
          0.06121457166476314,
          0.06120991858718601,
          0.06120528299374567,
          0.0612006647723892,
          0.06119606381207723,
          0.06119148000277215,
          0.06118691323542645,
          0.06118236340197122,
          0.06117783039530481,
          0.0611733141092817,
          0.06116881443870145,
          0.06116433127929782,
          0.06115986452772821,
          0.061155414081562914,
          0.061150979839274804,
          0.06114656170022916,
          0.061142159564673365,
          0.061137773333727094,
          0.06113340290937238,
          0.061129048194443966,
          0.061124709092619675,
          0.06112038550841104,
          0.06111607734715397,
          0.06111178451499952,
          0.061107506918904896,
          0.06110324446662454,
          0.06109899706670124,
          0.06109476462845748,
          0.061090547061986876,
          0.06108634427814571,
          0.06108215618854453,
          0.06107798270554004,
          0.06107382374222683,
          0.06106967921242945,
          0.06106554903069448,
          0.06106143311228271,
          0.06105733137316148,
          0.061053243729997,
          0.06104917010014695,
          0.06104511040165299,
          0.06104106455323349,
          0.06103703247427638,
          0.06103301408483194,
          0.06102900930560579,
          0.06102501805795203,
          0.06102104026386635,
          0.06101707584597928,
          0.061013124727549474,
          0.06100918683245725,
          0.06100526208519796,
          0.06100135041087571,
          0.0609974517351969,
          0.06099356598446406,
          0.060989693085569625,
          0.060985832965989896,
          0.06098198555377898,
          0.06097815077756288,
          0.06097432856653357,
          0.06097051885044329,
          0.06096672155959879,
          0.060962936624855656,
          0.060959163977612724,
          0.060955403549806664,
          0.06095165527390639,
          0.06094791908290788,
          0.0609441949103287,
          0.06094048269020283,
          0.060936782357075475,
          0.060933093845997995,
          0.06092941709252281,
          0.06092575203269841,
          0.06092209860306447,
          0.0609184567406469,
          0.06091482638295316,
          0.06091120746796738,
          0.06090759993414577,
          0.06090400372041188,
          0.060900418766152174,
          0.06089684501121131,
          0.06089328239588782,
          0.06088973086092963,
          0.06088619034752969,
          0.06088266079732171,
          0.060879142152375824,
          0.06087563435519441,
          0.06087213734870797,
          0.060868651076270944,
          0.060865175481657714,
          0.06086171050905853,
          0.06085825610307555,
          0.06085481220871895,
          0.06085137877140304,
          0.060847955736942405,
          0.0608445430515481,
          0.06084114066182397,
          0.06083774851476289,
          0.06083436655774316,
          0.06083099473852482,
          0.06082763300524613,
          0.060824281306420015,
          0.06082093959093061,
          0.060817607808029715,
          0.060814285907333475,
          0.06081097383881896,
          0.06080767155282084,
          0.06080437900002806,
          0.060801096131480645,
          0.060797822898566375,
          0.060794559253017674,
          0.06079130514690847,
          0.06078806053265097,
          0.060784825362992685,
          0.06078159959101335,
          0.06077838317012187,
          0.06077517605405343,
          0.06077197819686643,
          0.060768789552939656,
          0.06076561007696935,
          0.0607624397239664,
          0.060759278449253495,
          0.060756126208462304,
          0.060752982957530795,
          0.060749848652700424,
          0.060746723250513515,
          0.060743606707810496,
          0.06074049898172738,
          0.06073740002969301,
          0.06073430980942661,
          0.060731228278935144,
          0.060728155396510844,
          0.060725091120728616,
          0.060722035410443694,
          0.0607189882247891,
          0.06071594952317326,
          0.06071291926527758,
          0.06070989741105413,
          0.060706883920723195,
          0.060703878754771116,
          0.06070088187394784,
          0.06069789323926475,
          0.060694912811992324,
          0.06069194055365803,
          0.06068897642604403,
          0.06068602039118503,
          0.06068307241136616,
          0.060680132449120766,
          0.06067720046722842,
          0.06067427642871269,
          0.060671360296839186,
          0.060668452035113445,
          0.06066555160727897,
          0.06066265897731516,
          0.0606597741094354,
          0.06065689696808502,
          0.060654027517939406,
          0.06065116572390212,
          0.060648311551102875,
          0.06064546496489574,
          0.06064262593085731,
          0.06063979441478473,
          0.060636970382694035,
          0.060634153800818213,
          0.06063134463560547,
          0.060628542853717424,
          0.06062574842202745,
          0.060622961307618815,
          0.06062018147778305,
          0.0606174089000182,
          0.060614643542027176,
          0.06061188537171607,
          0.06060913435719249,
          0.060606390466763985,
          0.060603653668936316,
          0.060600923932411996,
          0.0605982012260886,
          0.06059548551905721,
          0.06059277678060091,
          0.06059007498019321,
          0.060587380087496506,
          0.06058469207236061,
          0.06058201090482122,
          0.06057933655509848,
          0.06057666899359547,
          0.060574008190896804,
          0.06057135411776712,
          0.06056870674514975,
          0.060566066044165215,
          0.060563431986109924,
          0.06056080454245474,
          0.060558183684843565,
          0.06055556938509208,
          0.06055296161518635,
          0.06055036034728151,
          0.06054776555370041,
          0.06054517720693236,
          0.0605425952796318,
          0.06054001974461709,
          0.0605374505748691,
          0.06053488774353013,
          0.06053233122390251,
          0.06052978098944749,
          0.06052723701378394,
          0.06052469927068716,
          0.06052216773408772,
          0.06051964237807021,
          0.06051712317687214,
          0.06051461010488268,
          0.060512103136641605,
          0.06050960224683808,
          0.060507107410309555,
          0.06050461860204066,
          0.06050213579716209,
          0.06049965897094945,
          0.060497188098822215,
          0.060494723156342675,
          0.060492264119214795,
          0.060489810963283194,
          0.0604873636645321,
          0.06048492219908425,
          0.060482486543199966,
          0.06048005667327606,
          0.060477632565844784,
          0.060475214197572895,
          0.060472801545260677,
          0.06047039458584086,
          0.06046799329637771,
          0.060465597654066075,
          0.060463207636230365,
          0.06046082322032367,
          0.06045844438392676,
          0.06045607110474717,
          0.060453703360618276,
          0.060451341129498404,
          0.0604489843894699,
          0.060446633118738186,
          0.060444287295630936,
          0.06044194689859714,
          0.06043961190620629,
          0.06043728229714742,
          0.06043495805022834,
          0.06043263914437469,
          0.060430325558629164,
          0.06042801727215066,
          0.0604257142642134,
          0.06042341651420614,
          0.060421124001631396,
          0.060418836706104526,
          0.06041655460735306,
          0.06041427768521579,
          0.06041200591964201,
          0.060409739290690795,
          0.06040747777853016,
          0.06040522136343629,
          0.06040297002579283,
          0.06040072374609009,
          0.0603984825049243,
          0.06039624628299688,
          0.06039401506111365,
          0.06039178882018419,
          0.060389567541221094,
          0.060387351205339175,
          0.060385139793754844,
          0.060382933287785344,
          0.060380731668848074,
          0.06037853491845996,
          0.060376343018236606,
          0.0603741559498918,
          0.060371973695236704,
          0.06036979623617921,
          0.06036762355472336,
          0.060365455632968565,
          0.06036329245310903,
          0.06036113399743307,
          0.0603589802483225,
          0.060356831188252,
          0.060354686799788386,
          0.060352547065590144
         ]
        },
        {
         "marker": {
          "color": "#E45756",
          "opacity": 0.6
         },
         "mode": "markers+text",
         "name": "Clusters",
         "text": [
          "",
          "",
          "",
          "",
          "",
          "",
          "",
          "",
          "",
          "",
          "",
          "",
          "",
          "",
          "",
          "",
          "",
          "",
          "",
          "",
          "",
          "",
          "",
          "",
          "",
          "",
          "",
          "",
          "",
          "",
          "",
          "",
          "",
          "",
          "",
          "",
          "",
          "",
          "",
          ""
         ],
         "type": "scatter",
         "x": [
          643.4539600854323,
          244.9419294691763,
          180.52559503759218,
          174.2134111675475,
          144.13021853777767,
          136.69304295388724,
          130.96238984663913,
          128.25641816497043,
          102.06946184656994,
          99.01652447888077,
          85.64104070828782,
          70.15650229225157,
          69.76965585716391,
          67.90305507559756,
          49.52343526452687,
          47.774843228122286,
          46.3160360222182,
          40.9953124714815,
          40.05200338985438,
          39.38213690463627,
          35.84857932833589,
          31.869331943921274,
          30.575873093996886,
          26.740681405413465,
          20.575192180598496,
          19.684589055045056,
          16.25180631010767,
          14.126058312075278,
          12.125955297235047,
          10.675142085418226,
          9.94148727827959,
          9.244354739350335,
          6.999920904985394,
          6.498913747567517,
          3.5086816509956367,
          3.381277660965747,
          2.8145867769072233,
          2.6587895730724727,
          2.380467628301115,
          0.7166517908336182
         ],
         "y": [
          0.05957942217494875,
          0.06087075092965803,
          0.061674962458738755,
          0.061608485370423904,
          0.06231809174313737,
          0.06264015225256991,
          0.0622326539855195,
          0.06212037901688569,
          0.06269158356126235,
          0.06306001278612053,
          0.06336558492343879,
          0.06382425058373635,
          0.06363909699263263,
          0.06376250474127965,
          0.06487669080496009,
          0.06528485634917243,
          0.06489668446629417,
          0.06563397390146483,
          0.0664021083805899,
          0.06705470317718537,
          0.06638209293319973,
          0.06618339164344951,
          0.06661043339511756,
          0.06844603283443633,
          0.07163934279453095,
          0.06810804528740605,
          0.07776357641018936,
          0.07284623714794349,
          0.07130085780454602,
          0.07324255138979528,
          0.07307814302872957,
          0.084150099288614,
          0.07826581141750498,
          0.08430160098100217,
          0.08769314306609567,
          0.08046525140743281,
          0.08804060942301692,
          0.10002888022495889,
          0.09297492795733425,
          0.12180405524270019
         ]
        }
       ],
       "layout": {
        "annotations": [
         {
          "align": "center",
          "arrowcolor": "#636363",
          "arrowhead": 2,
          "arrowside": "none",
          "arrowsize": 1,
          "arrowwidth": 1,
          "ax": -10,
          "ay": 20,
          "font": {
           "size": 10
          },
          "opacity": 0.5,
          "showarrow": true,
          "text": "7",
          "x": 643.4539600854323,
          "xref": "x",
          "xshift": -1.3416407864998738,
          "y": 0.05957942217494875,
          "yref": "y",
          "yshift": -2.6832815729997477
         },
         {
          "align": "center",
          "arrowcolor": "#636363",
          "arrowhead": 2,
          "arrowside": "none",
          "arrowsize": 1,
          "arrowwidth": 1,
          "ax": 10,
          "ay": -20,
          "font": {
           "size": 10
          },
          "opacity": 0.5,
          "showarrow": true,
          "text": "15",
          "x": 244.9419294691763,
          "xref": "x",
          "xshift": 1.3416407864998738,
          "y": 0.06087075092965803,
          "yref": "y",
          "yshift": 2.6832815729997477
         },
         {
          "align": "center",
          "arrowcolor": "#636363",
          "arrowhead": 2,
          "arrowside": "none",
          "arrowsize": 1,
          "arrowwidth": 1,
          "ax": 10,
          "ay": 20,
          "font": {
           "size": 10
          },
          "opacity": 0.5,
          "showarrow": true,
          "text": "8",
          "x": 180.52559503759218,
          "xref": "x",
          "xshift": 1.3416407864998738,
          "y": 0.061674962458738755,
          "yref": "y",
          "yshift": -2.6832815729997477
         },
         {
          "align": "center",
          "arrowcolor": "#636363",
          "arrowhead": 2,
          "arrowside": "none",
          "arrowsize": 1,
          "arrowwidth": 1,
          "ax": 10,
          "ay": -20,
          "font": {
           "size": 10
          },
          "opacity": 0.5,
          "showarrow": true,
          "text": "13",
          "x": 174.2134111675475,
          "xref": "x",
          "xshift": 1.3416407864998738,
          "y": 0.061608485370423904,
          "yref": "y",
          "yshift": 2.6832815729997477
         },
         {
          "align": "center",
          "arrowcolor": "#636363",
          "arrowhead": 2,
          "arrowside": "none",
          "arrowsize": 1,
          "arrowwidth": 1,
          "ax": 18,
          "ay": 20,
          "font": {
           "size": 10
          },
          "opacity": 0.5,
          "showarrow": true,
          "text": "30",
          "x": 144.13021853777767,
          "xref": "x",
          "xshift": 2.006894194867349,
          "y": 0.06231809174313737,
          "yref": "y",
          "yshift": -2.2298824387414986
         },
         {
          "align": "center",
          "arrowcolor": "#636363",
          "arrowhead": 2,
          "arrowside": "none",
          "arrowsize": 1,
          "arrowwidth": 1,
          "ax": 18,
          "ay": -20,
          "font": {
           "size": 10
          },
          "opacity": 0.5,
          "showarrow": true,
          "text": "25",
          "x": 136.69304295388724,
          "xref": "x",
          "xshift": 2.006894194867349,
          "y": 0.06264015225256991,
          "yref": "y",
          "yshift": 2.2298824387414986
         },
         {
          "align": "center",
          "arrowcolor": "#636363",
          "arrowhead": 2,
          "arrowside": "none",
          "arrowsize": 1,
          "arrowwidth": 1,
          "ax": 5,
          "ay": 20,
          "font": {
           "size": 10
          },
          "opacity": 0.5,
          "showarrow": true,
          "text": "31",
          "x": 130.96238984663913,
          "xref": "x",
          "xshift": 0.7276068751089989,
          "y": 0.0622326539855195,
          "yref": "y",
          "yshift": -2.9104275004359956
         },
         {
          "align": "center",
          "arrowcolor": "#636363",
          "arrowhead": 2,
          "arrowside": "none",
          "arrowsize": 1,
          "arrowwidth": 1,
          "ax": 5,
          "ay": -20,
          "font": {
           "size": 10
          },
          "opacity": 0.5,
          "showarrow": true,
          "text": "3",
          "x": 128.25641816497043,
          "xref": "x",
          "xshift": 0.7276068751089989,
          "y": 0.06212037901688569,
          "yref": "y",
          "yshift": 2.9104275004359956
         },
         {
          "align": "center",
          "arrowcolor": "#636363",
          "arrowhead": 2,
          "arrowside": "none",
          "arrowsize": 1,
          "arrowwidth": 1,
          "ax": 5,
          "ay": 20,
          "font": {
           "size": 10
          },
          "opacity": 0.5,
          "showarrow": true,
          "text": "26",
          "x": 102.06946184656994,
          "xref": "x",
          "xshift": 0.7276068751089989,
          "y": 0.06269158356126235,
          "yref": "y",
          "yshift": -2.9104275004359956
         },
         {
          "align": "center",
          "arrowcolor": "#636363",
          "arrowhead": 2,
          "arrowside": "none",
          "arrowsize": 1,
          "arrowwidth": 1,
          "ax": 10,
          "ay": -20,
          "font": {
           "size": 10
          },
          "opacity": 0.5,
          "showarrow": true,
          "text": "14",
          "x": 99.01652447888077,
          "xref": "x",
          "xshift": 1.3416407864998738,
          "y": 0.06306001278612053,
          "yref": "y",
          "yshift": 2.6832815729997477
         },
         {
          "align": "center",
          "arrowcolor": "#636363",
          "arrowhead": 2,
          "arrowside": "none",
          "arrowsize": 1,
          "arrowwidth": 1,
          "ax": -5,
          "ay": 20,
          "font": {
           "size": 10
          },
          "opacity": 0.5,
          "showarrow": true,
          "text": "39",
          "x": 85.64104070828782,
          "xref": "x",
          "xshift": -0.7276068751089989,
          "y": 0.06336558492343879,
          "yref": "y",
          "yshift": -2.9104275004359956
         },
         {
          "align": "center",
          "arrowcolor": "#636363",
          "arrowhead": 2,
          "arrowside": "none",
          "arrowsize": 1,
          "arrowwidth": 1,
          "ax": 15,
          "ay": -20,
          "font": {
           "size": 10
          },
          "opacity": 0.5,
          "showarrow": true,
          "text": "16",
          "x": 70.15650229225157,
          "xref": "x",
          "xshift": 1.7999999999999998,
          "y": 0.06382425058373635,
          "yref": "y",
          "yshift": 2.4
         },
         {
          "align": "center",
          "arrowcolor": "#636363",
          "arrowhead": 2,
          "arrowside": "none",
          "arrowsize": 1,
          "arrowwidth": 1,
          "ax": -15,
          "ay": 30,
          "font": {
           "size": 10
          },
          "opacity": 0.5,
          "showarrow": true,
          "text": "29",
          "x": 69.76965585716391,
          "xref": "x",
          "xshift": -1.3416407864998738,
          "y": 0.06363909699263263,
          "yref": "y",
          "yshift": -2.6832815729997477
         },
         {
          "align": "center",
          "arrowcolor": "#636363",
          "arrowhead": 2,
          "arrowside": "none",
          "arrowsize": 1,
          "arrowwidth": 1,
          "ax": -15,
          "ay": 10,
          "font": {
           "size": 10
          },
          "opacity": 0.5,
          "showarrow": true,
          "text": "4",
          "x": 67.90305507559756,
          "xref": "x",
          "xshift": -2.496150883013531,
          "y": 0.06376250474127965,
          "yref": "y",
          "yshift": -1.6641005886756874
         },
         {
          "align": "center",
          "arrowcolor": "#636363",
          "arrowhead": 2,
          "arrowside": "none",
          "arrowsize": 1,
          "arrowwidth": 1,
          "ax": 40,
          "ay": -40,
          "font": {
           "size": 10
          },
          "opacity": 0.5,
          "showarrow": true,
          "text": "10",
          "x": 49.52343526452687,
          "xref": "x",
          "xshift": 2.1213203435596424,
          "y": 0.06487669080496009,
          "yref": "y",
          "yshift": 2.1213203435596424
         },
         {
          "align": "center",
          "arrowcolor": "#636363",
          "arrowhead": 2,
          "arrowside": "none",
          "arrowsize": 1,
          "arrowwidth": 1,
          "ax": -30,
          "ay": 25,
          "font": {
           "size": 10
          },
          "opacity": 0.5,
          "showarrow": true,
          "text": "12",
          "x": 47.774843228122286,
          "xref": "x",
          "xshift": -2.3046638387921274,
          "y": 0.06528485634917243,
          "yref": "y",
          "yshift": -1.9205531989934397
         },
         {
          "align": "center",
          "arrowcolor": "#636363",
          "arrowhead": 2,
          "arrowside": "none",
          "arrowsize": 1,
          "arrowwidth": 1,
          "ax": -15,
          "ay": 25,
          "font": {
           "size": 10
          },
          "opacity": 0.5,
          "showarrow": true,
          "text": "20",
          "x": 46.3160360222182,
          "xref": "x",
          "xshift": -1.5434872662825794,
          "y": 0.06489668446629417,
          "yref": "y",
          "yshift": -2.5724787771376327
         },
         {
          "align": "center",
          "arrowcolor": "#636363",
          "arrowhead": 2,
          "arrowside": "none",
          "arrowsize": 1,
          "arrowwidth": 1,
          "ax": -28,
          "ay": 18,
          "font": {
           "size": 10
          },
          "opacity": 0.5,
          "showarrow": true,
          "text": "37",
          "x": 40.9953124714815,
          "xref": "x",
          "xshift": -2.5235354261296603,
          "y": 0.06563397390146483,
          "yref": "y",
          "yshift": -1.622272773940496
         },
         {
          "align": "center",
          "arrowcolor": "#636363",
          "arrowhead": 2,
          "arrowside": "none",
          "arrowsize": 1,
          "arrowwidth": 1,
          "ax": 20,
          "ay": -20,
          "font": {
           "size": 10
          },
          "opacity": 0.5,
          "showarrow": true,
          "text": "9",
          "x": 40.05200338985438,
          "xref": "x",
          "xshift": 2.1213203435596424,
          "y": 0.0664021083805899,
          "yref": "y",
          "yshift": 2.1213203435596424
         },
         {
          "align": "center",
          "arrowcolor": "#636363",
          "arrowhead": 2,
          "arrowside": "none",
          "arrowsize": 1,
          "arrowwidth": 1,
          "ax": 40,
          "ay": -50,
          "font": {
           "size": 10
          },
          "opacity": 0.5,
          "showarrow": true,
          "text": "17",
          "x": 39.38213690463627,
          "xref": "x",
          "xshift": 1.8740851426632728,
          "y": 0.06705470317718537,
          "yref": "y",
          "yshift": 2.342606428329091
         },
         {
          "align": "center",
          "arrowcolor": "#636363",
          "arrowhead": 2,
          "arrowside": "none",
          "arrowsize": 1,
          "arrowwidth": 1,
          "ax": 20,
          "ay": -40,
          "font": {
           "size": 10
          },
          "opacity": 0.5,
          "showarrow": true,
          "text": "34",
          "x": 35.84857932833589,
          "xref": "x",
          "xshift": 1.3416407864998738,
          "y": 0.06638209293319973,
          "yref": "y",
          "yshift": 2.6832815729997477
         },
         {
          "align": "center",
          "arrowcolor": "#636363",
          "arrowhead": 2,
          "arrowside": "none",
          "arrowsize": 1,
          "arrowwidth": 1,
          "ax": -30,
          "ay": 10,
          "font": {
           "size": 10
          },
          "opacity": 0.5,
          "showarrow": true,
          "text": "19",
          "x": 31.869331943921274,
          "xref": "x",
          "xshift": -2.846049894151541,
          "y": 0.06618339164344951,
          "yref": "y",
          "yshift": -0.9486832980505138
         },
         {
          "align": "center",
          "arrowcolor": "#636363",
          "arrowhead": 2,
          "arrowside": "none",
          "arrowsize": 1,
          "arrowwidth": 1,
          "ax": -35,
          "ay": 1,
          "font": {
           "size": 10
          },
          "opacity": 0.5,
          "showarrow": true,
          "text": "32",
          "x": 30.575873093996886,
          "xref": "x",
          "xshift": -2.998776259382084,
          "y": 0.06661043339511756,
          "yref": "y",
          "yshift": -0.08567932169663096
         },
         {
          "align": "center",
          "arrowcolor": "#636363",
          "arrowhead": 2,
          "arrowside": "none",
          "arrowsize": 1,
          "arrowwidth": 1,
          "ax": 10,
          "ay": -20,
          "font": {
           "size": 10
          },
          "opacity": 0.5,
          "showarrow": true,
          "text": "11",
          "x": 26.740681405413465,
          "xref": "x",
          "xshift": 1.3416407864998738,
          "y": 0.06844603283443633,
          "yref": "y",
          "yshift": 2.6832815729997477
         },
         {
          "align": "center",
          "arrowcolor": "#636363",
          "arrowhead": 2,
          "arrowside": "none",
          "arrowsize": 1,
          "arrowwidth": 1,
          "ax": 30,
          "ay": -30,
          "font": {
           "size": 10
          },
          "opacity": 0.5,
          "showarrow": true,
          "text": "18",
          "x": 20.575192180598496,
          "xref": "x",
          "xshift": 2.1213203435596424,
          "y": 0.07163934279453095,
          "yref": "y",
          "yshift": 2.1213203435596424
         },
         {
          "align": "center",
          "arrowcolor": "#636363",
          "arrowhead": 2,
          "arrowside": "none",
          "arrowsize": 1,
          "arrowwidth": 1,
          "ax": -25,
          "ay": -5,
          "font": {
           "size": 10
          },
          "opacity": 0.5,
          "showarrow": true,
          "text": "35",
          "x": 19.684589055045056,
          "xref": "x",
          "xshift": -2.94174202707276,
          "y": 0.06810804528740605,
          "yref": "y",
          "yshift": 0.5883484054145521
         },
         {
          "align": "center",
          "arrowcolor": "#636363",
          "arrowhead": 2,
          "arrowside": "none",
          "arrowsize": 1,
          "arrowwidth": 1,
          "ax": 10,
          "ay": -20,
          "font": {
           "size": 10
          },
          "opacity": 0.5,
          "showarrow": true,
          "text": "2",
          "x": 16.25180631010767,
          "xref": "x",
          "xshift": 1.3416407864998738,
          "y": 0.07776357641018936,
          "yref": "y",
          "yshift": 2.6832815729997477
         },
         {
          "align": "center",
          "arrowcolor": "#636363",
          "arrowhead": 2,
          "arrowside": "none",
          "arrowsize": 1,
          "arrowwidth": 1,
          "ax": 25,
          "ay": -35,
          "font": {
           "size": 10
          },
          "opacity": 0.5,
          "showarrow": true,
          "text": "27",
          "x": 14.126058312075278,
          "xref": "x",
          "xshift": 1.7437145811572892,
          "y": 0.07284623714794349,
          "yref": "y",
          "yshift": 2.441200413620205
         },
         {
          "align": "center",
          "arrowcolor": "#636363",
          "arrowhead": 2,
          "arrowside": "none",
          "arrowsize": 1,
          "arrowwidth": 1,
          "ax": -20,
          "ay": -10,
          "font": {
           "size": 10
          },
          "opacity": 0.5,
          "showarrow": true,
          "text": "28",
          "x": 12.125955297235047,
          "xref": "x",
          "xshift": -2.6832815729997477,
          "y": 0.07130085780454602,
          "yref": "y",
          "yshift": 1.3416407864998738
         },
         {
          "align": "center",
          "arrowcolor": "#636363",
          "arrowhead": 2,
          "arrowside": "none",
          "arrowsize": 1,
          "arrowwidth": 1,
          "ax": -10,
          "ay": -20,
          "font": {
           "size": 10
          },
          "opacity": 0.5,
          "showarrow": true,
          "text": "24",
          "x": 10.675142085418226,
          "xref": "x",
          "xshift": -1.3416407864998738,
          "y": 0.07324255138979528,
          "yref": "y",
          "yshift": 2.6832815729997477
         },
         {
          "align": "center",
          "arrowcolor": "#636363",
          "arrowhead": 2,
          "arrowside": "none",
          "arrowsize": 1,
          "arrowwidth": 1,
          "ax": -25,
          "ay": -20,
          "font": {
           "size": 10
          },
          "opacity": 0.5,
          "showarrow": true,
          "text": "22",
          "x": 9.94148727827959,
          "xref": "x",
          "xshift": -2.342606428329091,
          "y": 0.07307814302872957,
          "yref": "y",
          "yshift": 1.8740851426632728
         },
         {
          "align": "center",
          "arrowcolor": "#636363",
          "arrowhead": 2,
          "arrowside": "none",
          "arrowsize": 1,
          "arrowwidth": 1,
          "ax": 20,
          "ay": -5,
          "font": {
           "size": 10
          },
          "opacity": 0.5,
          "showarrow": true,
          "text": "0",
          "x": 9.244354739350335,
          "xref": "x",
          "xshift": 2.9104275004359956,
          "y": 0.084150099288614,
          "yref": "y",
          "yshift": 0.7276068751089989
         },
         {
          "align": "center",
          "arrowcolor": "#636363",
          "arrowhead": 2,
          "arrowside": "none",
          "arrowsize": 1,
          "arrowwidth": 1,
          "ax": -20,
          "ay": -15,
          "font": {
           "size": 10
          },
          "opacity": 0.5,
          "showarrow": true,
          "text": "33",
          "x": 6.999920904985394,
          "xref": "x",
          "xshift": -2.4,
          "y": 0.07826581141750498,
          "yref": "y",
          "yshift": 1.7999999999999998
         },
         {
          "align": "center",
          "arrowcolor": "#636363",
          "arrowhead": 2,
          "arrowside": "none",
          "arrowsize": 1,
          "arrowwidth": 1,
          "ax": 25,
          "ay": -25,
          "font": {
           "size": 10
          },
          "opacity": 0.5,
          "showarrow": true,
          "text": "23",
          "x": 6.498913747567517,
          "xref": "x",
          "xshift": 2.1213203435596424,
          "y": 0.08430160098100217,
          "yref": "y",
          "yshift": 2.1213203435596424
         },
         {
          "align": "center",
          "arrowcolor": "#636363",
          "arrowhead": 2,
          "arrowside": "none",
          "arrowsize": 1,
          "arrowwidth": 1,
          "ax": 10,
          "ay": -20,
          "font": {
           "size": 10
          },
          "opacity": 0.5,
          "showarrow": true,
          "text": "1",
          "x": 3.5086816509956367,
          "xref": "x",
          "xshift": 1.3416407864998738,
          "y": 0.08769314306609567,
          "yref": "y",
          "yshift": 2.6832815729997477
         },
         {
          "align": "center",
          "arrowcolor": "#636363",
          "arrowhead": 2,
          "arrowside": "none",
          "arrowsize": 1,
          "arrowwidth": 1,
          "ax": -20,
          "ay": -20,
          "font": {
           "size": 10
          },
          "opacity": 0.5,
          "showarrow": true,
          "text": "36",
          "x": 3.381277660965747,
          "xref": "x",
          "xshift": -2.1213203435596424,
          "y": 0.08046525140743281,
          "yref": "y",
          "yshift": 2.1213203435596424
         },
         {
          "align": "center",
          "arrowcolor": "#636363",
          "arrowhead": 2,
          "arrowside": "none",
          "arrowsize": 1,
          "arrowwidth": 1,
          "ax": -15,
          "ay": -10,
          "font": {
           "size": 10
          },
          "opacity": 0.5,
          "showarrow": true,
          "text": "6",
          "x": 2.8145867769072233,
          "xref": "x",
          "xshift": -2.496150883013531,
          "y": 0.08804060942301692,
          "yref": "y",
          "yshift": 1.6641005886756874
         },
         {
          "align": "center",
          "arrowcolor": "#636363",
          "arrowhead": 2,
          "arrowside": "none",
          "arrowsize": 1,
          "arrowwidth": 1,
          "ax": 10,
          "ay": -20,
          "font": {
           "size": 10
          },
          "opacity": 0.5,
          "showarrow": true,
          "text": "21",
          "x": 2.6587895730724727,
          "xref": "x",
          "xshift": 1.3416407864998738,
          "y": 0.10002888022495889,
          "yref": "y",
          "yshift": 2.6832815729997477
         },
         {
          "align": "center",
          "arrowcolor": "#636363",
          "arrowhead": 2,
          "arrowside": "none",
          "arrowsize": 1,
          "arrowwidth": 1,
          "ax": 10,
          "ay": -20,
          "font": {
           "size": 10
          },
          "opacity": 0.5,
          "showarrow": true,
          "text": "38",
          "x": 2.380467628301115,
          "xref": "x",
          "xshift": 1.3416407864998738,
          "y": 0.09297492795733425,
          "yref": "y",
          "yshift": 2.6832815729997477
         },
         {
          "align": "center",
          "arrowcolor": "#636363",
          "arrowhead": 2,
          "arrowside": "none",
          "arrowsize": 1,
          "arrowwidth": 1,
          "ax": 20,
          "ay": 5,
          "font": {
           "size": 10
          },
          "opacity": 0.5,
          "showarrow": true,
          "text": "5",
          "x": 0.7166517908336182,
          "xref": "x",
          "xshift": 2.9104275004359956,
          "y": 0.12180405524270019,
          "yref": "y",
          "yshift": -0.7276068751089989
         }
        ],
        "legend": {
         "orientation": "h",
         "title": {
          "text": ""
         },
         "x": 0.5,
         "xanchor": "center",
         "y": -0.15,
         "yanchor": "top"
        },
        "margin": {
         "b": 0,
         "l": 0,
         "r": 0,
         "t": 30
        },
        "template": {
         "data": {
          "bar": [
           {
            "error_x": {
             "color": "#2a3f5f"
            },
            "error_y": {
             "color": "#2a3f5f"
            },
            "marker": {
             "line": {
              "color": "white",
              "width": 0.5
             }
            },
            "type": "bar"
           }
          ],
          "barpolar": [
           {
            "marker": {
             "line": {
              "color": "white",
              "width": 0.5
             }
            },
            "type": "barpolar"
           }
          ],
          "carpet": [
           {
            "aaxis": {
             "endlinecolor": "#2a3f5f",
             "gridcolor": "#C8D4E3",
             "linecolor": "#C8D4E3",
             "minorgridcolor": "#C8D4E3",
             "startlinecolor": "#2a3f5f"
            },
            "baxis": {
             "endlinecolor": "#2a3f5f",
             "gridcolor": "#C8D4E3",
             "linecolor": "#C8D4E3",
             "minorgridcolor": "#C8D4E3",
             "startlinecolor": "#2a3f5f"
            },
            "type": "carpet"
           }
          ],
          "choropleth": [
           {
            "colorbar": {
             "outlinewidth": 0,
             "ticks": ""
            },
            "type": "choropleth"
           }
          ],
          "contour": [
           {
            "colorbar": {
             "outlinewidth": 0,
             "ticks": ""
            },
            "colorscale": [
             [
              0,
              "#0d0887"
             ],
             [
              0.1111111111111111,
              "#46039f"
             ],
             [
              0.2222222222222222,
              "#7201a8"
             ],
             [
              0.3333333333333333,
              "#9c179e"
             ],
             [
              0.4444444444444444,
              "#bd3786"
             ],
             [
              0.5555555555555556,
              "#d8576b"
             ],
             [
              0.6666666666666666,
              "#ed7953"
             ],
             [
              0.7777777777777778,
              "#fb9f3a"
             ],
             [
              0.8888888888888888,
              "#fdca26"
             ],
             [
              1,
              "#f0f921"
             ]
            ],
            "type": "contour"
           }
          ],
          "contourcarpet": [
           {
            "colorbar": {
             "outlinewidth": 0,
             "ticks": ""
            },
            "type": "contourcarpet"
           }
          ],
          "heatmap": [
           {
            "colorbar": {
             "outlinewidth": 0,
             "ticks": ""
            },
            "colorscale": [
             [
              0,
              "#0d0887"
             ],
             [
              0.1111111111111111,
              "#46039f"
             ],
             [
              0.2222222222222222,
              "#7201a8"
             ],
             [
              0.3333333333333333,
              "#9c179e"
             ],
             [
              0.4444444444444444,
              "#bd3786"
             ],
             [
              0.5555555555555556,
              "#d8576b"
             ],
             [
              0.6666666666666666,
              "#ed7953"
             ],
             [
              0.7777777777777778,
              "#fb9f3a"
             ],
             [
              0.8888888888888888,
              "#fdca26"
             ],
             [
              1,
              "#f0f921"
             ]
            ],
            "type": "heatmap"
           }
          ],
          "heatmapgl": [
           {
            "colorbar": {
             "outlinewidth": 0,
             "ticks": ""
            },
            "colorscale": [
             [
              0,
              "#0d0887"
             ],
             [
              0.1111111111111111,
              "#46039f"
             ],
             [
              0.2222222222222222,
              "#7201a8"
             ],
             [
              0.3333333333333333,
              "#9c179e"
             ],
             [
              0.4444444444444444,
              "#bd3786"
             ],
             [
              0.5555555555555556,
              "#d8576b"
             ],
             [
              0.6666666666666666,
              "#ed7953"
             ],
             [
              0.7777777777777778,
              "#fb9f3a"
             ],
             [
              0.8888888888888888,
              "#fdca26"
             ],
             [
              1,
              "#f0f921"
             ]
            ],
            "type": "heatmapgl"
           }
          ],
          "histogram": [
           {
            "marker": {
             "colorbar": {
              "outlinewidth": 0,
              "ticks": ""
             }
            },
            "type": "histogram"
           }
          ],
          "histogram2d": [
           {
            "colorbar": {
             "outlinewidth": 0,
             "ticks": ""
            },
            "colorscale": [
             [
              0,
              "#0d0887"
             ],
             [
              0.1111111111111111,
              "#46039f"
             ],
             [
              0.2222222222222222,
              "#7201a8"
             ],
             [
              0.3333333333333333,
              "#9c179e"
             ],
             [
              0.4444444444444444,
              "#bd3786"
             ],
             [
              0.5555555555555556,
              "#d8576b"
             ],
             [
              0.6666666666666666,
              "#ed7953"
             ],
             [
              0.7777777777777778,
              "#fb9f3a"
             ],
             [
              0.8888888888888888,
              "#fdca26"
             ],
             [
              1,
              "#f0f921"
             ]
            ],
            "type": "histogram2d"
           }
          ],
          "histogram2dcontour": [
           {
            "colorbar": {
             "outlinewidth": 0,
             "ticks": ""
            },
            "colorscale": [
             [
              0,
              "#0d0887"
             ],
             [
              0.1111111111111111,
              "#46039f"
             ],
             [
              0.2222222222222222,
              "#7201a8"
             ],
             [
              0.3333333333333333,
              "#9c179e"
             ],
             [
              0.4444444444444444,
              "#bd3786"
             ],
             [
              0.5555555555555556,
              "#d8576b"
             ],
             [
              0.6666666666666666,
              "#ed7953"
             ],
             [
              0.7777777777777778,
              "#fb9f3a"
             ],
             [
              0.8888888888888888,
              "#fdca26"
             ],
             [
              1,
              "#f0f921"
             ]
            ],
            "type": "histogram2dcontour"
           }
          ],
          "mesh3d": [
           {
            "colorbar": {
             "outlinewidth": 0,
             "ticks": ""
            },
            "type": "mesh3d"
           }
          ],
          "parcoords": [
           {
            "line": {
             "colorbar": {
              "outlinewidth": 0,
              "ticks": ""
             }
            },
            "type": "parcoords"
           }
          ],
          "pie": [
           {
            "automargin": true,
            "type": "pie"
           }
          ],
          "scatter": [
           {
            "marker": {
             "colorbar": {
              "outlinewidth": 0,
              "ticks": ""
             }
            },
            "type": "scatter"
           }
          ],
          "scatter3d": [
           {
            "line": {
             "colorbar": {
              "outlinewidth": 0,
              "ticks": ""
             }
            },
            "marker": {
             "colorbar": {
              "outlinewidth": 0,
              "ticks": ""
             }
            },
            "type": "scatter3d"
           }
          ],
          "scattercarpet": [
           {
            "marker": {
             "colorbar": {
              "outlinewidth": 0,
              "ticks": ""
             }
            },
            "type": "scattercarpet"
           }
          ],
          "scattergeo": [
           {
            "marker": {
             "colorbar": {
              "outlinewidth": 0,
              "ticks": ""
             }
            },
            "type": "scattergeo"
           }
          ],
          "scattergl": [
           {
            "marker": {
             "colorbar": {
              "outlinewidth": 0,
              "ticks": ""
             }
            },
            "type": "scattergl"
           }
          ],
          "scattermapbox": [
           {
            "marker": {
             "colorbar": {
              "outlinewidth": 0,
              "ticks": ""
             }
            },
            "type": "scattermapbox"
           }
          ],
          "scatterpolar": [
           {
            "marker": {
             "colorbar": {
              "outlinewidth": 0,
              "ticks": ""
             }
            },
            "type": "scatterpolar"
           }
          ],
          "scatterpolargl": [
           {
            "marker": {
             "colorbar": {
              "outlinewidth": 0,
              "ticks": ""
             }
            },
            "type": "scatterpolargl"
           }
          ],
          "scatterternary": [
           {
            "marker": {
             "colorbar": {
              "outlinewidth": 0,
              "ticks": ""
             }
            },
            "type": "scatterternary"
           }
          ],
          "surface": [
           {
            "colorbar": {
             "outlinewidth": 0,
             "ticks": ""
            },
            "colorscale": [
             [
              0,
              "#0d0887"
             ],
             [
              0.1111111111111111,
              "#46039f"
             ],
             [
              0.2222222222222222,
              "#7201a8"
             ],
             [
              0.3333333333333333,
              "#9c179e"
             ],
             [
              0.4444444444444444,
              "#bd3786"
             ],
             [
              0.5555555555555556,
              "#d8576b"
             ],
             [
              0.6666666666666666,
              "#ed7953"
             ],
             [
              0.7777777777777778,
              "#fb9f3a"
             ],
             [
              0.8888888888888888,
              "#fdca26"
             ],
             [
              1,
              "#f0f921"
             ]
            ],
            "type": "surface"
           }
          ],
          "table": [
           {
            "cells": {
             "fill": {
              "color": "#EBF0F8"
             },
             "line": {
              "color": "white"
             }
            },
            "header": {
             "fill": {
              "color": "#C8D4E3"
             },
             "line": {
              "color": "white"
             }
            },
            "type": "table"
           }
          ]
         },
         "layout": {
          "annotationdefaults": {
           "arrowcolor": "#2a3f5f",
           "arrowhead": 0,
           "arrowwidth": 1
          },
          "coloraxis": {
           "colorbar": {
            "outlinewidth": 0,
            "ticks": ""
           }
          },
          "colorscale": {
           "diverging": [
            [
             0,
             "#8e0152"
            ],
            [
             0.1,
             "#c51b7d"
            ],
            [
             0.2,
             "#de77ae"
            ],
            [
             0.3,
             "#f1b6da"
            ],
            [
             0.4,
             "#fde0ef"
            ],
            [
             0.5,
             "#f7f7f7"
            ],
            [
             0.6,
             "#e6f5d0"
            ],
            [
             0.7,
             "#b8e186"
            ],
            [
             0.8,
             "#7fbc41"
            ],
            [
             0.9,
             "#4d9221"
            ],
            [
             1,
             "#276419"
            ]
           ],
           "sequential": [
            [
             0,
             "#0d0887"
            ],
            [
             0.1111111111111111,
             "#46039f"
            ],
            [
             0.2222222222222222,
             "#7201a8"
            ],
            [
             0.3333333333333333,
             "#9c179e"
            ],
            [
             0.4444444444444444,
             "#bd3786"
            ],
            [
             0.5555555555555556,
             "#d8576b"
            ],
            [
             0.6666666666666666,
             "#ed7953"
            ],
            [
             0.7777777777777778,
             "#fb9f3a"
            ],
            [
             0.8888888888888888,
             "#fdca26"
            ],
            [
             1,
             "#f0f921"
            ]
           ],
           "sequentialminus": [
            [
             0,
             "#0d0887"
            ],
            [
             0.1111111111111111,
             "#46039f"
            ],
            [
             0.2222222222222222,
             "#7201a8"
            ],
            [
             0.3333333333333333,
             "#9c179e"
            ],
            [
             0.4444444444444444,
             "#bd3786"
            ],
            [
             0.5555555555555556,
             "#d8576b"
            ],
            [
             0.6666666666666666,
             "#ed7953"
            ],
            [
             0.7777777777777778,
             "#fb9f3a"
            ],
            [
             0.8888888888888888,
             "#fdca26"
            ],
            [
             1,
             "#f0f921"
            ]
           ]
          },
          "colorway": [
           "#636efa",
           "#EF553B",
           "#00cc96",
           "#ab63fa",
           "#FFA15A",
           "#19d3f3",
           "#FF6692",
           "#B6E880",
           "#FF97FF",
           "#FECB52"
          ],
          "font": {
           "color": "#2a3f5f"
          },
          "geo": {
           "bgcolor": "white",
           "lakecolor": "white",
           "landcolor": "white",
           "showlakes": true,
           "showland": true,
           "subunitcolor": "#C8D4E3"
          },
          "hoverlabel": {
           "align": "left"
          },
          "hovermode": "closest",
          "mapbox": {
           "style": "light"
          },
          "paper_bgcolor": "white",
          "plot_bgcolor": "white",
          "polar": {
           "angularaxis": {
            "gridcolor": "#EBF0F8",
            "linecolor": "#EBF0F8",
            "ticks": ""
           },
           "bgcolor": "white",
           "radialaxis": {
            "gridcolor": "#EBF0F8",
            "linecolor": "#EBF0F8",
            "ticks": ""
           }
          },
          "scene": {
           "xaxis": {
            "backgroundcolor": "white",
            "gridcolor": "#DFE8F3",
            "gridwidth": 2,
            "linecolor": "#EBF0F8",
            "showbackground": true,
            "ticks": "",
            "zerolinecolor": "#EBF0F8"
           },
           "yaxis": {
            "backgroundcolor": "white",
            "gridcolor": "#DFE8F3",
            "gridwidth": 2,
            "linecolor": "#EBF0F8",
            "showbackground": true,
            "ticks": "",
            "zerolinecolor": "#EBF0F8"
           },
           "zaxis": {
            "backgroundcolor": "white",
            "gridcolor": "#DFE8F3",
            "gridwidth": 2,
            "linecolor": "#EBF0F8",
            "showbackground": true,
            "ticks": "",
            "zerolinecolor": "#EBF0F8"
           }
          },
          "shapedefaults": {
           "line": {
            "color": "#2a3f5f"
           }
          },
          "ternary": {
           "aaxis": {
            "gridcolor": "#DFE8F3",
            "linecolor": "#A2B1C6",
            "ticks": ""
           },
           "baxis": {
            "gridcolor": "#DFE8F3",
            "linecolor": "#A2B1C6",
            "ticks": ""
           },
           "bgcolor": "white",
           "caxis": {
            "gridcolor": "#DFE8F3",
            "linecolor": "#A2B1C6",
            "ticks": ""
           }
          },
          "title": {
           "x": 0.05
          },
          "xaxis": {
           "automargin": true,
           "gridcolor": "#EBF0F8",
           "linecolor": "#EBF0F8",
           "ticks": "",
           "title": {
            "standoff": 15
           },
           "zerolinecolor": "#EBF0F8",
           "zerolinewidth": 2
          },
          "yaxis": {
           "automargin": true,
           "gridcolor": "#EBF0F8",
           "linecolor": "#EBF0F8",
           "ticks": "",
           "title": {
            "standoff": 15
           },
           "zerolinecolor": "#EBF0F8",
           "zerolinewidth": 2
          }
         }
        },
        "width": 500,
        "xaxis": {
         "title": {
          "text": "Capacity (Mm<sup>3</sup>/y)"
         }
        },
        "yaxis": {
         "title": {
          "text": "LCOW ($/m<sup>3</sup>)"
         }
        }
       }
      },
      "text/html": [
       "<div>\n",
       "        \n",
       "        \n",
       "            <div id=\"0de71d16-d663-4494-8105-1a72c259c98b\" class=\"plotly-graph-div\" style=\"height:525px; width:500px;\"></div>\n",
       "            <script type=\"text/javascript\">\n",
       "                require([\"plotly\"], function(Plotly) {\n",
       "                    window.PLOTLYENV=window.PLOTLYENV || {};\n",
       "                    \n",
       "                if (document.getElementById(\"0de71d16-d663-4494-8105-1a72c259c98b\")) {\n",
       "                    Plotly.newPlot(\n",
       "                        '0de71d16-d663-4494-8105-1a72c259c98b',\n",
       "                        [{\"marker\": {\"color\": \"#E45756\"}, \"mode\": \"lines\", \"name\": \"Pond system LCOW\", \"opacity\": 1, \"type\": \"scatter\", \"x\": [0.5, 1.5, 2.5, 3.5, 4.5, 5.5, 6.5, 7.5, 8.5, 9.5, 10.5, 11.5, 12.5, 13.5, 14.5, 15.5, 16.5, 17.5, 18.5, 19.5, 20.5, 21.5, 22.5, 23.5, 24.5, 25.5, 26.5, 27.5, 28.5, 29.5, 30.5, 31.5, 32.5, 33.5, 34.5, 35.5, 36.5, 37.5, 38.5, 39.5, 40.5, 41.5, 42.5, 43.5, 44.5, 45.5, 46.5, 47.5, 48.5, 49.5, 50.5, 51.5, 52.5, 53.5, 54.5, 55.5, 56.5, 57.5, 58.5, 59.5, 60.5, 61.5, 62.5, 63.5, 64.5, 65.5, 66.5, 67.5, 68.5, 69.5, 70.5, 71.5, 72.5, 73.5, 74.5, 75.5, 76.5, 77.5, 78.5, 79.5, 80.5, 81.5, 82.5, 83.5, 84.5, 85.5, 86.5, 87.5, 88.5, 89.5, 90.5, 91.5, 92.5, 93.5, 94.5, 95.5, 96.5, 97.5, 98.5, 99.5, 100.5, 101.5, 102.5, 103.5, 104.5, 105.5, 106.5, 107.5, 108.5, 109.5, 110.5, 111.5, 112.5, 113.5, 114.5, 115.5, 116.5, 117.5, 118.5, 119.5, 120.5, 121.5, 122.5, 123.5, 124.5, 125.5, 126.5, 127.5, 128.5, 129.5, 130.5, 131.5, 132.5, 133.5, 134.5, 135.5, 136.5, 137.5, 138.5, 139.5, 140.5, 141.5, 142.5, 143.5, 144.5, 145.5, 146.5, 147.5, 148.5, 149.5, 150.5, 151.5, 152.5, 153.5, 154.5, 155.5, 156.5, 157.5, 158.5, 159.5, 160.5, 161.5, 162.5, 163.5, 164.5, 165.5, 166.5, 167.5, 168.5, 169.5, 170.5, 171.5, 172.5, 173.5, 174.5, 175.5, 176.5, 177.5, 178.5, 179.5, 180.5, 181.5, 182.5, 183.5, 184.5, 185.5, 186.5, 187.5, 188.5, 189.5, 190.5, 191.5, 192.5, 193.5, 194.5, 195.5, 196.5, 197.5, 198.5, 199.5, 200.5, 201.5, 202.5, 203.5, 204.5, 205.5, 206.5, 207.5, 208.5, 209.5, 210.5, 211.5, 212.5, 213.5, 214.5, 215.5, 216.5, 217.5, 218.5, 219.5, 220.5, 221.5, 222.5, 223.5, 224.5, 225.5, 226.5, 227.5, 228.5, 229.5, 230.5, 231.5, 232.5, 233.5, 234.5, 235.5, 236.5, 237.5, 238.5, 239.5, 240.5, 241.5, 242.5, 243.5, 244.5, 245.5, 246.5, 247.5, 248.5, 249.5, 250.5, 251.5, 252.5, 253.5, 254.5, 255.5, 256.5, 257.5, 258.5, 259.5, 260.5, 261.5, 262.5, 263.5, 264.5, 265.5, 266.5, 267.5, 268.5, 269.5, 270.5, 271.5, 272.5, 273.5, 274.5, 275.5, 276.5, 277.5, 278.5, 279.5, 280.5, 281.5, 282.5, 283.5, 284.5, 285.5, 286.5, 287.5, 288.5, 289.5, 290.5, 291.5, 292.5, 293.5, 294.5, 295.5, 296.5, 297.5, 298.5, 299.5, 300.5, 301.5, 302.5, 303.5, 304.5, 305.5, 306.5, 307.5, 308.5, 309.5, 310.5, 311.5, 312.5, 313.5, 314.5, 315.5, 316.5, 317.5, 318.5, 319.5, 320.5, 321.5, 322.5, 323.5, 324.5, 325.5, 326.5, 327.5, 328.5, 329.5, 330.5, 331.5, 332.5, 333.5, 334.5, 335.5, 336.5, 337.5, 338.5, 339.5, 340.5, 341.5, 342.5, 343.5, 344.5, 345.5, 346.5, 347.5, 348.5, 349.5, 350.5, 351.5, 352.5, 353.5, 354.5, 355.5, 356.5, 357.5, 358.5, 359.5, 360.5, 361.5, 362.5, 363.5, 364.5, 365.5, 366.5, 367.5, 368.5, 369.5, 370.5, 371.5, 372.5, 373.5, 374.5, 375.5, 376.5, 377.5, 378.5, 379.5, 380.5, 381.5, 382.5, 383.5, 384.5, 385.5, 386.5, 387.5, 388.5, 389.5, 390.5, 391.5, 392.5, 393.5, 394.5, 395.5, 396.5, 397.5, 398.5, 399.5, 400.5, 401.5, 402.5, 403.5, 404.5, 405.5, 406.5, 407.5, 408.5, 409.5, 410.5, 411.5, 412.5, 413.5, 414.5, 415.5, 416.5, 417.5, 418.5, 419.5, 420.5, 421.5, 422.5, 423.5, 424.5, 425.5, 426.5, 427.5, 428.5, 429.5, 430.5, 431.5, 432.5, 433.5, 434.5, 435.5, 436.5, 437.5, 438.5, 439.5, 440.5, 441.5, 442.5, 443.5, 444.5, 445.5, 446.5, 447.5, 448.5, 449.5, 450.5, 451.5, 452.5, 453.5, 454.5, 455.5, 456.5, 457.5, 458.5, 459.5, 460.5, 461.5, 462.5, 463.5, 464.5, 465.5, 466.5, 467.5, 468.5, 469.5, 470.5, 471.5, 472.5, 473.5, 474.5, 475.5, 476.5, 477.5, 478.5, 479.5, 480.5, 481.5, 482.5, 483.5, 484.5, 485.5, 486.5, 487.5, 488.5, 489.5, 490.5, 491.5, 492.5, 493.5, 494.5, 495.5, 496.5, 497.5, 498.5, 499.5, 500.5, 501.5, 502.5, 503.5, 504.5, 505.5, 506.5, 507.5, 508.5, 509.5, 510.5, 511.5, 512.5, 513.5, 514.5, 515.5, 516.5, 517.5, 518.5, 519.5, 520.5, 521.5, 522.5, 523.5, 524.5, 525.5, 526.5, 527.5, 528.5, 529.5, 530.5, 531.5, 532.5, 533.5, 534.5, 535.5, 536.5, 537.5, 538.5, 539.5, 540.5, 541.5, 542.5, 543.5, 544.5, 545.5, 546.5, 547.5, 548.5, 549.5, 550.5, 551.5, 552.5, 553.5, 554.5, 555.5, 556.5, 557.5, 558.5, 559.5, 560.5, 561.5, 562.5, 563.5, 564.5, 565.5, 566.5, 567.5, 568.5, 569.5, 570.5, 571.5, 572.5, 573.5, 574.5, 575.5, 576.5, 577.5, 578.5, 579.5, 580.5, 581.5, 582.5, 583.5, 584.5, 585.5, 586.5, 587.5, 588.5, 589.5, 590.5, 591.5, 592.5, 593.5, 594.5, 595.5, 596.5, 597.5, 598.5, 599.5, 600.5, 601.5, 602.5, 603.5, 604.5, 605.5, 606.5, 607.5, 608.5, 609.5, 610.5, 611.5, 612.5, 613.5, 614.5, 615.5, 616.5, 617.5, 618.5, 619.5, 620.5, 621.5, 622.5, 623.5, 624.5, 625.5, 626.5, 627.5, 628.5, 629.5, 630.5, 631.5, 632.5, 633.5, 634.5, 635.5, 636.5, 637.5, 638.5, 639.5, 640.5, 641.5, 642.5, 643.5, 644.5, 645.5, 646.5, 647.5, 648.5, 649.5], \"y\": [0.12609674169508983, 0.09925109867723883, 0.09086761078685285, 0.08632929756702633, 0.08336098988777446, 0.08121769830338026, 0.07957235962960524, 0.07825541363650065, 0.07716885033078337, 0.07625146798038014, 0.07546277295659498, 0.07477473856251084, 0.07416725375765787, 0.07362545400914688, 0.07313807763182818, 0.07269641180033044, 0.07229359320093434, 0.07192413023742564, 0.07158356824154448, 0.07126824964153951, 0.07097513877189104, 0.07070169166432544, 0.07044575775845484, 0.07020550466437389, 0.06997935983876107, 0.06976596485002196, 0.0695641391369935, 0.06937285101298654, 0.06919119426040841, 0.06901836908300578, 0.06885366648661174, 0.06869645538088626, 0.06854617185803191, 0.06840231022638378, 0.06826441546859156, 0.06813207686391276, 0.06800492256765946, 0.06788261498222137, 0.06776484678632444, 0.06765133751448198, 0.06754183059858127, 0.0674360907994416, 0.06733390196889542, 0.06723506509317494, 0.06713939657666664, 0.06704672673182799, 0.06695689844656615, 0.06686976600489718, 0.06678519404043484, 0.06670305660534642, 0.06662323633998506, 0.06654562373055391, 0.06647011644395882, 0.06639661873052018, 0.06632504088649424, 0.0662552987694379, 0.06618731336037152, 0.06612101036748055, 0.06605631986676734, 0.06599317597564099, 0.06593151655592795, 0.0658712829432137, 0.06581241969979378, 0.06575487438883357, 0.06569859736761337, 0.06564354159797732, 0.06558966247231603, 0.06553691765359727, 0.06548526692812097, 0.0654346720698168, 0.06538509671502778, 0.06533650624683321, 0.0652888676880624, 0.0652421496022358, 0.06519632200174715, 0.06515135626266823, 0.06510722504561715, 0.06506390222218629, 0.0650213628064723, 0.06497958289129502, 0.06493853958872896, 0.06489821097460671, 0.06485857603668355, 0.06481961462618052, 0.06478130741244836, 0.06474363584051682, 0.06470658209131443, 0.06467012904436192, 0.06463426024275913, 0.06459895986030034, 0.06456421267056629, 0.06453000401785376, 0.06449631978981464, 0.06446314639168679, 0.06443047072200796, 0.06439828014971286, 0.06436656249252086, 0.06433530599652937, 0.0643044993169336, 0.06427413149980012, 0.06424419196482642, 0.06421467048902421, 0.06418555719126802, 0.06415684251765551, 0.06412851722762947, 0.06410057238081486, 0.06407299932452767, 0.06404578968191554, 0.06401893534069247, 0.06399242844243261, 0.06396626137239082, 0.06394042674981931, 0.06391491741875215, 0.06388972643923095, 0.06386484707894713, 0.06384027280527724, 0.0638159972776899, 0.0637920143405039, 0.06376831801597829, 0.06374490249771674, 0.06372176214436914, 0.06369889147361511, 0.06367628515641408, 0.06365393801150845, 0.0636318450001666, 0.06361000122115346, 0.06358840190591698, 0.0635670424139798, 0.06354591822852564, 0.06352502495217083, 0.06350435830291194, 0.06348391411024056, 0.0634636883114176, 0.06344367694789907, 0.06342387616190606, 0.06340428219313242, 0.06338489137558322, 0.06336570013453825, 0.06334670498363452, 0.06332790252206223, 0.0633092894318693, 0.06329086247536914, 0.06327261849264744, 0.06325455439916307, 0.0632366671834392, 0.06321895390484074, 0.06320141169143384, 0.06318403773792448, 0.06316682930367229, 0.06314978371077642, 0.06313289834223075, 0.0631161706401448, 0.06309959810402829, 0.06308317828913629, 0.06306690880487241, 0.06305078731324784, 0.06303481152739392, 0.06301897921012564, 0.06300328817255485, 0.06298773627275013, 0.0629723214144424, 0.06295704154577378, 0.06294189465808836, 0.06292687878476307, 0.06291199200007713, 0.06289723241811859, 0.06288259819172654, 0.06286808751146743, 0.06285369860464464, 0.06283942973433954, 0.06282527919848313, 0.0628112453289571, 0.06279732649072314, 0.06278352108097948, 0.06276982752834363, 0.06275624429206049, 0.06274276986123474, 0.06272940275408657, 0.06271614151723037, 0.06270298472497485, 0.06268993097864442, 0.06267697890592086, 0.06266412716020445, 0.06265137441999405, 0.06263871938828541, 0.06262616079198716, 0.06261369738135361, 0.06260132792943407, 0.06258905123153809, 0.06257686610471584, 0.06256477138725346, 0.06255276593818258, 0.06254084863680372, 0.06252901838222305, 0.06251727409290209, 0.0625056147062198, 0.06249403917804697, 0.062482546482331994, 0.062471135610698336, 0.0624598055720526, 0.06244855539220342, 0.0624373841134905, 0.062426290794423675, 0.062415274509331535, 0.062404334348019314, 0.06239346941543603, 0.062382678831350055, 0.06237196173003344, 0.06236131725995427, 0.0623507445834771, 0.062340242876571056, 0.062329811328525414, 0.06231944914167245, 0.06230915553111736, 0.06229892972447499, 0.06228877096161314, 0.06227867849440237, 0.06226865158647205, 0.0622586895129724, 0.06224879156034245, 0.062238957026083674, 0.062229185218539304, 0.062219475456678726, 0.062209827069887515, 0.06220023939776213, 0.06219071178990983, 0.062181243605753306, 0.06217183421433991, 0.062162482994155464, 0.06215318933294247, 0.06214395262752258, 0.06213477228362322, 0.0621256477157083, 0.06211657834681278, 0.06210756360838113, 0.06209860294010951, 0.06208969578979147, 0.06208084161316735, 0.06207203987377688, 0.06206329004281536, 0.062054591598992855, 0.06204594402839672, 0.062037346824357124, 0.06202879948731556, 0.062020301524696314, 0.062011852450780724, 0.062003451786584285, 0.061995099059736304, 0.061986793804362325, 0.061978535560969106, 0.061970323876331876, 0.06196215830338435, 0.061954038401110814, 0.061945963734440716, 0.061937933874145354, 0.061929948396736885, 0.06192200688436939, 0.061914108924742035, 0.06190625411100428, 0.06189844204166305, 0.061890672320491884, 0.06188294455644185, 0.061875258363554494, 0.06186761336087634, 0.06186000917237536, 0.06185244542685905, 0.06184492175789411, 0.06183743780372794, 0.061829993207211484, 0.06182258761572381, 0.06181522068109815, 0.06180789205954936, 0.061800601411602894, 0.06179334840202513, 0.06178613269975518, 0.06177895397783781, 0.06177181191335804, 0.06176470618737659, 0.06175763648486695, 0.06175060249465348, 0.06174360390935073, 0.06173664042530394, 0.06172971174253074, 0.061722817564663884, 0.06171595759889506, 0.0617091315559199, 0.06170233914988385, 0.06169558009832924, 0.06168885412214318, 0.06168216094550655, 0.061675500295843906, 0.06166887190377433, 0.061662275503063135, 0.061655710830574514, 0.06164917762622508, 0.06164267563293818, 0.061636204596599166, 0.061629764266011286, 0.061623354392852624, 0.061616974731633634, 0.06161062503965545, 0.06160430507696908, 0.061598014606335225, 0.061591753393184775, 0.061585521205580106, 0.06157931781417706, 0.061573142992187524, 0.06156699651534268, 0.061560878161857, 0.061554787712392735, 0.06154872495002514, 0.06154268966020817, 0.061536681630741004, 0.06153070065173481, 0.06152474651558037, 0.06151881901691622, 0.06151291795259714, 0.06150704312166342, 0.061501194325310475, 0.061495371366859154, 0.061489574051726295, 0.06148380218739605, 0.061478055583391526, 0.06147233405124692, 0.061466637404480155, 0.06146096545856601, 0.061455318030909555, 0.061449694940820164, 0.06144409600948593, 0.06143852105994844, 0.061432969917077994, 0.061427442407549285, 0.06142193835981738, 0.06141645760409419, 0.06141099997232517, 0.06140556529816669, 0.06140015341696329, 0.061394764165725875, 0.0613893973831098, 0.06138405290939347, 0.0613787305864574, 0.0613734302577634, 0.06136815176833421, 0.06136289496473339, 0.06135765969504564, 0.06135244580885732, 0.061347253157237235, 0.06134208159271794, 0.061336930969277045, 0.061331801142319065, 0.061326691968657324, 0.06132160330649637, 0.061316535015414474, 0.06131148695634647, 0.061306458991566865, 0.06130145098467321, 0.06129646280056969, 0.061291494305450944, 0.06128654536678628, 0.06128161585330387, 0.06127670563497544, 0.061271814583001044, 0.061266942569794036, 0.061262089468966434, 0.06125725515531433, 0.061252439504803594, 0.06124764239455577, 0.061242863702834195, 0.061238103309030345, 0.06123336109365032, 0.061228636938301495, 0.06122393072567958, 0.061219242339555585, 0.06121457166476314, 0.06120991858718601, 0.06120528299374567, 0.0612006647723892, 0.06119606381207723, 0.06119148000277215, 0.06118691323542645, 0.06118236340197122, 0.06117783039530481, 0.0611733141092817, 0.06116881443870145, 0.06116433127929782, 0.06115986452772821, 0.061155414081562914, 0.061150979839274804, 0.06114656170022916, 0.061142159564673365, 0.061137773333727094, 0.06113340290937238, 0.061129048194443966, 0.061124709092619675, 0.06112038550841104, 0.06111607734715397, 0.06111178451499952, 0.061107506918904896, 0.06110324446662454, 0.06109899706670124, 0.06109476462845748, 0.061090547061986876, 0.06108634427814571, 0.06108215618854453, 0.06107798270554004, 0.06107382374222683, 0.06106967921242945, 0.06106554903069448, 0.06106143311228271, 0.06105733137316148, 0.061053243729997, 0.06104917010014695, 0.06104511040165299, 0.06104106455323349, 0.06103703247427638, 0.06103301408483194, 0.06102900930560579, 0.06102501805795203, 0.06102104026386635, 0.06101707584597928, 0.061013124727549474, 0.06100918683245725, 0.06100526208519796, 0.06100135041087571, 0.0609974517351969, 0.06099356598446406, 0.060989693085569625, 0.060985832965989896, 0.06098198555377898, 0.06097815077756288, 0.06097432856653357, 0.06097051885044329, 0.06096672155959879, 0.060962936624855656, 0.060959163977612724, 0.060955403549806664, 0.06095165527390639, 0.06094791908290788, 0.0609441949103287, 0.06094048269020283, 0.060936782357075475, 0.060933093845997995, 0.06092941709252281, 0.06092575203269841, 0.06092209860306447, 0.0609184567406469, 0.06091482638295316, 0.06091120746796738, 0.06090759993414577, 0.06090400372041188, 0.060900418766152174, 0.06089684501121131, 0.06089328239588782, 0.06088973086092963, 0.06088619034752969, 0.06088266079732171, 0.060879142152375824, 0.06087563435519441, 0.06087213734870797, 0.060868651076270944, 0.060865175481657714, 0.06086171050905853, 0.06085825610307555, 0.06085481220871895, 0.06085137877140304, 0.060847955736942405, 0.0608445430515481, 0.06084114066182397, 0.06083774851476289, 0.06083436655774316, 0.06083099473852482, 0.06082763300524613, 0.060824281306420015, 0.06082093959093061, 0.060817607808029715, 0.060814285907333475, 0.06081097383881896, 0.06080767155282084, 0.06080437900002806, 0.060801096131480645, 0.060797822898566375, 0.060794559253017674, 0.06079130514690847, 0.06078806053265097, 0.060784825362992685, 0.06078159959101335, 0.06077838317012187, 0.06077517605405343, 0.06077197819686643, 0.060768789552939656, 0.06076561007696935, 0.0607624397239664, 0.060759278449253495, 0.060756126208462304, 0.060752982957530795, 0.060749848652700424, 0.060746723250513515, 0.060743606707810496, 0.06074049898172738, 0.06073740002969301, 0.06073430980942661, 0.060731228278935144, 0.060728155396510844, 0.060725091120728616, 0.060722035410443694, 0.0607189882247891, 0.06071594952317326, 0.06071291926527758, 0.06070989741105413, 0.060706883920723195, 0.060703878754771116, 0.06070088187394784, 0.06069789323926475, 0.060694912811992324, 0.06069194055365803, 0.06068897642604403, 0.06068602039118503, 0.06068307241136616, 0.060680132449120766, 0.06067720046722842, 0.06067427642871269, 0.060671360296839186, 0.060668452035113445, 0.06066555160727897, 0.06066265897731516, 0.0606597741094354, 0.06065689696808502, 0.060654027517939406, 0.06065116572390212, 0.060648311551102875, 0.06064546496489574, 0.06064262593085731, 0.06063979441478473, 0.060636970382694035, 0.060634153800818213, 0.06063134463560547, 0.060628542853717424, 0.06062574842202745, 0.060622961307618815, 0.06062018147778305, 0.0606174089000182, 0.060614643542027176, 0.06061188537171607, 0.06060913435719249, 0.060606390466763985, 0.060603653668936316, 0.060600923932411996, 0.0605982012260886, 0.06059548551905721, 0.06059277678060091, 0.06059007498019321, 0.060587380087496506, 0.06058469207236061, 0.06058201090482122, 0.06057933655509848, 0.06057666899359547, 0.060574008190896804, 0.06057135411776712, 0.06056870674514975, 0.060566066044165215, 0.060563431986109924, 0.06056080454245474, 0.060558183684843565, 0.06055556938509208, 0.06055296161518635, 0.06055036034728151, 0.06054776555370041, 0.06054517720693236, 0.0605425952796318, 0.06054001974461709, 0.0605374505748691, 0.06053488774353013, 0.06053233122390251, 0.06052978098944749, 0.06052723701378394, 0.06052469927068716, 0.06052216773408772, 0.06051964237807021, 0.06051712317687214, 0.06051461010488268, 0.060512103136641605, 0.06050960224683808, 0.060507107410309555, 0.06050461860204066, 0.06050213579716209, 0.06049965897094945, 0.060497188098822215, 0.060494723156342675, 0.060492264119214795, 0.060489810963283194, 0.0604873636645321, 0.06048492219908425, 0.060482486543199966, 0.06048005667327606, 0.060477632565844784, 0.060475214197572895, 0.060472801545260677, 0.06047039458584086, 0.06046799329637771, 0.060465597654066075, 0.060463207636230365, 0.06046082322032367, 0.06045844438392676, 0.06045607110474717, 0.060453703360618276, 0.060451341129498404, 0.0604489843894699, 0.060446633118738186, 0.060444287295630936, 0.06044194689859714, 0.06043961190620629, 0.06043728229714742, 0.06043495805022834, 0.06043263914437469, 0.060430325558629164, 0.06042801727215066, 0.0604257142642134, 0.06042341651420614, 0.060421124001631396, 0.060418836706104526, 0.06041655460735306, 0.06041427768521579, 0.06041200591964201, 0.060409739290690795, 0.06040747777853016, 0.06040522136343629, 0.06040297002579283, 0.06040072374609009, 0.0603984825049243, 0.06039624628299688, 0.06039401506111365, 0.06039178882018419, 0.060389567541221094, 0.060387351205339175, 0.060385139793754844, 0.060382933287785344, 0.060380731668848074, 0.06037853491845996, 0.060376343018236606, 0.0603741559498918, 0.060371973695236704, 0.06036979623617921, 0.06036762355472336, 0.060365455632968565, 0.06036329245310903, 0.06036113399743307, 0.0603589802483225, 0.060356831188252, 0.060354686799788386, 0.060352547065590144]}, {\"marker\": {\"color\": \"#E45756\", \"opacity\": 0.6}, \"mode\": \"markers+text\", \"name\": \"Clusters\", \"text\": [\"\", \"\", \"\", \"\", \"\", \"\", \"\", \"\", \"\", \"\", \"\", \"\", \"\", \"\", \"\", \"\", \"\", \"\", \"\", \"\", \"\", \"\", \"\", \"\", \"\", \"\", \"\", \"\", \"\", \"\", \"\", \"\", \"\", \"\", \"\", \"\", \"\", \"\", \"\", \"\"], \"type\": \"scatter\", \"x\": [643.4539600854323, 244.9419294691763, 180.52559503759218, 174.2134111675475, 144.13021853777767, 136.69304295388724, 130.96238984663913, 128.25641816497043, 102.06946184656994, 99.01652447888077, 85.64104070828782, 70.15650229225157, 69.76965585716391, 67.90305507559756, 49.52343526452687, 47.774843228122286, 46.3160360222182, 40.9953124714815, 40.05200338985438, 39.38213690463627, 35.84857932833589, 31.869331943921274, 30.575873093996886, 26.740681405413465, 20.575192180598496, 19.684589055045056, 16.25180631010767, 14.126058312075278, 12.125955297235047, 10.675142085418226, 9.94148727827959, 9.244354739350335, 6.999920904985394, 6.498913747567517, 3.5086816509956367, 3.381277660965747, 2.8145867769072233, 2.6587895730724727, 2.380467628301115, 0.7166517908336182], \"y\": [0.05957942217494875, 0.06087075092965803, 0.061674962458738755, 0.061608485370423904, 0.06231809174313737, 0.06264015225256991, 0.0622326539855195, 0.06212037901688569, 0.06269158356126235, 0.06306001278612053, 0.06336558492343879, 0.06382425058373635, 0.06363909699263263, 0.06376250474127965, 0.06487669080496009, 0.06528485634917243, 0.06489668446629417, 0.06563397390146483, 0.0664021083805899, 0.06705470317718537, 0.06638209293319973, 0.06618339164344951, 0.06661043339511756, 0.06844603283443633, 0.07163934279453095, 0.06810804528740605, 0.07776357641018936, 0.07284623714794349, 0.07130085780454602, 0.07324255138979528, 0.07307814302872957, 0.084150099288614, 0.07826581141750498, 0.08430160098100217, 0.08769314306609567, 0.08046525140743281, 0.08804060942301692, 0.10002888022495889, 0.09297492795733425, 0.12180405524270019]}],\n",
       "                        {\"annotations\": [{\"align\": \"center\", \"arrowcolor\": \"#636363\", \"arrowhead\": 2, \"arrowside\": \"none\", \"arrowsize\": 1, \"arrowwidth\": 1, \"ax\": -10, \"ay\": 20, \"font\": {\"size\": 10}, \"opacity\": 0.5, \"showarrow\": true, \"text\": \"7\", \"x\": 643.4539600854323, \"xref\": \"x\", \"xshift\": -1.3416407864998738, \"y\": 0.05957942217494875, \"yref\": \"y\", \"yshift\": -2.6832815729997477}, {\"align\": \"center\", \"arrowcolor\": \"#636363\", \"arrowhead\": 2, \"arrowside\": \"none\", \"arrowsize\": 1, \"arrowwidth\": 1, \"ax\": 10, \"ay\": -20, \"font\": {\"size\": 10}, \"opacity\": 0.5, \"showarrow\": true, \"text\": \"15\", \"x\": 244.9419294691763, \"xref\": \"x\", \"xshift\": 1.3416407864998738, \"y\": 0.06087075092965803, \"yref\": \"y\", \"yshift\": 2.6832815729997477}, {\"align\": \"center\", \"arrowcolor\": \"#636363\", \"arrowhead\": 2, \"arrowside\": \"none\", \"arrowsize\": 1, \"arrowwidth\": 1, \"ax\": 10, \"ay\": 20, \"font\": {\"size\": 10}, \"opacity\": 0.5, \"showarrow\": true, \"text\": \"8\", \"x\": 180.52559503759218, \"xref\": \"x\", \"xshift\": 1.3416407864998738, \"y\": 0.061674962458738755, \"yref\": \"y\", \"yshift\": -2.6832815729997477}, {\"align\": \"center\", \"arrowcolor\": \"#636363\", \"arrowhead\": 2, \"arrowside\": \"none\", \"arrowsize\": 1, \"arrowwidth\": 1, \"ax\": 10, \"ay\": -20, \"font\": {\"size\": 10}, \"opacity\": 0.5, \"showarrow\": true, \"text\": \"13\", \"x\": 174.2134111675475, \"xref\": \"x\", \"xshift\": 1.3416407864998738, \"y\": 0.061608485370423904, \"yref\": \"y\", \"yshift\": 2.6832815729997477}, {\"align\": \"center\", \"arrowcolor\": \"#636363\", \"arrowhead\": 2, \"arrowside\": \"none\", \"arrowsize\": 1, \"arrowwidth\": 1, \"ax\": 18, \"ay\": 20, \"font\": {\"size\": 10}, \"opacity\": 0.5, \"showarrow\": true, \"text\": \"30\", \"x\": 144.13021853777767, \"xref\": \"x\", \"xshift\": 2.006894194867349, \"y\": 0.06231809174313737, \"yref\": \"y\", \"yshift\": -2.2298824387414986}, {\"align\": \"center\", \"arrowcolor\": \"#636363\", \"arrowhead\": 2, \"arrowside\": \"none\", \"arrowsize\": 1, \"arrowwidth\": 1, \"ax\": 18, \"ay\": -20, \"font\": {\"size\": 10}, \"opacity\": 0.5, \"showarrow\": true, \"text\": \"25\", \"x\": 136.69304295388724, \"xref\": \"x\", \"xshift\": 2.006894194867349, \"y\": 0.06264015225256991, \"yref\": \"y\", \"yshift\": 2.2298824387414986}, {\"align\": \"center\", \"arrowcolor\": \"#636363\", \"arrowhead\": 2, \"arrowside\": \"none\", \"arrowsize\": 1, \"arrowwidth\": 1, \"ax\": 5, \"ay\": 20, \"font\": {\"size\": 10}, \"opacity\": 0.5, \"showarrow\": true, \"text\": \"31\", \"x\": 130.96238984663913, \"xref\": \"x\", \"xshift\": 0.7276068751089989, \"y\": 0.0622326539855195, \"yref\": \"y\", \"yshift\": -2.9104275004359956}, {\"align\": \"center\", \"arrowcolor\": \"#636363\", \"arrowhead\": 2, \"arrowside\": \"none\", \"arrowsize\": 1, \"arrowwidth\": 1, \"ax\": 5, \"ay\": -20, \"font\": {\"size\": 10}, \"opacity\": 0.5, \"showarrow\": true, \"text\": \"3\", \"x\": 128.25641816497043, \"xref\": \"x\", \"xshift\": 0.7276068751089989, \"y\": 0.06212037901688569, \"yref\": \"y\", \"yshift\": 2.9104275004359956}, {\"align\": \"center\", \"arrowcolor\": \"#636363\", \"arrowhead\": 2, \"arrowside\": \"none\", \"arrowsize\": 1, \"arrowwidth\": 1, \"ax\": 5, \"ay\": 20, \"font\": {\"size\": 10}, \"opacity\": 0.5, \"showarrow\": true, \"text\": \"26\", \"x\": 102.06946184656994, \"xref\": \"x\", \"xshift\": 0.7276068751089989, \"y\": 0.06269158356126235, \"yref\": \"y\", \"yshift\": -2.9104275004359956}, {\"align\": \"center\", \"arrowcolor\": \"#636363\", \"arrowhead\": 2, \"arrowside\": \"none\", \"arrowsize\": 1, \"arrowwidth\": 1, \"ax\": 10, \"ay\": -20, \"font\": {\"size\": 10}, \"opacity\": 0.5, \"showarrow\": true, \"text\": \"14\", \"x\": 99.01652447888077, \"xref\": \"x\", \"xshift\": 1.3416407864998738, \"y\": 0.06306001278612053, \"yref\": \"y\", \"yshift\": 2.6832815729997477}, {\"align\": \"center\", \"arrowcolor\": \"#636363\", \"arrowhead\": 2, \"arrowside\": \"none\", \"arrowsize\": 1, \"arrowwidth\": 1, \"ax\": -5, \"ay\": 20, \"font\": {\"size\": 10}, \"opacity\": 0.5, \"showarrow\": true, \"text\": \"39\", \"x\": 85.64104070828782, \"xref\": \"x\", \"xshift\": -0.7276068751089989, \"y\": 0.06336558492343879, \"yref\": \"y\", \"yshift\": -2.9104275004359956}, {\"align\": \"center\", \"arrowcolor\": \"#636363\", \"arrowhead\": 2, \"arrowside\": \"none\", \"arrowsize\": 1, \"arrowwidth\": 1, \"ax\": 15, \"ay\": -20, \"font\": {\"size\": 10}, \"opacity\": 0.5, \"showarrow\": true, \"text\": \"16\", \"x\": 70.15650229225157, \"xref\": \"x\", \"xshift\": 1.7999999999999998, \"y\": 0.06382425058373635, \"yref\": \"y\", \"yshift\": 2.4}, {\"align\": \"center\", \"arrowcolor\": \"#636363\", \"arrowhead\": 2, \"arrowside\": \"none\", \"arrowsize\": 1, \"arrowwidth\": 1, \"ax\": -15, \"ay\": 30, \"font\": {\"size\": 10}, \"opacity\": 0.5, \"showarrow\": true, \"text\": \"29\", \"x\": 69.76965585716391, \"xref\": \"x\", \"xshift\": -1.3416407864998738, \"y\": 0.06363909699263263, \"yref\": \"y\", \"yshift\": -2.6832815729997477}, {\"align\": \"center\", \"arrowcolor\": \"#636363\", \"arrowhead\": 2, \"arrowside\": \"none\", \"arrowsize\": 1, \"arrowwidth\": 1, \"ax\": -15, \"ay\": 10, \"font\": {\"size\": 10}, \"opacity\": 0.5, \"showarrow\": true, \"text\": \"4\", \"x\": 67.90305507559756, \"xref\": \"x\", \"xshift\": -2.496150883013531, \"y\": 0.06376250474127965, \"yref\": \"y\", \"yshift\": -1.6641005886756874}, {\"align\": \"center\", \"arrowcolor\": \"#636363\", \"arrowhead\": 2, \"arrowside\": \"none\", \"arrowsize\": 1, \"arrowwidth\": 1, \"ax\": 40, \"ay\": -40, \"font\": {\"size\": 10}, \"opacity\": 0.5, \"showarrow\": true, \"text\": \"10\", \"x\": 49.52343526452687, \"xref\": \"x\", \"xshift\": 2.1213203435596424, \"y\": 0.06487669080496009, \"yref\": \"y\", \"yshift\": 2.1213203435596424}, {\"align\": \"center\", \"arrowcolor\": \"#636363\", \"arrowhead\": 2, \"arrowside\": \"none\", \"arrowsize\": 1, \"arrowwidth\": 1, \"ax\": -30, \"ay\": 25, \"font\": {\"size\": 10}, \"opacity\": 0.5, \"showarrow\": true, \"text\": \"12\", \"x\": 47.774843228122286, \"xref\": \"x\", \"xshift\": -2.3046638387921274, \"y\": 0.06528485634917243, \"yref\": \"y\", \"yshift\": -1.9205531989934397}, {\"align\": \"center\", \"arrowcolor\": \"#636363\", \"arrowhead\": 2, \"arrowside\": \"none\", \"arrowsize\": 1, \"arrowwidth\": 1, \"ax\": -15, \"ay\": 25, \"font\": {\"size\": 10}, \"opacity\": 0.5, \"showarrow\": true, \"text\": \"20\", \"x\": 46.3160360222182, \"xref\": \"x\", \"xshift\": -1.5434872662825794, \"y\": 0.06489668446629417, \"yref\": \"y\", \"yshift\": -2.5724787771376327}, {\"align\": \"center\", \"arrowcolor\": \"#636363\", \"arrowhead\": 2, \"arrowside\": \"none\", \"arrowsize\": 1, \"arrowwidth\": 1, \"ax\": -28, \"ay\": 18, \"font\": {\"size\": 10}, \"opacity\": 0.5, \"showarrow\": true, \"text\": \"37\", \"x\": 40.9953124714815, \"xref\": \"x\", \"xshift\": -2.5235354261296603, \"y\": 0.06563397390146483, \"yref\": \"y\", \"yshift\": -1.622272773940496}, {\"align\": \"center\", \"arrowcolor\": \"#636363\", \"arrowhead\": 2, \"arrowside\": \"none\", \"arrowsize\": 1, \"arrowwidth\": 1, \"ax\": 20, \"ay\": -20, \"font\": {\"size\": 10}, \"opacity\": 0.5, \"showarrow\": true, \"text\": \"9\", \"x\": 40.05200338985438, \"xref\": \"x\", \"xshift\": 2.1213203435596424, \"y\": 0.0664021083805899, \"yref\": \"y\", \"yshift\": 2.1213203435596424}, {\"align\": \"center\", \"arrowcolor\": \"#636363\", \"arrowhead\": 2, \"arrowside\": \"none\", \"arrowsize\": 1, \"arrowwidth\": 1, \"ax\": 40, \"ay\": -50, \"font\": {\"size\": 10}, \"opacity\": 0.5, \"showarrow\": true, \"text\": \"17\", \"x\": 39.38213690463627, \"xref\": \"x\", \"xshift\": 1.8740851426632728, \"y\": 0.06705470317718537, \"yref\": \"y\", \"yshift\": 2.342606428329091}, {\"align\": \"center\", \"arrowcolor\": \"#636363\", \"arrowhead\": 2, \"arrowside\": \"none\", \"arrowsize\": 1, \"arrowwidth\": 1, \"ax\": 20, \"ay\": -40, \"font\": {\"size\": 10}, \"opacity\": 0.5, \"showarrow\": true, \"text\": \"34\", \"x\": 35.84857932833589, \"xref\": \"x\", \"xshift\": 1.3416407864998738, \"y\": 0.06638209293319973, \"yref\": \"y\", \"yshift\": 2.6832815729997477}, {\"align\": \"center\", \"arrowcolor\": \"#636363\", \"arrowhead\": 2, \"arrowside\": \"none\", \"arrowsize\": 1, \"arrowwidth\": 1, \"ax\": -30, \"ay\": 10, \"font\": {\"size\": 10}, \"opacity\": 0.5, \"showarrow\": true, \"text\": \"19\", \"x\": 31.869331943921274, \"xref\": \"x\", \"xshift\": -2.846049894151541, \"y\": 0.06618339164344951, \"yref\": \"y\", \"yshift\": -0.9486832980505138}, {\"align\": \"center\", \"arrowcolor\": \"#636363\", \"arrowhead\": 2, \"arrowside\": \"none\", \"arrowsize\": 1, \"arrowwidth\": 1, \"ax\": -35, \"ay\": 1, \"font\": {\"size\": 10}, \"opacity\": 0.5, \"showarrow\": true, \"text\": \"32\", \"x\": 30.575873093996886, \"xref\": \"x\", \"xshift\": -2.998776259382084, \"y\": 0.06661043339511756, \"yref\": \"y\", \"yshift\": -0.08567932169663096}, {\"align\": \"center\", \"arrowcolor\": \"#636363\", \"arrowhead\": 2, \"arrowside\": \"none\", \"arrowsize\": 1, \"arrowwidth\": 1, \"ax\": 10, \"ay\": -20, \"font\": {\"size\": 10}, \"opacity\": 0.5, \"showarrow\": true, \"text\": \"11\", \"x\": 26.740681405413465, \"xref\": \"x\", \"xshift\": 1.3416407864998738, \"y\": 0.06844603283443633, \"yref\": \"y\", \"yshift\": 2.6832815729997477}, {\"align\": \"center\", \"arrowcolor\": \"#636363\", \"arrowhead\": 2, \"arrowside\": \"none\", \"arrowsize\": 1, \"arrowwidth\": 1, \"ax\": 30, \"ay\": -30, \"font\": {\"size\": 10}, \"opacity\": 0.5, \"showarrow\": true, \"text\": \"18\", \"x\": 20.575192180598496, \"xref\": \"x\", \"xshift\": 2.1213203435596424, \"y\": 0.07163934279453095, \"yref\": \"y\", \"yshift\": 2.1213203435596424}, {\"align\": \"center\", \"arrowcolor\": \"#636363\", \"arrowhead\": 2, \"arrowside\": \"none\", \"arrowsize\": 1, \"arrowwidth\": 1, \"ax\": -25, \"ay\": -5, \"font\": {\"size\": 10}, \"opacity\": 0.5, \"showarrow\": true, \"text\": \"35\", \"x\": 19.684589055045056, \"xref\": \"x\", \"xshift\": -2.94174202707276, \"y\": 0.06810804528740605, \"yref\": \"y\", \"yshift\": 0.5883484054145521}, {\"align\": \"center\", \"arrowcolor\": \"#636363\", \"arrowhead\": 2, \"arrowside\": \"none\", \"arrowsize\": 1, \"arrowwidth\": 1, \"ax\": 10, \"ay\": -20, \"font\": {\"size\": 10}, \"opacity\": 0.5, \"showarrow\": true, \"text\": \"2\", \"x\": 16.25180631010767, \"xref\": \"x\", \"xshift\": 1.3416407864998738, \"y\": 0.07776357641018936, \"yref\": \"y\", \"yshift\": 2.6832815729997477}, {\"align\": \"center\", \"arrowcolor\": \"#636363\", \"arrowhead\": 2, \"arrowside\": \"none\", \"arrowsize\": 1, \"arrowwidth\": 1, \"ax\": 25, \"ay\": -35, \"font\": {\"size\": 10}, \"opacity\": 0.5, \"showarrow\": true, \"text\": \"27\", \"x\": 14.126058312075278, \"xref\": \"x\", \"xshift\": 1.7437145811572892, \"y\": 0.07284623714794349, \"yref\": \"y\", \"yshift\": 2.441200413620205}, {\"align\": \"center\", \"arrowcolor\": \"#636363\", \"arrowhead\": 2, \"arrowside\": \"none\", \"arrowsize\": 1, \"arrowwidth\": 1, \"ax\": -20, \"ay\": -10, \"font\": {\"size\": 10}, \"opacity\": 0.5, \"showarrow\": true, \"text\": \"28\", \"x\": 12.125955297235047, \"xref\": \"x\", \"xshift\": -2.6832815729997477, \"y\": 0.07130085780454602, \"yref\": \"y\", \"yshift\": 1.3416407864998738}, {\"align\": \"center\", \"arrowcolor\": \"#636363\", \"arrowhead\": 2, \"arrowside\": \"none\", \"arrowsize\": 1, \"arrowwidth\": 1, \"ax\": -10, \"ay\": -20, \"font\": {\"size\": 10}, \"opacity\": 0.5, \"showarrow\": true, \"text\": \"24\", \"x\": 10.675142085418226, \"xref\": \"x\", \"xshift\": -1.3416407864998738, \"y\": 0.07324255138979528, \"yref\": \"y\", \"yshift\": 2.6832815729997477}, {\"align\": \"center\", \"arrowcolor\": \"#636363\", \"arrowhead\": 2, \"arrowside\": \"none\", \"arrowsize\": 1, \"arrowwidth\": 1, \"ax\": -25, \"ay\": -20, \"font\": {\"size\": 10}, \"opacity\": 0.5, \"showarrow\": true, \"text\": \"22\", \"x\": 9.94148727827959, \"xref\": \"x\", \"xshift\": -2.342606428329091, \"y\": 0.07307814302872957, \"yref\": \"y\", \"yshift\": 1.8740851426632728}, {\"align\": \"center\", \"arrowcolor\": \"#636363\", \"arrowhead\": 2, \"arrowside\": \"none\", \"arrowsize\": 1, \"arrowwidth\": 1, \"ax\": 20, \"ay\": -5, \"font\": {\"size\": 10}, \"opacity\": 0.5, \"showarrow\": true, \"text\": \"0\", \"x\": 9.244354739350335, \"xref\": \"x\", \"xshift\": 2.9104275004359956, \"y\": 0.084150099288614, \"yref\": \"y\", \"yshift\": 0.7276068751089989}, {\"align\": \"center\", \"arrowcolor\": \"#636363\", \"arrowhead\": 2, \"arrowside\": \"none\", \"arrowsize\": 1, \"arrowwidth\": 1, \"ax\": -20, \"ay\": -15, \"font\": {\"size\": 10}, \"opacity\": 0.5, \"showarrow\": true, \"text\": \"33\", \"x\": 6.999920904985394, \"xref\": \"x\", \"xshift\": -2.4, \"y\": 0.07826581141750498, \"yref\": \"y\", \"yshift\": 1.7999999999999998}, {\"align\": \"center\", \"arrowcolor\": \"#636363\", \"arrowhead\": 2, \"arrowside\": \"none\", \"arrowsize\": 1, \"arrowwidth\": 1, \"ax\": 25, \"ay\": -25, \"font\": {\"size\": 10}, \"opacity\": 0.5, \"showarrow\": true, \"text\": \"23\", \"x\": 6.498913747567517, \"xref\": \"x\", \"xshift\": 2.1213203435596424, \"y\": 0.08430160098100217, \"yref\": \"y\", \"yshift\": 2.1213203435596424}, {\"align\": \"center\", \"arrowcolor\": \"#636363\", \"arrowhead\": 2, \"arrowside\": \"none\", \"arrowsize\": 1, \"arrowwidth\": 1, \"ax\": 10, \"ay\": -20, \"font\": {\"size\": 10}, \"opacity\": 0.5, \"showarrow\": true, \"text\": \"1\", \"x\": 3.5086816509956367, \"xref\": \"x\", \"xshift\": 1.3416407864998738, \"y\": 0.08769314306609567, \"yref\": \"y\", \"yshift\": 2.6832815729997477}, {\"align\": \"center\", \"arrowcolor\": \"#636363\", \"arrowhead\": 2, \"arrowside\": \"none\", \"arrowsize\": 1, \"arrowwidth\": 1, \"ax\": -20, \"ay\": -20, \"font\": {\"size\": 10}, \"opacity\": 0.5, \"showarrow\": true, \"text\": \"36\", \"x\": 3.381277660965747, \"xref\": \"x\", \"xshift\": -2.1213203435596424, \"y\": 0.08046525140743281, \"yref\": \"y\", \"yshift\": 2.1213203435596424}, {\"align\": \"center\", \"arrowcolor\": \"#636363\", \"arrowhead\": 2, \"arrowside\": \"none\", \"arrowsize\": 1, \"arrowwidth\": 1, \"ax\": -15, \"ay\": -10, \"font\": {\"size\": 10}, \"opacity\": 0.5, \"showarrow\": true, \"text\": \"6\", \"x\": 2.8145867769072233, \"xref\": \"x\", \"xshift\": -2.496150883013531, \"y\": 0.08804060942301692, \"yref\": \"y\", \"yshift\": 1.6641005886756874}, {\"align\": \"center\", \"arrowcolor\": \"#636363\", \"arrowhead\": 2, \"arrowside\": \"none\", \"arrowsize\": 1, \"arrowwidth\": 1, \"ax\": 10, \"ay\": -20, \"font\": {\"size\": 10}, \"opacity\": 0.5, \"showarrow\": true, \"text\": \"21\", \"x\": 2.6587895730724727, \"xref\": \"x\", \"xshift\": 1.3416407864998738, \"y\": 0.10002888022495889, \"yref\": \"y\", \"yshift\": 2.6832815729997477}, {\"align\": \"center\", \"arrowcolor\": \"#636363\", \"arrowhead\": 2, \"arrowside\": \"none\", \"arrowsize\": 1, \"arrowwidth\": 1, \"ax\": 10, \"ay\": -20, \"font\": {\"size\": 10}, \"opacity\": 0.5, \"showarrow\": true, \"text\": \"38\", \"x\": 2.380467628301115, \"xref\": \"x\", \"xshift\": 1.3416407864998738, \"y\": 0.09297492795733425, \"yref\": \"y\", \"yshift\": 2.6832815729997477}, {\"align\": \"center\", \"arrowcolor\": \"#636363\", \"arrowhead\": 2, \"arrowside\": \"none\", \"arrowsize\": 1, \"arrowwidth\": 1, \"ax\": 20, \"ay\": 5, \"font\": {\"size\": 10}, \"opacity\": 0.5, \"showarrow\": true, \"text\": \"5\", \"x\": 0.7166517908336182, \"xref\": \"x\", \"xshift\": 2.9104275004359956, \"y\": 0.12180405524270019, \"yref\": \"y\", \"yshift\": -0.7276068751089989}], \"legend\": {\"orientation\": \"h\", \"title\": {\"text\": \"\"}, \"x\": 0.5, \"xanchor\": \"center\", \"y\": -0.15, \"yanchor\": \"top\"}, \"margin\": {\"b\": 0, \"l\": 0, \"r\": 0, \"t\": 30}, \"template\": {\"data\": {\"bar\": [{\"error_x\": {\"color\": \"#2a3f5f\"}, \"error_y\": {\"color\": \"#2a3f5f\"}, \"marker\": {\"line\": {\"color\": \"white\", \"width\": 0.5}}, \"type\": \"bar\"}], \"barpolar\": [{\"marker\": {\"line\": {\"color\": \"white\", \"width\": 0.5}}, \"type\": \"barpolar\"}], \"carpet\": [{\"aaxis\": {\"endlinecolor\": \"#2a3f5f\", \"gridcolor\": \"#C8D4E3\", \"linecolor\": \"#C8D4E3\", \"minorgridcolor\": \"#C8D4E3\", \"startlinecolor\": \"#2a3f5f\"}, \"baxis\": {\"endlinecolor\": \"#2a3f5f\", \"gridcolor\": \"#C8D4E3\", \"linecolor\": \"#C8D4E3\", \"minorgridcolor\": \"#C8D4E3\", \"startlinecolor\": \"#2a3f5f\"}, \"type\": \"carpet\"}], \"choropleth\": [{\"colorbar\": {\"outlinewidth\": 0, \"ticks\": \"\"}, \"type\": \"choropleth\"}], \"contour\": [{\"colorbar\": {\"outlinewidth\": 0, \"ticks\": \"\"}, \"colorscale\": [[0.0, \"#0d0887\"], [0.1111111111111111, \"#46039f\"], [0.2222222222222222, \"#7201a8\"], [0.3333333333333333, \"#9c179e\"], [0.4444444444444444, \"#bd3786\"], [0.5555555555555556, \"#d8576b\"], [0.6666666666666666, \"#ed7953\"], [0.7777777777777778, \"#fb9f3a\"], [0.8888888888888888, \"#fdca26\"], [1.0, \"#f0f921\"]], \"type\": \"contour\"}], \"contourcarpet\": [{\"colorbar\": {\"outlinewidth\": 0, \"ticks\": \"\"}, \"type\": \"contourcarpet\"}], \"heatmap\": [{\"colorbar\": {\"outlinewidth\": 0, \"ticks\": \"\"}, \"colorscale\": [[0.0, \"#0d0887\"], [0.1111111111111111, \"#46039f\"], [0.2222222222222222, \"#7201a8\"], [0.3333333333333333, \"#9c179e\"], [0.4444444444444444, \"#bd3786\"], [0.5555555555555556, \"#d8576b\"], [0.6666666666666666, \"#ed7953\"], [0.7777777777777778, \"#fb9f3a\"], [0.8888888888888888, \"#fdca26\"], [1.0, \"#f0f921\"]], \"type\": \"heatmap\"}], \"heatmapgl\": [{\"colorbar\": {\"outlinewidth\": 0, \"ticks\": \"\"}, \"colorscale\": [[0.0, \"#0d0887\"], [0.1111111111111111, \"#46039f\"], [0.2222222222222222, \"#7201a8\"], [0.3333333333333333, \"#9c179e\"], [0.4444444444444444, \"#bd3786\"], [0.5555555555555556, \"#d8576b\"], [0.6666666666666666, \"#ed7953\"], [0.7777777777777778, \"#fb9f3a\"], [0.8888888888888888, \"#fdca26\"], [1.0, \"#f0f921\"]], \"type\": \"heatmapgl\"}], \"histogram\": [{\"marker\": {\"colorbar\": {\"outlinewidth\": 0, \"ticks\": \"\"}}, \"type\": \"histogram\"}], \"histogram2d\": [{\"colorbar\": {\"outlinewidth\": 0, \"ticks\": \"\"}, \"colorscale\": [[0.0, \"#0d0887\"], [0.1111111111111111, \"#46039f\"], [0.2222222222222222, \"#7201a8\"], [0.3333333333333333, \"#9c179e\"], [0.4444444444444444, \"#bd3786\"], [0.5555555555555556, \"#d8576b\"], [0.6666666666666666, \"#ed7953\"], [0.7777777777777778, \"#fb9f3a\"], [0.8888888888888888, \"#fdca26\"], [1.0, \"#f0f921\"]], \"type\": \"histogram2d\"}], \"histogram2dcontour\": [{\"colorbar\": {\"outlinewidth\": 0, \"ticks\": \"\"}, \"colorscale\": [[0.0, \"#0d0887\"], [0.1111111111111111, \"#46039f\"], [0.2222222222222222, \"#7201a8\"], [0.3333333333333333, \"#9c179e\"], [0.4444444444444444, \"#bd3786\"], [0.5555555555555556, \"#d8576b\"], [0.6666666666666666, \"#ed7953\"], [0.7777777777777778, \"#fb9f3a\"], [0.8888888888888888, \"#fdca26\"], [1.0, \"#f0f921\"]], \"type\": \"histogram2dcontour\"}], \"mesh3d\": [{\"colorbar\": {\"outlinewidth\": 0, \"ticks\": \"\"}, \"type\": \"mesh3d\"}], \"parcoords\": [{\"line\": {\"colorbar\": {\"outlinewidth\": 0, \"ticks\": \"\"}}, \"type\": \"parcoords\"}], \"pie\": [{\"automargin\": true, \"type\": \"pie\"}], \"scatter\": [{\"marker\": {\"colorbar\": {\"outlinewidth\": 0, \"ticks\": \"\"}}, \"type\": \"scatter\"}], \"scatter3d\": [{\"line\": {\"colorbar\": {\"outlinewidth\": 0, \"ticks\": \"\"}}, \"marker\": {\"colorbar\": {\"outlinewidth\": 0, \"ticks\": \"\"}}, \"type\": \"scatter3d\"}], \"scattercarpet\": [{\"marker\": {\"colorbar\": {\"outlinewidth\": 0, \"ticks\": \"\"}}, \"type\": \"scattercarpet\"}], \"scattergeo\": [{\"marker\": {\"colorbar\": {\"outlinewidth\": 0, \"ticks\": \"\"}}, \"type\": \"scattergeo\"}], \"scattergl\": [{\"marker\": {\"colorbar\": {\"outlinewidth\": 0, \"ticks\": \"\"}}, \"type\": \"scattergl\"}], \"scattermapbox\": [{\"marker\": {\"colorbar\": {\"outlinewidth\": 0, \"ticks\": \"\"}}, \"type\": \"scattermapbox\"}], \"scatterpolar\": [{\"marker\": {\"colorbar\": {\"outlinewidth\": 0, \"ticks\": \"\"}}, \"type\": \"scatterpolar\"}], \"scatterpolargl\": [{\"marker\": {\"colorbar\": {\"outlinewidth\": 0, \"ticks\": \"\"}}, \"type\": \"scatterpolargl\"}], \"scatterternary\": [{\"marker\": {\"colorbar\": {\"outlinewidth\": 0, \"ticks\": \"\"}}, \"type\": \"scatterternary\"}], \"surface\": [{\"colorbar\": {\"outlinewidth\": 0, \"ticks\": \"\"}, \"colorscale\": [[0.0, \"#0d0887\"], [0.1111111111111111, \"#46039f\"], [0.2222222222222222, \"#7201a8\"], [0.3333333333333333, \"#9c179e\"], [0.4444444444444444, \"#bd3786\"], [0.5555555555555556, \"#d8576b\"], [0.6666666666666666, \"#ed7953\"], [0.7777777777777778, \"#fb9f3a\"], [0.8888888888888888, \"#fdca26\"], [1.0, \"#f0f921\"]], \"type\": \"surface\"}], \"table\": [{\"cells\": {\"fill\": {\"color\": \"#EBF0F8\"}, \"line\": {\"color\": \"white\"}}, \"header\": {\"fill\": {\"color\": \"#C8D4E3\"}, \"line\": {\"color\": \"white\"}}, \"type\": \"table\"}]}, \"layout\": {\"annotationdefaults\": {\"arrowcolor\": \"#2a3f5f\", \"arrowhead\": 0, \"arrowwidth\": 1}, \"coloraxis\": {\"colorbar\": {\"outlinewidth\": 0, \"ticks\": \"\"}}, \"colorscale\": {\"diverging\": [[0, \"#8e0152\"], [0.1, \"#c51b7d\"], [0.2, \"#de77ae\"], [0.3, \"#f1b6da\"], [0.4, \"#fde0ef\"], [0.5, \"#f7f7f7\"], [0.6, \"#e6f5d0\"], [0.7, \"#b8e186\"], [0.8, \"#7fbc41\"], [0.9, \"#4d9221\"], [1, \"#276419\"]], \"sequential\": [[0.0, \"#0d0887\"], [0.1111111111111111, \"#46039f\"], [0.2222222222222222, \"#7201a8\"], [0.3333333333333333, \"#9c179e\"], [0.4444444444444444, \"#bd3786\"], [0.5555555555555556, \"#d8576b\"], [0.6666666666666666, \"#ed7953\"], [0.7777777777777778, \"#fb9f3a\"], [0.8888888888888888, \"#fdca26\"], [1.0, \"#f0f921\"]], \"sequentialminus\": [[0.0, \"#0d0887\"], [0.1111111111111111, \"#46039f\"], [0.2222222222222222, \"#7201a8\"], [0.3333333333333333, \"#9c179e\"], [0.4444444444444444, \"#bd3786\"], [0.5555555555555556, \"#d8576b\"], [0.6666666666666666, \"#ed7953\"], [0.7777777777777778, \"#fb9f3a\"], [0.8888888888888888, \"#fdca26\"], [1.0, \"#f0f921\"]]}, \"colorway\": [\"#636efa\", \"#EF553B\", \"#00cc96\", \"#ab63fa\", \"#FFA15A\", \"#19d3f3\", \"#FF6692\", \"#B6E880\", \"#FF97FF\", \"#FECB52\"], \"font\": {\"color\": \"#2a3f5f\"}, \"geo\": {\"bgcolor\": \"white\", \"lakecolor\": \"white\", \"landcolor\": \"white\", \"showlakes\": true, \"showland\": true, \"subunitcolor\": \"#C8D4E3\"}, \"hoverlabel\": {\"align\": \"left\"}, \"hovermode\": \"closest\", \"mapbox\": {\"style\": \"light\"}, \"paper_bgcolor\": \"white\", \"plot_bgcolor\": \"white\", \"polar\": {\"angularaxis\": {\"gridcolor\": \"#EBF0F8\", \"linecolor\": \"#EBF0F8\", \"ticks\": \"\"}, \"bgcolor\": \"white\", \"radialaxis\": {\"gridcolor\": \"#EBF0F8\", \"linecolor\": \"#EBF0F8\", \"ticks\": \"\"}}, \"scene\": {\"xaxis\": {\"backgroundcolor\": \"white\", \"gridcolor\": \"#DFE8F3\", \"gridwidth\": 2, \"linecolor\": \"#EBF0F8\", \"showbackground\": true, \"ticks\": \"\", \"zerolinecolor\": \"#EBF0F8\"}, \"yaxis\": {\"backgroundcolor\": \"white\", \"gridcolor\": \"#DFE8F3\", \"gridwidth\": 2, \"linecolor\": \"#EBF0F8\", \"showbackground\": true, \"ticks\": \"\", \"zerolinecolor\": \"#EBF0F8\"}, \"zaxis\": {\"backgroundcolor\": \"white\", \"gridcolor\": \"#DFE8F3\", \"gridwidth\": 2, \"linecolor\": \"#EBF0F8\", \"showbackground\": true, \"ticks\": \"\", \"zerolinecolor\": \"#EBF0F8\"}}, \"shapedefaults\": {\"line\": {\"color\": \"#2a3f5f\"}}, \"ternary\": {\"aaxis\": {\"gridcolor\": \"#DFE8F3\", \"linecolor\": \"#A2B1C6\", \"ticks\": \"\"}, \"baxis\": {\"gridcolor\": \"#DFE8F3\", \"linecolor\": \"#A2B1C6\", \"ticks\": \"\"}, \"bgcolor\": \"white\", \"caxis\": {\"gridcolor\": \"#DFE8F3\", \"linecolor\": \"#A2B1C6\", \"ticks\": \"\"}}, \"title\": {\"x\": 0.05}, \"xaxis\": {\"automargin\": true, \"gridcolor\": \"#EBF0F8\", \"linecolor\": \"#EBF0F8\", \"ticks\": \"\", \"title\": {\"standoff\": 15}, \"zerolinecolor\": \"#EBF0F8\", \"zerolinewidth\": 2}, \"yaxis\": {\"automargin\": true, \"gridcolor\": \"#EBF0F8\", \"linecolor\": \"#EBF0F8\", \"ticks\": \"\", \"title\": {\"standoff\": 15}, \"zerolinecolor\": \"#EBF0F8\", \"zerolinewidth\": 2}}}, \"width\": 500, \"xaxis\": {\"title\": {\"text\": \"Capacity (Mm<sup>3</sup>/y)\"}}, \"yaxis\": {\"title\": {\"text\": \"LCOW ($/m<sup>3</sup>)\"}}},\n",
       "                        {\"responsive\": true}\n",
       "                    ).then(function(){\n",
       "                            \n",
       "var gd = document.getElementById('0de71d16-d663-4494-8105-1a72c259c98b');\n",
       "var x = new MutationObserver(function (mutations, observer) {{\n",
       "        var display = window.getComputedStyle(gd).display;\n",
       "        if (!display || display === 'none') {{\n",
       "            console.log([gd, 'removed!']);\n",
       "            Plotly.purge(gd);\n",
       "            observer.disconnect();\n",
       "        }}\n",
       "}});\n",
       "\n",
       "// Listen for the removal of the full notebook cells\n",
       "var notebookContainer = gd.closest('#notebook-container');\n",
       "if (notebookContainer) {{\n",
       "    x.observe(notebookContainer, {childList: true});\n",
       "}}\n",
       "\n",
       "// Listen for the clearing of the current output cell\n",
       "var outputEl = gd.closest('.output');\n",
       "if (outputEl) {{\n",
       "    x.observe(outputEl, {childList: true});\n",
       "}}\n",
       "\n",
       "                        })\n",
       "                };\n",
       "                });\n",
       "            </script>\n",
       "        </div>"
      ]
     },
     "metadata": {},
     "output_type": "display_data"
    }
   ],
   "source": [
    "dff_ponds = dff.rename(columns={'PondSystemLCOW': 'Pond system'})\n",
    "dff_ponds = dff_ponds.sort_values('IrrigationReclaimedWater', ascending=False)\n",
    "dff_ponds['IrrigationReclaimedWater'] /= 1000000\n",
    "\n",
    "fig_ag = go.Figure()\n",
    "\n",
    "fig_ag.add_scatter(y=lcow, x=v/1000000,\n",
    "             mode='lines',\n",
    "             marker={'color': px.colors.qualitative.T10[2]},\n",
    "             name='Pond system LCOW',\n",
    "             opacity=1)\n",
    "\n",
    "fig_ag.add_scatter(x=dff_ponds['IrrigationReclaimedWater'], \n",
    "                   y=dff_ponds['Pond system'],\n",
    "                   mode='markers+text',\n",
    "                   text=['']*40,\n",
    "                   marker={'color': px.colors.qualitative.T10[2], 'opacity': 0.6},\n",
    "                   name='Clusters',\n",
    "                   )\n",
    "\n",
    "\n",
    "arrows = {0: (20, -5), 1: (10, -20), 2: (10, -20), 3: (5, -20), 4: (-15, 10),\n",
    "          5: (20, 5), 6: (-15, -10), 7: (-10, 20), 8: (10, 20), 9: (20, -20),\n",
    "          10: (40, -40), 11: (10, -20), 12: (-30, 25), 13: (10, -20), 14: (10, -20),\n",
    "          15: (10, -20), 16: (15, -20), 17: (40, -50), 18: (30, -30), 19: (-30, 10),\n",
    "          20: (-15, 25), 21: (10, -20), 22: (-25, -20), 23: (25, -25), 24: (-10, -20),\n",
    "          25: (18, -20), 26: (5, 20), 27: (25, -35), 28: (-20, -10), 29: (-15, 30),\n",
    "          30: (18, 20), 31: (5, 20), 32: (-35, 1), 33: (-20, -15), 34: (20, -40),\n",
    "          35: (-25, -5), 36: (-20, -20), 37: (-28, 18), 38: (10, -20), 39: (-5, 20),}\n",
    "\n",
    "for i, row,  in dff_ponds.reset_index().iterrows():        \n",
    "    fig_ag.add_annotation(\n",
    "            x=row['IrrigationReclaimedWater'],\n",
    "            y=row['Pond system'],\n",
    "            xref=\"x\",\n",
    "            yref=\"y\",\n",
    "            text=int(row['Cluster']),\n",
    "            showarrow=True,\n",
    "            font=dict(\n",
    "                size=10,\n",
    "                ),\n",
    "            align=\"center\",\n",
    "#             standoff=3,\n",
    "            arrowhead=2,\n",
    "            arrowsize=1,\n",
    "            arrowwidth=1,\n",
    "#             arrowtail=0,\n",
    "            arrowside='none',\n",
    "            arrowcolor=\"#636363\",\n",
    "            xshift=np.sign(arrows[int(row['Cluster'])][0]) * 3 / (1 + (arrows[int(row['Cluster'])][1]/arrows[int(row['Cluster'])][0])**2)**(1/2),\n",
    "            yshift=-np.sign(arrows[int(row['Cluster'])][1]) * 3 / (1 + (arrows[int(row['Cluster'])][0]/arrows[int(row['Cluster'])][1])**2)**(1/2),\n",
    "            ax=arrows[int(row['Cluster'])][0],\n",
    "            ay=arrows[int(row['Cluster'])][1],\n",
    "            opacity=0.5,\n",
    "    )\n",
    "    \n",
    "fig_ag.update_layout(width=500, template='plotly_white',\n",
    "                  xaxis={'title': 'Capacity (Mm<sup>3</sup>/y)'}, \n",
    "                  yaxis={'title': 'LCOW ($/m<sup>3</sup>)'},\n",
    "                  legend=dict(\n",
    "                            title='',\n",
    "                            orientation=\"h\",\n",
    "                            yanchor=\"top\",\n",
    "                            y=-0.15,\n",
    "                            xanchor=\"center\",\n",
    "                            x=0.5\n",
    "                ),\n",
    "                 margin=dict(b=0, l=0, r=0, t=30))    \n",
    "\n",
    "fig_ag.show()\n",
    "fig_ag.write_image('../LCOW_agriculture.pdf')"
   ]
  },
  {
   "cell_type": "code",
   "execution_count": 40,
   "metadata": {},
   "outputs": [
    {
     "data": {
      "application/vnd.plotly.v1+json": {
       "config": {
        "plotlyServerURL": "https://plot.ly"
       },
       "data": [
        {
         "hovertemplate": "variable=Extended aeration<br>PopulationReclaimedWater=%{x}<br>value=%{y}<br>Cluster=%{text}<extra></extra>",
         "legendgroup": "Extended aeration",
         "marker": {
          "color": "#4C78A8",
          "symbol": "circle"
         },
         "mode": "lines+markers",
         "name": "Extended aeration",
         "opacity": 0.8,
         "orientation": "v",
         "showlegend": true,
         "text": [
          7,
          13,
          25,
          9,
          31,
          26,
          11,
          27,
          15,
          29,
          34,
          20,
          32,
          38,
          0,
          14,
          30,
          2,
          37,
          35,
          12,
          23,
          36,
          18,
          10,
          21,
          1,
          22,
          24,
          19,
          17,
          5,
          6,
          4,
          3,
          8,
          39,
          28
         ],
         "type": "scatter",
         "x": [
          16.279836563532943,
          15.949011560678912,
          14.097633605056728,
          14.005798994692432,
          12.03553170808292,
          11.33235786669439,
          9.882683472569662,
          9.255684011984894,
          8.159978457654471,
          7.53986200693321,
          6.52271669281637,
          5.716705297236679,
          5.469882593977969,
          5.433444683939155,
          5.1098373039390195,
          4.378107329262256,
          4.213242707808354,
          4.074631585506439,
          4.049699980880706,
          3.321892961117269,
          2.597698880820659,
          2.4591604911149627,
          2.331248396512883,
          2.31230492503404,
          2.0581863502073503,
          1.9256842278332273,
          1.5568486599418687,
          1.1083915053979745,
          0.9622352230026423,
          0.7655319202580353,
          0.595158973124137,
          0.5233510656149156,
          0.4549404459580853,
          0.38204147543799033,
          0.291645926664292,
          0.13911597635273706,
          0.06715434649603165,
          0.05221893720218775
         ],
         "xaxis": "x",
         "y": [
          0.04841283743575303,
          0.04892778805712809,
          0.05214092652368404,
          0.052316917857311275,
          0.05657161041293024,
          0.0583561624186188,
          0.06262740149509992,
          0.06478279902383141,
          0.06913795927841108,
          0.07201914812628858,
          0.07761929141398782,
          0.08309669200592039,
          0.08501506797350074,
          0.08530944537443083,
          0.08806240546977101,
          0.09539352323342096,
          0.09730755794652692,
          0.09900716025114593,
          0.09932221618836103,
          0.11005201057279955,
          0.1250079844832252,
          0.12861072171049429,
          0.13222260014434384,
          0.13278321331520596,
          0.14104792902919885,
          0.1460023867526781,
          0.16303700833271276,
          0.19450681836153286,
          0.2093434493200167,
          0.2357858576771701,
          0.26879708754985004,
          0.28741255525718395,
          0.3091738135598442,
          0.33863799633647174,
          0.3898458219723799,
          0.5738655355638868,
          0.8401591947101437,
          0.9585538831787008
         ],
         "yaxis": "y"
        },
        {
         "hovertemplate": "variable=Rotating biological contractors<br>PopulationReclaimedWater=%{x}<br>value=%{y}<br>Cluster=%{text}<extra></extra>",
         "legendgroup": "Rotating biological contractors",
         "marker": {
          "color": "#F58518",
          "symbol": "circle"
         },
         "mode": "lines+markers",
         "name": "Rotating biological contractors",
         "opacity": 0.8,
         "orientation": "v",
         "showlegend": true,
         "text": [
          7,
          13,
          25,
          9,
          31,
          26,
          11,
          27,
          15,
          29,
          34,
          20,
          32,
          38,
          0,
          14,
          30,
          2,
          37,
          35,
          12,
          23,
          36,
          18,
          10,
          21,
          1,
          22,
          24,
          19,
          17,
          5,
          6,
          4,
          3,
          8,
          39,
          28
         ],
         "type": "scatter",
         "x": [
          16.279836563532943,
          15.949011560678912,
          14.097633605056728,
          14.005798994692432,
          12.03553170808292,
          11.33235786669439,
          9.882683472569662,
          9.255684011984894,
          8.159978457654471,
          7.53986200693321,
          6.52271669281637,
          5.716705297236679,
          5.469882593977969,
          5.433444683939155,
          5.1098373039390195,
          4.378107329262256,
          4.213242707808354,
          4.074631585506439,
          4.049699980880706,
          3.321892961117269,
          2.597698880820659,
          2.4591604911149627,
          2.331248396512883,
          2.31230492503404,
          2.0581863502073503,
          1.9256842278332273,
          1.5568486599418687,
          1.1083915053979745,
          0.9622352230026423,
          0.7655319202580353,
          0.595158973124137,
          0.5233510656149156,
          0.4549404459580853,
          0.38204147543799033,
          0.291645926664292,
          0.13911597635273706,
          0.06715434649603165,
          0.05221893720218775
         ],
         "xaxis": "x",
         "y": [
          0.055227902194712096,
          0.05568130079050348,
          0.05848605222289637,
          0.058638501809395886,
          0.06228910533888156,
          0.06380119916425979,
          0.06737775155094955,
          0.06916101535419995,
          0.07272303197792668,
          0.0750508825321153,
          0.07951492637857886,
          0.08380934768160918,
          0.08529770799184105,
          0.08552540528357853,
          0.08764606199117898,
          0.09322004741947874,
          0.09465869074357193,
          0.0959306544756633,
          0.09616587911958666,
          0.10407754379718902,
          0.11481314338603776,
          0.11735340726660144,
          0.11988352621866519,
          0.12027478231055447,
          0.1259991611620294,
          0.12939314694623594,
          0.14086478794086327,
          0.16135294362292055,
          0.17073827777613151,
          0.18709042040139912,
          0.2069150717722943,
          0.2178405536375899,
          0.23040434496505838,
          0.2470904875372261,
          0.2753065051349676,
          0.37039681175636924,
          0.4961187775319615,
          0.5488509133779703
         ],
         "yaxis": "y"
        },
        {
         "hovertemplate": "variable=Sequencing batch reactor<br>PopulationReclaimedWater=%{x}<br>value=%{y}<br>Cluster=%{text}<extra></extra>",
         "legendgroup": "Sequencing batch reactor",
         "marker": {
          "color": "#72B7B2",
          "symbol": "circle"
         },
         "mode": "lines+markers",
         "name": "Sequencing batch reactor",
         "opacity": 0.8,
         "orientation": "v",
         "showlegend": true,
         "text": [
          7,
          13,
          25,
          9,
          31,
          26,
          11,
          27,
          15,
          29,
          34,
          20,
          32,
          38,
          0,
          14,
          30,
          2,
          37,
          35,
          12,
          23,
          36,
          18,
          10,
          21,
          1,
          22,
          24,
          19,
          17,
          5,
          6,
          4,
          3,
          8,
          39,
          28
         ],
         "type": "scatter",
         "x": [
          16.279836563532943,
          15.949011560678912,
          14.097633605056728,
          14.005798994692432,
          12.03553170808292,
          11.33235786669439,
          9.882683472569662,
          9.255684011984894,
          8.159978457654471,
          7.53986200693321,
          6.52271669281637,
          5.716705297236679,
          5.469882593977969,
          5.433444683939155,
          5.1098373039390195,
          4.378107329262256,
          4.213242707808354,
          4.074631585506439,
          4.049699980880706,
          3.321892961117269,
          2.597698880820659,
          2.4591604911149627,
          2.331248396512883,
          2.31230492503404,
          2.0581863502073503,
          1.9256842278332273,
          1.5568486599418687,
          1.1083915053979745,
          0.9622352230026423,
          0.7655319202580353,
          0.595158973124137,
          0.5233510656149156,
          0.4549404459580853,
          0.38204147543799033,
          0.291645926664292,
          0.13911597635273706,
          0.06715434649603165,
          0.05221893720218775
         ],
         "xaxis": "x",
         "y": [
          0.06252640629665432,
          0.06304064341462565,
          0.06622162641585143,
          0.06639451965921771,
          0.07053447782203126,
          0.07224915080829915,
          0.07630458702472287,
          0.07832647237762794,
          0.08236482208641792,
          0.08500374068851467,
          0.09006379983544845,
          0.09493094489152946,
          0.09661765028393396,
          0.09687568463301446,
          0.09927879790017077,
          0.10559444226797014,
          0.10722432850444268,
          0.10866531658175609,
          0.10893179263216679,
          0.11789343200012956,
          0.13005019956476596,
          0.13292613976934273,
          0.13579036661567215,
          0.1362332686871828,
          0.14271264928054891,
          0.1465537307895277,
          0.15953357562602777,
          0.1827041424481692,
          0.19331356322974716,
          0.2117916048402105,
          0.2341822924686097,
          0.24651679130163734,
          0.2606964946941918,
          0.2795216724103254,
          0.3113370311715564,
          0.4184060383747061,
          0.559650261204829,
          0.6187988295126116
         ],
         "yaxis": "y"
        },
        {
         "hovertemplate": "variable=Membrane  bioreactor<br>PopulationReclaimedWater=%{x}<br>value=%{y}<br>Cluster=%{text}<extra></extra>",
         "legendgroup": "Membrane  bioreactor",
         "marker": {
          "color": "#54A24B",
          "symbol": "circle"
         },
         "mode": "lines+markers",
         "name": "Membrane  bioreactor",
         "opacity": 0.8,
         "orientation": "v",
         "showlegend": true,
         "text": [
          7,
          13,
          25,
          9,
          31,
          26,
          11,
          27,
          15,
          29,
          34,
          20,
          32,
          38,
          0,
          14,
          30,
          2,
          37,
          35,
          12,
          23,
          36,
          18,
          10,
          21,
          1,
          22,
          24,
          19,
          17,
          5,
          6,
          4,
          3,
          8,
          39,
          28
         ],
         "type": "scatter",
         "x": [
          16.279836563532943,
          15.949011560678912,
          14.097633605056728,
          14.005798994692432,
          12.03553170808292,
          11.33235786669439,
          9.882683472569662,
          9.255684011984894,
          8.159978457654471,
          7.53986200693321,
          6.52271669281637,
          5.716705297236679,
          5.469882593977969,
          5.433444683939155,
          5.1098373039390195,
          4.378107329262256,
          4.213242707808354,
          4.074631585506439,
          4.049699980880706,
          3.321892961117269,
          2.597698880820659,
          2.4591604911149627,
          2.331248396512883,
          2.31230492503404,
          2.0581863502073503,
          1.9256842278332273,
          1.5568486599418687,
          1.1083915053979745,
          0.9622352230026423,
          0.7655319202580353,
          0.595158973124137,
          0.5233510656149156,
          0.4549404459580853,
          0.38204147543799033,
          0.291645926664292,
          0.13911597635273706,
          0.06715434649603165,
          0.05221893720218775
         ],
         "xaxis": "x",
         "y": [
          0.11510459294704085,
          0.11584768508648179,
          0.12041697037765701,
          0.12066400427299094,
          0.12654057044579858,
          0.12895351496940602,
          0.13461425318342587,
          0.13741324298427915,
          0.14295986533241667,
          0.14655418674804804,
          0.1533831721111628,
          0.159878075930499,
          0.16211287289773518,
          0.16245404968931482,
          0.16562265706415313,
          0.17387687346035885,
          0.17599053014608534,
          0.1778537812191406,
          0.17819779237575595,
          0.18967044999774735,
          0.2049555371119283,
          0.20852838712007568,
          0.21207118792528865,
          0.21261766484122824,
          0.22057199776793093,
          0.22525295362297476,
          0.2408928921499366,
          0.2681959516818189,
          0.28046218372767107,
          0.30151132557901367,
          0.3265342261969106,
          0.3401138718899409,
          0.35555974628024895,
          0.3758119764876775,
          0.409441131855603,
          0.5180961937402201,
          0.6534719700936293,
          0.7081146810016841
         ],
         "yaxis": "y"
        },
        {
         "hovertemplate": "variable=Intermittent sand filter<br>PopulationReclaimedWater=%{x}<br>value=%{y}<br>Cluster=%{text}<extra></extra>",
         "legendgroup": "Intermittent sand filter",
         "marker": {
          "color": "#EECA3B",
          "symbol": "circle"
         },
         "mode": "lines+markers",
         "name": "Intermittent sand filter",
         "opacity": 0.8,
         "orientation": "v",
         "showlegend": true,
         "text": [
          7,
          13,
          25,
          9,
          31,
          26,
          11,
          27,
          15,
          29,
          34,
          20,
          32,
          38,
          0,
          14,
          30,
          2,
          37,
          35,
          12,
          23,
          36,
          18,
          10,
          21,
          1,
          22,
          24,
          19,
          17,
          5,
          6,
          4,
          3,
          8,
          39,
          28,
          16,
          33
         ],
         "type": "scatter",
         "x": [
          16.279836563532943,
          15.949011560678912,
          14.097633605056728,
          14.005798994692432,
          12.03553170808292,
          11.33235786669439,
          9.882683472569662,
          9.255684011984894,
          8.159978457654471,
          7.53986200693321,
          6.52271669281637,
          5.716705297236679,
          5.469882593977969,
          5.433444683939155,
          5.1098373039390195,
          4.378107329262256,
          4.213242707808354,
          4.074631585506439,
          4.049699980880706,
          3.321892961117269,
          2.597698880820659,
          2.4591604911149627,
          2.331248396512883,
          2.31230492503404,
          2.0581863502073503,
          1.9256842278332273,
          1.5568486599418687,
          1.1083915053979745,
          0.9622352230026423,
          0.7655319202580353,
          0.595158973124137,
          0.5233510656149156,
          0.4549404459580853,
          0.38204147543799033,
          0.291645926664292,
          0.13911597635273706,
          0.06715434649603165,
          0.05221893720218775,
          0.00497845051461421,
          0.0047929331920743105
         ],
         "xaxis": "x",
         "y": [
          0.1335195022075538,
          0.13360382113882002,
          0.1341264782644203,
          0.13415493935059783,
          0.13483812553660482,
          0.13512204414567877,
          0.1357958390469918,
          0.13613299062761983,
          0.13680888064632177,
          0.1372523773332398,
          0.1381069057880199,
          0.13893410922059105,
          0.13922200395399464,
          0.1392661028857209,
          0.1396775275502286,
          0.14076513172799932,
          0.1410473267634094,
          0.1412973421365252,
          0.1413436308046138,
          0.14291036771996363,
          0.14506785774518252,
          0.1455838552089804,
          0.14609993011493805,
          0.1461799276316522,
          0.1473563053378565,
          0.14805911063676994,
          0.1504647638311957,
          0.15488219164852485,
          0.15696000470806976,
          0.16066555760947598,
          0.1653097521041997,
          0.16794319359152013,
          0.17103879666230762,
          0.1752647125757028,
          0.18272013959995473,
          0.210959645186458,
          0.25661141899833007,
          0.27889315147910554,
          0.9859833254845084,
          1.0135782846471744
         ],
         "yaxis": "y"
        },
        {
         "hovertemplate": "variable=Trickling filter<br>PopulationReclaimedWater=%{x}<br>value=%{y}<br>Cluster=%{text}<extra></extra>",
         "legendgroup": "Trickling filter",
         "marker": {
          "color": "#B279A2",
          "symbol": "circle"
         },
         "mode": "lines+markers",
         "name": "Trickling filter",
         "opacity": 0.8,
         "orientation": "v",
         "showlegend": true,
         "text": [
          7,
          13,
          25,
          9,
          31,
          26,
          11,
          27,
          15,
          29,
          34,
          20,
          32,
          38,
          0,
          14,
          30,
          2,
          37,
          35,
          12,
          23,
          36,
          18,
          10,
          21,
          1,
          22,
          24,
          19,
          17,
          5,
          6,
          4,
          3,
          8,
          39,
          28
         ],
         "type": "scatter",
         "x": [
          16.279836563532943,
          15.949011560678912,
          14.097633605056728,
          14.005798994692432,
          12.03553170808292,
          11.33235786669439,
          9.882683472569662,
          9.255684011984894,
          8.159978457654471,
          7.53986200693321,
          6.52271669281637,
          5.716705297236679,
          5.469882593977969,
          5.433444683939155,
          5.1098373039390195,
          4.378107329262256,
          4.213242707808354,
          4.074631585506439,
          4.049699980880706,
          3.321892961117269,
          2.597698880820659,
          2.4591604911149627,
          2.331248396512883,
          2.31230492503404,
          2.0581863502073503,
          1.9256842278332273,
          1.5568486599418687,
          1.1083915053979745,
          0.9622352230026423,
          0.7655319202580353,
          0.595158973124137,
          0.5233510656149156,
          0.4549404459580853,
          0.38204147543799033,
          0.291645926664292,
          0.13911597635273706,
          0.06715434649603165,
          0.05221893720218775
         ],
         "xaxis": "x",
         "y": [
          0.15809392108883466,
          0.158291851016753,
          0.15952562155939887,
          0.1595931389703195,
          0.16122372606163457,
          0.16190676066190798,
          0.16353973250066828,
          0.1643629047222532,
          0.16602466702813148,
          0.1671230495467951,
          0.1692561872815617,
          0.17134082156235864,
          0.17207062635271586,
          0.1721826043759415,
          0.17322967270740192,
          0.1760172216534258,
          0.17674490471401044,
          0.1773910553948924,
          0.1775108325854939,
          0.18159056616530983,
          0.18728178886487923,
          0.1886540480308199,
          0.19003042540580853,
          0.1902441188865314,
          0.19339651532131413,
          0.19528830202289524,
          0.20180604676578684,
          0.21391174395148116,
          0.21965272922603776,
          0.22994439955385812,
          0.24290923783280116,
          0.2502809976583159,
          0.25895653272499763,
          0.27080602683406385,
          0.29169287365667956,
          0.3700068467332794,
          0.4928450436423226,
          0.5511680079347384
         ],
         "yaxis": "y"
        },
        {
         "hovertemplate": "variable=Moving bed biofilm reactor<br>PopulationReclaimedWater=%{x}<br>value=%{y}<br>Cluster=%{text}<extra></extra>",
         "legendgroup": "Moving bed biofilm reactor",
         "marker": {
          "color": "#FF9DA6",
          "symbol": "circle"
         },
         "mode": "lines+markers",
         "name": "Moving bed biofilm reactor",
         "opacity": 0.8,
         "orientation": "v",
         "showlegend": true,
         "text": [
          7,
          13,
          25,
          9,
          31,
          26,
          11,
          27,
          15,
          29,
          34,
          20,
          32,
          38,
          0,
          14,
          30,
          2,
          37,
          35,
          12,
          23,
          36,
          18,
          10,
          21,
          1,
          22,
          24,
          19,
          17,
          5,
          6,
          4,
          3,
          8,
          39,
          28
         ],
         "type": "scatter",
         "x": [
          16.279836563532943,
          15.949011560678912,
          14.097633605056728,
          14.005798994692432,
          12.03553170808292,
          11.33235786669439,
          9.882683472569662,
          9.255684011984894,
          8.159978457654471,
          7.53986200693321,
          6.52271669281637,
          5.716705297236679,
          5.469882593977969,
          5.433444683939155,
          5.1098373039390195,
          4.378107329262256,
          4.213242707808354,
          4.074631585506439,
          4.049699980880706,
          3.321892961117269,
          2.597698880820659,
          2.4591604911149627,
          2.331248396512883,
          2.31230492503404,
          2.0581863502073503,
          1.9256842278332273,
          1.5568486599418687,
          1.1083915053979745,
          0.9622352230026423,
          0.7655319202580353,
          0.595158973124137,
          0.5233510656149156,
          0.4549404459580853,
          0.38204147543799033,
          0.291645926664292,
          0.13911597635273706,
          0.06715434649603165,
          0.05221893720218775
         ],
         "xaxis": "x",
         "y": [
          0.23105307427182992,
          0.23139666796572544,
          0.23348894294367437,
          0.2336010827049486,
          0.23624066907755656,
          0.23730952994030954,
          0.239785065757021,
          0.24099335686606638,
          0.24335891044814148,
          0.24487244700543448,
          0.24770901636896905,
          0.25036283811823995,
          0.25126674163799523,
          0.2514043375041694,
          0.252677308896228,
          0.2559538356438131,
          0.256784214622911,
          0.25751345806739306,
          0.2576478207226195,
          0.2620823275309991,
          0.2678672317796326,
          0.26920202482799616,
          0.27051981106657447,
          0.27072258827198914,
          0.2736602519222408,
          0.275377752266131,
          0.2810655747043931,
          0.2908631917244849,
          0.29523435621896615,
          0.3027253911573754,
          0.31166278697637045,
          0.316548568744094,
          0.3221513288448086,
          0.32959188805030093,
          0.3422533067608455,
          0.38704507389892034,
          0.45531837454551294,
          0.48809859325555766
         ],
         "yaxis": "y"
        },
        {
         "hovertemplate": "PopulationLeastCostTechnology=Extended aeration<br>PopulationReclaimedWater=%{x}<br>PopulationLeastCost=%{y}<br>Cluster=%{text}<extra></extra>",
         "legendgroup": "Extended aeration",
         "line": {
          "color": "#4C78A8",
          "dash": "solid"
         },
         "mode": "lines+markers",
         "name": "Extended aeration",
         "opacity": 0.8,
         "orientation": "v",
         "showlegend": false,
         "text": [
          7,
          13,
          25,
          9,
          31,
          26,
          11,
          27,
          15,
          29,
          34,
          20,
          32,
          38
         ],
         "type": "scatter",
         "x": [
          16.279836563532694,
          15.949011560679175,
          14.097633605056634,
          14.005798994692414,
          12.035531708082793,
          11.332357866694275,
          9.88268347256978,
          9.255684011984956,
          8.15997845765427,
          7.539862006933193,
          6.522716692816407,
          5.716705297236836,
          5.469882593977991,
          5.433444683939115
         ],
         "xaxis": "x2",
         "y": [
          0.04841283743575303,
          0.04892778805712809,
          0.05214092652368404,
          0.052316917857311275,
          0.05657161041293024,
          0.0583561624186188,
          0.06262740149509992,
          0.06478279902383141,
          0.06913795927841108,
          0.07201914812628858,
          0.07761929141398782,
          0.08309669200592039,
          0.08501506797350074,
          0.08530944537443083
         ],
         "yaxis": "y2"
        },
        {
         "hovertemplate": "PopulationLeastCostTechnology=Rotating biological contractors<br>PopulationReclaimedWater=%{x}<br>PopulationLeastCost=%{y}<br>Cluster=%{text}<extra></extra>",
         "legendgroup": "Rotating biological contractors",
         "line": {
          "color": "#F58518",
          "dash": "solid"
         },
         "mode": "lines+markers",
         "name": "Rotating biological contractors",
         "opacity": 0.8,
         "orientation": "v",
         "showlegend": false,
         "text": [
          0,
          14,
          30,
          2,
          37,
          35,
          12,
          23,
          36,
          18,
          10,
          21,
          1
         ],
         "type": "scatter",
         "x": [
          5.109837303939005,
          4.378107329262253,
          4.213242707808279,
          4.074631585506432,
          4.049699980880674,
          3.3218929611172863,
          2.5976988808206682,
          2.4591604911149516,
          2.331248396512876,
          2.3123049250340335,
          2.05818635020737,
          1.9256842278332267,
          1.556848659941871
         ],
         "xaxis": "x2",
         "y": [
          0.08764606199117898,
          0.09322004741947874,
          0.09465869074357193,
          0.0959306544756633,
          0.09616587911958666,
          0.10407754379718902,
          0.11481314338603776,
          0.11735340726660144,
          0.11988352621866519,
          0.12027478231055447,
          0.1259991611620294,
          0.12939314694623594,
          0.14086478794086327
         ],
         "yaxis": "y2"
        },
        {
         "hovertemplate": "PopulationLeastCostTechnology=Intermittent sand filter<br>PopulationReclaimedWater=%{x}<br>PopulationLeastCost=%{y}<br>Cluster=%{text}<extra></extra>",
         "legendgroup": "Intermittent sand filter",
         "line": {
          "color": "#EECA3B",
          "dash": "solid"
         },
         "mode": "lines+markers",
         "name": "Intermittent sand filter",
         "opacity": 0.8,
         "orientation": "v",
         "showlegend": false,
         "text": [
          22,
          24,
          19,
          17,
          5,
          6,
          4,
          3,
          8,
          39,
          28,
          16,
          33
         ],
         "type": "scatter",
         "x": [
          1.1083915053979692,
          0.9622352230026415,
          0.7655319202580354,
          0.595158973124138,
          0.5233510656149161,
          0.4549404459580851,
          0.3820414754379898,
          0.2916459266642914,
          0.13911597635273704,
          0.06715434649603169,
          0.052218937202187767,
          0.00497845051461421,
          0.0047929331920743105
         ],
         "xaxis": "x2",
         "y": [
          0.15488219164852485,
          0.15696000470806976,
          0.16066555760947598,
          0.1653097521041997,
          0.16794319359152013,
          0.17103879666230762,
          0.1752647125757028,
          0.18272013959995473,
          0.210959645186458,
          0.25661141899833007,
          0.27889315147910554,
          0.9859833254845084,
          1.0135782846471744
         ],
         "yaxis": "y2"
        },
        {
         "marker": {
          "color": "#636363",
          "opacity": 0.5
         },
         "mode": "markers+text",
         "name": "Clusters",
         "text": "",
         "type": "scatter",
         "x": [
          10
         ],
         "y": [
          2
         ]
        }
       ],
       "layout": {
        "annotations": [
         {
          "align": "center",
          "arrowcolor": "#636363",
          "arrowhead": 1,
          "arrowside": "none",
          "arrowsize": 1,
          "arrowwidth": 1,
          "ax": 10,
          "ay": -20,
          "font": {
           "size": 10
          },
          "opacity": 0.5,
          "showarrow": true,
          "text": "0",
          "x": 5.109837303939005,
          "xref": "x2",
          "xshift": 1.3416407864998738,
          "y": 0.08764606199117898,
          "yref": "y2",
          "yshift": 2.6832815729997477
         },
         {
          "align": "center",
          "arrowcolor": "#636363",
          "arrowhead": 1,
          "arrowside": "none",
          "arrowsize": 1,
          "arrowwidth": 1,
          "ax": 5,
          "ay": -20,
          "font": {
           "size": 10
          },
          "opacity": 0.5,
          "showarrow": true,
          "text": "1",
          "x": 1.556848659941871,
          "xref": "x2",
          "xshift": 0.7276068751089989,
          "y": 0.14086478794086327,
          "yref": "y2",
          "yshift": 2.9104275004359956
         },
         {
          "align": "center",
          "arrowcolor": "#636363",
          "arrowhead": 1,
          "arrowside": "none",
          "arrowsize": 1,
          "arrowwidth": 1,
          "ax": 10,
          "ay": -20,
          "font": {
           "size": 10
          },
          "opacity": 0.5,
          "showarrow": true,
          "text": "2",
          "x": 4.074631585506432,
          "xref": "x2",
          "xshift": 1.3416407864998738,
          "y": 0.0959306544756633,
          "yref": "y2",
          "yshift": 2.6832815729997477
         },
         {
          "align": "center",
          "arrowcolor": "#636363",
          "arrowhead": 1,
          "arrowside": "none",
          "arrowsize": 1,
          "arrowwidth": 1,
          "ax": 5,
          "ay": -20,
          "font": {
           "size": 10
          },
          "opacity": 0.5,
          "showarrow": true,
          "text": "3",
          "x": 0.2916459266642914,
          "xref": "x2",
          "xshift": 0.7276068751089989,
          "y": 0.18272013959995473,
          "yref": "y2",
          "yshift": 2.9104275004359956
         },
         {
          "align": "center",
          "arrowcolor": "#636363",
          "arrowhead": 1,
          "arrowside": "none",
          "arrowsize": 1,
          "arrowwidth": 1,
          "ax": -25,
          "ay": 5,
          "font": {
           "size": 10
          },
          "opacity": 0.5,
          "showarrow": true,
          "text": "4",
          "x": 0.3820414754379898,
          "xref": "x2",
          "xshift": -2.94174202707276,
          "y": 0.1752647125757028,
          "yref": "y2",
          "yshift": -0.5883484054145521
         },
         {
          "align": "center",
          "arrowcolor": "#636363",
          "arrowhead": 1,
          "arrowside": "none",
          "arrowsize": 1,
          "arrowwidth": 1,
          "ax": -20,
          "ay": 30,
          "font": {
           "size": 10
          },
          "opacity": 0.5,
          "showarrow": true,
          "text": "5",
          "x": 0.5233510656149161,
          "xref": "x2",
          "xshift": -1.6641005886756874,
          "y": 0.16794319359152013,
          "yref": "y2",
          "yshift": -2.496150883013531
         },
         {
          "align": "center",
          "arrowcolor": "#636363",
          "arrowhead": 1,
          "arrowside": "none",
          "arrowsize": 1,
          "arrowwidth": 1,
          "ax": -30,
          "ay": 20,
          "font": {
           "size": 10
          },
          "opacity": 0.5,
          "showarrow": true,
          "text": "6",
          "x": 0.4549404459580851,
          "xref": "x2",
          "xshift": -2.496150883013531,
          "y": 0.17103879666230762,
          "yref": "y2",
          "yshift": -1.6641005886756874
         },
         {
          "align": "center",
          "arrowcolor": "#636363",
          "arrowhead": 1,
          "arrowside": "none",
          "arrowsize": 1,
          "arrowwidth": 1,
          "ax": 10,
          "ay": 20,
          "font": {
           "size": 10
          },
          "opacity": 0.5,
          "showarrow": true,
          "text": "7",
          "x": 16.279836563532694,
          "xref": "x2",
          "xshift": 1.3416407864998738,
          "y": 0.04841283743575303,
          "yref": "y2",
          "yshift": -2.6832815729997477
         },
         {
          "align": "center",
          "arrowcolor": "#636363",
          "arrowhead": 1,
          "arrowside": "none",
          "arrowsize": 1,
          "arrowwidth": 1,
          "ax": -30,
          "ay": 10,
          "font": {
           "size": 10
          },
          "opacity": 0.5,
          "showarrow": true,
          "text": "8",
          "x": 0.13911597635273704,
          "xref": "x2",
          "xshift": -2.846049894151541,
          "y": 0.210959645186458,
          "yref": "y2",
          "yshift": -0.9486832980505138
         },
         {
          "align": "center",
          "arrowcolor": "#636363",
          "arrowhead": 1,
          "arrowside": "none",
          "arrowsize": 1,
          "arrowwidth": 1,
          "ax": -20,
          "ay": -20,
          "font": {
           "size": 10
          },
          "opacity": 0.5,
          "showarrow": true,
          "text": "9",
          "x": 14.005798994692414,
          "xref": "x2",
          "xshift": -2.1213203435596424,
          "y": 0.052316917857311275,
          "yref": "y2",
          "yshift": 2.1213203435596424
         },
         {
          "align": "center",
          "arrowcolor": "#636363",
          "arrowhead": 1,
          "arrowside": "none",
          "arrowsize": 1,
          "arrowwidth": 1,
          "ax": -30,
          "ay": 30,
          "font": {
           "size": 10
          },
          "opacity": 0.5,
          "showarrow": true,
          "text": "10",
          "x": 2.05818635020737,
          "xref": "x2",
          "xshift": -2.1213203435596424,
          "y": 0.1259991611620294,
          "yref": "y2",
          "yshift": -2.1213203435596424
         },
         {
          "align": "center",
          "arrowcolor": "#636363",
          "arrowhead": 1,
          "arrowside": "none",
          "arrowsize": 1,
          "arrowwidth": 1,
          "ax": 10,
          "ay": -20,
          "font": {
           "size": 10
          },
          "opacity": 0.5,
          "showarrow": true,
          "text": "11",
          "x": 9.88268347256978,
          "xref": "x2",
          "xshift": 1.3416407864998738,
          "y": 0.06262740149509992,
          "yref": "y2",
          "yshift": 2.6832815729997477
         },
         {
          "align": "center",
          "arrowcolor": "#636363",
          "arrowhead": 1,
          "arrowside": "none",
          "arrowsize": 1,
          "arrowwidth": 1,
          "ax": -5,
          "ay": 25,
          "font": {
           "size": 10
          },
          "opacity": 0.5,
          "showarrow": true,
          "text": "12",
          "x": 2.5976988808206682,
          "xref": "x2",
          "xshift": -0.5883484054145521,
          "y": 0.11481314338603776,
          "yref": "y2",
          "yshift": -2.94174202707276
         },
         {
          "align": "center",
          "arrowcolor": "#636363",
          "arrowhead": 1,
          "arrowside": "none",
          "arrowsize": 1,
          "arrowwidth": 1,
          "ax": 10,
          "ay": -20,
          "font": {
           "size": 10
          },
          "opacity": 0.5,
          "showarrow": true,
          "text": "13",
          "x": 15.949011560679175,
          "xref": "x2",
          "xshift": 1.3416407864998738,
          "y": 0.04892778805712809,
          "yref": "y2",
          "yshift": 2.6832815729997477
         },
         {
          "align": "center",
          "arrowcolor": "#636363",
          "arrowhead": 1,
          "arrowside": "none",
          "arrowsize": 1,
          "arrowwidth": 1,
          "ax": 20,
          "ay": -30,
          "font": {
           "size": 10
          },
          "opacity": 0.5,
          "showarrow": true,
          "text": "14",
          "x": 4.378107329262253,
          "xref": "x2",
          "xshift": 1.6641005886756874,
          "y": 0.09322004741947874,
          "yref": "y2",
          "yshift": 2.496150883013531
         },
         {
          "align": "center",
          "arrowcolor": "#636363",
          "arrowhead": 1,
          "arrowside": "none",
          "arrowsize": 1,
          "arrowwidth": 1,
          "ax": 10,
          "ay": -20,
          "font": {
           "size": 10
          },
          "opacity": 0.5,
          "showarrow": true,
          "text": "15",
          "x": 8.15997845765427,
          "xref": "x2",
          "xshift": 1.3416407864998738,
          "y": 0.06913795927841108,
          "yref": "y2",
          "yshift": 2.6832815729997477
         },
         {
          "align": "center",
          "arrowcolor": "#636363",
          "arrowhead": 1,
          "arrowside": "none",
          "arrowsize": 1,
          "arrowwidth": 1,
          "ax": 15,
          "ay": -20,
          "font": {
           "size": 10
          },
          "opacity": 0.5,
          "showarrow": true,
          "text": "16",
          "x": 0.00497845051461421,
          "xref": "x2",
          "xshift": 1.7999999999999998,
          "y": 0.9859833254845084,
          "yref": "y2",
          "yshift": 2.4
         },
         {
          "align": "center",
          "arrowcolor": "#636363",
          "arrowhead": 1,
          "arrowside": "none",
          "arrowsize": 1,
          "arrowwidth": 1,
          "ax": 10,
          "ay": -45,
          "font": {
           "size": 10
          },
          "opacity": 0.5,
          "showarrow": true,
          "text": "17",
          "x": 0.595158973124138,
          "xref": "x2",
          "xshift": 0.6507913734559685,
          "y": 0.1653097521041997,
          "yref": "y2",
          "yshift": 2.928561180551858
         },
         {
          "align": "center",
          "arrowcolor": "#636363",
          "arrowhead": 1,
          "arrowside": "none",
          "arrowsize": 1,
          "arrowwidth": 1,
          "ax": 20,
          "ay": -40,
          "font": {
           "size": 10
          },
          "opacity": 0.5,
          "showarrow": true,
          "text": "18",
          "x": 2.3123049250340335,
          "xref": "x2",
          "xshift": 1.3416407864998738,
          "y": 0.12027478231055447,
          "yref": "y2",
          "yshift": 2.6832815729997477
         },
         {
          "align": "center",
          "arrowcolor": "#636363",
          "arrowhead": 1,
          "arrowside": "none",
          "arrowsize": 1,
          "arrowwidth": 1,
          "ax": -20,
          "ay": 40,
          "font": {
           "size": 10
          },
          "opacity": 0.5,
          "showarrow": true,
          "text": "19",
          "x": 0.7655319202580354,
          "xref": "x2",
          "xshift": -1.3416407864998738,
          "y": 0.16066555760947598,
          "yref": "y2",
          "yshift": -2.6832815729997477
         },
         {
          "align": "center",
          "arrowcolor": "#636363",
          "arrowhead": 1,
          "arrowside": "none",
          "arrowsize": 1,
          "arrowwidth": 1,
          "ax": 10,
          "ay": 25,
          "font": {
           "size": 10
          },
          "opacity": 0.5,
          "showarrow": true,
          "text": "20",
          "x": 5.716705297236836,
          "xref": "x2",
          "xshift": 1.1141720290623112,
          "y": 0.08309669200592039,
          "yref": "y2",
          "yshift": -2.7854300726557777
         },
         {
          "align": "center",
          "arrowcolor": "#636363",
          "arrowhead": 1,
          "arrowside": "none",
          "arrowsize": 1,
          "arrowwidth": 1,
          "ax": 10,
          "ay": -20,
          "font": {
           "size": 10
          },
          "opacity": 0.5,
          "showarrow": true,
          "text": "21",
          "x": 1.9256842278332267,
          "xref": "x2",
          "xshift": 1.3416407864998738,
          "y": 0.12939314694623594,
          "yref": "y2",
          "yshift": 2.6832815729997477
         },
         {
          "align": "center",
          "arrowcolor": "#636363",
          "arrowhead": 1,
          "arrowside": "none",
          "arrowsize": 1,
          "arrowwidth": 1,
          "ax": 20,
          "ay": -40,
          "font": {
           "size": 10
          },
          "opacity": 0.5,
          "showarrow": true,
          "text": "22",
          "x": 1.1083915053979692,
          "xref": "x2",
          "xshift": 1.3416407864998738,
          "y": 0.15488219164852485,
          "yref": "y2",
          "yshift": 2.6832815729997477
         },
         {
          "align": "center",
          "arrowcolor": "#636363",
          "arrowhead": 1,
          "arrowside": "none",
          "arrowsize": 1,
          "arrowwidth": 1,
          "ax": 25,
          "ay": -25,
          "font": {
           "size": 10
          },
          "opacity": 0.5,
          "showarrow": true,
          "text": "23",
          "x": 2.4591604911149516,
          "xref": "x2",
          "xshift": 2.1213203435596424,
          "y": 0.11735340726660144,
          "yref": "y2",
          "yshift": 2.1213203435596424
         },
         {
          "align": "center",
          "arrowcolor": "#636363",
          "arrowhead": 1,
          "arrowside": "none",
          "arrowsize": 1,
          "arrowwidth": 1,
          "ax": 5,
          "ay": -20,
          "font": {
           "size": 10
          },
          "opacity": 0.5,
          "showarrow": true,
          "text": "24",
          "x": 0.9622352230026415,
          "xref": "x2",
          "xshift": 0.7276068751089989,
          "y": 0.15696000470806976,
          "yref": "y2",
          "yshift": 2.9104275004359956
         },
         {
          "align": "center",
          "arrowcolor": "#636363",
          "arrowhead": 1,
          "arrowside": "none",
          "arrowsize": 1,
          "arrowwidth": 1,
          "ax": 18,
          "ay": -20,
          "font": {
           "size": 10
          },
          "opacity": 0.5,
          "showarrow": true,
          "text": "25",
          "x": 14.097633605056634,
          "xref": "x2",
          "xshift": 2.006894194867349,
          "y": 0.05214092652368404,
          "yref": "y2",
          "yshift": 2.2298824387414986
         },
         {
          "align": "center",
          "arrowcolor": "#636363",
          "arrowhead": 1,
          "arrowside": "none",
          "arrowsize": 1,
          "arrowwidth": 1,
          "ax": 1,
          "ay": 20,
          "font": {
           "size": 10
          },
          "opacity": 0.5,
          "showarrow": true,
          "text": "26",
          "x": 11.332357866694275,
          "xref": "x2",
          "xshift": 0.1498128508316767,
          "y": 0.0583561624186188,
          "yref": "y2",
          "yshift": -2.996257016633534
         },
         {
          "align": "center",
          "arrowcolor": "#636363",
          "arrowhead": 1,
          "arrowside": "none",
          "arrowsize": 1,
          "arrowwidth": 1,
          "ax": 10,
          "ay": -35,
          "font": {
           "size": 10
          },
          "opacity": 0.5,
          "showarrow": true,
          "text": "27",
          "x": 9.255684011984956,
          "xref": "x2",
          "xshift": 0.8241633836921342,
          "y": 0.06478279902383141,
          "yref": "y2",
          "yshift": 2.8845718429224694
         },
         {
          "align": "center",
          "arrowcolor": "#636363",
          "arrowhead": 1,
          "arrowside": "none",
          "arrowsize": 1,
          "arrowwidth": 1,
          "ax": -20,
          "ay": -10,
          "font": {
           "size": 10
          },
          "opacity": 0.5,
          "showarrow": true,
          "text": "28",
          "x": 0.052218937202187767,
          "xref": "x2",
          "xshift": -2.6832815729997477,
          "y": 0.27889315147910554,
          "yref": "y2",
          "yshift": 1.3416407864998738
         },
         {
          "align": "center",
          "arrowcolor": "#636363",
          "arrowhead": 1,
          "arrowside": "none",
          "arrowsize": 1,
          "arrowwidth": 1,
          "ax": -15,
          "ay": 30,
          "font": {
           "size": 10
          },
          "opacity": 0.5,
          "showarrow": true,
          "text": "29",
          "x": 7.539862006933193,
          "xref": "x2",
          "xshift": -1.3416407864998738,
          "y": 0.07201914812628858,
          "yref": "y2",
          "yshift": -2.6832815729997477
         },
         {
          "align": "center",
          "arrowcolor": "#636363",
          "arrowhead": 1,
          "arrowside": "none",
          "arrowsize": 1,
          "arrowwidth": 1,
          "ax": -5,
          "ay": 20,
          "font": {
           "size": 10
          },
          "opacity": 0.5,
          "showarrow": true,
          "text": "30",
          "x": 4.213242707808279,
          "xref": "x2",
          "xshift": -0.7276068751089989,
          "y": 0.09465869074357193,
          "yref": "y2",
          "yshift": -2.9104275004359956
         },
         {
          "align": "center",
          "arrowcolor": "#636363",
          "arrowhead": 1,
          "arrowside": "none",
          "arrowsize": 1,
          "arrowwidth": 1,
          "ax": 5,
          "ay": 20,
          "font": {
           "size": 10
          },
          "opacity": 0.5,
          "showarrow": true,
          "text": "31",
          "x": 12.035531708082793,
          "xref": "x2",
          "xshift": 0.7276068751089989,
          "y": 0.05657161041293024,
          "yref": "y2",
          "yshift": -2.9104275004359956
         },
         {
          "align": "center",
          "arrowcolor": "#636363",
          "arrowhead": 1,
          "arrowside": "none",
          "arrowsize": 1,
          "arrowwidth": 1,
          "ax": -5,
          "ay": 20,
          "font": {
           "size": 10
          },
          "opacity": 0.5,
          "showarrow": true,
          "text": "32",
          "x": 5.469882593977991,
          "xref": "x2",
          "xshift": -0.7276068751089989,
          "y": 0.08501506797350074,
          "yref": "y2",
          "yshift": -2.9104275004359956
         },
         {
          "align": "center",
          "arrowcolor": "#636363",
          "arrowhead": 1,
          "arrowside": "none",
          "arrowsize": 1,
          "arrowwidth": 1,
          "ax": -20,
          "ay": -15,
          "font": {
           "size": 10
          },
          "opacity": 0.5,
          "showarrow": true,
          "text": "33",
          "x": 0.0047929331920743105,
          "xref": "x2",
          "xshift": -2.4,
          "y": 1.0135782846471744,
          "yref": "y2",
          "yshift": 1.7999999999999998
         },
         {
          "align": "center",
          "arrowcolor": "#636363",
          "arrowhead": 1,
          "arrowside": "none",
          "arrowsize": 1,
          "arrowwidth": 1,
          "ax": 20,
          "ay": -40,
          "font": {
           "size": 10
          },
          "opacity": 0.5,
          "showarrow": true,
          "text": "34",
          "x": 6.522716692816407,
          "xref": "x2",
          "xshift": 1.3416407864998738,
          "y": 0.07761929141398782,
          "yref": "y2",
          "yshift": 2.6832815729997477
         },
         {
          "align": "center",
          "arrowcolor": "#636363",
          "arrowhead": 1,
          "arrowside": "none",
          "arrowsize": 1,
          "arrowwidth": 1,
          "ax": 10,
          "ay": -20,
          "font": {
           "size": 10
          },
          "opacity": 0.5,
          "showarrow": true,
          "text": "35",
          "x": 3.3218929611172863,
          "xref": "x2",
          "xshift": 1.3416407864998738,
          "y": 0.10407754379718902,
          "yref": "y2",
          "yshift": 2.6832815729997477
         },
         {
          "align": "center",
          "arrowcolor": "#636363",
          "arrowhead": 1,
          "arrowside": "none",
          "arrowsize": 1,
          "arrowwidth": 1,
          "ax": -15,
          "ay": 20,
          "font": {
           "size": 10
          },
          "opacity": 0.5,
          "showarrow": true,
          "text": "36",
          "x": 2.331248396512876,
          "xref": "x2",
          "xshift": -1.7999999999999998,
          "y": 0.11988352621866519,
          "yref": "y2",
          "yshift": -2.4
         },
         {
          "align": "center",
          "arrowcolor": "#636363",
          "arrowhead": 1,
          "arrowside": "none",
          "arrowsize": 1,
          "arrowwidth": 1,
          "ax": -20,
          "ay": 18,
          "font": {
           "size": 10
          },
          "opacity": 0.5,
          "showarrow": true,
          "text": "37",
          "x": 4.049699980880674,
          "xref": "x2",
          "xshift": -2.2298824387414986,
          "y": 0.09616587911958666,
          "yref": "y2",
          "yshift": -2.006894194867349
         },
         {
          "align": "center",
          "arrowcolor": "#636363",
          "arrowhead": 1,
          "arrowside": "none",
          "arrowsize": 1,
          "arrowwidth": 1,
          "ax": 20,
          "ay": -20,
          "font": {
           "size": 10
          },
          "opacity": 0.5,
          "showarrow": true,
          "text": "38",
          "x": 5.433444683939115,
          "xref": "x2",
          "xshift": 2.1213203435596424,
          "y": 0.08530944537443083,
          "yref": "y2",
          "yshift": 2.1213203435596424
         },
         {
          "align": "center",
          "arrowcolor": "#636363",
          "arrowhead": 1,
          "arrowside": "none",
          "arrowsize": 1,
          "arrowwidth": 1,
          "ax": -20,
          "ay": 1,
          "font": {
           "size": 10
          },
          "opacity": 0.5,
          "showarrow": true,
          "text": "39",
          "x": 0.06715434649603169,
          "xref": "x2",
          "xshift": -2.996257016633534,
          "y": 0.25661141899833007,
          "yref": "y2",
          "yshift": -0.1498128508316767
         },
         {
          "showarrow": false,
          "text": "<b>a)</b>",
          "x": -0.04,
          "xref": "paper",
          "y": -0.1,
          "yref": "paper"
         },
         {
          "showarrow": false,
          "text": "<b>b)</b>",
          "x": 0.5,
          "xref": "paper",
          "y": -0.1,
          "yref": "paper"
         }
        ],
        "legend": {
         "orientation": "h",
         "title": {
          "text": ""
         },
         "x": 0.5,
         "xanchor": "center",
         "y": -0.15,
         "yanchor": "top"
        },
        "margin": {
         "b": 0,
         "l": 0,
         "r": 0,
         "t": 30
        },
        "template": {
         "data": {
          "bar": [
           {
            "error_x": {
             "color": "#2a3f5f"
            },
            "error_y": {
             "color": "#2a3f5f"
            },
            "marker": {
             "line": {
              "color": "white",
              "width": 0.5
             }
            },
            "type": "bar"
           }
          ],
          "barpolar": [
           {
            "marker": {
             "line": {
              "color": "white",
              "width": 0.5
             }
            },
            "type": "barpolar"
           }
          ],
          "carpet": [
           {
            "aaxis": {
             "endlinecolor": "#2a3f5f",
             "gridcolor": "#C8D4E3",
             "linecolor": "#C8D4E3",
             "minorgridcolor": "#C8D4E3",
             "startlinecolor": "#2a3f5f"
            },
            "baxis": {
             "endlinecolor": "#2a3f5f",
             "gridcolor": "#C8D4E3",
             "linecolor": "#C8D4E3",
             "minorgridcolor": "#C8D4E3",
             "startlinecolor": "#2a3f5f"
            },
            "type": "carpet"
           }
          ],
          "choropleth": [
           {
            "colorbar": {
             "outlinewidth": 0,
             "ticks": ""
            },
            "type": "choropleth"
           }
          ],
          "contour": [
           {
            "colorbar": {
             "outlinewidth": 0,
             "ticks": ""
            },
            "colorscale": [
             [
              0,
              "#0d0887"
             ],
             [
              0.1111111111111111,
              "#46039f"
             ],
             [
              0.2222222222222222,
              "#7201a8"
             ],
             [
              0.3333333333333333,
              "#9c179e"
             ],
             [
              0.4444444444444444,
              "#bd3786"
             ],
             [
              0.5555555555555556,
              "#d8576b"
             ],
             [
              0.6666666666666666,
              "#ed7953"
             ],
             [
              0.7777777777777778,
              "#fb9f3a"
             ],
             [
              0.8888888888888888,
              "#fdca26"
             ],
             [
              1,
              "#f0f921"
             ]
            ],
            "type": "contour"
           }
          ],
          "contourcarpet": [
           {
            "colorbar": {
             "outlinewidth": 0,
             "ticks": ""
            },
            "type": "contourcarpet"
           }
          ],
          "heatmap": [
           {
            "colorbar": {
             "outlinewidth": 0,
             "ticks": ""
            },
            "colorscale": [
             [
              0,
              "#0d0887"
             ],
             [
              0.1111111111111111,
              "#46039f"
             ],
             [
              0.2222222222222222,
              "#7201a8"
             ],
             [
              0.3333333333333333,
              "#9c179e"
             ],
             [
              0.4444444444444444,
              "#bd3786"
             ],
             [
              0.5555555555555556,
              "#d8576b"
             ],
             [
              0.6666666666666666,
              "#ed7953"
             ],
             [
              0.7777777777777778,
              "#fb9f3a"
             ],
             [
              0.8888888888888888,
              "#fdca26"
             ],
             [
              1,
              "#f0f921"
             ]
            ],
            "type": "heatmap"
           }
          ],
          "heatmapgl": [
           {
            "colorbar": {
             "outlinewidth": 0,
             "ticks": ""
            },
            "colorscale": [
             [
              0,
              "#0d0887"
             ],
             [
              0.1111111111111111,
              "#46039f"
             ],
             [
              0.2222222222222222,
              "#7201a8"
             ],
             [
              0.3333333333333333,
              "#9c179e"
             ],
             [
              0.4444444444444444,
              "#bd3786"
             ],
             [
              0.5555555555555556,
              "#d8576b"
             ],
             [
              0.6666666666666666,
              "#ed7953"
             ],
             [
              0.7777777777777778,
              "#fb9f3a"
             ],
             [
              0.8888888888888888,
              "#fdca26"
             ],
             [
              1,
              "#f0f921"
             ]
            ],
            "type": "heatmapgl"
           }
          ],
          "histogram": [
           {
            "marker": {
             "colorbar": {
              "outlinewidth": 0,
              "ticks": ""
             }
            },
            "type": "histogram"
           }
          ],
          "histogram2d": [
           {
            "colorbar": {
             "outlinewidth": 0,
             "ticks": ""
            },
            "colorscale": [
             [
              0,
              "#0d0887"
             ],
             [
              0.1111111111111111,
              "#46039f"
             ],
             [
              0.2222222222222222,
              "#7201a8"
             ],
             [
              0.3333333333333333,
              "#9c179e"
             ],
             [
              0.4444444444444444,
              "#bd3786"
             ],
             [
              0.5555555555555556,
              "#d8576b"
             ],
             [
              0.6666666666666666,
              "#ed7953"
             ],
             [
              0.7777777777777778,
              "#fb9f3a"
             ],
             [
              0.8888888888888888,
              "#fdca26"
             ],
             [
              1,
              "#f0f921"
             ]
            ],
            "type": "histogram2d"
           }
          ],
          "histogram2dcontour": [
           {
            "colorbar": {
             "outlinewidth": 0,
             "ticks": ""
            },
            "colorscale": [
             [
              0,
              "#0d0887"
             ],
             [
              0.1111111111111111,
              "#46039f"
             ],
             [
              0.2222222222222222,
              "#7201a8"
             ],
             [
              0.3333333333333333,
              "#9c179e"
             ],
             [
              0.4444444444444444,
              "#bd3786"
             ],
             [
              0.5555555555555556,
              "#d8576b"
             ],
             [
              0.6666666666666666,
              "#ed7953"
             ],
             [
              0.7777777777777778,
              "#fb9f3a"
             ],
             [
              0.8888888888888888,
              "#fdca26"
             ],
             [
              1,
              "#f0f921"
             ]
            ],
            "type": "histogram2dcontour"
           }
          ],
          "mesh3d": [
           {
            "colorbar": {
             "outlinewidth": 0,
             "ticks": ""
            },
            "type": "mesh3d"
           }
          ],
          "parcoords": [
           {
            "line": {
             "colorbar": {
              "outlinewidth": 0,
              "ticks": ""
             }
            },
            "type": "parcoords"
           }
          ],
          "pie": [
           {
            "automargin": true,
            "type": "pie"
           }
          ],
          "scatter": [
           {
            "marker": {
             "colorbar": {
              "outlinewidth": 0,
              "ticks": ""
             }
            },
            "type": "scatter"
           }
          ],
          "scatter3d": [
           {
            "line": {
             "colorbar": {
              "outlinewidth": 0,
              "ticks": ""
             }
            },
            "marker": {
             "colorbar": {
              "outlinewidth": 0,
              "ticks": ""
             }
            },
            "type": "scatter3d"
           }
          ],
          "scattercarpet": [
           {
            "marker": {
             "colorbar": {
              "outlinewidth": 0,
              "ticks": ""
             }
            },
            "type": "scattercarpet"
           }
          ],
          "scattergeo": [
           {
            "marker": {
             "colorbar": {
              "outlinewidth": 0,
              "ticks": ""
             }
            },
            "type": "scattergeo"
           }
          ],
          "scattergl": [
           {
            "marker": {
             "colorbar": {
              "outlinewidth": 0,
              "ticks": ""
             }
            },
            "type": "scattergl"
           }
          ],
          "scattermapbox": [
           {
            "marker": {
             "colorbar": {
              "outlinewidth": 0,
              "ticks": ""
             }
            },
            "type": "scattermapbox"
           }
          ],
          "scatterpolar": [
           {
            "marker": {
             "colorbar": {
              "outlinewidth": 0,
              "ticks": ""
             }
            },
            "type": "scatterpolar"
           }
          ],
          "scatterpolargl": [
           {
            "marker": {
             "colorbar": {
              "outlinewidth": 0,
              "ticks": ""
             }
            },
            "type": "scatterpolargl"
           }
          ],
          "scatterternary": [
           {
            "marker": {
             "colorbar": {
              "outlinewidth": 0,
              "ticks": ""
             }
            },
            "type": "scatterternary"
           }
          ],
          "surface": [
           {
            "colorbar": {
             "outlinewidth": 0,
             "ticks": ""
            },
            "colorscale": [
             [
              0,
              "#0d0887"
             ],
             [
              0.1111111111111111,
              "#46039f"
             ],
             [
              0.2222222222222222,
              "#7201a8"
             ],
             [
              0.3333333333333333,
              "#9c179e"
             ],
             [
              0.4444444444444444,
              "#bd3786"
             ],
             [
              0.5555555555555556,
              "#d8576b"
             ],
             [
              0.6666666666666666,
              "#ed7953"
             ],
             [
              0.7777777777777778,
              "#fb9f3a"
             ],
             [
              0.8888888888888888,
              "#fdca26"
             ],
             [
              1,
              "#f0f921"
             ]
            ],
            "type": "surface"
           }
          ],
          "table": [
           {
            "cells": {
             "fill": {
              "color": "#EBF0F8"
             },
             "line": {
              "color": "white"
             }
            },
            "header": {
             "fill": {
              "color": "#C8D4E3"
             },
             "line": {
              "color": "white"
             }
            },
            "type": "table"
           }
          ]
         },
         "layout": {
          "annotationdefaults": {
           "arrowcolor": "#2a3f5f",
           "arrowhead": 0,
           "arrowwidth": 1
          },
          "coloraxis": {
           "colorbar": {
            "outlinewidth": 0,
            "ticks": ""
           }
          },
          "colorscale": {
           "diverging": [
            [
             0,
             "#8e0152"
            ],
            [
             0.1,
             "#c51b7d"
            ],
            [
             0.2,
             "#de77ae"
            ],
            [
             0.3,
             "#f1b6da"
            ],
            [
             0.4,
             "#fde0ef"
            ],
            [
             0.5,
             "#f7f7f7"
            ],
            [
             0.6,
             "#e6f5d0"
            ],
            [
             0.7,
             "#b8e186"
            ],
            [
             0.8,
             "#7fbc41"
            ],
            [
             0.9,
             "#4d9221"
            ],
            [
             1,
             "#276419"
            ]
           ],
           "sequential": [
            [
             0,
             "#0d0887"
            ],
            [
             0.1111111111111111,
             "#46039f"
            ],
            [
             0.2222222222222222,
             "#7201a8"
            ],
            [
             0.3333333333333333,
             "#9c179e"
            ],
            [
             0.4444444444444444,
             "#bd3786"
            ],
            [
             0.5555555555555556,
             "#d8576b"
            ],
            [
             0.6666666666666666,
             "#ed7953"
            ],
            [
             0.7777777777777778,
             "#fb9f3a"
            ],
            [
             0.8888888888888888,
             "#fdca26"
            ],
            [
             1,
             "#f0f921"
            ]
           ],
           "sequentialminus": [
            [
             0,
             "#0d0887"
            ],
            [
             0.1111111111111111,
             "#46039f"
            ],
            [
             0.2222222222222222,
             "#7201a8"
            ],
            [
             0.3333333333333333,
             "#9c179e"
            ],
            [
             0.4444444444444444,
             "#bd3786"
            ],
            [
             0.5555555555555556,
             "#d8576b"
            ],
            [
             0.6666666666666666,
             "#ed7953"
            ],
            [
             0.7777777777777778,
             "#fb9f3a"
            ],
            [
             0.8888888888888888,
             "#fdca26"
            ],
            [
             1,
             "#f0f921"
            ]
           ]
          },
          "colorway": [
           "#636efa",
           "#EF553B",
           "#00cc96",
           "#ab63fa",
           "#FFA15A",
           "#19d3f3",
           "#FF6692",
           "#B6E880",
           "#FF97FF",
           "#FECB52"
          ],
          "font": {
           "color": "#2a3f5f"
          },
          "geo": {
           "bgcolor": "white",
           "lakecolor": "white",
           "landcolor": "white",
           "showlakes": true,
           "showland": true,
           "subunitcolor": "#C8D4E3"
          },
          "hoverlabel": {
           "align": "left"
          },
          "hovermode": "closest",
          "mapbox": {
           "style": "light"
          },
          "paper_bgcolor": "white",
          "plot_bgcolor": "white",
          "polar": {
           "angularaxis": {
            "gridcolor": "#EBF0F8",
            "linecolor": "#EBF0F8",
            "ticks": ""
           },
           "bgcolor": "white",
           "radialaxis": {
            "gridcolor": "#EBF0F8",
            "linecolor": "#EBF0F8",
            "ticks": ""
           }
          },
          "scene": {
           "xaxis": {
            "backgroundcolor": "white",
            "gridcolor": "#DFE8F3",
            "gridwidth": 2,
            "linecolor": "#EBF0F8",
            "showbackground": true,
            "ticks": "",
            "zerolinecolor": "#EBF0F8"
           },
           "yaxis": {
            "backgroundcolor": "white",
            "gridcolor": "#DFE8F3",
            "gridwidth": 2,
            "linecolor": "#EBF0F8",
            "showbackground": true,
            "ticks": "",
            "zerolinecolor": "#EBF0F8"
           },
           "zaxis": {
            "backgroundcolor": "white",
            "gridcolor": "#DFE8F3",
            "gridwidth": 2,
            "linecolor": "#EBF0F8",
            "showbackground": true,
            "ticks": "",
            "zerolinecolor": "#EBF0F8"
           }
          },
          "shapedefaults": {
           "line": {
            "color": "#2a3f5f"
           }
          },
          "ternary": {
           "aaxis": {
            "gridcolor": "#DFE8F3",
            "linecolor": "#A2B1C6",
            "ticks": ""
           },
           "baxis": {
            "gridcolor": "#DFE8F3",
            "linecolor": "#A2B1C6",
            "ticks": ""
           },
           "bgcolor": "white",
           "caxis": {
            "gridcolor": "#DFE8F3",
            "linecolor": "#A2B1C6",
            "ticks": ""
           }
          },
          "title": {
           "x": 0.05
          },
          "xaxis": {
           "automargin": true,
           "gridcolor": "#EBF0F8",
           "linecolor": "#EBF0F8",
           "ticks": "",
           "title": {
            "standoff": 15
           },
           "zerolinecolor": "#EBF0F8",
           "zerolinewidth": 2
          },
          "yaxis": {
           "automargin": true,
           "gridcolor": "#EBF0F8",
           "linecolor": "#EBF0F8",
           "ticks": "",
           "title": {
            "standoff": 15
           },
           "zerolinecolor": "#EBF0F8",
           "zerolinewidth": 2
          }
         }
        },
        "width": 900,
        "xaxis": {
         "anchor": "y",
         "domain": [
          0,
          0.485
         ],
         "title": {
          "text": "Capacity (Mm<sup>3</sup>/y)"
         }
        },
        "xaxis2": {
         "anchor": "y2",
         "domain": [
          0.515,
          1
         ],
         "title": {
          "text": "Capacity (Mm<sup>3</sup>/y)"
         }
        },
        "yaxis": {
         "anchor": "x",
         "domain": [
          0,
          1
         ],
         "range": [
          -0.08,
          1.05
         ],
         "title": {
          "text": "LCOW ($/m<sup>3</sup>)"
         }
        },
        "yaxis2": {
         "anchor": "x2",
         "domain": [
          0,
          1
         ],
         "matches": "y",
         "showticklabels": false
        }
       }
      },
      "text/html": [
       "<div>\n",
       "        \n",
       "        \n",
       "            <div id=\"a4a29d7f-4793-4c81-b98e-6d06354a02b1\" class=\"plotly-graph-div\" style=\"height:525px; width:900px;\"></div>\n",
       "            <script type=\"text/javascript\">\n",
       "                require([\"plotly\"], function(Plotly) {\n",
       "                    window.PLOTLYENV=window.PLOTLYENV || {};\n",
       "                    \n",
       "                if (document.getElementById(\"a4a29d7f-4793-4c81-b98e-6d06354a02b1\")) {\n",
       "                    Plotly.newPlot(\n",
       "                        'a4a29d7f-4793-4c81-b98e-6d06354a02b1',\n",
       "                        [{\"hovertemplate\": \"variable=Extended aeration<br>PopulationReclaimedWater=%{x}<br>value=%{y}<br>Cluster=%{text}<extra></extra>\", \"legendgroup\": \"Extended aeration\", \"marker\": {\"color\": \"#4C78A8\", \"symbol\": \"circle\"}, \"mode\": \"lines+markers\", \"name\": \"Extended aeration\", \"opacity\": 0.8, \"orientation\": \"v\", \"showlegend\": true, \"text\": [7.0, 13.0, 25.0, 9.0, 31.0, 26.0, 11.0, 27.0, 15.0, 29.0, 34.0, 20.0, 32.0, 38.0, 0.0, 14.0, 30.0, 2.0, 37.0, 35.0, 12.0, 23.0, 36.0, 18.0, 10.0, 21.0, 1.0, 22.0, 24.0, 19.0, 17.0, 5.0, 6.0, 4.0, 3.0, 8.0, 39.0, 28.0], \"type\": \"scatter\", \"x\": [16.279836563532943, 15.949011560678912, 14.097633605056728, 14.005798994692432, 12.03553170808292, 11.33235786669439, 9.882683472569662, 9.255684011984894, 8.159978457654471, 7.53986200693321, 6.52271669281637, 5.716705297236679, 5.469882593977969, 5.433444683939155, 5.1098373039390195, 4.378107329262256, 4.213242707808354, 4.074631585506439, 4.049699980880706, 3.321892961117269, 2.597698880820659, 2.4591604911149627, 2.331248396512883, 2.31230492503404, 2.0581863502073503, 1.9256842278332273, 1.5568486599418687, 1.1083915053979745, 0.9622352230026423, 0.7655319202580353, 0.595158973124137, 0.5233510656149156, 0.4549404459580853, 0.38204147543799033, 0.291645926664292, 0.13911597635273706, 0.06715434649603165, 0.05221893720218775], \"xaxis\": \"x\", \"y\": [0.04841283743575303, 0.04892778805712809, 0.05214092652368404, 0.052316917857311275, 0.05657161041293024, 0.0583561624186188, 0.06262740149509992, 0.06478279902383141, 0.06913795927841108, 0.07201914812628858, 0.07761929141398782, 0.08309669200592039, 0.08501506797350074, 0.08530944537443083, 0.08806240546977101, 0.09539352323342096, 0.09730755794652692, 0.09900716025114593, 0.09932221618836103, 0.11005201057279955, 0.1250079844832252, 0.12861072171049429, 0.13222260014434384, 0.13278321331520596, 0.14104792902919885, 0.1460023867526781, 0.16303700833271276, 0.19450681836153286, 0.2093434493200167, 0.2357858576771701, 0.26879708754985004, 0.28741255525718395, 0.3091738135598442, 0.33863799633647174, 0.3898458219723799, 0.5738655355638868, 0.8401591947101437, 0.9585538831787008], \"yaxis\": \"y\"}, {\"hovertemplate\": \"variable=Rotating biological contractors<br>PopulationReclaimedWater=%{x}<br>value=%{y}<br>Cluster=%{text}<extra></extra>\", \"legendgroup\": \"Rotating biological contractors\", \"marker\": {\"color\": \"#F58518\", \"symbol\": \"circle\"}, \"mode\": \"lines+markers\", \"name\": \"Rotating biological contractors\", \"opacity\": 0.8, \"orientation\": \"v\", \"showlegend\": true, \"text\": [7.0, 13.0, 25.0, 9.0, 31.0, 26.0, 11.0, 27.0, 15.0, 29.0, 34.0, 20.0, 32.0, 38.0, 0.0, 14.0, 30.0, 2.0, 37.0, 35.0, 12.0, 23.0, 36.0, 18.0, 10.0, 21.0, 1.0, 22.0, 24.0, 19.0, 17.0, 5.0, 6.0, 4.0, 3.0, 8.0, 39.0, 28.0], \"type\": \"scatter\", \"x\": [16.279836563532943, 15.949011560678912, 14.097633605056728, 14.005798994692432, 12.03553170808292, 11.33235786669439, 9.882683472569662, 9.255684011984894, 8.159978457654471, 7.53986200693321, 6.52271669281637, 5.716705297236679, 5.469882593977969, 5.433444683939155, 5.1098373039390195, 4.378107329262256, 4.213242707808354, 4.074631585506439, 4.049699980880706, 3.321892961117269, 2.597698880820659, 2.4591604911149627, 2.331248396512883, 2.31230492503404, 2.0581863502073503, 1.9256842278332273, 1.5568486599418687, 1.1083915053979745, 0.9622352230026423, 0.7655319202580353, 0.595158973124137, 0.5233510656149156, 0.4549404459580853, 0.38204147543799033, 0.291645926664292, 0.13911597635273706, 0.06715434649603165, 0.05221893720218775], \"xaxis\": \"x\", \"y\": [0.055227902194712096, 0.05568130079050348, 0.05848605222289637, 0.058638501809395886, 0.06228910533888156, 0.06380119916425979, 0.06737775155094955, 0.06916101535419995, 0.07272303197792668, 0.0750508825321153, 0.07951492637857886, 0.08380934768160918, 0.08529770799184105, 0.08552540528357853, 0.08764606199117898, 0.09322004741947874, 0.09465869074357193, 0.0959306544756633, 0.09616587911958666, 0.10407754379718902, 0.11481314338603776, 0.11735340726660144, 0.11988352621866519, 0.12027478231055447, 0.1259991611620294, 0.12939314694623594, 0.14086478794086327, 0.16135294362292055, 0.17073827777613151, 0.18709042040139912, 0.2069150717722943, 0.2178405536375899, 0.23040434496505838, 0.2470904875372261, 0.2753065051349676, 0.37039681175636924, 0.4961187775319615, 0.5488509133779703], \"yaxis\": \"y\"}, {\"hovertemplate\": \"variable=Sequencing batch reactor<br>PopulationReclaimedWater=%{x}<br>value=%{y}<br>Cluster=%{text}<extra></extra>\", \"legendgroup\": \"Sequencing batch reactor\", \"marker\": {\"color\": \"#72B7B2\", \"symbol\": \"circle\"}, \"mode\": \"lines+markers\", \"name\": \"Sequencing batch reactor\", \"opacity\": 0.8, \"orientation\": \"v\", \"showlegend\": true, \"text\": [7.0, 13.0, 25.0, 9.0, 31.0, 26.0, 11.0, 27.0, 15.0, 29.0, 34.0, 20.0, 32.0, 38.0, 0.0, 14.0, 30.0, 2.0, 37.0, 35.0, 12.0, 23.0, 36.0, 18.0, 10.0, 21.0, 1.0, 22.0, 24.0, 19.0, 17.0, 5.0, 6.0, 4.0, 3.0, 8.0, 39.0, 28.0], \"type\": \"scatter\", \"x\": [16.279836563532943, 15.949011560678912, 14.097633605056728, 14.005798994692432, 12.03553170808292, 11.33235786669439, 9.882683472569662, 9.255684011984894, 8.159978457654471, 7.53986200693321, 6.52271669281637, 5.716705297236679, 5.469882593977969, 5.433444683939155, 5.1098373039390195, 4.378107329262256, 4.213242707808354, 4.074631585506439, 4.049699980880706, 3.321892961117269, 2.597698880820659, 2.4591604911149627, 2.331248396512883, 2.31230492503404, 2.0581863502073503, 1.9256842278332273, 1.5568486599418687, 1.1083915053979745, 0.9622352230026423, 0.7655319202580353, 0.595158973124137, 0.5233510656149156, 0.4549404459580853, 0.38204147543799033, 0.291645926664292, 0.13911597635273706, 0.06715434649603165, 0.05221893720218775], \"xaxis\": \"x\", \"y\": [0.06252640629665432, 0.06304064341462565, 0.06622162641585143, 0.06639451965921771, 0.07053447782203126, 0.07224915080829915, 0.07630458702472287, 0.07832647237762794, 0.08236482208641792, 0.08500374068851467, 0.09006379983544845, 0.09493094489152946, 0.09661765028393396, 0.09687568463301446, 0.09927879790017077, 0.10559444226797014, 0.10722432850444268, 0.10866531658175609, 0.10893179263216679, 0.11789343200012956, 0.13005019956476596, 0.13292613976934273, 0.13579036661567215, 0.1362332686871828, 0.14271264928054891, 0.1465537307895277, 0.15953357562602777, 0.1827041424481692, 0.19331356322974716, 0.2117916048402105, 0.2341822924686097, 0.24651679130163734, 0.2606964946941918, 0.2795216724103254, 0.3113370311715564, 0.4184060383747061, 0.559650261204829, 0.6187988295126116], \"yaxis\": \"y\"}, {\"hovertemplate\": \"variable=Membrane  bioreactor<br>PopulationReclaimedWater=%{x}<br>value=%{y}<br>Cluster=%{text}<extra></extra>\", \"legendgroup\": \"Membrane  bioreactor\", \"marker\": {\"color\": \"#54A24B\", \"symbol\": \"circle\"}, \"mode\": \"lines+markers\", \"name\": \"Membrane  bioreactor\", \"opacity\": 0.8, \"orientation\": \"v\", \"showlegend\": true, \"text\": [7.0, 13.0, 25.0, 9.0, 31.0, 26.0, 11.0, 27.0, 15.0, 29.0, 34.0, 20.0, 32.0, 38.0, 0.0, 14.0, 30.0, 2.0, 37.0, 35.0, 12.0, 23.0, 36.0, 18.0, 10.0, 21.0, 1.0, 22.0, 24.0, 19.0, 17.0, 5.0, 6.0, 4.0, 3.0, 8.0, 39.0, 28.0], \"type\": \"scatter\", \"x\": [16.279836563532943, 15.949011560678912, 14.097633605056728, 14.005798994692432, 12.03553170808292, 11.33235786669439, 9.882683472569662, 9.255684011984894, 8.159978457654471, 7.53986200693321, 6.52271669281637, 5.716705297236679, 5.469882593977969, 5.433444683939155, 5.1098373039390195, 4.378107329262256, 4.213242707808354, 4.074631585506439, 4.049699980880706, 3.321892961117269, 2.597698880820659, 2.4591604911149627, 2.331248396512883, 2.31230492503404, 2.0581863502073503, 1.9256842278332273, 1.5568486599418687, 1.1083915053979745, 0.9622352230026423, 0.7655319202580353, 0.595158973124137, 0.5233510656149156, 0.4549404459580853, 0.38204147543799033, 0.291645926664292, 0.13911597635273706, 0.06715434649603165, 0.05221893720218775], \"xaxis\": \"x\", \"y\": [0.11510459294704085, 0.11584768508648179, 0.12041697037765701, 0.12066400427299094, 0.12654057044579858, 0.12895351496940602, 0.13461425318342587, 0.13741324298427915, 0.14295986533241667, 0.14655418674804804, 0.1533831721111628, 0.159878075930499, 0.16211287289773518, 0.16245404968931482, 0.16562265706415313, 0.17387687346035885, 0.17599053014608534, 0.1778537812191406, 0.17819779237575595, 0.18967044999774735, 0.2049555371119283, 0.20852838712007568, 0.21207118792528865, 0.21261766484122824, 0.22057199776793093, 0.22525295362297476, 0.2408928921499366, 0.2681959516818189, 0.28046218372767107, 0.30151132557901367, 0.3265342261969106, 0.3401138718899409, 0.35555974628024895, 0.3758119764876775, 0.409441131855603, 0.5180961937402201, 0.6534719700936293, 0.7081146810016841], \"yaxis\": \"y\"}, {\"hovertemplate\": \"variable=Intermittent sand filter<br>PopulationReclaimedWater=%{x}<br>value=%{y}<br>Cluster=%{text}<extra></extra>\", \"legendgroup\": \"Intermittent sand filter\", \"marker\": {\"color\": \"#EECA3B\", \"symbol\": \"circle\"}, \"mode\": \"lines+markers\", \"name\": \"Intermittent sand filter\", \"opacity\": 0.8, \"orientation\": \"v\", \"showlegend\": true, \"text\": [7.0, 13.0, 25.0, 9.0, 31.0, 26.0, 11.0, 27.0, 15.0, 29.0, 34.0, 20.0, 32.0, 38.0, 0.0, 14.0, 30.0, 2.0, 37.0, 35.0, 12.0, 23.0, 36.0, 18.0, 10.0, 21.0, 1.0, 22.0, 24.0, 19.0, 17.0, 5.0, 6.0, 4.0, 3.0, 8.0, 39.0, 28.0, 16.0, 33.0], \"type\": \"scatter\", \"x\": [16.279836563532943, 15.949011560678912, 14.097633605056728, 14.005798994692432, 12.03553170808292, 11.33235786669439, 9.882683472569662, 9.255684011984894, 8.159978457654471, 7.53986200693321, 6.52271669281637, 5.716705297236679, 5.469882593977969, 5.433444683939155, 5.1098373039390195, 4.378107329262256, 4.213242707808354, 4.074631585506439, 4.049699980880706, 3.321892961117269, 2.597698880820659, 2.4591604911149627, 2.331248396512883, 2.31230492503404, 2.0581863502073503, 1.9256842278332273, 1.5568486599418687, 1.1083915053979745, 0.9622352230026423, 0.7655319202580353, 0.595158973124137, 0.5233510656149156, 0.4549404459580853, 0.38204147543799033, 0.291645926664292, 0.13911597635273706, 0.06715434649603165, 0.05221893720218775, 0.00497845051461421, 0.0047929331920743105], \"xaxis\": \"x\", \"y\": [0.1335195022075538, 0.13360382113882002, 0.1341264782644203, 0.13415493935059783, 0.13483812553660482, 0.13512204414567877, 0.1357958390469918, 0.13613299062761983, 0.13680888064632177, 0.1372523773332398, 0.1381069057880199, 0.13893410922059105, 0.13922200395399464, 0.1392661028857209, 0.1396775275502286, 0.14076513172799932, 0.1410473267634094, 0.1412973421365252, 0.1413436308046138, 0.14291036771996363, 0.14506785774518252, 0.1455838552089804, 0.14609993011493805, 0.1461799276316522, 0.1473563053378565, 0.14805911063676994, 0.1504647638311957, 0.15488219164852485, 0.15696000470806976, 0.16066555760947598, 0.1653097521041997, 0.16794319359152013, 0.17103879666230762, 0.1752647125757028, 0.18272013959995473, 0.210959645186458, 0.25661141899833007, 0.27889315147910554, 0.9859833254845084, 1.0135782846471744], \"yaxis\": \"y\"}, {\"hovertemplate\": \"variable=Trickling filter<br>PopulationReclaimedWater=%{x}<br>value=%{y}<br>Cluster=%{text}<extra></extra>\", \"legendgroup\": \"Trickling filter\", \"marker\": {\"color\": \"#B279A2\", \"symbol\": \"circle\"}, \"mode\": \"lines+markers\", \"name\": \"Trickling filter\", \"opacity\": 0.8, \"orientation\": \"v\", \"showlegend\": true, \"text\": [7.0, 13.0, 25.0, 9.0, 31.0, 26.0, 11.0, 27.0, 15.0, 29.0, 34.0, 20.0, 32.0, 38.0, 0.0, 14.0, 30.0, 2.0, 37.0, 35.0, 12.0, 23.0, 36.0, 18.0, 10.0, 21.0, 1.0, 22.0, 24.0, 19.0, 17.0, 5.0, 6.0, 4.0, 3.0, 8.0, 39.0, 28.0], \"type\": \"scatter\", \"x\": [16.279836563532943, 15.949011560678912, 14.097633605056728, 14.005798994692432, 12.03553170808292, 11.33235786669439, 9.882683472569662, 9.255684011984894, 8.159978457654471, 7.53986200693321, 6.52271669281637, 5.716705297236679, 5.469882593977969, 5.433444683939155, 5.1098373039390195, 4.378107329262256, 4.213242707808354, 4.074631585506439, 4.049699980880706, 3.321892961117269, 2.597698880820659, 2.4591604911149627, 2.331248396512883, 2.31230492503404, 2.0581863502073503, 1.9256842278332273, 1.5568486599418687, 1.1083915053979745, 0.9622352230026423, 0.7655319202580353, 0.595158973124137, 0.5233510656149156, 0.4549404459580853, 0.38204147543799033, 0.291645926664292, 0.13911597635273706, 0.06715434649603165, 0.05221893720218775], \"xaxis\": \"x\", \"y\": [0.15809392108883466, 0.158291851016753, 0.15952562155939887, 0.1595931389703195, 0.16122372606163457, 0.16190676066190798, 0.16353973250066828, 0.1643629047222532, 0.16602466702813148, 0.1671230495467951, 0.1692561872815617, 0.17134082156235864, 0.17207062635271586, 0.1721826043759415, 0.17322967270740192, 0.1760172216534258, 0.17674490471401044, 0.1773910553948924, 0.1775108325854939, 0.18159056616530983, 0.18728178886487923, 0.1886540480308199, 0.19003042540580853, 0.1902441188865314, 0.19339651532131413, 0.19528830202289524, 0.20180604676578684, 0.21391174395148116, 0.21965272922603776, 0.22994439955385812, 0.24290923783280116, 0.2502809976583159, 0.25895653272499763, 0.27080602683406385, 0.29169287365667956, 0.3700068467332794, 0.4928450436423226, 0.5511680079347384], \"yaxis\": \"y\"}, {\"hovertemplate\": \"variable=Moving bed biofilm reactor<br>PopulationReclaimedWater=%{x}<br>value=%{y}<br>Cluster=%{text}<extra></extra>\", \"legendgroup\": \"Moving bed biofilm reactor\", \"marker\": {\"color\": \"#FF9DA6\", \"symbol\": \"circle\"}, \"mode\": \"lines+markers\", \"name\": \"Moving bed biofilm reactor\", \"opacity\": 0.8, \"orientation\": \"v\", \"showlegend\": true, \"text\": [7.0, 13.0, 25.0, 9.0, 31.0, 26.0, 11.0, 27.0, 15.0, 29.0, 34.0, 20.0, 32.0, 38.0, 0.0, 14.0, 30.0, 2.0, 37.0, 35.0, 12.0, 23.0, 36.0, 18.0, 10.0, 21.0, 1.0, 22.0, 24.0, 19.0, 17.0, 5.0, 6.0, 4.0, 3.0, 8.0, 39.0, 28.0], \"type\": \"scatter\", \"x\": [16.279836563532943, 15.949011560678912, 14.097633605056728, 14.005798994692432, 12.03553170808292, 11.33235786669439, 9.882683472569662, 9.255684011984894, 8.159978457654471, 7.53986200693321, 6.52271669281637, 5.716705297236679, 5.469882593977969, 5.433444683939155, 5.1098373039390195, 4.378107329262256, 4.213242707808354, 4.074631585506439, 4.049699980880706, 3.321892961117269, 2.597698880820659, 2.4591604911149627, 2.331248396512883, 2.31230492503404, 2.0581863502073503, 1.9256842278332273, 1.5568486599418687, 1.1083915053979745, 0.9622352230026423, 0.7655319202580353, 0.595158973124137, 0.5233510656149156, 0.4549404459580853, 0.38204147543799033, 0.291645926664292, 0.13911597635273706, 0.06715434649603165, 0.05221893720218775], \"xaxis\": \"x\", \"y\": [0.23105307427182992, 0.23139666796572544, 0.23348894294367437, 0.2336010827049486, 0.23624066907755656, 0.23730952994030954, 0.239785065757021, 0.24099335686606638, 0.24335891044814148, 0.24487244700543448, 0.24770901636896905, 0.25036283811823995, 0.25126674163799523, 0.2514043375041694, 0.252677308896228, 0.2559538356438131, 0.256784214622911, 0.25751345806739306, 0.2576478207226195, 0.2620823275309991, 0.2678672317796326, 0.26920202482799616, 0.27051981106657447, 0.27072258827198914, 0.2736602519222408, 0.275377752266131, 0.2810655747043931, 0.2908631917244849, 0.29523435621896615, 0.3027253911573754, 0.31166278697637045, 0.316548568744094, 0.3221513288448086, 0.32959188805030093, 0.3422533067608455, 0.38704507389892034, 0.45531837454551294, 0.48809859325555766], \"yaxis\": \"y\"}, {\"hovertemplate\": \"PopulationLeastCostTechnology=Extended aeration<br>PopulationReclaimedWater=%{x}<br>PopulationLeastCost=%{y}<br>Cluster=%{text}<extra></extra>\", \"legendgroup\": \"Extended aeration\", \"line\": {\"color\": \"#4C78A8\", \"dash\": \"solid\"}, \"mode\": \"lines+markers\", \"name\": \"Extended aeration\", \"opacity\": 0.8, \"orientation\": \"v\", \"showlegend\": false, \"text\": [7.0, 13.0, 25.0, 9.0, 31.0, 26.0, 11.0, 27.0, 15.0, 29.0, 34.0, 20.0, 32.0, 38.0], \"type\": \"scatter\", \"x\": [16.279836563532694, 15.949011560679175, 14.097633605056634, 14.005798994692414, 12.035531708082793, 11.332357866694275, 9.88268347256978, 9.255684011984956, 8.15997845765427, 7.539862006933193, 6.522716692816407, 5.716705297236836, 5.469882593977991, 5.433444683939115], \"xaxis\": \"x2\", \"y\": [0.04841283743575303, 0.04892778805712809, 0.05214092652368404, 0.052316917857311275, 0.05657161041293024, 0.0583561624186188, 0.06262740149509992, 0.06478279902383141, 0.06913795927841108, 0.07201914812628858, 0.07761929141398782, 0.08309669200592039, 0.08501506797350074, 0.08530944537443083], \"yaxis\": \"y2\"}, {\"hovertemplate\": \"PopulationLeastCostTechnology=Rotating biological contractors<br>PopulationReclaimedWater=%{x}<br>PopulationLeastCost=%{y}<br>Cluster=%{text}<extra></extra>\", \"legendgroup\": \"Rotating biological contractors\", \"line\": {\"color\": \"#F58518\", \"dash\": \"solid\"}, \"mode\": \"lines+markers\", \"name\": \"Rotating biological contractors\", \"opacity\": 0.8, \"orientation\": \"v\", \"showlegend\": false, \"text\": [0.0, 14.0, 30.0, 2.0, 37.0, 35.0, 12.0, 23.0, 36.0, 18.0, 10.0, 21.0, 1.0], \"type\": \"scatter\", \"x\": [5.109837303939005, 4.378107329262253, 4.213242707808279, 4.074631585506432, 4.049699980880674, 3.3218929611172863, 2.5976988808206682, 2.4591604911149516, 2.331248396512876, 2.3123049250340335, 2.05818635020737, 1.9256842278332267, 1.556848659941871], \"xaxis\": \"x2\", \"y\": [0.08764606199117898, 0.09322004741947874, 0.09465869074357193, 0.0959306544756633, 0.09616587911958666, 0.10407754379718902, 0.11481314338603776, 0.11735340726660144, 0.11988352621866519, 0.12027478231055447, 0.1259991611620294, 0.12939314694623594, 0.14086478794086327], \"yaxis\": \"y2\"}, {\"hovertemplate\": \"PopulationLeastCostTechnology=Intermittent sand filter<br>PopulationReclaimedWater=%{x}<br>PopulationLeastCost=%{y}<br>Cluster=%{text}<extra></extra>\", \"legendgroup\": \"Intermittent sand filter\", \"line\": {\"color\": \"#EECA3B\", \"dash\": \"solid\"}, \"mode\": \"lines+markers\", \"name\": \"Intermittent sand filter\", \"opacity\": 0.8, \"orientation\": \"v\", \"showlegend\": false, \"text\": [22.0, 24.0, 19.0, 17.0, 5.0, 6.0, 4.0, 3.0, 8.0, 39.0, 28.0, 16.0, 33.0], \"type\": \"scatter\", \"x\": [1.1083915053979692, 0.9622352230026415, 0.7655319202580354, 0.595158973124138, 0.5233510656149161, 0.4549404459580851, 0.3820414754379898, 0.2916459266642914, 0.13911597635273704, 0.06715434649603169, 0.052218937202187767, 0.00497845051461421, 0.0047929331920743105], \"xaxis\": \"x2\", \"y\": [0.15488219164852485, 0.15696000470806976, 0.16066555760947598, 0.1653097521041997, 0.16794319359152013, 0.17103879666230762, 0.1752647125757028, 0.18272013959995473, 0.210959645186458, 0.25661141899833007, 0.27889315147910554, 0.9859833254845084, 1.0135782846471744], \"yaxis\": \"y2\"}, {\"marker\": {\"color\": \"#636363\", \"opacity\": 0.5}, \"mode\": \"markers+text\", \"name\": \"Clusters\", \"text\": \"\", \"type\": \"scatter\", \"x\": [10], \"y\": [2]}],\n",
       "                        {\"annotations\": [{\"align\": \"center\", \"arrowcolor\": \"#636363\", \"arrowhead\": 1, \"arrowside\": \"none\", \"arrowsize\": 1, \"arrowwidth\": 1, \"ax\": 10, \"ay\": -20, \"font\": {\"size\": 10}, \"opacity\": 0.5, \"showarrow\": true, \"text\": \"0\", \"x\": 5.109837303939005, \"xref\": \"x2\", \"xshift\": 1.3416407864998738, \"y\": 0.08764606199117898, \"yref\": \"y2\", \"yshift\": 2.6832815729997477}, {\"align\": \"center\", \"arrowcolor\": \"#636363\", \"arrowhead\": 1, \"arrowside\": \"none\", \"arrowsize\": 1, \"arrowwidth\": 1, \"ax\": 5, \"ay\": -20, \"font\": {\"size\": 10}, \"opacity\": 0.5, \"showarrow\": true, \"text\": \"1\", \"x\": 1.556848659941871, \"xref\": \"x2\", \"xshift\": 0.7276068751089989, \"y\": 0.14086478794086327, \"yref\": \"y2\", \"yshift\": 2.9104275004359956}, {\"align\": \"center\", \"arrowcolor\": \"#636363\", \"arrowhead\": 1, \"arrowside\": \"none\", \"arrowsize\": 1, \"arrowwidth\": 1, \"ax\": 10, \"ay\": -20, \"font\": {\"size\": 10}, \"opacity\": 0.5, \"showarrow\": true, \"text\": \"2\", \"x\": 4.074631585506432, \"xref\": \"x2\", \"xshift\": 1.3416407864998738, \"y\": 0.0959306544756633, \"yref\": \"y2\", \"yshift\": 2.6832815729997477}, {\"align\": \"center\", \"arrowcolor\": \"#636363\", \"arrowhead\": 1, \"arrowside\": \"none\", \"arrowsize\": 1, \"arrowwidth\": 1, \"ax\": 5, \"ay\": -20, \"font\": {\"size\": 10}, \"opacity\": 0.5, \"showarrow\": true, \"text\": \"3\", \"x\": 0.2916459266642914, \"xref\": \"x2\", \"xshift\": 0.7276068751089989, \"y\": 0.18272013959995473, \"yref\": \"y2\", \"yshift\": 2.9104275004359956}, {\"align\": \"center\", \"arrowcolor\": \"#636363\", \"arrowhead\": 1, \"arrowside\": \"none\", \"arrowsize\": 1, \"arrowwidth\": 1, \"ax\": -25, \"ay\": 5, \"font\": {\"size\": 10}, \"opacity\": 0.5, \"showarrow\": true, \"text\": \"4\", \"x\": 0.3820414754379898, \"xref\": \"x2\", \"xshift\": -2.94174202707276, \"y\": 0.1752647125757028, \"yref\": \"y2\", \"yshift\": -0.5883484054145521}, {\"align\": \"center\", \"arrowcolor\": \"#636363\", \"arrowhead\": 1, \"arrowside\": \"none\", \"arrowsize\": 1, \"arrowwidth\": 1, \"ax\": -20, \"ay\": 30, \"font\": {\"size\": 10}, \"opacity\": 0.5, \"showarrow\": true, \"text\": \"5\", \"x\": 0.5233510656149161, \"xref\": \"x2\", \"xshift\": -1.6641005886756874, \"y\": 0.16794319359152013, \"yref\": \"y2\", \"yshift\": -2.496150883013531}, {\"align\": \"center\", \"arrowcolor\": \"#636363\", \"arrowhead\": 1, \"arrowside\": \"none\", \"arrowsize\": 1, \"arrowwidth\": 1, \"ax\": -30, \"ay\": 20, \"font\": {\"size\": 10}, \"opacity\": 0.5, \"showarrow\": true, \"text\": \"6\", \"x\": 0.4549404459580851, \"xref\": \"x2\", \"xshift\": -2.496150883013531, \"y\": 0.17103879666230762, \"yref\": \"y2\", \"yshift\": -1.6641005886756874}, {\"align\": \"center\", \"arrowcolor\": \"#636363\", \"arrowhead\": 1, \"arrowside\": \"none\", \"arrowsize\": 1, \"arrowwidth\": 1, \"ax\": 10, \"ay\": 20, \"font\": {\"size\": 10}, \"opacity\": 0.5, \"showarrow\": true, \"text\": \"7\", \"x\": 16.279836563532694, \"xref\": \"x2\", \"xshift\": 1.3416407864998738, \"y\": 0.04841283743575303, \"yref\": \"y2\", \"yshift\": -2.6832815729997477}, {\"align\": \"center\", \"arrowcolor\": \"#636363\", \"arrowhead\": 1, \"arrowside\": \"none\", \"arrowsize\": 1, \"arrowwidth\": 1, \"ax\": -30, \"ay\": 10, \"font\": {\"size\": 10}, \"opacity\": 0.5, \"showarrow\": true, \"text\": \"8\", \"x\": 0.13911597635273704, \"xref\": \"x2\", \"xshift\": -2.846049894151541, \"y\": 0.210959645186458, \"yref\": \"y2\", \"yshift\": -0.9486832980505138}, {\"align\": \"center\", \"arrowcolor\": \"#636363\", \"arrowhead\": 1, \"arrowside\": \"none\", \"arrowsize\": 1, \"arrowwidth\": 1, \"ax\": -20, \"ay\": -20, \"font\": {\"size\": 10}, \"opacity\": 0.5, \"showarrow\": true, \"text\": \"9\", \"x\": 14.005798994692414, \"xref\": \"x2\", \"xshift\": -2.1213203435596424, \"y\": 0.052316917857311275, \"yref\": \"y2\", \"yshift\": 2.1213203435596424}, {\"align\": \"center\", \"arrowcolor\": \"#636363\", \"arrowhead\": 1, \"arrowside\": \"none\", \"arrowsize\": 1, \"arrowwidth\": 1, \"ax\": -30, \"ay\": 30, \"font\": {\"size\": 10}, \"opacity\": 0.5, \"showarrow\": true, \"text\": \"10\", \"x\": 2.05818635020737, \"xref\": \"x2\", \"xshift\": -2.1213203435596424, \"y\": 0.1259991611620294, \"yref\": \"y2\", \"yshift\": -2.1213203435596424}, {\"align\": \"center\", \"arrowcolor\": \"#636363\", \"arrowhead\": 1, \"arrowside\": \"none\", \"arrowsize\": 1, \"arrowwidth\": 1, \"ax\": 10, \"ay\": -20, \"font\": {\"size\": 10}, \"opacity\": 0.5, \"showarrow\": true, \"text\": \"11\", \"x\": 9.88268347256978, \"xref\": \"x2\", \"xshift\": 1.3416407864998738, \"y\": 0.06262740149509992, \"yref\": \"y2\", \"yshift\": 2.6832815729997477}, {\"align\": \"center\", \"arrowcolor\": \"#636363\", \"arrowhead\": 1, \"arrowside\": \"none\", \"arrowsize\": 1, \"arrowwidth\": 1, \"ax\": -5, \"ay\": 25, \"font\": {\"size\": 10}, \"opacity\": 0.5, \"showarrow\": true, \"text\": \"12\", \"x\": 2.5976988808206682, \"xref\": \"x2\", \"xshift\": -0.5883484054145521, \"y\": 0.11481314338603776, \"yref\": \"y2\", \"yshift\": -2.94174202707276}, {\"align\": \"center\", \"arrowcolor\": \"#636363\", \"arrowhead\": 1, \"arrowside\": \"none\", \"arrowsize\": 1, \"arrowwidth\": 1, \"ax\": 10, \"ay\": -20, \"font\": {\"size\": 10}, \"opacity\": 0.5, \"showarrow\": true, \"text\": \"13\", \"x\": 15.949011560679175, \"xref\": \"x2\", \"xshift\": 1.3416407864998738, \"y\": 0.04892778805712809, \"yref\": \"y2\", \"yshift\": 2.6832815729997477}, {\"align\": \"center\", \"arrowcolor\": \"#636363\", \"arrowhead\": 1, \"arrowside\": \"none\", \"arrowsize\": 1, \"arrowwidth\": 1, \"ax\": 20, \"ay\": -30, \"font\": {\"size\": 10}, \"opacity\": 0.5, \"showarrow\": true, \"text\": \"14\", \"x\": 4.378107329262253, \"xref\": \"x2\", \"xshift\": 1.6641005886756874, \"y\": 0.09322004741947874, \"yref\": \"y2\", \"yshift\": 2.496150883013531}, {\"align\": \"center\", \"arrowcolor\": \"#636363\", \"arrowhead\": 1, \"arrowside\": \"none\", \"arrowsize\": 1, \"arrowwidth\": 1, \"ax\": 10, \"ay\": -20, \"font\": {\"size\": 10}, \"opacity\": 0.5, \"showarrow\": true, \"text\": \"15\", \"x\": 8.15997845765427, \"xref\": \"x2\", \"xshift\": 1.3416407864998738, \"y\": 0.06913795927841108, \"yref\": \"y2\", \"yshift\": 2.6832815729997477}, {\"align\": \"center\", \"arrowcolor\": \"#636363\", \"arrowhead\": 1, \"arrowside\": \"none\", \"arrowsize\": 1, \"arrowwidth\": 1, \"ax\": 15, \"ay\": -20, \"font\": {\"size\": 10}, \"opacity\": 0.5, \"showarrow\": true, \"text\": \"16\", \"x\": 0.00497845051461421, \"xref\": \"x2\", \"xshift\": 1.7999999999999998, \"y\": 0.9859833254845084, \"yref\": \"y2\", \"yshift\": 2.4}, {\"align\": \"center\", \"arrowcolor\": \"#636363\", \"arrowhead\": 1, \"arrowside\": \"none\", \"arrowsize\": 1, \"arrowwidth\": 1, \"ax\": 10, \"ay\": -45, \"font\": {\"size\": 10}, \"opacity\": 0.5, \"showarrow\": true, \"text\": \"17\", \"x\": 0.595158973124138, \"xref\": \"x2\", \"xshift\": 0.6507913734559685, \"y\": 0.1653097521041997, \"yref\": \"y2\", \"yshift\": 2.928561180551858}, {\"align\": \"center\", \"arrowcolor\": \"#636363\", \"arrowhead\": 1, \"arrowside\": \"none\", \"arrowsize\": 1, \"arrowwidth\": 1, \"ax\": 20, \"ay\": -40, \"font\": {\"size\": 10}, \"opacity\": 0.5, \"showarrow\": true, \"text\": \"18\", \"x\": 2.3123049250340335, \"xref\": \"x2\", \"xshift\": 1.3416407864998738, \"y\": 0.12027478231055447, \"yref\": \"y2\", \"yshift\": 2.6832815729997477}, {\"align\": \"center\", \"arrowcolor\": \"#636363\", \"arrowhead\": 1, \"arrowside\": \"none\", \"arrowsize\": 1, \"arrowwidth\": 1, \"ax\": -20, \"ay\": 40, \"font\": {\"size\": 10}, \"opacity\": 0.5, \"showarrow\": true, \"text\": \"19\", \"x\": 0.7655319202580354, \"xref\": \"x2\", \"xshift\": -1.3416407864998738, \"y\": 0.16066555760947598, \"yref\": \"y2\", \"yshift\": -2.6832815729997477}, {\"align\": \"center\", \"arrowcolor\": \"#636363\", \"arrowhead\": 1, \"arrowside\": \"none\", \"arrowsize\": 1, \"arrowwidth\": 1, \"ax\": 10, \"ay\": 25, \"font\": {\"size\": 10}, \"opacity\": 0.5, \"showarrow\": true, \"text\": \"20\", \"x\": 5.716705297236836, \"xref\": \"x2\", \"xshift\": 1.1141720290623112, \"y\": 0.08309669200592039, \"yref\": \"y2\", \"yshift\": -2.7854300726557777}, {\"align\": \"center\", \"arrowcolor\": \"#636363\", \"arrowhead\": 1, \"arrowside\": \"none\", \"arrowsize\": 1, \"arrowwidth\": 1, \"ax\": 10, \"ay\": -20, \"font\": {\"size\": 10}, \"opacity\": 0.5, \"showarrow\": true, \"text\": \"21\", \"x\": 1.9256842278332267, \"xref\": \"x2\", \"xshift\": 1.3416407864998738, \"y\": 0.12939314694623594, \"yref\": \"y2\", \"yshift\": 2.6832815729997477}, {\"align\": \"center\", \"arrowcolor\": \"#636363\", \"arrowhead\": 1, \"arrowside\": \"none\", \"arrowsize\": 1, \"arrowwidth\": 1, \"ax\": 20, \"ay\": -40, \"font\": {\"size\": 10}, \"opacity\": 0.5, \"showarrow\": true, \"text\": \"22\", \"x\": 1.1083915053979692, \"xref\": \"x2\", \"xshift\": 1.3416407864998738, \"y\": 0.15488219164852485, \"yref\": \"y2\", \"yshift\": 2.6832815729997477}, {\"align\": \"center\", \"arrowcolor\": \"#636363\", \"arrowhead\": 1, \"arrowside\": \"none\", \"arrowsize\": 1, \"arrowwidth\": 1, \"ax\": 25, \"ay\": -25, \"font\": {\"size\": 10}, \"opacity\": 0.5, \"showarrow\": true, \"text\": \"23\", \"x\": 2.4591604911149516, \"xref\": \"x2\", \"xshift\": 2.1213203435596424, \"y\": 0.11735340726660144, \"yref\": \"y2\", \"yshift\": 2.1213203435596424}, {\"align\": \"center\", \"arrowcolor\": \"#636363\", \"arrowhead\": 1, \"arrowside\": \"none\", \"arrowsize\": 1, \"arrowwidth\": 1, \"ax\": 5, \"ay\": -20, \"font\": {\"size\": 10}, \"opacity\": 0.5, \"showarrow\": true, \"text\": \"24\", \"x\": 0.9622352230026415, \"xref\": \"x2\", \"xshift\": 0.7276068751089989, \"y\": 0.15696000470806976, \"yref\": \"y2\", \"yshift\": 2.9104275004359956}, {\"align\": \"center\", \"arrowcolor\": \"#636363\", \"arrowhead\": 1, \"arrowside\": \"none\", \"arrowsize\": 1, \"arrowwidth\": 1, \"ax\": 18, \"ay\": -20, \"font\": {\"size\": 10}, \"opacity\": 0.5, \"showarrow\": true, \"text\": \"25\", \"x\": 14.097633605056634, \"xref\": \"x2\", \"xshift\": 2.006894194867349, \"y\": 0.05214092652368404, \"yref\": \"y2\", \"yshift\": 2.2298824387414986}, {\"align\": \"center\", \"arrowcolor\": \"#636363\", \"arrowhead\": 1, \"arrowside\": \"none\", \"arrowsize\": 1, \"arrowwidth\": 1, \"ax\": 1, \"ay\": 20, \"font\": {\"size\": 10}, \"opacity\": 0.5, \"showarrow\": true, \"text\": \"26\", \"x\": 11.332357866694275, \"xref\": \"x2\", \"xshift\": 0.1498128508316767, \"y\": 0.0583561624186188, \"yref\": \"y2\", \"yshift\": -2.996257016633534}, {\"align\": \"center\", \"arrowcolor\": \"#636363\", \"arrowhead\": 1, \"arrowside\": \"none\", \"arrowsize\": 1, \"arrowwidth\": 1, \"ax\": 10, \"ay\": -35, \"font\": {\"size\": 10}, \"opacity\": 0.5, \"showarrow\": true, \"text\": \"27\", \"x\": 9.255684011984956, \"xref\": \"x2\", \"xshift\": 0.8241633836921342, \"y\": 0.06478279902383141, \"yref\": \"y2\", \"yshift\": 2.8845718429224694}, {\"align\": \"center\", \"arrowcolor\": \"#636363\", \"arrowhead\": 1, \"arrowside\": \"none\", \"arrowsize\": 1, \"arrowwidth\": 1, \"ax\": -20, \"ay\": -10, \"font\": {\"size\": 10}, \"opacity\": 0.5, \"showarrow\": true, \"text\": \"28\", \"x\": 0.052218937202187767, \"xref\": \"x2\", \"xshift\": -2.6832815729997477, \"y\": 0.27889315147910554, \"yref\": \"y2\", \"yshift\": 1.3416407864998738}, {\"align\": \"center\", \"arrowcolor\": \"#636363\", \"arrowhead\": 1, \"arrowside\": \"none\", \"arrowsize\": 1, \"arrowwidth\": 1, \"ax\": -15, \"ay\": 30, \"font\": {\"size\": 10}, \"opacity\": 0.5, \"showarrow\": true, \"text\": \"29\", \"x\": 7.539862006933193, \"xref\": \"x2\", \"xshift\": -1.3416407864998738, \"y\": 0.07201914812628858, \"yref\": \"y2\", \"yshift\": -2.6832815729997477}, {\"align\": \"center\", \"arrowcolor\": \"#636363\", \"arrowhead\": 1, \"arrowside\": \"none\", \"arrowsize\": 1, \"arrowwidth\": 1, \"ax\": -5, \"ay\": 20, \"font\": {\"size\": 10}, \"opacity\": 0.5, \"showarrow\": true, \"text\": \"30\", \"x\": 4.213242707808279, \"xref\": \"x2\", \"xshift\": -0.7276068751089989, \"y\": 0.09465869074357193, \"yref\": \"y2\", \"yshift\": -2.9104275004359956}, {\"align\": \"center\", \"arrowcolor\": \"#636363\", \"arrowhead\": 1, \"arrowside\": \"none\", \"arrowsize\": 1, \"arrowwidth\": 1, \"ax\": 5, \"ay\": 20, \"font\": {\"size\": 10}, \"opacity\": 0.5, \"showarrow\": true, \"text\": \"31\", \"x\": 12.035531708082793, \"xref\": \"x2\", \"xshift\": 0.7276068751089989, \"y\": 0.05657161041293024, \"yref\": \"y2\", \"yshift\": -2.9104275004359956}, {\"align\": \"center\", \"arrowcolor\": \"#636363\", \"arrowhead\": 1, \"arrowside\": \"none\", \"arrowsize\": 1, \"arrowwidth\": 1, \"ax\": -5, \"ay\": 20, \"font\": {\"size\": 10}, \"opacity\": 0.5, \"showarrow\": true, \"text\": \"32\", \"x\": 5.469882593977991, \"xref\": \"x2\", \"xshift\": -0.7276068751089989, \"y\": 0.08501506797350074, \"yref\": \"y2\", \"yshift\": -2.9104275004359956}, {\"align\": \"center\", \"arrowcolor\": \"#636363\", \"arrowhead\": 1, \"arrowside\": \"none\", \"arrowsize\": 1, \"arrowwidth\": 1, \"ax\": -20, \"ay\": -15, \"font\": {\"size\": 10}, \"opacity\": 0.5, \"showarrow\": true, \"text\": \"33\", \"x\": 0.0047929331920743105, \"xref\": \"x2\", \"xshift\": -2.4, \"y\": 1.0135782846471744, \"yref\": \"y2\", \"yshift\": 1.7999999999999998}, {\"align\": \"center\", \"arrowcolor\": \"#636363\", \"arrowhead\": 1, \"arrowside\": \"none\", \"arrowsize\": 1, \"arrowwidth\": 1, \"ax\": 20, \"ay\": -40, \"font\": {\"size\": 10}, \"opacity\": 0.5, \"showarrow\": true, \"text\": \"34\", \"x\": 6.522716692816407, \"xref\": \"x2\", \"xshift\": 1.3416407864998738, \"y\": 0.07761929141398782, \"yref\": \"y2\", \"yshift\": 2.6832815729997477}, {\"align\": \"center\", \"arrowcolor\": \"#636363\", \"arrowhead\": 1, \"arrowside\": \"none\", \"arrowsize\": 1, \"arrowwidth\": 1, \"ax\": 10, \"ay\": -20, \"font\": {\"size\": 10}, \"opacity\": 0.5, \"showarrow\": true, \"text\": \"35\", \"x\": 3.3218929611172863, \"xref\": \"x2\", \"xshift\": 1.3416407864998738, \"y\": 0.10407754379718902, \"yref\": \"y2\", \"yshift\": 2.6832815729997477}, {\"align\": \"center\", \"arrowcolor\": \"#636363\", \"arrowhead\": 1, \"arrowside\": \"none\", \"arrowsize\": 1, \"arrowwidth\": 1, \"ax\": -15, \"ay\": 20, \"font\": {\"size\": 10}, \"opacity\": 0.5, \"showarrow\": true, \"text\": \"36\", \"x\": 2.331248396512876, \"xref\": \"x2\", \"xshift\": -1.7999999999999998, \"y\": 0.11988352621866519, \"yref\": \"y2\", \"yshift\": -2.4}, {\"align\": \"center\", \"arrowcolor\": \"#636363\", \"arrowhead\": 1, \"arrowside\": \"none\", \"arrowsize\": 1, \"arrowwidth\": 1, \"ax\": -20, \"ay\": 18, \"font\": {\"size\": 10}, \"opacity\": 0.5, \"showarrow\": true, \"text\": \"37\", \"x\": 4.049699980880674, \"xref\": \"x2\", \"xshift\": -2.2298824387414986, \"y\": 0.09616587911958666, \"yref\": \"y2\", \"yshift\": -2.006894194867349}, {\"align\": \"center\", \"arrowcolor\": \"#636363\", \"arrowhead\": 1, \"arrowside\": \"none\", \"arrowsize\": 1, \"arrowwidth\": 1, \"ax\": 20, \"ay\": -20, \"font\": {\"size\": 10}, \"opacity\": 0.5, \"showarrow\": true, \"text\": \"38\", \"x\": 5.433444683939115, \"xref\": \"x2\", \"xshift\": 2.1213203435596424, \"y\": 0.08530944537443083, \"yref\": \"y2\", \"yshift\": 2.1213203435596424}, {\"align\": \"center\", \"arrowcolor\": \"#636363\", \"arrowhead\": 1, \"arrowside\": \"none\", \"arrowsize\": 1, \"arrowwidth\": 1, \"ax\": -20, \"ay\": 1, \"font\": {\"size\": 10}, \"opacity\": 0.5, \"showarrow\": true, \"text\": \"39\", \"x\": 0.06715434649603169, \"xref\": \"x2\", \"xshift\": -2.996257016633534, \"y\": 0.25661141899833007, \"yref\": \"y2\", \"yshift\": -0.1498128508316767}, {\"showarrow\": false, \"text\": \"<b>a)</b>\", \"x\": -0.04, \"xref\": \"paper\", \"y\": -0.1, \"yref\": \"paper\"}, {\"showarrow\": false, \"text\": \"<b>b)</b>\", \"x\": 0.5, \"xref\": \"paper\", \"y\": -0.1, \"yref\": \"paper\"}], \"legend\": {\"orientation\": \"h\", \"title\": {\"text\": \"\"}, \"x\": 0.5, \"xanchor\": \"center\", \"y\": -0.15, \"yanchor\": \"top\"}, \"margin\": {\"b\": 0, \"l\": 0, \"r\": 0, \"t\": 30}, \"template\": {\"data\": {\"bar\": [{\"error_x\": {\"color\": \"#2a3f5f\"}, \"error_y\": {\"color\": \"#2a3f5f\"}, \"marker\": {\"line\": {\"color\": \"white\", \"width\": 0.5}}, \"type\": \"bar\"}], \"barpolar\": [{\"marker\": {\"line\": {\"color\": \"white\", \"width\": 0.5}}, \"type\": \"barpolar\"}], \"carpet\": [{\"aaxis\": {\"endlinecolor\": \"#2a3f5f\", \"gridcolor\": \"#C8D4E3\", \"linecolor\": \"#C8D4E3\", \"minorgridcolor\": \"#C8D4E3\", \"startlinecolor\": \"#2a3f5f\"}, \"baxis\": {\"endlinecolor\": \"#2a3f5f\", \"gridcolor\": \"#C8D4E3\", \"linecolor\": \"#C8D4E3\", \"minorgridcolor\": \"#C8D4E3\", \"startlinecolor\": \"#2a3f5f\"}, \"type\": \"carpet\"}], \"choropleth\": [{\"colorbar\": {\"outlinewidth\": 0, \"ticks\": \"\"}, \"type\": \"choropleth\"}], \"contour\": [{\"colorbar\": {\"outlinewidth\": 0, \"ticks\": \"\"}, \"colorscale\": [[0.0, \"#0d0887\"], [0.1111111111111111, \"#46039f\"], [0.2222222222222222, \"#7201a8\"], [0.3333333333333333, \"#9c179e\"], [0.4444444444444444, \"#bd3786\"], [0.5555555555555556, \"#d8576b\"], [0.6666666666666666, \"#ed7953\"], [0.7777777777777778, \"#fb9f3a\"], [0.8888888888888888, \"#fdca26\"], [1.0, \"#f0f921\"]], \"type\": \"contour\"}], \"contourcarpet\": [{\"colorbar\": {\"outlinewidth\": 0, \"ticks\": \"\"}, \"type\": \"contourcarpet\"}], \"heatmap\": [{\"colorbar\": {\"outlinewidth\": 0, \"ticks\": \"\"}, \"colorscale\": [[0.0, \"#0d0887\"], [0.1111111111111111, \"#46039f\"], [0.2222222222222222, \"#7201a8\"], [0.3333333333333333, \"#9c179e\"], [0.4444444444444444, \"#bd3786\"], [0.5555555555555556, \"#d8576b\"], [0.6666666666666666, \"#ed7953\"], [0.7777777777777778, \"#fb9f3a\"], [0.8888888888888888, \"#fdca26\"], [1.0, \"#f0f921\"]], \"type\": \"heatmap\"}], \"heatmapgl\": [{\"colorbar\": {\"outlinewidth\": 0, \"ticks\": \"\"}, \"colorscale\": [[0.0, \"#0d0887\"], [0.1111111111111111, \"#46039f\"], [0.2222222222222222, \"#7201a8\"], [0.3333333333333333, \"#9c179e\"], [0.4444444444444444, \"#bd3786\"], [0.5555555555555556, \"#d8576b\"], [0.6666666666666666, \"#ed7953\"], [0.7777777777777778, \"#fb9f3a\"], [0.8888888888888888, \"#fdca26\"], [1.0, \"#f0f921\"]], \"type\": \"heatmapgl\"}], \"histogram\": [{\"marker\": {\"colorbar\": {\"outlinewidth\": 0, \"ticks\": \"\"}}, \"type\": \"histogram\"}], \"histogram2d\": [{\"colorbar\": {\"outlinewidth\": 0, \"ticks\": \"\"}, \"colorscale\": [[0.0, \"#0d0887\"], [0.1111111111111111, \"#46039f\"], [0.2222222222222222, \"#7201a8\"], [0.3333333333333333, \"#9c179e\"], [0.4444444444444444, \"#bd3786\"], [0.5555555555555556, \"#d8576b\"], [0.6666666666666666, \"#ed7953\"], [0.7777777777777778, \"#fb9f3a\"], [0.8888888888888888, \"#fdca26\"], [1.0, \"#f0f921\"]], \"type\": \"histogram2d\"}], \"histogram2dcontour\": [{\"colorbar\": {\"outlinewidth\": 0, \"ticks\": \"\"}, \"colorscale\": [[0.0, \"#0d0887\"], [0.1111111111111111, \"#46039f\"], [0.2222222222222222, \"#7201a8\"], [0.3333333333333333, \"#9c179e\"], [0.4444444444444444, \"#bd3786\"], [0.5555555555555556, \"#d8576b\"], [0.6666666666666666, \"#ed7953\"], [0.7777777777777778, \"#fb9f3a\"], [0.8888888888888888, \"#fdca26\"], [1.0, \"#f0f921\"]], \"type\": \"histogram2dcontour\"}], \"mesh3d\": [{\"colorbar\": {\"outlinewidth\": 0, \"ticks\": \"\"}, \"type\": \"mesh3d\"}], \"parcoords\": [{\"line\": {\"colorbar\": {\"outlinewidth\": 0, \"ticks\": \"\"}}, \"type\": \"parcoords\"}], \"pie\": [{\"automargin\": true, \"type\": \"pie\"}], \"scatter\": [{\"marker\": {\"colorbar\": {\"outlinewidth\": 0, \"ticks\": \"\"}}, \"type\": \"scatter\"}], \"scatter3d\": [{\"line\": {\"colorbar\": {\"outlinewidth\": 0, \"ticks\": \"\"}}, \"marker\": {\"colorbar\": {\"outlinewidth\": 0, \"ticks\": \"\"}}, \"type\": \"scatter3d\"}], \"scattercarpet\": [{\"marker\": {\"colorbar\": {\"outlinewidth\": 0, \"ticks\": \"\"}}, \"type\": \"scattercarpet\"}], \"scattergeo\": [{\"marker\": {\"colorbar\": {\"outlinewidth\": 0, \"ticks\": \"\"}}, \"type\": \"scattergeo\"}], \"scattergl\": [{\"marker\": {\"colorbar\": {\"outlinewidth\": 0, \"ticks\": \"\"}}, \"type\": \"scattergl\"}], \"scattermapbox\": [{\"marker\": {\"colorbar\": {\"outlinewidth\": 0, \"ticks\": \"\"}}, \"type\": \"scattermapbox\"}], \"scatterpolar\": [{\"marker\": {\"colorbar\": {\"outlinewidth\": 0, \"ticks\": \"\"}}, \"type\": \"scatterpolar\"}], \"scatterpolargl\": [{\"marker\": {\"colorbar\": {\"outlinewidth\": 0, \"ticks\": \"\"}}, \"type\": \"scatterpolargl\"}], \"scatterternary\": [{\"marker\": {\"colorbar\": {\"outlinewidth\": 0, \"ticks\": \"\"}}, \"type\": \"scatterternary\"}], \"surface\": [{\"colorbar\": {\"outlinewidth\": 0, \"ticks\": \"\"}, \"colorscale\": [[0.0, \"#0d0887\"], [0.1111111111111111, \"#46039f\"], [0.2222222222222222, \"#7201a8\"], [0.3333333333333333, \"#9c179e\"], [0.4444444444444444, \"#bd3786\"], [0.5555555555555556, \"#d8576b\"], [0.6666666666666666, \"#ed7953\"], [0.7777777777777778, \"#fb9f3a\"], [0.8888888888888888, \"#fdca26\"], [1.0, \"#f0f921\"]], \"type\": \"surface\"}], \"table\": [{\"cells\": {\"fill\": {\"color\": \"#EBF0F8\"}, \"line\": {\"color\": \"white\"}}, \"header\": {\"fill\": {\"color\": \"#C8D4E3\"}, \"line\": {\"color\": \"white\"}}, \"type\": \"table\"}]}, \"layout\": {\"annotationdefaults\": {\"arrowcolor\": \"#2a3f5f\", \"arrowhead\": 0, \"arrowwidth\": 1}, \"coloraxis\": {\"colorbar\": {\"outlinewidth\": 0, \"ticks\": \"\"}}, \"colorscale\": {\"diverging\": [[0, \"#8e0152\"], [0.1, \"#c51b7d\"], [0.2, \"#de77ae\"], [0.3, \"#f1b6da\"], [0.4, \"#fde0ef\"], [0.5, \"#f7f7f7\"], [0.6, \"#e6f5d0\"], [0.7, \"#b8e186\"], [0.8, \"#7fbc41\"], [0.9, \"#4d9221\"], [1, \"#276419\"]], \"sequential\": [[0.0, \"#0d0887\"], [0.1111111111111111, \"#46039f\"], [0.2222222222222222, \"#7201a8\"], [0.3333333333333333, \"#9c179e\"], [0.4444444444444444, \"#bd3786\"], [0.5555555555555556, \"#d8576b\"], [0.6666666666666666, \"#ed7953\"], [0.7777777777777778, \"#fb9f3a\"], [0.8888888888888888, \"#fdca26\"], [1.0, \"#f0f921\"]], \"sequentialminus\": [[0.0, \"#0d0887\"], [0.1111111111111111, \"#46039f\"], [0.2222222222222222, \"#7201a8\"], [0.3333333333333333, \"#9c179e\"], [0.4444444444444444, \"#bd3786\"], [0.5555555555555556, \"#d8576b\"], [0.6666666666666666, \"#ed7953\"], [0.7777777777777778, \"#fb9f3a\"], [0.8888888888888888, \"#fdca26\"], [1.0, \"#f0f921\"]]}, \"colorway\": [\"#636efa\", \"#EF553B\", \"#00cc96\", \"#ab63fa\", \"#FFA15A\", \"#19d3f3\", \"#FF6692\", \"#B6E880\", \"#FF97FF\", \"#FECB52\"], \"font\": {\"color\": \"#2a3f5f\"}, \"geo\": {\"bgcolor\": \"white\", \"lakecolor\": \"white\", \"landcolor\": \"white\", \"showlakes\": true, \"showland\": true, \"subunitcolor\": \"#C8D4E3\"}, \"hoverlabel\": {\"align\": \"left\"}, \"hovermode\": \"closest\", \"mapbox\": {\"style\": \"light\"}, \"paper_bgcolor\": \"white\", \"plot_bgcolor\": \"white\", \"polar\": {\"angularaxis\": {\"gridcolor\": \"#EBF0F8\", \"linecolor\": \"#EBF0F8\", \"ticks\": \"\"}, \"bgcolor\": \"white\", \"radialaxis\": {\"gridcolor\": \"#EBF0F8\", \"linecolor\": \"#EBF0F8\", \"ticks\": \"\"}}, \"scene\": {\"xaxis\": {\"backgroundcolor\": \"white\", \"gridcolor\": \"#DFE8F3\", \"gridwidth\": 2, \"linecolor\": \"#EBF0F8\", \"showbackground\": true, \"ticks\": \"\", \"zerolinecolor\": \"#EBF0F8\"}, \"yaxis\": {\"backgroundcolor\": \"white\", \"gridcolor\": \"#DFE8F3\", \"gridwidth\": 2, \"linecolor\": \"#EBF0F8\", \"showbackground\": true, \"ticks\": \"\", \"zerolinecolor\": \"#EBF0F8\"}, \"zaxis\": {\"backgroundcolor\": \"white\", \"gridcolor\": \"#DFE8F3\", \"gridwidth\": 2, \"linecolor\": \"#EBF0F8\", \"showbackground\": true, \"ticks\": \"\", \"zerolinecolor\": \"#EBF0F8\"}}, \"shapedefaults\": {\"line\": {\"color\": \"#2a3f5f\"}}, \"ternary\": {\"aaxis\": {\"gridcolor\": \"#DFE8F3\", \"linecolor\": \"#A2B1C6\", \"ticks\": \"\"}, \"baxis\": {\"gridcolor\": \"#DFE8F3\", \"linecolor\": \"#A2B1C6\", \"ticks\": \"\"}, \"bgcolor\": \"white\", \"caxis\": {\"gridcolor\": \"#DFE8F3\", \"linecolor\": \"#A2B1C6\", \"ticks\": \"\"}}, \"title\": {\"x\": 0.05}, \"xaxis\": {\"automargin\": true, \"gridcolor\": \"#EBF0F8\", \"linecolor\": \"#EBF0F8\", \"ticks\": \"\", \"title\": {\"standoff\": 15}, \"zerolinecolor\": \"#EBF0F8\", \"zerolinewidth\": 2}, \"yaxis\": {\"automargin\": true, \"gridcolor\": \"#EBF0F8\", \"linecolor\": \"#EBF0F8\", \"ticks\": \"\", \"title\": {\"standoff\": 15}, \"zerolinecolor\": \"#EBF0F8\", \"zerolinewidth\": 2}}}, \"width\": 900, \"xaxis\": {\"anchor\": \"y\", \"domain\": [0.0, 0.485], \"title\": {\"text\": \"Capacity (Mm<sup>3</sup>/y)\"}}, \"xaxis2\": {\"anchor\": \"y2\", \"domain\": [0.515, 1.0], \"title\": {\"text\": \"Capacity (Mm<sup>3</sup>/y)\"}}, \"yaxis\": {\"anchor\": \"x\", \"domain\": [0.0, 1.0], \"range\": [-0.08, 1.05], \"title\": {\"text\": \"LCOW ($/m<sup>3</sup>)\"}}, \"yaxis2\": {\"anchor\": \"x2\", \"domain\": [0.0, 1.0], \"matches\": \"y\", \"showticklabels\": false}},\n",
       "                        {\"responsive\": true}\n",
       "                    ).then(function(){\n",
       "                            \n",
       "var gd = document.getElementById('a4a29d7f-4793-4c81-b98e-6d06354a02b1');\n",
       "var x = new MutationObserver(function (mutations, observer) {{\n",
       "        var display = window.getComputedStyle(gd).display;\n",
       "        if (!display || display === 'none') {{\n",
       "            console.log([gd, 'removed!']);\n",
       "            Plotly.purge(gd);\n",
       "            observer.disconnect();\n",
       "        }}\n",
       "}});\n",
       "\n",
       "// Listen for the removal of the full notebook cells\n",
       "var notebookContainer = gd.closest('#notebook-container');\n",
       "if (notebookContainer) {{\n",
       "    x.observe(notebookContainer, {childList: true});\n",
       "}}\n",
       "\n",
       "// Listen for the clearing of the current output cell\n",
       "var outputEl = gd.closest('.output');\n",
       "if (outputEl) {{\n",
       "    x.observe(outputEl, {childList: true});\n",
       "}}\n",
       "\n",
       "                        })\n",
       "                };\n",
       "                });\n",
       "            </script>\n",
       "        </div>"
      ]
     },
     "metadata": {},
     "output_type": "display_data"
    }
   ],
   "source": [
    "fig = make_subplots(rows=1, cols=2, horizontal_spacing=0.03, shared_yaxes=True\n",
    "#                    specs=[[{\"colspan\": 2}, None], \n",
    "#                           [{}, {}]]\n",
    "                   )\n",
    "# for trace in fig_ag.data:\n",
    "#     fig.add_trace(trace, col=1, row=1)\n",
    "for trace in fig_pop_all.data:\n",
    "    fig.add_trace(trace, col=1, row=1)\n",
    "for trace in fig_pop.data:\n",
    "    fig.add_trace(trace, col=2, row=1)\n",
    "    \n",
    "fig.add_trace(go.Scatter(x=[10], y=[2], mode='markers+text', text='', \n",
    "                         marker=dict(color='#636363', opacity=0.5), name='Clusters'))\n",
    "\n",
    "arrows = {0: (10, -20), 1: (5, -20), 2: (10, -20), 3: (5, -20), 4: (-25, 5),\n",
    "          5: (-20, 30), 6: (-30, 20), 7: (10, 20), 8: (-30, 10), 9: (-20, -20),\n",
    "          10: (-30, 30), 11: (10, -20), 12: (-5, 25), 13: (10, -20), 14: (20, -30),\n",
    "          15: (10, -20), 16: (15, -20), 17: (10, -45), 18: (20, -40), 19: (-20, 40),\n",
    "          20: (10, 25), 21: (10, -20), 22: (20, -40), 23: (25, -25), 24: (5, -20),\n",
    "          25: (18, -20), 26: (1, 20), 27: (10, -35), 28: (-20, -10), 29: (-15, 30),\n",
    "          30: (-5, 20), 31: (5, 20), 32: (-5, 20), 33: (-20, -15), 34: (20, -40),\n",
    "          35: (10, -20), 36: (-15, 20), 37: (-20, 18), 38: (20, -20), 39: (-20, 1),}\n",
    "\n",
    "for i, row,  in dff_least.iterrows():        \n",
    "    fig.add_annotation(\n",
    "            x=row['PopulationReclaimedWater'],\n",
    "            y=row['PopulationLeastCost'],\n",
    "            xref=\"x\",\n",
    "            yref=\"y\",\n",
    "            text=int(row['Cluster']),\n",
    "            showarrow=True,\n",
    "            font=dict(\n",
    "                size=10,\n",
    "                ),\n",
    "            align=\"center\",\n",
    "            arrowside='none',\n",
    "            arrowhead=1,\n",
    "            arrowsize=1,\n",
    "            arrowwidth=1,\n",
    "            arrowcolor=\"#636363\",\n",
    "            ax=arrows[int(row['Cluster'])][0],\n",
    "            ay=arrows[int(row['Cluster'])][1],\n",
    "            xshift=np.sign(arrows[int(row['Cluster'])][0]) * 3 / (1 + (arrows[int(row['Cluster'])][1]/arrows[int(row['Cluster'])][0])**2)**(1/2),\n",
    "            yshift=-np.sign(arrows[int(row['Cluster'])][1]) * 3 / (1 + (arrows[int(row['Cluster'])][0]/arrows[int(row['Cluster'])][1])**2)**(1/2),\n",
    "            opacity=0.5,\n",
    "            col=2,\n",
    "            row=1\n",
    "    )\n",
    "    \n",
    "fig.add_annotation(text=\"<b>a)</b>\",\n",
    "                  xref=\"paper\", yref=\"paper\",\n",
    "                  x=-0.04, y=-0.1, showarrow=False)\n",
    "\n",
    "fig.add_annotation(text=\"<b>b)</b>\",\n",
    "                  xref=\"paper\", yref=\"paper\",\n",
    "                  x=0.5, y=-0.1, showarrow=False)\n",
    "    \n",
    "    \n",
    "fig.update_layout(width=900, template='plotly_white',\n",
    "                  yaxis={'title': 'LCOW ($/m<sup>3</sup>)'},\n",
    "                  legend=dict(\n",
    "                            title='',\n",
    "                            orientation=\"h\",\n",
    "                            yanchor=\"top\",\n",
    "                            y=-0.15,\n",
    "                            xanchor=\"center\",\n",
    "                            x=0.5\n",
    "                ),\n",
    "                 margin=dict(b=0, l=0, r=0, t=30))  \n",
    "\n",
    "fig.update_xaxes(title_text='Capacity (Mm<sup>3</sup>/y)')\n",
    "fig.update_yaxes(title_text=\"LCOW ($/m<sup>3</sup>)\", col=1, range=(-0.08,1.05))\n",
    "    \n",
    "fig.show()\n",
    "fig.write_image('../LCOW_pop_ag.pdf')"
   ]
  },
  {
   "cell_type": "code",
   "execution_count": null,
   "metadata": {},
   "outputs": [],
   "source": []
  }
 ],
 "metadata": {
  "kernelspec": {
   "display_name": "Python 3",
   "language": "python",
   "name": "python3"
  },
  "language_info": {
   "codemirror_mode": {
    "name": "ipython",
    "version": 3
   },
   "file_extension": ".py",
   "mimetype": "text/x-python",
   "name": "python",
   "nbconvert_exporter": "python",
   "pygments_lexer": "ipython3",
   "version": "3.8.5"
  }
 },
 "nbformat": 4,
 "nbformat_minor": 4
}
