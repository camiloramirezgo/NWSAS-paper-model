{
 "cells": [
  {
   "cell_type": "code",
   "execution_count": 1,
   "metadata": {},
   "outputs": [],
   "source": [
    "from sklearn.neighbors import DistanceMetric\n",
    "from math import radians\n",
    "import pandas as pd\n",
    "import numpy as np"
   ]
  },
  {
   "cell_type": "code",
   "execution_count": 38,
   "metadata": {},
   "outputs": [],
   "source": [
    "path = r\"nwsas_1km_data - Results\\WWR per cluster\\WWR per cluster.gz\"\n",
    "path_prov = \"nwsas_1km_data.gz\""
   ]
  },
  {
   "cell_type": "code",
   "execution_count": 52,
   "metadata": {},
   "outputs": [],
   "source": [
    "df = pd.read_csv(path, usecols=['X','Y','lat','long','Cluster'])\n",
    "df_prov = pd.read_csv(path_prov, usecols=['X','Y','lat','long','Cluster','Population','IrrigatedArea'])"
   ]
  },
  {
   "cell_type": "code",
   "execution_count": 53,
   "metadata": {},
   "outputs": [],
   "source": [
    "df.dropna(inplace=True)\n",
    "df_prov.dropna(inplace=True)\n",
    "df_prov = df_prov.loc[(df_prov.Cluster!=0)&((df_prov.Population>30)|(df_prov.IrrigatedArea>3))]"
   ]
  },
  {
   "cell_type": "code",
   "execution_count": 54,
   "metadata": {},
   "outputs": [],
   "source": [
    "df['lat'] = np.radians(df['lat'])\n",
    "df['long'] = np.radians(df['long'])\n",
    "df_prov['lat'] = np.radians(df_prov['lat'])\n",
    "df_prov['long'] = np.radians(df_prov['long'])"
   ]
  },
  {
   "cell_type": "code",
   "execution_count": 55,
   "metadata": {},
   "outputs": [],
   "source": [
    "dist = DistanceMetric.get_metric('haversine')"
   ]
  },
  {
   "cell_type": "code",
   "execution_count": 56,
   "metadata": {},
   "outputs": [],
   "source": [
    "dist_matrix = {}\n",
    "for cluster, group in df.groupby('Cluster'):\n",
    "    dist_matrix[cluster] = dist.pairwise(group[['lat','long']].to_numpy())*6373"
   ]
  },
  {
   "cell_type": "code",
   "execution_count": 57,
   "metadata": {},
   "outputs": [],
   "source": [
    "dist_matrix_prov = {}\n",
    "for cluster, group in df_prov.groupby('Cluster'):\n",
    "    dist_matrix_prov[cluster] = dist.pairwise(group[['lat','long']].to_numpy())*6373"
   ]
  },
  {
   "cell_type": "code",
   "execution_count": 69,
   "metadata": {},
   "outputs": [
    {
     "name": "stdout",
     "output_type": "stream",
     "text": [
      "Average dist: 46.13491246443468\n",
      "Max dist: 400.1849541364178\n",
      "Sum dist: 1904823356.3411522\n"
     ]
    }
   ],
   "source": [
    "mean_dist = []\n",
    "max_dist = []\n",
    "sum_dist = []\n",
    "for key, value in dist_matrix.items():\n",
    "    mean_dist.append(value.mean())\n",
    "    max_dist.append(value.max())\n",
    "    sum_dist.append(value.sum())\n",
    "print(f'Average dist: {np.mean(mean_dist)}')\n",
    "print(f'Max dist: {np.max(max_dist)}')\n",
    "print(f'Sum dist: {np.sum(sum_dist)}')"
   ]
  },
  {
   "cell_type": "code",
   "execution_count": 70,
   "metadata": {},
   "outputs": [
    {
     "name": "stdout",
     "output_type": "stream",
     "text": [
      "Average dist: 58.16006761415797\n",
      "Max dist: 442.4768146250849\n",
      "Sum dist: 8515135066.7584305\n"
     ]
    }
   ],
   "source": [
    "mean_dist_prov = []\n",
    "max_dist_prov = []\n",
    "sum_dist_prov = []\n",
    "for key, value in dist_matrix_prov.items():\n",
    "    mean_dist_prov.append(value.mean())\n",
    "    max_dist_prov.append(value.max())\n",
    "    sum_dist_prov.append(value.sum())\n",
    "print(f'Average dist: {np.mean(mean_dist_prov)}')\n",
    "print(f'Max dist: {np.max(max_dist_prov)}')\n",
    "print(f'Sum dist: {np.sum(sum_dist_prov)}')"
   ]
  },
  {
   "cell_type": "code",
   "execution_count": 72,
   "metadata": {},
   "outputs": [
    {
     "name": "stdout",
     "output_type": "stream",
     "text": [
      "Average diff: 26.065195547934465 %\n",
      "Max diff: 10.56807859754027 %\n",
      "Sum diff: 347.0301688821468 %\n"
     ]
    }
   ],
   "source": [
    "print(f'Average diff: {(np.mean(mean_dist_prov) - np.mean(mean_dist)) / np.mean(mean_dist) * 100} %')\n",
    "print(f'Max diff: {(np.max(max_dist_prov) - np.max(max_dist)) / np.max(max_dist) * 100} %')\n",
    "print(f'Sum diff: {(np.sum(sum_dist_prov) - np.sum(sum_dist)) / np.sum(sum_dist) * 100} %')"
   ]
  },
  {
   "cell_type": "code",
   "execution_count": null,
   "metadata": {},
   "outputs": [],
   "source": []
  }
 ],
 "metadata": {
  "kernelspec": {
   "display_name": "Python 3",
   "language": "python",
   "name": "python3"
  },
  "language_info": {
   "codemirror_mode": {
    "name": "ipython",
    "version": 3
   },
   "file_extension": ".py",
   "mimetype": "text/x-python",
   "name": "python",
   "nbconvert_exporter": "python",
   "pygments_lexer": "ipython3",
   "version": "3.7.3"
  }
 },
 "nbformat": 4,
 "nbformat_minor": 4
}
